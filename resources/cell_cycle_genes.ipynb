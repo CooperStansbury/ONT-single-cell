{
 "cells": [
  {
   "cell_type": "code",
   "execution_count": 12,
   "id": "5dbc446f-c7cc-4e71-98cf-c96d39aa9950",
   "metadata": {},
   "outputs": [],
   "source": [
    "import pyreadr\n",
    "import pandas as pd"
   ]
  },
  {
   "cell_type": "code",
   "execution_count": 14,
   "id": "5ccc7d8c-a922-4fee-92fc-6c79aab2d388",
   "metadata": {},
   "outputs": [
    {
     "name": "stdout",
     "output_type": "stream",
     "text": [
      "   S Phase Genes G2/M Phase Genes\n",
      "0           MCM5            HMGB2\n",
      "1           PCNA             CDK1\n",
      "2           TYMS           NUSAP1\n",
      "3           FEN1            UBE2C\n",
      "4           MCM7            BIRC5\n",
      "5           MCM4             TPX2\n",
      "6           RRM1            TOP2A\n",
      "7            UNG            NDC80\n",
      "8          GINS2             CKS2\n",
      "9           MCM6             NUF2\n",
      "10         CDCA7            CKS1B\n",
      "11           DTL            MKI67\n",
      "12         PRIM1             TMPO\n",
      "13         UHRF1            CENPF\n",
      "14         CENPU            TACC3\n",
      "15         HELLS           PIMREG\n",
      "16          RFC2             SMC4\n",
      "17        POLR1B            CCNB2\n",
      "18          NASP           CKAP2L\n",
      "19      RAD51AP1            CKAP2\n",
      "20          GMNN            AURKB\n",
      "21         WDR76             BUB1\n",
      "22          SLBP            KIF11\n",
      "23         CCNE2           ANP32E\n",
      "24          UBR7           TUBB4B\n",
      "25         POLD3            GTSE1\n",
      "26          MSH2           KIF20B\n",
      "27         ATAD2            HJURP\n",
      "28         RAD51            CDCA3\n",
      "29          RRM2             JPT1\n",
      "30         CDC45            CDC20\n",
      "31          CDC6              TTK\n",
      "32          EXO1           CDC25C\n",
      "33         TIPIN            KIF2C\n",
      "34         DSCC1          RANGAP1\n",
      "35           BLM           NCAPD2\n",
      "36      CASP8AP2           DLGAP5\n",
      "37          USP1            CDCA2\n",
      "38         CLSPN            CDCA8\n",
      "39         POLA1             ECT2\n",
      "40        CHAF1B            KIF23\n",
      "41        MRPL36             HMMR\n",
      "42          E2F8            AURKA\n",
      "43                          PSRC1\n",
      "44                           ANLN\n",
      "45                            LBR\n",
      "46                          CKAP5\n",
      "47                          CENPE\n",
      "48                           CTCF\n",
      "49                           NEK2\n",
      "50                           G2E3\n",
      "51                         GAS2L3\n",
      "52                           CBX5\n",
      "53                          CENPA\n"
     ]
    }
   ],
   "source": [
    "\"\"\"Genes pulled from cc.genes.updated.2019.rda\"\"\"\n",
    "\n",
    "s_genes = [\"MCM5\", \"PCNA\", \"TYMS\", \"FEN1\", \"MCM7\", \"MCM4\", \"RRM1\", \"UNG\", \"GINS2\", \"MCM6\", \"CDCA7\", \"DTL\", \"PRIM1\", \"UHRF1\", \"CENPU\", \"HELLS\", \"RFC2\", \"POLR1B\", \"NASP\", \"RAD51AP1\", \"GMNN\", \"WDR76\", \"SLBP\", \"CCNE2\", \"UBR7\", \"POLD3\", \"MSH2\", \"ATAD2\", \"RAD51\", \"RRM2\", \"CDC45\", \"CDC6\", \"EXO1\", \"TIPIN\", \"DSCC1\", \"BLM\", \"CASP8AP2\", \"USP1\", \"CLSPN\", \"POLA1\", \"CHAF1B\", \"MRPL36\", \"E2F8\"]\n",
    "\n",
    "g2m_genes = [\"HMGB2\", \"CDK1\", \"NUSAP1\", \"UBE2C\", \"BIRC5\", \"TPX2\", \"TOP2A\", \"NDC80\", \"CKS2\", \"NUF2\", \"CKS1B\", \"MKI67\", \"TMPO\", \"CENPF\", \"TACC3\", \"PIMREG\", \"SMC4\", \"CCNB2\", \"CKAP2L\", \"CKAP2\", \"AURKB\", \"BUB1\", \"KIF11\", \"ANP32E\", \"TUBB4B\", \"GTSE1\", \"KIF20B\", \"HJURP\", \"CDCA3\", \"JPT1\", \"CDC20\", \"TTK\", \"CDC25C\", \"KIF2C\", \"RANGAP1\", \"NCAPD2\", \"DLGAP5\", \"CDCA2\", \"CDCA8\", \"ECT2\", \"KIF23\", \"HMMR\", \"AURKA\", \"PSRC1\", \"ANLN\", \"LBR\", \"CKAP5\", \"CENPE\", \"CTCF\", \"NEK2\", \"G2E3\", \"GAS2L3\", \"CBX5\", \"CENPA\"]\n",
    "\n",
    "df = pd.DataFrame({\n",
    "    \"S Phase Genes\": s_genes + [\"\"] * (len(g2m_genes) - len(s_genes)),  # Add empty strings for alignment\n",
    "    \"G2/M Phase Genes\": g2m_genes\n",
    "})\n",
    "\n",
    "outpath = \"cell_cycle_genes.csv\"\n",
    "df.to_csv(outpath, index=False)\n",
    "print(df)\n"
   ]
  },
  {
   "cell_type": "code",
   "execution_count": null,
   "id": "54939635-1115-4fb7-88f9-bff9a6b3a5fd",
   "metadata": {},
   "outputs": [],
   "source": []
  },
  {
   "cell_type": "code",
   "execution_count": null,
   "id": "2ccbebe4-c91e-490b-947e-352f909bdebe",
   "metadata": {},
   "outputs": [],
   "source": []
  },
  {
   "cell_type": "code",
   "execution_count": null,
   "id": "48ede171-f201-4627-bad4-2845eec31945",
   "metadata": {},
   "outputs": [],
   "source": []
  }
 ],
 "metadata": {
  "kernelspec": {
   "display_name": "bioinf",
   "language": "python",
   "name": "bioinf"
  },
  "language_info": {
   "codemirror_mode": {
    "name": "ipython",
    "version": 3
   },
   "file_extension": ".py",
   "mimetype": "text/x-python",
   "name": "python",
   "nbconvert_exporter": "python",
   "pygments_lexer": "ipython3",
   "version": "3.10.14"
  }
 },
 "nbformat": 4,
 "nbformat_minor": 5
}
