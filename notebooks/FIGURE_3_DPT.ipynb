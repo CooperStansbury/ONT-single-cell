{
 "cells": [
  {
   "cell_type": "code",
   "execution_count": 1,
   "id": "45cdbc1a-5aa6-4c3a-8beb-c4acab294138",
   "metadata": {},
   "outputs": [],
   "source": [
    "import sys\n",
    "import pandas as pd\n",
    "import numpy as np\n",
    "import matplotlib.pyplot as plt\n",
    "from mpl_toolkits.axes_grid1 import make_axes_locatable, axes_size\n",
    "from matplotlib.transforms import Bbox\n",
    "from matplotlib.transforms import Affine2D\n",
    "from matplotlib.collections import QuadMesh\n",
    "import seaborn as sns\n",
    "import scanpy as sc\n",
    "import scanpy.external as sce\n",
    "import scipy\n",
    "from scipy.spatial.distance import cdist, pdist, squareform\n",
    "from scipy.sparse import csr_matrix\n",
    "import sklearn\n",
    "from importlib import reload\n",
    "\n",
    "# locals\n",
    "import plotting as plt2\n",
    "\n",
    "sc.settings.verbosity = 3  "
   ]
  },
  {
   "cell_type": "code",
   "execution_count": 2,
   "id": "ecb3efa9-17f1-45d6-aa5a-ab2d154a5c98",
   "metadata": {},
   "outputs": [
    {
     "name": "stdout",
     "output_type": "stream",
     "text": [
      "Memory usage: current 4.25 GB, difference +4.25 GB\n",
      "Memory usage: current 4.25 GB, difference +0.00 GB\n"
     ]
    },
    {
     "data": {
      "text/plain": [
       "AnnData object with n_obs × n_vars = 166703 × 19311\n",
       "    obs: 'n_genes', 'doublet_score', 'predicted_doublet', 'n_genes_by_counts', 'total_counts', 'total_counts_mt', 'pct_counts_mt', 'n_counts', 'cell_type', 'Barcode', 'Library', 'dataset', 'organ_tissue', 'method', 'donor', 'anatomical_information', 'n_counts_UMIs', 'cell_ontology_class', 'free_annotation', 'manually_annotated', 'compartment', 'gender', 'celltype', 'record_id', 'cell_id', 'nCount_RNA', 'nFeature_RNA', 'nCount_ATAC', 'nFeature_ATAC', 'nCount_SCT', 'nFeature_SCT', 'SCT.weight', 'ATAC.weight', 'seurat_clusters', 'STD.CellType', 'STD_Cat', 'STD_Cat2', 'Sample', 'HLF', 'CRHBP', 'CD34', 'MitoCoverage', 'ClonalGroup', 'Sig.HSC1', 'Sig.Prog1', 'Sig.EarlyE1', 'Sig.LateE1', 'Sig.ProMono1', 'Sig.Mono1', 'Sig.ncMono1', 'Sig.cDC1', 'Sig.pDC1', 'Sig.ProB1', 'Sig.PreB1', 'Sig.B1', 'Sig.Plasma1', 'Sig.T1', 'Sig.CTL1', 'Sig.NK1', 'meanCov', 'ClonalGroup.Prob', 'wsnn_res.0.8', 'Origin.Seurat'\n",
       "    var: 'gene_name', 'ensemble_id'"
      ]
     },
     "execution_count": 2,
     "metadata": {},
     "output_type": "execute_result"
    }
   ],
   "source": [
    "fpath = \"/scratch/indikar_root/indikar1/cstansbu/HSC/geneformer_adata/merged.anndata.h5ad\"\n",
    "\n",
    "adata = sc.read_h5ad(fpath)\n",
    "sc.logging.print_memory_usage()\n",
    "adata.X = csr_matrix(adata.X) \n",
    "sc.logging.print_memory_usage()\n",
    "\n",
    "adata"
   ]
  },
  {
   "cell_type": "code",
   "execution_count": 3,
   "id": "0aa200ce-f4a1-4bd7-935f-c1787a7a8f19",
   "metadata": {},
   "outputs": [
    {
     "data": {
      "text/plain": [
       "cell_type\n",
       "FB                        26586\n",
       "CD4                       11925\n",
       "HSC                       11863\n",
       "EryP                      10788\n",
       "MPP                        9553\n",
       "Refined.HSC                9194\n",
       "iHSC                       8574\n",
       "CD8                        8376\n",
       "MEP                        7593\n",
       "Mono                       7251\n",
       "ProB                       6862\n",
       "LinNegCD34PosCD164Pos      6343\n",
       "GMP                        4984\n",
       "LinNegCD34NegCD164high     4434\n",
       "MDP                        4273\n",
       "LinNegCD34lowCD164high     4266\n",
       "NK                         4246\n",
       "MKP                        4058\n",
       "CLP                        3702\n",
       "B                          3466\n",
       "CMP                        2931\n",
       "pDC                        1882\n",
       "cDC                         936\n",
       "LMPP                        817\n",
       "Plasma                      727\n",
       "PreBNK                      592\n",
       "LinNegCD34NegCD164low       358\n",
       "MLP                         123\n",
       "Name: count, dtype: int64"
      ]
     },
     "execution_count": 3,
     "metadata": {},
     "output_type": "execute_result"
    }
   ],
   "source": [
    "adata.obs['cell_type'].value_counts()"
   ]
  },
  {
   "cell_type": "code",
   "execution_count": 4,
   "id": "396d80f1-aa2c-4dc6-86f3-27d6f72b4dff",
   "metadata": {},
   "outputs": [
    {
     "data": {
      "text/plain": [
       "cell_type_standard\n",
       "B_cell            11055\n",
       "CLP                3702\n",
       "CMP                2931\n",
       "Dendritic_cell     2818\n",
       "EryP              10788\n",
       "Fib               26586\n",
       "GMP                4984\n",
       "HSC               21057\n",
       "LMPP                817\n",
       "LinNeg            15401\n",
       "MDP                4273\n",
       "MEP                7593\n",
       "MKP                4058\n",
       "MLP                 123\n",
       "MPP                9553\n",
       "Mono               7251\n",
       "NK                 4246\n",
       "PreBNK              592\n",
       "T_cell            20301\n",
       "iHSC               8574\n",
       "Name: count, dtype: int64"
      ]
     },
     "execution_count": 4,
     "metadata": {},
     "output_type": "execute_result"
    }
   ],
   "source": [
    "cell_type_map = {\n",
    "    'B': 'B_cell',\n",
    "    'CD4': 'T_cell',\n",
    "    'CD8': 'T_cell',\n",
    "    'CLP': 'CLP',\n",
    "    'CMP': 'CMP',\n",
    "    'EryP': 'EryP',\n",
    "    'FB': 'Fib',\n",
    "    'GMP': 'GMP',\n",
    "    'HSC': 'HSC',\n",
    "    'LMPP': 'LMPP',\n",
    "    'LinNegCD34NegCD164high': 'LinNeg',\n",
    "    'LinNegCD34NegCD164low': 'LinNeg',\n",
    "    'LinNegCD34PosCD164Pos': 'LinNeg',\n",
    "    'LinNegCD34lowCD164high': 'LinNeg',\n",
    "    'MDP': 'MDP',\n",
    "    'MEP': 'MEP',\n",
    "    'MKP': 'MKP',\n",
    "    'MLP': 'MLP',\n",
    "    'MPP': 'MPP',\n",
    "    'Mono': 'Mono',\n",
    "    'NK': 'NK',\n",
    "    'Plasma': 'B_cell',\n",
    "    'PreBNK': 'PreBNK',\n",
    "    'ProB': 'B_cell',\n",
    "    'Refined.HSC': 'HSC',\n",
    "    'cDC': 'Dendritic_cell',\n",
    "    'iHSC': 'iHSC',\n",
    "    'pDC': 'Dendritic_cell',\n",
    "}\n",
    "\n",
    "adata.obs['cell_type_standard'] = adata.obs['cell_type'].map(cell_type_map)\n",
    "adata.obs['cell_type_standard'].value_counts().sort_index()"
   ]
  },
  {
   "cell_type": "code",
   "execution_count": 5,
   "id": "26687617-8fee-49a6-a59c-fd4fa9a1914b",
   "metadata": {},
   "outputs": [
    {
     "name": "stdout",
     "output_type": "stream",
     "text": [
      "filtered out 1203 genes that are detected in less than 100 cells\n",
      "extracting highly variable genes\n",
      "--> added\n",
      "    'highly_variable', boolean vector (adata.var)\n",
      "    'highly_variable_rank', float vector (adata.var)\n",
      "    'means', float vector (adata.var)\n",
      "    'variances', float vector (adata.var)\n",
      "    'variances_norm', float vector (adata.var)\n",
      "selected_genes.shape=(18108, 8)\n",
      "Number highly variable genes: 5000\n"
     ]
    },
    {
     "data": {
      "text/html": [
       "<div>\n",
       "<style scoped>\n",
       "    .dataframe tbody tr th:only-of-type {\n",
       "        vertical-align: middle;\n",
       "    }\n",
       "\n",
       "    .dataframe tbody tr th {\n",
       "        vertical-align: top;\n",
       "    }\n",
       "\n",
       "    .dataframe thead th {\n",
       "        text-align: right;\n",
       "    }\n",
       "</style>\n",
       "<table border=\"1\" class=\"dataframe\">\n",
       "  <thead>\n",
       "    <tr style=\"text-align: right;\">\n",
       "      <th></th>\n",
       "      <th>gene_name</th>\n",
       "      <th>ensemble_id</th>\n",
       "      <th>highly_variable</th>\n",
       "      <th>highly_variable_rank</th>\n",
       "      <th>means</th>\n",
       "      <th>variances</th>\n",
       "      <th>variances_norm</th>\n",
       "      <th>highly_variable_nbatches</th>\n",
       "    </tr>\n",
       "    <tr>\n",
       "      <th>gene_name</th>\n",
       "      <th></th>\n",
       "      <th></th>\n",
       "      <th></th>\n",
       "      <th></th>\n",
       "      <th></th>\n",
       "      <th></th>\n",
       "      <th></th>\n",
       "      <th></th>\n",
       "    </tr>\n",
       "  </thead>\n",
       "  <tbody>\n",
       "    <tr>\n",
       "      <th>A1BG</th>\n",
       "      <td>A1BG</td>\n",
       "      <td>ENSG00000121410</td>\n",
       "      <td>True</td>\n",
       "      <td>602.0</td>\n",
       "      <td>0.046814</td>\n",
       "      <td>0.098671</td>\n",
       "      <td>0.909736</td>\n",
       "      <td>1</td>\n",
       "    </tr>\n",
       "    <tr>\n",
       "      <th>A2M</th>\n",
       "      <td>A2M</td>\n",
       "      <td>ENSG00000175899</td>\n",
       "      <td>True</td>\n",
       "      <td>1363.5</td>\n",
       "      <td>2.903289</td>\n",
       "      <td>46604.678173</td>\n",
       "      <td>1.566125</td>\n",
       "      <td>8</td>\n",
       "    </tr>\n",
       "    <tr>\n",
       "      <th>A2ML1</th>\n",
       "      <td>A2ML1</td>\n",
       "      <td>ENSG00000166535</td>\n",
       "      <td>False</td>\n",
       "      <td>2698.5</td>\n",
       "      <td>0.038596</td>\n",
       "      <td>1.061809</td>\n",
       "      <td>1.070525</td>\n",
       "      <td>4</td>\n",
       "    </tr>\n",
       "    <tr>\n",
       "      <th>A3GALT2</th>\n",
       "      <td>A3GALT2</td>\n",
       "      <td>ENSG00000184389</td>\n",
       "      <td>True</td>\n",
       "      <td>1880.0</td>\n",
       "      <td>0.009802</td>\n",
       "      <td>0.011709</td>\n",
       "      <td>0.818573</td>\n",
       "      <td>1</td>\n",
       "    </tr>\n",
       "    <tr>\n",
       "      <th>A4GALT</th>\n",
       "      <td>A4GALT</td>\n",
       "      <td>ENSG00000128274</td>\n",
       "      <td>False</td>\n",
       "      <td>2490.5</td>\n",
       "      <td>0.179235</td>\n",
       "      <td>31.156865</td>\n",
       "      <td>0.826409</td>\n",
       "      <td>6</td>\n",
       "    </tr>\n",
       "  </tbody>\n",
       "</table>\n",
       "</div>"
      ],
      "text/plain": [
       "          gene_name      ensemble_id  highly_variable  highly_variable_rank  \\\n",
       "gene_name                                                                     \n",
       "A1BG           A1BG  ENSG00000121410             True                 602.0   \n",
       "A2M             A2M  ENSG00000175899             True                1363.5   \n",
       "A2ML1         A2ML1  ENSG00000166535            False                2698.5   \n",
       "A3GALT2     A3GALT2  ENSG00000184389             True                1880.0   \n",
       "A4GALT       A4GALT  ENSG00000128274            False                2490.5   \n",
       "\n",
       "              means     variances  variances_norm  highly_variable_nbatches  \n",
       "gene_name                                                                    \n",
       "A1BG       0.046814      0.098671        0.909736                         1  \n",
       "A2M        2.903289  46604.678173        1.566125                         8  \n",
       "A2ML1      0.038596      1.061809        1.070525                         4  \n",
       "A3GALT2    0.009802      0.011709        0.818573                         1  \n",
       "A4GALT     0.179235     31.156865        0.826409                         6  "
      ]
     },
     "execution_count": 5,
     "metadata": {},
     "output_type": "execute_result"
    }
   ],
   "source": [
    "gene_mask, counts = sc.pp.filter_genes(\n",
    "    adata, \n",
    "    min_cells=100, \n",
    "    inplace=False,\n",
    ")\n",
    "\n",
    "sc.pp.highly_variable_genes(\n",
    "    adata,\n",
    "    n_top_genes=5000,\n",
    "    batch_key='dataset',\n",
    "    flavor='seurat_v3',\n",
    ")\n",
    "\n",
    "selected_genes = adata.var[gene_mask]\n",
    "print(f\"{selected_genes.shape=}\")\n",
    "\n",
    "print(f\"Number highly variable genes: {adata.var['highly_variable'].sum()}\")\n",
    "\n",
    "selected_genes.head()"
   ]
  },
  {
   "cell_type": "code",
   "execution_count": 6,
   "id": "f652833f-f578-43b9-ab50-73a9563f2d75",
   "metadata": {},
   "outputs": [
    {
     "name": "stdout",
     "output_type": "stream",
     "text": [
      "normalizing counts per cell\n",
      "    finished (0:00:03)\n",
      "Memory usage: current 4.32 GB, difference +0.07 GB\n"
     ]
    },
    {
     "data": {
      "text/plain": [
       "AnnData object with n_obs × n_vars = 166703 × 19311\n",
       "    obs: 'n_genes', 'doublet_score', 'predicted_doublet', 'n_genes_by_counts', 'total_counts', 'total_counts_mt', 'pct_counts_mt', 'n_counts', 'cell_type', 'Barcode', 'Library', 'dataset', 'organ_tissue', 'method', 'donor', 'anatomical_information', 'n_counts_UMIs', 'cell_ontology_class', 'free_annotation', 'manually_annotated', 'compartment', 'gender', 'celltype', 'record_id', 'cell_id', 'nCount_RNA', 'nFeature_RNA', 'nCount_ATAC', 'nFeature_ATAC', 'nCount_SCT', 'nFeature_SCT', 'SCT.weight', 'ATAC.weight', 'seurat_clusters', 'STD.CellType', 'STD_Cat', 'STD_Cat2', 'Sample', 'HLF', 'CRHBP', 'CD34', 'MitoCoverage', 'ClonalGroup', 'Sig.HSC1', 'Sig.Prog1', 'Sig.EarlyE1', 'Sig.LateE1', 'Sig.ProMono1', 'Sig.Mono1', 'Sig.ncMono1', 'Sig.cDC1', 'Sig.pDC1', 'Sig.ProB1', 'Sig.PreB1', 'Sig.B1', 'Sig.Plasma1', 'Sig.T1', 'Sig.CTL1', 'Sig.NK1', 'meanCov', 'ClonalGroup.Prob', 'wsnn_res.0.8', 'Origin.Seurat', 'cell_type_standard'\n",
       "    var: 'gene_name', 'ensemble_id', 'highly_variable', 'highly_variable_rank', 'means', 'variances', 'variances_norm', 'highly_variable_nbatches'\n",
       "    uns: 'hvg', 'log1p'"
      ]
     },
     "execution_count": 6,
     "metadata": {},
     "output_type": "execute_result"
    }
   ],
   "source": [
    "target_sum = 1e6\n",
    "sc.pp.normalize_total(adata, target_sum=target_sum)\n",
    "sc.pp.log1p(adata) \n",
    "\n",
    "sc.logging.print_memory_usage()\n",
    "\n",
    "adata"
   ]
  },
  {
   "cell_type": "code",
   "execution_count": 7,
   "id": "a98a9eb9-d994-499a-88d4-984a804ef6e2",
   "metadata": {},
   "outputs": [
    {
     "name": "stdout",
     "output_type": "stream",
     "text": [
      "Memory usage: current 4.27 GB, difference -0.05 GB\n"
     ]
    },
    {
     "data": {
      "text/plain": [
       "AnnData object with n_obs × n_vars = 166703 × 19311\n",
       "    obs: 'n_genes', 'doublet_score', 'predicted_doublet', 'n_genes_by_counts', 'total_counts', 'total_counts_mt', 'pct_counts_mt', 'n_counts', 'cell_type', 'dataset', 'organ_tissue', 'cell_ontology_class', 'free_annotation', 'compartment', 'celltype', 'cell_type_standard'\n",
       "    var: 'gene_name', 'ensemble_id', 'highly_variable', 'highly_variable_rank', 'means', 'variances', 'variances_norm', 'highly_variable_nbatches'\n",
       "    uns: 'hvg', 'log1p'"
      ]
     },
     "execution_count": 7,
     "metadata": {},
     "output_type": "execute_result"
    }
   ],
   "source": [
    "columns_to_drop = [\n",
    "    'Barcode',\n",
    "    'Library',\n",
    "    'method',\n",
    "    'donor',\n",
    "    'anatomical_information', \n",
    "    'n_counts_UMIs',\n",
    "    'manually_annotated',\n",
    "    'gender', \n",
    "    'record_id', \n",
    "    'cell_id',\n",
    "    'nCount_RNA', \n",
    "    'nFeature_RNA', \n",
    "    'nCount_ATAC', \n",
    "    'nFeature_ATAC',\n",
    "    'nCount_SCT',\n",
    "    'nFeature_SCT',\n",
    "    'SCT.weight', \n",
    "    'ATAC.weight',\n",
    "    'seurat_clusters', \n",
    "    'STD.CellType', \n",
    "    'STD_Cat', \n",
    "    'STD_Cat2',\n",
    "    'Sample',\n",
    "    'HLF',\n",
    "    'CRHBP',\n",
    "    'CD34', \n",
    "    'MitoCoverage', \n",
    "    'ClonalGroup', \n",
    "    'Sig.HSC1',\n",
    "    'Sig.Prog1', \n",
    "    'Sig.EarlyE1',\n",
    "    'Sig.LateE1',\n",
    "    'Sig.ProMono1',\n",
    "    'Sig.Mono1',\n",
    "    'Sig.ncMono1', \n",
    "    'Sig.cDC1', \n",
    "    'Sig.pDC1',\n",
    "    'Sig.ProB1',\n",
    "    'Sig.PreB1',\n",
    "    'Sig.B1',\n",
    "    'Sig.Plasma1',\n",
    "    'Sig.T1',\n",
    "    'Sig.CTL1', \n",
    "    'Sig.NK1',\n",
    "    'meanCov',\n",
    "    'ClonalGroup.Prob', \n",
    "    'wsnn_res.0.8',\n",
    "    'Origin.Seurat',\n",
    "    \n",
    "]\n",
    "\n",
    "adata.obs = adata.obs.drop(columns=columns_to_drop)\n",
    "\n",
    "sc.logging.print_memory_usage()\n",
    "\n",
    "adata"
   ]
  },
  {
   "cell_type": "code",
   "execution_count": 8,
   "id": "18b5c366-adc8-4188-ab8a-e1ab98425408",
   "metadata": {},
   "outputs": [
    {
     "data": {
      "text/plain": [
       "AnnData object with n_obs × n_vars = 166703 × 19311\n",
       "    obs: 'n_genes', 'doublet_score', 'predicted_doublet', 'n_genes_by_counts', 'total_counts', 'total_counts_mt', 'pct_counts_mt', 'n_counts', 'cell_type', 'dataset', 'organ_tissue', 'cell_ontology_class', 'free_annotation', 'compartment', 'celltype', 'cell_type_standard'\n",
       "    var: 'gene_name', 'ensemble_id', 'highly_variable', 'highly_variable_rank', 'means', 'variances', 'variances_norm', 'highly_variable_nbatches'\n",
       "    uns: 'hvg', 'log1p'"
      ]
     },
     "execution_count": 8,
     "metadata": {},
     "output_type": "execute_result"
    }
   ],
   "source": [
    "outpath = \"/scratch/indikar_root/indikar1/cstansbu/HSC/psuedotime/clean_data.h5ad\"\n",
    "adata.write(outpath)\n",
    "adata"
   ]
  },
  {
   "cell_type": "code",
   "execution_count": 9,
   "id": "cc9550b1-6b00-47a9-95bf-7a2f4c92d516",
   "metadata": {},
   "outputs": [
    {
     "ename": "SyntaxError",
     "evalue": "'break' outside loop (668683560.py, line 1)",
     "output_type": "error",
     "traceback": [
      "\u001b[0;36m  Cell \u001b[0;32mIn[9], line 1\u001b[0;36m\u001b[0m\n\u001b[0;31m    break\u001b[0m\n\u001b[0m    ^\u001b[0m\n\u001b[0;31mSyntaxError\u001b[0m\u001b[0;31m:\u001b[0m 'break' outside loop\n"
     ]
    }
   ],
   "source": [
    "break"
   ]
  },
  {
   "cell_type": "code",
   "execution_count": null,
   "id": "ee5da3a0-14ec-45fe-899f-bda69fe865a7",
   "metadata": {},
   "outputs": [],
   "source": []
  },
  {
   "cell_type": "code",
   "execution_count": null,
   "id": "c1bb9021-5dc4-4759-bac6-16056bbddad0",
   "metadata": {},
   "outputs": [],
   "source": []
  },
  {
   "cell_type": "code",
   "execution_count": null,
   "id": "740ac668-c406-43f7-a378-c47cd08bc4b4",
   "metadata": {},
   "outputs": [],
   "source": []
  },
  {
   "cell_type": "code",
   "execution_count": null,
   "id": "b6fc90ca-0449-4770-bc9f-51c665bb5ff3",
   "metadata": {},
   "outputs": [],
   "source": []
  },
  {
   "cell_type": "markdown",
   "id": "26e791f1-9d9e-4b89-9e15-3703866f183a",
   "metadata": {},
   "source": [
    "# Magic"
   ]
  },
  {
   "cell_type": "code",
   "execution_count": null,
   "id": "16d1808e-5d86-4ca2-9ad8-9bdfa1717c0c",
   "metadata": {},
   "outputs": [],
   "source": [
    "gene_list = adata.var[adata.var['highly_variable']].index.to_list()\n",
    "\n",
    "# sce.pp.magic(\n",
    "#     adata, \n",
    "#     name_list='highly_variable', \n",
    "#     solver='approximate',\n",
    "#     n_pca=100,\n",
    "#     knn=5,\n",
    "# )\n",
    "\n",
    "# adata"
   ]
  },
  {
   "cell_type": "code",
   "execution_count": null,
   "id": "45ebc7aa-0941-49ab-b357-ebb45c032cf6",
   "metadata": {},
   "outputs": [],
   "source": [
    "break"
   ]
  },
  {
   "cell_type": "code",
   "execution_count": null,
   "id": "ae128092-e66b-4806-a903-dc5471f604d6",
   "metadata": {},
   "outputs": [],
   "source": [
    "# get the closest cells to the HSC centroid\n",
    "\n",
    "hsc_data = adata[adata.obs['cell_type'] == 'HSC', :]\n",
    "X = hsc_data.obsm['X_pca']\n",
    "centroid = X.mean(axis=0)\n",
    "print(f\"{X.shape=} {centroid.shape=}\")\n",
    "\n",
    "# Calculate Distances (using cdist for efficiency)\n",
    "distances = cdist(X, [centroid], metric='euclidean')  # Euclidean distance\n",
    "\n",
    "# Rank Rows (Ascending: closest first)\n",
    "ranked_indices = np.argsort(distances, axis=0).flatten()\n",
    "hsc_data.obs.iloc[ranked_indices].head(10)"
   ]
  },
  {
   "cell_type": "code",
   "execution_count": null,
   "id": "bb14c314-576b-4e64-b860-3e225d011bf2",
   "metadata": {},
   "outputs": [],
   "source": [
    "center_cell = \"CCGTTTGGTGATGAAA-3_young2_HSC\"\n",
    "adata.uns['iroot'] = np.flatnonzero(adata.obs.loc[center_cell])[0]\n",
    "\n",
    "components = 7\n",
    "\n",
    "sc.tl.diffmap(\n",
    "    adata,  \n",
    "    n_comps=components,\n",
    ")\n",
    "sc.tl.dpt(\n",
    "    adata, \n",
    "    n_dcs=components-1, \n",
    "    n_branchings=4,\n",
    ")"
   ]
  },
  {
   "cell_type": "code",
   "execution_count": null,
   "id": "ba10b1f1-05d4-4e3f-be24-5313c8e3e210",
   "metadata": {},
   "outputs": [],
   "source": [
    "plt.rcParams['figure.dpi'] = 300\n",
    "plt.rcParams['figure.figsize'] = 5, 5\n",
    "\n",
    "plt2.plot_umap_scatter(\n",
    "    adata, \n",
    "    s=8, \n",
    "    alpha=0.9, \n",
    "    ec='none',\n",
    "    cmap='inferno',\n",
    "    vmin=0,\n",
    "    vmax=0.075,\n",
    "    # colorbar=False,\n",
    "    color='dpt_pseudotime',\n",
    ")"
   ]
  },
  {
   "cell_type": "code",
   "execution_count": null,
   "id": "f886b76c-b7e9-4658-9b54-2b90c1161b50",
   "metadata": {},
   "outputs": [],
   "source": [
    "sns.boxplot(\n",
    "    data=adata.obs,\n",
    "    x='cell_type',\n",
    "    y='dpt_pseudotime',\n",
    "    showfliers=False,\n",
    ")\n",
    "\n",
    "plt.gca().tick_params(axis='x', rotation=90)\n",
    "\n",
    "adata"
   ]
  },
  {
   "cell_type": "code",
   "execution_count": null,
   "id": "be151ec4-5416-426e-aa5e-2ee6a2009389",
   "metadata": {},
   "outputs": [],
   "source": []
  }
 ],
 "metadata": {
  "kernelspec": {
   "display_name": "scanpy",
   "language": "python",
   "name": "scanpy"
  },
  "language_info": {
   "codemirror_mode": {
    "name": "ipython",
    "version": 3
   },
   "file_extension": ".py",
   "mimetype": "text/x-python",
   "name": "python",
   "nbconvert_exporter": "python",
   "pygments_lexer": "ipython3",
   "version": "3.12.5"
  }
 },
 "nbformat": 4,
 "nbformat_minor": 5
}
