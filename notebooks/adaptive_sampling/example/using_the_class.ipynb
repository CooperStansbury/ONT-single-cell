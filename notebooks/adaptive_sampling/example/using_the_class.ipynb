{
 "cells": [
  {
   "cell_type": "code",
   "execution_count": 1,
   "id": "44a1e96c-3838-4e52-aa3a-1731a6234989",
   "metadata": {},
   "outputs": [],
   "source": [
    "import example_class"
   ]
  },
  {
   "cell_type": "code",
   "execution_count": 3,
   "id": "53a26e8d-f11f-411e-81ae-c557a8a57b93",
   "metadata": {},
   "outputs": [
    {
     "name": "stdout",
     "output_type": "stream",
     "text": [
      "test\n"
     ]
    }
   ],
   "source": [
    "object1 = example_class.TestClass1()\n",
    "print(object1.A)"
   ]
  },
  {
   "cell_type": "code",
   "execution_count": 4,
   "id": "4cea2e43-bd77-4a56-abd9-de29345c31b6",
   "metadata": {},
   "outputs": [
    {
     "name": "stdout",
     "output_type": "stream",
     "text": [
      "something\n"
     ]
    }
   ],
   "source": [
    "object1.print_something()"
   ]
  },
  {
   "cell_type": "code",
   "execution_count": 5,
   "id": "9408dfa1-a9fd-48a7-a4fd-d3361d659a7f",
   "metadata": {},
   "outputs": [],
   "source": [
    "object1.A = 'cooper'"
   ]
  },
  {
   "cell_type": "code",
   "execution_count": 6,
   "id": "5b1ba60c-d24f-4cbf-a8cd-aa156819b661",
   "metadata": {},
   "outputs": [
    {
     "name": "stdout",
     "output_type": "stream",
     "text": [
      "cooper\n"
     ]
    }
   ],
   "source": [
    "print(object1.A)"
   ]
  },
  {
   "cell_type": "code",
   "execution_count": null,
   "id": "4acd20d4-0c8c-41ee-a43e-a1211d7a46db",
   "metadata": {},
   "outputs": [],
   "source": []
  }
 ],
 "metadata": {
  "kernelspec": {
   "display_name": "Python 3 (ipykernel)",
   "language": "python",
   "name": "python3"
  },
  "language_info": {
   "codemirror_mode": {
    "name": "ipython",
    "version": 3
   },
   "file_extension": ".py",
   "mimetype": "text/x-python",
   "name": "python",
   "nbconvert_exporter": "python",
   "pygments_lexer": "ipython3",
   "version": "3.9.7"
  }
 },
 "nbformat": 4,
 "nbformat_minor": 5
}
