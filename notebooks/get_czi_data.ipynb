{
 "cells": [
  {
   "cell_type": "code",
   "execution_count": 1,
   "id": "05d3724d-596d-457a-8e19-0507ac41e23a",
   "metadata": {},
   "outputs": [],
   "source": [
    "import scanpy as sc\n",
    "import cellxgene_census\n",
    "import cellxgene_census.experimental as czi_exp\n",
    "import tiledb\n",
    "import os\n",
    "import time"
   ]
  },
  {
   "cell_type": "code",
   "execution_count": 2,
   "id": "bba37da6-b3c6-4dd3-b1a3-c4ae116b4979",
   "metadata": {},
   "outputs": [
    {
     "name": "stdout",
     "output_type": "stream",
     "text": [
      "HTTP_PROXY: http://proxy1.arc-ts.umich.edu:3128/\n",
      "HTTPS_PROXY: http://proxy1.arc-ts.umich.edu:3128/\n"
     ]
    }
   ],
   "source": [
    "# Verify that the proxy settings are correctly set\n",
    "http_proxy = os.getenv('http_proxy')\n",
    "https_proxy = os.getenv('https_proxy')\n",
    "\n",
    "print(\"HTTP_PROXY: {}\".format(http_proxy))\n",
    "print(\"HTTPS_PROXY: {}\".format(https_proxy))\n",
    "\n",
    "um_proxy = \"proxy1.arc-ts.umich.edu\" ##### this is the setup used below in the open_soma call\n",
    "um_proxy_port = \"3128\"\n",
    "\n",
    "config= {\n",
    "    \"vfs.s3.proxy_host\": um_proxy, \n",
    "    \"vfs.s3.proxy_port\": um_proxy_port,\n",
    "    \"vfs.s3.request_timeout_ms\": 1000000, \n",
    "}"
   ]
  },
  {
   "cell_type": "code",
   "execution_count": 3,
   "id": "4ea438b6-283f-4108-93cd-ba997efaed3a",
   "metadata": {},
   "outputs": [
    {
     "data": {
      "text/plain": [
       "{'release_date': None,\n",
       " 'release_build': '2024-07-01',\n",
       " 'soma': {'uri': 's3://cellxgene-census-public-us-west-2/cell-census/2024-07-01/soma/',\n",
       "  'relative_uri': '/cell-census/2024-07-01/soma/',\n",
       "  's3_region': 'us-west-2'},\n",
       " 'h5ads': {'uri': 's3://cellxgene-census-public-us-west-2/cell-census/2024-07-01/h5ads/',\n",
       "  'relative_uri': '/cell-census/2024-07-01/h5ads/',\n",
       "  's3_region': 'us-west-2'},\n",
       " 'flags': {'lts': True}}"
      ]
     },
     "execution_count": 3,
     "metadata": {},
     "output_type": "execute_result"
    }
   ],
   "source": [
    "cellxgene_census.get_census_version_description('stable')"
   ]
  },
  {
   "cell_type": "markdown",
   "id": "464ec218-9099-4e05-82c3-a9abd408e32b",
   "metadata": {},
   "source": [
    "# Get all cell metadata (obs)"
   ]
  },
  {
   "cell_type": "code",
   "execution_count": 4,
   "id": "3bc4bb47-ec14-4d26-af5f-56f7c9c2aaf3",
   "metadata": {},
   "outputs": [
    {
     "name": "stdout",
     "output_type": "stream",
     "text": [
      "cell_metadata.shape=(74322510, 28)\n"
     ]
    },
    {
     "data": {
      "text/html": [
       "<div>\n",
       "<style scoped>\n",
       "    .dataframe tbody tr th:only-of-type {\n",
       "        vertical-align: middle;\n",
       "    }\n",
       "\n",
       "    .dataframe tbody tr th {\n",
       "        vertical-align: top;\n",
       "    }\n",
       "\n",
       "    .dataframe thead th {\n",
       "        text-align: right;\n",
       "    }\n",
       "</style>\n",
       "<table border=\"1\" class=\"dataframe\">\n",
       "  <thead>\n",
       "    <tr style=\"text-align: right;\">\n",
       "      <th></th>\n",
       "      <th>soma_joinid</th>\n",
       "      <th>dataset_id</th>\n",
       "      <th>assay</th>\n",
       "      <th>assay_ontology_term_id</th>\n",
       "      <th>cell_type</th>\n",
       "      <th>cell_type_ontology_term_id</th>\n",
       "      <th>development_stage</th>\n",
       "      <th>development_stage_ontology_term_id</th>\n",
       "      <th>disease</th>\n",
       "      <th>disease_ontology_term_id</th>\n",
       "      <th>...</th>\n",
       "      <th>tissue</th>\n",
       "      <th>tissue_ontology_term_id</th>\n",
       "      <th>tissue_type</th>\n",
       "      <th>tissue_general</th>\n",
       "      <th>tissue_general_ontology_term_id</th>\n",
       "      <th>raw_sum</th>\n",
       "      <th>nnz</th>\n",
       "      <th>raw_mean_nnz</th>\n",
       "      <th>raw_variance_nnz</th>\n",
       "      <th>n_measured_vars</th>\n",
       "    </tr>\n",
       "  </thead>\n",
       "  <tbody>\n",
       "    <tr>\n",
       "      <th>0</th>\n",
       "      <td>0</td>\n",
       "      <td>0895c838-e550-48a3-a777-dbcd35d30272</td>\n",
       "      <td>10x 3' v2</td>\n",
       "      <td>EFO:0009899</td>\n",
       "      <td>plasma cell</td>\n",
       "      <td>CL:0000786</td>\n",
       "      <td>human adult stage</td>\n",
       "      <td>HsapDv:0000087</td>\n",
       "      <td>normal</td>\n",
       "      <td>PATO:0000461</td>\n",
       "      <td>...</td>\n",
       "      <td>caudate lobe of liver</td>\n",
       "      <td>UBERON:0001117</td>\n",
       "      <td>tissue</td>\n",
       "      <td>liver</td>\n",
       "      <td>UBERON:0002107</td>\n",
       "      <td>1742.0</td>\n",
       "      <td>221</td>\n",
       "      <td>7.882353</td>\n",
       "      <td>6661.549733</td>\n",
       "      <td>13696</td>\n",
       "    </tr>\n",
       "    <tr>\n",
       "      <th>1</th>\n",
       "      <td>1</td>\n",
       "      <td>0895c838-e550-48a3-a777-dbcd35d30272</td>\n",
       "      <td>10x 3' v2</td>\n",
       "      <td>EFO:0009899</td>\n",
       "      <td>mature B cell</td>\n",
       "      <td>CL:0000785</td>\n",
       "      <td>human adult stage</td>\n",
       "      <td>HsapDv:0000087</td>\n",
       "      <td>normal</td>\n",
       "      <td>PATO:0000461</td>\n",
       "      <td>...</td>\n",
       "      <td>caudate lobe of liver</td>\n",
       "      <td>UBERON:0001117</td>\n",
       "      <td>tissue</td>\n",
       "      <td>liver</td>\n",
       "      <td>UBERON:0002107</td>\n",
       "      <td>278.0</td>\n",
       "      <td>143</td>\n",
       "      <td>1.944056</td>\n",
       "      <td>3.616567</td>\n",
       "      <td>13696</td>\n",
       "    </tr>\n",
       "    <tr>\n",
       "      <th>2</th>\n",
       "      <td>2</td>\n",
       "      <td>0895c838-e550-48a3-a777-dbcd35d30272</td>\n",
       "      <td>10x 3' v2</td>\n",
       "      <td>EFO:0009899</td>\n",
       "      <td>plasma cell</td>\n",
       "      <td>CL:0000786</td>\n",
       "      <td>human adult stage</td>\n",
       "      <td>HsapDv:0000087</td>\n",
       "      <td>normal</td>\n",
       "      <td>PATO:0000461</td>\n",
       "      <td>...</td>\n",
       "      <td>caudate lobe of liver</td>\n",
       "      <td>UBERON:0001117</td>\n",
       "      <td>tissue</td>\n",
       "      <td>liver</td>\n",
       "      <td>UBERON:0002107</td>\n",
       "      <td>3723.0</td>\n",
       "      <td>709</td>\n",
       "      <td>5.251058</td>\n",
       "      <td>2959.510327</td>\n",
       "      <td>13696</td>\n",
       "    </tr>\n",
       "    <tr>\n",
       "      <th>3</th>\n",
       "      <td>3</td>\n",
       "      <td>0895c838-e550-48a3-a777-dbcd35d30272</td>\n",
       "      <td>10x 3' v2</td>\n",
       "      <td>EFO:0009899</td>\n",
       "      <td>mature B cell</td>\n",
       "      <td>CL:0000785</td>\n",
       "      <td>human adult stage</td>\n",
       "      <td>HsapDv:0000087</td>\n",
       "      <td>normal</td>\n",
       "      <td>PATO:0000461</td>\n",
       "      <td>...</td>\n",
       "      <td>caudate lobe of liver</td>\n",
       "      <td>UBERON:0001117</td>\n",
       "      <td>tissue</td>\n",
       "      <td>liver</td>\n",
       "      <td>UBERON:0002107</td>\n",
       "      <td>351.0</td>\n",
       "      <td>179</td>\n",
       "      <td>1.960894</td>\n",
       "      <td>8.487226</td>\n",
       "      <td>13696</td>\n",
       "    </tr>\n",
       "    <tr>\n",
       "      <th>4</th>\n",
       "      <td>4</td>\n",
       "      <td>0895c838-e550-48a3-a777-dbcd35d30272</td>\n",
       "      <td>10x 3' v2</td>\n",
       "      <td>EFO:0009899</td>\n",
       "      <td>mature B cell</td>\n",
       "      <td>CL:0000785</td>\n",
       "      <td>human adult stage</td>\n",
       "      <td>HsapDv:0000087</td>\n",
       "      <td>normal</td>\n",
       "      <td>PATO:0000461</td>\n",
       "      <td>...</td>\n",
       "      <td>caudate lobe of liver</td>\n",
       "      <td>UBERON:0001117</td>\n",
       "      <td>tissue</td>\n",
       "      <td>liver</td>\n",
       "      <td>UBERON:0002107</td>\n",
       "      <td>605.0</td>\n",
       "      <td>275</td>\n",
       "      <td>2.200000</td>\n",
       "      <td>18.978102</td>\n",
       "      <td>13696</td>\n",
       "    </tr>\n",
       "  </tbody>\n",
       "</table>\n",
       "<p>5 rows × 28 columns</p>\n",
       "</div>"
      ],
      "text/plain": [
       "   soma_joinid                            dataset_id      assay  \\\n",
       "0            0  0895c838-e550-48a3-a777-dbcd35d30272  10x 3' v2   \n",
       "1            1  0895c838-e550-48a3-a777-dbcd35d30272  10x 3' v2   \n",
       "2            2  0895c838-e550-48a3-a777-dbcd35d30272  10x 3' v2   \n",
       "3            3  0895c838-e550-48a3-a777-dbcd35d30272  10x 3' v2   \n",
       "4            4  0895c838-e550-48a3-a777-dbcd35d30272  10x 3' v2   \n",
       "\n",
       "  assay_ontology_term_id      cell_type cell_type_ontology_term_id  \\\n",
       "0            EFO:0009899    plasma cell                 CL:0000786   \n",
       "1            EFO:0009899  mature B cell                 CL:0000785   \n",
       "2            EFO:0009899    plasma cell                 CL:0000786   \n",
       "3            EFO:0009899  mature B cell                 CL:0000785   \n",
       "4            EFO:0009899  mature B cell                 CL:0000785   \n",
       "\n",
       "   development_stage development_stage_ontology_term_id disease  \\\n",
       "0  human adult stage                     HsapDv:0000087  normal   \n",
       "1  human adult stage                     HsapDv:0000087  normal   \n",
       "2  human adult stage                     HsapDv:0000087  normal   \n",
       "3  human adult stage                     HsapDv:0000087  normal   \n",
       "4  human adult stage                     HsapDv:0000087  normal   \n",
       "\n",
       "  disease_ontology_term_id  ...                 tissue  \\\n",
       "0             PATO:0000461  ...  caudate lobe of liver   \n",
       "1             PATO:0000461  ...  caudate lobe of liver   \n",
       "2             PATO:0000461  ...  caudate lobe of liver   \n",
       "3             PATO:0000461  ...  caudate lobe of liver   \n",
       "4             PATO:0000461  ...  caudate lobe of liver   \n",
       "\n",
       "   tissue_ontology_term_id tissue_type tissue_general  \\\n",
       "0           UBERON:0001117      tissue          liver   \n",
       "1           UBERON:0001117      tissue          liver   \n",
       "2           UBERON:0001117      tissue          liver   \n",
       "3           UBERON:0001117      tissue          liver   \n",
       "4           UBERON:0001117      tissue          liver   \n",
       "\n",
       "  tissue_general_ontology_term_id raw_sum  nnz raw_mean_nnz raw_variance_nnz  \\\n",
       "0                  UBERON:0002107  1742.0  221     7.882353      6661.549733   \n",
       "1                  UBERON:0002107   278.0  143     1.944056         3.616567   \n",
       "2                  UBERON:0002107  3723.0  709     5.251058      2959.510327   \n",
       "3                  UBERON:0002107   351.0  179     1.960894         8.487226   \n",
       "4                  UBERON:0002107   605.0  275     2.200000        18.978102   \n",
       "\n",
       "  n_measured_vars  \n",
       "0           13696  \n",
       "1           13696  \n",
       "2           13696  \n",
       "3           13696  \n",
       "4           13696  \n",
       "\n",
       "[5 rows x 28 columns]"
      ]
     },
     "execution_count": 4,
     "metadata": {},
     "output_type": "execute_result"
    }
   ],
   "source": [
    " ##### these are the magic words\n",
    "\n",
    "# organism = \"mus_musculus\"\n",
    "organism = \"homo_sapiens\"\n",
    "\n",
    "with cellxgene_census.open_soma(census_version=\"2024-07-01\", tiledb_config=config) as census: \n",
    "\n",
    "    # Reads SOMADataFrame as a slice\n",
    "    cell_metadata = census[\"census_data\"][organism].obs.read()\n",
    "\n",
    "    # Concatenates results to pyarrow.Table\n",
    "    cell_metadata = cell_metadata.concat()\n",
    "    \n",
    "    # Converts to pandas.DataFrame\n",
    "    cell_metadata = cell_metadata.to_pandas()\n",
    "    census.close()\n",
    "\n",
    "print(f\"{cell_metadata.shape=}\")\n",
    "cell_metadata.head()"
   ]
  },
  {
   "cell_type": "code",
   "execution_count": null,
   "id": "a9c2f2d0-c776-4589-bfea-fa4ab53f0969",
   "metadata": {},
   "outputs": [],
   "source": []
  },
  {
   "cell_type": "code",
   "execution_count": null,
   "id": "433e3218-b60d-4c7f-b2fa-573b15bdc6f8",
   "metadata": {},
   "outputs": [],
   "source": []
  },
  {
   "cell_type": "code",
   "execution_count": null,
   "id": "b5eb0b44-02fd-4113-a6c2-9b380525e8ae",
   "metadata": {},
   "outputs": [],
   "source": []
  },
  {
   "cell_type": "code",
   "execution_count": 5,
   "id": "01f652bb-c8a1-4670-99a6-ea1d36d7ff46",
   "metadata": {},
   "outputs": [
    {
     "data": {
      "text/plain": [
       "Index(['soma_joinid', 'dataset_id', 'assay', 'assay_ontology_term_id',\n",
       "       'cell_type', 'cell_type_ontology_term_id', 'development_stage',\n",
       "       'development_stage_ontology_term_id', 'disease',\n",
       "       'disease_ontology_term_id', 'donor_id', 'is_primary_data',\n",
       "       'observation_joinid', 'self_reported_ethnicity',\n",
       "       'self_reported_ethnicity_ontology_term_id', 'sex',\n",
       "       'sex_ontology_term_id', 'suspension_type', 'tissue',\n",
       "       'tissue_ontology_term_id', 'tissue_type', 'tissue_general',\n",
       "       'tissue_general_ontology_term_id', 'raw_sum', 'nnz', 'raw_mean_nnz',\n",
       "       'raw_variance_nnz', 'n_measured_vars'],\n",
       "      dtype='object')"
      ]
     },
     "execution_count": 5,
     "metadata": {},
     "output_type": "execute_result"
    }
   ],
   "source": [
    "cell_metadata.columns"
   ]
  },
  {
   "cell_type": "code",
   "execution_count": 6,
   "id": "9afa0166-e3c1-423c-bd0b-de74bb94d288",
   "metadata": {},
   "outputs": [
    {
     "name": "stdout",
     "output_type": "stream",
     "text": [
      "df.shape=(30197419, 28)\n",
      "664\n"
     ]
    },
    {
     "data": {
      "text/plain": [
       "cell_type\n",
       "neuron                                                               2692914\n",
       "glutamatergic neuron                                                 1566247\n",
       "L2/3-6 intratelencephalic projecting glutamatergic neuron            1104521\n",
       "oligodendrocyte                                                       901217\n",
       "fibroblast                                                            715861\n",
       "                                                                      ...   \n",
       "nephron tubule epithelial cell                                             0\n",
       "oocyte                                                                     0\n",
       "pyramidal neuron                                                           0\n",
       "smooth muscle cell of large intestine                                      0\n",
       "CD56-positive, CD161-positive immature natural killer cell, human          0\n",
       "Name: count, Length: 698, dtype: int64"
      ]
     },
     "execution_count": 6,
     "metadata": {},
     "output_type": "execute_result"
    }
   ],
   "source": [
    "df = cell_metadata[(cell_metadata['is_primary_data']) & (cell_metadata['disease'] == 'normal')].copy()\n",
    "print(f\"{df.shape=}\")\n",
    "\n",
    "column = 'cell_type'\n",
    "print(df[column].nunique())\n",
    "df[column].value_counts()"
   ]
  },
  {
   "cell_type": "code",
   "execution_count": 7,
   "id": "da57782c-d7d8-4d4b-96e4-60af3a73ec6d",
   "metadata": {},
   "outputs": [
    {
     "data": {
      "text/plain": [
       "['stem cell',\n",
       " 'central nervous system macrophage',\n",
       " 'mesenchymal stem cell',\n",
       " 'hematopoietic stem cell',\n",
       " 'stem cell of epidermis',\n",
       " 'intestinal crypt stem cell',\n",
       " 'intestinal crypt stem cell of large intestine',\n",
       " 'intestinal crypt stem cell of small intestine',\n",
       " 'epithelial fate stem cell',\n",
       " 'peripheral nervous system neuron',\n",
       " 'brainstem motor neuron',\n",
       " 'skeletal muscle satellite stem cell',\n",
       " 'intestinal crypt stem cell of colon',\n",
       " 'cord blood hematopoietic stem cell',\n",
       " 'embryonic stem cell',\n",
       " 'CD34-positive, CD38-negative hematopoietic stem cell']"
      ]
     },
     "execution_count": 7,
     "metadata": {},
     "output_type": "execute_result"
    }
   ],
   "source": [
    "[x for x in cell_metadata['cell_type'].unique() if 'stem' in x.lower()]"
   ]
  },
  {
   "cell_type": "code",
   "execution_count": 9,
   "id": "c8d45baa-9460-4d1b-a72f-ecb3061d8a0f",
   "metadata": {},
   "outputs": [
    {
     "data": {
      "text/plain": [
       "698"
      ]
     },
     "execution_count": 9,
     "metadata": {},
     "output_type": "execute_result"
    }
   ],
   "source": [
    "cell_metadata['cell_type'].nunique()"
   ]
  },
  {
   "cell_type": "code",
   "execution_count": 12,
   "id": "e9d28d56-923d-4ec3-a962-c9c751a46061",
   "metadata": {},
   "outputs": [
    {
     "name": "stdout",
     "output_type": "stream",
     "text": [
      "done\n"
     ]
    }
   ],
   "source": [
    "cell_metadata['cell_type'].unique()\n",
    "\n",
    "filepath = \"/home/cstansbu/git_repositories/ONT-single-cell/resources/czi_cell_types.txt\"\n",
    "with open(filepath, 'w') as f:\n",
    "  for item in cell_metadata['cell_type'].unique():\n",
    "    f.write(str(item) + '\\n')\n",
    "  print('done')"
   ]
  },
  {
   "cell_type": "code",
   "execution_count": 8,
   "id": "dff75ef2-8c59-4172-a64a-2ed6cca7a8dc",
   "metadata": {},
   "outputs": [
    {
     "ename": "SyntaxError",
     "evalue": "'break' outside loop (668683560.py, line 1)",
     "output_type": "error",
     "traceback": [
      "\u001b[0;36m  Cell \u001b[0;32mIn[8], line 1\u001b[0;36m\u001b[0m\n\u001b[0;31m    break\u001b[0m\n\u001b[0m    ^\u001b[0m\n\u001b[0;31mSyntaxError\u001b[0m\u001b[0;31m:\u001b[0m 'break' outside loop\n"
     ]
    }
   ],
   "source": [
    "break"
   ]
  },
  {
   "cell_type": "code",
   "execution_count": null,
   "id": "c1b1d922-5fd1-45aa-8c99-be96d618797f",
   "metadata": {},
   "outputs": [],
   "source": []
  },
  {
   "cell_type": "code",
   "execution_count": null,
   "id": "39644020-a0a5-4835-a2e6-89bc5130fa65",
   "metadata": {},
   "outputs": [],
   "source": [
    "cell_metadata.columns"
   ]
  },
  {
   "cell_type": "code",
   "execution_count": null,
   "id": "57ed195f-6abf-488a-a0d7-6e52f258f6bd",
   "metadata": {},
   "outputs": [],
   "source": [
    "cell_metadata['disease'].value_counts()"
   ]
  },
  {
   "cell_type": "code",
   "execution_count": null,
   "id": "39763b68-dc05-4ce0-8c15-59e5e9ebfc8d",
   "metadata": {},
   "outputs": [],
   "source": [
    "[x for x in cell_metadata['cell_type'].unique() if 'chondro' in x.lower()]"
   ]
  },
  {
   "cell_type": "code",
   "execution_count": null,
   "id": "e44cd4a8-2345-4487-97d0-e64d7b7fc259",
   "metadata": {},
   "outputs": [],
   "source": [
    "# break"
   ]
  },
  {
   "cell_type": "markdown",
   "id": "bd47d95d-fbd2-4615-8c85-97f90066c1ab",
   "metadata": {},
   "source": [
    "# Variables"
   ]
  },
  {
   "cell_type": "code",
   "execution_count": null,
   "id": "0a08a31a-913b-4d51-8a4c-cc2e315e684f",
   "metadata": {},
   "outputs": [],
   "source": [
    "with cellxgene_census.open_soma(census_version=\"2024-07-01\", tiledb_config=config) as census: \n",
    "    var = cellxgene_census.get_var(\n",
    "        census = census,\n",
    "        organism = \"Homo sapiens\",\n",
    "    )\n",
    "    census.close()\n",
    "\n",
    "var.head()"
   ]
  },
  {
   "cell_type": "code",
   "execution_count": null,
   "id": "8665c4b8-1e80-4523-bb83-93dd44c1cef2",
   "metadata": {},
   "outputs": [],
   "source": [
    "CENSUS_VERSION = \"2024-07-01\"\n",
    "\n",
    "for e in czi_exp.get_all_available_embeddings(CENSUS_VERSION):\n",
    "    print(f\"{e['embedding_name']:15} {e['experiment_name']:15} {e['data_type']:15}\")"
   ]
  },
  {
   "cell_type": "markdown",
   "id": "963a749c-6257-493e-914d-fa3489a447db",
   "metadata": {},
   "source": [
    "# Get actual cell data"
   ]
  },
  {
   "cell_type": "code",
   "execution_count": null,
   "id": "3cd9f4e7-a6ad-40ee-a5ae-7f74ccd8b5b7",
   "metadata": {},
   "outputs": [],
   "source": [
    "start_time = time.time()\n",
    "\n",
    "census = cellxgene_census.open_soma(\n",
    "    census_version=\"2024-07-01\",  \n",
    "    tiledb_config=config,\n",
    ")\n",
    "\n",
    "end_time = time.time()\n",
    "print(f\"Time to open census: {end_time - start_time:.2f} seconds\")\n",
    "\n",
    "start_time = time.time()\n",
    "\n",
    "adata = cellxgene_census.get_anndata(\n",
    "    census = census,\n",
    "    organism = \"Homo sapiens\",\n",
    "    obs_value_filter = \"tissue == 'tongue' and is_primary_data==True\",\n",
    ")\n",
    "\n",
    "end_time = time.time()\n",
    "print(f\"Time to get anndata: {end_time - start_time:.2f} seconds\")\n",
    "\n",
    "sc.logging.print_memory_usage()\n",
    "adata"
   ]
  },
  {
   "cell_type": "markdown",
   "id": "6916760c-0066-45bc-99cc-916f8be874e2",
   "metadata": {},
   "source": [
    "# Get HSCs"
   ]
  },
  {
   "cell_type": "code",
   "execution_count": null,
   "id": "44321ad8-3fd5-424e-8749-e8889eb9104b",
   "metadata": {},
   "outputs": [],
   "source": [
    "start_time = time.time()\n",
    "\n",
    "census = cellxgene_census.open_soma(\n",
    "    census_version=\"2024-07-01\",  \n",
    "    tiledb_config=config,\n",
    ")\n",
    "\n",
    "end_time = time.time()\n",
    "print(f\"Time to open census: {end_time - start_time:.2f} seconds\")\n",
    "\n",
    "start_time = time.time()\n",
    "\n",
    "# Construct the obs_value_filter string\n",
    "cell_types = [\n",
    "    # 'hematopoietic multipotent progenitor cell',\n",
    "    # 'hematopoietic stem cell',\n",
    "    # 'hematopoietic cell',\n",
    "    # 'hematopoietic precursor cell',\n",
    "    # 'cord blood hematopoietic stem cell',\n",
    "    # 'CD34-positive, CD38-negative hematopoietic stem cell'\n",
    "    'chondrocyte',\n",
    "]\n",
    "cell_type_filter = ' or '.join([f\"cell_type == '{cell_type}'\" for cell_type in cell_types])\n",
    "\n",
    "obs_value_filter = f\"is_primary_data == True and disease == 'normal' and ({cell_type_filter})\"\n",
    "\n",
    "adata = cellxgene_census.get_anndata(\n",
    "    census = census,\n",
    "    organism = \"Homo sapiens\",\n",
    "    obs_value_filter = obs_value_filter,\n",
    ")\n",
    "\n",
    "end_time = time.time()\n",
    "print(f\"Time to get anndata: {end_time - start_time:.2f} seconds\")\n",
    "\n",
    "sc.logging.print_memory_usage()\n",
    "adata"
   ]
  },
  {
   "cell_type": "code",
   "execution_count": null,
   "id": "cddf1d25-9357-415d-a24d-1b2f2de5cdfc",
   "metadata": {},
   "outputs": [],
   "source": [
    "# write the data\n",
    "outpath = \"/nfs/turbo/umms-indikar/shared/projects/chondro_data/czi_data/chondrocytes_raw.h5ad\"\n",
    "adata.write(outpath)\n",
    "adata"
   ]
  },
  {
   "cell_type": "code",
   "execution_count": null,
   "id": "eb8a6392-c4b6-4cb5-814b-9a35934fedd1",
   "metadata": {},
   "outputs": [],
   "source": [
    "adata.obs.columns"
   ]
  },
  {
   "cell_type": "code",
   "execution_count": null,
   "id": "2b28fc82-ce6f-4191-b12e-b7fe29bafc78",
   "metadata": {},
   "outputs": [],
   "source": [
    "adata.obs['cell|tissue|sex'] = adata.obs['cell_type'].str.replace(\" \", \"-\") + \"|\" + adata.obs['tissue_general'].str.replace(\" \", \"-\") + \"|\" + adata.obs['sex'].str.replace(\" \", \"-\")\n",
    "adata.obs['cell|tissue|sex'].value_counts()"
   ]
  },
  {
   "cell_type": "code",
   "execution_count": null,
   "id": "74cb4b09-fcf4-4565-8239-09496cb0f045",
   "metadata": {},
   "outputs": [],
   "source": [
    "adata.obs['dataset_id'].unique()"
   ]
  },
  {
   "cell_type": "code",
   "execution_count": null,
   "id": "824d52cf-2804-433c-afc8-291bf2333a43",
   "metadata": {},
   "outputs": [],
   "source": [
    "adata.obs['dataset_id'].nunique()"
   ]
  },
  {
   "cell_type": "code",
   "execution_count": null,
   "id": "6fc792cb-d03d-4be8-a0b7-cbdd668543ab",
   "metadata": {},
   "outputs": [],
   "source": [
    "break"
   ]
  },
  {
   "cell_type": "markdown",
   "id": "ee2dc5b8-1907-41c2-973a-e9683654954b",
   "metadata": {},
   "source": [
    "# aggregate"
   ]
  },
  {
   "cell_type": "code",
   "execution_count": null,
   "id": "169bfd1e-c0ac-4782-9ba7-ced2ee149eec",
   "metadata": {},
   "outputs": [],
   "source": [
    "aggdata = sc.get.aggregate(\n",
    "    adata,\n",
    "    by='cell|tissue|sex',\n",
    "    func=['count_nonzero', 'mean', 'sum', 'var'],\n",
    "    axis='obs',\n",
    ")\n",
    "\n",
    "outpath = \"/nfs/turbo/umms-indikar/shared/projects/HSC/data/CZI/all_HSC_aggregated.h5ad\"\n",
    "aggdata.write(outpath)\n",
    "aggdata"
   ]
  },
  {
   "cell_type": "code",
   "execution_count": null,
   "id": "b40e3aa7-296e-42ae-a9b3-0fa75ddb80b1",
   "metadata": {},
   "outputs": [],
   "source": []
  },
  {
   "cell_type": "code",
   "execution_count": null,
   "id": "26974c7f-dfc4-41e2-832a-32b8ac9832a1",
   "metadata": {},
   "outputs": [],
   "source": []
  },
  {
   "cell_type": "code",
   "execution_count": null,
   "id": "c9cb44e7-71cb-41d9-b6fd-21fdce8bc068",
   "metadata": {},
   "outputs": [],
   "source": []
  },
  {
   "cell_type": "code",
   "execution_count": null,
   "id": "76179961-a756-4f05-a947-77fcf6a72bf8",
   "metadata": {},
   "outputs": [],
   "source": [
    "break"
   ]
  }
 ],
 "metadata": {
  "kernelspec": {
   "display_name": "gget",
   "language": "python",
   "name": "gget"
  },
  "language_info": {
   "codemirror_mode": {
    "name": "ipython",
    "version": 3
   },
   "file_extension": ".py",
   "mimetype": "text/x-python",
   "name": "python",
   "nbconvert_exporter": "python",
   "pygments_lexer": "ipython3",
   "version": "3.9.19"
  }
 },
 "nbformat": 4,
 "nbformat_minor": 5
}
