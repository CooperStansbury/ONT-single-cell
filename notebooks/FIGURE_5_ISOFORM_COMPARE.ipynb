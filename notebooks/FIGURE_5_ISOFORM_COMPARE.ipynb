{
 "cells": [
  {
   "cell_type": "code",
   "execution_count": 1,
   "id": "f1f952a9-3f5a-4643-8bff-617f5867ede2",
   "metadata": {},
   "outputs": [],
   "source": [
    "import pandas as pd\n",
    "import numpy as np\n",
    "import scanpy as sc\n",
    "import seaborn as sns\n",
    "import matplotlib.pyplot as plt\n",
    "\n",
    "# local imports\n",
    "import utils as ut\n",
    "import plotting as plt2"
   ]
  },
  {
   "cell_type": "markdown",
   "id": "ff0bdd75-9da8-4f67-b313-1e615dff9879",
   "metadata": {},
   "source": [
    "# load the pangload markers"
   ]
  },
  {
   "cell_type": "code",
   "execution_count": 2,
   "id": "a7afa4da-7810-41ee-948e-aa0957ce2659",
   "metadata": {},
   "outputs": [
    {
     "name": "stdout",
     "output_type": "stream",
     "text": [
      "Number of genes for Fibroblasts: 232\n",
      "Number of genes for Hematopoietic Stem Cells: 178\n"
     ]
    }
   ],
   "source": [
    "fpath = \"../resources/PanglaoDB_Augmented_2021.txt\"\n",
    "pang = ut.load_pathway(fpath)  # Assuming 'ut.load_pathway' is a custom function to load the data\n",
    "\n",
    "# Get gene sets\n",
    "fb_genes = pang[pang['Fibroblasts']].index\n",
    "hsc_genes = pang[pang['Hematopoietic Stem Cells']].index\n",
    "\n",
    "# Print statements with clear descriptions\n",
    "print(f\"Number of genes for Fibroblasts: {len(fb_genes)}\")\n",
    "print(f\"Number of genes for Hematopoietic Stem Cells: {len(hsc_genes)}\")"
   ]
  },
  {
   "cell_type": "markdown",
   "id": "0e9771ef-65bf-4c67-add1-970cdbbd6406",
   "metadata": {},
   "source": [
    "# Load isoforms"
   ]
  },
  {
   "cell_type": "code",
   "execution_count": null,
   "id": "72cb34af-afd4-43d1-9d69-69dd0c159bd6",
   "metadata": {},
   "outputs": [],
   "source": [
    "fpath = \"/scratch/indikar_root/indikar1/cstansbu/HSC/scanpy/merged_isoforms.h5ad\"\n",
    "adata = sc.read_h5ad(fpath)\n",
    "sc.logging.print_memory_usage()\n",
    "adata"
   ]
  },
  {
   "cell_type": "code",
   "execution_count": null,
   "id": "82c92dd1-8d18-4745-a7e0-64e51a79568f",
   "metadata": {},
   "outputs": [],
   "source": [
    "adata.var.sort_values(by='gene_count', ascending=False).head()"
   ]
  },
  {
   "cell_type": "code",
   "execution_count": null,
   "id": "d5476ede-2f11-4990-a619-682b8716fd36",
   "metadata": {},
   "outputs": [],
   "source": [
    "# Highly expressed transcripts\n",
    "tdf = adata.var.copy()\n",
    "tdf = tdf.sort_values(by='transcript_count', ascending=False)\n",
    "tdf.head(15)"
   ]
  },
  {
   "cell_type": "markdown",
   "id": "d5fecee2-323e-4f9f-80f8-e1fe46514f32",
   "metadata": {},
   "source": [
    "# depth differences"
   ]
  },
  {
   "cell_type": "code",
   "execution_count": null,
   "id": "3d995d3c-3b31-4735-904e-3054702c5ed5",
   "metadata": {},
   "outputs": [],
   "source": [
    "plt.rcParams['figure.dpi'] = 200\n",
    "plt.rcParams['figure.figsize'] = 2, 2.5\n",
    "\n",
    "sns.boxplot(\n",
    "    data=adata.obs,\n",
    "    x='dataset',\n",
    "    y='n_genes',\n",
    "    hue='dataset',\n",
    "    width=0.5,\n",
    "    linecolor='k',\n",
    ")\n",
    "\n",
    "sns.despine()"
   ]
  },
  {
   "cell_type": "code",
   "execution_count": null,
   "id": "0b29248b-da63-4169-a9fd-d291ea31209b",
   "metadata": {},
   "outputs": [],
   "source": [
    "plt.rcParams['figure.dpi'] = 200\n",
    "plt.rcParams['figure.figsize'] = 2, 2.5\n",
    "\n",
    "sns.boxplot(\n",
    "    data=adata.obs,\n",
    "    x='dataset',\n",
    "    y='total_counts',\n",
    "    hue='dataset',\n",
    "    width=0.5,\n",
    "    linecolor='k',\n",
    ")\n",
    "\n",
    "sns.despine()"
   ]
  },
  {
   "cell_type": "markdown",
   "id": "d38730c5-a2e4-40ba-9077-f1aff8350538",
   "metadata": {},
   "source": [
    "# distribution of non-zero transcripts"
   ]
  },
  {
   "cell_type": "code",
   "execution_count": null,
   "id": "87e4de84-0ba2-464f-8cb4-2e2986abcb3e",
   "metadata": {},
   "outputs": [],
   "source": [
    "for layer in adata.layers.keys():\n",
    "    \n",
    "    df = adata.to_df(layer=layer)\n",
    "    \n",
    "    df = pd.DataFrame({\n",
    "        'barcode' : df.index,\n",
    "        'dataset' : adata.obs['dataset'].values,\n",
    "        'sum_counts' : df.sum(axis=1).values,\n",
    "        'mean_counts' : df.mean(axis=1).values,\n",
    "        'percent_nz' : (df != 0).sum(axis=1) / df.shape[1],\n",
    "    })\n",
    "    \n",
    "    print(f\"{layer=} {df.shape=}\")\n",
    "    # print(df.head())\n",
    "    \n",
    "    plt.rcParams['figure.dpi'] = 200\n",
    "    plt.rcParams['figure.figsize'] = 6.5, 2.5\n",
    "    fig, axs = plt.subplots(1, 3)\n",
    "    \n",
    "    columns = [\n",
    "        'sum_counts',\n",
    "        'mean_counts',\n",
    "        'percent_nz',\n",
    "    ]\n",
    "    \n",
    "    for i, col in enumerate(columns):    \n",
    "        sns.boxplot(\n",
    "            data=df,\n",
    "            x='dataset',\n",
    "            y=col,\n",
    "            hue='dataset',\n",
    "            width=0.35,\n",
    "            linecolor='k',\n",
    "            ax=axs[i]\n",
    "        )\n",
    "        \n",
    "    plt.tight_layout()\n",
    "    plt.suptitle(layer, y=1.1)\n",
    "    sns.despine()\n",
    "    plt.show()"
   ]
  },
  {
   "cell_type": "markdown",
   "id": "8cfa405e-af73-4c2e-a14c-663a94b5150b",
   "metadata": {},
   "source": [
    "# Some highly expressed transcripts"
   ]
  },
  {
   "cell_type": "code",
   "execution_count": null,
   "id": "4ab772e4-862e-445d-9b10-7a32371b509b",
   "metadata": {},
   "outputs": [],
   "source": [
    "plt.rcParams['figure.dpi'] = 200\n",
    "plt.rcParams['figure.figsize'] = 4, 5\n",
    "    \n",
    "sc.pl.highest_expr_genes(\n",
    "    adata,\n",
    ")"
   ]
  },
  {
   "cell_type": "markdown",
   "id": "125a7ef9-c74c-4cc3-859f-7a308c7e0fce",
   "metadata": {},
   "source": [
    "# highly expressed genes"
   ]
  },
  {
   "cell_type": "code",
   "execution_count": null,
   "id": "7fb12e02-d385-4ab8-bdc3-bde08a3ec457",
   "metadata": {},
   "outputs": [],
   "source": [
    "layer = 'raw_counts'\n",
    "exp_df = adata.to_df(layer=layer)\n",
    "exp_df['group'] = adata.obs['dataset'].values\n",
    "exp_df = exp_df.groupby('group').sum().T\n",
    "exp_df['transcript_count'] = exp_df.sum(axis=1)\n",
    "exp_df = exp_df.reset_index()\n",
    "\n",
    "exp_df['gene_name'] = exp_df['transcript_name'].apply(lambda x: x.split(\"-\")[0])\n",
    "\n",
    "cols = ['iHSC', 'scFib']\n",
    "exp_df[['iHSC_gene_counts', 'scFib_gene_counts']] = exp_df.groupby('gene_name')[cols].transform('sum')\n",
    "exp_df = exp_df.set_index('transcript_name')\n",
    "exp_df = exp_df.reset_index()\n",
    "\n",
    "exp_df = exp_df.sort_values(by='transcript_count', ascending=False)\n",
    "\n",
    "# some exlusions\n",
    "exp_df = exp_df[~exp_df['gene_name'].str.startswith('RP')]\n",
    "exp_df = exp_df[~exp_df['gene_name'].str.startswith('MT')]\n",
    "exp_df = exp_df[~exp_df['gene_name'].str.startswith('S100')]\n",
    "\n",
    "exp_df.head()"
   ]
  },
  {
   "cell_type": "code",
   "execution_count": null,
   "id": "a4995363-eddd-45ae-9e29-8cd80cd04f01",
   "metadata": {},
   "outputs": [],
   "source": [
    "n_plot = 35\n",
    "columns = [\n",
    "    'transcript_name',\n",
    "    'iHSC',\n",
    "    'scFib',\n",
    "]\n",
    "\n",
    "plt.rcParams['figure.dpi'] = 200\n",
    "plt.rcParams['figure.figsize'] = 8, 4\n",
    "\n",
    "exp_df[columns].head(n_plot).plot(\n",
    "    x='transcript_name', \n",
    "    kind='bar', \n",
    "    stacked=True, \n",
    "    color=['deepskyblue', 'firebrick'],\n",
    "    ec='k',\n",
    "    zorder=2,\n",
    ")\n",
    "\n",
    "plt.grid(True, c='lightgrey', zorder=0)\n",
    "\n",
    "\n",
    "plt.ylabel('Raw Counts')\n",
    "plt.xlabel('')\n",
    "sns.despine()\n",
    "\n",
    "sns.move_legend(\n",
    "    plt.gca(),\n",
    "    title='',\n",
    "    loc='best',\n",
    ")\n"
   ]
  },
  {
   "cell_type": "markdown",
   "id": "eaf9b402-7a54-4c41-95a5-0ba20b73d771",
   "metadata": {},
   "source": [
    "# Highly expressed HSC genes"
   ]
  },
  {
   "cell_type": "code",
   "execution_count": null,
   "id": "31836c58-2890-4b9b-b54b-b72854ff6893",
   "metadata": {},
   "outputs": [],
   "source": [
    "pdf = exp_df[exp_df['gene_name'].isin(hsc_genes)].copy()\n",
    "\n",
    "n_plot = 35\n",
    "columns = [\n",
    "    'transcript_name',\n",
    "    'iHSC',\n",
    "    'scFib',\n",
    "]\n",
    "\n",
    "plt.rcParams['figure.dpi'] = 200\n",
    "plt.rcParams['figure.figsize'] = 8, 4\n",
    "\n",
    "pdf[columns].head(n_plot).plot(\n",
    "    x='transcript_name', \n",
    "    kind='bar', \n",
    "    stacked=True, \n",
    "    color=['deepskyblue', 'firebrick'],\n",
    "    ec='k',\n",
    "    zorder=2,\n",
    ")\n",
    "\n",
    "plt.grid(True, c='lightgrey', zorder=0)\n",
    "\n",
    "\n",
    "plt.ylabel('Raw Counts')\n",
    "plt.xlabel('')\n",
    "sns.despine()\n",
    "\n",
    "sns.move_legend(\n",
    "    plt.gca(),\n",
    "    title='',\n",
    "    loc='best',\n",
    ")"
   ]
  },
  {
   "cell_type": "code",
   "execution_count": null,
   "id": "203049cb-8178-4bce-9d8a-25ac68b6463f",
   "metadata": {},
   "outputs": [],
   "source": [
    "pdf = exp_df.copy()\n",
    "\n",
    "pdf = pdf[pdf['gene_name'].isin(fb_genes)]\n",
    "# pdf = pdf.sort_values(by='iHSC', ascending=False)\n",
    "\n",
    "\n",
    "n_plot = 35\n",
    "columns = [\n",
    "    'transcript_name',\n",
    "    'iHSC',\n",
    "    'scFib',\n",
    "]\n",
    "\n",
    "plt.rcParams['figure.dpi'] = 200\n",
    "plt.rcParams['figure.figsize'] = 8, 4\n",
    "\n",
    "pdf[columns].head(n_plot).plot(\n",
    "    x='transcript_name', \n",
    "    kind='bar', \n",
    "    stacked=True, \n",
    "    color=['deepskyblue', 'firebrick'],\n",
    "    ec='k',\n",
    "    zorder=2,\n",
    ")\n",
    "\n",
    "plt.grid(True, c='lightgrey', zorder=0)\n",
    "\n",
    "\n",
    "plt.ylabel('Raw Counts')\n",
    "plt.xlabel('')\n",
    "sns.despine()\n",
    "\n",
    "sns.move_legend(\n",
    "    plt.gca(),\n",
    "    title='',\n",
    "    loc='best',\n",
    ")"
   ]
  },
  {
   "cell_type": "code",
   "execution_count": null,
   "id": "bdce0313-3e8b-4af8-8713-8b6d8a95540b",
   "metadata": {},
   "outputs": [],
   "source": [
    "break"
   ]
  },
  {
   "cell_type": "code",
   "execution_count": null,
   "id": "ea647d0c-5f92-4b07-9494-ada646e8fd8c",
   "metadata": {},
   "outputs": [],
   "source": []
  },
  {
   "cell_type": "code",
   "execution_count": null,
   "id": "1cc820a9-8870-4c98-b11f-c64b4d8a0f65",
   "metadata": {},
   "outputs": [],
   "source": []
  },
  {
   "cell_type": "code",
   "execution_count": null,
   "id": "acdd3267-3931-44dc-807c-54216c8d05fe",
   "metadata": {},
   "outputs": [],
   "source": [
    "# \n",
    "\n",
    "adata"
   ]
  },
  {
   "cell_type": "code",
   "execution_count": null,
   "id": "1deebdfa-a67b-400a-a56f-8379ea2c9ab6",
   "metadata": {},
   "outputs": [],
   "source": []
  },
  {
   "cell_type": "code",
   "execution_count": null,
   "id": "7d67e53e-0c84-416a-817e-3bd22aebd91c",
   "metadata": {},
   "outputs": [],
   "source": []
  },
  {
   "cell_type": "code",
   "execution_count": null,
   "id": "0154add0-75c3-4687-941d-148d61d7875b",
   "metadata": {},
   "outputs": [],
   "source": []
  },
  {
   "cell_type": "code",
   "execution_count": null,
   "id": "97e372c7-815e-4758-bd7e-804800688710",
   "metadata": {},
   "outputs": [],
   "source": [
    "break"
   ]
  },
  {
   "cell_type": "code",
   "execution_count": null,
   "id": "b6e04872-2d79-4f68-8b06-c205dfd4ae4d",
   "metadata": {},
   "outputs": [],
   "source": []
  },
  {
   "cell_type": "markdown",
   "id": "2e71e8cc-0f9f-49fc-a87f-eb50b6f1d323",
   "metadata": {},
   "source": [
    "# load in the Chen 2014 Data"
   ]
  },
  {
   "cell_type": "code",
   "execution_count": null,
   "id": "45b33a47-d45e-4608-8f33-d6c63fe7dc3e",
   "metadata": {},
   "outputs": [],
   "source": [
    "fpath = \"../resources/chen_2014_isoforms.csv\"\n",
    "df = pd.read_csv(fpath)\n",
    "print(f\"{df.shape=}\")\n",
    "df = df[df['Model'] == 'HSC']\n",
    "df = df[df['Gene_biotype'] == 'protein_coding']\n",
    "df = df.sort_values(by='log(FC)', ascending=False)\n",
    "print(f\"{df.shape=}\")\n",
    "\n",
    "df[['External_gene_id', 'Model posterior probability']].head(20)"
   ]
  },
  {
   "cell_type": "code",
   "execution_count": null,
   "id": "54314b77-6bd9-4b1f-a0f0-b31699725143",
   "metadata": {},
   "outputs": [],
   "source": [
    "hsc_pres = [x for x in hsc_genes if x in tdf['gene_name'].values]\n",
    "\n",
    "exp_df = tdf[tdf['gene_name'].isin(hsc_pres)]\n",
    "exp_df = exp_df[exp_df['transcript_percent'] < 0.9]\n",
    "exp_df.head(15)"
   ]
  },
  {
   "cell_type": "code",
   "execution_count": null,
   "id": "15d46102-6e62-4980-87d3-ca6ed155f072",
   "metadata": {},
   "outputs": [],
   "source": [
    "gene = 'PTGS1'\n",
    "layer = 'magic'\n",
    "transcript_list = get_transcripts(gene, adata=adata)\n",
    "\n",
    "for transcript in transcript_list:\n",
    "    plt.rcParams['figure.dpi'] = 200\n",
    "    plt.rcParams['figure.figsize'] = 5.5, 5\n",
    "    plot_transcript(adata, transcript, layer)\n",
    "    # break"
   ]
  },
  {
   "cell_type": "code",
   "execution_count": null,
   "id": "07c92a93-b8dd-4af7-8617-06bcd93e00c7",
   "metadata": {},
   "outputs": [],
   "source": []
  }
 ],
 "metadata": {
  "kernelspec": {
   "display_name": "scanpy",
   "language": "python",
   "name": "scanpy"
  },
  "language_info": {
   "codemirror_mode": {
    "name": "ipython",
    "version": 3
   },
   "file_extension": ".py",
   "mimetype": "text/x-python",
   "name": "python",
   "nbconvert_exporter": "python",
   "pygments_lexer": "ipython3",
   "version": "3.12.5"
  }
 },
 "nbformat": 4,
 "nbformat_minor": 5
}
