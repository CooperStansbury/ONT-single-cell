{
 "cells": [
  {
   "cell_type": "code",
   "execution_count": 1,
   "id": "f1f952a9-3f5a-4643-8bff-617f5867ede2",
   "metadata": {},
   "outputs": [],
   "source": [
    "import pandas as pd\n",
    "import numpy as np\n",
    "import scanpy as sc\n",
    "import seaborn as sns\n",
    "import matplotlib.pyplot as plt\n",
    "\n",
    "# local imports\n",
    "import utils as ut\n",
    "import plotting as plt2"
   ]
  },
  {
   "cell_type": "markdown",
   "id": "ff0bdd75-9da8-4f67-b313-1e615dff9879",
   "metadata": {},
   "source": [
    "# load the pangload markers"
   ]
  },
  {
   "cell_type": "code",
   "execution_count": 2,
   "id": "a7afa4da-7810-41ee-948e-aa0957ce2659",
   "metadata": {},
   "outputs": [
    {
     "name": "stdout",
     "output_type": "stream",
     "text": [
      "Number of genes for Fibroblasts: 232\n",
      "Number of genes for Hematopoietic Stem Cells: 178\n"
     ]
    }
   ],
   "source": [
    "fpath = \"../resources/PanglaoDB_Augmented_2021.txt\"\n",
    "pang = ut.load_pathway(fpath)  # Assuming 'ut.load_pathway' is a custom function to load the data\n",
    "\n",
    "# Get gene sets\n",
    "fb_genes = pang[pang['Fibroblasts']].index\n",
    "hsc_genes = pang[pang['Hematopoietic Stem Cells']].index\n",
    "\n",
    "# Print statements with clear descriptions\n",
    "print(f\"Number of genes for Fibroblasts: {len(fb_genes)}\")\n",
    "print(f\"Number of genes for Hematopoietic Stem Cells: {len(hsc_genes)}\")"
   ]
  },
  {
   "cell_type": "markdown",
   "id": "0e9771ef-65bf-4c67-add1-970cdbbd6406",
   "metadata": {},
   "source": [
    "# Load isoforms"
   ]
  },
  {
   "cell_type": "code",
   "execution_count": 3,
   "id": "72cb34af-afd4-43d1-9d69-69dd0c159bd6",
   "metadata": {},
   "outputs": [
    {
     "name": "stdout",
     "output_type": "stream",
     "text": [
      "Memory usage: current 37.71 GB, difference +37.71 GB\n"
     ]
    },
    {
     "data": {
      "text/plain": [
       "AnnData object with n_obs × n_vars = 16130 × 99720\n",
       "    obs: 'transcript_count', 'cluster_str', 'dataset', 'pred_phase', 'leiden', 'n_genes', 'n_genes_by_counts', 'total_counts', 'pct_counts_in_top_50_genes', 'pct_counts_in_top_100_genes', 'pct_counts_in_top_200_genes', 'pct_counts_in_top_500_genes', 'total_counts_mt', 'pct_counts_mt', 'total_counts_ribo', 'pct_counts_ribo', 'total_counts_hb', 'pct_counts_hb', 'new_cluster', 'UMAP 1', 'UMAP 2'\n",
       "    var: 'transcript_count', 'gene_name', 'gene_count', 'transcript_percent', 'highly_variable', 'means', 'dispersions', 'dispersions_norm'\n",
       "    uns: 'hvg', 'log1p', 'neighbors', 'pca', 'umap'\n",
       "    obsm: 'X_pca', 'X_umap'\n",
       "    varm: 'PCs'\n",
       "    layers: 'combat', 'log_norm', 'magic', 'norm', 'raw_counts'\n",
       "    obsp: 'connectivities', 'distances'"
      ]
     },
     "execution_count": 3,
     "metadata": {},
     "output_type": "execute_result"
    }
   ],
   "source": [
    "fpath = \"/scratch/indikar_root/indikar1/cstansbu/HSC/scanpy/merged_isoforms.h5ad\"\n",
    "adata = sc.read_h5ad(fpath)\n",
    "sc.logging.print_memory_usage()\n",
    "adata"
   ]
  },
  {
   "cell_type": "code",
   "execution_count": 4,
   "id": "82c92dd1-8d18-4745-a7e0-64e51a79568f",
   "metadata": {},
   "outputs": [
    {
     "data": {
      "text/html": [
       "<div>\n",
       "<style scoped>\n",
       "    .dataframe tbody tr th:only-of-type {\n",
       "        vertical-align: middle;\n",
       "    }\n",
       "\n",
       "    .dataframe tbody tr th {\n",
       "        vertical-align: top;\n",
       "    }\n",
       "\n",
       "    .dataframe thead th {\n",
       "        text-align: right;\n",
       "    }\n",
       "</style>\n",
       "<table border=\"1\" class=\"dataframe\">\n",
       "  <thead>\n",
       "    <tr style=\"text-align: right;\">\n",
       "      <th></th>\n",
       "      <th>transcript_count</th>\n",
       "      <th>gene_name</th>\n",
       "      <th>gene_count</th>\n",
       "      <th>transcript_percent</th>\n",
       "      <th>highly_variable</th>\n",
       "      <th>means</th>\n",
       "      <th>dispersions</th>\n",
       "      <th>dispersions_norm</th>\n",
       "    </tr>\n",
       "    <tr>\n",
       "      <th>transcript_name</th>\n",
       "      <th></th>\n",
       "      <th></th>\n",
       "      <th></th>\n",
       "      <th></th>\n",
       "      <th></th>\n",
       "      <th></th>\n",
       "      <th></th>\n",
       "      <th></th>\n",
       "    </tr>\n",
       "  </thead>\n",
       "  <tbody>\n",
       "    <tr>\n",
       "      <th>MT-ND2-201</th>\n",
       "      <td>111433.0</td>\n",
       "      <td>MT</td>\n",
       "      <td>3883813.0</td>\n",
       "      <td>0.028692</td>\n",
       "      <td>False</td>\n",
       "      <td>7.080271</td>\n",
       "      <td>7.922083</td>\n",
       "      <td>2.052504</td>\n",
       "    </tr>\n",
       "    <tr>\n",
       "      <th>MT-ND3-201</th>\n",
       "      <td>581213.0</td>\n",
       "      <td>MT</td>\n",
       "      <td>3883813.0</td>\n",
       "      <td>0.149650</td>\n",
       "      <td>False</td>\n",
       "      <td>8.815186</td>\n",
       "      <td>9.530885</td>\n",
       "      <td>1.240446</td>\n",
       "    </tr>\n",
       "    <tr>\n",
       "      <th>MT-ND6-201</th>\n",
       "      <td>18756.0</td>\n",
       "      <td>MT</td>\n",
       "      <td>3883813.0</td>\n",
       "      <td>0.004829</td>\n",
       "      <td>False</td>\n",
       "      <td>5.409387</td>\n",
       "      <td>6.927456</td>\n",
       "      <td>2.520587</td>\n",
       "    </tr>\n",
       "    <tr>\n",
       "      <th>MT-ATP6-201</th>\n",
       "      <td>158234.0</td>\n",
       "      <td>MT</td>\n",
       "      <td>3883813.0</td>\n",
       "      <td>0.040742</td>\n",
       "      <td>False</td>\n",
       "      <td>7.455031</td>\n",
       "      <td>8.213471</td>\n",
       "      <td>2.046947</td>\n",
       "    </tr>\n",
       "    <tr>\n",
       "      <th>MT-CO3-201</th>\n",
       "      <td>606383.0</td>\n",
       "      <td>MT</td>\n",
       "      <td>3883813.0</td>\n",
       "      <td>0.156131</td>\n",
       "      <td>False</td>\n",
       "      <td>8.804995</td>\n",
       "      <td>9.428702</td>\n",
       "      <td>1.152992</td>\n",
       "    </tr>\n",
       "  </tbody>\n",
       "</table>\n",
       "</div>"
      ],
      "text/plain": [
       "                 transcript_count gene_name  gene_count  transcript_percent  \\\n",
       "transcript_name                                                               \n",
       "MT-ND2-201               111433.0        MT   3883813.0            0.028692   \n",
       "MT-ND3-201               581213.0        MT   3883813.0            0.149650   \n",
       "MT-ND6-201                18756.0        MT   3883813.0            0.004829   \n",
       "MT-ATP6-201              158234.0        MT   3883813.0            0.040742   \n",
       "MT-CO3-201               606383.0        MT   3883813.0            0.156131   \n",
       "\n",
       "                 highly_variable     means  dispersions  dispersions_norm  \n",
       "transcript_name                                                            \n",
       "MT-ND2-201                 False  7.080271     7.922083          2.052504  \n",
       "MT-ND3-201                 False  8.815186     9.530885          1.240446  \n",
       "MT-ND6-201                 False  5.409387     6.927456          2.520587  \n",
       "MT-ATP6-201                False  7.455031     8.213471          2.046947  \n",
       "MT-CO3-201                 False  8.804995     9.428702          1.152992  "
      ]
     },
     "execution_count": 4,
     "metadata": {},
     "output_type": "execute_result"
    }
   ],
   "source": [
    "adata.var.sort_values(by='gene_count', ascending=False).head()"
   ]
  },
  {
   "cell_type": "code",
   "execution_count": 5,
   "id": "d5476ede-2f11-4990-a619-682b8716fd36",
   "metadata": {},
   "outputs": [
    {
     "data": {
      "text/html": [
       "<div>\n",
       "<style scoped>\n",
       "    .dataframe tbody tr th:only-of-type {\n",
       "        vertical-align: middle;\n",
       "    }\n",
       "\n",
       "    .dataframe tbody tr th {\n",
       "        vertical-align: top;\n",
       "    }\n",
       "\n",
       "    .dataframe thead th {\n",
       "        text-align: right;\n",
       "    }\n",
       "</style>\n",
       "<table border=\"1\" class=\"dataframe\">\n",
       "  <thead>\n",
       "    <tr style=\"text-align: right;\">\n",
       "      <th></th>\n",
       "      <th>transcript_count</th>\n",
       "      <th>gene_name</th>\n",
       "      <th>gene_count</th>\n",
       "      <th>transcript_percent</th>\n",
       "      <th>highly_variable</th>\n",
       "      <th>means</th>\n",
       "      <th>dispersions</th>\n",
       "      <th>dispersions_norm</th>\n",
       "    </tr>\n",
       "    <tr>\n",
       "      <th>transcript_name</th>\n",
       "      <th></th>\n",
       "      <th></th>\n",
       "      <th></th>\n",
       "      <th></th>\n",
       "      <th></th>\n",
       "      <th></th>\n",
       "      <th></th>\n",
       "      <th></th>\n",
       "    </tr>\n",
       "  </thead>\n",
       "  <tbody>\n",
       "    <tr>\n",
       "      <th>S100A6-201</th>\n",
       "      <td>3411767.0</td>\n",
       "      <td>S100A6</td>\n",
       "      <td>3660307.0</td>\n",
       "      <td>0.932099</td>\n",
       "      <td>False</td>\n",
       "      <td>10.355869</td>\n",
       "      <td>9.704258</td>\n",
       "      <td>0.690186</td>\n",
       "    </tr>\n",
       "    <tr>\n",
       "      <th>MT2A-201</th>\n",
       "      <td>3131813.0</td>\n",
       "      <td>MT2A</td>\n",
       "      <td>3144358.0</td>\n",
       "      <td>0.996010</td>\n",
       "      <td>False</td>\n",
       "      <td>10.110067</td>\n",
       "      <td>9.448409</td>\n",
       "      <td>0.456613</td>\n",
       "    </tr>\n",
       "    <tr>\n",
       "      <th>TMSB10-201</th>\n",
       "      <td>2354677.0</td>\n",
       "      <td>TMSB10</td>\n",
       "      <td>2354677.0</td>\n",
       "      <td>1.000000</td>\n",
       "      <td>False</td>\n",
       "      <td>9.885851</td>\n",
       "      <td>7.692087</td>\n",
       "      <td>-1.146799</td>\n",
       "    </tr>\n",
       "    <tr>\n",
       "      <th>LGALS1-201</th>\n",
       "      <td>1982625.0</td>\n",
       "      <td>LGALS1</td>\n",
       "      <td>1988582.0</td>\n",
       "      <td>0.997004</td>\n",
       "      <td>False</td>\n",
       "      <td>9.670192</td>\n",
       "      <td>7.260574</td>\n",
       "      <td>-0.823478</td>\n",
       "    </tr>\n",
       "    <tr>\n",
       "      <th>FTL-201</th>\n",
       "      <td>1844336.0</td>\n",
       "      <td>FTL</td>\n",
       "      <td>1844336.0</td>\n",
       "      <td>1.000000</td>\n",
       "      <td>False</td>\n",
       "      <td>9.796557</td>\n",
       "      <td>9.530197</td>\n",
       "      <td>0.703266</td>\n",
       "    </tr>\n",
       "    <tr>\n",
       "      <th>RPS12-201</th>\n",
       "      <td>1409404.0</td>\n",
       "      <td>RPS12</td>\n",
       "      <td>1428296.0</td>\n",
       "      <td>0.986773</td>\n",
       "      <td>False</td>\n",
       "      <td>9.373591</td>\n",
       "      <td>7.155956</td>\n",
       "      <td>-0.893853</td>\n",
       "    </tr>\n",
       "    <tr>\n",
       "      <th>RPLP1-201</th>\n",
       "      <td>1380023.0</td>\n",
       "      <td>RPLP1</td>\n",
       "      <td>1410327.0</td>\n",
       "      <td>0.978513</td>\n",
       "      <td>False</td>\n",
       "      <td>9.161497</td>\n",
       "      <td>8.439440</td>\n",
       "      <td>0.306328</td>\n",
       "    </tr>\n",
       "    <tr>\n",
       "      <th>TIMP1-201</th>\n",
       "      <td>1289770.0</td>\n",
       "      <td>TIMP1</td>\n",
       "      <td>1294948.0</td>\n",
       "      <td>0.996001</td>\n",
       "      <td>False</td>\n",
       "      <td>9.311307</td>\n",
       "      <td>8.657158</td>\n",
       "      <td>0.492664</td>\n",
       "    </tr>\n",
       "    <tr>\n",
       "      <th>MT-CO2-201</th>\n",
       "      <td>1211085.0</td>\n",
       "      <td>MT</td>\n",
       "      <td>3883813.0</td>\n",
       "      <td>0.311829</td>\n",
       "      <td>False</td>\n",
       "      <td>9.496555</td>\n",
       "      <td>9.992223</td>\n",
       "      <td>1.014065</td>\n",
       "    </tr>\n",
       "    <tr>\n",
       "      <th>S100A11-201</th>\n",
       "      <td>1102612.0</td>\n",
       "      <td>S100A11</td>\n",
       "      <td>1103011.0</td>\n",
       "      <td>0.999638</td>\n",
       "      <td>False</td>\n",
       "      <td>9.145534</td>\n",
       "      <td>7.410644</td>\n",
       "      <td>-0.574170</td>\n",
       "    </tr>\n",
       "    <tr>\n",
       "      <th>FTH1-201</th>\n",
       "      <td>917049.0</td>\n",
       "      <td>FTH1</td>\n",
       "      <td>1372008.0</td>\n",
       "      <td>0.668399</td>\n",
       "      <td>False</td>\n",
       "      <td>8.805529</td>\n",
       "      <td>8.767182</td>\n",
       "      <td>0.586828</td>\n",
       "    </tr>\n",
       "    <tr>\n",
       "      <th>RPS18-230</th>\n",
       "      <td>914376.0</td>\n",
       "      <td>RPS18</td>\n",
       "      <td>919507.0</td>\n",
       "      <td>0.994420</td>\n",
       "      <td>False</td>\n",
       "      <td>8.960052</td>\n",
       "      <td>6.850495</td>\n",
       "      <td>-1.053576</td>\n",
       "    </tr>\n",
       "    <tr>\n",
       "      <th>RPLP2-201</th>\n",
       "      <td>889503.0</td>\n",
       "      <td>RPLP2</td>\n",
       "      <td>898608.0</td>\n",
       "      <td>0.989868</td>\n",
       "      <td>False</td>\n",
       "      <td>8.877433</td>\n",
       "      <td>6.246164</td>\n",
       "      <td>-1.570796</td>\n",
       "    </tr>\n",
       "    <tr>\n",
       "      <th>IFITM3-201</th>\n",
       "      <td>822331.0</td>\n",
       "      <td>IFITM3</td>\n",
       "      <td>851367.0</td>\n",
       "      <td>0.965895</td>\n",
       "      <td>False</td>\n",
       "      <td>8.734259</td>\n",
       "      <td>7.737744</td>\n",
       "      <td>0.457830</td>\n",
       "    </tr>\n",
       "    <tr>\n",
       "      <th>RPL30-201</th>\n",
       "      <td>778042.0</td>\n",
       "      <td>RPL30</td>\n",
       "      <td>816268.0</td>\n",
       "      <td>0.953170</td>\n",
       "      <td>False</td>\n",
       "      <td>8.806057</td>\n",
       "      <td>6.773356</td>\n",
       "      <td>-1.119596</td>\n",
       "    </tr>\n",
       "  </tbody>\n",
       "</table>\n",
       "</div>"
      ],
      "text/plain": [
       "                 transcript_count gene_name  gene_count  transcript_percent  \\\n",
       "transcript_name                                                               \n",
       "S100A6-201              3411767.0    S100A6   3660307.0            0.932099   \n",
       "MT2A-201                3131813.0      MT2A   3144358.0            0.996010   \n",
       "TMSB10-201              2354677.0    TMSB10   2354677.0            1.000000   \n",
       "LGALS1-201              1982625.0    LGALS1   1988582.0            0.997004   \n",
       "FTL-201                 1844336.0       FTL   1844336.0            1.000000   \n",
       "RPS12-201               1409404.0     RPS12   1428296.0            0.986773   \n",
       "RPLP1-201               1380023.0     RPLP1   1410327.0            0.978513   \n",
       "TIMP1-201               1289770.0     TIMP1   1294948.0            0.996001   \n",
       "MT-CO2-201              1211085.0        MT   3883813.0            0.311829   \n",
       "S100A11-201             1102612.0   S100A11   1103011.0            0.999638   \n",
       "FTH1-201                 917049.0      FTH1   1372008.0            0.668399   \n",
       "RPS18-230                914376.0     RPS18    919507.0            0.994420   \n",
       "RPLP2-201                889503.0     RPLP2    898608.0            0.989868   \n",
       "IFITM3-201               822331.0    IFITM3    851367.0            0.965895   \n",
       "RPL30-201                778042.0     RPL30    816268.0            0.953170   \n",
       "\n",
       "                 highly_variable      means  dispersions  dispersions_norm  \n",
       "transcript_name                                                             \n",
       "S100A6-201                 False  10.355869     9.704258          0.690186  \n",
       "MT2A-201                   False  10.110067     9.448409          0.456613  \n",
       "TMSB10-201                 False   9.885851     7.692087         -1.146799  \n",
       "LGALS1-201                 False   9.670192     7.260574         -0.823478  \n",
       "FTL-201                    False   9.796557     9.530197          0.703266  \n",
       "RPS12-201                  False   9.373591     7.155956         -0.893853  \n",
       "RPLP1-201                  False   9.161497     8.439440          0.306328  \n",
       "TIMP1-201                  False   9.311307     8.657158          0.492664  \n",
       "MT-CO2-201                 False   9.496555     9.992223          1.014065  \n",
       "S100A11-201                False   9.145534     7.410644         -0.574170  \n",
       "FTH1-201                   False   8.805529     8.767182          0.586828  \n",
       "RPS18-230                  False   8.960052     6.850495         -1.053576  \n",
       "RPLP2-201                  False   8.877433     6.246164         -1.570796  \n",
       "IFITM3-201                 False   8.734259     7.737744          0.457830  \n",
       "RPL30-201                  False   8.806057     6.773356         -1.119596  "
      ]
     },
     "execution_count": 5,
     "metadata": {},
     "output_type": "execute_result"
    }
   ],
   "source": [
    "# Highly expressed transcripts\n",
    "tdf = adata.var.copy()\n",
    "tdf = tdf.sort_values(by='transcript_count', ascending=False)\n",
    "tdf.head(15)"
   ]
  },
  {
   "cell_type": "markdown",
   "id": "d5fecee2-323e-4f9f-80f8-e1fe46514f32",
   "metadata": {},
   "source": [
    "# depth differences"
   ]
  },
  {
   "cell_type": "code",
   "execution_count": 6,
   "id": "3d995d3c-3b31-4735-904e-3054702c5ed5",
   "metadata": {},
   "outputs": [
    {
     "data": {
      "image/png": "[encoded data removed]",
      "text/plain": [
       "<Figure size 400x500 with 1 Axes>"
      ]
     },
     "metadata": {},
     "output_type": "display_data"
    }
   ],
   "source": [
    "plt.rcParams['figure.dpi'] = 200\n",
    "plt.rcParams['figure.figsize'] = 2, 2.5\n",
    "\n",
    "sns.boxplot(\n",
    "    data=adata.obs,\n",
    "    x='dataset',\n",
    "    y='n_genes',\n",
    "    hue='dataset',\n",
    "    width=0.5,\n",
    "    linecolor='k',\n",
    ")\n",
    "\n",
    "sns.despine()"
   ]
  },
  {
   "cell_type": "code",
   "execution_count": 7,
   "id": "0b29248b-da63-4169-a9fd-d291ea31209b",
   "metadata": {},
   "outputs": [
    {
     "data": {
      "image/png": "[encoded data removed]",
      "text/plain": [
       "<Figure size 400x500 with 1 Axes>"
      ]
     },
     "metadata": {},
     "output_type": "display_data"
    }
   ],
   "source": [
    "plt.rcParams['figure.dpi'] = 200\n",
    "plt.rcParams['figure.figsize'] = 2, 2.5\n",
    "\n",
    "sns.boxplot(\n",
    "    data=adata.obs,\n",
    "    x='dataset',\n",
    "    y='total_counts',\n",
    "    hue='dataset',\n",
    "    width=0.5,\n",
    "    linecolor='k',\n",
    ")\n",
    "\n",
    "sns.despine()"
   ]
  },
  {
   "cell_type": "markdown",
   "id": "d38730c5-a2e4-40ba-9077-f1aff8350538",
   "metadata": {},
   "source": [
    "# distribution of non-zero transcripts"
   ]
  },
  {
   "cell_type": "code",
   "execution_count": null,
   "id": "87e4de84-0ba2-464f-8cb4-2e2986abcb3e",
   "metadata": {},
   "outputs": [],
   "source": [
    "for layer in adata.layers.keys():\n",
    "    \n",
    "    df = adata.to_df(layer=layer)\n",
    "    \n",
    "    df = pd.DataFrame({\n",
    "        'barcode' : df.index,\n",
    "        'dataset' : adata.obs['dataset'].values,\n",
    "        'sum_counts' : df.sum(axis=1).values,\n",
    "        'mean_counts' : df.mean(axis=1).values,\n",
    "        'percent_nz' : (df != 0).sum(axis=1) / df.shape[1],\n",
    "    })\n",
    "    \n",
    "    print(f\"{layer=} {df.shape=}\")\n",
    "    # print(df.head())\n",
    "    \n",
    "    plt.rcParams['figure.dpi'] = 200\n",
    "    plt.rcParams['figure.figsize'] = 6.5, 2.5\n",
    "    fig, axs = plt.subplots(1, 3)\n",
    "    \n",
    "    columns = [\n",
    "        'sum_counts',\n",
    "        'mean_counts',\n",
    "        'percent_nz',\n",
    "    ]\n",
    "    \n",
    "    for i, col in enumerate(columns):    \n",
    "        sns.boxplot(\n",
    "            data=df,\n",
    "            x='dataset',\n",
    "            y=col,\n",
    "            hue='dataset',\n",
    "            width=0.35,\n",
    "            linecolor='k',\n",
    "            ax=axs[i]\n",
    "        )\n",
    "        \n",
    "    plt.tight_layout()\n",
    "    plt.suptitle(layer, y=1.1)\n",
    "    sns.despine()\n",
    "    plt.show()"
   ]
  },
  {
   "cell_type": "markdown",
   "id": "8cfa405e-af73-4c2e-a14c-663a94b5150b",
   "metadata": {},
   "source": [
    "# Some highly expressed transcripts"
   ]
  },
  {
   "cell_type": "code",
   "execution_count": null,
   "id": "4ab772e4-862e-445d-9b10-7a32371b509b",
   "metadata": {},
   "outputs": [],
   "source": [
    "plt.rcParams['figure.dpi'] = 200\n",
    "plt.rcParams['figure.figsize'] = 4, 5\n",
    "    \n",
    "sc.pl.highest_expr_genes(\n",
    "    adata,\n",
    ")"
   ]
  },
  {
   "cell_type": "code",
   "execution_count": null,
   "id": "b39c3a3e-c69f-4486-bac7-7802d011c102",
   "metadata": {},
   "outputs": [],
   "source": [
    "plt.rcParams['figure.dpi'] = 200\n",
    "plt.rcParams['figure.figsize'] = 4.5, 4\n",
    "    \n",
    "sc.pl.highly_variable_genes(adata)"
   ]
  },
  {
   "cell_type": "markdown",
   "id": "e6f899ae-47af-45e2-af0d-0f44bbf1d893",
   "metadata": {},
   "source": [
    "# gene annotations"
   ]
  },
  {
   "cell_type": "code",
   "execution_count": null,
   "id": "31336f38-fc32-4399-82aa-c58cad7e490e",
   "metadata": {},
   "outputs": [],
   "source": [
    "exp_df = adata.to_df(layer='raw_counts')\n",
    "exp_df['group'] = adata.obs['dataset'].values\n",
    "exp_df = exp_df.groupby('group').sum().T.reset_index()\n",
    "exp_df['gene_name'] = exp_df['transcript_name'].apply(lambda x: x.split(\"-\")[0])\n",
    "\n",
    "cols = ['iHSC', 'scFib']\n",
    "exp_df[['iHSC_gene_counts', 'scFib_gene_counts']] = exp_df.groupby('gene_name')[cols].transform('sum')\n",
    "exp_df = exp_df.set_index('transcript_name')\n",
    "exp_df = exp_df.drop(columns='gene_name')\n",
    "\n",
    "adata.var = pd.concat([adata.var, exp_df], ignore_index=False, axis=1)\n",
    "\n",
    "adata.var.head()"
   ]
  },
  {
   "cell_type": "code",
   "execution_count": null,
   "id": "6061cc38-f4b2-4f45-84e8-722d5438f338",
   "metadata": {},
   "outputs": [],
   "source": [
    "break"
   ]
  },
  {
   "cell_type": "code",
   "execution_count": null,
   "id": "d54e42a7-e59a-42c7-9dcd-35884af67ce6",
   "metadata": {},
   "outputs": [],
   "source": []
  },
  {
   "cell_type": "code",
   "execution_count": null,
   "id": "5aad3a6a-193e-40f7-8d8f-246fd2ef006e",
   "metadata": {},
   "outputs": [],
   "source": [
    "adata.var.head()"
   ]
  },
  {
   "cell_type": "code",
   "execution_count": null,
   "id": "4afa0adb-f0f3-4f5e-b6bf-4516deee1570",
   "metadata": {},
   "outputs": [],
   "source": []
  },
  {
   "cell_type": "code",
   "execution_count": null,
   "id": "983a442a-3e53-4c87-aacf-940c26c336c8",
   "metadata": {},
   "outputs": [],
   "source": []
  },
  {
   "cell_type": "code",
   "execution_count": null,
   "id": "edf6f816-05fe-48ea-a9b5-f188b0ed3b6c",
   "metadata": {},
   "outputs": [],
   "source": []
  },
  {
   "cell_type": "code",
   "execution_count": null,
   "id": "88ea6513-e5f7-43de-a4af-db3cdcb35cde",
   "metadata": {},
   "outputs": [],
   "source": []
  },
  {
   "cell_type": "code",
   "execution_count": null,
   "id": "c457e017-6e67-4c3e-aab8-67e604e67bc9",
   "metadata": {},
   "outputs": [],
   "source": [
    "break"
   ]
  },
  {
   "cell_type": "code",
   "execution_count": null,
   "id": "c5afc220-30a0-4484-a12e-c7715d71d3b6",
   "metadata": {},
   "outputs": [],
   "source": []
  },
  {
   "cell_type": "code",
   "execution_count": null,
   "id": "94b0984c-38c6-4925-a216-e37adc30b0cc",
   "metadata": {},
   "outputs": [],
   "source": []
  },
  {
   "cell_type": "markdown",
   "id": "43249b24-1ce1-4897-82de-d48be2a59d2b",
   "metadata": {},
   "source": [
    "# simple visualization"
   ]
  },
  {
   "cell_type": "code",
   "execution_count": null,
   "id": "f57d7ad0-1124-4ecc-8ded-43300dff8dc9",
   "metadata": {},
   "outputs": [],
   "source": [
    "def get_transcripts(gene_query, adata=adata):\n",
    "    if not isinstance(gene_query, list):\n",
    "        gene_query = [gene_query]\n",
    "        \n",
    "    transcript_list = adata.var[adata.var['gene_name'].isin(gene_query)].index\n",
    "    return sorted(transcript_list)\n",
    "\n",
    "get_transcripts('CD34')"
   ]
  },
  {
   "cell_type": "code",
   "execution_count": null,
   "id": "4430670f-ab73-4251-b8c6-6ce5535644e7",
   "metadata": {},
   "outputs": [],
   "source": [
    "def plot_transcript(adata, transcript, layer='log_norm', ax=None, cmap='viridis', colorbar=True):\n",
    "    pdf = adata.obs.copy()\n",
    "    vector = np.ravel(adata[:, transcript].layers[layer].todense())\n",
    "    sorted_idx = np.argsort(vector)\n",
    "    vmax = vector.max()\n",
    "    vmin = vector.min()\n",
    "        \n",
    "    if ax is None:\n",
    "        fig, ax = plt.subplots()\n",
    "    \n",
    "    # Base scatterplot (black dots)\n",
    "    sns.scatterplot(\n",
    "        data=pdf,\n",
    "        x='UMAP 1',\n",
    "        y='UMAP 2',\n",
    "        ec='k',\n",
    "        color='k',\n",
    "        s=25,\n",
    "        zorder=1,\n",
    "    )\n",
    "\n",
    "    # Expression-colored scatterplot\n",
    "    sns.scatterplot(\n",
    "        data=pdf.iloc[sorted_idx],\n",
    "        x='UMAP 1',\n",
    "        y='UMAP 2',\n",
    "        ec='none',\n",
    "        hue=vector[sorted_idx],\n",
    "        palette=cmap,\n",
    "        s=7,\n",
    "        zorder=1,\n",
    "        legend=False,\n",
    "    )\n",
    "    ax.set_yticks([])\n",
    "    ax.set_xticks([])\n",
    "    ax.set_aspect(\"auto\")\n",
    "    ax.set_ylabel(\"\")\n",
    "    ax.set_xlabel(\"\")\n",
    "    ax.set_title(transcript)\n",
    "    sns.despine(left=True)\n",
    "    \n",
    "    \n",
    "    if colorbar:\n",
    "        # Create colorbar\n",
    "        norm = plt.Normalize(vmin, vmax)\n",
    "        sm = plt.cm.ScalarMappable(cmap=cmap, norm=norm)\n",
    "        sm.set_array([])  # This is necessary for the colorbar to work\n",
    "\n",
    "        # Add colorbar to the plot\n",
    "        cbar = ax.figure.colorbar(sm, ax=ax, shrink=0.45)\n",
    "    \n",
    "    \n",
    "plt.rcParams['figure.dpi'] = 200\n",
    "plt.rcParams['figure.figsize'] = 5.5, 5\n",
    "\n",
    "plot_transcript(adata, 'CD34-204', layer='magic')"
   ]
  },
  {
   "cell_type": "code",
   "execution_count": null,
   "id": "3ac6ccda-74ce-405c-988f-bf116ebfad14",
   "metadata": {},
   "outputs": [],
   "source": [
    "gene = 'PTGS1'\n",
    "layer = 'magic'\n",
    "transcript_list = get_transcripts(gene, adata=adata)\n",
    "\n",
    "for transcript in transcript_list:\n",
    "    plt.rcParams['figure.dpi'] = 200\n",
    "    plt.rcParams['figure.figsize'] = 5.5, 5\n",
    "    plot_transcript(adata, transcript, layer)"
   ]
  },
  {
   "cell_type": "markdown",
   "id": "ddec8eda-85aa-44f2-a907-a6dabaea5391",
   "metadata": {},
   "source": [
    "# Gene annotations"
   ]
  },
  {
   "cell_type": "code",
   "execution_count": null,
   "id": "bdeda489-0915-4116-92c3-48a6aacce69a",
   "metadata": {},
   "outputs": [],
   "source": [
    "break"
   ]
  },
  {
   "cell_type": "code",
   "execution_count": null,
   "id": "5051ed1b-968a-431e-bc62-5eb60c0660cc",
   "metadata": {},
   "outputs": [],
   "source": []
  },
  {
   "cell_type": "code",
   "execution_count": null,
   "id": "35fd80c9-6e5a-410f-b45c-e278b0303ced",
   "metadata": {},
   "outputs": [],
   "source": [
    "gene = 'PTGS1'\n",
    "layer = 'magic'\n",
    "transcript_list = get_transcripts(gene, adata=adata)\n",
    "\n",
    "for transcript in transcript_list:\n",
    "    plt.rcParams['figure.dpi'] = 200\n",
    "    plt.rcParams['figure.figsize'] = 5.5, 5\n",
    "    plot_transcript(adata, transcript, layer)\n",
    "    # break"
   ]
  },
  {
   "cell_type": "code",
   "execution_count": null,
   "id": "3eaec4d7-8a64-4262-ba8d-a461d008d052",
   "metadata": {},
   "outputs": [],
   "source": [
    "break"
   ]
  },
  {
   "cell_type": "code",
   "execution_count": null,
   "id": "a14230e1-deb5-47ce-bdf3-8b96b521cb89",
   "metadata": {},
   "outputs": [],
   "source": []
  },
  {
   "cell_type": "markdown",
   "id": "39f9f398-950c-4b90-8721-cc63f4d7c234",
   "metadata": {},
   "source": [
    "# DEG by dataset"
   ]
  },
  {
   "cell_type": "code",
   "execution_count": null,
   "id": "1fe9033a-66c1-437d-936a-1010922496c3",
   "metadata": {},
   "outputs": [],
   "source": []
  },
  {
   "cell_type": "code",
   "execution_count": null,
   "id": "2ca4fa91-8975-4f48-9cf9-85e804cb0c7c",
   "metadata": {},
   "outputs": [],
   "source": []
  },
  {
   "cell_type": "code",
   "execution_count": null,
   "id": "b7f81524-2ac3-4dd9-9d92-e8f21eed5e0c",
   "metadata": {},
   "outputs": [],
   "source": []
  },
  {
   "cell_type": "code",
   "execution_count": null,
   "id": "2a837c5b-2707-4d72-a949-885455fe5bc7",
   "metadata": {},
   "outputs": [],
   "source": []
  },
  {
   "cell_type": "code",
   "execution_count": null,
   "id": "014d3019-d9fb-4dcf-be86-a1f04af99897",
   "metadata": {},
   "outputs": [],
   "source": []
  },
  {
   "cell_type": "code",
   "execution_count": null,
   "id": "6aaa3033-cb40-4bda-bba6-2c6c9321c2b8",
   "metadata": {},
   "outputs": [],
   "source": []
  },
  {
   "cell_type": "code",
   "execution_count": null,
   "id": "fc9492bf-00ad-4af8-a211-ccafc24a7c7d",
   "metadata": {},
   "outputs": [],
   "source": []
  },
  {
   "cell_type": "code",
   "execution_count": null,
   "id": "0856d052-9649-4d17-979e-c26b4f877bed",
   "metadata": {},
   "outputs": [],
   "source": [
    "def plot_transcript(adata, transcript, ax=None, cmap='viridis', colorbar=True):\n",
    "    pdf = adata.obs.copy()\n",
    "    vector = np.ravel(adata[:, transcript].X.todense())\n",
    "    sorted_idx = np.argsort(vector)\n",
    "    vmax = vector.max()\n",
    "    vmin = vector.min()\n",
    "        \n",
    "    if ax is None:\n",
    "        fig, ax = plt.subplots()\n",
    "    \n",
    "    # Base scatterplot (black dots)\n",
    "    sns.scatterplot(\n",
    "        data=pdf,\n",
    "        x='UMAP 1',\n",
    "        y='UMAP 2',\n",
    "        ec='k',\n",
    "        color='k',\n",
    "        s=25,\n",
    "        zorder=1,\n",
    "    )\n",
    "\n",
    "    # Expression-colored scatterplot\n",
    "    sns.scatterplot(\n",
    "        data=pdf.iloc[sorted_idx],\n",
    "        x='UMAP 1',\n",
    "        y='UMAP 2',\n",
    "        ec='none',\n",
    "        hue=vector[sorted_idx],\n",
    "        palette=cmap,\n",
    "        s=7,\n",
    "        zorder=1,\n",
    "        legend=False,\n",
    "    )\n",
    "    ax.set_yticks([])\n",
    "    ax.set_xticks([])\n",
    "    ax.set_aspect(\"auto\")\n",
    "    ax.set_ylabel(\"\")\n",
    "    ax.set_xlabel(\"\")\n",
    "    ax.set_title(transcript)\n",
    "    sns.despine(left=True)\n",
    "    \n",
    "    \n",
    "    if colorbar:\n",
    "        # Create colorbar\n",
    "        norm = plt.Normalize(vmin, vmax)\n",
    "        sm = plt.cm.ScalarMappable(cmap=cmap, norm=norm)\n",
    "        sm.set_array([])  # This is necessary for the colorbar to work\n",
    "\n",
    "        # Add colorbar to the plot\n",
    "        cbar = ax.figure.colorbar(sm, ax=ax, shrink=0.45)\n",
    "    \n",
    "    \n",
    "plt.rcParams['figure.dpi'] = 200\n",
    "plt.rcParams['figure.figsize'] = 5.5, 5\n",
    "plot_transcript(adata, 'CD34-204')"
   ]
  },
  {
   "cell_type": "code",
   "execution_count": null,
   "id": "e2531221-97b7-42e3-b477-89bc60bdd85b",
   "metadata": {},
   "outputs": [],
   "source": [
    "gene = 'PTGS1'\n",
    "layer = 'magic'\n",
    "transcript_list = get_transcripts(gene, adata=adata)\n",
    "\n",
    "for transcript in transcript_list:\n",
    "    plt.rcParams['figure.dpi'] = 200\n",
    "    plt.rcParams['figure.figsize'] = 5.5, 5\n",
    "    plot_transcript(adata, transcript, layer)\n",
    "    # break"
   ]
  },
  {
   "cell_type": "code",
   "execution_count": null,
   "id": "b79b2daa-06d1-42e3-a3e4-007c39027807",
   "metadata": {},
   "outputs": [],
   "source": []
  },
  {
   "cell_type": "code",
   "execution_count": null,
   "id": "aee081d9-acfe-4a1a-aa79-b8188b1088d4",
   "metadata": {},
   "outputs": [],
   "source": []
  },
  {
   "cell_type": "markdown",
   "id": "2e71e8cc-0f9f-49fc-a87f-eb50b6f1d323",
   "metadata": {},
   "source": [
    "# load in the Chen 2014 Data"
   ]
  },
  {
   "cell_type": "code",
   "execution_count": null,
   "id": "45b33a47-d45e-4608-8f33-d6c63fe7dc3e",
   "metadata": {},
   "outputs": [],
   "source": [
    "fpath = \"../resources/chen_2014_isoforms.csv\"\n",
    "df = pd.read_csv(fpath)\n",
    "print(f\"{df.shape=}\")\n",
    "df = df[df['Model'] == 'HSC']\n",
    "df = df[df['Gene_biotype'] == 'protein_coding']\n",
    "df = df.sort_values(by='log(FC)', ascending=False)\n",
    "print(f\"{df.shape=}\")\n",
    "\n",
    "df[['External_gene_id', 'Model posterior probability']].head(20)"
   ]
  },
  {
   "cell_type": "code",
   "execution_count": null,
   "id": "54314b77-6bd9-4b1f-a0f0-b31699725143",
   "metadata": {},
   "outputs": [],
   "source": [
    "hsc_pres = [x for x in hsc_genes if x in tdf['gene_name'].values]\n",
    "\n",
    "exp_df = tdf[tdf['gene_name'].isin(hsc_pres)]\n",
    "exp_df = exp_df[exp_df['transcript_percent'] < 0.9]\n",
    "exp_df.head(15)"
   ]
  },
  {
   "cell_type": "code",
   "execution_count": null,
   "id": "15d46102-6e62-4980-87d3-ca6ed155f072",
   "metadata": {},
   "outputs": [],
   "source": [
    "gene = 'PTGS1'\n",
    "layer = 'magic'\n",
    "transcript_list = get_transcripts(gene, adata=adata)\n",
    "\n",
    "for transcript in transcript_list:\n",
    "    plt.rcParams['figure.dpi'] = 200\n",
    "    plt.rcParams['figure.figsize'] = 5.5, 5\n",
    "    plot_transcript(adata, transcript, layer)\n",
    "    # break"
   ]
  },
  {
   "cell_type": "code",
   "execution_count": null,
   "id": "07c92a93-b8dd-4af7-8617-06bcd93e00c7",
   "metadata": {},
   "outputs": [],
   "source": []
  }
 ],
 "metadata": {
  "kernelspec": {
   "display_name": "scanpy",
   "language": "python",
   "name": "scanpy"
  },
  "language_info": {
   "codemirror_mode": {
    "name": "ipython",
    "version": 3
   },
   "file_extension": ".py",
   "mimetype": "text/x-python",
   "name": "python",
   "nbconvert_exporter": "python",
   "pygments_lexer": "ipython3",
   "version": "3.12.5"
  }
 },
 "nbformat": 4,
 "nbformat_minor": 5
}
