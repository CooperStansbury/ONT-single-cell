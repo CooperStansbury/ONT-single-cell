{
 "cells": [
  {
   "cell_type": "code",
   "execution_count": 1,
   "id": "f9b5f6b5-3102-4589-b686-5f88f27a86b2",
   "metadata": {},
   "outputs": [],
   "source": [
    "import sys\n",
    "import pandas as pd\n",
    "import numpy as np\n",
    "import matplotlib.pyplot as plt\n",
    "import seaborn as sns \n",
    "from scipy.spatial import ConvexHull\n",
    "import scanpy.external as sce\n",
    "import scanpy as sc\n",
    "import scipy\n",
    "from scipy.spatial.distance import pdist, squareform\n",
    "\n",
    "from importlib import reload\n",
    "\n",
    "# locals\n",
    "import utils as ut\n",
    "import plotting as plt2"
   ]
  },
  {
   "cell_type": "markdown",
   "id": "527208f1-1acc-42cd-b1c2-35f9b6499ec9",
   "metadata": {},
   "source": [
    "# load BJ Fib data"
   ]
  },
  {
   "cell_type": "code",
   "execution_count": 2,
   "id": "f0e3938c-034c-45f2-8e06-34d3da0dff83",
   "metadata": {},
   "outputs": [
    {
     "name": "stdout",
     "output_type": "stream",
     "text": [
      "bj.shape=(19129, 5)\n"
     ]
    },
    {
     "data": {
      "text/html": [
       "<div>\n",
       "<style scoped>\n",
       "    .dataframe tbody tr th:only-of-type {\n",
       "        vertical-align: middle;\n",
       "    }\n",
       "\n",
       "    .dataframe tbody tr th {\n",
       "        vertical-align: top;\n",
       "    }\n",
       "\n",
       "    .dataframe thead th {\n",
       "        text-align: right;\n",
       "    }\n",
       "</style>\n",
       "<table border=\"1\" class=\"dataframe\">\n",
       "  <thead>\n",
       "    <tr style=\"text-align: right;\">\n",
       "      <th></th>\n",
       "      <th>gene_name</th>\n",
       "      <th>tpm</th>\n",
       "      <th>log_tpm</th>\n",
       "      <th>rank</th>\n",
       "      <th>is_panglao_marker</th>\n",
       "    </tr>\n",
       "  </thead>\n",
       "  <tbody>\n",
       "    <tr>\n",
       "      <th>0</th>\n",
       "      <td>TMSB10</td>\n",
       "      <td>45584.16</td>\n",
       "      <td>10.727338</td>\n",
       "      <td>1.0</td>\n",
       "      <td>False</td>\n",
       "    </tr>\n",
       "    <tr>\n",
       "      <th>1</th>\n",
       "      <td>S100A6</td>\n",
       "      <td>35129.31</td>\n",
       "      <td>10.466820</td>\n",
       "      <td>2.0</td>\n",
       "      <td>False</td>\n",
       "    </tr>\n",
       "    <tr>\n",
       "      <th>2</th>\n",
       "      <td>LGALS1</td>\n",
       "      <td>22412.13</td>\n",
       "      <td>10.017402</td>\n",
       "      <td>3.0</td>\n",
       "      <td>False</td>\n",
       "    </tr>\n",
       "    <tr>\n",
       "      <th>3</th>\n",
       "      <td>TMSB4X</td>\n",
       "      <td>15365.34</td>\n",
       "      <td>9.639935</td>\n",
       "      <td>4.0</td>\n",
       "      <td>False</td>\n",
       "    </tr>\n",
       "    <tr>\n",
       "      <th>4</th>\n",
       "      <td>MYL6</td>\n",
       "      <td>14625.02</td>\n",
       "      <td>9.590557</td>\n",
       "      <td>5.0</td>\n",
       "      <td>False</td>\n",
       "    </tr>\n",
       "  </tbody>\n",
       "</table>\n",
       "</div>"
      ],
      "text/plain": [
       "  gene_name       tpm    log_tpm  rank  is_panglao_marker\n",
       "0    TMSB10  45584.16  10.727338   1.0              False\n",
       "1    S100A6  35129.31  10.466820   2.0              False\n",
       "2    LGALS1  22412.13  10.017402   3.0              False\n",
       "3    TMSB4X  15365.34   9.639935   4.0              False\n",
       "4      MYL6  14625.02   9.590557   5.0              False"
      ]
     },
     "execution_count": 2,
     "metadata": {},
     "output_type": "execute_result"
    }
   ],
   "source": [
    "# load BJ data\n",
    "bj = pd.read_csv(\"/nfs/turbo/umms-indikar/shared/projects/R01/BJ_FIB_GENES.csv\")\n",
    "bj = bj.sort_values(by='tpm', ascending=False)\n",
    "print(f\"{bj.shape=}\")\n",
    "\n",
    "bj.head()"
   ]
  },
  {
   "cell_type": "markdown",
   "id": "df4447dd-a1f1-4926-a8b9-688185856ca9",
   "metadata": {},
   "source": [
    "# Load iHSC data"
   ]
  },
  {
   "cell_type": "code",
   "execution_count": 3,
   "id": "cafac204-4d8d-41b9-a928-f6b4c4a953e9",
   "metadata": {},
   "outputs": [
    {
     "data": {
      "text/plain": [
       "AnnData object with n_obs × n_vars = 54347 × 19070\n",
       "    obs: 'n_counts', 'cell_type', 'dataset', 'organ_tissue', 'n_genes', 'new_cluster', 'cell_label', 'cluster_str', 'UMAP 1', 'UMAP 2'\n",
       "    var: 'gene_name', 'ensemble_id', 'n_counts', 'n_cells', 'highly_variable', 'means', 'dispersions', 'dispersions_norm', 'B_mem', 'B_naive', 'Baso', 'DC', 'Endo', 'Eos', 'Ery', 'Fibro', 'HSC', 'Macro', 'Mega', 'Mono', 'MDSC', 'Neut', 'Osteo', 'Plasma', 'pDC', 'Retic', 'Stromal', 'cluster_genes'\n",
       "    uns: 'cell_type_colors', 'dataset_colors', 'go_annotations', 'hvg', 'log1p', 'neighbors', 'new_cluster', 'new_cluster_colors', 'organ_tissue_colors', 'panglaodb', 'pca', 'umap'\n",
       "    obsm: 'X_pca', 'X_umap'\n",
       "    varm: 'PCs'\n",
       "    layers: 'log_norm', 'raw_counts'\n",
       "    obsp: 'connectivities', 'distances'"
      ]
     },
     "execution_count": 3,
     "metadata": {},
     "output_type": "execute_result"
    }
   ],
   "source": [
    "fpath = \"/scratch/indikar_root/indikar1/cstansbu/HSC/scanpy/hsc_landscape.anndata.h5ad\"\n",
    "\n",
    "adata = sc.read_h5ad(fpath)\n",
    "adata.var_names = adata.var['gene_name'].values\n",
    "adata"
   ]
  },
  {
   "cell_type": "code",
   "execution_count": 4,
   "id": "638b623b-5960-42cc-b355-07ead3ef80d2",
   "metadata": {},
   "outputs": [
    {
     "data": {
      "text/plain": [
       "Index(['A1BG', 'A1CF', 'A2M', 'A2ML1', 'A3GALT2', 'A4GALT', 'A4GNT', 'AAAS',\n",
       "       'AACS', 'AADAC'],\n",
       "      dtype='object')"
      ]
     },
     "execution_count": 4,
     "metadata": {},
     "output_type": "execute_result"
    }
   ],
   "source": [
    "adata.var_names[:10]"
   ]
  },
  {
   "cell_type": "code",
   "execution_count": 5,
   "id": "44cb02e0-d156-427e-a9a5-03166ba8af34",
   "metadata": {},
   "outputs": [
    {
     "name": "stdout",
     "output_type": "stream",
     "text": [
      "Shared genes:  18707\n"
     ]
    }
   ],
   "source": [
    "# Combine the expression\n",
    "common_genes = set(bj['gene_name'].to_list())& set(adata.var_names)  \n",
    "common_genes_list = list(common_genes) \n",
    "print(\"Shared genes: \", len(common_genes_list))"
   ]
  },
  {
   "cell_type": "code",
   "execution_count": 6,
   "id": "66e2333a-e0b0-4156-8ab0-ed2b3d89679b",
   "metadata": {},
   "outputs": [
    {
     "name": "stderr",
     "output_type": "stream",
     "text": [
      "/tmp/ipykernel_3475092/620029064.py:5: FutureWarning: The default of observed=False is deprecated and will be changed to True in a future version of pandas. Pass observed=False to retain current behavior or observed=True to adopt the future default and silence this warning.\n",
      "  for tissue, group in ts_fb.obs.groupby('organ_tissue'):\n"
     ]
    },
    {
     "name": "stdout",
     "output_type": "stream",
     "text": [
      "            tissue         r  pval\n",
      "0          Bladder  0.589222   0.0\n",
      "1              Fat  0.583044   0.0\n",
      "2  Large Intestine  0.512775   0.0\n",
      "3         Prostate  0.548118   0.0\n",
      "4  Small Intestine  0.541455   0.0\n",
      "5           Thymus  0.615230   0.0\n",
      "6           Tongue  0.539387   0.0\n",
      "7          Trachea  0.615546   0.0\n",
      "8      Vasculature  0.607784   0.0\n"
     ]
    }
   ],
   "source": [
    "ts_fb = adata[adata.obs['cell_type'] == 'FB', :]\n",
    "\n",
    "result = []\n",
    "\n",
    "for tissue, group in ts_fb.obs.groupby('organ_tissue'):\n",
    "    X = ts_fb[group.index, :].copy().to_df()\n",
    "    \n",
    "    X = X.mean(axis=0).reset_index()\n",
    "    X.columns = ['gene_name', tissue]\n",
    "    \n",
    "    X = pd.merge(X, bj)\n",
    "    \n",
    "    # all correlation\n",
    "    r, pval = scipy.stats.pearsonr(\n",
    "        X[tissue].values, \n",
    "        X['log_tpm'].values,\n",
    "    )\n",
    "    \n",
    "    row = {\n",
    "        'tissue' : tissue.replace(\"_\", \" \"),\n",
    "        'r' : r,\n",
    "        'pval' : pval,\n",
    "    }\n",
    "    result.append(row)\n",
    "\n",
    "result = pd.DataFrame(result)\n",
    "print(result)"
   ]
  },
  {
   "cell_type": "code",
   "execution_count": 7,
   "id": "731f460b-712c-43ad-a22e-2e8ce62e5f2c",
   "metadata": {},
   "outputs": [
    {
     "data": {
      "image/png": "[encoded data removed]",
      "text/plain": [
       "<Figure size 600x500 with 1 Axes>"
      ]
     },
     "metadata": {},
     "output_type": "display_data"
    }
   ],
   "source": [
    "# Create the bar plot with error bars\n",
    "plt.rcParams['figure.dpi'] = 200\n",
    "plt.rcParams['figure.figsize'] = 3, 2.5\n",
    "plt.bar(\n",
    "    result['tissue'], \n",
    "    result['r'],\n",
    "    ec='k',\n",
    ") \n",
    "\n",
    "# Add labels and title\n",
    "plt.xlabel(\"\")\n",
    "plt.ylabel(\"Correlation (r)\", fontsize=12)\n",
    "\n",
    "# Rotate x-axis labels if they overlap\n",
    "plt.xticks(rotation=90, ha=\"right\")  \n",
    "    \n",
    "sns.despine()\n",
    "plt.show()"
   ]
  },
  {
   "cell_type": "code",
   "execution_count": 8,
   "id": "1c08eba5-5431-44ae-8534-d8d9683b1e07",
   "metadata": {},
   "outputs": [
    {
     "ename": "SyntaxError",
     "evalue": "'break' outside loop (668683560.py, line 1)",
     "output_type": "error",
     "traceback": [
      "\u001b[0;36m  Cell \u001b[0;32mIn[8], line 1\u001b[0;36m\u001b[0m\n\u001b[0;31m    break\u001b[0m\n\u001b[0m    ^\u001b[0m\n\u001b[0;31mSyntaxError\u001b[0m\u001b[0;31m:\u001b[0m 'break' outside loop\n"
     ]
    }
   ],
   "source": [
    "break"
   ]
  }
 ],
 "metadata": {
  "kernelspec": {
   "display_name": "scanpy",
   "language": "python",
   "name": "scanpy"
  },
  "language_info": {
   "codemirror_mode": {
    "name": "ipython",
    "version": 3
   },
   "file_extension": ".py",
   "mimetype": "text/x-python",
   "name": "python",
   "nbconvert_exporter": "python",
   "pygments_lexer": "ipython3",
   "version": "3.12.3"
  }
 },
 "nbformat": 4,
 "nbformat_minor": 5
}
