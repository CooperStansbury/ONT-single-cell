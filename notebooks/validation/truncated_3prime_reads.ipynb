{
 "cells": [
  {
   "cell_type": "code",
   "execution_count": 1,
   "id": "6608b10d-05c8-4361-984c-410724f09d9d",
   "metadata": {},
   "outputs": [],
   "source": [
    "import pandas as pd\n",
    "import numpy as np\n",
    "import sys\n",
    "import os\n",
    "import pysam\n",
    "import pyranges as pr\n",
    "\n",
    "import matplotlib.pyplot as plt\n",
    "import seaborn as sns\n",
    "from mpl_toolkits.axes_grid1 import make_axes_locatable\n",
    "from matplotlib.colors import LogNorm, Normalize"
   ]
  },
  {
   "cell_type": "markdown",
   "id": "abe1970e-db3b-4dba-a9db-0c5ba86fe2e0",
   "metadata": {},
   "source": [
    "# Load the mappings to V5 constructs"
   ]
  },
  {
   "cell_type": "code",
   "execution_count": 6,
   "id": "eabd0c76-925d-4507-8a04-64c9dae33092",
   "metadata": {},
   "outputs": [
    {
     "name": "stdout",
     "output_type": "stream",
     "text": [
      "v5.shape=(38672, 10)\n"
     ]
    },
    {
     "data": {
      "text/html": [
       "<div>\n",
       "<style scoped>\n",
       "    .dataframe tbody tr th:only-of-type {\n",
       "        vertical-align: middle;\n",
       "    }\n",
       "\n",
       "    .dataframe tbody tr th {\n",
       "        vertical-align: top;\n",
       "    }\n",
       "\n",
       "    .dataframe thead th {\n",
       "        text-align: right;\n",
       "    }\n",
       "</style>\n",
       "<table border=\"1\" class=\"dataframe\">\n",
       "  <thead>\n",
       "    <tr style=\"text-align: right;\">\n",
       "      <th></th>\n",
       "      <th>barcode</th>\n",
       "      <th>umi</th>\n",
       "      <th>read_name</th>\n",
       "      <th>forward</th>\n",
       "      <th>mapping_quality</th>\n",
       "      <th>query_length</th>\n",
       "      <th>query_name</th>\n",
       "      <th>reference_name</th>\n",
       "      <th>reference_start</th>\n",
       "      <th>reference_end</th>\n",
       "    </tr>\n",
       "  </thead>\n",
       "  <tbody>\n",
       "    <tr>\n",
       "      <th>42389</th>\n",
       "      <td>CGAAGGAAGTGTACAA</td>\n",
       "      <td>CCTACGGCCCGC</td>\n",
       "      <td>2454610c-8369-4117-a3db-a66d03a69a8a</td>\n",
       "      <td>False</td>\n",
       "      <td>60</td>\n",
       "      <td>610</td>\n",
       "      <td>CGAAGGAAGTGTACAA_CCTACGGCCCGC#2454610c-8369-41...</td>\n",
       "      <td>STAT5A_tre-3ltr</td>\n",
       "      <td>2655</td>\n",
       "      <td>2746.0</td>\n",
       "    </tr>\n",
       "    <tr>\n",
       "      <th>11</th>\n",
       "      <td>CGTAATGCACAAATCC</td>\n",
       "      <td>GCCAGTGCGCTT</td>\n",
       "      <td>a4b1f06b-aabd-41a9-bbbe-988d66b2a575</td>\n",
       "      <td>True</td>\n",
       "      <td>60</td>\n",
       "      <td>845</td>\n",
       "      <td>CGTAATGCACAAATCC_GCCAGTGCGCTT#a4b1f06b-aabd-41...</td>\n",
       "      <td>FOS_tre-3ltr</td>\n",
       "      <td>0</td>\n",
       "      <td>684.0</td>\n",
       "    </tr>\n",
       "    <tr>\n",
       "      <th>12</th>\n",
       "      <td>ACCTACCTCCATTCGC</td>\n",
       "      <td>AATCAGCACTAC</td>\n",
       "      <td>b638a499-a273-40d5-978a-2c5ec7545322</td>\n",
       "      <td>True</td>\n",
       "      <td>60</td>\n",
       "      <td>1011</td>\n",
       "      <td>ACCTACCTCCATTCGC_AATCAGCACTAC#b638a499-a273-40...</td>\n",
       "      <td>FOS_tre-3ltr</td>\n",
       "      <td>0</td>\n",
       "      <td>766.0</td>\n",
       "    </tr>\n",
       "    <tr>\n",
       "      <th>42350</th>\n",
       "      <td>TATCAGGTCCCAGGAC</td>\n",
       "      <td>GGTCATTCACGG</td>\n",
       "      <td>8706740d-3bca-493c-a8c8-39d9c26dcbee</td>\n",
       "      <td>True</td>\n",
       "      <td>60</td>\n",
       "      <td>409</td>\n",
       "      <td>TATCAGGTCCCAGGAC_GGTCATTCACGG#8706740d-3bca-49...</td>\n",
       "      <td>STAT5A_tre-3ltr</td>\n",
       "      <td>2470</td>\n",
       "      <td>2747.0</td>\n",
       "    </tr>\n",
       "    <tr>\n",
       "      <th>42351</th>\n",
       "      <td>GTCCCATAGGTCACAG</td>\n",
       "      <td>TCACAGGGATCG</td>\n",
       "      <td>ba8621fa-2aa6-4f98-8bcd-c8354857854c</td>\n",
       "      <td>False</td>\n",
       "      <td>60</td>\n",
       "      <td>357</td>\n",
       "      <td>GTCCCATAGGTCACAG_TCACAGGGATCG#ba8621fa-2aa6-4f...</td>\n",
       "      <td>STAT5A_tre-3ltr</td>\n",
       "      <td>2481</td>\n",
       "      <td>2747.0</td>\n",
       "    </tr>\n",
       "  </tbody>\n",
       "</table>\n",
       "</div>"
      ],
      "text/plain": [
       "                barcode           umi                             read_name  \\\n",
       "42389  CGAAGGAAGTGTACAA  CCTACGGCCCGC  2454610c-8369-4117-a3db-a66d03a69a8a   \n",
       "11     CGTAATGCACAAATCC  GCCAGTGCGCTT  a4b1f06b-aabd-41a9-bbbe-988d66b2a575   \n",
       "12     ACCTACCTCCATTCGC  AATCAGCACTAC  b638a499-a273-40d5-978a-2c5ec7545322   \n",
       "42350  TATCAGGTCCCAGGAC  GGTCATTCACGG  8706740d-3bca-493c-a8c8-39d9c26dcbee   \n",
       "42351  GTCCCATAGGTCACAG  TCACAGGGATCG  ba8621fa-2aa6-4f98-8bcd-c8354857854c   \n",
       "\n",
       "       forward  mapping_quality  query_length  \\\n",
       "42389    False               60           610   \n",
       "11        True               60           845   \n",
       "12        True               60          1011   \n",
       "42350     True               60           409   \n",
       "42351    False               60           357   \n",
       "\n",
       "                                              query_name   reference_name  \\\n",
       "42389  CGAAGGAAGTGTACAA_CCTACGGCCCGC#2454610c-8369-41...  STAT5A_tre-3ltr   \n",
       "11     CGTAATGCACAAATCC_GCCAGTGCGCTT#a4b1f06b-aabd-41...     FOS_tre-3ltr   \n",
       "12     ACCTACCTCCATTCGC_AATCAGCACTAC#b638a499-a273-40...     FOS_tre-3ltr   \n",
       "42350  TATCAGGTCCCAGGAC_GGTCATTCACGG#8706740d-3bca-49...  STAT5A_tre-3ltr   \n",
       "42351  GTCCCATAGGTCACAG_TCACAGGGATCG#ba8621fa-2aa6-4f...  STAT5A_tre-3ltr   \n",
       "\n",
       "       reference_start  reference_end  \n",
       "42389             2655         2746.0  \n",
       "11                   0          684.0  \n",
       "12                   0          766.0  \n",
       "42350             2470         2747.0  \n",
       "42351             2481         2747.0  "
      ]
     },
     "execution_count": 6,
     "metadata": {},
     "output_type": "execute_result"
    }
   ],
   "source": [
    "bam_path = \"/scratch/indikar_root/indikar1/cstansbu/HSC/v5_tagged/all_reads_factor_mapped.bam\"\n",
    "\n",
    "bamfile = pysam.AlignmentFile(bam_path, \"rb\")\n",
    "\n",
    "v5 = []\n",
    "\n",
    "for read in bamfile:\n",
    "    barcode = read.qname.split('_')[0]\n",
    "    umi = read.qname.split('_')[1].split(\"#\")[0]\n",
    "    read_name = read.qname.split(\"#\")[1][:-2]\n",
    "    \n",
    "    row = {\n",
    "            'barcode' : barcode,\n",
    "            'umi' : umi,\n",
    "            'read_name' : read_name,\n",
    "            'forward' : read.is_forward,\n",
    "            'mapping_quality' : read.mapping_quality,\n",
    "            'query_length' : read.query_length,\n",
    "            'query_name' : read.query_name,\n",
    "            'reference_name' : read.reference_name,\n",
    "            'reference_start' : read.reference_start,\n",
    "            'reference_end' : read.reference_end,\n",
    "        }\n",
    "    v5.append(row)\n",
    "    \n",
    "        \n",
    "v5 = pd.DataFrame(v5)\n",
    "v5 = v5[v5['reference_name'].notna()]\n",
    "v5 = v5[v5['mapping_quality'] > 0]\n",
    "v5 = v5.sort_values(by='mapping_quality', ascending=False)\n",
    "\n",
    "v5 = v5.drop_duplicates(subset=['barcode', 'umi', 'reference_name'])\n",
    "\n",
    "print(f\"{v5.shape=}\")\n",
    "v5.head()"
   ]
  },
  {
   "cell_type": "code",
   "execution_count": 7,
   "id": "59786ae6-7414-4792-9c1d-de15dc7699e3",
   "metadata": {},
   "outputs": [
    {
     "data": {
      "text/plain": [
       "0.774235294117647"
      ]
     },
     "execution_count": 7,
     "metadata": {},
     "output_type": "execute_result"
    }
   ],
   "source": [
    "v5['barcode'].nunique() / 8500"
   ]
  },
  {
   "cell_type": "code",
   "execution_count": 8,
   "id": "b513f5e0-0f4c-4410-9d48-1a247063a437",
   "metadata": {},
   "outputs": [
    {
     "data": {
      "text/plain": [
       "reference_name\n",
       "FOS_tre-3ltr       23163\n",
       "REL_tre-3ltr       11664\n",
       "GATA2_tre-3ltr      3667\n",
       "STAT5A_tre-3ltr      178\n",
       "Name: count, dtype: int64"
      ]
     },
     "execution_count": 8,
     "metadata": {},
     "output_type": "execute_result"
    }
   ],
   "source": [
    "v5['reference_name'].value_counts(dropna=False)"
   ]
  },
  {
   "cell_type": "code",
   "execution_count": 5,
   "id": "4eabca6e-36a9-4337-8e87-842efb136ab7",
   "metadata": {},
   "outputs": [
    {
     "ename": "SyntaxError",
     "evalue": "'break' outside loop (668683560.py, line 1)",
     "output_type": "error",
     "traceback": [
      "\u001b[0;36m  Cell \u001b[0;32mIn[5], line 1\u001b[0;36m\u001b[0m\n\u001b[0;31m    break\u001b[0m\n\u001b[0m    ^\u001b[0m\n\u001b[0;31mSyntaxError\u001b[0m\u001b[0;31m:\u001b[0m 'break' outside loop\n"
     ]
    }
   ],
   "source": [
    "break"
   ]
  },
  {
   "cell_type": "markdown",
   "id": "d7f10493-1a10-4d17-abdd-41dbc0893dd7",
   "metadata": {},
   "source": [
    "# Factor Tables"
   ]
  },
  {
   "cell_type": "code",
   "execution_count": 38,
   "id": "f3e37d83-1abd-41f7-9e36-15731eb9087c",
   "metadata": {},
   "outputs": [
    {
     "data": {
      "text/html": [
       "<div>\n",
       "<style scoped>\n",
       "    .dataframe tbody tr th:only-of-type {\n",
       "        vertical-align: middle;\n",
       "    }\n",
       "\n",
       "    .dataframe tbody tr th {\n",
       "        vertical-align: top;\n",
       "    }\n",
       "\n",
       "    .dataframe thead th {\n",
       "        text-align: right;\n",
       "    }\n",
       "</style>\n",
       "<table border=\"1\" class=\"dataframe\">\n",
       "  <thead>\n",
       "    <tr style=\"text-align: right;\">\n",
       "      <th></th>\n",
       "      <th>barcode</th>\n",
       "      <th>umi</th>\n",
       "      <th>read_name</th>\n",
       "      <th>patternName</th>\n",
       "      <th>strand</th>\n",
       "      <th>start</th>\n",
       "      <th>end</th>\n",
       "    </tr>\n",
       "  </thead>\n",
       "  <tbody>\n",
       "    <tr>\n",
       "      <th>0</th>\n",
       "      <td>CATAGACAGGATGCGT</td>\n",
       "      <td>GATAGTGTGTGC</td>\n",
       "      <td>f5a43d5b-f95e-41fc-a1fa-391af47efa14</td>\n",
       "      <td>attb2_hpgk</td>\n",
       "      <td>+</td>\n",
       "      <td>1055</td>\n",
       "      <td>1677</td>\n",
       "    </tr>\n",
       "    <tr>\n",
       "      <th>1</th>\n",
       "      <td>TCATGTTCATAACTCG</td>\n",
       "      <td>GGCTGACATCCT</td>\n",
       "      <td>6cf07e9c-af31-41b5-804c-b5276cb93013</td>\n",
       "      <td>tTRE_promoter</td>\n",
       "      <td>+</td>\n",
       "      <td>1568</td>\n",
       "      <td>1878</td>\n",
       "    </tr>\n",
       "    <tr>\n",
       "      <th>2</th>\n",
       "      <td>TTCACGCTCATCGTAG</td>\n",
       "      <td>GATAACTCCATA</td>\n",
       "      <td>8b01f79b-2f0d-491f-bbf3-364a028c5bac</td>\n",
       "      <td>attb2_hpgk</td>\n",
       "      <td>+</td>\n",
       "      <td>1269</td>\n",
       "      <td>1891</td>\n",
       "    </tr>\n",
       "    <tr>\n",
       "      <th>3</th>\n",
       "      <td>AAAGGGCCAGAGTTCT</td>\n",
       "      <td>TACTGGCGTACC</td>\n",
       "      <td>4158d354-7385-4df6-82f2-97a7ace07f5f</td>\n",
       "      <td>tTRE_promoter</td>\n",
       "      <td>+</td>\n",
       "      <td>229</td>\n",
       "      <td>539</td>\n",
       "    </tr>\n",
       "    <tr>\n",
       "      <th>4</th>\n",
       "      <td>AGGTAGGTCCCTCATG</td>\n",
       "      <td>CCGGTACCTCGA</td>\n",
       "      <td>9dd0af2c-b466-48b3-866c-8142d3134c30</td>\n",
       "      <td>attb2_hpgk</td>\n",
       "      <td>-</td>\n",
       "      <td>2219</td>\n",
       "      <td>2841</td>\n",
       "    </tr>\n",
       "    <tr>\n",
       "      <th>5</th>\n",
       "      <td>GAAATGAGTTCTGACA</td>\n",
       "      <td>GGTTCACTATAA</td>\n",
       "      <td>29128759-0a43-4d7a-b4af-8dd533910f21</td>\n",
       "      <td>attb2_hpgk</td>\n",
       "      <td>+</td>\n",
       "      <td>302</td>\n",
       "      <td>924</td>\n",
       "    </tr>\n",
       "    <tr>\n",
       "      <th>6</th>\n",
       "      <td>CCTCTCCTCCCGTTCA</td>\n",
       "      <td>GAGTACCGGTAT</td>\n",
       "      <td>313836b9-2eac-4589-a487-12edecaaa0fe</td>\n",
       "      <td>attb2_hpgk</td>\n",
       "      <td>+</td>\n",
       "      <td>655</td>\n",
       "      <td>1277</td>\n",
       "    </tr>\n",
       "    <tr>\n",
       "      <th>7</th>\n",
       "      <td>ATCCTATAGTATGATG</td>\n",
       "      <td>CGGGTAGAATTT</td>\n",
       "      <td>e7f5e150-6e78-413b-a3bb-42ac9c8c09fb</td>\n",
       "      <td>attb2_hpgk</td>\n",
       "      <td>+</td>\n",
       "      <td>260</td>\n",
       "      <td>882</td>\n",
       "    </tr>\n",
       "  </tbody>\n",
       "</table>\n",
       "</div>"
      ],
      "text/plain": [
       "            barcode           umi                             read_name  \\\n",
       "0  CATAGACAGGATGCGT  GATAGTGTGTGC  f5a43d5b-f95e-41fc-a1fa-391af47efa14   \n",
       "1  TCATGTTCATAACTCG  GGCTGACATCCT  6cf07e9c-af31-41b5-804c-b5276cb93013   \n",
       "2  TTCACGCTCATCGTAG  GATAACTCCATA  8b01f79b-2f0d-491f-bbf3-364a028c5bac   \n",
       "3  AAAGGGCCAGAGTTCT  TACTGGCGTACC  4158d354-7385-4df6-82f2-97a7ace07f5f   \n",
       "4  AGGTAGGTCCCTCATG  CCGGTACCTCGA  9dd0af2c-b466-48b3-866c-8142d3134c30   \n",
       "5  GAAATGAGTTCTGACA  GGTTCACTATAA  29128759-0a43-4d7a-b4af-8dd533910f21   \n",
       "6  CCTCTCCTCCCGTTCA  GAGTACCGGTAT  313836b9-2eac-4589-a487-12edecaaa0fe   \n",
       "7  ATCCTATAGTATGATG  CGGGTAGAATTT  e7f5e150-6e78-413b-a3bb-42ac9c8c09fb   \n",
       "\n",
       "     patternName strand  start   end  \n",
       "0     attb2_hpgk      +   1055  1677  \n",
       "1  tTRE_promoter      +   1568  1878  \n",
       "2     attb2_hpgk      +   1269  1891  \n",
       "3  tTRE_promoter      +    229   539  \n",
       "4     attb2_hpgk      -   2219  2841  \n",
       "5     attb2_hpgk      +    302   924  \n",
       "6     attb2_hpgk      +    655  1277  \n",
       "7     attb2_hpgk      +    260   882  "
      ]
     },
     "execution_count": 38,
     "metadata": {},
     "output_type": "execute_result"
    }
   ],
   "source": [
    "fpath = \"/scratch/indikar_root/indikar1/cstansbu/HSC/v5_tagged/v5_result.factor_table.csv\"\n",
    "\n",
    "df = pd.read_csv(fpath)\n",
    "df"
   ]
  },
  {
   "cell_type": "markdown",
   "id": "ee142aa8-19e5-4e70-81af-e5051bd29d54",
   "metadata": {},
   "source": [
    "# Load the mappings to the reference loci"
   ]
  },
  {
   "cell_type": "code",
   "execution_count": null,
   "id": "592ea5ca-5957-42d3-ae25-efe50e97ef32",
   "metadata": {},
   "outputs": [],
   "source": [
    "# load the GTF\n",
    "gtf_path = \"/scratch/indikar_root/indikar1/cstansbu/HSC/references/annotations.gtf\"\n",
    "gf = pr.read_gtf(gtf_path)\n",
    "gdf = gf.df\n",
    "print(f\"{gdf.shape=}\")\n",
    "print(gdf.columns)\n",
    "gdf.head()"
   ]
  },
  {
   "cell_type": "code",
   "execution_count": null,
   "id": "74c355cf-9c3f-4713-b152-29847f24a12e",
   "metadata": {},
   "outputs": [],
   "source": [
    "# get the gtf records we care about\n",
    "TFs = [\n",
    "    'GATA2', \n",
    "    'GFI1B', \n",
    "    'FOS', \n",
    "    'STAT5A',\n",
    "    'REL',  \n",
    "]\n",
    "print(f\"{len(TFs)=}\")\n",
    "\n",
    "genes = gdf.copy()\n",
    "genes = gdf[gdf['Feature'].isin(['gene'])]\n",
    "genes = genes[genes['gene_name'].isin(TFs)]\n",
    "\n",
    "genes = genes.groupby(['gene_name', 'Feature']).agg(\n",
    "    Chromosome = ('Chromosome', 'first'),\n",
    "    Strand = ('Strand', 'first'),\n",
    "    Start = ('Start', 'min'),\n",
    "    End = ('End', 'max'),\n",
    ").reset_index(drop=False)\n",
    "\n",
    "\n",
    "genes['Length'] = genes['End'] - genes['Start']\n",
    "\n",
    "genes"
   ]
  },
  {
   "cell_type": "code",
   "execution_count": null,
   "id": "23f034e5-4b2f-4637-806b-9308e1553ab1",
   "metadata": {},
   "outputs": [],
   "source": [
    "bam_path = \"/scratch/indikar_root/indikar1/cstansbu/HSC/merged/merged.bam\"\n",
    "buffer_bp = 1000 # base pair fudge factor\n",
    "res = []\n",
    "\n",
    "bamfile = pysam.AlignmentFile(bam_path, \"rb\")\n",
    "\n",
    "for _, gene_rec in genes.iterrows():\n",
    "    chrom = gene_rec['Chromosome']\n",
    "    start = gene_rec['Start'] - buffer_bp\n",
    "    end = gene_rec['End'] + buffer_bp\n",
    "    \n",
    "    for read in bamfile.fetch(chrom, start, end):\n",
    "        barcode = read.qname.split('_')[0]\n",
    "        umi = read.qname.split('_')[1].split(\"#\")[0]\n",
    "        read_name = read.qname.split(\"#\")[1][:-2]\n",
    "\n",
    "        if not read.is_secondary:\n",
    "            \n",
    "            polyA = \"A\" * 7\n",
    "            polyT = \"T\" * 7\n",
    "        \n",
    "            row = {\n",
    "                'barcode' : barcode,\n",
    "                'umi' : umi,\n",
    "                'read_name' : read_name,\n",
    "                'forward' : read.is_forward,\n",
    "                'mapping_quality' : read.mapping_quality,\n",
    "                'gene_name' : gene_rec['gene_name'],\n",
    "                'query_length' : read.query_length,\n",
    "                'query_name' : read.query_name,\n",
    "                'reference_start' : read.reference_start,\n",
    "                'reference_end' : read.reference_end,\n",
    "                'has_polyA' : polyA in read.query_sequence,\n",
    "                'has_polyT' : polyT in read.query_sequence,\n",
    "            }\n",
    "            res.append(row)\n",
    "            \n",
    "    break\n",
    "        \n",
    "res = pd.DataFrame(res)\n",
    "print(f\"{res.shape=}\")\n",
    "res"
   ]
  },
  {
   "cell_type": "code",
   "execution_count": null,
   "id": "c15279c0-6ead-4b4c-abe3-31801ac7f142",
   "metadata": {},
   "outputs": [],
   "source": [
    "break"
   ]
  },
  {
   "cell_type": "code",
   "execution_count": null,
   "id": "95f6e098-c56f-44c0-8b33-fce444db745b",
   "metadata": {},
   "outputs": [],
   "source": []
  },
  {
   "cell_type": "code",
   "execution_count": null,
   "id": "9cc05467-4de3-4368-a5ad-8ea61485e323",
   "metadata": {},
   "outputs": [],
   "source": []
  },
  {
   "cell_type": "code",
   "execution_count": null,
   "id": "6acd0866-932d-4969-8144-f528bd80d92b",
   "metadata": {},
   "outputs": [],
   "source": []
  },
  {
   "cell_type": "code",
   "execution_count": null,
   "id": "09111981-4551-447c-98bd-0fa023fbbd38",
   "metadata": {},
   "outputs": [],
   "source": [
    "sns.histplot(data=res, \n",
    "             x='mapping_quality',\n",
    "             hue='reference_name')"
   ]
  },
  {
   "cell_type": "code",
   "execution_count": null,
   "id": "c7735469-9a70-4a17-a513-30cea250d7b9",
   "metadata": {},
   "outputs": [],
   "source": []
  },
  {
   "cell_type": "code",
   "execution_count": null,
   "id": "5f12bbd1-0883-49ed-ad9b-51f68c22028c",
   "metadata": {},
   "outputs": [],
   "source": []
  },
  {
   "cell_type": "code",
   "execution_count": null,
   "id": "682ccc0d-5809-4c16-8bc0-b44c5b303cdd",
   "metadata": {},
   "outputs": [],
   "source": [
    "res['barcode'].nunique() / 8500"
   ]
  },
  {
   "cell_type": "code",
   "execution_count": null,
   "id": "ed621824-febd-4749-a0b5-8764f6689090",
   "metadata": {},
   "outputs": [],
   "source": [
    "res['reference_name'].value_counts(dropna=False)"
   ]
  },
  {
   "cell_type": "code",
   "execution_count": null,
   "id": "20859c51-1b4f-4967-a661-f0b368a6e553",
   "metadata": {},
   "outputs": [],
   "source": [
    "break"
   ]
  },
  {
   "cell_type": "code",
   "execution_count": null,
   "id": "0b257eca-9823-46d0-aa0a-0a4a6b08c37e",
   "metadata": {},
   "outputs": [],
   "source": []
  },
  {
   "cell_type": "code",
   "execution_count": null,
   "id": "4592243f-d3af-4beb-b9a8-bf53d28e3ae8",
   "metadata": {},
   "outputs": [],
   "source": [
    "fpath = \"/scratch/indikar_root/indikar1/cstansbu/HSC/v5_tagged/Gridr1.tagged.csv\"\n",
    "\n",
    "df = pd.read_csv(fpath, sep='\\t')\n",
    "print(f\"{df.shape=}\")\n",
    "df.head()"
   ]
  },
  {
   "cell_type": "code",
   "execution_count": null,
   "id": "5f61fbb9-9739-4c68-adec-d82c49d9eda6",
   "metadata": {},
   "outputs": [],
   "source": []
  },
  {
   "cell_type": "code",
   "execution_count": null,
   "id": "f9d6c41a-3193-405f-91ea-7288caca16af",
   "metadata": {},
   "outputs": [],
   "source": []
  },
  {
   "cell_type": "code",
   "execution_count": null,
   "id": "ac5d316d-7752-4d5d-bacd-155a072b849c",
   "metadata": {},
   "outputs": [],
   "source": []
  },
  {
   "cell_type": "code",
   "execution_count": null,
   "id": "52df2192-90c0-4b4f-ac25-b1b0eae129e5",
   "metadata": {},
   "outputs": [],
   "source": [
    "# load the GTF\n",
    "gtf_path = \"/scratch/indikar_root/indikar1/cstansbu/HSC/references/annotations.gtf\"\n",
    "gf = pr.read_gtf(gtf_path)\n",
    "gdf = gf.df\n",
    "print(f\"{gdf.shape=}\")\n",
    "print(gdf.columns)\n",
    "gdf.head()"
   ]
  },
  {
   "cell_type": "code",
   "execution_count": null,
   "id": "d308bdb6-1bf5-483a-a2e0-82f8b275f5d1",
   "metadata": {},
   "outputs": [],
   "source": [
    "gdf['Feature'].value_counts()"
   ]
  },
  {
   "cell_type": "code",
   "execution_count": null,
   "id": "99bdd300-b4ef-41c9-84dd-1ddefd93c16c",
   "metadata": {},
   "outputs": [],
   "source": [
    "break"
   ]
  },
  {
   "cell_type": "code",
   "execution_count": null,
   "id": "eb43f9e2-6d7b-4fed-be91-92da3bd21c17",
   "metadata": {},
   "outputs": [],
   "source": [
    "# get the gtf records we care about\n",
    "TFs = [\n",
    "    'GATA2', \n",
    "    'GFI1B', \n",
    "    'FOS', \n",
    "    'STAT5A',\n",
    "    'REL',  \n",
    "]\n",
    "print(f\"{len(TFs)=}\")\n",
    "\n",
    "genes = gdf.copy()\n",
    "genes = gdf[gdf['Feature'].isin(['gene'])]\n",
    "genes = genes[genes['gene_name'].isin(TFs)]\n",
    "\n",
    "genes = genes.groupby(['gene_name', 'Feature']).agg(\n",
    "    Chromosome = ('Chromosome', 'first'),\n",
    "    Strand = ('Strand', 'first'),\n",
    "    Start = ('Start', 'min'),\n",
    "    End = ('End', 'max'),\n",
    ").reset_index(drop=False)\n",
    "\n",
    "\n",
    "genes['Length'] = genes['End'] - genes['Start']\n",
    "\n",
    "genes"
   ]
  },
  {
   "cell_type": "code",
   "execution_count": null,
   "id": "c161347d-fe5f-4a45-8e44-395778d70c08",
   "metadata": {},
   "outputs": [],
   "source": [
    "bam_path = \"/scratch/indikar_root/indikar1/cstansbu/HSC/merged/merged.bam\"\n",
    "buffer_bp = 1000 # base pair fudge factor\n",
    "res = []\n",
    "\n",
    "bamfile = pysam.AlignmentFile(bam_path, \"rb\")\n",
    "\n",
    "for _, gene_rec in genes.iterrows():\n",
    "    chrom = gene_rec['Chromosome']\n",
    "    start = gene_rec['Start'] - buffer_bp\n",
    "    end = gene_rec['End'] + buffer_bp\n",
    "    \n",
    "    for read in bamfile.fetch(chrom, start, end):\n",
    "        barcode = read.qname.split('_')[0]\n",
    "        umi = read.qname.split('_')[1].split(\"#\")[0]\n",
    "        read_name = read.qname.split(\"#\")[1][:-2]\n",
    "\n",
    "        if not read.is_secondary:\n",
    "            \n",
    "            polyA = \"A\" * 7\n",
    "            polyT = \"T\" * 7\n",
    "        \n",
    "            row = {\n",
    "                'barcode' : barcode,\n",
    "                'umi' : umi,\n",
    "                'read_name' : read_name,\n",
    "                'forward' : read.is_forward,\n",
    "                'mapping_quality' : read.mapping_quality,\n",
    "                'gene_name' : gene_rec['gene_name'],\n",
    "                'query_length' : read.query_length,\n",
    "                'query_name' : read.query_name,\n",
    "                'reference_start' : read.reference_start,\n",
    "                'reference_end' : read.reference_end,\n",
    "                'has_polyA' : polyA in read.query_sequence,\n",
    "                'has_polyT' : polyT in read.query_sequence,\n",
    "            }\n",
    "            res.append(row)\n",
    "            \n",
    "    break\n",
    "        \n",
    "res = pd.DataFrame(res)\n",
    "print(f\"{res.shape=}\")\n",
    "res"
   ]
  },
  {
   "cell_type": "code",
   "execution_count": null,
   "id": "2d300eb3-fc09-4714-9d1a-428dec5f53af",
   "metadata": {},
   "outputs": [],
   "source": [
    "res['barcode'].nunique() "
   ]
  },
  {
   "cell_type": "code",
   "execution_count": null,
   "id": "4dd48694-e29d-4c37-ab78-43affac138a0",
   "metadata": {},
   "outputs": [],
   "source": [
    "res.shape"
   ]
  },
  {
   "cell_type": "code",
   "execution_count": null,
   "id": "d1f2101f-0cca-4ee1-8d06-45adc256c2d7",
   "metadata": {},
   "outputs": [],
   "source": [
    "res['has_polyA'].sum()"
   ]
  },
  {
   "cell_type": "code",
   "execution_count": null,
   "id": "c2ecf798-da0b-44fe-805f-ad6a4f03ada0",
   "metadata": {},
   "outputs": [],
   "source": [
    "21841 / 25533"
   ]
  },
  {
   "cell_type": "code",
   "execution_count": null,
   "id": "10b73703-e093-4a7e-b8ca-ee1acd8c3b31",
   "metadata": {},
   "outputs": [],
   "source": [
    "(res['reference_end'] - res['reference_start']).mean()"
   ]
  },
  {
   "cell_type": "code",
   "execution_count": null,
   "id": "97271fff-e96d-44e3-a65d-1d1c948c4d87",
   "metadata": {},
   "outputs": [],
   "source": []
  },
  {
   "cell_type": "code",
   "execution_count": null,
   "id": "67628322-1a2c-43de-b7fa-beb036a46239",
   "metadata": {},
   "outputs": [],
   "source": [
    "pdf = res.sample(100).reset_index(drop=True)\n",
    "\n",
    "\n",
    "pdf = pdf.reset_index()\n",
    "\n",
    "plt.rcParams['figure.dpi'] = 300\n",
    "plt.rcParams['figure.figsize'] = 5, 3\n",
    "\n",
    "sns.scatterplot(data=pdf,\n",
    "                x='reference_start',\n",
    "                y='index',\n",
    "                color='r')\n",
    "\n",
    "sns.scatterplot(data=pdf,\n",
    "                x='reference_end',\n",
    "                y='index',\n",
    "                color='b',\n",
    "               )\n",
    "\n",
    "plt.axvline(x=75278825, zorder=0, c='r')\n",
    "plt.axvline(x=75282230, zorder=0, c='b')\n",
    "plt.title(\"FOS\")\n",
    "\n",
    "\n",
    "# 75278825\t75282230\n"
   ]
  },
  {
   "cell_type": "code",
   "execution_count": null,
   "id": "3fce2612-0a35-4d62-98db-8b102db606fe",
   "metadata": {},
   "outputs": [],
   "source": []
  }
 ],
 "metadata": {
  "kernelspec": {
   "display_name": "bioinf",
   "language": "python",
   "name": "bioinf"
  },
  "language_info": {
   "codemirror_mode": {
    "name": "ipython",
    "version": 3
   },
   "file_extension": ".py",
   "mimetype": "text/x-python",
   "name": "python",
   "nbconvert_exporter": "python",
   "pygments_lexer": "ipython3",
   "version": "3.10.14"
  }
 },
 "nbformat": 4,
 "nbformat_minor": 5
}
