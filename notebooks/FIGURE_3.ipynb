{
 "cells": [
  {
   "cell_type": "code",
   "execution_count": null,
   "id": "45cdbc1a-5aa6-4c3a-8beb-c4acab294138",
   "metadata": {},
   "outputs": [],
   "source": [
    "import sys\n",
    "import pandas as pd\n",
    "import numpy as np\n",
    "import matplotlib.pyplot as plt\n",
    "import seaborn as sns \n",
    "import scanpy as sc\n",
    "\n",
    "from importlib import reload\n",
    "\n",
    "import plotting as plt2"
   ]
  },
  {
   "cell_type": "code",
   "execution_count": null,
   "id": "ecb3efa9-17f1-45d6-aa5a-ab2d154a5c98",
   "metadata": {},
   "outputs": [],
   "source": [
    "fpath = \"/scratch/indikar_root/indikar1/cstansbu/HSC/scanpy/clustered.anndata.h5ad\"\n",
    "\n",
    "adata = sc.read_h5ad(fpath)\n",
    "adata.uns['X_umap'] = adata.obsm['X_umap']\n",
    "adata"
   ]
  },
  {
   "cell_type": "code",
   "execution_count": null,
   "id": "170f4963-13eb-4e4b-a893-359e487ac62c",
   "metadata": {},
   "outputs": [],
   "source": [
    "# load BJ data\n",
    "bj = pd.read_csv(\"/nfs/turbo/umms-indikar/shared/projects/R01/BJ_FIB_GENES.csv\")\n",
    "bj = bj.sort_values(by='tpm', ascending=False)\n",
    "\n",
    "bj_nz = bj[bj['log_tpm'] > 0 ] # a non-zero version\n",
    "\n",
    "bj.head()\n",
    "\n"
   ]
  },
  {
   "cell_type": "code",
   "execution_count": null,
   "id": "851a2d55-9d3c-4227-a141-756686318b6d",
   "metadata": {},
   "outputs": [],
   "source": [
    "n_genes = 20\n",
    "\n",
    "pan = adata.uns['panglaodb']\n",
    "fib = pan[pan['cell_type'] == 'Fibroblasts']\n",
    "fib = pd.merge(bj, fib, how='left', \n",
    "               left_on='gene_name',\n",
    "               right_on='gene_name',\n",
    "              )\n",
    "\n",
    "fib = fib[fib['cell_type'].notna()]\n",
    "fib = fib.sort_values(by='log_tpm', ascending=False)\n",
    "fib = fib.head(n_genes)\n",
    "\n",
    "fib.head()"
   ]
  },
  {
   "cell_type": "code",
   "execution_count": null,
   "id": "632dbca0-7c9f-48c1-8fc5-d003ecc4bd83",
   "metadata": {},
   "outputs": [],
   "source": [
    "sample_size = 100\n",
    "adata.var_names = adata.var['gene_name'].values\n",
    "df = adata[:, fib['gene_name'].values].to_df().reset_index()\n",
    "df = df.sample(sample_size)\n",
    "\n",
    "df = pd.melt(df, id_vars='cell_id')\n",
    "df.head()"
   ]
  },
  {
   "cell_type": "code",
   "execution_count": null,
   "id": "84a447e5-107e-400e-8fe4-9d51923ee729",
   "metadata": {},
   "outputs": [],
   "source": [
    "plt.rcParams['figure.dpi'] = 300\n",
    "plt.rcParams['figure.figsize'] = 5, 2\n",
    "\n",
    "sns.barplot(data=fib,\n",
    "            x='gene_name',\n",
    "            y='log_tpm',\n",
    "            ec='k',\n",
    "            color='lightgrey',\n",
    "           )\n",
    "\n",
    "sns.stripplot(data=df[df['value'] > 0], \n",
    "            x='variable',\n",
    "            y='value',\n",
    "            c='r',\n",
    "            size=2,\n",
    "            alpha=0.6,\n",
    "             )\n",
    "\n",
    "plt.ylabel(\"TPM (log)\")\n",
    "plt.xlabel(\"\")\n",
    "\n",
    "plt.gca().tick_params(axis='x', rotation=90)\n",
    "plt.margins(x=0.05, y=0.15)"
   ]
  },
  {
   "cell_type": "code",
   "execution_count": null,
   "id": "c47aea31-22e7-4fed-9f87-669ed6b486ab",
   "metadata": {},
   "outputs": [],
   "source": [
    "def plot_gene_expression_by_cell_type(\n",
    "    adata,\n",
    "    bj,\n",
    "    n_genes: int = 20,\n",
    "    sample_size: int = 100,\n",
    "    database_key: str = 'panglaodb',\n",
    "    filter_column: str = 'cell_type',\n",
    "    filter_value: str = 'Fibroblasts',\n",
    "    sort_column: str = 'log_tpm',\n",
    "    ascending: bool = False\n",
    ") -> None:\n",
    "    \"\"\"\n",
    "    Plots top expressed genes for a specific cell type and their expression in a sample of cells.\n",
    "\n",
    "    Args:\n",
    "        adata: An AnnData object containing gene expression data.\n",
    "        bj: A DataFrame containing gene information (must have 'gene_name' column).\n",
    "        n_genes: Number of top genes to plot. Defaults to 20.\n",
    "        sample_size: Number of cells to sample for the stripplot. Defaults to 100.\n",
    "        database_key: Key in adata.uns for the DataFrame containing cell type information.\n",
    "        filter_column: Column in the database to filter by.\n",
    "        filter_value: Value in the filter_column to select cells.\n",
    "        sort_column: Column to sort the cell_data by (e.g., 'log_tpm', 'mean_expression').\n",
    "        ascending: Whether to sort in ascending order. Defaults to False (descending).\n",
    "    \"\"\"\n",
    "    database = adata.uns.get(database_key, pd.DataFrame())\n",
    "    filtered_cells = database[database[filter_column] == filter_value]\n",
    "    cell_data = pd.merge(\n",
    "        bj, filtered_cells, how='left', left_on='gene_name', right_on='gene_name'\n",
    "    )\n",
    "\n",
    "    cell_data = cell_data.dropna(subset=[filter_column])\n",
    "    cell_data = cell_data.sort_values(by=sort_column, ascending=ascending).head(n_genes)\n",
    "\n",
    "    adata.var_names = adata.var.get('gene_name', pd.Series()).values\n",
    "    df = adata[:, cell_data['gene_name'].values].to_df().reset_index()\n",
    "    df = df.sample(sample_size)\n",
    "    df = pd.melt(df, id_vars='cell_id')\n",
    "\n",
    "    sns.barplot(\n",
    "        data=cell_data,\n",
    "        x='gene_name',\n",
    "        y=sort_column,  # Use the specified sort column for the y-axis\n",
    "        color='lightgrey',\n",
    "        edgecolor='black',\n",
    "        linewidth=0.75,\n",
    "    )\n",
    "\n",
    "    sns.stripplot(\n",
    "        data=df[df['value'] > 0],\n",
    "        x='variable',\n",
    "        y='value',\n",
    "        color='red',\n",
    "        size=2,\n",
    "        alpha=0.6,\n",
    "        jitter=0.2\n",
    "    )\n",
    "\n",
    "    plt.ylabel(\"TPM (log)\")\n",
    "    plt.xlabel(\"\")\n",
    "    plt.gca().tick_params(axis='x', rotation=90)\n",
    "    plt.margins(x=0.05, y=0.15)\n",
    "    plt.show()\n",
    "    \n",
    "    \n",
    "plt.rcParams['figure.dpi'] = 300\n",
    "plt.rcParams['figure.figsize'] = 4, 1.25\n",
    "plot_gene_expression_by_cell_type(adata, bj, n_genes=15, sample_size=300)    "
   ]
  },
  {
   "cell_type": "code",
   "execution_count": null,
   "id": "55862cc3-4a1b-4ff4-a165-a1b82d9fd0fa",
   "metadata": {},
   "outputs": [],
   "source": [
    "plt.rcParams['figure.dpi'] = 300\n",
    "plt.rcParams['figure.figsize'] = 4, 1.25\n",
    "plot_gene_expression_by_cell_type(adata, bj_nz, n_genes=15, sample_size=300, \n",
    "                                  filter_value='Hematopoietic stem cells',\n",
    "                                  ascending=True)    "
   ]
  },
  {
   "cell_type": "code",
   "execution_count": null,
   "id": "c38f3fb6-bccc-41d4-9d59-7c830993da62",
   "metadata": {},
   "outputs": [],
   "source": [
    "\n"
   ]
  },
  {
   "cell_type": "code",
   "execution_count": null,
   "id": "38182e79-c96b-44be-9629-82ca60837bda",
   "metadata": {},
   "outputs": [],
   "source": []
  }
 ],
 "metadata": {
  "kernelspec": {
   "display_name": "scanpy",
   "language": "python",
   "name": "scanpy"
  },
  "language_info": {
   "codemirror_mode": {
    "name": "ipython",
    "version": 3
   },
   "file_extension": ".py",
   "mimetype": "text/x-python",
   "name": "python",
   "nbconvert_exporter": "python",
   "pygments_lexer": "ipython3",
   "version": "3.12.3"
  }
 },
 "nbformat": 4,
 "nbformat_minor": 5
}
