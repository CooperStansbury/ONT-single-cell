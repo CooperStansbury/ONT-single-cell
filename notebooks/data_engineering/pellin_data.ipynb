{
 "cells": [
  {
   "cell_type": "code",
   "execution_count": 1,
   "id": "ede48938-6e65-45ab-ba9b-177a9007d0e9",
   "metadata": {},
   "outputs": [],
   "source": [
    "import pandas as pd\n",
    "import os\n",
    "import sys\n",
    "import anndata as an\n",
    "from pathlib import Path"
   ]
  },
  {
   "cell_type": "code",
   "execution_count": 2,
   "id": "03afac86-f334-446b-80e0-d5bfca617275",
   "metadata": {},
   "outputs": [
    {
     "name": "stdout",
     "output_type": "stream",
     "text": [
      "AnnData object with n_obs × n_vars = 592 × 25464\n",
      "    obs: 'Barcode', 'Library', 'dataset'\n",
      "    var: 'gene_name'\n",
      "AnnData object with n_obs × n_vars = 4266 × 24719\n",
      "    obs: 'Barcode', 'Library', 'dataset'\n",
      "    var: 'gene_name'\n",
      "AnnData object with n_obs × n_vars = 1282 × 25464\n",
      "    obs: 'Barcode', 'Library', 'dataset'\n",
      "    var: 'gene_name'\n",
      "AnnData object with n_obs × n_vars = 1576 × 25464\n",
      "    obs: 'Barcode', 'Library', 'dataset'\n",
      "    var: 'gene_name'\n",
      "AnnData object with n_obs × n_vars = 1211 × 25464\n",
      "    obs: 'Barcode', 'Library', 'dataset'\n",
      "    var: 'gene_name'\n",
      "AnnData object with n_obs × n_vars = 6343 × 24719\n",
      "    obs: 'Barcode', 'Library', 'dataset'\n",
      "    var: 'gene_name'\n",
      "AnnData object with n_obs × n_vars = 4434 × 24719\n",
      "    obs: 'Barcode', 'Library', 'dataset'\n",
      "    var: 'gene_name'\n",
      "AnnData object with n_obs × n_vars = 215 × 25464\n",
      "    obs: 'Barcode', 'Library', 'dataset'\n",
      "    var: 'gene_name'\n",
      "AnnData object with n_obs × n_vars = 1012 × 25464\n",
      "    obs: 'Barcode', 'Library', 'dataset'\n",
      "    var: 'gene_name'\n",
      "AnnData object with n_obs × n_vars = 358 × 24719\n",
      "    obs: 'Barcode', 'Library', 'dataset'\n",
      "    var: 'gene_name'\n",
      "AnnData object with n_obs × n_vars = 123 × 25464\n",
      "    obs: 'Barcode', 'Library', 'dataset'\n",
      "    var: 'gene_name'\n"
     ]
    },
    {
     "data": {
      "text/plain": [
       "11"
      ]
     },
     "execution_count": 2,
     "metadata": {},
     "output_type": "execute_result"
    }
   ],
   "source": [
    "dpath = \"/nfs/turbo/umms-indikar/shared/projects/HSC/data/pellin_2019/raw_files/\"\n",
    "\n",
    "def process_pellin_data(fpath):\n",
    "    \"\"\"\n",
    "    Reads a tab-separated CSV file, processes it, and returns an AnnData object.\n",
    "\n",
    "    Args:\n",
    "        fpath (str): Path to the CSV file.\n",
    "\n",
    "    Returns:\n",
    "        anndata.AnnData: The processed AnnData object.\n",
    "    \"\"\"\n",
    "\n",
    "    df = pd.read_csv(fpath, sep='\\t')\n",
    "\n",
    "    # Transpose and extract headers efficiently\n",
    "    df = df.set_index(df.columns[0]).T.reset_index(names='Barcode')\n",
    "\n",
    "    # Create 'barcode_library' and set index\n",
    "    dataset_name = Path(fpath).stem.split(\"_\")[1].split(\".\")[0]\n",
    "    df['dataset'] = dataset_name\n",
    "    \n",
    "    df['cell_id'] =  df['dataset'] + \"_\" + df['Barcode'] + \"_\" + df['Library'].astype(str)\n",
    "    df = df.set_index('cell_id')\n",
    "\n",
    "    # Build observation annotation with dataset extraction\n",
    "    obs = df[['Barcode', 'Library', 'dataset']].copy()\n",
    "\n",
    "    # Drop unnecessary columns\n",
    "    df = df.drop(columns=['Barcode', 'Library', 'dataset'])\n",
    "\n",
    "    # Build variable annotation\n",
    "    var = pd.DataFrame({\n",
    "        'var_name': df.columns,\n",
    "        'gene_name': df.columns,\n",
    "    }).set_index('var_name')\n",
    "\n",
    "    # Create AnnData object\n",
    "    adata = an.AnnData(X=df.to_numpy(), obs=obs, var=var)\n",
    "\n",
    "    return adata\n",
    "    \n",
    "\n",
    "adata_list = []\n",
    "\n",
    "for f in os.listdir(dpath):\n",
    "    fpath = f\"{dpath}{f}\"\n",
    "    adata = process_pellin_data(fpath)\n",
    "    print(adata)\n",
    "    adata_list.append(adata.copy())\n",
    "\n",
    "len(adata_list)"
   ]
  },
  {
   "cell_type": "code",
   "execution_count": 3,
   "id": "f797914b-c92c-46bd-9812-ef8f7a401d87",
   "metadata": {},
   "outputs": [
    {
     "data": {
      "text/plain": [
       "AnnData object with n_obs × n_vars = 21412 × 20582\n",
       "    obs: 'Barcode', 'Library', 'dataset'"
      ]
     },
     "execution_count": 3,
     "metadata": {},
     "output_type": "execute_result"
    }
   ],
   "source": [
    "main_data = an.concat(adata_list)\n",
    "main_data"
   ]
  },
  {
   "cell_type": "code",
   "execution_count": 6,
   "id": "f47392e1-5636-4d42-b443-3c7aa4615a2f",
   "metadata": {},
   "outputs": [
    {
     "data": {
      "text/plain": [
       "AnnData object with n_obs × n_vars = 21412 × 20582\n",
       "    obs: 'Barcode', 'Library', 'dataset'"
      ]
     },
     "execution_count": 6,
     "metadata": {},
     "output_type": "execute_result"
    }
   ],
   "source": [
    "# write the output\n",
    "outpath = \"/nfs/turbo/umms-indikar/shared/projects/HSC/data/pellin_2019/pellin.anndata.h5ad\"\n",
    "main_data.write(outpath)\n",
    "main_data"
   ]
  },
  {
   "cell_type": "code",
   "execution_count": 7,
   "id": "cb7cbd08-7a96-4baf-a996-a2469ecb274f",
   "metadata": {},
   "outputs": [
    {
     "data": {
      "text/plain": [
       "LinNegCD34PosCD164Pos     6343\n",
       "LinNegCD34NegCD164high    4434\n",
       "LinNegCD34lowCD164high    4266\n",
       "CMP                       1576\n",
       "HSC                       1282\n",
       "MEP                       1211\n",
       "GMP                       1012\n",
       "PreBNK                     592\n",
       "LinNegCD34NegCD164low      358\n",
       "MPP                        215\n",
       "MLP                        123\n",
       "Name: dataset, dtype: int64"
      ]
     },
     "execution_count": 7,
     "metadata": {},
     "output_type": "execute_result"
    }
   ],
   "source": [
    "main_data.obs['dataset'].value_counts()"
   ]
  },
  {
   "cell_type": "code",
   "execution_count": null,
   "id": "f60e7715-f114-418b-bbd6-0bac6f5686f4",
   "metadata": {},
   "outputs": [],
   "source": []
  }
 ],
 "metadata": {
  "kernelspec": {
   "display_name": "Python 3 (ipykernel)",
   "language": "python",
   "name": "python3"
  },
  "language_info": {
   "codemirror_mode": {
    "name": "ipython",
    "version": 3
   },
   "file_extension": ".py",
   "mimetype": "text/x-python",
   "name": "python",
   "nbconvert_exporter": "python",
   "pygments_lexer": "ipython3",
   "version": "3.10.9"
  }
 },
 "nbformat": 4,
 "nbformat_minor": 5
}
