{
 "cells": [
  {
   "cell_type": "code",
   "execution_count": 8,
   "id": "e528b8e1-1227-4bb3-ae2f-1e6b984f466e",
   "metadata": {},
   "outputs": [],
   "source": [
    "import sys\n",
    "import os\n",
    "import shutil\n",
    "import subprocess\n",
    "import glob\n",
    "import pandas as pd\n",
    "import re"
   ]
  },
  {
   "cell_type": "code",
   "execution_count": 29,
   "id": "e4dd4d21-a7ef-422d-8b05-3c9c0530eea2",
   "metadata": {},
   "outputs": [
    {
     "name": "stdout",
     "output_type": "stream",
     "text": [
      "2024-04-26-iHSC-AS-6th-Run --> /nfs/turbo/umms-indikar/shared/projects/HSC/data/adaptive_sampling/merged_fastq/Run6_04_26.fastq.qz\n",
      "fifth_AS_test_03142024 --> /nfs/turbo/umms-indikar/shared/projects/HSC/data/adaptive_sampling/merged_fastq/Run5_03_14.fastq.qz\n",
      "first_AS_test_03122024 --> /nfs/turbo/umms-indikar/shared/projects/HSC/data/adaptive_sampling/merged_fastq/Run1_03_12.fastq.qz\n",
      "sixth_AS_test_03142024 --> /nfs/turbo/umms-indikar/shared/projects/HSC/data/adaptive_sampling/merged_fastq/Run6_03_14.fastq.qz\n",
      "2024-04-26-iHSC-AS-7th-Run --> /nfs/turbo/umms-indikar/shared/projects/HSC/data/adaptive_sampling/merged_fastq/Run7_04_26.fastq.qz\n",
      "second_AS_test_03132024 --> /nfs/turbo/umms-indikar/shared/projects/HSC/data/adaptive_sampling/merged_fastq/Run2_03_13.fastq.qz\n",
      "seventh_AS_03152024 --> /nfs/turbo/umms-indikar/shared/projects/HSC/data/adaptive_sampling/merged_fastq/Run7_03_15.fastq.qz\n",
      "second_iHSC_AS_04162024 --> /nfs/turbo/umms-indikar/shared/projects/HSC/data/adaptive_sampling/merged_fastq/Run2_04_16.fastq.qz\n",
      "2024-04-26-iHSC-AS-8th-Run-fast --> /nfs/turbo/umms-indikar/shared/projects/HSC/data/adaptive_sampling/merged_fastq/Run8_04_26.fastq.qz\n",
      "fourth_AS_test_03142024 --> /nfs/turbo/umms-indikar/shared/projects/HSC/data/adaptive_sampling/merged_fastq/Run4_03_14.fastq.qz\n",
      "third_AS_test_03142024 --> /nfs/turbo/umms-indikar/shared/projects/HSC/data/adaptive_sampling/merged_fastq/Run3_03_14.fastq.qz\n",
      "first_iHSC_AS_04152024 --> /nfs/turbo/umms-indikar/shared/projects/HSC/data/adaptive_sampling/merged_fastq/Run1_04_15.fastq.qz\n",
      "2024-04-22-iHSC-4th-run --> /nfs/turbo/umms-indikar/shared/projects/HSC/data/adaptive_sampling/merged_fastq/Run4_04_22.fastq.qz\n",
      "2024-05-03-iHSC-AS-9th-run --> /nfs/turbo/umms-indikar/shared/projects/HSC/data/adaptive_sampling/merged_fastq/Run9_05_03.fastq.qz\n",
      "2024-04-18-iHSC-3rd-run --> /nfs/turbo/umms-indikar/shared/projects/HSC/data/adaptive_sampling/merged_fastq/Run3_04_18.fastq.qz\n",
      "done\n"
     ]
    }
   ],
   "source": [
    "dpath = \"/nfs/turbo/umms-indikar/shared/projects/HSC/data/adaptive_sampling/experiment_data/\"\n",
    "outpath = \"/nfs/turbo/umms-indikar/shared/projects/HSC/data/adaptive_sampling/merged_fastq/\"\n",
    "\n",
    "mapping = {\n",
    "    \"2024-04-26-iHSC-AS-6th-Run\": \"Run6_04_26\",\n",
    "    \"fifth_AS_test_03142024\": \"Run5_03_14\",\n",
    "    \"first_AS_test_03122024\": \"Run1_03_12\",\n",
    "    \"sixth_AS_test_03142024\": \"Run6_03_14\",\n",
    "    \"2024-04-26-iHSC-AS-7th-Run\": \"Run7_04_26\",\n",
    "    \"second_AS_test_03132024\": \"Run2_03_13\",\n",
    "    \"seventh_AS_03152024\": \"Run7_03_15\",\n",
    "    \"second_iHSC_AS_04162024\": \"Run2_04_16\",\n",
    "    \"2024-04-26-iHSC-AS-8th-Run-fast\": \"Run8_04_26\",\n",
    "    \"fourth_AS_test_03142024\": \"Run4_03_14\",\n",
    "    \"third_AS_test_03142024\": \"Run3_03_14\",\n",
    "    \"first_iHSC_AS_04152024\": \"Run1_04_15\",\n",
    "    \"2024-04-22-iHSC-4th-run\": \"Run4_04_22\",\n",
    "    \"2024-05-03-iHSC-AS-9th-run\": \"Run9_05_03\",\n",
    "    \"2024-04-18-iHSC-3rd-run\": \"Run3_04_18\"\n",
    "}\n",
    "\n",
    "for subdir in os.listdir(dpath):\n",
    "    fastq_arg = f\"{dpath}{subdir}/fastq_pass/*.fastq.gz\"\n",
    "    new_name = mapping[subdir]\n",
    "    \n",
    "    new_path = f\"{outpath}{new_name}.fastq.qz\"\n",
    "    print(f\"{subdir} --> {new_path}\")\n",
    "    \n",
    "    command = f\"cat {fastq_arg} > {new_path}\"\n",
    "    subprocess.run([command], shell=True)\n",
    "    \n",
    "print('done')"
   ]
  },
  {
   "cell_type": "code",
   "execution_count": 37,
   "id": "9984e75a-6d83-442f-9d5a-78439ec01874",
   "metadata": {},
   "outputs": [
    {
     "data": {
      "text/plain": [
       "['Run6_04_26',\n",
       " 'Run5_03_14',\n",
       " 'Run1_03_12',\n",
       " 'Run6_03_14',\n",
       " 'Run7_04_26',\n",
       " 'Run2_03_13',\n",
       " 'Run7_03_15',\n",
       " 'Run2_04_16',\n",
       " 'Run8_04_26',\n",
       " 'Run4_03_14',\n",
       " 'Run3_03_14',\n",
       " 'Run1_04_15',\n",
       " 'Run4_04_22',\n",
       " 'Run9_05_03',\n",
       " 'Run3_04_18']"
      ]
     },
     "execution_count": 37,
     "metadata": {},
     "output_type": "execute_result"
    }
   ],
   "source": [
    "list(mapping.values())"
   ]
  },
  {
   "cell_type": "code",
   "execution_count": null,
   "id": "80f2d328-d5f4-4faa-bccc-0c92c5e2eb93",
   "metadata": {},
   "outputs": [],
   "source": []
  }
 ],
 "metadata": {
  "kernelspec": {
   "display_name": "Python 3 (ipykernel)",
   "language": "python",
   "name": "python3"
  },
  "language_info": {
   "codemirror_mode": {
    "name": "ipython",
    "version": 3
   },
   "file_extension": ".py",
   "mimetype": "text/x-python",
   "name": "python",
   "nbconvert_exporter": "python",
   "pygments_lexer": "ipython3",
   "version": "3.10.9"
  }
 },
 "nbformat": 4,
 "nbformat_minor": 5
}
