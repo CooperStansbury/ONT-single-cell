{
 "cells": [
  {
   "cell_type": "code",
   "execution_count": 1,
   "id": "6abd3855-819b-4408-b237-9e7169b31a28",
   "metadata": {},
   "outputs": [],
   "source": [
    "import sys\n",
    "import os\n",
    "import pandas as pd\n",
    "import numpy as np\n",
    "import matplotlib.pyplot as plt\n",
    "import pickle\n",
    "import scipy.sparse as sp\n",
    "\n",
    "# for datasets\n",
    "env_path = \"/home/cstansbu/miniconda3/envs/geneformer/lib/python3.10/site-packages/\"\n",
    "sys.path.insert(0, env_path)\n",
    "\n",
    "import scanpy as sc\n",
    "import anndata as an\n",
    "from datasets import Dataset"
   ]
  },
  {
   "cell_type": "code",
   "execution_count": 15,
   "id": "5757cb9b-6c6c-40fb-bfd2-35704cb73ac8",
   "metadata": {},
   "outputs": [
    {
     "data": {
      "text/plain": [
       "AnnData object with n_obs × n_vars = 166691 × 19309\n",
       "    obs: 'n_genes', 'doublet_score', 'predicted_doublet', 'n_genes_by_counts', 'total_counts', 'total_counts_mt', 'pct_counts_mt', 'n_counts', 'cell_type', 'Barcode', 'Library', 'dataset', 'organ_tissue', 'method', 'donor', 'anatomical_information', 'n_counts_UMIs', 'cell_ontology_class', 'free_annotation', 'manually_annotated', 'compartment', 'gender', 'celltype', 'record_id', 'cell_id', 'nCount_RNA', 'nFeature_RNA', 'nCount_ATAC', 'nFeature_ATAC', 'nCount_SCT', 'nFeature_SCT', 'SCT.weight', 'ATAC.weight', 'seurat_clusters', 'STD.CellType', 'STD_Cat', 'STD_Cat2', 'Sample', 'HLF', 'CRHBP', 'CD34', 'MitoCoverage', 'ClonalGroup', 'Sig.HSC1', 'Sig.Prog1', 'Sig.EarlyE1', 'Sig.LateE1', 'Sig.ProMono1', 'Sig.Mono1', 'Sig.ncMono1', 'Sig.cDC1', 'Sig.pDC1', 'Sig.ProB1', 'Sig.PreB1', 'Sig.B1', 'Sig.Plasma1', 'Sig.T1', 'Sig.CTL1', 'Sig.NK1', 'meanCov', 'ClonalGroup.Prob', 'wsnn_res.0.8', 'Origin.Seurat'\n",
       "    var: 'gene_name', 'ensemble_id'"
      ]
     },
     "execution_count": 15,
     "metadata": {},
     "output_type": "execute_result"
    }
   ],
   "source": [
    "fpath = \"/scratch/indikar_root/indikar1/cstansbu/HSC/geneformer_adata/merged.anndata.h5ad\"\n",
    "adata = sc.read_h5ad(fpath)\n",
    "adata"
   ]
  },
  {
   "cell_type": "code",
   "execution_count": 20,
   "id": "e2b34109-739e-4fca-a42f-74e03c5ace78",
   "metadata": {},
   "outputs": [
    {
     "data": {
      "text/plain": [
       "young2_all        29414\n",
       "tabula_sapiens    27346\n",
       "young1_all_t2     25442\n",
       "pellin            21412\n",
       "young1_all_t1     18585\n",
       "old2_BMMC_HSPC    17310\n",
       "old1_BMMC_HSPC    14917\n",
       "iHSC               8562\n",
       "young2_HSC         3703\n",
       "Name: dataset, dtype: int64"
      ]
     },
     "execution_count": 20,
     "metadata": {},
     "output_type": "execute_result"
    }
   ],
   "source": [
    "adata.obs['dataset'].value_counts()"
   ]
  },
  {
   "cell_type": "code",
   "execution_count": null,
   "id": "1e7edfbd-d57d-40e6-aa07-9b28602691a2",
   "metadata": {},
   "outputs": [],
   "source": []
  },
  {
   "cell_type": "code",
   "execution_count": 18,
   "id": "b054fca4-9414-4957-8978-7101af034598",
   "metadata": {},
   "outputs": [
    {
     "data": {
      "text/plain": [
       "FB                        26586\n",
       "CD4                       11925\n",
       "HSC                       11863\n",
       "EryP                      10788\n",
       "MPP                        9553\n",
       "Refined.HSC                9194\n",
       "iHSC                       8562\n",
       "CD8                        8376\n",
       "MEP                        7593\n",
       "Mono                       7251\n",
       "ProB                       6862\n",
       "LinNegCD34PosCD164Pos      6343\n",
       "GMP                        4984\n",
       "LinNegCD34NegCD164high     4434\n",
       "MDP                        4273\n",
       "LinNegCD34lowCD164high     4266\n",
       "NK                         4246\n",
       "MKP                        4058\n",
       "CLP                        3702\n",
       "B                          3466\n",
       "CMP                        2931\n",
       "pDC                        1882\n",
       "cDC                         936\n",
       "LMPP                        817\n",
       "Plasma                      727\n",
       "PreBNK                      592\n",
       "LinNegCD34NegCD164low       358\n",
       "MLP                         123\n",
       "Name: cell_type, dtype: int64"
      ]
     },
     "execution_count": 18,
     "metadata": {},
     "output_type": "execute_result"
    }
   ],
   "source": [
    "adata.obs['cell_type'].value_counts()"
   ]
  },
  {
   "cell_type": "code",
   "execution_count": null,
   "id": "cb42fc3f-4593-48ad-acf3-e0b35fcf7e10",
   "metadata": {},
   "outputs": [],
   "source": []
  },
  {
   "cell_type": "code",
   "execution_count": 14,
   "id": "6cbb23dc-ad35-4735-a410-2ffd94ee3c46",
   "metadata": {},
   "outputs": [],
   "source": [
    "# fpath = \"/nfs/turbo/umms-indikar/shared/projects/HSC/data/tabula_sapiens/tabula_sapiens_filtered.h5ad\"\n",
    "\n",
    "# adata = sc.read_h5ad(fpath)\n",
    "# adata.var['gene_name'] = adata.var.index\n",
    "# adata.var['gene_name'] = adata.var['gene_name'].astype(str)\n",
    "# adata.write(fpath)"
   ]
  },
  {
   "cell_type": "code",
   "execution_count": 10,
   "id": "a6804195-af4f-4ab5-812f-c9fea3a4fa40",
   "metadata": {},
   "outputs": [
    {
     "data": {
      "text/plain": [
       "gene_symbol         category\n",
       "feature_type        category\n",
       "ensemblid             object\n",
       "highly_variable         bool\n",
       "means                float64\n",
       "dispersions          float64\n",
       "dispersions_norm     float32\n",
       "mean                 float64\n",
       "std                  float64\n",
       "gene_name             object\n",
       "dtype: object"
      ]
     },
     "execution_count": 10,
     "metadata": {},
     "output_type": "execute_result"
    }
   ],
   "source": [
    "adata.var.dtypes"
   ]
  },
  {
   "cell_type": "code",
   "execution_count": 3,
   "id": "fc51d43f-47c9-4536-aaf2-80771f6fe33c",
   "metadata": {},
   "outputs": [
    {
     "data": {
      "text/html": [
       "<div>\n",
       "<style scoped>\n",
       "    .dataframe tbody tr th:only-of-type {\n",
       "        vertical-align: middle;\n",
       "    }\n",
       "\n",
       "    .dataframe tbody tr th {\n",
       "        vertical-align: top;\n",
       "    }\n",
       "\n",
       "    .dataframe thead th {\n",
       "        text-align: right;\n",
       "    }\n",
       "</style>\n",
       "<table border=\"1\" class=\"dataframe\">\n",
       "  <thead>\n",
       "    <tr style=\"text-align: right;\">\n",
       "      <th></th>\n",
       "      <th>gene_symbol</th>\n",
       "      <th>feature_type</th>\n",
       "      <th>ensemblid</th>\n",
       "      <th>highly_variable</th>\n",
       "      <th>means</th>\n",
       "      <th>dispersions</th>\n",
       "      <th>dispersions_norm</th>\n",
       "      <th>mean</th>\n",
       "      <th>std</th>\n",
       "      <th>gene_name</th>\n",
       "    </tr>\n",
       "  </thead>\n",
       "  <tbody>\n",
       "    <tr>\n",
       "      <th>DDX11L1</th>\n",
       "      <td>DDX11L1</td>\n",
       "      <td>Gene Expression</td>\n",
       "      <td>ENSG00000223972.5</td>\n",
       "      <td>False</td>\n",
       "      <td>6.398244e-05</td>\n",
       "      <td>0.835044</td>\n",
       "      <td>-0.573947</td>\n",
       "      <td>0.000039</td>\n",
       "      <td>0.005574</td>\n",
       "      <td>DDX11L1</td>\n",
       "    </tr>\n",
       "    <tr>\n",
       "      <th>WASH7P</th>\n",
       "      <td>WASH7P</td>\n",
       "      <td>Gene Expression</td>\n",
       "      <td>ENSG00000227232.5</td>\n",
       "      <td>False</td>\n",
       "      <td>2.274395e-03</td>\n",
       "      <td>2.442280</td>\n",
       "      <td>0.533203</td>\n",
       "      <td>0.001080</td>\n",
       "      <td>0.031731</td>\n",
       "      <td>WASH7P</td>\n",
       "    </tr>\n",
       "    <tr>\n",
       "      <th>MIR6859-1</th>\n",
       "      <td>MIR6859-1</td>\n",
       "      <td>Gene Expression</td>\n",
       "      <td>ENSG00000278267.1</td>\n",
       "      <td>False</td>\n",
       "      <td>6.175251e-05</td>\n",
       "      <td>1.295335</td>\n",
       "      <td>-0.256874</td>\n",
       "      <td>0.000033</td>\n",
       "      <td>0.005634</td>\n",
       "      <td>MIR6859-1</td>\n",
       "    </tr>\n",
       "    <tr>\n",
       "      <th>MIR1302-2HG</th>\n",
       "      <td>MIR1302-2HG</td>\n",
       "      <td>Gene Expression</td>\n",
       "      <td>ENSG00000243485.5</td>\n",
       "      <td>False</td>\n",
       "      <td>1.372886e-04</td>\n",
       "      <td>2.656352</td>\n",
       "      <td>0.680668</td>\n",
       "      <td>0.000048</td>\n",
       "      <td>0.008041</td>\n",
       "      <td>MIR1302-2HG</td>\n",
       "    </tr>\n",
       "    <tr>\n",
       "      <th>MIR1302-2</th>\n",
       "      <td>MIR1302-2</td>\n",
       "      <td>Gene Expression</td>\n",
       "      <td>ENSG00000284332.1</td>\n",
       "      <td>False</td>\n",
       "      <td>1.000000e-12</td>\n",
       "      <td>NaN</td>\n",
       "      <td>0.000000</td>\n",
       "      <td>0.000000</td>\n",
       "      <td>1.000000</td>\n",
       "      <td>MIR1302-2</td>\n",
       "    </tr>\n",
       "  </tbody>\n",
       "</table>\n",
       "</div>"
      ],
      "text/plain": [
       "             gene_symbol     feature_type          ensemblid  highly_variable  \\\n",
       "DDX11L1          DDX11L1  Gene Expression  ENSG00000223972.5            False   \n",
       "WASH7P            WASH7P  Gene Expression  ENSG00000227232.5            False   \n",
       "MIR6859-1      MIR6859-1  Gene Expression  ENSG00000278267.1            False   \n",
       "MIR1302-2HG  MIR1302-2HG  Gene Expression  ENSG00000243485.5            False   \n",
       "MIR1302-2      MIR1302-2  Gene Expression  ENSG00000284332.1            False   \n",
       "\n",
       "                    means  dispersions  dispersions_norm      mean       std  \\\n",
       "DDX11L1      6.398244e-05     0.835044         -0.573947  0.000039  0.005574   \n",
       "WASH7P       2.274395e-03     2.442280          0.533203  0.001080  0.031731   \n",
       "MIR6859-1    6.175251e-05     1.295335         -0.256874  0.000033  0.005634   \n",
       "MIR1302-2HG  1.372886e-04     2.656352          0.680668  0.000048  0.008041   \n",
       "MIR1302-2    1.000000e-12          NaN          0.000000  0.000000  1.000000   \n",
       "\n",
       "               gene_name  \n",
       "DDX11L1          DDX11L1  \n",
       "WASH7P            WASH7P  \n",
       "MIR6859-1      MIR6859-1  \n",
       "MIR1302-2HG  MIR1302-2HG  \n",
       "MIR1302-2      MIR1302-2  "
      ]
     },
     "execution_count": 3,
     "metadata": {},
     "output_type": "execute_result"
    }
   ],
   "source": [
    "adata.var.head()"
   ]
  },
  {
   "cell_type": "code",
   "execution_count": 13,
   "id": "5f87548d-7451-4984-9438-a74bca958b5f",
   "metadata": {},
   "outputs": [
    {
     "data": {
      "text/plain": [
       "58870"
      ]
     },
     "execution_count": 13,
     "metadata": {},
     "output_type": "execute_result"
    }
   ],
   "source": [
    "len(adata.var.index)"
   ]
  },
  {
   "cell_type": "code",
   "execution_count": 11,
   "id": "dc1361a0-3f8d-4a30-9cb5-8df702b9f519",
   "metadata": {},
   "outputs": [
    {
     "data": {
      "text/plain": [
       "58870"
      ]
     },
     "execution_count": 11,
     "metadata": {},
     "output_type": "execute_result"
    }
   ],
   "source": [
    "len(np.unique(adata.var.index))"
   ]
  },
  {
   "cell_type": "code",
   "execution_count": 12,
   "id": "47fc9184-2b66-4c8d-9bfd-b5a45ecad98f",
   "metadata": {},
   "outputs": [
    {
     "data": {
      "text/plain": [
       "58870"
      ]
     },
     "execution_count": 12,
     "metadata": {},
     "output_type": "execute_result"
    }
   ],
   "source": [
    "len(adata.var['gene_name'].unique())"
   ]
  },
  {
   "cell_type": "code",
   "execution_count": 4,
   "id": "64f132a1-36bf-49dd-ae1a-aeeaebb9144b",
   "metadata": {},
   "outputs": [
    {
     "ename": "SyntaxError",
     "evalue": "'break' outside loop (668683560.py, line 1)",
     "output_type": "error",
     "traceback": [
      "\u001b[0;36m  Cell \u001b[0;32mIn[4], line 1\u001b[0;36m\u001b[0m\n\u001b[0;31m    break\u001b[0m\n\u001b[0m    ^\u001b[0m\n\u001b[0;31mSyntaxError\u001b[0m\u001b[0;31m:\u001b[0m 'break' outside loop\n"
     ]
    }
   ],
   "source": [
    "break"
   ]
  },
  {
   "cell_type": "code",
   "execution_count": null,
   "id": "ba505072-1e88-4d71-a935-74a0e22dd23e",
   "metadata": {},
   "outputs": [],
   "source": [
    "break"
   ]
  },
  {
   "cell_type": "code",
   "execution_count": null,
   "id": "7b98e88f-6bef-40cc-8af4-c495f5de552b",
   "metadata": {},
   "outputs": [],
   "source": []
  },
  {
   "cell_type": "code",
   "execution_count": null,
   "id": "86009106-fb90-4258-b87e-bdbb680148f2",
   "metadata": {},
   "outputs": [],
   "source": [
    "dpath = \"/nfs/turbo/umms-indikar/shared/projects/HSC/data/weng_2024/scanpy_objects/\"\n",
    "\n",
    "for f in os.listdir(dpath):\n",
    "    fpath = f\"{dpath}{f}\"\n",
    "    adata = sc.read_h5ad(fpath)\n",
    "    adata.layers[\"raw_counts\"] = adata.X.copy()\n",
    "    adata.var['gene_name'] = adata.var.index\n",
    "    adata.write(fpath)\n",
    "    print(f\"Done: {fpath}\")\n",
    "    "
   ]
  },
  {
   "cell_type": "code",
   "execution_count": null,
   "id": "cd62be5d-ec16-4874-9a8e-ae6079a8bdf7",
   "metadata": {},
   "outputs": [],
   "source": []
  },
  {
   "cell_type": "code",
   "execution_count": null,
   "id": "4a69fcf1-eae6-412c-aed4-9720a37a209d",
   "metadata": {},
   "outputs": [],
   "source": [
    "# adata.layers[\"raw_counts\"] = adata.X.copy()\n",
    "# adata.write(\"/nfs/turbo/umms-indikar/shared/projects/HSC/data/pellin_2019/pellin.anndata.h5ad\")"
   ]
  },
  {
   "cell_type": "code",
   "execution_count": null,
   "id": "5ce3301c-9731-4479-a456-7839d952c38a",
   "metadata": {},
   "outputs": [],
   "source": []
  },
  {
   "cell_type": "code",
   "execution_count": null,
   "id": "8ad1be20-5d10-4bfa-85a3-35f51f95ccac",
   "metadata": {},
   "outputs": [],
   "source": []
  },
  {
   "cell_type": "code",
   "execution_count": null,
   "id": "6e6b6e11-d19b-4d64-aef4-572fe91e4680",
   "metadata": {},
   "outputs": [],
   "source": [
    "adata.var.head()"
   ]
  },
  {
   "cell_type": "code",
   "execution_count": null,
   "id": "6a9be403-8ce3-4bfb-8f85-49bf27ec3bff",
   "metadata": {},
   "outputs": [],
   "source": [
    "adata.var['gene_name'] = adata.var.index\n",
    "adata.var.head()"
   ]
  },
  {
   "cell_type": "code",
   "execution_count": null,
   "id": "fa6f7f1b-491c-44b1-bfad-b49895746091",
   "metadata": {},
   "outputs": [],
   "source": [
    "adata.write(\"/nfs/turbo/umms-indikar/shared/projects/HSC/data/pellin_2019/pellin.anndata.h5ad\")"
   ]
  },
  {
   "cell_type": "code",
   "execution_count": null,
   "id": "a2b9424b-21de-4add-bea9-db86d037d91f",
   "metadata": {},
   "outputs": [],
   "source": [
    "adata.X"
   ]
  },
  {
   "cell_type": "code",
   "execution_count": null,
   "id": "0b605401-c9d8-4e62-8547-d1b4cf55acfe",
   "metadata": {},
   "outputs": [],
   "source": []
  },
  {
   "cell_type": "code",
   "execution_count": null,
   "id": "fbc006da-bee7-404e-b6da-b140314a2795",
   "metadata": {},
   "outputs": [],
   "source": [
    "adata.to_df()"
   ]
  },
  {
   "cell_type": "code",
   "execution_count": null,
   "id": "a8e1cb42-6bc5-490a-aec2-9fcef20d5bb9",
   "metadata": {},
   "outputs": [],
   "source": []
  }
 ],
 "metadata": {
  "kernelspec": {
   "display_name": "Python 3 (ipykernel)",
   "language": "python",
   "name": "python3"
  },
  "language_info": {
   "codemirror_mode": {
    "name": "ipython",
    "version": 3
   },
   "file_extension": ".py",
   "mimetype": "text/x-python",
   "name": "python",
   "nbconvert_exporter": "python",
   "pygments_lexer": "ipython3",
   "version": "3.10.9"
  }
 },
 "nbformat": 4,
 "nbformat_minor": 5
}
