{
 "cells": [
  {
   "cell_type": "code",
   "execution_count": 1,
   "id": "03541039-d269-4ca8-aa67-f66593ef092e",
   "metadata": {},
   "outputs": [],
   "source": [
    "import numpy as np\n",
    "import pandas as pd\n",
    "import gget\n",
    "import glob\n",
    "import networkx as nx\n",
    "import os\n",
    "import seaborn as sns\n",
    "import gget\n",
    "from textwrap import fill\n",
    "import scanpy as sc\n",
    "import anndata as an\n",
    "import matplotlib.pyplot as plt\n",
    "import scipy\n",
    "from scipy.sparse import csr_matrix \n",
    "\n",
    "# locals\n",
    "import utils as ut\n",
    "import plotting as plt2\n",
    "\n",
    "sc.settings.verbosity = 3  "
   ]
  },
  {
   "cell_type": "code",
   "execution_count": 2,
   "id": "79295b26-7d60-4b86-86b3-419bf7bf4987",
   "metadata": {},
   "outputs": [
    {
     "name": "stdout",
     "output_type": "stream",
     "text": [
      "df.shape=(286, 56269)\n"
     ]
    },
    {
     "data": {
      "text/html": [
       "<div>\n",
       "<style scoped>\n",
       "    .dataframe tbody tr th:only-of-type {\n",
       "        vertical-align: middle;\n",
       "    }\n",
       "\n",
       "    .dataframe tbody tr th {\n",
       "        vertical-align: top;\n",
       "    }\n",
       "\n",
       "    .dataframe thead th {\n",
       "        text-align: right;\n",
       "    }\n",
       "</style>\n",
       "<table border=\"1\" class=\"dataframe\">\n",
       "  <thead>\n",
       "    <tr style=\"text-align: right;\">\n",
       "      <th>gene_name</th>\n",
       "      <th>DDX11L1</th>\n",
       "      <th>WASH7P</th>\n",
       "      <th>MIR6859-1</th>\n",
       "      <th>MIR1302-2</th>\n",
       "      <th>FAM138A</th>\n",
       "      <th>OR4G4P</th>\n",
       "      <th>OR4G11P</th>\n",
       "      <th>OR4F5</th>\n",
       "      <th>RP11-34P13.7</th>\n",
       "      <th>RP11-34P13.8</th>\n",
       "      <th>...</th>\n",
       "      <th>MT-ND4</th>\n",
       "      <th>MT-TH</th>\n",
       "      <th>MT-TS2</th>\n",
       "      <th>MT-TL2</th>\n",
       "      <th>MT-ND5</th>\n",
       "      <th>MT-ND6</th>\n",
       "      <th>MT-TE</th>\n",
       "      <th>MT-CYB</th>\n",
       "      <th>MT-TT</th>\n",
       "      <th>MT-TP</th>\n",
       "    </tr>\n",
       "  </thead>\n",
       "  <tbody>\n",
       "    <tr>\n",
       "      <th>HDF_1</th>\n",
       "      <td>0</td>\n",
       "      <td>1</td>\n",
       "      <td>0</td>\n",
       "      <td>0</td>\n",
       "      <td>0</td>\n",
       "      <td>0</td>\n",
       "      <td>0</td>\n",
       "      <td>0</td>\n",
       "      <td>0</td>\n",
       "      <td>0</td>\n",
       "      <td>...</td>\n",
       "      <td>9586</td>\n",
       "      <td>0</td>\n",
       "      <td>2</td>\n",
       "      <td>0</td>\n",
       "      <td>1532</td>\n",
       "      <td>491</td>\n",
       "      <td>2</td>\n",
       "      <td>10708</td>\n",
       "      <td>1</td>\n",
       "      <td>113</td>\n",
       "    </tr>\n",
       "    <tr>\n",
       "      <th>HDF_10</th>\n",
       "      <td>0</td>\n",
       "      <td>0</td>\n",
       "      <td>0</td>\n",
       "      <td>0</td>\n",
       "      <td>0</td>\n",
       "      <td>0</td>\n",
       "      <td>0</td>\n",
       "      <td>0</td>\n",
       "      <td>0</td>\n",
       "      <td>0</td>\n",
       "      <td>...</td>\n",
       "      <td>22813</td>\n",
       "      <td>0</td>\n",
       "      <td>0</td>\n",
       "      <td>0</td>\n",
       "      <td>4124</td>\n",
       "      <td>2898</td>\n",
       "      <td>6</td>\n",
       "      <td>19987</td>\n",
       "      <td>0</td>\n",
       "      <td>55</td>\n",
       "    </tr>\n",
       "    <tr>\n",
       "      <th>HDF_11</th>\n",
       "      <td>0</td>\n",
       "      <td>0</td>\n",
       "      <td>0</td>\n",
       "      <td>0</td>\n",
       "      <td>0</td>\n",
       "      <td>0</td>\n",
       "      <td>0</td>\n",
       "      <td>0</td>\n",
       "      <td>0</td>\n",
       "      <td>0</td>\n",
       "      <td>...</td>\n",
       "      <td>16820</td>\n",
       "      <td>0</td>\n",
       "      <td>5</td>\n",
       "      <td>0</td>\n",
       "      <td>3967</td>\n",
       "      <td>1854</td>\n",
       "      <td>19</td>\n",
       "      <td>28461</td>\n",
       "      <td>5</td>\n",
       "      <td>157</td>\n",
       "    </tr>\n",
       "    <tr>\n",
       "      <th>HDF_12</th>\n",
       "      <td>0</td>\n",
       "      <td>0</td>\n",
       "      <td>0</td>\n",
       "      <td>0</td>\n",
       "      <td>0</td>\n",
       "      <td>0</td>\n",
       "      <td>0</td>\n",
       "      <td>0</td>\n",
       "      <td>0</td>\n",
       "      <td>0</td>\n",
       "      <td>...</td>\n",
       "      <td>53329</td>\n",
       "      <td>4</td>\n",
       "      <td>46</td>\n",
       "      <td>0</td>\n",
       "      <td>7796</td>\n",
       "      <td>2488</td>\n",
       "      <td>69</td>\n",
       "      <td>46653</td>\n",
       "      <td>3</td>\n",
       "      <td>113</td>\n",
       "    </tr>\n",
       "    <tr>\n",
       "      <th>HDF_13</th>\n",
       "      <td>0</td>\n",
       "      <td>0</td>\n",
       "      <td>0</td>\n",
       "      <td>0</td>\n",
       "      <td>0</td>\n",
       "      <td>0</td>\n",
       "      <td>0</td>\n",
       "      <td>0</td>\n",
       "      <td>0</td>\n",
       "      <td>0</td>\n",
       "      <td>...</td>\n",
       "      <td>17070</td>\n",
       "      <td>1</td>\n",
       "      <td>5</td>\n",
       "      <td>0</td>\n",
       "      <td>5651</td>\n",
       "      <td>1538</td>\n",
       "      <td>17</td>\n",
       "      <td>18673</td>\n",
       "      <td>1</td>\n",
       "      <td>191</td>\n",
       "    </tr>\n",
       "  </tbody>\n",
       "</table>\n",
       "<p>5 rows × 56269 columns</p>\n",
       "</div>"
      ],
      "text/plain": [
       "gene_name  DDX11L1  WASH7P  MIR6859-1  MIR1302-2  FAM138A  OR4G4P  OR4G11P  \\\n",
       "HDF_1            0       1          0          0        0       0        0   \n",
       "HDF_10           0       0          0          0        0       0        0   \n",
       "HDF_11           0       0          0          0        0       0        0   \n",
       "HDF_12           0       0          0          0        0       0        0   \n",
       "HDF_13           0       0          0          0        0       0        0   \n",
       "\n",
       "gene_name  OR4F5  RP11-34P13.7  RP11-34P13.8  ...  MT-ND4  MT-TH  MT-TS2  \\\n",
       "HDF_1          0             0             0  ...    9586      0       2   \n",
       "HDF_10         0             0             0  ...   22813      0       0   \n",
       "HDF_11         0             0             0  ...   16820      0       5   \n",
       "HDF_12         0             0             0  ...   53329      4      46   \n",
       "HDF_13         0             0             0  ...   17070      1       5   \n",
       "\n",
       "gene_name  MT-TL2  MT-ND5  MT-ND6  MT-TE  MT-CYB  MT-TT  MT-TP  \n",
       "HDF_1           0    1532     491      2   10708      1    113  \n",
       "HDF_10          0    4124    2898      6   19987      0     55  \n",
       "HDF_11          0    3967    1854     19   28461      5    157  \n",
       "HDF_12          0    7796    2488     69   46653      3    113  \n",
       "HDF_13          0    5651    1538     17   18673      1    191  \n",
       "\n",
       "[5 rows x 56269 columns]"
      ]
     },
     "execution_count": 2,
     "metadata": {},
     "output_type": "execute_result"
    }
   ],
   "source": [
    "fpath = \"/nfs/turbo/umms-indikar/shared/projects/HSC/data/gomes_2018/GSE51025_HDF_Day2_15_25_UCB_RawCounts.txt.gz\"\n",
    "\n",
    "df = pd.read_csv(fpath, sep='\\t')\n",
    "df = df.rename(columns={'Unnamed: 0' : 'gene_name'})\n",
    "df = df.set_index('gene_name')\n",
    "df = df.T\n",
    "print(f\"{df.shape=}\")\n",
    "\n",
    "df.head()"
   ]
  },
  {
   "cell_type": "code",
   "execution_count": 3,
   "id": "8d549830-5613-4eed-9aa0-951bb6b9019a",
   "metadata": {},
   "outputs": [
    {
     "data": {
      "text/plain": [
       "AnnData object with n_obs × n_vars = 286 × 56269"
      ]
     },
     "execution_count": 3,
     "metadata": {},
     "output_type": "execute_result"
    }
   ],
   "source": [
    "def df_to_anndata(df):\n",
    "    \"\"\"\n",
    "    Converts a pandas DataFrame to an AnnData object.\n",
    "\n",
    "    Args:\n",
    "        df: The pandas DataFrame to convert.\n",
    "\n",
    "    Returns:\n",
    "        An AnnData object.\n",
    "    \"\"\"\n",
    "\n",
    "    adata = an.AnnData(csr_matrix(df.values))\n",
    "    adata.obs_names = df.index\n",
    "    adata.var_names = df.columns\n",
    "\n",
    "    return adata\n",
    "\n",
    "\n",
    "adata = df_to_anndata(df)\n",
    "adata"
   ]
  },
  {
   "cell_type": "code",
   "execution_count": 4,
   "id": "080e520c-6184-4e00-a274-38f6de171cf6",
   "metadata": {},
   "outputs": [
    {
     "name": "stdout",
     "output_type": "stream",
     "text": [
      "obs.shape=(286, 2)\n"
     ]
    },
    {
     "data": {
      "text/html": [
       "<div>\n",
       "<style scoped>\n",
       "    .dataframe tbody tr th:only-of-type {\n",
       "        vertical-align: middle;\n",
       "    }\n",
       "\n",
       "    .dataframe tbody tr th {\n",
       "        vertical-align: top;\n",
       "    }\n",
       "\n",
       "    .dataframe thead th {\n",
       "        text-align: right;\n",
       "    }\n",
       "</style>\n",
       "<table border=\"1\" class=\"dataframe\">\n",
       "  <thead>\n",
       "    <tr style=\"text-align: right;\">\n",
       "      <th></th>\n",
       "      <th>cell_type</th>\n",
       "      <th>cell_num</th>\n",
       "    </tr>\n",
       "  </thead>\n",
       "  <tbody>\n",
       "    <tr>\n",
       "      <th>HDF_1</th>\n",
       "      <td>HDF</td>\n",
       "      <td>1</td>\n",
       "    </tr>\n",
       "    <tr>\n",
       "      <th>HDF_10</th>\n",
       "      <td>HDF</td>\n",
       "      <td>10</td>\n",
       "    </tr>\n",
       "    <tr>\n",
       "      <th>HDF_11</th>\n",
       "      <td>HDF</td>\n",
       "      <td>11</td>\n",
       "    </tr>\n",
       "    <tr>\n",
       "      <th>HDF_12</th>\n",
       "      <td>HDF</td>\n",
       "      <td>12</td>\n",
       "    </tr>\n",
       "    <tr>\n",
       "      <th>HDF_13</th>\n",
       "      <td>HDF</td>\n",
       "      <td>13</td>\n",
       "    </tr>\n",
       "  </tbody>\n",
       "</table>\n",
       "</div>"
      ],
      "text/plain": [
       "       cell_type cell_num\n",
       "HDF_1        HDF        1\n",
       "HDF_10       HDF       10\n",
       "HDF_11       HDF       11\n",
       "HDF_12       HDF       12\n",
       "HDF_13       HDF       13"
      ]
     },
     "execution_count": 4,
     "metadata": {},
     "output_type": "execute_result"
    }
   ],
   "source": [
    "obs = pd.DataFrame(\n",
    "    {\n",
    "        'cell_type': df.index.map(lambda x: x.split(\"_\")[0]),\n",
    "        'cell_num': df.index.map(lambda x: x.split(\"_\")[1]),\n",
    "    },\n",
    "    index=df.index,\n",
    ")\n",
    "print(f\"{obs.shape=}\")\n",
    "obs.head()"
   ]
  },
  {
   "cell_type": "code",
   "execution_count": 5,
   "id": "1bdfff94-c0ac-4fd6-aaa6-df09f218d440",
   "metadata": {},
   "outputs": [
    {
     "name": "stdout",
     "output_type": "stream",
     "text": [
      "var.shape=(56269, 0)\n"
     ]
    },
    {
     "data": {
      "text/html": [
       "<div>\n",
       "<style scoped>\n",
       "    .dataframe tbody tr th:only-of-type {\n",
       "        vertical-align: middle;\n",
       "    }\n",
       "\n",
       "    .dataframe tbody tr th {\n",
       "        vertical-align: top;\n",
       "    }\n",
       "\n",
       "    .dataframe thead th {\n",
       "        text-align: right;\n",
       "    }\n",
       "</style>\n",
       "<table border=\"1\" class=\"dataframe\">\n",
       "  <thead>\n",
       "    <tr style=\"text-align: right;\">\n",
       "      <th></th>\n",
       "    </tr>\n",
       "    <tr>\n",
       "      <th>gene_name</th>\n",
       "    </tr>\n",
       "  </thead>\n",
       "  <tbody>\n",
       "    <tr>\n",
       "      <th>DDX11L1</th>\n",
       "    </tr>\n",
       "    <tr>\n",
       "      <th>WASH7P</th>\n",
       "    </tr>\n",
       "    <tr>\n",
       "      <th>MIR6859-1</th>\n",
       "    </tr>\n",
       "    <tr>\n",
       "      <th>MIR1302-2</th>\n",
       "    </tr>\n",
       "    <tr>\n",
       "      <th>FAM138A</th>\n",
       "    </tr>\n",
       "  </tbody>\n",
       "</table>\n",
       "</div>"
      ],
      "text/plain": [
       "Empty DataFrame\n",
       "Columns: []\n",
       "Index: [DDX11L1, WASH7P, MIR6859-1, MIR1302-2, FAM138A]"
      ]
     },
     "execution_count": 5,
     "metadata": {},
     "output_type": "execute_result"
    }
   ],
   "source": [
    "var = pd.DataFrame(\n",
    "    index=df.columns,\n",
    ")\n",
    "\n",
    "print(f\"{var.shape=}\")\n",
    "var.head()"
   ]
  },
  {
   "cell_type": "code",
   "execution_count": 6,
   "id": "4b6f42f1-6fe3-412f-93c5-ceddb093e05c",
   "metadata": {},
   "outputs": [
    {
     "data": {
      "text/plain": [
       "AnnData object with n_obs × n_vars = 286 × 56269\n",
       "    obs: 'cell_type', 'cell_num'"
      ]
     },
     "execution_count": 6,
     "metadata": {},
     "output_type": "execute_result"
    }
   ],
   "source": [
    "adata.obs = obs\n",
    "adata.var = var\n",
    "\n",
    "adata"
   ]
  },
  {
   "cell_type": "markdown",
   "id": "d1f553e0-d5fd-43dd-b0f5-dee5c0a9b1bd",
   "metadata": {},
   "source": [
    "# Assign layers"
   ]
  },
  {
   "cell_type": "code",
   "execution_count": 7,
   "id": "04054fbe-3794-4e7e-9cbf-1b739dc89c53",
   "metadata": {},
   "outputs": [
    {
     "data": {
      "text/plain": [
       "AnnData object with n_obs × n_vars = 286 × 56269\n",
       "    obs: 'cell_type', 'cell_num'\n",
       "    layers: 'raw_counts'"
      ]
     },
     "execution_count": 7,
     "metadata": {},
     "output_type": "execute_result"
    }
   ],
   "source": [
    "adata.layers['raw_counts'] = csr_matrix(adata.X).copy()\n",
    "\n",
    "adata"
   ]
  },
  {
   "cell_type": "code",
   "execution_count": 8,
   "id": "2ac87b19-35d8-4b9c-8481-b3fe04ce04ca",
   "metadata": {},
   "outputs": [
    {
     "name": "stderr",
     "output_type": "stream",
     "text": [
      "... storing 'cell_type' as categorical\n",
      "... storing 'cell_num' as categorical\n"
     ]
    },
    {
     "data": {
      "text/plain": [
       "AnnData object with n_obs × n_vars = 286 × 56269\n",
       "    obs: 'cell_type', 'cell_num'\n",
       "    layers: 'raw_counts'"
      ]
     },
     "execution_count": 8,
     "metadata": {},
     "output_type": "execute_result"
    }
   ],
   "source": [
    "out_path = \"/nfs/turbo/umms-indikar/shared/projects/HSC/data/gomes_2018/gomes.h5ad\"\n",
    "\n",
    "# write the object to file\n",
    "adata.write(out_path)\n",
    "\n",
    "adata\n"
   ]
  },
  {
   "cell_type": "code",
   "execution_count": null,
   "id": "588f0e10-71f8-457d-abd5-15b78ed49ef7",
   "metadata": {},
   "outputs": [],
   "source": []
  }
 ],
 "metadata": {
  "kernelspec": {
   "display_name": "scanpy",
   "language": "python",
   "name": "scanpy"
  },
  "language_info": {
   "codemirror_mode": {
    "name": "ipython",
    "version": 3
   },
   "file_extension": ".py",
   "mimetype": "text/x-python",
   "name": "python",
   "nbconvert_exporter": "python",
   "pygments_lexer": "ipython3",
   "version": "3.12.3"
  }
 },
 "nbformat": 4,
 "nbformat_minor": 5
}
