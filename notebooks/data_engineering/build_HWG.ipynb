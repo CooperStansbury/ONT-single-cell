{
 "cells": [
  {
   "cell_type": "code",
   "execution_count": 1,
   "id": "285003fd-cf8c-4ed6-85a4-2b8c64ba4dc1",
   "metadata": {},
   "outputs": [],
   "source": [
    "import sys\n",
    "import pandas as pd\n",
    "import numpy as np\n",
    "import matplotlib.pyplot as plt\n",
    "import seaborn as sns \n",
    "import scanpy as sc\n",
    "import anndata as an\n",
    "from scipy.sparse import csr_matrix\n",
    "import scipy.io\n",
    "import h5py\n",
    "from scipy.sparse.linalg import eigsh"
   ]
  },
  {
   "cell_type": "markdown",
   "id": "4d86ce79-3fa1-4482-87f4-1793ef7a0f6f",
   "metadata": {},
   "source": [
    "# Load a GTF"
   ]
  },
  {
   "cell_type": "code",
   "execution_count": 2,
   "id": "8a48efa2-1df2-47e7-a3fc-95c02638b02c",
   "metadata": {},
   "outputs": [
    {
     "name": "stderr",
     "output_type": "stream",
     "text": [
      "/tmp/ipykernel_334822/631469464.py:15: DtypeWarning: Columns (0) have mixed types. Specify dtype option on import or set low_memory=False.\n",
      "  gdf = pd.read_csv(fpath, usecols=columns)\n"
     ]
    },
    {
     "name": "stdout",
     "output_type": "stream",
     "text": [
      "gdf.shape=(41407, 7)\n"
     ]
    },
    {
     "data": {
      "text/html": [
       "<div>\n",
       "<style scoped>\n",
       "    .dataframe tbody tr th:only-of-type {\n",
       "        vertical-align: middle;\n",
       "    }\n",
       "\n",
       "    .dataframe tbody tr th {\n",
       "        vertical-align: top;\n",
       "    }\n",
       "\n",
       "    .dataframe thead th {\n",
       "        text-align: right;\n",
       "    }\n",
       "</style>\n",
       "<table border=\"1\" class=\"dataframe\">\n",
       "  <thead>\n",
       "    <tr style=\"text-align: right;\">\n",
       "      <th></th>\n",
       "      <th>Chromosome</th>\n",
       "      <th>Feature</th>\n",
       "      <th>Start</th>\n",
       "      <th>End</th>\n",
       "      <th>gene_id</th>\n",
       "      <th>gene_name</th>\n",
       "      <th>gene_biotype</th>\n",
       "    </tr>\n",
       "  </thead>\n",
       "  <tbody>\n",
       "    <tr>\n",
       "      <th>0</th>\n",
       "      <td>1</td>\n",
       "      <td>gene</td>\n",
       "      <td>1471764</td>\n",
       "      <td>1497848</td>\n",
       "      <td>ENSG00000160072</td>\n",
       "      <td>ATAD3B</td>\n",
       "      <td>protein_coding</td>\n",
       "    </tr>\n",
       "    <tr>\n",
       "      <th>111</th>\n",
       "      <td>1</td>\n",
       "      <td>gene</td>\n",
       "      <td>629061</td>\n",
       "      <td>629433</td>\n",
       "      <td>ENSG00000225972</td>\n",
       "      <td>MTND1P23</td>\n",
       "      <td>unprocessed_pseudogene</td>\n",
       "    </tr>\n",
       "    <tr>\n",
       "      <th>114</th>\n",
       "      <td>1</td>\n",
       "      <td>gene</td>\n",
       "      <td>634375</td>\n",
       "      <td>634922</td>\n",
       "      <td>ENSG00000198744</td>\n",
       "      <td>MTCO3P12</td>\n",
       "      <td>unprocessed_pseudogene</td>\n",
       "    </tr>\n",
       "    <tr>\n",
       "      <th>117</th>\n",
       "      <td>1</td>\n",
       "      <td>gene</td>\n",
       "      <td>182695</td>\n",
       "      <td>184174</td>\n",
       "      <td>ENSG00000279928</td>\n",
       "      <td>DDX11L17</td>\n",
       "      <td>unprocessed_pseudogene</td>\n",
       "    </tr>\n",
       "    <tr>\n",
       "      <th>129</th>\n",
       "      <td>1</td>\n",
       "      <td>gene</td>\n",
       "      <td>3069167</td>\n",
       "      <td>3438621</td>\n",
       "      <td>ENSG00000142611</td>\n",
       "      <td>PRDM16</td>\n",
       "      <td>protein_coding</td>\n",
       "    </tr>\n",
       "  </tbody>\n",
       "</table>\n",
       "</div>"
      ],
      "text/plain": [
       "    Chromosome Feature    Start      End          gene_id gene_name  \\\n",
       "0            1    gene  1471764  1497848  ENSG00000160072    ATAD3B   \n",
       "111          1    gene   629061   629433  ENSG00000225972  MTND1P23   \n",
       "114          1    gene   634375   634922  ENSG00000198744  MTCO3P12   \n",
       "117          1    gene   182695   184174  ENSG00000279928  DDX11L17   \n",
       "129          1    gene  3069167  3438621  ENSG00000142611    PRDM16   \n",
       "\n",
       "               gene_biotype  \n",
       "0            protein_coding  \n",
       "111  unprocessed_pseudogene  \n",
       "114  unprocessed_pseudogene  \n",
       "117  unprocessed_pseudogene  \n",
       "129          protein_coding  "
      ]
     },
     "execution_count": 2,
     "metadata": {},
     "output_type": "execute_result"
    }
   ],
   "source": [
    "# buld a gene look up table\n",
    "\n",
    "fpath = \"/scratch/indikar_root/indikar1/cstansbu/HSC/references/geneTable.csv\"\n",
    "\n",
    "columns = [\n",
    "    'gene_id',\n",
    "    'gene_name',\n",
    "    'Feature',\n",
    "    'gene_biotype',\n",
    "    'Chromosome',\n",
    "    'Start',\n",
    "    'End',\n",
    "]\n",
    "\n",
    "gdf = pd.read_csv(fpath, usecols=columns)\n",
    "gdf = gdf[gdf['Feature'] == 'gene']\n",
    "gdf = gdf.drop_duplicates()\n",
    "gdf = gdf[gdf['gene_name'].notna()]\n",
    "print(f\"{gdf.shape=}\")\n",
    "gdf.head()"
   ]
  },
  {
   "cell_type": "markdown",
   "id": "62850b73-ba73-489d-8d73-7c958de768ad",
   "metadata": {},
   "source": [
    "# Load SCENIC TF list"
   ]
  },
  {
   "cell_type": "code",
   "execution_count": 3,
   "id": "c097a01b-ea04-4e9a-90ce-5a7be9aa6009",
   "metadata": {},
   "outputs": [
    {
     "name": "stdout",
     "output_type": "stream",
     "text": [
      "1606\n"
     ]
    }
   ],
   "source": [
    "filepath = \"/nfs/turbo/umms-indikar/shared/projects/HSC/data/scenic_resources/500bp_up_100bp_down_B.csv\"\n",
    "sdf = pd.read_csv(filepath)\n",
    "sdf = sdf.rename(columns={\"Unnamed: 0\": \"gene_name\"})\n",
    "sdf.head()\n",
    "\n",
    "scenic_transcription_factors = sdf.columns.to_list()\n",
    "print(len(scenic_transcription_factors))"
   ]
  },
  {
   "cell_type": "markdown",
   "id": "53e1db76-702e-4dad-b21c-b2768a72d3b5",
   "metadata": {},
   "source": [
    "# Load TRRUST"
   ]
  },
  {
   "cell_type": "code",
   "execution_count": 4,
   "id": "9729daec-a304-4e94-b7df-6900d000f73a",
   "metadata": {},
   "outputs": [
    {
     "name": "stdout",
     "output_type": "stream",
     "text": [
      "rdf.shape=(9396, 4)\n",
      "rdf['source'].nunique()=795\n",
      "rdf['target'].nunique()=2492\n"
     ]
    },
    {
     "data": {
      "text/html": [
       "<div>\n",
       "<style scoped>\n",
       "    .dataframe tbody tr th:only-of-type {\n",
       "        vertical-align: middle;\n",
       "    }\n",
       "\n",
       "    .dataframe tbody tr th {\n",
       "        vertical-align: top;\n",
       "    }\n",
       "\n",
       "    .dataframe thead th {\n",
       "        text-align: right;\n",
       "    }\n",
       "</style>\n",
       "<table border=\"1\" class=\"dataframe\">\n",
       "  <thead>\n",
       "    <tr style=\"text-align: right;\">\n",
       "      <th></th>\n",
       "      <th>source</th>\n",
       "      <th>target</th>\n",
       "      <th>class</th>\n",
       "      <th>evidence</th>\n",
       "      <th>type</th>\n",
       "    </tr>\n",
       "  </thead>\n",
       "  <tbody>\n",
       "    <tr>\n",
       "      <th>0</th>\n",
       "      <td>AATF</td>\n",
       "      <td>BAX</td>\n",
       "      <td>Repression</td>\n",
       "      <td>22909821</td>\n",
       "      <td>-1</td>\n",
       "    </tr>\n",
       "    <tr>\n",
       "      <th>1</th>\n",
       "      <td>AATF</td>\n",
       "      <td>CDKN1A</td>\n",
       "      <td>Unknown</td>\n",
       "      <td>17157788</td>\n",
       "      <td>0</td>\n",
       "    </tr>\n",
       "    <tr>\n",
       "      <th>2</th>\n",
       "      <td>AATF</td>\n",
       "      <td>KLK3</td>\n",
       "      <td>Unknown</td>\n",
       "      <td>23146908</td>\n",
       "      <td>0</td>\n",
       "    </tr>\n",
       "    <tr>\n",
       "      <th>3</th>\n",
       "      <td>AATF</td>\n",
       "      <td>MYC</td>\n",
       "      <td>Activation</td>\n",
       "      <td>20549547</td>\n",
       "      <td>1</td>\n",
       "    </tr>\n",
       "    <tr>\n",
       "      <th>4</th>\n",
       "      <td>AATF</td>\n",
       "      <td>TP53</td>\n",
       "      <td>Unknown</td>\n",
       "      <td>17157788</td>\n",
       "      <td>0</td>\n",
       "    </tr>\n",
       "  </tbody>\n",
       "</table>\n",
       "</div>"
      ],
      "text/plain": [
       "  source  target       class  evidence  type\n",
       "0   AATF     BAX  Repression  22909821    -1\n",
       "1   AATF  CDKN1A     Unknown  17157788     0\n",
       "2   AATF    KLK3     Unknown  23146908     0\n",
       "3   AATF     MYC  Activation  20549547     1\n",
       "4   AATF    TP53     Unknown  17157788     0"
      ]
     },
     "execution_count": 4,
     "metadata": {},
     "output_type": "execute_result"
    }
   ],
   "source": [
    "# add regulator information\n",
    "fpath = \"/nfs/turbo/umms-indikar/shared/projects/HSC/data/TRRUST/trrust_rawdata.human.tsv\"\n",
    "rdf = pd.read_csv(fpath, sep=\"\\t\", header=None)\n",
    "rdf.columns = ['source', 'target', 'class', 'evidence']\n",
    "print(f\"{rdf.shape=}\")\n",
    "\n",
    "class_map = {\n",
    "    'Unknown' : 0, \n",
    "    'Activation' : 1,\n",
    "    'Repression' : -1,\n",
    "}\n",
    "\n",
    "rdf['type'] = rdf['class'].map(class_map)\n",
    "\n",
    "print(f\"{rdf['source'].nunique()=}\")\n",
    "print(f\"{rdf['target'].nunique()=}\")\n",
    "\n",
    "rdf.head()"
   ]
  },
  {
   "cell_type": "markdown",
   "id": "efc63f6d-0870-4996-ae26-a16ab418f6dc",
   "metadata": {},
   "source": [
    "# Load gene index"
   ]
  },
  {
   "cell_type": "code",
   "execution_count": 5,
   "id": "8d4ee2c5-d494-452a-8ab3-92aa12b5c75e",
   "metadata": {},
   "outputs": [
    {
     "name": "stdout",
     "output_type": "stream",
     "text": [
      "genes.shape=(18771, 11)\n"
     ]
    },
    {
     "data": {
      "text/html": [
       "<div>\n",
       "<style scoped>\n",
       "    .dataframe tbody tr th:only-of-type {\n",
       "        vertical-align: middle;\n",
       "    }\n",
       "\n",
       "    .dataframe tbody tr th {\n",
       "        vertical-align: top;\n",
       "    }\n",
       "\n",
       "    .dataframe thead th {\n",
       "        text-align: right;\n",
       "    }\n",
       "</style>\n",
       "<table border=\"1\" class=\"dataframe\">\n",
       "  <thead>\n",
       "    <tr style=\"text-align: right;\">\n",
       "      <th></th>\n",
       "      <th>gene_id</th>\n",
       "      <th>chrom</th>\n",
       "      <th>start</th>\n",
       "      <th>end</th>\n",
       "      <th>source</th>\n",
       "      <th>tf</th>\n",
       "      <th>mr</th>\n",
       "      <th>gene_class</th>\n",
       "      <th>is_scenic_tf</th>\n",
       "      <th>gene_biotype</th>\n",
       "    </tr>\n",
       "    <tr>\n",
       "      <th>gene_name</th>\n",
       "      <th></th>\n",
       "      <th></th>\n",
       "      <th></th>\n",
       "      <th></th>\n",
       "      <th></th>\n",
       "      <th></th>\n",
       "      <th></th>\n",
       "      <th></th>\n",
       "      <th></th>\n",
       "      <th></th>\n",
       "    </tr>\n",
       "  </thead>\n",
       "  <tbody>\n",
       "    <tr>\n",
       "      <th>OR4F5</th>\n",
       "      <td>ENSG00000186092</td>\n",
       "      <td>1</td>\n",
       "      <td>65419</td>\n",
       "      <td>71585</td>\n",
       "      <td>HGNC Symbol</td>\n",
       "      <td>0</td>\n",
       "      <td>0</td>\n",
       "      <td>g3</td>\n",
       "      <td>0</td>\n",
       "      <td>protein_coding</td>\n",
       "    </tr>\n",
       "    <tr>\n",
       "      <th>OR4F29</th>\n",
       "      <td>ENSG00000284733</td>\n",
       "      <td>1</td>\n",
       "      <td>450703</td>\n",
       "      <td>451697</td>\n",
       "      <td>HGNC Symbol</td>\n",
       "      <td>0</td>\n",
       "      <td>0</td>\n",
       "      <td>g3</td>\n",
       "      <td>0</td>\n",
       "      <td>protein_coding</td>\n",
       "    </tr>\n",
       "    <tr>\n",
       "      <th>OR4F16</th>\n",
       "      <td>ENSG00000284662</td>\n",
       "      <td>1</td>\n",
       "      <td>685679</td>\n",
       "      <td>686673</td>\n",
       "      <td>HGNC Symbol</td>\n",
       "      <td>0</td>\n",
       "      <td>0</td>\n",
       "      <td>g3</td>\n",
       "      <td>0</td>\n",
       "      <td>protein_coding</td>\n",
       "    </tr>\n",
       "    <tr>\n",
       "      <th>SAMD11</th>\n",
       "      <td>ENSG00000187634</td>\n",
       "      <td>1</td>\n",
       "      <td>923928</td>\n",
       "      <td>944581</td>\n",
       "      <td>HGNC Symbol</td>\n",
       "      <td>0</td>\n",
       "      <td>0</td>\n",
       "      <td>g3</td>\n",
       "      <td>0</td>\n",
       "      <td>protein_coding</td>\n",
       "    </tr>\n",
       "    <tr>\n",
       "      <th>NOC2L</th>\n",
       "      <td>ENSG00000188976</td>\n",
       "      <td>1</td>\n",
       "      <td>944203</td>\n",
       "      <td>959309</td>\n",
       "      <td>HGNC Symbol</td>\n",
       "      <td>0</td>\n",
       "      <td>0</td>\n",
       "      <td>g3</td>\n",
       "      <td>0</td>\n",
       "      <td>protein_coding</td>\n",
       "    </tr>\n",
       "  </tbody>\n",
       "</table>\n",
       "</div>"
      ],
      "text/plain": [
       "                   gene_id  chrom   start     end       source  tf  mr  \\\n",
       "gene_name                                                                \n",
       "OR4F5      ENSG00000186092      1   65419   71585  HGNC Symbol   0   0   \n",
       "OR4F29     ENSG00000284733      1  450703  451697  HGNC Symbol   0   0   \n",
       "OR4F16     ENSG00000284662      1  685679  686673  HGNC Symbol   0   0   \n",
       "SAMD11     ENSG00000187634      1  923928  944581  HGNC Symbol   0   0   \n",
       "NOC2L      ENSG00000188976      1  944203  959309  HGNC Symbol   0   0   \n",
       "\n",
       "          gene_class  is_scenic_tf    gene_biotype  \n",
       "gene_name                                           \n",
       "OR4F5             g3             0  protein_coding  \n",
       "OR4F29            g3             0  protein_coding  \n",
       "OR4F16            g3             0  protein_coding  \n",
       "SAMD11            g3             0  protein_coding  \n",
       "NOC2L             g3             0  protein_coding  "
      ]
     },
     "execution_count": 5,
     "metadata": {},
     "output_type": "execute_result"
    }
   ],
   "source": [
    "fpath = \"/nfs/turbo/umms-indikar/shared/projects/HSC/data/HWG/gene_index.csv\"\n",
    "genes = pd.read_csv(fpath)\n",
    "\n",
    "genes = genes.rename(columns={\n",
    "    'Row' : 'gene_id',\n",
    "    'GeneName' : 'gene_name',\n",
    "    'Chromosome' : 'chrom',\n",
    "    'Gene_start_bp' : 'start',\n",
    "    'Gene_end_bp' : 'end',\n",
    "    'Source' : 'source',\n",
    "    'IsTF' : 'tf',\n",
    "    'IsSelfConnected' : 'mr',\n",
    "    'HWGclass' : 'gene_class',\n",
    "})\n",
    "\n",
    "genes['gene_name'] = genes['gene_name'].str.strip()\n",
    "\n",
    "genes['is_scenic_tf'] = genes['gene_name'].isin(scenic_transcription_factors).astype(int)\n",
    "\n",
    "# merge the metadata\n",
    "genes = pd.merge(genes, gdf[['gene_id', 'gene_biotype']], \n",
    "                 how='left',\n",
    "                 left_on='gene_id',\n",
    "                 right_on='gene_id', \n",
    "                )\n",
    "\n",
    "print(f\"{genes.shape=}\")\n",
    "genes = genes.set_index('gene_name')\n",
    "genes.head()"
   ]
  },
  {
   "cell_type": "code",
   "execution_count": 6,
   "id": "1e523f1e-f99c-4022-bee0-0b22d2ec413e",
   "metadata": {},
   "outputs": [
    {
     "data": {
      "text/plain": [
       "gene_class\n",
       "g3    17170\n",
       "g2      916\n",
       "g1      685\n",
       "Name: count, dtype: int64"
      ]
     },
     "execution_count": 6,
     "metadata": {},
     "output_type": "execute_result"
    }
   ],
   "source": [
    "genes['gene_class'].value_counts()"
   ]
  },
  {
   "cell_type": "code",
   "execution_count": 7,
   "id": "bb94b795-ffc4-43af-9493-4f33d169593e",
   "metadata": {},
   "outputs": [
    {
     "data": {
      "text/plain": [
       "is_scenic_tf\n",
       "0    17203\n",
       "1     1568\n",
       "Name: count, dtype: int64"
      ]
     },
     "execution_count": 7,
     "metadata": {},
     "output_type": "execute_result"
    }
   ],
   "source": [
    "genes['is_scenic_tf'].value_counts()"
   ]
  },
  {
   "cell_type": "markdown",
   "id": "a0593557-1fc7-4a3d-958e-6b547ffe6742",
   "metadata": {},
   "source": [
    "# load the HWG"
   ]
  },
  {
   "cell_type": "code",
   "execution_count": 8,
   "id": "31f76be8-cc67-4911-a194-ee2ecf905aec",
   "metadata": {},
   "outputs": [
    {
     "name": "stdout",
     "output_type": "stream",
     "text": [
      "X.shape=(18771, 18771)\n"
     ]
    },
    {
     "data": {
      "text/html": [
       "<div>\n",
       "<style scoped>\n",
       "    .dataframe tbody tr th:only-of-type {\n",
       "        vertical-align: middle;\n",
       "    }\n",
       "\n",
       "    .dataframe tbody tr th {\n",
       "        vertical-align: top;\n",
       "    }\n",
       "\n",
       "    .dataframe thead th {\n",
       "        text-align: right;\n",
       "    }\n",
       "</style>\n",
       "<table border=\"1\" class=\"dataframe\">\n",
       "  <thead>\n",
       "    <tr style=\"text-align: right;\">\n",
       "      <th></th>\n",
       "      <th>OR4F5</th>\n",
       "      <th>OR4F29</th>\n",
       "      <th>OR4F16</th>\n",
       "      <th>SAMD11</th>\n",
       "      <th>NOC2L</th>\n",
       "      <th>KLHL17</th>\n",
       "      <th>PLEKHN1</th>\n",
       "      <th>PERM1</th>\n",
       "      <th>HES4</th>\n",
       "      <th>ISG15</th>\n",
       "      <th>...</th>\n",
       "      <th>MT-CO2</th>\n",
       "      <th>MT-ATP8</th>\n",
       "      <th>MT-ATP6</th>\n",
       "      <th>MT-CO3</th>\n",
       "      <th>MT-ND3</th>\n",
       "      <th>MT-ND4L</th>\n",
       "      <th>MT-ND4</th>\n",
       "      <th>MT-ND5</th>\n",
       "      <th>MT-ND6</th>\n",
       "      <th>MT-CYB</th>\n",
       "    </tr>\n",
       "    <tr>\n",
       "      <th>gene_name</th>\n",
       "      <th></th>\n",
       "      <th></th>\n",
       "      <th></th>\n",
       "      <th></th>\n",
       "      <th></th>\n",
       "      <th></th>\n",
       "      <th></th>\n",
       "      <th></th>\n",
       "      <th></th>\n",
       "      <th></th>\n",
       "      <th></th>\n",
       "      <th></th>\n",
       "      <th></th>\n",
       "      <th></th>\n",
       "      <th></th>\n",
       "      <th></th>\n",
       "      <th></th>\n",
       "      <th></th>\n",
       "      <th></th>\n",
       "      <th></th>\n",
       "      <th></th>\n",
       "    </tr>\n",
       "  </thead>\n",
       "  <tbody>\n",
       "    <tr>\n",
       "      <th>OR4F5</th>\n",
       "      <td>0</td>\n",
       "      <td>0</td>\n",
       "      <td>0</td>\n",
       "      <td>0</td>\n",
       "      <td>0</td>\n",
       "      <td>0</td>\n",
       "      <td>0</td>\n",
       "      <td>0</td>\n",
       "      <td>0</td>\n",
       "      <td>0</td>\n",
       "      <td>...</td>\n",
       "      <td>0</td>\n",
       "      <td>0</td>\n",
       "      <td>0</td>\n",
       "      <td>0</td>\n",
       "      <td>0</td>\n",
       "      <td>0</td>\n",
       "      <td>0</td>\n",
       "      <td>0</td>\n",
       "      <td>0</td>\n",
       "      <td>0</td>\n",
       "    </tr>\n",
       "    <tr>\n",
       "      <th>OR4F29</th>\n",
       "      <td>0</td>\n",
       "      <td>0</td>\n",
       "      <td>1</td>\n",
       "      <td>0</td>\n",
       "      <td>0</td>\n",
       "      <td>0</td>\n",
       "      <td>0</td>\n",
       "      <td>0</td>\n",
       "      <td>0</td>\n",
       "      <td>0</td>\n",
       "      <td>...</td>\n",
       "      <td>0</td>\n",
       "      <td>0</td>\n",
       "      <td>0</td>\n",
       "      <td>0</td>\n",
       "      <td>0</td>\n",
       "      <td>0</td>\n",
       "      <td>0</td>\n",
       "      <td>0</td>\n",
       "      <td>0</td>\n",
       "      <td>0</td>\n",
       "    </tr>\n",
       "    <tr>\n",
       "      <th>OR4F16</th>\n",
       "      <td>0</td>\n",
       "      <td>1</td>\n",
       "      <td>0</td>\n",
       "      <td>0</td>\n",
       "      <td>0</td>\n",
       "      <td>0</td>\n",
       "      <td>0</td>\n",
       "      <td>0</td>\n",
       "      <td>0</td>\n",
       "      <td>0</td>\n",
       "      <td>...</td>\n",
       "      <td>0</td>\n",
       "      <td>0</td>\n",
       "      <td>0</td>\n",
       "      <td>0</td>\n",
       "      <td>0</td>\n",
       "      <td>0</td>\n",
       "      <td>0</td>\n",
       "      <td>0</td>\n",
       "      <td>0</td>\n",
       "      <td>0</td>\n",
       "    </tr>\n",
       "    <tr>\n",
       "      <th>SAMD11</th>\n",
       "      <td>0</td>\n",
       "      <td>0</td>\n",
       "      <td>0</td>\n",
       "      <td>0</td>\n",
       "      <td>0</td>\n",
       "      <td>0</td>\n",
       "      <td>1</td>\n",
       "      <td>0</td>\n",
       "      <td>0</td>\n",
       "      <td>0</td>\n",
       "      <td>...</td>\n",
       "      <td>0</td>\n",
       "      <td>0</td>\n",
       "      <td>0</td>\n",
       "      <td>0</td>\n",
       "      <td>0</td>\n",
       "      <td>0</td>\n",
       "      <td>0</td>\n",
       "      <td>0</td>\n",
       "      <td>0</td>\n",
       "      <td>0</td>\n",
       "    </tr>\n",
       "    <tr>\n",
       "      <th>NOC2L</th>\n",
       "      <td>0</td>\n",
       "      <td>0</td>\n",
       "      <td>0</td>\n",
       "      <td>0</td>\n",
       "      <td>0</td>\n",
       "      <td>0</td>\n",
       "      <td>0</td>\n",
       "      <td>0</td>\n",
       "      <td>0</td>\n",
       "      <td>0</td>\n",
       "      <td>...</td>\n",
       "      <td>0</td>\n",
       "      <td>0</td>\n",
       "      <td>0</td>\n",
       "      <td>0</td>\n",
       "      <td>0</td>\n",
       "      <td>0</td>\n",
       "      <td>0</td>\n",
       "      <td>0</td>\n",
       "      <td>0</td>\n",
       "      <td>0</td>\n",
       "    </tr>\n",
       "  </tbody>\n",
       "</table>\n",
       "<p>5 rows × 18771 columns</p>\n",
       "</div>"
      ],
      "text/plain": [
       "           OR4F5  OR4F29  OR4F16  SAMD11  NOC2L  KLHL17  PLEKHN1  PERM1  HES4  \\\n",
       "gene_name                                                                       \n",
       "OR4F5          0       0       0       0      0       0        0      0     0   \n",
       "OR4F29         0       0       1       0      0       0        0      0     0   \n",
       "OR4F16         0       1       0       0      0       0        0      0     0   \n",
       "SAMD11         0       0       0       0      0       0        1      0     0   \n",
       "NOC2L          0       0       0       0      0       0        0      0     0   \n",
       "\n",
       "           ISG15  ...  MT-CO2  MT-ATP8  MT-ATP6  MT-CO3  MT-ND3  MT-ND4L  \\\n",
       "gene_name         ...                                                      \n",
       "OR4F5          0  ...       0        0        0       0       0        0   \n",
       "OR4F29         0  ...       0        0        0       0       0        0   \n",
       "OR4F16         0  ...       0        0        0       0       0        0   \n",
       "SAMD11         0  ...       0        0        0       0       0        0   \n",
       "NOC2L          0  ...       0        0        0       0       0        0   \n",
       "\n",
       "           MT-ND4  MT-ND5  MT-ND6  MT-CYB  \n",
       "gene_name                                  \n",
       "OR4F5           0       0       0       0  \n",
       "OR4F29          0       0       0       0  \n",
       "OR4F16          0       0       0       0  \n",
       "SAMD11          0       0       0       0  \n",
       "NOC2L           0       0       0       0  \n",
       "\n",
       "[5 rows x 18771 columns]"
      ]
     },
     "execution_count": 8,
     "metadata": {},
     "output_type": "execute_result"
    }
   ],
   "source": [
    "hwg_path = \"/nfs/turbo/umms-indikar/shared/projects/HSC/data/HWG/hwg.csv\"\n",
    "\n",
    "X = pd.read_csv(hwg_path, low_memory=False)\n",
    "X = X.rename(columns={\n",
    "    'Row' : 'gene_name',\n",
    "})\n",
    "\n",
    "X = X.set_index('gene_name')\n",
    "X = X.astype(int)\n",
    "print(f\"{X.shape=}\")\n",
    "X.head()"
   ]
  },
  {
   "cell_type": "code",
   "execution_count": 9,
   "id": "4d2984b6-1a31-4901-89dc-5d67f942d080",
   "metadata": {},
   "outputs": [
    {
     "data": {
      "text/plain": [
       "True"
      ]
     },
     "execution_count": 9,
     "metadata": {},
     "output_type": "execute_result"
    }
   ],
   "source": [
    "# test for symmetry\n",
    "np.allclose(X.to_numpy(), X.to_numpy().T)"
   ]
  },
  {
   "cell_type": "code",
   "execution_count": 10,
   "id": "6545e15a-24b7-4e1a-bacb-80e525044e08",
   "metadata": {},
   "outputs": [
    {
     "name": "stdout",
     "output_type": "stream",
     "text": [
      "total_vals=1092721\n",
      "sparsity=99.690\n"
     ]
    }
   ],
   "source": [
    "# compute quick summary stats\n",
    "total_vals = X.to_numpy().sum()\n",
    "sparsity = 100 - (X.to_numpy().sum() / X.to_numpy().size) * 100\n",
    "print(f\"{total_vals=}\")\n",
    "print(f\"{sparsity=:.3f}\")"
   ]
  },
  {
   "cell_type": "markdown",
   "id": "69ecf406-7594-48ee-9f66-aff8a9599763",
   "metadata": {},
   "source": [
    "# Build the HWG"
   ]
  },
  {
   "cell_type": "code",
   "execution_count": 11,
   "id": "0b59216a-cfcb-45c0-bc2c-612fe202eed8",
   "metadata": {},
   "outputs": [
    {
     "data": {
      "text/plain": [
       "AnnData object with n_obs × n_vars = 18771 × 18771\n",
       "    obs: 'gene_id', 'chrom', 'start', 'end', 'source', 'tf', 'mr', 'gene_class', 'is_scenic_tf', 'gene_biotype'\n",
       "    var: 'gene_id', 'chrom', 'start', 'end', 'source', 'tf', 'mr', 'gene_class', 'is_scenic_tf', 'gene_biotype'\n",
       "    uns: 'TRRUST', 'SCENIC+', 'scenic_transcription_factors', 'transcription_factors', 'master_regulators', 'n_eigenvalues', 'which_eigenvalues', 'eigenvalues', 'eigenvectors'"
      ]
     },
     "execution_count": 11,
     "metadata": {},
     "output_type": "execute_result"
    }
   ],
   "source": [
    "hwg = an.AnnData(csr_matrix(X.to_numpy()))\n",
    "hwg.var = genes.copy()\n",
    "hwg.obs = genes.copy()\n",
    "\n",
    "hwg.var_names = X.columns.copy()\n",
    "hwg.obs_names = X.index.copy()\n",
    "\n",
    "# add some metadata \n",
    "hwg.uns['TRRUST'] = rdf.copy()\n",
    "hwg.uns['SCENIC+'] = sdf.copy()\n",
    "hwg.uns['scenic_transcription_factors'] = scenic_transcription_factors\n",
    "hwg.uns['transcription_factors'] = genes[(genes['tf'] == 1) & (genes.index.notna())].index.to_list()\n",
    "hwg.uns['master_regulators'] = genes[(genes['mr'] == 1) & (genes.index.notna())].index.to_list()\n",
    "\n",
    "# add some eignevalues\n",
    "k = 10\n",
    "which = \"LM\"\n",
    "eigenvalues, eigenvectors = eigsh(hwg.X.asfptype(), k=k, which=which) \n",
    "hwg.uns['n_eigenvalues'] = k\n",
    "hwg.uns['which_eigenvalues'] = which\n",
    "hwg.uns['eigenvalues'] = eigenvalues\n",
    "hwg.uns['eigenvectors'] = eigenvectors\n",
    "\n",
    "out_path = \"/nfs/turbo/umms-indikar/shared/projects/HSC/data/HWG/HWG.scanpy.h5ad\"\n",
    "hwg.write(out_path)\n",
    "\n",
    "hwg"
   ]
  },
  {
   "cell_type": "code",
   "execution_count": null,
   "id": "0494a814-c3e5-46fe-9632-0f100cca1d6a",
   "metadata": {},
   "outputs": [],
   "source": []
  },
  {
   "cell_type": "code",
   "execution_count": 12,
   "id": "77c50b47-b398-4d65-815f-cd85976927d1",
   "metadata": {},
   "outputs": [
    {
     "ename": "SyntaxError",
     "evalue": "'break' outside loop (668683560.py, line 1)",
     "output_type": "error",
     "traceback": [
      "\u001b[0;36m  Cell \u001b[0;32mIn[12], line 1\u001b[0;36m\u001b[0m\n\u001b[0;31m    break\u001b[0m\n\u001b[0m    ^\u001b[0m\n\u001b[0;31mSyntaxError\u001b[0m\u001b[0;31m:\u001b[0m 'break' outside loop\n"
     ]
    }
   ],
   "source": [
    "break"
   ]
  },
  {
   "cell_type": "code",
   "execution_count": null,
   "id": "9ddd1db5-d1f1-40d1-8224-3330670f4687",
   "metadata": {},
   "outputs": [],
   "source": []
  },
  {
   "cell_type": "code",
   "execution_count": null,
   "id": "650fd9b2-19aa-4055-9fd6-1c7af4d712ef",
   "metadata": {},
   "outputs": [],
   "source": []
  },
  {
   "cell_type": "markdown",
   "id": "8b155788-19bd-42be-9267-2245ee18085c",
   "metadata": {},
   "source": [
    "# Archive"
   ]
  },
  {
   "cell_type": "code",
   "execution_count": null,
   "id": "5fb19dea-f435-46a7-a6c4-ed77bd6c63e7",
   "metadata": {},
   "outputs": [],
   "source": [
    "# fpath = \"/nfs/turbo/umms-indikar/shared/projects/HSC/data/HWG/gene_index.csv\"\n",
    "# genes = pd.read_csv(fpath)\n",
    "\n",
    "\n",
    "# columns = [\n",
    "#     'Stable ID',\n",
    "#     'Transcription Factor',\n",
    "# ]\n",
    "\n",
    "# genes = pd.read_csv(fpath, usecols=columns)\n",
    "# genes.columns = ['gene_id', 'tf']\n",
    "\n",
    "# # merge the metadata\n",
    "# genes = pd.merge(genes, gdf, \n",
    "#                  how='left',\n",
    "#                  left_on='gene_id',\n",
    "#                  right_on='gene_id', \n",
    "#                 )\n",
    "\n",
    "# print(f\"{genes.shape=}\")\n",
    "# genes.head()\n",
    "\n",
    "\n",
    "# genes = genes.rename(columns={\n",
    "#     'Chromosome' : 'chrom',\n",
    "#     'Feature' : 'feature',\n",
    "#     'Start' : 'start',\n",
    "#     'End' : 'end',\n",
    "# })\n",
    "# genes.head()\n",
    "\n",
    "# genes['gene_name'] = genes['gene_name'].str.strip()\n",
    "\n",
    "# # typing\n",
    "# genes['gene_name'] = genes['gene_name'].astype(str)\n",
    "# genes['chrom'] = genes['chrom'].astype(str)\n",
    "# genes['feature'] = genes['feature'].astype(str)\n",
    "# genes['gene_biotype'] = genes['gene_biotype'].astype(str)\n",
    "\n",
    "# genes = genes.set_index('gene_name')\n",
    "# print(f\"{genes.shape=}\")\n",
    "# genes.head()"
   ]
  },
  {
   "cell_type": "code",
   "execution_count": null,
   "id": "b710728f-88d6-4f5e-baa1-5185dbcd7d67",
   "metadata": {},
   "outputs": [],
   "source": [
    "# hwg_path = \"/nfs/turbo/umms-indikar/shared/projects/HSC/data/HWG/hwg.csv\"\n",
    "\n",
    "# X = pd.read_csv(hwg_path, header=None)\n",
    "# print(f\"{X.shape=}\")"
   ]
  },
  {
   "cell_type": "code",
   "execution_count": null,
   "id": "ed243ba1-bfe2-4d66-a347-fcc6e96b8fd3",
   "metadata": {},
   "outputs": [],
   "source": [
    "# X.head()"
   ]
  },
  {
   "cell_type": "markdown",
   "id": "1cd08152-f133-4a17-b4a6-c28fa2be6dfe",
   "metadata": {},
   "source": [
    "# Build the HWG"
   ]
  },
  {
   "cell_type": "code",
   "execution_count": null,
   "id": "8d3a1f39-95fd-4474-bb7d-507186359c92",
   "metadata": {},
   "outputs": [],
   "source": [
    "# hwg = an.AnnData(csr_matrix(X.to_numpy()))\n",
    "# hwg.var = genes.copy()\n",
    "# hwg.obs = genes.copy()\n",
    "\n",
    "# hwg.var_names_make_unique()\n",
    "# hwg.obs_names_make_unique()\n",
    "\n",
    "# # add some metadata \n",
    "# hwg.uns['transcription_factors'] = genes[(genes['tf'] == 1) & (genes.index.notna())].index.to_list()\n",
    "# hwg.uns['master_regulators'] = genes[(genes['mr'] == 1) & (genes.index.notna())].index.to_list()\n",
    "\n",
    "# # add some eignevalues\n",
    "# k = 10\n",
    "# which = \"LM\"\n",
    "# eigenvalues, eigenvectors = eigsh(hwg.X.asfptype(), k=k, which=which) \n",
    "# hwg.uns['n_eigenvalues'] = k\n",
    "# hwg.uns['which_eigenvalues'] = which\n",
    "# hwg.uns['eigenvalues'] = eigenvalues\n",
    "# hwg.uns['eigenvectors'] = eigenvectors\n",
    "\n",
    "# out_path = \"/nfs/turbo/umms-indikar/shared/projects/HSC/data/HWG/HWG.scanpy.h5ad\"\n",
    "# hwg.write(out_path)\n",
    "\n",
    "# hwg"
   ]
  },
  {
   "cell_type": "code",
   "execution_count": null,
   "id": "b09a3f50-cafb-4860-853c-089457b212a8",
   "metadata": {},
   "outputs": [],
   "source": [
    "# np.allclose(hwg.X.todense(), hwg.X.todense().T)"
   ]
  },
  {
   "cell_type": "code",
   "execution_count": null,
   "id": "394e99eb-0004-44a7-9c47-f36571eb1a8a",
   "metadata": {},
   "outputs": [],
   "source": [
    "# # compute quick summary stats\n",
    "# total_vals = hwg.X.sum()\n",
    "# sparsity = 100 - (hwg.X.sum() / hwg.X.todense().size) * 100\n",
    "# print(f\"{total_vals=}\")\n",
    "# print(f\"{sparsity=:.3f}\")"
   ]
  },
  {
   "cell_type": "code",
   "execution_count": null,
   "id": "f98a2f43-c157-4ec3-89f1-51236710d9de",
   "metadata": {},
   "outputs": [],
   "source": [
    "break"
   ]
  },
  {
   "cell_type": "markdown",
   "id": "43fec1a6-f9aa-42ea-9426-3235441492f4",
   "metadata": {},
   "source": [
    "# Archive 2"
   ]
  },
  {
   "cell_type": "code",
   "execution_count": null,
   "id": "6c145d35-d1ab-4781-9c19-d0b4743c91db",
   "metadata": {},
   "outputs": [],
   "source": [
    "# hwg_path = \"/nfs/turbo/umms-indikar/shared/projects/HWG/HWG.mat\"\n",
    "# data = scipy.io.loadmat(hwg_path) \n",
    "# A = data['HWG'][0][0][1]\n",
    "\n",
    "# # create an andata object\n",
    "# hwg = an.AnnData(A)\n",
    "# hwg.var = genes[['gene_name']].copy()\n",
    "# hwg.obs = genes\n",
    "\n",
    "# hwg.X = hwg.X.astype(bool).astype(int)\n",
    "# hwg.var_names = hwg.var['gene_name'].astype(str).values\n",
    "# hwg.obs_names = hwg.obs['gene_name'].astype(str).values\n",
    "# hwg.var_names_make_unique()\n",
    "# hwg.obs_names_make_unique()\n",
    "\n",
    "# # annotate master regulators\n",
    "# hwg.obs['self_loop'] = np.where(np.diag(hwg.X.todense()) > 0, True, False)\n",
    "# hwg.obs['master_regulator'] = hwg.obs['self_loop'] & hwg.obs['transcription_factor']\n",
    "\n",
    "# # a few aliases\n",
    "# hwg.obs['MR'] = hwg.obs['master_regulator']\n",
    "# hwg.obs['TF'] = hwg.obs['transcription_factor']\n",
    "\n",
    "# # a few metadata columns\n",
    "# hwg.obs['degree'] = hwg.to_df().sum(axis=1).values\n",
    "\n",
    "\n",
    "# # a few unstructured lists\n",
    "# hwg.uns['transcription_factors'] = list(hwg.obs[hwg.obs['TF']].index)\n",
    "# hwg.uns['master_regulators'] = list(hwg.obs[hwg.obs['MR']].index)\n",
    "\n",
    "# k = 25\n",
    "# which = \"LM\"\n",
    "# eigenvalues, eigenvectors = eigsh(hwg.X.asfptype(), k=k, which=which) \n",
    "# hwg.uns['n_eigenvalues'] = k\n",
    "# hwg.uns['which_eigenvalues'] = which\n",
    "# hwg.uns['eigenvalues'] = eigenvalues\n",
    "# hwg.uns['eigenvectors'] = eigenvectors\n",
    "        \n",
    "# out_path = \"/nfs/turbo/umms-indikar/shared/projects/HSC/data/HWG/HWG.scanpy.h5ad\"\n",
    "# # hwg.write(out_path)\n",
    "# hwg"
   ]
  },
  {
   "cell_type": "code",
   "execution_count": null,
   "id": "c957b29d-f459-44d6-894f-36a5b9b2a7be",
   "metadata": {},
   "outputs": [],
   "source": [
    "# hwg.obs['master_regulator'].value_counts()"
   ]
  },
  {
   "cell_type": "code",
   "execution_count": null,
   "id": "1819ef1a-3ab1-4f99-80a0-6f40d06a80c5",
   "metadata": {},
   "outputs": [],
   "source": [
    "# hwg.obs['transcription_factor'].value_counts()"
   ]
  },
  {
   "cell_type": "code",
   "execution_count": null,
   "id": "03e65434-29b2-4ba7-8aef-49021111d571",
   "metadata": {},
   "outputs": [],
   "source": [
    "# np.allclose(hwg.X.todense(), hwg.X.todense().T)"
   ]
  },
  {
   "cell_type": "code",
   "execution_count": null,
   "id": "4f77d1b7-37a8-4c1c-8472-17c354605485",
   "metadata": {},
   "outputs": [],
   "source": [
    "# hwg.X.max()"
   ]
  },
  {
   "cell_type": "code",
   "execution_count": null,
   "id": "19d48502-57c1-4a29-aacf-71f89331102e",
   "metadata": {},
   "outputs": [],
   "source": [
    "# np.triu(hwg.X.todense()).sum()"
   ]
  },
  {
   "cell_type": "code",
   "execution_count": null,
   "id": "a68fb38c-7d0c-4144-9dbc-0bb3e477ae4d",
   "metadata": {},
   "outputs": [],
   "source": [
    "# np.tril(hwg.X.todense()).sum()"
   ]
  },
  {
   "cell_type": "code",
   "execution_count": null,
   "id": "05ca73cc-8c69-47f3-a92b-c9d77d69ae98",
   "metadata": {},
   "outputs": [],
   "source": [
    "break"
   ]
  },
  {
   "cell_type": "code",
   "execution_count": null,
   "id": "80cd7fe7-4911-406c-a175-0bafa7f48d04",
   "metadata": {},
   "outputs": [],
   "source": []
  },
  {
   "cell_type": "code",
   "execution_count": null,
   "id": "3fb6cb78-141a-4fbf-9c3f-ec0b96c8f308",
   "metadata": {},
   "outputs": [],
   "source": [
    "# print(hwg.X[11050, 17134])\n",
    "# print(hwg.X[17134, 11050])"
   ]
  },
  {
   "cell_type": "code",
   "execution_count": null,
   "id": "f123d8e8-dc46-4c31-a483-34b627452f05",
   "metadata": {},
   "outputs": [],
   "source": [
    "# row, col = hwg.X.nonzero()\n",
    "# idx_pairs = list(zip(row, col))\n",
    "# idx_pairs_transposed = list(zip(col, row))  # Transpose indices\n",
    "\n",
    "# asymmetric_pairs = set(idx_pairs) - set(idx_pairs_transposed)\n",
    "# print(asymmetric_pairs)  # {(0, 2)}  since A[0, 2] != A[2, 0]"
   ]
  },
  {
   "cell_type": "code",
   "execution_count": null,
   "id": "542c50fc-b4e6-4651-977a-6df54ea6cce7",
   "metadata": {},
   "outputs": [],
   "source": []
  }
 ],
 "metadata": {
  "kernelspec": {
   "display_name": "scanpy",
   "language": "python",
   "name": "scanpy"
  },
  "language_info": {
   "codemirror_mode": {
    "name": "ipython",
    "version": 3
   },
   "file_extension": ".py",
   "mimetype": "text/x-python",
   "name": "python",
   "nbconvert_exporter": "python",
   "pygments_lexer": "ipython3",
   "version": "3.12.3"
  }
 },
 "nbformat": 4,
 "nbformat_minor": 5
}
