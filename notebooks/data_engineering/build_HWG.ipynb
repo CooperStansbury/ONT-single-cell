{
 "cells": [
  {
   "cell_type": "code",
   "execution_count": 1,
   "id": "285003fd-cf8c-4ed6-85a4-2b8c64ba4dc1",
   "metadata": {},
   "outputs": [],
   "source": [
    "import sys\n",
    "import pandas as pd\n",
    "import numpy as np\n",
    "import matplotlib.pyplot as plt\n",
    "import seaborn as sns \n",
    "import scanpy as sc\n",
    "import anndata as an\n",
    "import scipy.io\n",
    "import h5py"
   ]
  },
  {
   "cell_type": "code",
   "execution_count": 2,
   "id": "5fb19dea-f435-46a7-a6c4-ed77bd6c63e7",
   "metadata": {},
   "outputs": [
    {
     "name": "stdout",
     "output_type": "stream",
     "text": [
      "genes.shape=(19198, 3)\n"
     ]
    },
    {
     "data": {
      "text/html": [
       "<div>\n",
       "<style scoped>\n",
       "    .dataframe tbody tr th:only-of-type {\n",
       "        vertical-align: middle;\n",
       "    }\n",
       "\n",
       "    .dataframe tbody tr th {\n",
       "        vertical-align: top;\n",
       "    }\n",
       "\n",
       "    .dataframe thead th {\n",
       "        text-align: right;\n",
       "    }\n",
       "</style>\n",
       "<table border=\"1\" class=\"dataframe\">\n",
       "  <thead>\n",
       "    <tr style=\"text-align: right;\">\n",
       "      <th></th>\n",
       "      <th>gene_name</th>\n",
       "      <th>transcription_factor</th>\n",
       "    </tr>\n",
       "    <tr>\n",
       "      <th>gene_id</th>\n",
       "      <th></th>\n",
       "      <th></th>\n",
       "    </tr>\n",
       "  </thead>\n",
       "  <tbody>\n",
       "    <tr>\n",
       "      <th>ENSG00000000003</th>\n",
       "      <td>TSPAN6</td>\n",
       "      <td>False</td>\n",
       "    </tr>\n",
       "    <tr>\n",
       "      <th>ENSG00000000005</th>\n",
       "      <td>TNMD</td>\n",
       "      <td>False</td>\n",
       "    </tr>\n",
       "    <tr>\n",
       "      <th>ENSG00000000419</th>\n",
       "      <td>DPM1</td>\n",
       "      <td>False</td>\n",
       "    </tr>\n",
       "    <tr>\n",
       "      <th>ENSG00000000457</th>\n",
       "      <td>SCYL3</td>\n",
       "      <td>False</td>\n",
       "    </tr>\n",
       "    <tr>\n",
       "      <th>ENSG00000000460</th>\n",
       "      <td>C1orf112</td>\n",
       "      <td>False</td>\n",
       "    </tr>\n",
       "  </tbody>\n",
       "</table>\n",
       "</div>"
      ],
      "text/plain": [
       "                gene_name transcription_factor\n",
       "gene_id                                       \n",
       "ENSG00000000003    TSPAN6                False\n",
       "ENSG00000000005      TNMD                False\n",
       "ENSG00000000419      DPM1                False\n",
       "ENSG00000000457     SCYL3                False\n",
       "ENSG00000000460  C1orf112                False"
      ]
     },
     "execution_count": 2,
     "metadata": {},
     "output_type": "execute_result"
    }
   ],
   "source": [
    "fpath = \"/nfs/turbo/umms-indikar/shared/projects/HWG/gene_index.csv\"\n",
    "genes = pd.read_csv(fpath)\n",
    "print(f\"{genes.shape=}\")\n",
    "genes.columns = ['gene_id', 'gene_name', 'transcription_factor']\n",
    "genes['transcription_factor'] = genes['transcription_factor'].map({1 : True, 0 : False})\n",
    "\n",
    "for c in genes.columns:\n",
    "    genes[c] = genes[c].astype(str)\n",
    "\n",
    "genes['gene_name'] = genes['gene_name'].str.strip()\n",
    "genes = genes.set_index('gene_id')\n",
    "genes.head()"
   ]
  },
  {
   "cell_type": "code",
   "execution_count": 3,
   "id": "8e05417e-6f7c-4c95-9a25-29e20c922bd8",
   "metadata": {},
   "outputs": [
    {
     "data": {
      "text/plain": [
       "gene_name               object\n",
       "transcription_factor    object\n",
       "dtype: object"
      ]
     },
     "execution_count": 3,
     "metadata": {},
     "output_type": "execute_result"
    }
   ],
   "source": [
    "genes.dtypes"
   ]
  },
  {
   "cell_type": "code",
   "execution_count": 4,
   "id": "6c145d35-d1ab-4781-9c19-d0b4743c91db",
   "metadata": {},
   "outputs": [
    {
     "data": {
      "text/plain": [
       "AnnData object with n_obs × n_vars = 19198 × 19198\n",
       "    obs: 'gene_name', 'transcription_factor', 'self_loop', 'master_regulator', 'MR', 'TF'\n",
       "    var: 'gene_name', 'transcription_factor', 'self_loop', 'master_regulator', 'MR', 'TF'"
      ]
     },
     "execution_count": 4,
     "metadata": {},
     "output_type": "execute_result"
    }
   ],
   "source": [
    "hwg_path = \"/nfs/turbo/umms-indikar/shared/projects/HWG/HWG.mat\"\n",
    "data = scipy.io.loadmat(hwg_path) \n",
    "A = data['HWG'][0][0][1]\n",
    "\n",
    "# create an andata object\n",
    "hwg = an.AnnData(A)\n",
    "hwg.var = genes\n",
    "hwg.obs = genes\n",
    "\n",
    "hwg.X = hwg.X.astype(bool).astype(int)\n",
    "hwg.var_names = hwg.var['gene_name'].astype(str).values\n",
    "hwg.obs_names = hwg.obs['gene_name'].astype(str).values\n",
    "hwg.var_names_make_unique()\n",
    "hwg.obs_names_make_unique()\n",
    "\n",
    "# annotate master regulators\n",
    "hwg.obs['self_loop'] = np.where(np.diag(hwg.X.todense()) > 0, True, False)\n",
    "hwg.var['self_loop'] = np.where(np.diag(hwg.X.todense()) > 0, True, False)\n",
    "\n",
    "hwg.obs['master_regulator'] = hwg.obs['self_loop'] & hwg.obs['transcription_factor']\n",
    "hwg.var['master_regulator'] = hwg.var['self_loop'] & hwg.var['transcription_factor']\n",
    "\n",
    "# a few aliases\n",
    "hwg.obs['MR'] = hwg.obs['master_regulator']\n",
    "hwg.var['MR'] = hwg.var['master_regulator']\n",
    "\n",
    "hwg.obs['TF'] = hwg.obs['transcription_factor']\n",
    "hwg.var['TF'] = hwg.var['transcription_factor']\n",
    "        \n",
    "out_path = \"/nfs/turbo/umms-indikar/shared/projects/HSC/data/HWG/HWG.scanpy.h5ad\"\n",
    "hwg.write(out_path)\n",
    "hwg"
   ]
  },
  {
   "cell_type": "code",
   "execution_count": 5,
   "id": "c957b29d-f459-44d6-894f-36a5b9b2a7be",
   "metadata": {},
   "outputs": [
    {
     "data": {
      "text/plain": [
       "master_regulator\n",
       "False    18424\n",
       "True       774\n",
       "Name: count, dtype: int64"
      ]
     },
     "execution_count": 5,
     "metadata": {},
     "output_type": "execute_result"
    }
   ],
   "source": [
    "hwg.obs['master_regulator'].value_counts()"
   ]
  },
  {
   "cell_type": "code",
   "execution_count": 6,
   "id": "1819ef1a-3ab1-4f99-80a0-6f40d06a80c5",
   "metadata": {},
   "outputs": [
    {
     "data": {
      "text/plain": [
       "transcription_factor\n",
       "False    17579\n",
       "True      1619\n",
       "Name: count, dtype: int64"
      ]
     },
     "execution_count": 6,
     "metadata": {},
     "output_type": "execute_result"
    }
   ],
   "source": [
    "hwg.obs['transcription_factor'].value_counts()"
   ]
  },
  {
   "cell_type": "code",
   "execution_count": null,
   "id": "fbe0b871-8463-40cd-b7c4-81e0b293e283",
   "metadata": {},
   "outputs": [],
   "source": []
  }
 ],
 "metadata": {
  "kernelspec": {
   "display_name": "scanpy",
   "language": "python",
   "name": "scanpy"
  },
  "language_info": {
   "codemirror_mode": {
    "name": "ipython",
    "version": 3
   },
   "file_extension": ".py",
   "mimetype": "text/x-python",
   "name": "python",
   "nbconvert_exporter": "python",
   "pygments_lexer": "ipython3",
   "version": "3.12.3"
  }
 },
 "nbformat": 4,
 "nbformat_minor": 5
}
