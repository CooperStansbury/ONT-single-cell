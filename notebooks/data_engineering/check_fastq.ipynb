{
 "cells": [
  {
   "cell_type": "code",
   "execution_count": 1,
   "id": "b516d14e-1891-432d-88c6-ef2c1d5021b0",
   "metadata": {},
   "outputs": [],
   "source": [
    "import pysam "
   ]
  },
  {
   "cell_type": "code",
   "execution_count": 5,
   "id": "3fb2bf19-babd-4255-844a-0793bb8c3af1",
   "metadata": {},
   "outputs": [
    {
     "name": "stdout",
     "output_type": "stream",
     "text": [
      "CGTAATGTCACCTCTG_GAAGCTCCTCAA#21a25d85-991a-4f16-a3ed-82d0d63e22d0_+\t0\t#0\t632137\t0\t142S71M7D18M4D29M2D5M2D36M\t*\t0\t0\tGTTTTTTTTTTTTTTTTTTTTTTTTTTGTTTTATGGGCTTTGGTGAGGTAGATTTTGTGTTTAATATTTTTAGTTGGGTGATGAGGAATAGTGTAAGGAGTATGGGGTAATTATGGTGGGCCATACGGTAGTATTTAGTTGGGGCATTGTATTAGCAAACTCATCACTAGACATCGTACTACACATTACGTACTACGTTGTAGCTCGCTTCCACTATCAATAGGAGCTGTACCATCATAGGAGGCTTCATTCACTGATTTCCTATTCAGGCTACACCCTAGACCAAGCCTACGCCAAAATC\tarray('B', [21, 21, 18, 17, 11, 13, 14, 15, 15, 16, 17, 19, 20, 20, 20, 20, 21, 21, 21, 21, 22, 22, 20, 16, 24, 24, 16, 20, 16, 17, 22, 13, 8, 5, 4, 6, 4, 5, 7, 8, 11, 12, 13, 16, 20, 17, 18, 17, 7, 11, 15, 15, 14, 14, 15, 23, 27, 21, 25, 28, 31, 30, 34, 31, 28, 33, 33, 30, 34, 35, 39, 36, 26, 24, 28, 27, 27, 25, 26, 26, 30, 27, 32, 37, 32, 31, 30, 31, 30, 35, 32, 30, 32, 31, 32, 19, 18, 19, 23, 21, 22, 24, 29, 28, 24, 24, 25, 23, 19, 17, 17, 18, 15, 14, 16, 17, 17, 18, 19, 28, 27, 26, 26, 28, 29, 29, 29, 29, 29, 30, 26, 24, 29, 30, 35, 39, 34, 31, 27, 31, 32, 30, 30, 29, 29, 26, 25, 23, 24, 27, 22, 22, 22, 19, 17, 17, 17, 18, 23, 26, 26, 27, 28, 28, 28, 21, 18, 20, 12, 10, 8, 8, 8, 10, 16, 26, 26, 27, 27, 30, 29, 29, 16, 9, 5, 5, 5, 4, 5, 7, 8, 9, 10, 25, 24, 23, 22, 23, 24, 18, 17, 16, 13, 13, 17, 18, 10, 9, 8, 7, 8, 7, 11, 14, 13, 12, 6, 7, 15, 13, 19, 19, 20, 19, 21, 22, 22, 23, 23, 23, 13, 13, 13, 14, 30, 31, 24, 24, 18, 18, 16, 18, 23, 26, 24, 28, 28, 34, 35, 36, 33, 36, 33, 31, 30, 30, 31, 32, 32, 27, 25, 15, 8, 10, 14, 16, 17, 10, 8, 11, 15, 22, 24, 24, 22, 18, 20, 12, 13, 23, 24, 23, 25, 23, 13, 21, 18, 22, 22, 18, 27, 31, 27, 26, 25, 16, 15, 12, 11, 11, 10])\t[('NM', 21), ('ms', 125), ('AS', 118), ('nn', 0), ('ts', '+'), ('tp', 'P'), ('cm', 21), ('s1', 118), ('s2', 118), ('de', 0.06129999831318855), ('SA', 'MT,8365,-,153S128M10D20S,30,13;'), ('MD', '42G0A0C17C1A6^CTATGTC18^TTTG29^CC5^TC21A14'), ('rl', 30), ('CB', 'CGTAATGTCACCTCTG'), ('UB', 'GAAGCTCCTCAA'), ('RD', '21a25d85-991a-4f16-a3ed-82d0d63e22d0')]\n"
     ]
    }
   ],
   "source": [
    "# fpath = \"/scratch/indikar_root/indikar1/cstansbu/HSC/fastq/Run7x0426.raw.fastq.gz\"\n",
    "fpath = \"/scratch/indikar_root/indikar1/cstansbu/HSC/mapping/Run7x0426.tagged.bam\"\n",
    "\n",
    "bam = pysam.AlignmentFile(fpath)\n",
    "for read in bam:\n",
    "    print(read)\n",
    "    break"
   ]
  },
  {
   "cell_type": "code",
   "execution_count": 6,
   "id": "9a38d27f-6733-4d14-b394-ac50f105dddb",
   "metadata": {},
   "outputs": [
    {
     "data": {
      "text/plain": [
       "['__class__',\n",
       " '__copy__',\n",
       " '__deepcopy__',\n",
       " '__delattr__',\n",
       " '__dir__',\n",
       " '__doc__',\n",
       " '__eq__',\n",
       " '__format__',\n",
       " '__ge__',\n",
       " '__getattribute__',\n",
       " '__gt__',\n",
       " '__hash__',\n",
       " '__init__',\n",
       " '__init_subclass__',\n",
       " '__le__',\n",
       " '__lt__',\n",
       " '__ne__',\n",
       " '__new__',\n",
       " '__pyx_vtable__',\n",
       " '__reduce__',\n",
       " '__reduce_ex__',\n",
       " '__repr__',\n",
       " '__setattr__',\n",
       " '__setstate__',\n",
       " '__sizeof__',\n",
       " '__str__',\n",
       " '__subclasshook__',\n",
       " 'aend',\n",
       " 'alen',\n",
       " 'aligned_pairs',\n",
       " 'bin',\n",
       " 'blocks',\n",
       " 'cigar',\n",
       " 'cigarstring',\n",
       " 'cigartuples',\n",
       " 'compare',\n",
       " 'flag',\n",
       " 'from_dict',\n",
       " 'fromstring',\n",
       " 'get_aligned_pairs',\n",
       " 'get_blocks',\n",
       " 'get_cigar_stats',\n",
       " 'get_forward_qualities',\n",
       " 'get_forward_sequence',\n",
       " 'get_overlap',\n",
       " 'get_reference_positions',\n",
       " 'get_reference_sequence',\n",
       " 'get_tag',\n",
       " 'get_tags',\n",
       " 'has_tag',\n",
       " 'header',\n",
       " 'infer_query_length',\n",
       " 'infer_read_length',\n",
       " 'inferred_length',\n",
       " 'is_duplicate',\n",
       " 'is_forward',\n",
       " 'is_mapped',\n",
       " 'is_paired',\n",
       " 'is_proper_pair',\n",
       " 'is_qcfail',\n",
       " 'is_read1',\n",
       " 'is_read2',\n",
       " 'is_reverse',\n",
       " 'is_secondary',\n",
       " 'is_supplementary',\n",
       " 'is_unmapped',\n",
       " 'isize',\n",
       " 'mapping_quality',\n",
       " 'mapq',\n",
       " 'mate_is_forward',\n",
       " 'mate_is_mapped',\n",
       " 'mate_is_reverse',\n",
       " 'mate_is_unmapped',\n",
       " 'modified_bases',\n",
       " 'modified_bases_forward',\n",
       " 'mpos',\n",
       " 'mrnm',\n",
       " 'next_reference_id',\n",
       " 'next_reference_name',\n",
       " 'next_reference_start',\n",
       " 'opt',\n",
       " 'overlap',\n",
       " 'pnext',\n",
       " 'pos',\n",
       " 'positions',\n",
       " 'qend',\n",
       " 'qlen',\n",
       " 'qname',\n",
       " 'qqual',\n",
       " 'qstart',\n",
       " 'qual',\n",
       " 'query',\n",
       " 'query_alignment_end',\n",
       " 'query_alignment_length',\n",
       " 'query_alignment_qualities',\n",
       " 'query_alignment_sequence',\n",
       " 'query_alignment_start',\n",
       " 'query_length',\n",
       " 'query_name',\n",
       " 'query_qualities',\n",
       " 'query_sequence',\n",
       " 'reference_end',\n",
       " 'reference_id',\n",
       " 'reference_length',\n",
       " 'reference_name',\n",
       " 'reference_start',\n",
       " 'rlen',\n",
       " 'rname',\n",
       " 'rnext',\n",
       " 'seq',\n",
       " 'setTag',\n",
       " 'set_tag',\n",
       " 'set_tags',\n",
       " 'tags',\n",
       " 'template_length',\n",
       " 'tid',\n",
       " 'tlen',\n",
       " 'to_dict',\n",
       " 'to_string',\n",
       " 'tostring']"
      ]
     },
     "execution_count": 6,
     "metadata": {},
     "output_type": "execute_result"
    }
   ],
   "source": [
    "dir(read)"
   ]
  },
  {
   "cell_type": "code",
   "execution_count": null,
   "id": "975da1a2-816a-4b62-8b61-d52549af619c",
   "metadata": {},
   "outputs": [],
   "source": []
  }
 ],
 "metadata": {
  "kernelspec": {
   "display_name": "bioinf",
   "language": "python",
   "name": "bioinf"
  },
  "language_info": {
   "codemirror_mode": {
    "name": "ipython",
    "version": 3
   },
   "file_extension": ".py",
   "mimetype": "text/x-python",
   "name": "python",
   "nbconvert_exporter": "python",
   "pygments_lexer": "ipython3",
   "version": "3.10.14"
  }
 },
 "nbformat": 4,
 "nbformat_minor": 5
}
