{
 "cells": [
  {
   "cell_type": "code",
   "execution_count": null,
   "id": "a0b9e78d-6a60-4e87-b1cb-13e167b249d4",
   "metadata": {},
   "outputs": [],
   "source": []
  }
 ],
 "metadata": {
  "kernelspec": {
   "display_name": "",
   "name": ""
  },
  "language_info": {
   "name": ""
  }
 },
 "nbformat": 4,
 "nbformat_minor": 5
}
