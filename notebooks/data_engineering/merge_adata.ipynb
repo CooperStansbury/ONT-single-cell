{
 "cells": [
  {
   "cell_type": "code",
   "execution_count": 1,
   "id": "1bc86495-57fd-4f24-8798-5c347432fb94",
   "metadata": {},
   "outputs": [],
   "source": [
    "import sys\n",
    "import os\n",
    "import pandas as pd\n",
    "import numpy as np\n",
    "import glob\n",
    "import matplotlib.pyplot as plt\n",
    "import pickle\n",
    "import scipy.sparse as sp\n",
    "\n",
    "# for datasets\n",
    "env_path = \"/home/cstansbu/miniconda3/envs/geneformer/lib/python3.10/site-packages/\"\n",
    "sys.path.insert(0, env_path)\n",
    "\n",
    "import scanpy as sc\n",
    "import anndata as an\n",
    "from datasets import Dataset"
   ]
  },
  {
   "cell_type": "code",
   "execution_count": 5,
   "id": "71cc374f-92db-45bd-8edf-825fb20cf4c7",
   "metadata": {},
   "outputs": [
    {
     "name": "stderr",
     "output_type": "stream",
     "text": [
      "/home/cstansbu/miniconda3/envs/geneformer/lib/python3.10/site-packages/anndata/_core/aligned_df.py:67: ImplicitModificationWarning: Transforming to str index.\n",
      "  warnings.warn(\"Transforming to str index.\", ImplicitModificationWarning)\n",
      "/home/cstansbu/miniconda3/envs/geneformer/lib/python3.10/site-packages/anndata/_core/anndata.py:1820: UserWarning: Variable names are not unique. To make them unique, call `.var_names_make_unique`.\n",
      "  utils.warn_names_duplicates(\"var\")\n"
     ]
    }
   ],
   "source": [
    "dirpath = \"/scratch/indikar_root/indikar1/cstansbu/HSC/geneformer_adata/\"\n",
    "file_list = glob.glob(f\"{dirpath}*.anndata.h5ad\")\n",
    "\n",
    "\n",
    "def consolidate_cell_type(\n",
    "    df: pd.DataFrame, celltype_columns: list, fill_value: str = 'iHSC'\n",
    ") -> pd.DataFrame:\n",
    "    \"\"\"Consolidates cell type information from multiple columns into a single 'cell_type' column.\n",
    "\n",
    "    Args:\n",
    "        df: The DataFrame containing the cell type data.\n",
    "        celltype_columns: List of column names to check for cell type values.\n",
    "        fill_value (str, optional): The value to fill in 'cell_type' if none of the columns in `celltype_columns` exist in the DataFrame (default: 'iHSC').\n",
    "\n",
    "    Returns:\n",
    "        The DataFrame with a new 'cell_type' column containing consolidated values or `fill_value` if no overlap is found.\n",
    "    \"\"\"\n",
    "    \n",
    "    # Filter columns that exist in the DataFrame\n",
    "    valid_columns = [col for col in celltype_columns if col in df.columns]\n",
    "\n",
    "    if valid_columns:  \n",
    "        # Find the first non-null value from the specified columns, row-wise\n",
    "        df['cell_type'] = df[valid_columns].bfill(axis=1).iloc[:, 0]\n",
    "    else:\n",
    "        # If no valid columns, fill 'cell_type' with the provided fill_value\n",
    "        df['cell_type'] = fill_value\n",
    "    \n",
    "    # Replace NaN with None to ensure the new column has the proper data type\n",
    "    df['cell_type'] = df['cell_type'].astype('object')\n",
    "    df['cell_type'] = df['cell_type'].where(pd.notnull(df['cell_type']), None)\n",
    "    \n",
    "    return df\n",
    "\n",
    "celltype_columns = ['celltype', 'STD.CellType', 'dataset']\n",
    "\n",
    "adatas = {}\n",
    "\n",
    "for fpath in file_list:\n",
    "    base_name = os.path.basename(fpath)\n",
    "    file_id = base_name.replace(\".anndata.h5ad\", \"\")\n",
    "    tmp = sc.read_h5ad(fpath)\n",
    "    \n",
    "    not_na = (tmp.var['ensemble_id'].notna()) \n",
    "    tmp = tmp[:, not_na].copy()\n",
    "    \n",
    "    break\n",
    "    \n",
    "    \n",
    "#     tmp.var_names_make_unique()\n",
    "    \n",
    "#     tmp.obs = consolidate_cell_type(tmp.obs, celltype_columns)\n",
    "\n",
    "#     print()\n",
    "#     print(fpath)\n",
    "#     print(tmp.obs.columns)\n",
    "#     adatas[file_id] = tmp\n",
    "    \n",
    "# print(adatas.keys())"
   ]
  },
  {
   "cell_type": "code",
   "execution_count": 3,
   "id": "e4b8c8f8-ddbd-40b5-92da-d900bd553b69",
   "metadata": {},
   "outputs": [
    {
     "ename": "SyntaxError",
     "evalue": "'break' outside loop (668683560.py, line 1)",
     "output_type": "error",
     "traceback": [
      "\u001b[0;36m  Cell \u001b[0;32mIn[3], line 1\u001b[0;36m\u001b[0m\n\u001b[0;31m    break\u001b[0m\n\u001b[0m    ^\u001b[0m\n\u001b[0;31mSyntaxError\u001b[0m\u001b[0;31m:\u001b[0m 'break' outside loop\n"
     ]
    }
   ],
   "source": [
    "break"
   ]
  },
  {
   "cell_type": "code",
   "execution_count": null,
   "id": "42845428-6fcf-4d18-9a28-ab42558f0a7c",
   "metadata": {},
   "outputs": [],
   "source": [
    "adata = an.concat(adatas, \n",
    "                  label='dataset', \n",
    "                  index_unique=\"_\", \n",
    "                  join=\"outer\")\n",
    "adata"
   ]
  },
  {
   "cell_type": "code",
   "execution_count": null,
   "id": "45e68c5e-ded9-44b8-aabd-4bead5b29cb2",
   "metadata": {},
   "outputs": [],
   "source": [
    "adata.obs['cell_type'].value_counts(dropna=False)"
   ]
  },
  {
   "cell_type": "code",
   "execution_count": null,
   "id": "ed21262d-9eaa-44a5-992f-7a63ea826346",
   "metadata": {},
   "outputs": [],
   "source": []
  }
 ],
 "metadata": {
  "kernelspec": {
   "display_name": "Python 3 (ipykernel)",
   "language": "python",
   "name": "python3"
  },
  "language_info": {
   "codemirror_mode": {
    "name": "ipython",
    "version": 3
   },
   "file_extension": ".py",
   "mimetype": "text/x-python",
   "name": "python",
   "nbconvert_exporter": "python",
   "pygments_lexer": "ipython3",
   "version": "3.10.9"
  }
 },
 "nbformat": 4,
 "nbformat_minor": 5
}
