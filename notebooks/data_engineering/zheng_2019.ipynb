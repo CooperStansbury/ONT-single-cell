{
 "cells": [
  {
   "cell_type": "code",
   "execution_count": 13,
   "id": "bfe8d797-0ae4-4cc1-8bf5-1f38eec76f0e",
   "metadata": {},
   "outputs": [],
   "source": [
    "import os\n",
    "import seaborn as sns\n",
    "import pandas as pd \n",
    "import numpy as np\n",
    "import matplotlib.pyplot as plt\n",
    "import anndata as an\n",
    "import scanpy as sc"
   ]
  },
  {
   "cell_type": "code",
   "execution_count": 42,
   "id": "64c6070f-8a54-4b01-8140-5bc051538f79",
   "metadata": {},
   "outputs": [
    {
     "data": {
      "text/html": [
       "<div>\n",
       "<style scoped>\n",
       "    .dataframe tbody tr th:only-of-type {\n",
       "        vertical-align: middle;\n",
       "    }\n",
       "\n",
       "    .dataframe tbody tr th {\n",
       "        vertical-align: top;\n",
       "    }\n",
       "\n",
       "    .dataframe thead th {\n",
       "        text-align: right;\n",
       "    }\n",
       "</style>\n",
       "<table border=\"1\" class=\"dataframe\">\n",
       "  <thead>\n",
       "    <tr style=\"text-align: right;\">\n",
       "      <th></th>\n",
       "      <th>gene_id</th>\n",
       "      <th>gene_name</th>\n",
       "    </tr>\n",
       "  </thead>\n",
       "  <tbody>\n",
       "    <tr>\n",
       "      <th>0</th>\n",
       "      <td>ENSG00000160072</td>\n",
       "      <td>ATAD3B</td>\n",
       "    </tr>\n",
       "    <tr>\n",
       "      <th>111</th>\n",
       "      <td>ENSG00000225972</td>\n",
       "      <td>MTND1P23</td>\n",
       "    </tr>\n",
       "    <tr>\n",
       "      <th>114</th>\n",
       "      <td>ENSG00000198744</td>\n",
       "      <td>MTCO3P12</td>\n",
       "    </tr>\n",
       "    <tr>\n",
       "      <th>117</th>\n",
       "      <td>ENSG00000279928</td>\n",
       "      <td>DDX11L17</td>\n",
       "    </tr>\n",
       "    <tr>\n",
       "      <th>129</th>\n",
       "      <td>ENSG00000142611</td>\n",
       "      <td>PRDM16</td>\n",
       "    </tr>\n",
       "  </tbody>\n",
       "</table>\n",
       "</div>"
      ],
      "text/plain": [
       "             gene_id gene_name\n",
       "0    ENSG00000160072    ATAD3B\n",
       "111  ENSG00000225972  MTND1P23\n",
       "114  ENSG00000198744  MTCO3P12\n",
       "117  ENSG00000279928  DDX11L17\n",
       "129  ENSG00000142611    PRDM16"
      ]
     },
     "execution_count": 42,
     "metadata": {},
     "output_type": "execute_result"
    }
   ],
   "source": [
    "fpath = \"/scratch/indikar_root/indikar1/cstansbu/HSC/references/geneTable.csv\"\n",
    "gdf = pd.read_csv(fpath, low_memory=False)\n",
    "\n",
    "gdf = gdf[['gene_id', 'gene_name']].drop_duplicates()\n",
    "gdf = gdf[gdf['gene_name'].notna()]\n",
    "\n",
    "name2id = dict(zip(gdf['gene_name'].values, gdf['gene_id'].values))\n",
    "id2name = dict(zip(gdf['gene_name'].values, gdf['gene_id'].values))\n",
    "\n",
    "gdf.head()"
   ]
  },
  {
   "cell_type": "code",
   "execution_count": 56,
   "id": "4bf36ac8-1b32-4cce-9210-bc6e6434f0b1",
   "metadata": {},
   "outputs": [
    {
     "name": "stdout",
     "output_type": "stream",
     "text": [
      "Working... GSM3993420_CS10_Body_rawdata\n"
     ]
    }
   ],
   "source": [
    "dpath = \"/nfs/turbo/umms-indikar/shared/projects/HSC/data/zheng_2019/raw_data/\"\n",
    "\n",
    "adata_list = []\n",
    "\n",
    "for f in os.listdir(dpath):\n",
    "    \n",
    "    if not f == 'GSM3993420_CS10_Body_rawdata.txt.gz':\n",
    "        continue\n",
    "    \n",
    "    fpath = f\"{dpath}{f}\"\n",
    "    \n",
    "    label = f.replace(\".txt.gz\", \"\")\n",
    "    print(f\"Working... {label}\")\n",
    "    df = pd.read_csv(fpath, sep=' ').T\n",
    "    \n",
    "    # filter genes not in ensemle\n",
    "    keep_cols = [x for x in df.columns if x in gdf['gene_name'].values]\n",
    "    df = df[keep_cols]\n",
    "    \n",
    "    var = pd.DataFrame(df.columns, columns=['gene_name'])\n",
    "    var['ensembl_id'] = var['gene_name'].map(name2id)\n",
    "    var = var.set_index('ensembl_id')\n",
    "    \n",
    "    df.columns = [name2id[x] for x in df.columns]\n",
    "\n",
    "    adata = an.AnnData(df)\n",
    "    adata.var = var\n",
    "    adata.obs['data_label'] = label\n",
    "    \n",
    "    adata_list.append(adata)\n",
    "\n"
   ]
  },
  {
   "cell_type": "code",
   "execution_count": 58,
   "id": "77aa6bbd-6e77-48b8-8eb8-6fcb80bdf004",
   "metadata": {},
   "outputs": [
    {
     "data": {
      "text/plain": [
       "AnnData object with n_obs × n_vars = 6666 × 23575\n",
       "    obs: 'data_label'"
      ]
     },
     "execution_count": 58,
     "metadata": {},
     "output_type": "execute_result"
    }
   ],
   "source": [
    "main_data = an.concat(adata_list)\n",
    "main_data"
   ]
  },
  {
   "cell_type": "code",
   "execution_count": 66,
   "id": "d1ce85d9-e874-412a-9bf9-bab773c612d8",
   "metadata": {},
   "outputs": [
    {
     "data": {
      "text/plain": [
       "0\n",
       "CS10    6666\n",
       "Name: count, dtype: int64"
      ]
     },
     "execution_count": 66,
     "metadata": {},
     "output_type": "execute_result"
    }
   ],
   "source": [
    "d = pd.DataFrame(list(main_data.obs.index.str.split(\"_\")))\n",
    "d[0].value_counts()"
   ]
  },
  {
   "cell_type": "code",
   "execution_count": null,
   "id": "b3f0420e-7752-448d-ac95-f42a953fbd4a",
   "metadata": {},
   "outputs": [],
   "source": []
  },
  {
   "cell_type": "code",
   "execution_count": 53,
   "id": "dd243122-4562-497e-9099-3b3e624964b7",
   "metadata": {},
   "outputs": [
    {
     "data": {
      "text/html": [
       "<div>\n",
       "<style scoped>\n",
       "    .dataframe tbody tr th:only-of-type {\n",
       "        vertical-align: middle;\n",
       "    }\n",
       "\n",
       "    .dataframe tbody tr th {\n",
       "        vertical-align: top;\n",
       "    }\n",
       "\n",
       "    .dataframe thead th {\n",
       "        text-align: right;\n",
       "    }\n",
       "</style>\n",
       "<table border=\"1\" class=\"dataframe\">\n",
       "  <thead>\n",
       "    <tr style=\"text-align: right;\">\n",
       "      <th></th>\n",
       "      <th>data_label</th>\n",
       "    </tr>\n",
       "  </thead>\n",
       "  <tbody>\n",
       "    <tr>\n",
       "      <th>S.20190419.EC_FKDL190735971.1a_sc1</th>\n",
       "      <td>GSM3993425_CS14_DA_UMI_raw</td>\n",
       "    </tr>\n",
       "    <tr>\n",
       "      <th>S.20190419.EC_FKDL190735971.1a_sc2</th>\n",
       "      <td>GSM3993425_CS14_DA_UMI_raw</td>\n",
       "    </tr>\n",
       "    <tr>\n",
       "      <th>S.20190419.EC_FKDL190735971.1a_sc3</th>\n",
       "      <td>GSM3993425_CS14_DA_UMI_raw</td>\n",
       "    </tr>\n",
       "    <tr>\n",
       "      <th>S.20190419.EC_FKDL190735971.1a_sc4</th>\n",
       "      <td>GSM3993425_CS14_DA_UMI_raw</td>\n",
       "    </tr>\n",
       "    <tr>\n",
       "      <th>S.20190419.EC_FKDL190735971.1a_sc5</th>\n",
       "      <td>GSM3993425_CS14_DA_UMI_raw</td>\n",
       "    </tr>\n",
       "  </tbody>\n",
       "</table>\n",
       "</div>"
      ],
      "text/plain": [
       "                                                    data_label\n",
       "S.20190419.EC_FKDL190735971.1a_sc1  GSM3993425_CS14_DA_UMI_raw\n",
       "S.20190419.EC_FKDL190735971.1a_sc2  GSM3993425_CS14_DA_UMI_raw\n",
       "S.20190419.EC_FKDL190735971.1a_sc3  GSM3993425_CS14_DA_UMI_raw\n",
       "S.20190419.EC_FKDL190735971.1a_sc4  GSM3993425_CS14_DA_UMI_raw\n",
       "S.20190419.EC_FKDL190735971.1a_sc5  GSM3993425_CS14_DA_UMI_raw"
      ]
     },
     "execution_count": 53,
     "metadata": {},
     "output_type": "execute_result"
    }
   ],
   "source": [
    "main_data.obs.head()"
   ]
  },
  {
   "cell_type": "code",
   "execution_count": 55,
   "id": "91ee2aad-59c2-4982-87f9-36043119e2ae",
   "metadata": {},
   "outputs": [
    {
     "data": {
      "text/plain": [
       "Index([ ['S', '20190419', 'EC_FKDL190735971', '1a_sc1'],\n",
       "        ['S', '20190419', 'EC_FKDL190735971', '1a_sc2'],\n",
       "        ['S', '20190419', 'EC_FKDL190735971', '1a_sc3'],\n",
       "        ['S', '20190419', 'EC_FKDL190735971', '1a_sc4'],\n",
       "        ['S', '20190419', 'EC_FKDL190735971', '1a_sc5'],\n",
       "        ['S', '20190419', 'EC_FKDL190735971', '1a_sc6'],\n",
       "        ['S', '20190419', 'EC_FKDL190735971', '1a_sc7'],\n",
       "        ['S', '20190419', 'EC_FKDL190735971', '1a_sc8'],\n",
       "        ['S', '20190419', 'EC_FKDL190735971', '1a_sc9'],\n",
       "       ['S', '20190419', 'EC_FKDL190735971', '1a_sc10'],\n",
       "       ...\n",
       "                           ['CS13_DA_TTGCCGTAGGAGTCTG'],\n",
       "                           ['CS13_DA_TTGCCGTTCTGCGACG'],\n",
       "                           ['CS13_DA_TTGGAACGTAGAGCTG'],\n",
       "                           ['CS13_DA_TTGGAACGTTTAGCTG'],\n",
       "                           ['CS13_DA_TTGGCAAGTAATCGTC'],\n",
       "                           ['CS13_DA_TTGGCAATCTTGCCGT'],\n",
       "                           ['CS13_DA_TTTATGCGTCCAAGTT'],\n",
       "                           ['CS13_DA_TTTCCTCAGTATCGAA'],\n",
       "                           ['CS13_DA_TTTGGTTAGAGCTGGT'],\n",
       "                           ['CS13_DA_TTTGGTTCAGACGCTC']],\n",
       "      dtype='object', length=11972)"
      ]
     },
     "execution_count": 55,
     "metadata": {},
     "output_type": "execute_result"
    }
   ],
   "source": [
    "main_data.obs.index.str.split(\".\")"
   ]
  },
  {
   "cell_type": "code",
   "execution_count": null,
   "id": "b30560a5-84be-4f99-aa42-00d654715a5f",
   "metadata": {},
   "outputs": [],
   "source": []
  }
 ],
 "metadata": {
  "kernelspec": {
   "display_name": "scanpy",
   "language": "python",
   "name": "scanpy"
  },
  "language_info": {
   "codemirror_mode": {
    "name": "ipython",
    "version": 3
   },
   "file_extension": ".py",
   "mimetype": "text/x-python",
   "name": "python",
   "nbconvert_exporter": "python",
   "pygments_lexer": "ipython3",
   "version": "3.12.3"
  }
 },
 "nbformat": 4,
 "nbformat_minor": 5
}
