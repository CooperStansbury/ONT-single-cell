{
 "cells": [
  {
   "cell_type": "code",
   "execution_count": 6,
   "id": "aac6543d-defa-4f28-8316-892f2fa45926",
   "metadata": {},
   "outputs": [],
   "source": [
    "import glob\n",
    "import os\n",
    "import sys\n",
    "import subprocess"
   ]
  },
  {
   "cell_type": "code",
   "execution_count": 11,
   "id": "b37b25c5-037a-4674-89dc-b55b76a3021c",
   "metadata": {},
   "outputs": [
    {
     "name": "stdout",
     "output_type": "stream",
     "text": [
      "2024-05-15-iHSC-Sample4-Run1d-PRO P2r8d\n",
      "2024-05-15-iHSC-grid-final Gridr5\n",
      "2024-05-15-iHSC-Sample4-Run1a-PRO P2r8a\n",
      "2024-05-14-iHSC-Sample4-Run1-PRO P2r8\n",
      "2024-05-15-iHSC-Sample4-Run1b-PRO P2r8b\n",
      "2024-05-15-iHSC-Sample4-Run1c-PRO P2r8c\n"
     ]
    }
   ],
   "source": [
    "rpath = \"/nfs/turbo/umms-indikar/shared/projects/HSC/data/10xBarcoded_SingleCell/05_17_2024_iHSC/\"\n",
    "outpath = \"/nfs/turbo/umms-indikar/shared/projects/HSC/data/10xBarcoded_SingleCell/05_17_2024_iHSC_merged/\"\n",
    "\n",
    "dmap = {\n",
    "    '2024-05-15-iHSC-Sample4-Run1d-PRO' : \"P2r8d\",\n",
    "    '2024-05-15-iHSC-grid-final' : \"Gridr5\",\n",
    "    '2024-05-15-iHSC-Sample4-Run1a-PRO' : \"P2r8a\",\n",
    "    '2024-05-14-iHSC-Sample4-Run1-PRO' : \"P2r8\",\n",
    "    '2024-05-15-iHSC-Sample4-Run1b-PRO' : \"P2r8b\",\n",
    "    '2024-05-15-iHSC-Sample4-Run1c-PRO' : \"P2r8c\",\n",
    "}\n",
    "\n",
    "\n",
    "for d in os.listdir(rpath):\n",
    "    print(d, dmap[d])\n",
    "    \n",
    "    dpath = f\"{rpath}{d}/fastq_pass\"\n",
    "    \n",
    "    files = glob.glob(f\"{dpath}/*.fastq.gz\")\n",
    "    file_str = \" \".join(files)\n",
    "    \n",
    "    outfile = f\"{outpath}{dmap[d]}_merged.fastq.gz\"\n",
    "    \n",
    "    # Build the command list\n",
    "    command = [\n",
    "        'cat',\n",
    "        file_str,\n",
    "        \">\",\n",
    "        outfile,\n",
    "    ]\n",
    "    \n",
    "    \n",
    "    # Execute the command using subprocess.run\n",
    "    output = subprocess.run(\" \".join(command), shell=True, capture_output=True)"
   ]
  },
  {
   "cell_type": "code",
   "execution_count": null,
   "id": "5a58b808-eb4e-476a-b755-738df7638b56",
   "metadata": {},
   "outputs": [],
   "source": []
  }
 ],
 "metadata": {
  "kernelspec": {
   "display_name": "Python 3 (ipykernel)",
   "language": "python",
   "name": "python3"
  },
  "language_info": {
   "codemirror_mode": {
    "name": "ipython",
    "version": 3
   },
   "file_extension": ".py",
   "mimetype": "text/x-python",
   "name": "python",
   "nbconvert_exporter": "python",
   "pygments_lexer": "ipython3",
   "version": "3.10.9"
  }
 },
 "nbformat": 4,
 "nbformat_minor": 5
}
