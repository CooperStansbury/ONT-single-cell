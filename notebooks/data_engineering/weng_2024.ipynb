{
 "cells": [
  {
   "cell_type": "code",
   "execution_count": 1,
   "id": "7f0a238b-184a-4cd3-a89e-c533f4ecc185",
   "metadata": {},
   "outputs": [],
   "source": [
    "import pandas as pd\n",
    "import os\n",
    "import sys\n",
    "import anndata as an\n",
    "from pathlib import Path\n",
    "import pyreadr"
   ]
  },
  {
   "cell_type": "code",
   "execution_count": 2,
   "id": "cb605f4a-935e-4410-a979-53dfccd783d9",
   "metadata": {},
   "outputs": [
    {
     "name": "stdout",
     "output_type": "stream",
     "text": [
      "Old1.BMMC_HSPC.Seurat.RDS Old_BMMC_HSPC\n"
     ]
    }
   ],
   "source": [
    "dpath = \"/nfs/turbo/umms-indikar/shared/projects/HSC/data/weng_2024/seurat_objects/\"\n",
    "\n",
    "clean_labels = { \n",
    "    'Old1.BMMC_HSPC.Seurat.RDS': 'Old_BMMC_HSPC', \n",
    "    'Young1.All.T1.Seurat.RDS': 'Young_1_ALL', \n",
    "    'Young1.HSC.T1T2.Seurat.RDS': 'Young_1_HSC', \n",
    "    'Young2.All.Seurat.RDS': 'Young_2_ALL', \n",
    "    'Young1.All.T2.Seurat.RDS': 'Young_1_ALL', \n",
    "    'Young2.HSC.Seurat.RDS': 'Young_2_HSC', \n",
    "    'Old2.BMMC_HSPC.Seurat.RDS': 'Old_BMMC_HSPC', \n",
    "}\n",
    "\n",
    "for f in os.listdir(dpath):\n",
    "    fpath = f\"{dpath}{f}\"\n",
    "    data_label = clean_labels[f]\n",
    "    print(f, data_label)\n",
    "\n",
    "    # result = pyreadr.read_r(fpath)\n",
    "    break"
   ]
  },
  {
   "cell_type": "code",
   "execution_count": null,
   "id": "c8679464-c20e-430f-b82c-7cffdad979ee",
   "metadata": {},
   "outputs": [],
   "source": []
  },
  {
   "cell_type": "code",
   "execution_count": null,
   "id": "1661443b-e8d4-4a59-a4f6-06c62e520283",
   "metadata": {},
   "outputs": [],
   "source": []
  }
 ],
 "metadata": {
  "kernelspec": {
   "display_name": "Python 3 (ipykernel)",
   "language": "python",
   "name": "python3"
  },
  "language_info": {
   "codemirror_mode": {
    "name": "ipython",
    "version": 3
   },
   "file_extension": ".py",
   "mimetype": "text/x-python",
   "name": "python",
   "nbconvert_exporter": "python",
   "pygments_lexer": "ipython3",
   "version": "3.10.9"
  }
 },
 "nbformat": 4,
 "nbformat_minor": 5
}
