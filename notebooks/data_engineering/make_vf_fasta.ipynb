{
 "cells": [
  {
   "cell_type": "code",
   "execution_count": 1,
   "id": "a0a051b8-00da-4cd6-930b-32d01473e14f",
   "metadata": {},
   "outputs": [],
   "source": [
    "import os"
   ]
  },
  {
   "cell_type": "code",
   "execution_count": 5,
   "id": "273d14d0-3516-4df1-be3e-3b6d9521b158",
   "metadata": {},
   "outputs": [
    {
     "name": "stdout",
     "output_type": "stream",
     "text": [
      "/nfs/turbo/umms-lindmuir/ihsc/v5_align/GATA2_tre-3ltr.fas\n",
      "/nfs/turbo/umms-lindmuir/ihsc/v5_align/STAT5A_tre-3ltr.fas\n",
      "/nfs/turbo/umms-lindmuir/ihsc/v5_align/GFI1B_tre-3ltr.fas\n",
      "/nfs/turbo/umms-lindmuir/ihsc/v5_align/FOS_tre-3ltr.fas\n",
      "/nfs/turbo/umms-lindmuir/ihsc/v5_align/REL_tre-3ltr.fas\n"
     ]
    }
   ],
   "source": [
    "dpath = \"/nfs/turbo/umms-lindmuir/ihsc/v5_align/\"\n",
    "\n",
    "for file in os.listdir(dpath):\n",
    "    if not file.endswith(\".fas\"):\n",
    "        continue\n",
    "        \n",
    "    file_path = f\"{dpath}{file}\"\n",
    "    \n",
    "    print(file_path)"
   ]
  },
  {
   "cell_type": "code",
   "execution_count": null,
   "id": "1d7315f5-e3b4-4b47-9d45-093476950b9e",
   "metadata": {},
   "outputs": [],
   "source": []
  }
 ],
 "metadata": {
  "kernelspec": {
   "display_name": "bioinf",
   "language": "python",
   "name": "bioinf"
  },
  "language_info": {
   "codemirror_mode": {
    "name": "ipython",
    "version": 3
   },
   "file_extension": ".py",
   "mimetype": "text/x-python",
   "name": "python",
   "nbconvert_exporter": "python",
   "pygments_lexer": "ipython3",
   "version": "3.10.14"
  }
 },
 "nbformat": 4,
 "nbformat_minor": 5
}
