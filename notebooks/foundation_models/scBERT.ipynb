{
 "cells": [
  {
   "cell_type": "code",
   "execution_count": 1,
   "id": "2c38abdd-a7f7-4e4d-9bff-40d48af7d6ee",
   "metadata": {},
   "outputs": [
    {
     "data": {
      "text/plain": [
       "<module 'utils' from '/home/cstansbu/git_repositories/ONT-single-cell/notebooks/foundation_models/../utils.py'>"
      ]
     },
     "execution_count": 1,
     "metadata": {},
     "output_type": "execute_result"
    }
   ],
   "source": [
    "import pandas as pd\n",
    "import numpy as np\n",
    "import pyranges as pr\n",
    "import os\n",
    "import sys\n",
    "from collections import Counter\n",
    "import gget\n",
    "import scipy\n",
    "import scanpy as sc\n",
    "from kneed import KneeLocator\n",
    "import sklearn.metrics\n",
    "import sklearn.preprocessing as skprep\n",
    "\n",
    "import matplotlib.pyplot as plt\n",
    "import matplotlib.patheffects as pe\n",
    "from mpl_toolkits.axes_grid1 import make_axes_locatable\n",
    "import seaborn as sns\n",
    "from importlib import reload\n",
    "\n",
    "\"\"\"WARNING: disabling future warnings\"\"\"\n",
    "import warnings\n",
    "warnings.simplefilter(action='ignore', category=FutureWarning)\n",
    "\n",
    "sys.path.append(\"../\")\n",
    "import utils as ut\n",
    "reload(ut)"
   ]
  },
  {
   "cell_type": "markdown",
   "id": "79963ed9-9568-4a73-b5e6-ea79fe2e8078",
   "metadata": {},
   "source": [
    "# load var names"
   ]
  },
  {
   "cell_type": "code",
   "execution_count": 2,
   "id": "33e7ed90-3cda-41cf-b53d-1131481c613a",
   "metadata": {},
   "outputs": [
    {
     "data": {
      "text/plain": [
       "AnnData object with n_obs × n_vars = 68450 × 16906\n",
       "    obs: 'TSNE.1', 'TSNE.2', 'celltype', 'n_genes'\n",
       "    uns: 'log1p'"
      ]
     },
     "execution_count": 2,
     "metadata": {},
     "output_type": "execute_result"
    }
   ],
   "source": [
    "fpath = \"Zheng68K.h5ad\"\n",
    "\n",
    "adata = sc.read_h5ad(fpath)\n",
    "adata"
   ]
  },
  {
   "cell_type": "code",
   "execution_count": 3,
   "id": "e237ca40-dd54-4564-b479-c6e6274c63d9",
   "metadata": {},
   "outputs": [
    {
     "data": {
      "text/plain": [
       "Index(['A1BG', 'A1CF', 'A2ML1', 'A2M', 'A4GALT', 'A4GNT', 'AAAS', 'AACS',\n",
       "       'AADACL2', 'AADAC',\n",
       "       ...\n",
       "       'SDHD', 'SHOX', 'SLC25A6', 'SOGA3', 'SPATA13', 'SPRY3', 'TMEM247',\n",
       "       'TMSB15B', 'VAMP7', 'ZBED1'],\n",
       "      dtype='object', length=16906)"
      ]
     },
     "execution_count": 3,
     "metadata": {},
     "output_type": "execute_result"
    }
   ],
   "source": [
    "adata.var_names"
   ]
  },
  {
   "cell_type": "code",
   "execution_count": null,
   "id": "91648952-f0a0-4149-9282-a0cbaf7b02ca",
   "metadata": {},
   "outputs": [],
   "source": []
  },
  {
   "cell_type": "markdown",
   "id": "f34f4876-3eb5-44c4-809f-63ada3c295eb",
   "metadata": {},
   "source": [
    "# Load our data"
   ]
  },
  {
   "cell_type": "code",
   "execution_count": 4,
   "id": "dabc0ad3-3ce2-4b39-a835-f7cf44e78829",
   "metadata": {},
   "outputs": [
    {
     "data": {
      "text/plain": [
       "AnnData object with n_obs × n_vars = 8484 × 14936\n",
       "    obs: 'n_genes', 'n_genes_by_counts', 'total_counts', 'total_counts_mt', 'pct_counts_mt', 'leiden', 'clusters', 'cluster_name', 'UMAP 1', 'UMAP 2'\n",
       "    var: 'gene_name', 'Chromosome', 'Start', 'End', 'Strand', 'n_cells', 'mt', 'n_cells_by_counts', 'mean_counts', 'pct_dropout_by_counts', 'total_counts', 'highly_variable', 'means', 'dispersions', 'dispersions_norm'\n",
       "    uns: 'cluster_name_colors', 'clusters_sizes', 'hvg', 'leiden', 'log1p', 'neighbors', 'paga', 'pca', 'tsne', 'umap'\n",
       "    obsm: 'X_pca', 'X_tsne', 'X_umap'\n",
       "    varm: 'PCs'\n",
       "    layers: 'counts'\n",
       "    obsp: 'connectivities', 'distances'"
      ]
     },
     "execution_count": 4,
     "metadata": {},
     "output_type": "execute_result"
    }
   ],
   "source": [
    "fpath = \"/nfs/turbo/umms-indikar/shared/projects/HSC/data/results/HSC/scanpy/anndata.clustered.h5ad\"\n",
    "\n",
    "adata = sc.read_h5ad(fpath)\n",
    "data = adata.copy()\n",
    "data.var_names = data.var['gene_name']\n",
    "data"
   ]
  },
  {
   "cell_type": "code",
   "execution_count": 5,
   "id": "ace30589-57dd-45bd-9491-32f0f3ecc363",
   "metadata": {},
   "outputs": [
    {
     "data": {
      "text/plain": [
       "Index(['ATAD3B', 'SKI', 'PEX14', 'PLCH2', 'SPSB1', 'HES3', 'PLEKHM2', 'CA6',\n",
       "       'NMNAT1', 'CCDC27',\n",
       "       ...\n",
       "       'CDY1', 'TSPY4', 'TSPY9', 'KDM5D', 'BPY2C', 'CDY2B', 'SRY', 'VCY',\n",
       "       'DAZ1', 'RBMY1E'],\n",
       "      dtype='object', name='gene_name', length=14936)"
      ]
     },
     "execution_count": 5,
     "metadata": {},
     "output_type": "execute_result"
    }
   ],
   "source": [
    "data.var_names"
   ]
  },
  {
   "cell_type": "code",
   "execution_count": null,
   "id": "76c3d6b2-4f96-4159-9969-ffa8c48d2901",
   "metadata": {},
   "outputs": [],
   "source": []
  }
 ],
 "metadata": {
  "kernelspec": {
   "display_name": "Python 3 (ipykernel)",
   "language": "python",
   "name": "python3"
  },
  "language_info": {
   "codemirror_mode": {
    "name": "ipython",
    "version": 3
   },
   "file_extension": ".py",
   "mimetype": "text/x-python",
   "name": "python",
   "nbconvert_exporter": "python",
   "pygments_lexer": "ipython3",
   "version": "3.9.7"
  }
 },
 "nbformat": 4,
 "nbformat_minor": 5
}
