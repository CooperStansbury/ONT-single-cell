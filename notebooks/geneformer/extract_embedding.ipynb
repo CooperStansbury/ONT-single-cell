{
 "cells": [
  {
   "cell_type": "code",
   "execution_count": 1,
   "id": "da3b2e7e-868a-425d-9581-bb4ac3dd4f3c",
   "metadata": {},
   "outputs": [
    {
     "name": "stderr",
     "output_type": "stream",
     "text": [
      "/home/cstansbu/miniconda3/envs/geneformer/lib/python3.10/site-packages/tqdm/auto.py:21: TqdmWarning: IProgress not found. Please update jupyter and ipywidgets. See https://ipywidgets.readthedocs.io/en/stable/user_install.html\n",
      "  from .autonotebook import tqdm as notebook_tqdm\n"
     ]
    }
   ],
   "source": [
    "import seaborn as sns\n",
    "import pandas as pd \n",
    "import numpy as np\n",
    "from scipy.spatial.distance import squareform, pdist\n",
    "import matplotlib.pyplot as plt\n",
    "import torch\n",
    "import anndata as an\n",
    "import scanpy as sc\n",
    "import umap\n",
    "import gc\n",
    "\n",
    "from datasets import Dataset, load_from_disk\n",
    "from datasets import load_dataset\n",
    "from geneformer import EmbExtractor\n",
    "\n",
    "sns.set_style('white')"
   ]
  },
  {
   "cell_type": "code",
   "execution_count": 2,
   "id": "4104efe8-8e37-4fc3-b597-857453e1672b",
   "metadata": {},
   "outputs": [],
   "source": [
    "# model = \"/nfs/turbo/umms-indikar/shared/projects/HSC/data/geneformer/fine_tuned_models/geneformer-6L-30M_CellClassifier_cardiomyopathies_220224\"\n",
    "model = \"/nfs/turbo/umms-indikar/shared/projects/HSC/data/geneformer/geneformer-12L-30M/\"\n",
    "data_path = \"/scratch/indikar_root/indikar1/cstansbu/HSC/geneformer_inputs/iHSC.dataset\"\n",
    "outpath = \"/scratch/indikar_root/indikar1/cstansbu/geneformer\""
   ]
  },
  {
   "cell_type": "code",
   "execution_count": 3,
   "id": "05cdd716-edaf-456f-89f2-48810dee42bc",
   "metadata": {},
   "outputs": [
    {
     "ename": "FileNotFoundError",
     "evalue": "Directory /scratch/indikar_root/indikar1/cstansbu/HSC/geneformer_inputs/iHSC.dataset not found",
     "output_type": "error",
     "traceback": [
      "\u001b[0;31m---------------------------------------------------------------------------\u001b[0m",
      "\u001b[0;31mFileNotFoundError\u001b[0m                         Traceback (most recent call last)",
      "Cell \u001b[0;32mIn[3], line 22\u001b[0m\n\u001b[1;32m     19\u001b[0m     \u001b[38;5;28;01mreturn\u001b[39;00m df\n\u001b[1;32m     21\u001b[0m \u001b[38;5;66;03m# Example usage:\u001b[39;00m\n\u001b[0;32m---> 22\u001b[0m df \u001b[38;5;241m=\u001b[39m \u001b[43mload_and_subset_data\u001b[49m\u001b[43m(\u001b[49m\u001b[43mdata_path\u001b[49m\u001b[43m,\u001b[49m\u001b[43m \u001b[49m\u001b[43mnum_cells\u001b[49m\u001b[38;5;241;43m=\u001b[39;49m\u001b[38;5;241;43m50\u001b[39;49m\u001b[43m)\u001b[49m\n\u001b[1;32m     23\u001b[0m df\u001b[38;5;241m.\u001b[39mhead()\n",
      "Cell \u001b[0;32mIn[3], line 12\u001b[0m, in \u001b[0;36mload_and_subset_data\u001b[0;34m(data_path, num_cells)\u001b[0m\n\u001b[1;32m      1\u001b[0m \u001b[38;5;28;01mdef\u001b[39;00m \u001b[38;5;21mload_and_subset_data\u001b[39m(data_path: \u001b[38;5;28mstr\u001b[39m, num_cells: \u001b[38;5;28mint\u001b[39m \u001b[38;5;241m=\u001b[39m \u001b[38;5;241m100\u001b[39m) \u001b[38;5;241m-\u001b[39m\u001b[38;5;241m>\u001b[39m pd\u001b[38;5;241m.\u001b[39mDataFrame:\n\u001b[1;32m      2\u001b[0m \u001b[38;5;250m    \u001b[39m\u001b[38;5;124;03m\"\"\"Loads a dataset from disk, selects a subset of cells, and converts it to a Pandas DataFrame.\u001b[39;00m\n\u001b[1;32m      3\u001b[0m \n\u001b[1;32m      4\u001b[0m \u001b[38;5;124;03m    Args:\u001b[39;00m\n\u001b[0;32m   (...)\u001b[0m\n\u001b[1;32m      9\u001b[0m \u001b[38;5;124;03m        pd.DataFrame: The subset of data as a Pandas DataFrame.\u001b[39;00m\n\u001b[1;32m     10\u001b[0m \u001b[38;5;124;03m    \"\"\"\u001b[39;00m\n\u001b[0;32m---> 12\u001b[0m     data \u001b[38;5;241m=\u001b[39m \u001b[43mload_from_disk\u001b[49m\u001b[43m(\u001b[49m\u001b[43mdata_path\u001b[49m\u001b[43m)\u001b[49m\n\u001b[1;32m     13\u001b[0m     \u001b[38;5;28;01mif\u001b[39;00m num_cells \u001b[38;5;241m>\u001b[39m \u001b[38;5;28mlen\u001b[39m(data):\n\u001b[1;32m     14\u001b[0m         \u001b[38;5;28;01mraise\u001b[39;00m \u001b[38;5;167;01mValueError\u001b[39;00m(\u001b[38;5;124mf\u001b[39m\u001b[38;5;124m\"\u001b[39m\u001b[38;5;124mRequested subset size (\u001b[39m\u001b[38;5;132;01m{\u001b[39;00mnum_cells\u001b[38;5;132;01m}\u001b[39;00m\u001b[38;5;124m) exceeds dataset length (\u001b[39m\u001b[38;5;132;01m{\u001b[39;00m\u001b[38;5;28mlen\u001b[39m(data)\u001b[38;5;132;01m}\u001b[39;00m\u001b[38;5;124m)\u001b[39m\u001b[38;5;124m\"\u001b[39m)\n",
      "File \u001b[0;32m~/miniconda3/envs/geneformer/lib/python3.10/site-packages/datasets/load.py:2689\u001b[0m, in \u001b[0;36mload_from_disk\u001b[0;34m(dataset_path, fs, keep_in_memory, storage_options)\u001b[0m\n\u001b[1;32m   2687\u001b[0m fs, \u001b[38;5;241m*\u001b[39m_ \u001b[38;5;241m=\u001b[39m url_to_fs(dataset_path, \u001b[38;5;241m*\u001b[39m\u001b[38;5;241m*\u001b[39m(storage_options \u001b[38;5;129;01mor\u001b[39;00m {}))\n\u001b[1;32m   2688\u001b[0m \u001b[38;5;28;01mif\u001b[39;00m \u001b[38;5;129;01mnot\u001b[39;00m fs\u001b[38;5;241m.\u001b[39mexists(dataset_path):\n\u001b[0;32m-> 2689\u001b[0m     \u001b[38;5;28;01mraise\u001b[39;00m \u001b[38;5;167;01mFileNotFoundError\u001b[39;00m(\u001b[38;5;124mf\u001b[39m\u001b[38;5;124m\"\u001b[39m\u001b[38;5;124mDirectory \u001b[39m\u001b[38;5;132;01m{\u001b[39;00mdataset_path\u001b[38;5;132;01m}\u001b[39;00m\u001b[38;5;124m not found\u001b[39m\u001b[38;5;124m\"\u001b[39m)\n\u001b[1;32m   2690\u001b[0m \u001b[38;5;28;01mif\u001b[39;00m fs\u001b[38;5;241m.\u001b[39misfile(posixpath\u001b[38;5;241m.\u001b[39mjoin(dataset_path, config\u001b[38;5;241m.\u001b[39mDATASET_INFO_FILENAME)) \u001b[38;5;129;01mand\u001b[39;00m fs\u001b[38;5;241m.\u001b[39misfile(\n\u001b[1;32m   2691\u001b[0m     posixpath\u001b[38;5;241m.\u001b[39mjoin(dataset_path, config\u001b[38;5;241m.\u001b[39mDATASET_STATE_JSON_FILENAME)\n\u001b[1;32m   2692\u001b[0m ):\n\u001b[1;32m   2693\u001b[0m     \u001b[38;5;28;01mreturn\u001b[39;00m Dataset\u001b[38;5;241m.\u001b[39mload_from_disk(dataset_path, keep_in_memory\u001b[38;5;241m=\u001b[39mkeep_in_memory, storage_options\u001b[38;5;241m=\u001b[39mstorage_options)\n",
      "\u001b[0;31mFileNotFoundError\u001b[0m: Directory /scratch/indikar_root/indikar1/cstansbu/HSC/geneformer_inputs/iHSC.dataset not found"
     ]
    }
   ],
   "source": [
    "def load_and_subset_data(data_path: str, num_cells: int = 100) -> pd.DataFrame:\n",
    "    \"\"\"Loads a dataset from disk, selects a subset of cells, and converts it to a Pandas DataFrame.\n",
    "\n",
    "    Args:\n",
    "        data_path (str): Path to the dataset file.\n",
    "        num_cells (int, optional): Number of cells to include in the subset (default: 100).\n",
    "\n",
    "    Returns:\n",
    "        pd.DataFrame: The subset of data as a Pandas DataFrame.\n",
    "    \"\"\"\n",
    "\n",
    "    data = load_from_disk(data_path)\n",
    "    if num_cells > len(data):\n",
    "        raise ValueError(f\"Requested subset size ({num_cells}) exceeds dataset length ({len(data)})\")\n",
    "\n",
    "    data_subset = data.select([i for i in range(num_cells)])\n",
    "    df = data_subset.to_pandas()\n",
    "\n",
    "    return df\n",
    "\n",
    "# Example usage:\n",
    "df = load_and_subset_data(data_path, num_cells=50)\n",
    "df.head()"
   ]
  },
  {
   "cell_type": "code",
   "execution_count": null,
   "id": "4319f63a-681e-4ca6-9dad-a139b9a3521d",
   "metadata": {},
   "outputs": [],
   "source": [
    "# print(torch.cuda.memory_summary(device=None, abbreviated=False))"
   ]
  },
  {
   "cell_type": "code",
   "execution_count": null,
   "id": "adc3a392-c530-4742-9c67-c1ff27bbbdf4",
   "metadata": {},
   "outputs": [],
   "source": [
    "torch.cuda.empty_cache()\n",
    "\n",
    "n_cells = 5000\n",
    "layer = -1 # 0 for last, -1 for second to last\n",
    "\n",
    "# initiate EmbExtractor\n",
    "embex = EmbExtractor(model_type=\"Pretrained\",\n",
    "                     num_classes=0,\n",
    "                     max_ncells=n_cells,\n",
    "                     emb_mode='cell',\n",
    "                     emb_layer=layer,\n",
    "                     emb_label=[\"cell_type\", \"dataset\"],\n",
    "                     forward_batch_size=20,\n",
    "                     nproc=16)\n",
    "\n",
    "# extracts embedding from input data\n",
    "# input data is tokenized rank value encodings generated by Geneformer tokenizer (see tokenizing_scRNAseq_data.ipynb)\n",
    "# example dataset: https://huggingface.co/datasets/ctheodoris/Genecorpus-30M/tree/main/example_input_files/cell_classification/disease_classification/human_dcm_hcm_nf.dataset\n",
    "embs = embex.extract_embs(model,\n",
    "                          data_path,\n",
    "                          outpath,\n",
    "                          \"test\")\n"
   ]
  },
  {
   "cell_type": "code",
   "execution_count": null,
   "id": "b3721e36-02bc-460c-a2d1-28cf704d3cd6",
   "metadata": {},
   "outputs": [],
   "source": [
    "# break"
   ]
  },
  {
   "cell_type": "code",
   "execution_count": null,
   "id": "41a5ee22-17e6-4c78-96c3-d6ca12435bd6",
   "metadata": {},
   "outputs": [],
   "source": [
    "def embedding_to_adata(df):\n",
    "    \"\"\"Converts a Pandas DataFrame with an embedding to an AnnData object.\n",
    "    \n",
    "    Args:\n",
    "        df (pd.DataFrame): The input DataFrame, with numerical embedding columns and\n",
    "            optional metadata columns.\n",
    "\n",
    "    Returns:\n",
    "        an.AnnData: The converted AnnData object.\n",
    "    \"\"\"\n",
    "    \n",
    "    cell_index = [f\"C{x}\" for x in range(df.shape[0])]\n",
    "    \n",
    "    metadata_cols = [col for col in df.columns if not str(col).isdigit()]\n",
    "    obs = df[metadata_cols].copy()\n",
    "    obs.index = cell_index\n",
    "    \n",
    "    df = df.drop(columns=metadata_cols)\n",
    "    var_index = [f\"D{x}\" for x in range(df.shape[1])]\n",
    "    \n",
    "    adata = an.AnnData(df.to_numpy())\n",
    "    adata.obs_names = cell_index\n",
    "    adata.var_names = var_index\n",
    "    adata.obs = obs\n",
    "\n",
    "    return adata\n",
    "\n",
    "    \n",
    "adata = embedding_to_adata(embs)\n",
    "adata"
   ]
  },
  {
   "cell_type": "code",
   "execution_count": null,
   "id": "64eee760-faa7-4b65-9058-2467a5bd9bfa",
   "metadata": {},
   "outputs": [],
   "source": [
    "reducer = umap.UMAP()\n",
    "embedding = reducer.fit_transform(adata.X)\n",
    "\n",
    "adata.obs['UMAP 1'] = embedding[:, 0]\n",
    "adata.obs['UMAP 2'] = embedding[:, 1]\n",
    "\n",
    "adata"
   ]
  },
  {
   "cell_type": "code",
   "execution_count": null,
   "id": "0a920429-3a71-45e9-a213-6ca7d1455d14",
   "metadata": {},
   "outputs": [],
   "source": [
    "sns.scatterplot(data=adata.obs,\n",
    "                x='UMAP 1',\n",
    "                y='UMAP 2',\n",
    "                hue='dataset',\n",
    "                s=10)\n",
    "\n",
    "sns.move_legend(plt.gca(), \n",
    "                loc='upper right',\n",
    "                bbox_to_anchor=(1.7, 1))\n",
    "\n",
    "plt.gca().set_aspect('equal')"
   ]
  },
  {
   "cell_type": "code",
   "execution_count": null,
   "id": "18e7c503-eb9f-4897-b929-5c0bb0ba1926",
   "metadata": {},
   "outputs": [],
   "source": [
    "# sns.scatterplot(data=adata.obs,\n",
    "#                 x=1,\n",
    "#                 y=2,\n",
    "#                 hue='dataset',\n",
    "#                 s=10)\n",
    "\n",
    "# sns.move_legend(plt.gca(), \n",
    "#                 loc='upper right',\n",
    "#                 bbox_to_anchor=(1.7, 1))\n",
    "\n",
    "# plt.gca().set_aspect('equal')"
   ]
  },
  {
   "cell_type": "code",
   "execution_count": null,
   "id": "9ee40f89-6b88-4d60-9a62-ea1e767e30d9",
   "metadata": {},
   "outputs": [],
   "source": [
    "break"
   ]
  },
  {
   "cell_type": "code",
   "execution_count": null,
   "id": "123fd075-6f6c-481d-89cf-d80ee5f6ecb1",
   "metadata": {},
   "outputs": [],
   "source": [
    "sc.tl.pca(adata)\n",
    "sc.pp.neighbors(adata, n_neighbors=21)\n",
    "sc.tl.umap(adata, min_dist=0.2)\n",
    "\n",
    "adata"
   ]
  },
  {
   "cell_type": "code",
   "execution_count": null,
   "id": "113e3bec-15b2-414f-9a6e-53149465d48f",
   "metadata": {},
   "outputs": [],
   "source": [
    "sc.pl.umap(adata, \n",
    "           color=['dataset'])"
   ]
  },
  {
   "cell_type": "code",
   "execution_count": null,
   "id": "88bf1b9d-c333-4112-b3ec-d3bcb4cd81b0",
   "metadata": {},
   "outputs": [],
   "source": [
    "break"
   ]
  },
  {
   "cell_type": "code",
   "execution_count": null,
   "id": "66a1bed4-7eb8-4c50-bf92-1f68033a519f",
   "metadata": {},
   "outputs": [],
   "source": []
  },
  {
   "cell_type": "code",
   "execution_count": null,
   "id": "5fec5868-ab5f-455c-9dc8-d084a0da551a",
   "metadata": {},
   "outputs": [],
   "source": []
  },
  {
   "cell_type": "code",
   "execution_count": null,
   "id": "3a48932e-d460-4620-a5b8-f5d2a0011d84",
   "metadata": {},
   "outputs": [],
   "source": [
    "df = embs.copy()\n",
    "\n",
    "sns.scatterplot(data=df,  \n",
    "                x=0,\n",
    "                y=2,\n",
    "                alpha=0.6,\n",
    "                s=10,\n",
    "                palette=\"Set1\",\n",
    "                # legend=False,\n",
    "                hue='dataset')\n",
    "\n",
    "sns.move_legend(plt.gca(), \n",
    "                loc='upper right',\n",
    "                bbox_to_anchor=(1.4, 1))\n"
   ]
  },
  {
   "cell_type": "code",
   "execution_count": null,
   "id": "579094bf-3b29-4d3b-8b7c-dfb688454fc2",
   "metadata": {},
   "outputs": [],
   "source": []
  }
 ],
 "metadata": {
  "kernelspec": {
   "display_name": "geneformer",
   "language": "python",
   "name": "geneformer"
  },
  "language_info": {
   "codemirror_mode": {
    "name": "ipython",
    "version": 3
   },
   "file_extension": ".py",
   "mimetype": "text/x-python",
   "name": "python",
   "nbconvert_exporter": "python",
   "pygments_lexer": "ipython3",
   "version": "3.10.13"
  }
 },
 "nbformat": 4,
 "nbformat_minor": 5
}
