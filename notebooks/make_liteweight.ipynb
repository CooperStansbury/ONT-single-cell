{
 "cells": [
  {
   "cell_type": "code",
   "execution_count": 1,
   "id": "b9177923-a603-4dba-b1d6-baadab925fe5",
   "metadata": {},
   "outputs": [],
   "source": [
    "import sys\n",
    "import os\n",
    "import pandas as pd\n",
    "import numpy as np\n",
    "import scanpy as sc\n",
    "from scipy import sparse\n",
    "import gc "
   ]
  },
  {
   "cell_type": "code",
   "execution_count": 2,
   "id": "e6588f9c-e7f0-444e-8da0-4c80d6ffb0c3",
   "metadata": {},
   "outputs": [],
   "source": [
    "%load_ext memory_profiler"
   ]
  },
  {
   "cell_type": "code",
   "execution_count": 3,
   "id": "d050084a-8f21-43c3-99b6-e69c5ae613e0",
   "metadata": {},
   "outputs": [
    {
     "name": "stdout",
     "output_type": "stream",
     "text": [
      "peak memory: 44357.14 MiB, increment: 44108.54 MiB\n"
     ]
    }
   ],
   "source": [
    "%%memit\n",
    "fpath = \"/scratch/indikar_root/indikar1/cstansbu/HSC/geneformer_adata/processed.anndata.h5ad\"\n",
    "\n",
    "adata = sc.read_h5ad(fpath)\n",
    "adata"
   ]
  },
  {
   "cell_type": "code",
   "execution_count": 4,
   "id": "c70e3726-9a6e-406d-b20f-f2dd7008525b",
   "metadata": {},
   "outputs": [
    {
     "name": "stdout",
     "output_type": "stream",
     "text": [
      "Memory usage: current 43.31 GB, difference +43.31 GB\n"
     ]
    }
   ],
   "source": [
    "sc.logging.print_memory_usage()"
   ]
  },
  {
   "cell_type": "code",
   "execution_count": 5,
   "id": "4aeba80e-82e1-4d40-907e-7e1fcad3bbb3",
   "metadata": {},
   "outputs": [
    {
     "name": "stdout",
     "output_type": "stream",
     "text": [
      "peak memory: 44354.01 MiB, increment: 0.00 MiB\n"
     ]
    }
   ],
   "source": [
    "%%memit\n",
    "del adata.obsp['connectivities']\n",
    "del adata.obsp['distances']\n",
    "\n",
    "del adata.layers['log_norm']\n",
    "del adata.layers['raw_counts']\n",
    "\n",
    "del adata.obsm['X_pca']\n",
    "del adata.obsm['X_umap']\n",
    "del adata.obsm['X_tsne']\n",
    "\n",
    "del adata.uns['tsne']\n",
    "del adata.uns['pca']\n",
    "del adata.uns['umap']\n",
    "del adata.uns['scrublet']\n",
    "del adata.uns['neighbors']\n",
    "del adata.uns['HSC_vs_FB']\n",
    "del adata.uns['HSC_vs_FB_pure']\n",
    "del adata.uns['fb_vs_hsc_up']\n",
    "del adata.uns['hsc_v_fib_up']\n",
    "del adata.uns['hvg']\n",
    "del adata.uns['log1p']\n",
    "del adata.uns['scenic_transcription_factors']\n",
    "del adata.uns['tabula_sapiens_deg']\n",
    "\n",
    "del adata.varm['PCs']\n",
    "\n",
    "var_to_remove = [\n",
    "    'n_cells',\n",
    "    'mt',\n",
    "    'n_cells_by_counts',\n",
    "    'mean_counts',\n",
    "    'pct_dropout_by_counts',\n",
    "    'total_counts',\n",
    "    'highly_variable',\n",
    "    'means',\n",
    "    'dispersions',\n",
    "    'dispersions_norm',\n",
    "    'ensembl_id',\n",
    "]\n",
    "\n",
    "adata.var = adata.var.drop(columns=var_to_remove)\n",
    "\n",
    "obs_to_remove = [\n",
    "    'n_genes',\n",
    "    'doublet_score', \n",
    "    'predicted_doublet',\n",
    "    'n_genes_by_counts',\n",
    "    'total_counts',\n",
    "    'total_counts_mt',\n",
    "    'pct_counts_mt',\n",
    "    'Barcode',\n",
    "    'Library',\n",
    "    'method',\n",
    "    'donor',\n",
    "    'anatomical_information',\n",
    "    'n_counts_UMIs',\n",
    "    'cell_ontology_class',\n",
    "    'free_annotation',\n",
    "    'manually_annotated',\n",
    "    'compartment',\n",
    "    'gender',\n",
    "    'celltype',\n",
    "    'record_id', \n",
    "    'cell_id',\n",
    "    'nCount_RNA',\n",
    "    'nFeature_RNA',\n",
    "    'nCount_ATAC',\n",
    "    'nFeature_ATAC',\n",
    "    'nCount_SCT',\n",
    "    'nFeature_SCT',\n",
    "    'SCT.weight',\n",
    "    'ATAC.weight',\n",
    "    'seurat_clusters',\n",
    "    'STD.CellType',\n",
    "    'STD_Cat', \n",
    "    'STD_Cat2', \n",
    "    'Sample',\n",
    "    'HLF',\n",
    "    'CRHBP',\n",
    "    'CD34',\n",
    "    'MitoCoverage',\n",
    "    'ClonalGroup',\n",
    "    'Sig.HSC1',\n",
    "    'Sig.Prog1',\n",
    "    'Sig.EarlyE1',\n",
    "    'Sig.LateE1',\n",
    "    'Sig.ProMono1', \n",
    "    'Sig.Mono1',\n",
    "    'Sig.ncMono1',\n",
    "    'Sig.cDC1',\n",
    "    'Sig.pDC1',\n",
    "    'Sig.ProB1',\n",
    "    'Sig.PreB1',\n",
    "    'Sig.B1',\n",
    "    'Sig.Plasma1',\n",
    "    'Sig.T1',\n",
    "    'Sig.CTL1',\n",
    "    'Sig.NK1',\n",
    "    'meanCov', \n",
    "    'ClonalGroup.Prob',\n",
    "    'wsnn_res.0.8',\n",
    "    'Origin.Seurat',\n",
    "]\n",
    "\n",
    "adata.obs = adata.obs.drop(columns=obs_to_remove)\n",
    "\n",
    "adata"
   ]
  },
  {
   "cell_type": "code",
   "execution_count": 6,
   "id": "8e4720d0-b58f-40a6-bb6b-610cd952c19a",
   "metadata": {},
   "outputs": [
    {
     "name": "stdout",
     "output_type": "stream",
     "text": [
      "Memory usage: current 35.91 GB, difference -7.40 GB\n"
     ]
    }
   ],
   "source": [
    "sc.logging.print_memory_usage()"
   ]
  },
  {
   "cell_type": "code",
   "execution_count": 7,
   "id": "62267593-5a28-42a2-8eb5-5664b0869940",
   "metadata": {},
   "outputs": [
    {
     "name": "stdout",
     "output_type": "stream",
     "text": [
      "peak memory: 36771.89 MiB, increment: 0.00 MiB\n"
     ]
    }
   ],
   "source": [
    "%%memit\n",
    "gc.collect()"
   ]
  },
  {
   "cell_type": "code",
   "execution_count": 8,
   "id": "61c0bb77-bd76-49b0-8606-ee423da5fd6f",
   "metadata": {},
   "outputs": [
    {
     "name": "stdout",
     "output_type": "stream",
     "text": [
      "Memory usage: current 35.91 GB, difference +0.00 GB\n"
     ]
    }
   ],
   "source": [
    "sc.logging.print_memory_usage()"
   ]
  },
  {
   "cell_type": "code",
   "execution_count": 9,
   "id": "18830cf2-9232-4c6d-92a5-22c64cb854b5",
   "metadata": {},
   "outputs": [
    {
     "data": {
      "text/plain": [
       "AnnData object with n_obs × n_vars = 166685 × 19146\n",
       "    obs: 'cell_type', 'dataset', 'organ_tissue'\n",
       "    var: 'gene_name'\n",
       "    uns: 'go_annotations', 'panglaodb'"
      ]
     },
     "execution_count": 9,
     "metadata": {},
     "output_type": "execute_result"
    }
   ],
   "source": [
    "adata"
   ]
  },
  {
   "cell_type": "code",
   "execution_count": 10,
   "id": "8942a9f4-f886-42ce-b273-bdaa11480e58",
   "metadata": {},
   "outputs": [
    {
     "name": "stdout",
     "output_type": "stream",
     "text": [
      "peak memory: 36772.72 MiB, increment: 0.82 MiB\n"
     ]
    }
   ],
   "source": [
    "%%memit\n",
    "keep = [\n",
    "    'iHSC',\n",
    "    'LinNegCD34lowCD164high',\n",
    "    'HSC',\n",
    "    'LinNegCD34PosCD164Pos',\n",
    "    'MPP',\n",
    "    'MLP',\n",
    "    'FB',\n",
    "    'MKP',\n",
    "    'Refined.HSC',\n",
    "    'LMPP',\n",
    "]\n",
    "\n",
    "adata = adata[adata.obs['cell_type'].isin(keep), :]\n",
    "\n",
    "adata"
   ]
  },
  {
   "cell_type": "code",
   "execution_count": 11,
   "id": "0fd8bd98-57a3-4e59-9e04-b6dd0284895d",
   "metadata": {},
   "outputs": [
    {
     "name": "stdout",
     "output_type": "stream",
     "text": [
      "peak memory: 36772.74 MiB, increment: 0.00 MiB\n"
     ]
    }
   ],
   "source": [
    "%%memit\n",
    "gc.collect()"
   ]
  },
  {
   "cell_type": "code",
   "execution_count": 12,
   "id": "624675f9-a76a-4294-9030-6de7e7895a76",
   "metadata": {},
   "outputs": [
    {
     "data": {
      "text/plain": [
       "View of AnnData object with n_obs × n_vars = 81376 × 19146\n",
       "    obs: 'cell_type', 'dataset', 'organ_tissue'\n",
       "    var: 'gene_name'\n",
       "    uns: 'go_annotations', 'panglaodb'"
      ]
     },
     "execution_count": 12,
     "metadata": {},
     "output_type": "execute_result"
    }
   ],
   "source": [
    "# downcast\n",
    "adata.X = adata.X.astype('float32')\n",
    "adata"
   ]
  },
  {
   "cell_type": "code",
   "execution_count": 13,
   "id": "d418dbb1-51dc-4095-8372-5b1480992af9",
   "metadata": {},
   "outputs": [
    {
     "name": "stdout",
     "output_type": "stream",
     "text": [
      "peak memory: 36764.27 MiB, increment: 0.03 MiB\n"
     ]
    }
   ],
   "source": [
    "%%memit\n",
    "gc.collect()"
   ]
  },
  {
   "cell_type": "code",
   "execution_count": 14,
   "id": "a88af02f-ffa7-4e3d-9ad9-f9017ec5d42b",
   "metadata": {},
   "outputs": [
    {
     "name": "stdout",
     "output_type": "stream",
     "text": [
      "Memory usage: current 35.90 GB, difference -0.01 GB\n"
     ]
    }
   ],
   "source": [
    "sc.logging.print_memory_usage()"
   ]
  },
  {
   "cell_type": "code",
   "execution_count": 15,
   "id": "3a15ac51-92a5-461a-8542-6a72014ddad7",
   "metadata": {},
   "outputs": [
    {
     "data": {
      "text/html": [
       "<div>\n",
       "<style scoped>\n",
       "    .dataframe tbody tr th:only-of-type {\n",
       "        vertical-align: middle;\n",
       "    }\n",
       "\n",
       "    .dataframe tbody tr th {\n",
       "        vertical-align: top;\n",
       "    }\n",
       "\n",
       "    .dataframe thead th {\n",
       "        text-align: right;\n",
       "    }\n",
       "</style>\n",
       "<table border=\"1\" class=\"dataframe\">\n",
       "  <thead>\n",
       "    <tr style=\"text-align: right;\">\n",
       "      <th>gene_name</th>\n",
       "      <th>A1BG</th>\n",
       "      <th>A1CF</th>\n",
       "      <th>A2M</th>\n",
       "      <th>A2ML1</th>\n",
       "      <th>A3GALT2</th>\n",
       "      <th>A4GALT</th>\n",
       "      <th>A4GNT</th>\n",
       "      <th>AAAS</th>\n",
       "      <th>AACS</th>\n",
       "      <th>AADAC</th>\n",
       "      <th>...</th>\n",
       "      <th>ZWILCH</th>\n",
       "      <th>ZWINT</th>\n",
       "      <th>ZXDA</th>\n",
       "      <th>ZXDB</th>\n",
       "      <th>ZXDC</th>\n",
       "      <th>ZYG11A</th>\n",
       "      <th>ZYG11B</th>\n",
       "      <th>ZYX</th>\n",
       "      <th>ZZEF1</th>\n",
       "      <th>ZZZ3</th>\n",
       "    </tr>\n",
       "  </thead>\n",
       "  <tbody>\n",
       "    <tr>\n",
       "      <th>AAACCCAAGGTTACCT_iHSC</th>\n",
       "      <td>0.0</td>\n",
       "      <td>0.000712</td>\n",
       "      <td>0.11865</td>\n",
       "      <td>0.150425</td>\n",
       "      <td>0.0</td>\n",
       "      <td>0.060194</td>\n",
       "      <td>0.0</td>\n",
       "      <td>0.026687</td>\n",
       "      <td>0.059761</td>\n",
       "      <td>0.324561</td>\n",
       "      <td>...</td>\n",
       "      <td>0.07042</td>\n",
       "      <td>0.055333</td>\n",
       "      <td>0.011605</td>\n",
       "      <td>0.029785</td>\n",
       "      <td>0.121771</td>\n",
       "      <td>0.000047</td>\n",
       "      <td>1.107014</td>\n",
       "      <td>0.047660</td>\n",
       "      <td>0.299082</td>\n",
       "      <td>0.001992</td>\n",
       "    </tr>\n",
       "    <tr>\n",
       "      <th>AAACCCAAGTTGAAGT_iHSC</th>\n",
       "      <td>0.0</td>\n",
       "      <td>0.000712</td>\n",
       "      <td>0.11865</td>\n",
       "      <td>0.177985</td>\n",
       "      <td>0.0</td>\n",
       "      <td>0.060194</td>\n",
       "      <td>0.0</td>\n",
       "      <td>0.026687</td>\n",
       "      <td>0.059761</td>\n",
       "      <td>0.000000</td>\n",
       "      <td>...</td>\n",
       "      <td>0.07042</td>\n",
       "      <td>0.055333</td>\n",
       "      <td>0.011605</td>\n",
       "      <td>0.029785</td>\n",
       "      <td>0.121771</td>\n",
       "      <td>0.000047</td>\n",
       "      <td>0.000000</td>\n",
       "      <td>0.047660</td>\n",
       "      <td>0.299082</td>\n",
       "      <td>0.001992</td>\n",
       "    </tr>\n",
       "    <tr>\n",
       "      <th>AAACCCAAGTTGTCGT_iHSC</th>\n",
       "      <td>0.0</td>\n",
       "      <td>0.000712</td>\n",
       "      <td>0.11865</td>\n",
       "      <td>0.000000</td>\n",
       "      <td>0.0</td>\n",
       "      <td>0.060194</td>\n",
       "      <td>0.0</td>\n",
       "      <td>0.026687</td>\n",
       "      <td>0.059761</td>\n",
       "      <td>0.270060</td>\n",
       "      <td>...</td>\n",
       "      <td>0.07042</td>\n",
       "      <td>0.055333</td>\n",
       "      <td>0.011605</td>\n",
       "      <td>0.029785</td>\n",
       "      <td>0.121771</td>\n",
       "      <td>0.000047</td>\n",
       "      <td>0.000000</td>\n",
       "      <td>0.047660</td>\n",
       "      <td>0.299082</td>\n",
       "      <td>0.001992</td>\n",
       "    </tr>\n",
       "    <tr>\n",
       "      <th>AAACCCACAGAAGCGT_iHSC</th>\n",
       "      <td>0.0</td>\n",
       "      <td>0.000712</td>\n",
       "      <td>0.11865</td>\n",
       "      <td>0.258408</td>\n",
       "      <td>0.0</td>\n",
       "      <td>0.060194</td>\n",
       "      <td>0.0</td>\n",
       "      <td>0.026687</td>\n",
       "      <td>0.059761</td>\n",
       "      <td>0.464914</td>\n",
       "      <td>...</td>\n",
       "      <td>0.07042</td>\n",
       "      <td>0.055333</td>\n",
       "      <td>0.011605</td>\n",
       "      <td>0.029785</td>\n",
       "      <td>0.121771</td>\n",
       "      <td>0.000047</td>\n",
       "      <td>0.000000</td>\n",
       "      <td>0.047660</td>\n",
       "      <td>0.299082</td>\n",
       "      <td>0.001992</td>\n",
       "    </tr>\n",
       "    <tr>\n",
       "      <th>AAACCCACAGGAGGTT_iHSC</th>\n",
       "      <td>0.0</td>\n",
       "      <td>0.000712</td>\n",
       "      <td>0.11865</td>\n",
       "      <td>0.199586</td>\n",
       "      <td>0.0</td>\n",
       "      <td>0.060194</td>\n",
       "      <td>0.0</td>\n",
       "      <td>0.026687</td>\n",
       "      <td>0.059761</td>\n",
       "      <td>0.000000</td>\n",
       "      <td>...</td>\n",
       "      <td>0.07042</td>\n",
       "      <td>0.055333</td>\n",
       "      <td>0.011605</td>\n",
       "      <td>0.029785</td>\n",
       "      <td>1.220238</td>\n",
       "      <td>0.000047</td>\n",
       "      <td>0.000000</td>\n",
       "      <td>0.876175</td>\n",
       "      <td>0.299082</td>\n",
       "      <td>0.001992</td>\n",
       "    </tr>\n",
       "  </tbody>\n",
       "</table>\n",
       "<p>5 rows × 19146 columns</p>\n",
       "</div>"
      ],
      "text/plain": [
       "gene_name              A1BG      A1CF      A2M     A2ML1  A3GALT2    A4GALT  \\\n",
       "AAACCCAAGGTTACCT_iHSC   0.0  0.000712  0.11865  0.150425      0.0  0.060194   \n",
       "AAACCCAAGTTGAAGT_iHSC   0.0  0.000712  0.11865  0.177985      0.0  0.060194   \n",
       "AAACCCAAGTTGTCGT_iHSC   0.0  0.000712  0.11865  0.000000      0.0  0.060194   \n",
       "AAACCCACAGAAGCGT_iHSC   0.0  0.000712  0.11865  0.258408      0.0  0.060194   \n",
       "AAACCCACAGGAGGTT_iHSC   0.0  0.000712  0.11865  0.199586      0.0  0.060194   \n",
       "\n",
       "gene_name              A4GNT      AAAS      AACS     AADAC  ...   ZWILCH  \\\n",
       "AAACCCAAGGTTACCT_iHSC    0.0  0.026687  0.059761  0.324561  ...  0.07042   \n",
       "AAACCCAAGTTGAAGT_iHSC    0.0  0.026687  0.059761  0.000000  ...  0.07042   \n",
       "AAACCCAAGTTGTCGT_iHSC    0.0  0.026687  0.059761  0.270060  ...  0.07042   \n",
       "AAACCCACAGAAGCGT_iHSC    0.0  0.026687  0.059761  0.464914  ...  0.07042   \n",
       "AAACCCACAGGAGGTT_iHSC    0.0  0.026687  0.059761  0.000000  ...  0.07042   \n",
       "\n",
       "gene_name                 ZWINT      ZXDA      ZXDB      ZXDC    ZYG11A  \\\n",
       "AAACCCAAGGTTACCT_iHSC  0.055333  0.011605  0.029785  0.121771  0.000047   \n",
       "AAACCCAAGTTGAAGT_iHSC  0.055333  0.011605  0.029785  0.121771  0.000047   \n",
       "AAACCCAAGTTGTCGT_iHSC  0.055333  0.011605  0.029785  0.121771  0.000047   \n",
       "AAACCCACAGAAGCGT_iHSC  0.055333  0.011605  0.029785  0.121771  0.000047   \n",
       "AAACCCACAGGAGGTT_iHSC  0.055333  0.011605  0.029785  1.220238  0.000047   \n",
       "\n",
       "gene_name                ZYG11B       ZYX     ZZEF1      ZZZ3  \n",
       "AAACCCAAGGTTACCT_iHSC  1.107014  0.047660  0.299082  0.001992  \n",
       "AAACCCAAGTTGAAGT_iHSC  0.000000  0.047660  0.299082  0.001992  \n",
       "AAACCCAAGTTGTCGT_iHSC  0.000000  0.047660  0.299082  0.001992  \n",
       "AAACCCACAGAAGCGT_iHSC  0.000000  0.047660  0.299082  0.001992  \n",
       "AAACCCACAGGAGGTT_iHSC  0.000000  0.876175  0.299082  0.001992  \n",
       "\n",
       "[5 rows x 19146 columns]"
      ]
     },
     "execution_count": 15,
     "metadata": {},
     "output_type": "execute_result"
    }
   ],
   "source": [
    "adata.to_df().head()"
   ]
  },
  {
   "cell_type": "code",
   "execution_count": null,
   "id": "26f87684-bb49-400d-9a05-3ecfd7672433",
   "metadata": {},
   "outputs": [],
   "source": []
  }
 ],
 "metadata": {
  "kernelspec": {
   "display_name": "scanpy",
   "language": "python",
   "name": "scanpy"
  },
  "language_info": {
   "codemirror_mode": {
    "name": "ipython",
    "version": 3
   },
   "file_extension": ".py",
   "mimetype": "text/x-python",
   "name": "python",
   "nbconvert_exporter": "python",
   "pygments_lexer": "ipython3",
   "version": "3.12.3"
  }
 },
 "nbformat": 4,
 "nbformat_minor": 5
}
