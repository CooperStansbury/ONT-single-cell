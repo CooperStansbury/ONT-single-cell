{
 "cells": [
  {
   "cell_type": "code",
   "execution_count": 1,
   "id": "054b73f3-f0d4-4a13-a0ea-d4a2e8273fab",
   "metadata": {},
   "outputs": [],
   "source": [
    "import os\n",
    "import sys\n",
    "import pandas as pd\n",
    "import numpy as np\n",
    "import matplotlib.pyplot as plt\n",
    "from mpl_toolkits.axes_grid1 import make_axes_locatable, axes_size\n",
    "import matplotlib.colors as mcolors\n",
    "from matplotlib.transforms import Bbox\n",
    "from matplotlib.colors import to_rgba\n",
    "from matplotlib.colors import LinearSegmentedColormap\n",
    "import seaborn as sns\n",
    "import scvi\n",
    "import scanpy as sc\n",
    "import anndata as an\n",
    "import scanpy.external as sce\n",
    "import scipy\n",
    "import scipy.sparse as sp\n",
    "import time\n",
    "import sklearn\n",
    "import torch\n",
    "from scipy.sparse import csr_matrix\n",
    "\n",
    "from importlib import reload\n",
    "\n",
    "# local imports\n",
    "import utils as ut\n",
    "import plotting as plt2\n",
    "\n",
    "sc.settings.verbosity = 3 "
   ]
  },
  {
   "cell_type": "code",
   "execution_count": 2,
   "id": "8decb9e0-64ed-4049-bd3a-aec9d0c62752",
   "metadata": {},
   "outputs": [
    {
     "name": "stdout",
     "output_type": "stream",
     "text": [
      "12.0\n"
     ]
    }
   ],
   "source": [
    "print(torch.version.cuda) "
   ]
  },
  {
   "cell_type": "code",
   "execution_count": 3,
   "id": "e6f53ef7-6851-4e39-a486-27a5108b24e6",
   "metadata": {},
   "outputs": [
    {
     "name": "stdout",
     "output_type": "stream",
     "text": [
      "Number of processors: 40\n"
     ]
    }
   ],
   "source": [
    "num_processors = os.cpu_count()\n",
    "print(f\"Number of processors: {num_processors}\") "
   ]
  },
  {
   "cell_type": "code",
   "execution_count": 4,
   "id": "49903962-e639-459b-a83b-aca2eeec4aaa",
   "metadata": {},
   "outputs": [
    {
     "name": "stdout",
     "output_type": "stream",
     "text": [
      "CUDA available: True\n",
      "Number of GPUs: 1\n",
      "GPU 0: Tesla V100-PCIE-16GB\n",
      "  Compute Capability: 7.0\n",
      "  Total Memory: 15.77 GB\n"
     ]
    }
   ],
   "source": [
    "# Check CUDA availability\n",
    "cuda_available = torch.cuda.is_available()\n",
    "print(f\"CUDA available: {cuda_available}\")\n",
    "\n",
    "if cuda_available:\n",
    "    num_gpus = torch.cuda.device_count()\n",
    "    print(f\"Number of GPUs: {num_gpus}\")\n",
    "\n",
    "    for i in range(num_gpus):\n",
    "        gpu_name = torch.cuda.get_device_name(i)\n",
    "        print(f\"GPU {i}: {gpu_name}\")\n",
    "\n",
    "        # Additional information (compute capability, memory)\n",
    "        gpu_props = torch.cuda.get_device_properties(i)\n",
    "        print(f\"  Compute Capability: {gpu_props.major}.{gpu_props.minor}\")\n",
    "        print(f\"  Total Memory: {gpu_props.total_memory / 1024**3:.2f} GB\")\n",
    "else:\n",
    "    print(\"CUDA not available. Running on CPU.\")"
   ]
  },
  {
   "cell_type": "code",
   "execution_count": 5,
   "id": "6072eb5c-8344-4807-a49c-d1652672a626",
   "metadata": {},
   "outputs": [
    {
     "name": "stderr",
     "output_type": "stream",
     "text": [
      "An NVIDIA GPU may be present on this machine, but a CUDA-enabled jaxlib is not installed. Falling back to cpu.\n"
     ]
    },
    {
     "name": "stdout",
     "output_type": "stream",
     "text": [
      "[CpuDevice(id=0)]\n"
     ]
    }
   ],
   "source": [
    "# Check JAX\n",
    "import jax\n",
    "print(jax.devices())"
   ]
  },
  {
   "cell_type": "markdown",
   "id": "dbeed7ba-d393-4d22-9f50-a060f9d8d6a9",
   "metadata": {},
   "source": [
    "# Load data"
   ]
  },
  {
   "cell_type": "code",
   "execution_count": 6,
   "id": "d16312cf-89a1-4bb8-9ec5-d311a5af965b",
   "metadata": {},
   "outputs": [],
   "source": [
    "def load_annotations(fpath):\n",
    "    \"\"\"\n",
    "    Loads annotations data from a CSV file, processes it, and returns the resulting DataFrame.\n",
    "\n",
    "    Args:\n",
    "        fpath (str): The file path to the CSV file containing annotations data.\n",
    "\n",
    "    Returns:\n",
    "        pd.DataFrame: The processed DataFrame with 'cell_id' as the index.\n",
    "    \"\"\"\n",
    "    df = pd.read_csv(fpath)\n",
    "    df['cell_id'] = df['obs_index'].astype(str) + \"_\" + df[\"dataset\"]\n",
    "    df = df.drop(columns='dataset')\n",
    "    df = df.set_index('cell_id')\n",
    "    return df"
   ]
  },
  {
   "cell_type": "code",
   "execution_count": 7,
   "id": "cccd8876-e903-48ff-9835-5acca3d50cae",
   "metadata": {},
   "outputs": [
    {
     "name": "stdout",
     "output_type": "stream",
     "text": [
      "Memory usage: current 8.75 GB, difference +8.75 GB\n",
      "AnnData object with n_obs × n_vars = 171498 × 18867\n",
      "    obs: 'n_genes', 'dataset', 'n_genes_by_counts', 'total_counts'\n",
      "    var: 'n_cells_by_counts', 'mean_counts', 'pct_dropout_by_counts', 'total_counts', 'gene_id', 'token_id', 'gene_biotype', 'Chromosome', 'Start', 'End'\n",
      "    layers: 'counts'\n"
     ]
    },
    {
     "ename": "UnicodeDecodeError",
     "evalue": "'utf-8' codec can't decode byte 0x89 in position 0: invalid start byte",
     "output_type": "error",
     "traceback": [
      "\u001b[0;31m---------------------------------------------------------------------------\u001b[0m",
      "\u001b[0;31mUnicodeDecodeError\u001b[0m                        Traceback (most recent call last)",
      "Cell \u001b[0;32mIn[7], line 13\u001b[0m\n\u001b[1;32m      9\u001b[0m \u001b[38;5;124;03m\"\"\"\u001b[39;00m\n\u001b[1;32m     10\u001b[0m \u001b[38;5;124;03mANNOTATIONS\u001b[39;00m\n\u001b[1;32m     11\u001b[0m \u001b[38;5;124;03m\"\"\"\u001b[39;00m\n\u001b[1;32m     12\u001b[0m fpath \u001b[38;5;241m=\u001b[39m \u001b[38;5;124m\"\u001b[39m\u001b[38;5;124m/scratch/indikar_root/indikar1/shared_data/hematokytos/annotation/cell_types.csv\u001b[39m\u001b[38;5;124m\"\u001b[39m\n\u001b[0;32m---> 13\u001b[0m df \u001b[38;5;241m=\u001b[39m \u001b[43mload_annotations\u001b[49m\u001b[43m(\u001b[49m\u001b[43mfpath\u001b[49m\u001b[43m)\u001b[49m\n\u001b[1;32m     14\u001b[0m df \u001b[38;5;241m=\u001b[39m df[df\u001b[38;5;241m.\u001b[39mindex\u001b[38;5;241m.\u001b[39misin(adata\u001b[38;5;241m.\u001b[39mobs_names)]\n\u001b[1;32m     15\u001b[0m \u001b[38;5;28mprint\u001b[39m(\u001b[38;5;124mf\u001b[39m\u001b[38;5;124m\"\u001b[39m\u001b[38;5;132;01m{\u001b[39;00mdf\u001b[38;5;241m.\u001b[39mshape\u001b[38;5;132;01m=}\u001b[39;00m\u001b[38;5;124m\"\u001b[39m)\n",
      "Cell \u001b[0;32mIn[6], line 11\u001b[0m, in \u001b[0;36mload_annotations\u001b[0;34m(fpath)\u001b[0m\n\u001b[1;32m      1\u001b[0m \u001b[38;5;28;01mdef\u001b[39;00m \u001b[38;5;21mload_annotations\u001b[39m(fpath):\n\u001b[1;32m      2\u001b[0m \u001b[38;5;250m    \u001b[39m\u001b[38;5;124;03m\"\"\"\u001b[39;00m\n\u001b[1;32m      3\u001b[0m \u001b[38;5;124;03m    Loads annotations data from a CSV file, processes it, and returns the resulting DataFrame.\u001b[39;00m\n\u001b[1;32m      4\u001b[0m \n\u001b[0;32m   (...)\u001b[0m\n\u001b[1;32m      9\u001b[0m \u001b[38;5;124;03m        pd.DataFrame: The processed DataFrame with 'cell_id' as the index.\u001b[39;00m\n\u001b[1;32m     10\u001b[0m \u001b[38;5;124;03m    \"\"\"\u001b[39;00m\n\u001b[0;32m---> 11\u001b[0m     df \u001b[38;5;241m=\u001b[39m \u001b[43mpd\u001b[49m\u001b[38;5;241;43m.\u001b[39;49m\u001b[43mread_csv\u001b[49m\u001b[43m(\u001b[49m\u001b[43mfpath\u001b[49m\u001b[43m)\u001b[49m\n\u001b[1;32m     12\u001b[0m     df[\u001b[38;5;124m'\u001b[39m\u001b[38;5;124mcell_id\u001b[39m\u001b[38;5;124m'\u001b[39m] \u001b[38;5;241m=\u001b[39m df[\u001b[38;5;124m'\u001b[39m\u001b[38;5;124mobs_index\u001b[39m\u001b[38;5;124m'\u001b[39m]\u001b[38;5;241m.\u001b[39mastype(\u001b[38;5;28mstr\u001b[39m) \u001b[38;5;241m+\u001b[39m \u001b[38;5;124m\"\u001b[39m\u001b[38;5;124m_\u001b[39m\u001b[38;5;124m\"\u001b[39m \u001b[38;5;241m+\u001b[39m df[\u001b[38;5;124m\"\u001b[39m\u001b[38;5;124mdataset\u001b[39m\u001b[38;5;124m\"\u001b[39m]\n\u001b[1;32m     13\u001b[0m     df \u001b[38;5;241m=\u001b[39m df\u001b[38;5;241m.\u001b[39mdrop(columns\u001b[38;5;241m=\u001b[39m\u001b[38;5;124m'\u001b[39m\u001b[38;5;124mdataset\u001b[39m\u001b[38;5;124m'\u001b[39m)\n",
      "File \u001b[0;32m~/.local/lib/python3.12/site-packages/pandas/io/parsers/readers.py:912\u001b[0m, in \u001b[0;36mread_csv\u001b[0;34m(filepath_or_buffer, sep, delimiter, header, names, index_col, usecols, dtype, engine, converters, true_values, false_values, skipinitialspace, skiprows, skipfooter, nrows, na_values, keep_default_na, na_filter, verbose, skip_blank_lines, parse_dates, infer_datetime_format, keep_date_col, date_parser, date_format, dayfirst, cache_dates, iterator, chunksize, compression, thousands, decimal, lineterminator, quotechar, quoting, doublequote, escapechar, comment, encoding, encoding_errors, dialect, on_bad_lines, delim_whitespace, low_memory, memory_map, float_precision, storage_options, dtype_backend)\u001b[0m\n\u001b[1;32m    899\u001b[0m kwds_defaults \u001b[38;5;241m=\u001b[39m _refine_defaults_read(\n\u001b[1;32m    900\u001b[0m     dialect,\n\u001b[1;32m    901\u001b[0m     delimiter,\n\u001b[0;32m   (...)\u001b[0m\n\u001b[1;32m    908\u001b[0m     dtype_backend\u001b[38;5;241m=\u001b[39mdtype_backend,\n\u001b[1;32m    909\u001b[0m )\n\u001b[1;32m    910\u001b[0m kwds\u001b[38;5;241m.\u001b[39mupdate(kwds_defaults)\n\u001b[0;32m--> 912\u001b[0m \u001b[38;5;28;01mreturn\u001b[39;00m \u001b[43m_read\u001b[49m\u001b[43m(\u001b[49m\u001b[43mfilepath_or_buffer\u001b[49m\u001b[43m,\u001b[49m\u001b[43m \u001b[49m\u001b[43mkwds\u001b[49m\u001b[43m)\u001b[49m\n",
      "File \u001b[0;32m~/.local/lib/python3.12/site-packages/pandas/io/parsers/readers.py:577\u001b[0m, in \u001b[0;36m_read\u001b[0;34m(filepath_or_buffer, kwds)\u001b[0m\n\u001b[1;32m    574\u001b[0m _validate_names(kwds\u001b[38;5;241m.\u001b[39mget(\u001b[38;5;124m\"\u001b[39m\u001b[38;5;124mnames\u001b[39m\u001b[38;5;124m\"\u001b[39m, \u001b[38;5;28;01mNone\u001b[39;00m))\n\u001b[1;32m    576\u001b[0m \u001b[38;5;66;03m# Create the parser.\u001b[39;00m\n\u001b[0;32m--> 577\u001b[0m parser \u001b[38;5;241m=\u001b[39m \u001b[43mTextFileReader\u001b[49m\u001b[43m(\u001b[49m\u001b[43mfilepath_or_buffer\u001b[49m\u001b[43m,\u001b[49m\u001b[43m \u001b[49m\u001b[38;5;241;43m*\u001b[39;49m\u001b[38;5;241;43m*\u001b[39;49m\u001b[43mkwds\u001b[49m\u001b[43m)\u001b[49m\n\u001b[1;32m    579\u001b[0m \u001b[38;5;28;01mif\u001b[39;00m chunksize \u001b[38;5;129;01mor\u001b[39;00m iterator:\n\u001b[1;32m    580\u001b[0m     \u001b[38;5;28;01mreturn\u001b[39;00m parser\n",
      "File \u001b[0;32m~/.local/lib/python3.12/site-packages/pandas/io/parsers/readers.py:1407\u001b[0m, in \u001b[0;36mTextFileReader.__init__\u001b[0;34m(self, f, engine, **kwds)\u001b[0m\n\u001b[1;32m   1404\u001b[0m     \u001b[38;5;28mself\u001b[39m\u001b[38;5;241m.\u001b[39moptions[\u001b[38;5;124m\"\u001b[39m\u001b[38;5;124mhas_index_names\u001b[39m\u001b[38;5;124m\"\u001b[39m] \u001b[38;5;241m=\u001b[39m kwds[\u001b[38;5;124m\"\u001b[39m\u001b[38;5;124mhas_index_names\u001b[39m\u001b[38;5;124m\"\u001b[39m]\n\u001b[1;32m   1406\u001b[0m \u001b[38;5;28mself\u001b[39m\u001b[38;5;241m.\u001b[39mhandles: IOHandles \u001b[38;5;241m|\u001b[39m \u001b[38;5;28;01mNone\u001b[39;00m \u001b[38;5;241m=\u001b[39m \u001b[38;5;28;01mNone\u001b[39;00m\n\u001b[0;32m-> 1407\u001b[0m \u001b[38;5;28mself\u001b[39m\u001b[38;5;241m.\u001b[39m_engine \u001b[38;5;241m=\u001b[39m \u001b[38;5;28;43mself\u001b[39;49m\u001b[38;5;241;43m.\u001b[39;49m\u001b[43m_make_engine\u001b[49m\u001b[43m(\u001b[49m\u001b[43mf\u001b[49m\u001b[43m,\u001b[49m\u001b[43m \u001b[49m\u001b[38;5;28;43mself\u001b[39;49m\u001b[38;5;241;43m.\u001b[39;49m\u001b[43mengine\u001b[49m\u001b[43m)\u001b[49m\n",
      "File \u001b[0;32m~/.local/lib/python3.12/site-packages/pandas/io/parsers/readers.py:1679\u001b[0m, in \u001b[0;36mTextFileReader._make_engine\u001b[0;34m(self, f, engine)\u001b[0m\n\u001b[1;32m   1676\u001b[0m     \u001b[38;5;28;01mraise\u001b[39;00m \u001b[38;5;167;01mValueError\u001b[39;00m(msg)\n\u001b[1;32m   1678\u001b[0m \u001b[38;5;28;01mtry\u001b[39;00m:\n\u001b[0;32m-> 1679\u001b[0m     \u001b[38;5;28;01mreturn\u001b[39;00m \u001b[43mmapping\u001b[49m\u001b[43m[\u001b[49m\u001b[43mengine\u001b[49m\u001b[43m]\u001b[49m\u001b[43m(\u001b[49m\u001b[43mf\u001b[49m\u001b[43m,\u001b[49m\u001b[43m \u001b[49m\u001b[38;5;241;43m*\u001b[39;49m\u001b[38;5;241;43m*\u001b[39;49m\u001b[38;5;28;43mself\u001b[39;49m\u001b[38;5;241;43m.\u001b[39;49m\u001b[43moptions\u001b[49m\u001b[43m)\u001b[49m\n\u001b[1;32m   1680\u001b[0m \u001b[38;5;28;01mexcept\u001b[39;00m \u001b[38;5;167;01mException\u001b[39;00m:\n\u001b[1;32m   1681\u001b[0m     \u001b[38;5;28;01mif\u001b[39;00m \u001b[38;5;28mself\u001b[39m\u001b[38;5;241m.\u001b[39mhandles \u001b[38;5;129;01mis\u001b[39;00m \u001b[38;5;129;01mnot\u001b[39;00m \u001b[38;5;28;01mNone\u001b[39;00m:\n",
      "File \u001b[0;32m~/.local/lib/python3.12/site-packages/pandas/io/parsers/c_parser_wrapper.py:93\u001b[0m, in \u001b[0;36mCParserWrapper.__init__\u001b[0;34m(self, src, **kwds)\u001b[0m\n\u001b[1;32m     90\u001b[0m \u001b[38;5;28;01mif\u001b[39;00m kwds[\u001b[38;5;124m\"\u001b[39m\u001b[38;5;124mdtype_backend\u001b[39m\u001b[38;5;124m\"\u001b[39m] \u001b[38;5;241m==\u001b[39m \u001b[38;5;124m\"\u001b[39m\u001b[38;5;124mpyarrow\u001b[39m\u001b[38;5;124m\"\u001b[39m:\n\u001b[1;32m     91\u001b[0m     \u001b[38;5;66;03m# Fail here loudly instead of in cython after reading\u001b[39;00m\n\u001b[1;32m     92\u001b[0m     import_optional_dependency(\u001b[38;5;124m\"\u001b[39m\u001b[38;5;124mpyarrow\u001b[39m\u001b[38;5;124m\"\u001b[39m)\n\u001b[0;32m---> 93\u001b[0m \u001b[38;5;28mself\u001b[39m\u001b[38;5;241m.\u001b[39m_reader \u001b[38;5;241m=\u001b[39m \u001b[43mparsers\u001b[49m\u001b[38;5;241;43m.\u001b[39;49m\u001b[43mTextReader\u001b[49m\u001b[43m(\u001b[49m\u001b[43msrc\u001b[49m\u001b[43m,\u001b[49m\u001b[43m \u001b[49m\u001b[38;5;241;43m*\u001b[39;49m\u001b[38;5;241;43m*\u001b[39;49m\u001b[43mkwds\u001b[49m\u001b[43m)\u001b[49m\n\u001b[1;32m     95\u001b[0m \u001b[38;5;28mself\u001b[39m\u001b[38;5;241m.\u001b[39munnamed_cols \u001b[38;5;241m=\u001b[39m \u001b[38;5;28mself\u001b[39m\u001b[38;5;241m.\u001b[39m_reader\u001b[38;5;241m.\u001b[39munnamed_cols\n\u001b[1;32m     97\u001b[0m \u001b[38;5;66;03m# error: Cannot determine type of 'names'\u001b[39;00m\n",
      "File \u001b[0;32m~/.local/lib/python3.12/site-packages/pandas/_libs/parsers.pyx:550\u001b[0m, in \u001b[0;36mpandas._libs.parsers.TextReader.__cinit__\u001b[0;34m()\u001b[0m\n",
      "File \u001b[0;32m~/.local/lib/python3.12/site-packages/pandas/_libs/parsers.pyx:639\u001b[0m, in \u001b[0;36mpandas._libs.parsers.TextReader._get_header\u001b[0;34m()\u001b[0m\n",
      "File \u001b[0;32m~/.local/lib/python3.12/site-packages/pandas/_libs/parsers.pyx:850\u001b[0m, in \u001b[0;36mpandas._libs.parsers.TextReader._tokenize_rows\u001b[0;34m()\u001b[0m\n",
      "File \u001b[0;32m~/.local/lib/python3.12/site-packages/pandas/_libs/parsers.pyx:861\u001b[0m, in \u001b[0;36mpandas._libs.parsers.TextReader._check_tokenize_status\u001b[0;34m()\u001b[0m\n",
      "File \u001b[0;32m~/.local/lib/python3.12/site-packages/pandas/_libs/parsers.pyx:2021\u001b[0m, in \u001b[0;36mpandas._libs.parsers.raise_parser_error\u001b[0;34m()\u001b[0m\n",
      "File \u001b[0;32m~/miniconda3/envs/scanpy/lib/python3.12/codecs.py:322\u001b[0m, in \u001b[0;36mBufferedIncrementalDecoder.decode\u001b[0;34m(self, input, final)\u001b[0m\n\u001b[1;32m    319\u001b[0m \u001b[38;5;28;01mdef\u001b[39;00m \u001b[38;5;21mdecode\u001b[39m(\u001b[38;5;28mself\u001b[39m, \u001b[38;5;28minput\u001b[39m, final\u001b[38;5;241m=\u001b[39m\u001b[38;5;28;01mFalse\u001b[39;00m):\n\u001b[1;32m    320\u001b[0m     \u001b[38;5;66;03m# decode input (taking the buffer into account)\u001b[39;00m\n\u001b[1;32m    321\u001b[0m     data \u001b[38;5;241m=\u001b[39m \u001b[38;5;28mself\u001b[39m\u001b[38;5;241m.\u001b[39mbuffer \u001b[38;5;241m+\u001b[39m \u001b[38;5;28minput\u001b[39m\n\u001b[0;32m--> 322\u001b[0m     (result, consumed) \u001b[38;5;241m=\u001b[39m \u001b[38;5;28;43mself\u001b[39;49m\u001b[38;5;241;43m.\u001b[39;49m\u001b[43m_buffer_decode\u001b[49m\u001b[43m(\u001b[49m\u001b[43mdata\u001b[49m\u001b[43m,\u001b[49m\u001b[43m \u001b[49m\u001b[38;5;28;43mself\u001b[39;49m\u001b[38;5;241;43m.\u001b[39;49m\u001b[43merrors\u001b[49m\u001b[43m,\u001b[49m\u001b[43m \u001b[49m\u001b[43mfinal\u001b[49m\u001b[43m)\u001b[49m\n\u001b[1;32m    323\u001b[0m     \u001b[38;5;66;03m# keep undecoded input until the next call\u001b[39;00m\n\u001b[1;32m    324\u001b[0m     \u001b[38;5;28mself\u001b[39m\u001b[38;5;241m.\u001b[39mbuffer \u001b[38;5;241m=\u001b[39m data[consumed:]\n",
      "\u001b[0;31mUnicodeDecodeError\u001b[0m: 'utf-8' codec can't decode byte 0x89 in position 0: invalid start byte"
     ]
    }
   ],
   "source": [
    "\"\"\"\n",
    "DATA\n",
    "\"\"\"\n",
    "fpath = \"/scratch/indikar_root/indikar1/shared_data/hematokytos/merged_anndata/merged_adata.h5ad\"\n",
    "adata = sc.read_h5ad(fpath)\n",
    "sc.logging.print_memory_usage()\n",
    "print(adata)\n",
    "\n",
    "\"\"\"\n",
    "ANNOTATIONS\n",
    "\"\"\"\n",
    "fpath = \"/scratch/indikar_root/indikar1/shared_data/hematokytos/annotation/cell_types.csv\"\n",
    "df = load_annotations(fpath)\n",
    "df = df[df.index.isin(adata.obs_names)]\n",
    "print(f\"{df.shape=}\")\n",
    "\n",
    "adata.obs = pd.concat([adata.obs, df], ignore_index=False, axis=1)\n",
    "adata"
   ]
  },
  {
   "cell_type": "markdown",
   "id": "a3375c08-e2f2-4b01-86c6-4beb35efa021",
   "metadata": {},
   "source": [
    "# Annotations"
   ]
  },
  {
   "cell_type": "code",
   "execution_count": null,
   "id": "cdcb7df4-6f4d-45fa-a13a-7da11c8d5dd7",
   "metadata": {
    "jupyter": {
     "source_hidden": true
    }
   },
   "outputs": [],
   "source": [
    "# fpaths = [\n",
    "#     \"../resources/PanglaoDB_Augmented_2021.txt\",\n",
    "#     \"../resources/Tabula_Sapiens.txt\",\n",
    "# ]\n",
    "\n",
    "# marker_columns = []\n",
    "\n",
    "# for fpath in fpaths:    \n",
    "#     features = ut.load_pathway(fpath)\n",
    "\n",
    "#     # extract columns\n",
    "#     hsc_columns = [x for x in features.columns if \"hemato\" in x.lower()]\n",
    "#     fib_columns = [x for x in features.columns if \"fibroblast\" in x.lower()]\n",
    "#     fib_columns = [x for x in fib_columns if not \"myofibr\" in x.lower()]\n",
    "    \n",
    "#     columns = list(set(hsc_columns + fib_columns))\n",
    "\n",
    "#     for col in columns:\n",
    "#         gene_list = list(features[features[col].astype(bool)].index)\n",
    "#         print(col, len(gene_list))\n",
    "#         col_name = col.lower().replace(\"-\", \" \")\n",
    "#         col_name = col_name.replace(\" \", \"_\") + \"_marker\"\n",
    "#         marker_columns.append(col_name)\n",
    "#         adata.var[col_name] = adata.var.index.isin(gene_list)\n",
    "    \n",
    "# adata.var['is_marker'] = adata.var[marker_columns].any(axis=1)\n",
    "# print()\n",
    "# adata"
   ]
  },
  {
   "cell_type": "markdown",
   "id": "27bebe69-8873-41e2-bd12-6d8aed5335c4",
   "metadata": {},
   "source": [
    "# Randomly subsample the tabula sapiens fibroblast data"
   ]
  },
  {
   "cell_type": "code",
   "execution_count": null,
   "id": "386b12cb-abdd-4ebe-9253-944dbb6b6293",
   "metadata": {
    "jupyter": {
     "source_hidden": true
    }
   },
   "outputs": [],
   "source": [
    "# sample_size = 1e4 # the numbner of fibroblast signatures to keep\n",
    "\n",
    "# mask = (adata.obs['dataset'] == 'tabula_sapiens') & (adata.obs['standard_cell_type'] == 'Fib')\n",
    "\n",
    "# print(f\"Filtering for Fibroblasts from tabula_sapiens dataset...\")\n",
    "# fibdf = adata.obs[mask].copy()\n",
    "# print(f\"Found {len(fibdf)} fibroblasts.\")\n",
    "\n",
    "# print(f\"Sampling {sample_size} fibroblasts...\")\n",
    "# keep = fibdf.sample(int(sample_size))\n",
    "# keep = keep.index\n",
    "# print(\"Sampling complete.\")\n",
    "\n",
    "# fib_to_drop = fibdf[~fibdf.index.isin(keep)].index\n",
    "# all_keep = ~adata.obs.index.isin(fib_to_drop)\n",
    "\n",
    "# # Print the lengths\n",
    "# print(f\"Total fibroblasts: {len(adata.obs.index)}\")\n",
    "# print(f\"Fibroblasts to keep: {len(keep)}\")\n",
    "# print(f\"Fibroblasts to drop: {len(fib_to_drop)}\") \n",
    "\n",
    "# adata = adata[all_keep, :].copy()  \n",
    "# adata"
   ]
  },
  {
   "cell_type": "markdown",
   "id": "f439fb6c-26e9-4bea-aec7-8da1faa33015",
   "metadata": {},
   "source": [
    "# Cell type filtering"
   ]
  },
  {
   "cell_type": "code",
   "execution_count": null,
   "id": "9eca0aea-c8fe-4135-8d46-465746dd215d",
   "metadata": {},
   "outputs": [],
   "source": [
    "cell_types = [\n",
    "    # 'PreBNK', - only preent in single batch\n",
    "    # 'LinNeg', - only preent in single batch\n",
    "    'HSC',\n",
    "    'CMP',\n",
    "    'MEP',\n",
    "    'MPP',\n",
    "    'GMP',\n",
    "    # 'MLP', - only preent in single batch\n",
    "    'EryP',\n",
    "    'MDP',\n",
    "    'MKP',\n",
    "    # 'Mono',\n",
    "    'CLP',\n",
    "    # 'T_cell',\n",
    "    # 'B_cell',\n",
    "    # 'NK',\n",
    "    'LMPP',\n",
    "    # 'Dendritic_cell',\n",
    "    'Fib',\n",
    "    'iHSC',\n",
    "]\n",
    "\n",
    "adata = adata[adata.obs['standard_cell_type'].notna(), :].copy()\n",
    "adata = adata[adata.obs['standard_cell_type'].isin(cell_types), :].copy()\n",
    "\n",
    "adata.obs['standard_cell_type'].value_counts()"
   ]
  },
  {
   "cell_type": "markdown",
   "id": "b30c8a98-115f-43ad-b3b4-d6c2f873b2e4",
   "metadata": {},
   "source": [
    "# Preprocessing"
   ]
  },
  {
   "cell_type": "code",
   "execution_count": null,
   "id": "a0f301f8-9773-477d-9c34-82aa21e756b6",
   "metadata": {},
   "outputs": [],
   "source": [
    "sc.pp.filter_cells(adata, min_genes=1000)\n",
    "sc.pp.filter_genes(adata, min_cells=250)\n",
    "\n",
    "adata"
   ]
  },
  {
   "cell_type": "code",
   "execution_count": null,
   "id": "5fbbea43-1083-45d0-ab7b-2163e6823a31",
   "metadata": {},
   "outputs": [],
   "source": [
    "# Normalizing to median total counts\n",
    "target_sum = 1e4\n",
    "sc.pp.normalize_total(adata, target_sum=target_sum)\n",
    "sc.pp.log1p(adata)\n",
    "adata.layers[\"log_norm\"] = csr_matrix(adata.X.astype('float32').copy())\n",
    "\n",
    "adata"
   ]
  },
  {
   "cell_type": "markdown",
   "id": "815e7ecf-7f6e-4f9d-9a11-ad12a505b5e2",
   "metadata": {},
   "source": [
    "# Make reference and query data"
   ]
  },
  {
   "cell_type": "code",
   "execution_count": null,
   "id": "54a867ba-45eb-417d-a302-8a12386b0a1c",
   "metadata": {},
   "outputs": [],
   "source": [
    "reference_data = [\n",
    "    'tabula_sapiens',\n",
    "    'weng_young2_all',\n",
    "    'sc_fib',\n",
    "    'weng_young1_all_t2',\n",
    "    'weng_young1_all_t1',\n",
    "]\n",
    "\n",
    "query_data = [\n",
    "    'iHSC',\n",
    "]\n",
    "\n",
    "sample_size = None\n",
    "\n",
    "# define data sets\n",
    "rdata = adata[adata.obs['dataset'].isin(reference_data), :].copy()\n",
    "if not sample_size is None:\n",
    "    sc.pp.subsample(rdata, n_obs=sample_size)\n",
    "\n",
    "print(rdata)\n",
    "print()\n",
    "qdata = adata[adata.obs['dataset'].isin(query_data), :].copy()\n",
    "print(qdata)"
   ]
  },
  {
   "cell_type": "code",
   "execution_count": null,
   "id": "8bf0213c-9945-4705-b05a-9f2841e52c51",
   "metadata": {},
   "outputs": [],
   "source": [
    "rdata.obs['cell_label'] = rdata.obs['standard_cell_type'].apply(lambda x: str(x).strip())\n",
    "rdata.obs['cell_label'].value_counts()"
   ]
  },
  {
   "cell_type": "code",
   "execution_count": null,
   "id": "4d05783d-40ef-4987-86f2-6a2e8038016f",
   "metadata": {},
   "outputs": [],
   "source": [
    "qdata.obs['cell_label'] = 'Unknown'\n",
    "qdata.obs['cell_label'].value_counts()"
   ]
  },
  {
   "cell_type": "markdown",
   "id": "ac64519d-b814-4be4-b3ab-4e05aa065c8f",
   "metadata": {},
   "source": [
    "# Store the Data"
   ]
  },
  {
   "cell_type": "code",
   "execution_count": null,
   "id": "7c25223e-ca72-4918-bbae-9374e606ba42",
   "metadata": {},
   "outputs": [],
   "source": [
    "output_path = \"/scratch/indikar_root/indikar1/shared_data/sc_HSC/SCANVI/full_data.h5ad\"\n",
    "fdata = an.concat([rdata, qdata], label=\"batch\")\n",
    "fdata.write(fpath)\n",
    "fdata"
   ]
  },
  {
   "cell_type": "markdown",
   "id": "7d20529d-73d4-413f-b246-f7fe226632b6",
   "metadata": {},
   "source": [
    "# Feature Selection"
   ]
  },
  {
   "cell_type": "code",
   "execution_count": null,
   "id": "21b5fed6-e563-4dcd-a190-2a6728e8d70a",
   "metadata": {},
   "outputs": [],
   "source": [
    "n_genes = 5000\n",
    "\n",
    "rdata.raw = rdata\n",
    "sc.pp.highly_variable_genes(\n",
    "    rdata, \n",
    "    n_top_genes=n_genes,\n",
    "    batch_key=\"dataset\", \n",
    "    layer='log_norm',\n",
    ")\n",
    "\n",
    "# actually subset the data\n",
    "rdata = rdata[:, rdata.var['highly_variable']].copy()\n",
    "\n",
    "rdata"
   ]
  },
  {
   "cell_type": "code",
   "execution_count": null,
   "id": "5fef2d16-f6a0-4b92-87a7-86bbdd5eeb12",
   "metadata": {},
   "outputs": [],
   "source": [
    "rdata.X = rdata.X.toarray()\n",
    "rdata"
   ]
  },
  {
   "cell_type": "markdown",
   "id": "14a31321-5f4e-4c9d-95ff-b2e2236aba5f",
   "metadata": {},
   "source": [
    "# Reference Mapping (scANVI)"
   ]
  },
  {
   "cell_type": "code",
   "execution_count": null,
   "id": "abbbdba3-27b1-4a97-8ea4-9a08de4f41d1",
   "metadata": {},
   "outputs": [],
   "source": [
    "scvi.model.SCVI.setup_anndata(\n",
    "    rdata, \n",
    "    batch_key=\"dataset\",\n",
    "    layer=\"counts\",\n",
    "    labels_key='cell_label',\n",
    ")"
   ]
  },
  {
   "cell_type": "code",
   "execution_count": null,
   "id": "8ec6c474-56fb-4c3c-b802-6bcf23269eea",
   "metadata": {},
   "outputs": [],
   "source": [
    "torch.cuda.empty_cache()\n",
    "\n",
    "epochs = 400\n",
    "\n",
    "model = scvi.model.SCVI(\n",
    "    rdata,\n",
    "    use_layer_norm=\"both\",\n",
    "    use_batch_norm=\"none\",\n",
    "    n_latent=12,\n",
    "    encode_covariates=True,\n",
    "    dropout_rate=0.3,\n",
    "    n_layers=2,\n",
    ")\n",
    "\n",
    "start_time = time.time()  # Record the start time\n",
    "\n",
    "model.train(\n",
    "    max_epochs=epochs,\n",
    "    accelerator='gpu',\n",
    "    devices='auto',\n",
    "    enable_model_summary=True,\n",
    "    early_stopping=True,\n",
    "    batch_size=5000,\n",
    ")\n",
    "\n",
    "end_time = time.time()  # Record the end time\n",
    "total_time = end_time - start_time  # Calculate total execution time\n",
    "\n",
    "print(f\"Training completed in {total_time:.2f} seconds\")\n",
    "\n",
    "# Optional: More detailed timing information\n",
    "minutes = int(total_time // 60)\n",
    "seconds = int(total_time % 60)\n",
    "print(f\"Training time: {minutes} minutes {seconds} seconds\")"
   ]
  },
  {
   "cell_type": "code",
   "execution_count": null,
   "id": "f9d51fb7-083d-4a19-98a0-a12c02d124eb",
   "metadata": {},
   "outputs": [],
   "source": [
    "metrics = pd.concat(\n",
    "    model.history.values(), \n",
    "    ignore_index=False,\n",
    "    axis=1\n",
    ")\n",
    "\n",
    "metrics = metrics.reset_index()\n",
    "\n",
    "plt.rcParams['figure.dpi'] = 200\n",
    "plt.rcParams['figure.figsize'] = 3.5, 3.5\n",
    "\n",
    "sns.lineplot(\n",
    "    data=metrics,\n",
    "    x='epoch',\n",
    "    y='train_loss_epoch',\n",
    "    linewidth=1.5,                        \n",
    "    markersize=5\n",
    ")\n",
    "\n",
    "plt.xlabel('Epoch')\n",
    "plt.ylabel('Training Loss')\n",
    "plt.xticks()\n",
    "plt.yticks()\n",
    "plt.grid(True, linestyle='--', alpha=0.5)  # Add a subtle grid\n",
    "\n",
    "sns.despine()\n",
    "\n",
    "plt.tight_layout()  # Adjust layout to prevent clipping\n",
    "plt.show()"
   ]
  },
  {
   "cell_type": "markdown",
   "id": "3cdcdedd-1579-41e2-9e87-62eb0ba37343",
   "metadata": {},
   "source": [
    "# SCVI Latent Space"
   ]
  },
  {
   "cell_type": "code",
   "execution_count": null,
   "id": "a52c0e49-a5ec-477a-af1a-2ef5f2ede003",
   "metadata": {},
   "outputs": [],
   "source": [
    "SCVI_LATENT_KEY = \"X_scVI\"\n",
    "rdata.obsm[SCVI_LATENT_KEY] = model.get_latent_representation()\n",
    "\n",
    "sc.pp.neighbors(\n",
    "    rdata, \n",
    "    use_rep=SCVI_LATENT_KEY,\n",
    ")\n",
    "\n",
    "sc.tl.leiden(\n",
    "    rdata, \n",
    "    resolution=0.3,\n",
    "    key_added='scvi_clusters',\n",
    ")\n",
    "\n",
    "sc.tl.umap(\n",
    "    rdata,\n",
    "    min_dist=0.25,\n",
    "    method='rapids',\n",
    ")\n",
    "\n",
    "plt.rcParams['figure.dpi'] = 200\n",
    "plt.rcParams['figure.figsize'] = 5, 5\n",
    "\n",
    "sc.pl.umap(\n",
    "    rdata, \n",
    "    color=[\n",
    "        'dataset',\n",
    "        'standard_cell_type',\n",
    "        'scvi_clusters',\n",
    "    ],\n",
    "    ncols=1,\n",
    ")"
   ]
  },
  {
   "cell_type": "code",
   "execution_count": null,
   "id": "fff45191-8a90-4612-839a-025bb6fca358",
   "metadata": {},
   "outputs": [],
   "source": [
    "# break"
   ]
  },
  {
   "cell_type": "markdown",
   "id": "e4b999d7-16c3-46ac-9eb0-df60c8465e44",
   "metadata": {},
   "source": [
    "# SCANVI Model"
   ]
  },
  {
   "cell_type": "code",
   "execution_count": null,
   "id": "4e2c910b-ffb6-482f-b0cb-4ce3cdcefd1b",
   "metadata": {},
   "outputs": [],
   "source": [
    "torch.cuda.empty_cache()\n",
    "\n",
    "# train the scanvi model\n",
    "scanvi_model = scvi.model.SCANVI.from_scvi_model(\n",
    "    model, \n",
    "    unlabeled_category=\"Unknown\",\n",
    ")\n",
    "\n",
    "epochs = 400\n",
    "\n",
    "start_time = time.time()  # Record the start time\n",
    "\n",
    "scanvi_model.train(\n",
    "    max_epochs=epochs,\n",
    "    accelerator='gpu',\n",
    "    devices='auto',\n",
    "    enable_model_summary=True,\n",
    "    early_stopping=True,\n",
    "    batch_size=5000,\n",
    ")\n",
    "\n",
    "end_time = time.time()  # Record the end time\n",
    "total_time = end_time - start_time  # Calculate total execution time\n",
    "\n",
    "print(f\"Training completed in {total_time:.2f} seconds\")\n",
    "\n",
    "# Optional: More detailed timing information\n",
    "minutes = int(total_time // 60)\n",
    "seconds = int(total_time % 60)\n",
    "print(f\"Training time: {minutes} minutes {seconds} seconds\")"
   ]
  },
  {
   "cell_type": "code",
   "execution_count": null,
   "id": "52912331-8549-4e89-98aa-11dd6b3072ae",
   "metadata": {},
   "outputs": [],
   "source": [
    "metrics = pd.concat(\n",
    "    scanvi_model.history.values(), \n",
    "    ignore_index=False,\n",
    "    axis=1\n",
    ")\n",
    "metrics = metrics.reset_index()\n",
    "\n",
    "plt.rcParams['figure.dpi'] = 200\n",
    "plt.rcParams['figure.figsize'] = 3.5, 3.5\n",
    "\n",
    "sns.lineplot(\n",
    "    data=metrics,\n",
    "    x='epoch',\n",
    "    y='train_loss_epoch',\n",
    "    linewidth=1.5,                       \n",
    "    markersize=5\n",
    ")\n",
    "\n",
    "plt.xlabel('Epoch')\n",
    "plt.ylabel('Training Loss')\n",
    "plt.xticks()\n",
    "plt.yticks()\n",
    "plt.grid(True, linestyle='--', alpha=0.5)  # Add a subtle grid\n",
    "\n",
    "sns.despine()\n",
    "\n",
    "plt.tight_layout()  # Adjust layout to prevent clipping\n",
    "plt.show()"
   ]
  },
  {
   "cell_type": "markdown",
   "id": "67906ed3-36b9-48b2-827a-7c31bcdc2634",
   "metadata": {},
   "source": [
    "# Latent Representations (SCANVI)"
   ]
  },
  {
   "cell_type": "code",
   "execution_count": null,
   "id": "bdb40434-66c5-47a6-a9ff-6a15ee3b6166",
   "metadata": {},
   "outputs": [],
   "source": [
    "SCANVI_LATENT_KEY = \"X_scANVI\"\n",
    "\n",
    "rdata.obsm[SCANVI_LATENT_KEY] = scanvi_model.get_latent_representation()\n",
    "\n",
    "sc.pp.neighbors(\n",
    "    rdata, \n",
    "    use_rep=SCANVI_LATENT_KEY,\n",
    ")\n",
    "\n",
    "sc.tl.leiden(\n",
    "    rdata, \n",
    "    resolution=0.3,\n",
    "    key_added='scanvi_clusters',\n",
    ")\n",
    "\n",
    "sc.tl.umap(\n",
    "    rdata,\n",
    "    min_dist=0.25,\n",
    "    method='rapids',\n",
    ")\n",
    "\n",
    "plt.rcParams['figure.dpi'] = 200\n",
    "plt.rcParams['figure.figsize'] = 5, 5\n",
    "\n",
    "sc.pl.umap(\n",
    "    rdata, \n",
    "    color=[\n",
    "        'dataset',\n",
    "        'standard_cell_type',\n",
    "        'scanvi_clusters',\n",
    "    ],\n",
    "    ncols=1,\n",
    ")"
   ]
  },
  {
   "cell_type": "code",
   "execution_count": null,
   "id": "33e09b38-45c2-4bce-bac9-90014de38e1d",
   "metadata": {},
   "outputs": [],
   "source": [
    "rdata.layers['SCANVI_counts'] = scanvi_model.get_normalized_expression(return_mean=False)\n",
    "rdata"
   ]
  },
  {
   "cell_type": "markdown",
   "id": "550cab72-6499-4251-a33a-afb0e28fe04e",
   "metadata": {},
   "source": [
    "# Save the model (SCANVI only)"
   ]
  },
  {
   "cell_type": "code",
   "execution_count": null,
   "id": "4341beca-5954-42f4-820c-f860f107c2cc",
   "metadata": {},
   "outputs": [],
   "source": [
    "fpath = \"/scratch/indikar_root/indikar1/shared_data/sc_HSC/SCANVI/model/\"\n",
    "scanvi_model.save(\n",
    "    fpath, \n",
    "    overwrite=True, \n",
    "    save_anndata=True,\n",
    "    prefix='reference_'\n",
    ") \n",
    "print('done')"
   ]
  },
  {
   "cell_type": "markdown",
   "id": "99bd1d1a-dcc5-45aa-b594-95c27137eae6",
   "metadata": {},
   "source": [
    "# Benchmarking"
   ]
  },
  {
   "cell_type": "code",
   "execution_count": null,
   "id": "e5fa318f-62d6-4a27-96aa-47b49503a869",
   "metadata": {},
   "outputs": [],
   "source": [
    "from scib_metrics.benchmark import Benchmarker\n",
    "\n",
    "torch.cuda.empty_cache()\n",
    "\n",
    "bm = Benchmarker(\n",
    "    rdata,\n",
    "    batch_key=\"dataset\",\n",
    "    label_key=\"cell_label\",\n",
    "    embedding_obsm_keys=['X_pca', SCVI_LATENT_KEY, SCANVI_LATENT_KEY],\n",
    ")\n",
    "\n",
    "bm.benchmark()\n",
    "\n",
    "bm.plot_results_table(min_max_scale=False)"
   ]
  },
  {
   "cell_type": "code",
   "execution_count": null,
   "id": "bb29a893-5bd4-4b26-a66a-b9811ccc421b",
   "metadata": {},
   "outputs": [],
   "source": [
    "fpath = \"/scratch/indikar_root/indikar1/shared_data/sc_HSC/SCANVI/benchmarks.csv\"\n",
    "bmdf = bm.get_results(min_max_scale=False)\n",
    "bmdf = bmdf.reset_index(drop=False,)\n",
    "bmdf.to_csv(fpath, index=False,)\n",
    "bmdf.head()"
   ]
  },
  {
   "cell_type": "markdown",
   "id": "dabda7ca-6302-4a0f-98e0-95a09a5c2b07",
   "metadata": {},
   "source": [
    "# Query mapping (SCANVI)"
   ]
  },
  {
   "cell_type": "code",
   "execution_count": null,
   "id": "f021c3d1-af59-4b43-8fb7-fde2477bb057",
   "metadata": {},
   "outputs": [],
   "source": [
    "scvi.model.SCANVI.prepare_query_anndata(\n",
    "    qdata, \n",
    "    scanvi_model,\n",
    ")\n",
    "\n",
    "scanvi_query = scvi.model.SCANVI.load_query_data(\n",
    "    qdata, \n",
    "    scanvi_model,\n",
    ")\n",
    "\n",
    "print('Done!')\n",
    "\n",
    "torch.cuda.empty_cache()\n",
    "\n",
    "epochs = 15\n",
    "\n",
    "SCANVI_PREDICTIONS_KEY = \"predictions_scanvi\"\n",
    "\n",
    "scanvi_query.train(\n",
    "    max_epochs=epochs, \n",
    "    plan_kwargs={\"weight_decay\": 0.01},\n",
    ")\n",
    "\n",
    "qdata.obsm[SCANVI_LATENT_KEY] = scanvi_query.get_latent_representation()\n",
    "qdata.layers['SCANVI_counts'] = scanvi_query.get_normalized_expression(return_mean=False)\n",
    "qdata.obs[SCANVI_PREDICTIONS_KEY] = scanvi_query.predict()\n",
    "\n",
    "qdata"
   ]
  },
  {
   "cell_type": "code",
   "execution_count": null,
   "id": "b09d0357-f274-4405-b5b3-5d32bb6f91f4",
   "metadata": {},
   "outputs": [],
   "source": [
    "\"\"\"ADD SCVI LATENT SPACE AS WELL\"\"\"\n",
    "\n",
    "scvi.model.SCVI.prepare_query_anndata(\n",
    "    qdata, \n",
    "    model,\n",
    ")\n",
    "\n",
    "scvi_query = scvi.model.SCVI.load_query_data(\n",
    "    qdata, \n",
    "    model,\n",
    ")\n",
    "\n",
    "epochs = 15\n",
    "\n",
    "scvi_query.train(\n",
    "    max_epochs=epochs, \n",
    "    plan_kwargs={\"weight_decay\": 0.01},\n",
    ")\n",
    "\n",
    "qdata.obsm[SCVI_LATENT_KEY] = scvi_query.get_latent_representation()\n",
    "qdata"
   ]
  },
  {
   "cell_type": "markdown",
   "id": "c5a33f63-1a8c-4fac-b762-e956cc670a05",
   "metadata": {},
   "source": [
    "# Store Query Model (SCANVI only)"
   ]
  },
  {
   "cell_type": "code",
   "execution_count": null,
   "id": "70e12a80-c1de-419c-9a70-039e7d3c8347",
   "metadata": {},
   "outputs": [],
   "source": [
    "fpath = \"/scratch/indikar_root/indikar1/shared_data/sc_HSC/SCANVI/model/\"\n",
    "scanvi_query.save(\n",
    "    fpath, \n",
    "    overwrite=True, \n",
    "    save_anndata=True,\n",
    "    prefix='query_'\n",
    ") \n",
    "print('done')"
   ]
  },
  {
   "cell_type": "markdown",
   "id": "2eda1708-4e2d-4af7-82b2-6765e241648d",
   "metadata": {},
   "source": [
    "# Predicted Probability"
   ]
  },
  {
   "cell_type": "code",
   "execution_count": null,
   "id": "10d57c56-fab0-4971-ab59-afe68bd4db00",
   "metadata": {},
   "outputs": [],
   "source": [
    "pred_proba = scanvi_query.predict(soft=True)\n",
    "pred_proba.head()"
   ]
  },
  {
   "cell_type": "code",
   "execution_count": null,
   "id": "ce1cda28-5b92-4f91-95c0-3526fd948f16",
   "metadata": {},
   "outputs": [],
   "source": [
    "sns.histplot(\n",
    "    data=pred_proba,\n",
    "    x='HSC',\n",
    "    log_scale=True,\n",
    "    bins=31,\n",
    ")"
   ]
  },
  {
   "cell_type": "code",
   "execution_count": null,
   "id": "0e7c722b-6087-46ef-a501-4039e4cd5b27",
   "metadata": {},
   "outputs": [],
   "source": [
    "preds = scanvi_query.predict()\n",
    "pd.value_counts(preds)"
   ]
  },
  {
   "cell_type": "markdown",
   "id": "ee5d16e9-9a0c-456d-93e7-ae529f55ba3f",
   "metadata": {},
   "source": [
    "# Store predictions"
   ]
  },
  {
   "cell_type": "code",
   "execution_count": null,
   "id": "5f4c90e0-6d93-44ec-99cf-3f815d9a4552",
   "metadata": {},
   "outputs": [],
   "source": [
    "fpath = \"/scratch/indikar_root/indikar1/shared_data/sc_HSC/SCANVI/ihsc_predictions.csv\"\n",
    "df = pred_proba.copy()\n",
    "df = df.astype(float)\n",
    "df['prediction'] = df.idxmax(axis=1)\n",
    "df = df.reset_index(drop=False, names='cell_id')\n",
    "\n",
    "df.to_csv(fpath, index=False,)\n",
    "\n",
    "df.head()"
   ]
  },
  {
   "cell_type": "markdown",
   "id": "cc285e00-e7c5-48e7-b57c-e5b1e593ef8a",
   "metadata": {},
   "source": [
    "# Integrate"
   ]
  },
  {
   "cell_type": "code",
   "execution_count": null,
   "id": "035061a2-da2d-48b7-8335-80dead235d0f",
   "metadata": {},
   "outputs": [],
   "source": [
    "fdata = an.concat([rdata, qdata], label=\"batch\")\n",
    "fdata"
   ]
  },
  {
   "cell_type": "code",
   "execution_count": null,
   "id": "1544e2b5-5709-42cc-8793-0055980f9d0c",
   "metadata": {},
   "outputs": [],
   "source": [
    "sc.pp.neighbors(\n",
    "    fdata, \n",
    "    use_rep=SCANVI_LATENT_KEY,\n",
    ")\n",
    "\n",
    "sc.tl.umap(\n",
    "    fdata,\n",
    "    min_dist=0.25,\n",
    "    method='rapids',\n",
    ")\n",
    "\n",
    "plt.rcParams['figure.dpi'] = 200\n",
    "plt.rcParams['figure.figsize'] = 5, 5\n",
    "\n",
    "sc.pl.umap(\n",
    "    fdata, \n",
    "    color=[\n",
    "        'dataset',\n",
    "        'standard_cell_type',\n",
    "        'batch',\n",
    "    ],\n",
    "    ncols=1,\n",
    ")"
   ]
  },
  {
   "cell_type": "markdown",
   "id": "d5548567-e017-4973-846a-3dacc0bf50cb",
   "metadata": {},
   "source": [
    "# Store ADATA"
   ]
  },
  {
   "cell_type": "code",
   "execution_count": null,
   "id": "d45b7be1-a1fd-4401-b09d-0603a6b1a748",
   "metadata": {},
   "outputs": [],
   "source": [
    "fpath = \"/scratch/indikar_root/indikar1/shared_data/sc_HSC/SCANVI/imputed_data.h5ad\"\n",
    "fdata.write(fpath)\n",
    "fdata"
   ]
  },
  {
   "cell_type": "code",
   "execution_count": null,
   "id": "1262d537-4cf5-4ba3-90a2-60f5e9489c7d",
   "metadata": {},
   "outputs": [],
   "source": []
  },
  {
   "cell_type": "code",
   "execution_count": null,
   "id": "0ce0d1da-ed30-4704-8b68-617444328739",
   "metadata": {},
   "outputs": [],
   "source": []
  }
 ],
 "metadata": {
  "kernelspec": {
   "display_name": "scanpy",
   "language": "python",
   "name": "scanpy"
  },
  "language_info": {
   "codemirror_mode": {
    "name": "ipython",
    "version": 3
   },
   "file_extension": ".py",
   "mimetype": "text/x-python",
   "name": "python",
   "nbconvert_exporter": "python",
   "pygments_lexer": "ipython3",
   "version": "3.12.5"
  }
 },
 "nbformat": 4,
 "nbformat_minor": 5
}
