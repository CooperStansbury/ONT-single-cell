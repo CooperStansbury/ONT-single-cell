{
 "cells": [
  {
   "cell_type": "code",
   "execution_count": 1,
   "id": "4b283d51-4a8b-4033-bb52-db0b6ad3645d",
   "metadata": {},
   "outputs": [],
   "source": [
    "import sys\n",
    "import pandas as pd\n",
    "import numpy as np\n",
    "import matplotlib.pyplot as plt\n",
    "import seaborn as sns \n",
    "from scipy.spatial import ConvexHull\n",
    "import scanpy.external as sce\n",
    "import scanpy as sc\n",
    "import anndata as an\n",
    "import scipy\n",
    "\n",
    "from importlib import reload\n",
    "\n",
    "# locals\n",
    "import utils as ut\n",
    "import plotting as plt2"
   ]
  },
  {
   "cell_type": "code",
   "execution_count": 2,
   "id": "f5484e1b-a494-45e3-af71-08c74a3e8bf9",
   "metadata": {},
   "outputs": [],
   "source": [
    "sc.settings.verbosity = 4"
   ]
  },
  {
   "cell_type": "markdown",
   "id": "baf4a4a0-9378-4c6b-a72c-bfc9c2f3281b",
   "metadata": {},
   "source": [
    "# Load HSC Data"
   ]
  },
  {
   "cell_type": "code",
   "execution_count": 3,
   "id": "be9e1f95-1e0c-4938-b96f-0a7cce1dcb35",
   "metadata": {},
   "outputs": [
    {
     "data": {
      "text/plain": [
       "AnnData object with n_obs × n_vars = 8563 × 15065\n",
       "    obs: 'n_genes', 'doublet_score', 'predicted_doublet', 'n_genes_by_counts', 'total_counts', 'total_counts_mt', 'pct_counts_mt', 'EC_score', 'EB_score', 'FB_score', 'HSC_score', 'MK_score', 'new_cluster', 'cluster_str'\n",
       "    var: 'gene_name', 'Chromosome', 'Start', 'End', 'Strand', 'n_cells', 'mt', 'n_cells_by_counts', 'mean_counts', 'pct_dropout_by_counts', 'total_counts', 'highly_variable', 'means', 'dispersions', 'dispersions_norm', 'ensembl_id', 'tf', 'bj', 'hsc', 'EC', 'EB', 'FB', 'HSC', 'MK', 'cluster_genes'\n",
       "    uns: 'HSC_vs_FB', 'HSC_vs_FB_pure', 'clusters', 'deg', 'fb_vs_hsc_up', 'go_annotations', 'hsc_v_fib_up', 'hvg', 'log1p', 'neighbors', 'new_cluster', 'new_cluster_colors', 'panglaodb', 'pca', 'scenic_transcription_factors', 'scrublet', 'tabula_sapiens_deg', 'umap', 'v5_tags'\n",
       "    obsm: 'X_pca', 'X_umap'\n",
       "    varm: 'PCs'\n",
       "    layers: 'filtered_counts', 'raw_counts'\n",
       "    obsp: 'connectivities', 'distances'"
      ]
     },
     "execution_count": 3,
     "metadata": {},
     "output_type": "execute_result"
    }
   ],
   "source": [
    "fpath = \"/scratch/indikar_root/indikar1/cstansbu/HSC/scanpy/analysis.anndata.h5ad\"\n",
    "\n",
    "adata = sc.read_h5ad(fpath)\n",
    "adata.var_names = adata.var['gene_name'].values\n",
    "adata"
   ]
  },
  {
   "cell_type": "markdown",
   "id": "b2ec7dbc-5b7f-4372-b20b-7ffa4a859ed2",
   "metadata": {},
   "source": [
    "# include QC Data"
   ]
  },
  {
   "cell_type": "code",
   "execution_count": 4,
   "id": "a4f3179d-3c5e-4428-bc0b-8ec6765fff91",
   "metadata": {},
   "outputs": [
    {
     "name": "stdout",
     "output_type": "stream",
     "text": [
      "adata.obs.shape=(8563, 14) codes.shape=(8563, 11)\n"
     ]
    },
    {
     "data": {
      "text/html": [
       "<div>\n",
       "<style scoped>\n",
       "    .dataframe tbody tr th:only-of-type {\n",
       "        vertical-align: middle;\n",
       "    }\n",
       "\n",
       "    .dataframe tbody tr th {\n",
       "        vertical-align: top;\n",
       "    }\n",
       "\n",
       "    .dataframe thead th {\n",
       "        text-align: right;\n",
       "    }\n",
       "</style>\n",
       "<table border=\"1\" class=\"dataframe\">\n",
       "  <thead>\n",
       "    <tr style=\"text-align: right;\">\n",
       "      <th></th>\n",
       "      <th>cell_id</th>\n",
       "      <th>n_genes</th>\n",
       "      <th>doublet_score</th>\n",
       "      <th>predicted_doublet</th>\n",
       "      <th>n_genes_by_counts</th>\n",
       "      <th>total_counts</th>\n",
       "      <th>total_counts_mt</th>\n",
       "      <th>pct_counts_mt</th>\n",
       "      <th>EC_score</th>\n",
       "      <th>EB_score</th>\n",
       "      <th>...</th>\n",
       "      <th>predicted_doublet_QC</th>\n",
       "      <th>cluster_str_QC</th>\n",
       "      <th>candidate_QC</th>\n",
       "      <th>CD34_QC</th>\n",
       "      <th>GATA2_QC</th>\n",
       "      <th>GFI1B_QC</th>\n",
       "      <th>FOS_QC</th>\n",
       "      <th>STAT5A_QC</th>\n",
       "      <th>REL_QC</th>\n",
       "      <th>OG_cluster_QC</th>\n",
       "    </tr>\n",
       "    <tr>\n",
       "      <th>cell_id</th>\n",
       "      <th></th>\n",
       "      <th></th>\n",
       "      <th></th>\n",
       "      <th></th>\n",
       "      <th></th>\n",
       "      <th></th>\n",
       "      <th></th>\n",
       "      <th></th>\n",
       "      <th></th>\n",
       "      <th></th>\n",
       "      <th></th>\n",
       "      <th></th>\n",
       "      <th></th>\n",
       "      <th></th>\n",
       "      <th></th>\n",
       "      <th></th>\n",
       "      <th></th>\n",
       "      <th></th>\n",
       "      <th></th>\n",
       "      <th></th>\n",
       "      <th></th>\n",
       "    </tr>\n",
       "  </thead>\n",
       "  <tbody>\n",
       "    <tr>\n",
       "      <th>AAACCCAAGGTTACCT</th>\n",
       "      <td>AAACCCAAGGTTACCT</td>\n",
       "      <td>2352</td>\n",
       "      <td>0.159948</td>\n",
       "      <td>False</td>\n",
       "      <td>2352</td>\n",
       "      <td>6558</td>\n",
       "      <td>0</td>\n",
       "      <td>0.0</td>\n",
       "      <td>-0.117695</td>\n",
       "      <td>1.107518</td>\n",
       "      <td>...</td>\n",
       "      <td>False</td>\n",
       "      <td>C1</td>\n",
       "      <td>False</td>\n",
       "      <td>True</td>\n",
       "      <td>True</td>\n",
       "      <td>True</td>\n",
       "      <td>False</td>\n",
       "      <td>True</td>\n",
       "      <td>False</td>\n",
       "      <td>C1</td>\n",
       "    </tr>\n",
       "    <tr>\n",
       "      <th>AAACCCAAGTTGAAGT</th>\n",
       "      <td>AAACCCAAGTTGAAGT</td>\n",
       "      <td>2324</td>\n",
       "      <td>0.046595</td>\n",
       "      <td>False</td>\n",
       "      <td>2324</td>\n",
       "      <td>5488</td>\n",
       "      <td>0</td>\n",
       "      <td>0.0</td>\n",
       "      <td>-1.490416</td>\n",
       "      <td>-0.212043</td>\n",
       "      <td>...</td>\n",
       "      <td>False</td>\n",
       "      <td>C1</td>\n",
       "      <td>False</td>\n",
       "      <td>False</td>\n",
       "      <td>False</td>\n",
       "      <td>False</td>\n",
       "      <td>False</td>\n",
       "      <td>False</td>\n",
       "      <td>False</td>\n",
       "      <td>C1</td>\n",
       "    </tr>\n",
       "    <tr>\n",
       "      <th>AAACCCAAGTTGTCGT</th>\n",
       "      <td>AAACCCAAGTTGTCGT</td>\n",
       "      <td>1676</td>\n",
       "      <td>0.056037</td>\n",
       "      <td>False</td>\n",
       "      <td>1676</td>\n",
       "      <td>4330</td>\n",
       "      <td>0</td>\n",
       "      <td>0.0</td>\n",
       "      <td>0.662667</td>\n",
       "      <td>-0.494800</td>\n",
       "      <td>...</td>\n",
       "      <td>False</td>\n",
       "      <td>C4</td>\n",
       "      <td>False</td>\n",
       "      <td>False</td>\n",
       "      <td>True</td>\n",
       "      <td>False</td>\n",
       "      <td>False</td>\n",
       "      <td>False</td>\n",
       "      <td>False</td>\n",
       "      <td>C4</td>\n",
       "    </tr>\n",
       "    <tr>\n",
       "      <th>AAACCCACAGAAGCGT</th>\n",
       "      <td>AAACCCACAGAAGCGT</td>\n",
       "      <td>1601</td>\n",
       "      <td>0.027108</td>\n",
       "      <td>False</td>\n",
       "      <td>1600</td>\n",
       "      <td>3442</td>\n",
       "      <td>0</td>\n",
       "      <td>0.0</td>\n",
       "      <td>-0.356942</td>\n",
       "      <td>2.013557</td>\n",
       "      <td>...</td>\n",
       "      <td>False</td>\n",
       "      <td>C2</td>\n",
       "      <td>False</td>\n",
       "      <td>True</td>\n",
       "      <td>False</td>\n",
       "      <td>True</td>\n",
       "      <td>False</td>\n",
       "      <td>False</td>\n",
       "      <td>False</td>\n",
       "      <td>C2</td>\n",
       "    </tr>\n",
       "    <tr>\n",
       "      <th>AAACCCACAGGAGGTT</th>\n",
       "      <td>AAACCCACAGGAGGTT</td>\n",
       "      <td>3604</td>\n",
       "      <td>0.118063</td>\n",
       "      <td>False</td>\n",
       "      <td>3604</td>\n",
       "      <td>14427</td>\n",
       "      <td>0</td>\n",
       "      <td>0.0</td>\n",
       "      <td>0.334405</td>\n",
       "      <td>-0.505029</td>\n",
       "      <td>...</td>\n",
       "      <td>False</td>\n",
       "      <td>C1</td>\n",
       "      <td>False</td>\n",
       "      <td>True</td>\n",
       "      <td>True</td>\n",
       "      <td>False</td>\n",
       "      <td>False</td>\n",
       "      <td>False</td>\n",
       "      <td>False</td>\n",
       "      <td>C1</td>\n",
       "    </tr>\n",
       "  </tbody>\n",
       "</table>\n",
       "<p>5 rows × 25 columns</p>\n",
       "</div>"
      ],
      "text/plain": [
       "                           cell_id  n_genes  doublet_score  predicted_doublet  \\\n",
       "cell_id                                                                         \n",
       "AAACCCAAGGTTACCT  AAACCCAAGGTTACCT     2352       0.159948              False   \n",
       "AAACCCAAGTTGAAGT  AAACCCAAGTTGAAGT     2324       0.046595              False   \n",
       "AAACCCAAGTTGTCGT  AAACCCAAGTTGTCGT     1676       0.056037              False   \n",
       "AAACCCACAGAAGCGT  AAACCCACAGAAGCGT     1601       0.027108              False   \n",
       "AAACCCACAGGAGGTT  AAACCCACAGGAGGTT     3604       0.118063              False   \n",
       "\n",
       "                  n_genes_by_counts  total_counts  total_counts_mt  \\\n",
       "cell_id                                                              \n",
       "AAACCCAAGGTTACCT               2352          6558                0   \n",
       "AAACCCAAGTTGAAGT               2324          5488                0   \n",
       "AAACCCAAGTTGTCGT               1676          4330                0   \n",
       "AAACCCACAGAAGCGT               1600          3442                0   \n",
       "AAACCCACAGGAGGTT               3604         14427                0   \n",
       "\n",
       "                  pct_counts_mt  EC_score  EB_score  ...  \\\n",
       "cell_id                                              ...   \n",
       "AAACCCAAGGTTACCT            0.0 -0.117695  1.107518  ...   \n",
       "AAACCCAAGTTGAAGT            0.0 -1.490416 -0.212043  ...   \n",
       "AAACCCAAGTTGTCGT            0.0  0.662667 -0.494800  ...   \n",
       "AAACCCACAGAAGCGT            0.0 -0.356942  2.013557  ...   \n",
       "AAACCCACAGGAGGTT            0.0  0.334405 -0.505029  ...   \n",
       "\n",
       "                  predicted_doublet_QC  cluster_str_QC  candidate_QC CD34_QC  \\\n",
       "cell_id                                                                        \n",
       "AAACCCAAGGTTACCT                 False              C1         False    True   \n",
       "AAACCCAAGTTGAAGT                 False              C1         False   False   \n",
       "AAACCCAAGTTGTCGT                 False              C4         False   False   \n",
       "AAACCCACAGAAGCGT                 False              C2         False    True   \n",
       "AAACCCACAGGAGGTT                 False              C1         False    True   \n",
       "\n",
       "                 GATA2_QC  GFI1B_QC FOS_QC  STAT5A_QC  REL_QC  OG_cluster_QC  \n",
       "cell_id                                                                       \n",
       "AAACCCAAGGTTACCT     True      True  False       True   False             C1  \n",
       "AAACCCAAGTTGAAGT    False     False  False      False   False             C1  \n",
       "AAACCCAAGTTGTCGT     True     False  False      False   False             C4  \n",
       "AAACCCACAGAAGCGT    False      True  False      False   False             C2  \n",
       "AAACCCACAGGAGGTT     True     False  False      False   False             C1  \n",
       "\n",
       "[5 rows x 25 columns]"
      ]
     },
     "execution_count": 4,
     "metadata": {},
     "output_type": "execute_result"
    }
   ],
   "source": [
    "fpath = \"../resources/qc_barcodes.csv\"\n",
    "codes = pd.read_csv(fpath)\n",
    "codes['OG_cluster'] = codes['cluster_str']\n",
    "\n",
    "# Column to exclude from suffixing\n",
    "exclude_column = 'cell_id'\n",
    "\n",
    "# Suffix to add\n",
    "suffix = '_QC'\n",
    "\n",
    "# Create new column names with suffixes\n",
    "new_columns = [col + suffix if col != exclude_column else col for col in codes.columns]\n",
    "\n",
    "# Rename columns in the DataFrame\n",
    "codes.columns = new_columns\n",
    "\n",
    "print(f\"{adata.obs.shape=} {codes.shape=}\")\n",
    "\n",
    "\n",
    "index = adata.obs_names.copy()\n",
    "\n",
    "adata.obs = pd.merge(\n",
    "    adata.obs, \n",
    "    codes,\n",
    "    how='left',\n",
    "    left_on='cell_id',\n",
    "    right_on='cell_id',\n",
    ")\n",
    "\n",
    "adata.obs['OG_cluster_QC'] = adata.obs['OG_cluster_QC'].fillna('HSC')\n",
    "adata.obs =  adata.obs.set_index(index)\n",
    "\n",
    "adata.obs.head()"
   ]
  },
  {
   "cell_type": "markdown",
   "id": "6be4774e-5c71-448f-bae3-9fbce115dabb",
   "metadata": {},
   "source": [
    "# Load BJ Fib Data"
   ]
  },
  {
   "cell_type": "code",
   "execution_count": 5,
   "id": "eb31dcc6-2b9d-45a1-8f6e-f554d62037a1",
   "metadata": {},
   "outputs": [
    {
     "data": {
      "text/plain": [
       "AnnData object with n_obs × n_vars = 18 × 19393\n",
       "    obs: 'dataset', 'sample_id', 'timepoint', 'hour', 'n_counts', 'control'\n",
       "    var: 'gene_id', 'token_id', 'Chromosome', 'Source', 'Feature', 'Start', 'End', 'Score', 'Strand', 'Frame', 'gene_version', 'gene_source', 'gene_biotype', 'transcript_id', 'transcript_version', 'transcript_name', 'transcript_source', 'transcript_biotype', 'tag', 'ccds_id', 'exon_number', 'exon_id', 'exon_version', 'protein_id', 'protein_version', 'transcript_support_level', 'ensembl_id'\n",
       "    layers: 'raw_counts'"
      ]
     },
     "execution_count": 5,
     "metadata": {},
     "output_type": "execute_result"
    }
   ],
   "source": [
    "fpath = \"/nfs/turbo/umms-indikar/shared/projects/geneformer/data/rajapakse_lab_data.h5ad\"\n",
    "\n",
    "bjdata = sc.read_h5ad(fpath)\n",
    "bjdata = bjdata[bjdata.obs['dataset'] == 'chen_2015', :].copy()\n",
    "bjdata.layers['raw_counts'] = bjdata.X.copy()\n",
    "bjdata"
   ]
  },
  {
   "cell_type": "markdown",
   "id": "7fb78717-9780-4805-b785-6f4e611c2956",
   "metadata": {},
   "source": [
    "# Renormalize"
   ]
  },
  {
   "cell_type": "code",
   "execution_count": 6,
   "id": "d0aaecae-088f-4de5-9fd1-e29e8e6d7c0e",
   "metadata": {},
   "outputs": [
    {
     "name": "stdout",
     "output_type": "stream",
     "text": [
      "normalizing counts per cell\n",
      "    finished (0:00:00)\n",
      "normalizing counts per cell\n",
      "    finished (0:00:01)\n"
     ]
    },
    {
     "data": {
      "text/plain": [
       "AnnData object with n_obs × n_vars = 8563 × 15065\n",
       "    obs: 'cell_id', 'n_genes', 'doublet_score', 'predicted_doublet', 'n_genes_by_counts', 'total_counts', 'total_counts_mt', 'pct_counts_mt', 'EC_score', 'EB_score', 'FB_score', 'HSC_score', 'MK_score', 'new_cluster', 'cluster_str', 'predicted_doublet_QC', 'cluster_str_QC', 'candidate_QC', 'CD34_QC', 'GATA2_QC', 'GFI1B_QC', 'FOS_QC', 'STAT5A_QC', 'REL_QC', 'OG_cluster_QC'\n",
       "    var: 'gene_name', 'Chromosome', 'Start', 'End', 'Strand', 'n_cells', 'mt', 'n_cells_by_counts', 'mean_counts', 'pct_dropout_by_counts', 'total_counts', 'highly_variable', 'means', 'dispersions', 'dispersions_norm', 'ensembl_id', 'tf', 'bj', 'hsc', 'EC', 'EB', 'FB', 'HSC', 'MK', 'cluster_genes'\n",
       "    uns: 'HSC_vs_FB', 'HSC_vs_FB_pure', 'clusters', 'deg', 'fb_vs_hsc_up', 'go_annotations', 'hsc_v_fib_up', 'hvg', 'log1p', 'neighbors', 'new_cluster', 'new_cluster_colors', 'panglaodb', 'pca', 'scenic_transcription_factors', 'scrublet', 'tabula_sapiens_deg', 'umap', 'v5_tags'\n",
       "    obsm: 'X_pca', 'X_umap'\n",
       "    varm: 'PCs'\n",
       "    layers: 'filtered_counts', 'raw_counts', 'sqrt_norm'\n",
       "    obsp: 'connectivities', 'distances'"
      ]
     },
     "execution_count": 6,
     "metadata": {},
     "output_type": "execute_result"
    }
   ],
   "source": [
    "def renormalize(adata):\n",
    "    \"\"\"Renormalizes an AnnData object by:\n",
    "\n",
    "    1. Copying the existing 'X' matrix to a new layer called 'combat'.\n",
    "    2. Replacing 'X' with the raw counts from 'raw_counts'.\n",
    "    3. Filtering out genes expressed in only a single cell.\n",
    "    4. Creating a new layer 'sqrt_norm' containing the square root of normalized counts.\n",
    "\n",
    "    Args:\n",
    "        adata: The AnnData object to renormalize.\n",
    "\n",
    "    Returns:\n",
    "       \n",
    "       The renormalized AnnData object.\n",
    "    \"\"\"\n",
    "    adata.X = adata.layers['raw_counts'].copy()\n",
    "    adata.layers[\"sqrt_norm\"] = np.sqrt(\n",
    "        sc.pp.normalize_total(adata, inplace=False)[\"X\"]\n",
    "    )\n",
    "    return adata\n",
    "\n",
    "\n",
    "bjdata = renormalize(bjdata)\n",
    "adata = renormalize(adata)\n",
    "\n",
    "adata"
   ]
  },
  {
   "cell_type": "code",
   "execution_count": 7,
   "id": "ba5bb1a9-5b7a-439a-b939-9e6b233fcc10",
   "metadata": {},
   "outputs": [
    {
     "data": {
      "text/plain": [
       "AnnData object with n_obs × n_vars = 18 × 19393\n",
       "    obs: 'dataset', 'sample_id', 'timepoint', 'hour', 'n_counts', 'control'\n",
       "    var: 'gene_id', 'token_id', 'Chromosome', 'Source', 'Feature', 'Start', 'End', 'Score', 'Strand', 'Frame', 'gene_version', 'gene_source', 'gene_biotype', 'transcript_id', 'transcript_version', 'transcript_name', 'transcript_source', 'transcript_biotype', 'tag', 'ccds_id', 'exon_number', 'exon_id', 'exon_version', 'protein_id', 'protein_version', 'transcript_support_level', 'ensembl_id'\n",
       "    layers: 'raw_counts', 'sqrt_norm'"
      ]
     },
     "execution_count": 7,
     "metadata": {},
     "output_type": "execute_result"
    }
   ],
   "source": [
    "bjdata"
   ]
  },
  {
   "cell_type": "markdown",
   "id": "ce30d8a4-b2d8-4c5c-9b6d-65337d64aed5",
   "metadata": {},
   "source": [
    "# Join"
   ]
  },
  {
   "cell_type": "code",
   "execution_count": 8,
   "id": "abe3fa04-09e1-45b5-b2da-1dbdd023fef1",
   "metadata": {},
   "outputs": [
    {
     "name": "stdout",
     "output_type": "stream",
     "text": [
      "Standardizing Data across genes.\n",
      "\n",
      "Found 2 batches\n",
      "\n",
      "Found 0 numerical variables:\n",
      "\t\n",
      "\n",
      "Fitting L/S model and finding priors\n",
      "\n",
      "Finding parametric adjustments\n",
      "\n"
     ]
    },
    {
     "name": "stderr",
     "output_type": "stream",
     "text": [
      "/home/cstansbu/miniconda3/envs/scanpy/lib/python3.12/site-packages/scanpy/preprocessing/_combat.py:352: RuntimeWarning: divide by zero encountered in divide\n",
      "  (abs(g_new - g_old) / g_old).max(), (abs(d_new - d_old) / d_old).max()\n"
     ]
    },
    {
     "name": "stdout",
     "output_type": "stream",
     "text": [
      "Adjusting data\n",
      "\n",
      "regressing out dataset\n",
      "    ... regressing on per-gene means within categories\n",
      "    finished (0:02:57)\n",
      "filtered out 1293 genes that are detected in less than 20 cells\n"
     ]
    },
    {
     "data": {
      "text/plain": [
       "AnnData object with n_obs × n_vars = 8581 × 13772\n",
       "    obs: 'dataset', 'hour', 'cell_id', 'candidate_QC', 'OG_cluster_QC'\n",
       "    var: 'n_cells'\n",
       "    uns: 'HSC_vs_FB', 'HSC_vs_FB_pure', 'clusters', 'deg', 'fb_vs_hsc_up', 'go_annotations', 'hsc_v_fib_up', 'hvg', 'log1p', 'neighbors', 'new_cluster', 'new_cluster_colors', 'panglaodb', 'pca', 'scenic_transcription_factors', 'scrublet', 'tabula_sapiens_deg', 'umap', 'v5_tags'\n",
       "    layers: 'raw_counts', 'sqrt_norm', 'combat'"
      ]
     },
     "execution_count": 8,
     "metadata": {},
     "output_type": "execute_result"
    }
   ],
   "source": [
    "# construct metadata columns\n",
    "adata.obs['dataset'] = 'iHSC'\n",
    "adata.obs['hour'] = 0.0\n",
    "\n",
    "bjdata.obs['cell_id'] = bjdata.obs['sample_id']\n",
    "bjdata.obs['candidate_QC'] = False\n",
    "bjdata.obs['OG_cluster_QC'] = 'BJ'\n",
    "\n",
    "bjdata.var['gene_name'] = bjdata.var.index.copy()\n",
    "\n",
    "\n",
    "\n",
    "\n",
    "# rejoin the normalized counts\n",
    "hdf = an.concat(\n",
    "    [bjdata, adata],\n",
    "    fill_value=0.0,\n",
    "    join='inner', # switch to \"outer\" if we want genes not expressed in both datasets\n",
    ")\n",
    "\n",
    "hdf.uns = adata.uns.copy()\n",
    "\n",
    "hdf.layers['combat'] = sc.pp.combat(hdf, key='dataset', inplace=False)\n",
    "sc.pp.regress_out(hdf, keys='dataset')\n",
    "\n",
    "sc.pp.filter_genes(hdf, min_cells=20) # at least a few cells in our dataset + all timepoints from bulk \n",
    "\n",
    "hdf"
   ]
  },
  {
   "cell_type": "markdown",
   "id": "a6e7509c-7ee2-4c29-9967-5fdb7bdec843",
   "metadata": {},
   "source": [
    "# Some joint embeddings"
   ]
  },
  {
   "cell_type": "code",
   "execution_count": 9,
   "id": "9020afa7-1ad9-480d-8dd6-8873c8467f29",
   "metadata": {},
   "outputs": [],
   "source": [
    "# # PCA Analysis\n",
    "# print(\"Performing PCA dimensionality reduction...\")\n",
    "# sc.pp.pca(\n",
    "#     hdf, \n",
    "#     n_comps=50, \n",
    "#     mask_var=None\n",
    "# )\n",
    "\n",
    "# plt.rcParams['figure.dpi'] = 100\n",
    "# plt.rcParams['figure.figsize'] = 5, 3\n",
    "# sc.pl.pca_variance_ratio(\n",
    "#     hdf, \n",
    "# )"
   ]
  },
  {
   "cell_type": "markdown",
   "id": "f6b12346-7384-4706-8e1d-89328dc5350a",
   "metadata": {},
   "source": [
    "# plots"
   ]
  },
  {
   "cell_type": "code",
   "execution_count": 10,
   "id": "67da7e40-2456-451b-bf5d-e12064770e9d",
   "metadata": {},
   "outputs": [
    {
     "name": "stdout",
     "output_type": "stream",
     "text": [
      "edf.shape=(8581, 25)\n"
     ]
    },
    {
     "data": {
      "text/plain": [
       "Text(0.5, 0, 'Expression')"
      ]
     },
     "execution_count": 10,
     "metadata": {},
     "output_type": "execute_result"
    },
    {
     "data": {
      "image/png": "[encoded data removed]",
      "text/plain": [
       "<Figure size 900x1000 with 1 Axes>"
      ]
     },
     "metadata": {},
     "output_type": "display_data"
    }
   ],
   "source": [
    "\n",
    "gene_list = [\n",
    "    'CD34', 'GATA2', 'GFI1B',  'FOS', 'STAT5A', 'REL',\n",
    "    'CRHBP', 'HOPX', 'AVP', 'MLLT3',\n",
    "    'FTH1', 'BMP6',  'CDK6', 'ADGRG1', 'ETV6', 'SOX4',\n",
    "    'ABCB1', 'CDCP1', 'PTPRC', 'MEIS1', 'MYADM', 'NFE2', 'APC', 'BMI1', 'FGD5',\n",
    "    # 'MED12L', # 'RPS18', 'RPS4X', 'RPL10', 'RBPMS', 'HLF', 'MECOM', 'FLT3',\n",
    "]\n",
    "gene_list = [x for x in gene_list if x in hdf.var.index]\n",
    "\n",
    "edf = hdf[:, gene_list].to_df(layer='sqrt_norm')\n",
    "\n",
    "edf = ut.drop_zero_sum_columns(edf)\n",
    "print(f\"{edf.shape=}\")\n",
    "\n",
    "edf = edf.reset_index(names='cell_id')\n",
    "edf = pd.melt(edf, id_vars='cell_id')\n",
    "edf['cell_type'] = np.where(edf['cell_id'].str.contains('S'), 'BJ', 'iHSC')\n",
    "\n",
    "plt.rcParams['figure.dpi'] = 200\n",
    "plt.rcParams['figure.figsize'] = 4.5, 5\n",
    "\n",
    "sns.barplot(\n",
    "    data=edf, \n",
    "    y='variable',\n",
    "    x='value',\n",
    "    ec='k',\n",
    "    width=0.75,\n",
    "    hue='cell_type',\n",
    "    palette=[\"#56B4E9\", \"#E69F00\"],\n",
    "    # legend=False,\n",
    ")\n",
    "\n",
    "plt.xscale('log')\n",
    "plt.ylabel(\"\")\n",
    "plt.xlabel(\"Expression\")"
   ]
  },
  {
   "cell_type": "code",
   "execution_count": 11,
   "id": "029ebb83-33c4-4065-b0cf-0281f140a1eb",
   "metadata": {},
   "outputs": [
    {
     "data": {
      "text/html": [
       "<div>\n",
       "<style scoped>\n",
       "    .dataframe tbody tr th:only-of-type {\n",
       "        vertical-align: middle;\n",
       "    }\n",
       "\n",
       "    .dataframe tbody tr th {\n",
       "        vertical-align: top;\n",
       "    }\n",
       "\n",
       "    .dataframe thead th {\n",
       "        text-align: right;\n",
       "    }\n",
       "</style>\n",
       "<table border=\"1\" class=\"dataframe\">\n",
       "  <thead>\n",
       "    <tr style=\"text-align: right;\">\n",
       "      <th></th>\n",
       "      <th>cell_id</th>\n",
       "      <th>variable</th>\n",
       "      <th>value</th>\n",
       "      <th>cell_type</th>\n",
       "    </tr>\n",
       "  </thead>\n",
       "  <tbody>\n",
       "    <tr>\n",
       "      <th>214520</th>\n",
       "      <td>TTTGTTGCAAGAGGTC</td>\n",
       "      <td>FGD5</td>\n",
       "      <td>0.0</td>\n",
       "      <td>iHSC</td>\n",
       "    </tr>\n",
       "    <tr>\n",
       "      <th>214521</th>\n",
       "      <td>TTTGTTGCATGTGGTT</td>\n",
       "      <td>FGD5</td>\n",
       "      <td>0.0</td>\n",
       "      <td>iHSC</td>\n",
       "    </tr>\n",
       "    <tr>\n",
       "      <th>214522</th>\n",
       "      <td>TTTGTTGGTATACCCA</td>\n",
       "      <td>FGD5</td>\n",
       "      <td>0.0</td>\n",
       "      <td>iHSC</td>\n",
       "    </tr>\n",
       "    <tr>\n",
       "      <th>214523</th>\n",
       "      <td>TTTGTTGTCACGTAGT</td>\n",
       "      <td>FGD5</td>\n",
       "      <td>0.0</td>\n",
       "      <td>iHSC</td>\n",
       "    </tr>\n",
       "    <tr>\n",
       "      <th>214524</th>\n",
       "      <td>TTTGTTGTCGATGCTA</td>\n",
       "      <td>FGD5</td>\n",
       "      <td>0.0</td>\n",
       "      <td>iHSC</td>\n",
       "    </tr>\n",
       "  </tbody>\n",
       "</table>\n",
       "</div>"
      ],
      "text/plain": [
       "                 cell_id variable  value cell_type\n",
       "214520  TTTGTTGCAAGAGGTC     FGD5    0.0      iHSC\n",
       "214521  TTTGTTGCATGTGGTT     FGD5    0.0      iHSC\n",
       "214522  TTTGTTGGTATACCCA     FGD5    0.0      iHSC\n",
       "214523  TTTGTTGTCACGTAGT     FGD5    0.0      iHSC\n",
       "214524  TTTGTTGTCGATGCTA     FGD5    0.0      iHSC"
      ]
     },
     "execution_count": 11,
     "metadata": {},
     "output_type": "execute_result"
    }
   ],
   "source": [
    "edf.tail()"
   ]
  },
  {
   "cell_type": "code",
   "execution_count": 12,
   "id": "5c7a9ef2-e46b-45db-889f-39f3bccc5a90",
   "metadata": {},
   "outputs": [
    {
     "data": {
      "text/html": [
       "<div>\n",
       "<style scoped>\n",
       "    .dataframe tbody tr th:only-of-type {\n",
       "        vertical-align: middle;\n",
       "    }\n",
       "\n",
       "    .dataframe tbody tr th {\n",
       "        vertical-align: top;\n",
       "    }\n",
       "\n",
       "    .dataframe thead th {\n",
       "        text-align: right;\n",
       "    }\n",
       "</style>\n",
       "<table border=\"1\" class=\"dataframe\">\n",
       "  <thead>\n",
       "    <tr style=\"text-align: right;\">\n",
       "      <th></th>\n",
       "      <th>n_cells</th>\n",
       "    </tr>\n",
       "  </thead>\n",
       "  <tbody>\n",
       "    <tr>\n",
       "      <th>A1BG</th>\n",
       "      <td>679</td>\n",
       "    </tr>\n",
       "    <tr>\n",
       "      <th>A2M</th>\n",
       "      <td>43</td>\n",
       "    </tr>\n",
       "    <tr>\n",
       "      <th>A2ML1</th>\n",
       "      <td>3236</td>\n",
       "    </tr>\n",
       "    <tr>\n",
       "      <th>A3GALT2</th>\n",
       "      <td>1152</td>\n",
       "    </tr>\n",
       "    <tr>\n",
       "      <th>A4GNT</th>\n",
       "      <td>53</td>\n",
       "    </tr>\n",
       "  </tbody>\n",
       "</table>\n",
       "</div>"
      ],
      "text/plain": [
       "         n_cells\n",
       "A1BG         679\n",
       "A2M           43\n",
       "A2ML1       3236\n",
       "A3GALT2     1152\n",
       "A4GNT         53"
      ]
     },
     "execution_count": 12,
     "metadata": {},
     "output_type": "execute_result"
    }
   ],
   "source": [
    "hdf.var.head()"
   ]
  },
  {
   "cell_type": "code",
   "execution_count": null,
   "id": "0edab27b-b0c1-4d1a-8789-398397970cde",
   "metadata": {},
   "outputs": [],
   "source": []
  }
 ],
 "metadata": {
  "kernelspec": {
   "display_name": "scanpy",
   "language": "python",
   "name": "scanpy"
  },
  "language_info": {
   "codemirror_mode": {
    "name": "ipython",
    "version": 3
   },
   "file_extension": ".py",
   "mimetype": "text/x-python",
   "name": "python",
   "nbconvert_exporter": "python",
   "pygments_lexer": "ipython3",
   "version": "3.12.3"
  }
 },
 "nbformat": 4,
 "nbformat_minor": 5
}
