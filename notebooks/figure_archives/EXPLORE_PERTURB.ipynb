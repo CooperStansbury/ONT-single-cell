{
 "cells": [
  {
   "cell_type": "code",
   "execution_count": 1,
   "id": "054b73f3-f0d4-4a13-a0ea-d4a2e8273fab",
   "metadata": {},
   "outputs": [],
   "source": [
    "import os\n",
    "import sys\n",
    "import pandas as pd\n",
    "import numpy as np\n",
    "import matplotlib.pyplot as plt\n",
    "from mpl_toolkits.axes_grid1 import make_axes_locatable, axes_size\n",
    "import matplotlib.colors as mcolors\n",
    "from matplotlib.transforms import Bbox\n",
    "from matplotlib.colors import to_rgba\n",
    "from matplotlib.colors import LinearSegmentedColormap\n",
    "import seaborn as sns\n",
    "import scvi\n",
    "import scanpy as sc\n",
    "import anndata as an\n",
    "import scanpy.external as sce\n",
    "import scipy\n",
    "import scipy.sparse as sp\n",
    "import time\n",
    "import sklearn\n",
    "from sklearn.metrics import confusion_matrix\n",
    "from sklearn.ensemble import GradientBoostingClassifier\n",
    "from sklearn.preprocessing import LabelEncoder\n",
    "import torch\n",
    "from scipy.sparse import csr_matrix\n",
    "import logging\n",
    "\n",
    "from importlib import reload\n",
    "\n",
    "# local imports\n",
    "import utils as ut\n",
    "import plotting as plt2\n",
    "\n",
    "sc.settings.verbosity = 3 \n",
    "torch.set_float32_matmul_precision(\"high\")"
   ]
  },
  {
   "cell_type": "code",
   "execution_count": 2,
   "id": "8decb9e0-64ed-4049-bd3a-aec9d0c62752",
   "metadata": {},
   "outputs": [
    {
     "name": "stdout",
     "output_type": "stream",
     "text": [
      "12.0\n"
     ]
    }
   ],
   "source": [
    "print(torch.version.cuda) "
   ]
  },
  {
   "cell_type": "code",
   "execution_count": 3,
   "id": "e6f53ef7-6851-4e39-a486-27a5108b24e6",
   "metadata": {},
   "outputs": [
    {
     "name": "stdout",
     "output_type": "stream",
     "text": [
      "Number of processors: 36\n"
     ]
    }
   ],
   "source": [
    "num_processors = os.cpu_count()\n",
    "print(f\"Number of processors: {num_processors}\") "
   ]
  },
  {
   "cell_type": "code",
   "execution_count": 4,
   "id": "49903962-e639-459b-a83b-aca2eeec4aaa",
   "metadata": {},
   "outputs": [
    {
     "name": "stdout",
     "output_type": "stream",
     "text": [
      "CUDA available: False\n"
     ]
    },
    {
     "name": "stderr",
     "output_type": "stream",
     "text": [
      "/home/cstansbu/miniconda3/envs/scanpy/lib/python3.12/site-packages/torch/cuda/__init__.py:654: UserWarning: Can't initialize NVML\n",
      "  warnings.warn(\"Can't initialize NVML\")\n"
     ]
    }
   ],
   "source": [
    "# Check CUDA availability\n",
    "cuda_available = torch.cuda.is_available()\n",
    "print(f\"CUDA available: {cuda_available}\")\n",
    "\n",
    "if cuda_available:\n",
    "    num_gpus = torch.cuda.device_count()\n",
    "    print(f\"Number of GPUs: {num_gpus}\")"
   ]
  },
  {
   "cell_type": "markdown",
   "id": "76388aa2-15b1-450b-9182-bfa0df69090d",
   "metadata": {},
   "source": [
    "# load the data"
   ]
  },
  {
   "cell_type": "code",
   "execution_count": 5,
   "id": "2d083a22-83f8-4812-ac8a-ac8fdafb620c",
   "metadata": {},
   "outputs": [
    {
     "name": "stdout",
     "output_type": "stream",
     "text": [
      "Memory usage: current 2.25 GB, difference +2.25 GB\n",
      "AnnData object with n_obs × n_vars = 81442 × 3000\n",
      "    obs: 'n_genes', 'dataset', 'n_genes_by_counts', 'total_counts', 'obs_index', 'cell_type', 'standard_cell_type', 'cell_label', '_scvi_batch', '_scvi_labels', 'scvi_clusters', 'scanvi_clusters', '_scvi_raw_norm_scaling'\n",
      "    var: 'n_cells_by_counts', 'mean_counts', 'pct_dropout_by_counts', 'total_counts', 'gene_id', 'token_id', 'gene_biotype', 'Chromosome', 'Start', 'End', 'n_cells', 'highly_variable', 'highly_variable_rank', 'means', 'variances', 'variances_norm'\n",
      "    uns: '_scvi_manager_uuid', '_scvi_uuid', 'dataset_colors', 'hvg', 'neighbors', 'scanvi_clusters', 'scanvi_clusters_colors', 'scvi_clusters', 'scvi_clusters_colors', 'standard_cell_type_colors', 'umap'\n",
      "    obsm: 'X_scANVI', 'X_scVI', 'X_umap'\n",
      "    layers: 'SCANVI_counts', 'counts'\n",
      "    obsp: 'connectivities', 'distances'\n"
     ]
    }
   ],
   "source": [
    "fpath = \"/scratch/indikar_root/indikar1/shared_data/sc_HSC/SCANVI/model/reference_adata.h5ad\"\n",
    "adata = sc.read_h5ad(fpath)\n",
    "sc.logging.print_memory_usage()\n",
    "print(adata)"
   ]
  },
  {
   "cell_type": "markdown",
   "id": "6caedab4-f012-4cef-aa30-bb9c49c3298e",
   "metadata": {},
   "source": [
    "# Filtering"
   ]
  },
  {
   "cell_type": "code",
   "execution_count": 6,
   "id": "930f33ed-4794-429b-be40-ab9b9a5c65b4",
   "metadata": {},
   "outputs": [
    {
     "data": {
      "text/plain": [
       "AnnData object with n_obs × n_vars = 22086 × 3000\n",
       "    obs: 'n_genes', 'dataset', 'n_genes_by_counts', 'total_counts', 'obs_index', 'cell_type', 'standard_cell_type', 'cell_label', '_scvi_batch', '_scvi_labels', 'scvi_clusters', 'scanvi_clusters', '_scvi_raw_norm_scaling'\n",
       "    var: 'n_cells_by_counts', 'mean_counts', 'pct_dropout_by_counts', 'total_counts', 'gene_id', 'token_id', 'gene_biotype', 'Chromosome', 'Start', 'End', 'n_cells', 'highly_variable', 'highly_variable_rank', 'means', 'variances', 'variances_norm'\n",
       "    uns: '_scvi_manager_uuid', '_scvi_uuid', 'dataset_colors', 'hvg', 'neighbors', 'scanvi_clusters', 'scanvi_clusters_colors', 'scvi_clusters', 'scvi_clusters_colors', 'standard_cell_type_colors', 'umap'\n",
       "    obsm: 'X_scANVI', 'X_scVI', 'X_umap'\n",
       "    layers: 'SCANVI_counts', 'counts'\n",
       "    obsp: 'connectivities', 'distances'"
      ]
     },
     "execution_count": 6,
     "metadata": {},
     "output_type": "execute_result"
    }
   ],
   "source": [
    "adata = adata[adata.obs['cell_label'].isin(['Fib', 'HSC']), :].copy()\n",
    "adata = adata[~adata.obs['dataset'].isin(['tabula_sapiens']), :].copy()\n",
    "\n",
    "adata"
   ]
  },
  {
   "cell_type": "markdown",
   "id": "c3c27b92-78fa-42e6-b7da-18ff23a6a05d",
   "metadata": {},
   "source": [
    "# Load the model"
   ]
  },
  {
   "cell_type": "code",
   "execution_count": 7,
   "id": "e3389a51-8d6d-4722-9eb2-2a6f02b26e60",
   "metadata": {},
   "outputs": [
    {
     "name": "stdout",
     "output_type": "stream",
     "text": [
      "\u001b[34mINFO    \u001b[0m File \u001b[35m/scratch/indikar_root/indikar1/shared_data/sc_HSC/SCANVI/model/\u001b[0m\u001b[95mreference_model.pt\u001b[0m already downloaded \n"
     ]
    },
    {
     "name": "stderr",
     "output_type": "stream",
     "text": [
      "/home/cstansbu/miniconda3/envs/scanpy/lib/python3.12/site-packages/torch/cuda/__init__.py:654: UserWarning: Can't initialize NVML\n",
      "  warnings.warn(\"Can't initialize NVML\")\n",
      "/home/cstansbu/miniconda3/envs/scanpy/lib/python3.12/site-packages/lightning/fabric/plugins/environments/slurm.py:204: The `srun` command is available on your system but is not used. HINT: If your intention is to run Lightning on SLURM, prepend your python command with `srun` like so: srun python /home/cstansbu/miniconda3/envs/scanpy/lib/python3.12 ...\n",
      "/home/cstansbu/miniconda3/envs/scanpy/lib/python3.12/site-packages/scvi/model/base/_save_load.py:76: FutureWarning: You are using `torch.load` with `weights_only=False` (the current default value), which uses the default pickle module implicitly. It is possible to construct malicious pickle data which will execute arbitrary code during unpickling (See https://github.com/pytorch/pytorch/blob/main/SECURITY.md#untrusted-models for more details). In a future release, the default value for `weights_only` will be flipped to `True`. This limits the functions that could be executed during unpickling. Arbitrary objects will no longer be allowed to be loaded via this mode unless they are explicitly allowlisted by the user via `torch.serialization.add_safe_globals`. We recommend you start setting `weights_only=True` for any use case where you don't have full control of the loaded file. Please open an issue on GitHub for any issues related to this experimental feature.\n",
      "  model = torch.load(model_path, map_location=map_location)\n"
     ]
    }
   ],
   "source": [
    "fpath = \"/scratch/indikar_root/indikar1/shared_data/sc_HSC/SCANVI/model\"\n",
    "model = scvi.model.SCANVI.load(\n",
    "    fpath, \n",
    "    adata=adata,\n",
    "    prefix=\"reference_\",\n",
    ")"
   ]
  },
  {
   "cell_type": "code",
   "execution_count": 8,
   "id": "81995b2a-6aee-4d23-8601-689ea196cc51",
   "metadata": {},
   "outputs": [
    {
     "data": {
      "text/plain": [
       "prediction\n",
       "HSC     14096\n",
       "Fib      7736\n",
       "MPP       205\n",
       "MKP        24\n",
       "MEP        20\n",
       "LMPP        2\n",
       "GMP         1\n",
       "CLP         1\n",
       "CMP         1\n",
       "Name: count, dtype: int64"
      ]
     },
     "execution_count": 8,
     "metadata": {},
     "output_type": "execute_result"
    }
   ],
   "source": [
    "adata.obs['prediction'] = model.predict()\n",
    "adata.obs['prediction'].value_counts()"
   ]
  },
  {
   "cell_type": "code",
   "execution_count": 9,
   "id": "5687a841-bf91-4e8a-994a-2cc49ef9be15",
   "metadata": {},
   "outputs": [
    {
     "data": {
      "text/html": [
       "<div>\n",
       "<style scoped>\n",
       "    .dataframe tbody tr th:only-of-type {\n",
       "        vertical-align: middle;\n",
       "    }\n",
       "\n",
       "    .dataframe tbody tr th {\n",
       "        vertical-align: top;\n",
       "    }\n",
       "\n",
       "    .dataframe thead th {\n",
       "        text-align: right;\n",
       "    }\n",
       "</style>\n",
       "<table border=\"1\" class=\"dataframe\">\n",
       "  <thead>\n",
       "    <tr style=\"text-align: right;\">\n",
       "      <th>col_0</th>\n",
       "      <th>Fib</th>\n",
       "      <th>HSC</th>\n",
       "    </tr>\n",
       "    <tr>\n",
       "      <th>row_0</th>\n",
       "      <th></th>\n",
       "      <th></th>\n",
       "    </tr>\n",
       "  </thead>\n",
       "  <tbody>\n",
       "    <tr>\n",
       "      <th>CLP</th>\n",
       "      <td>0</td>\n",
       "      <td>1</td>\n",
       "    </tr>\n",
       "    <tr>\n",
       "      <th>CMP</th>\n",
       "      <td>0</td>\n",
       "      <td>1</td>\n",
       "    </tr>\n",
       "    <tr>\n",
       "      <th>Fib</th>\n",
       "      <td>7736</td>\n",
       "      <td>0</td>\n",
       "    </tr>\n",
       "    <tr>\n",
       "      <th>GMP</th>\n",
       "      <td>0</td>\n",
       "      <td>1</td>\n",
       "    </tr>\n",
       "    <tr>\n",
       "      <th>HSC</th>\n",
       "      <td>0</td>\n",
       "      <td>14096</td>\n",
       "    </tr>\n",
       "    <tr>\n",
       "      <th>LMPP</th>\n",
       "      <td>0</td>\n",
       "      <td>2</td>\n",
       "    </tr>\n",
       "    <tr>\n",
       "      <th>MEP</th>\n",
       "      <td>0</td>\n",
       "      <td>20</td>\n",
       "    </tr>\n",
       "    <tr>\n",
       "      <th>MKP</th>\n",
       "      <td>0</td>\n",
       "      <td>24</td>\n",
       "    </tr>\n",
       "    <tr>\n",
       "      <th>MPP</th>\n",
       "      <td>0</td>\n",
       "      <td>205</td>\n",
       "    </tr>\n",
       "  </tbody>\n",
       "</table>\n",
       "</div>"
      ],
      "text/plain": [
       "col_0   Fib    HSC\n",
       "row_0             \n",
       "CLP       0      1\n",
       "CMP       0      1\n",
       "Fib    7736      0\n",
       "GMP       0      1\n",
       "HSC       0  14096\n",
       "LMPP      0      2\n",
       "MEP       0     20\n",
       "MKP       0     24\n",
       "MPP       0    205"
      ]
     },
     "execution_count": 9,
     "metadata": {},
     "output_type": "execute_result"
    }
   ],
   "source": [
    "pd.crosstab(adata.obs['prediction'].values, adata.obs['cell_label'].values)"
   ]
  },
  {
   "cell_type": "code",
   "execution_count": 10,
   "id": "ed9a345b-56e5-4c8a-9889-0cee8df7e578",
   "metadata": {},
   "outputs": [
    {
     "ename": "SyntaxError",
     "evalue": "'break' outside loop (668683560.py, line 1)",
     "output_type": "error",
     "traceback": [
      "\u001b[0;36m  Cell \u001b[0;32mIn[10], line 1\u001b[0;36m\u001b[0m\n\u001b[0;31m    break\u001b[0m\n\u001b[0m    ^\u001b[0m\n\u001b[0;31mSyntaxError\u001b[0m\u001b[0;31m:\u001b[0m 'break' outside loop\n"
     ]
    }
   ],
   "source": [
    "break"
   ]
  },
  {
   "cell_type": "code",
   "execution_count": null,
   "id": "2b6ad85c-9fbc-4cf1-8c8c-65c39dc5d263",
   "metadata": {},
   "outputs": [],
   "source": []
  },
  {
   "cell_type": "markdown",
   "id": "3efdc92c-ec1b-475d-91ca-96f0c14e5e97",
   "metadata": {},
   "source": [
    "# Feature Importance"
   ]
  },
  {
   "cell_type": "code",
   "execution_count": null,
   "id": "676835d2-310c-4044-b2e2-c22be71a048f",
   "metadata": {},
   "outputs": [],
   "source": [
    "def train_gbt_on_anndata(adata, target_column):\n",
    "  \"\"\"\n",
    "  Trains a Gradient Boosting Tree classifier on an AnnData object.\n",
    "  Handles string target columns by encoding them numerically.\n",
    "\n",
    "  Args:\n",
    "    adata: An AnnData object. The .X attribute should contain the feature data.\n",
    "    target_column: The name of the column in adata.obs to use as the target variable.\n",
    "\n",
    "  Returns:\n",
    "    A trained GradientBoostingClassifier object.\n",
    "  \"\"\"\n",
    "\n",
    "  # Extract features and target variable\n",
    "  X = adata.X\n",
    "  y = adata.obs[target_column]\n",
    "\n",
    "  # Encode the target variable if it's a string\n",
    "  if y.dtype == 'object':\n",
    "    le = LabelEncoder()\n",
    "    y = le.fit_transform(y)\n",
    "\n",
    "  # Initialize the Gradient Boosting Classifier\n",
    "  gbt = GradientBoostingClassifier()\n",
    "\n",
    "  # Train the model\n",
    "  gbt.fit(X, y)\n",
    "\n",
    "  return gbt\n",
    "\n",
    "\n",
    "gbt = train_gbt_on_anndata(adata, 'prediction')\n",
    "gbt"
   ]
  },
  {
   "cell_type": "code",
   "execution_count": null,
   "id": "0d9b546d-e11d-452c-b375-8da54a036c1f",
   "metadata": {},
   "outputs": [],
   "source": [
    "fdf = pd.DataFrame({\n",
    "    'gene_name' : adata.var_names,   \n",
    "    'weight' : gbt.feature_importances_,\n",
    "})\n",
    "\n",
    "fdf = fdf.sort_values(by='weight', ascending=False)\n",
    "fdf.head(15)"
   ]
  },
  {
   "cell_type": "code",
   "execution_count": null,
   "id": "768e1a66-bf9c-42d0-ad0f-4b016d9437fa",
   "metadata": {},
   "outputs": [],
   "source": [
    "break"
   ]
  },
  {
   "cell_type": "code",
   "execution_count": null,
   "id": "89b7a19f-0136-41d7-adbc-faafae7f7c40",
   "metadata": {},
   "outputs": [],
   "source": []
  },
  {
   "cell_type": "markdown",
   "id": "5273059c-a95c-45f0-a2de-9f55bd2423ca",
   "metadata": {},
   "source": [
    "# Pertubation Experiment"
   ]
  },
  {
   "cell_type": "code",
   "execution_count": null,
   "id": "906f6625-daa9-4af9-8dd9-5eb9e4ccd22a",
   "metadata": {},
   "outputs": [],
   "source": [
    "sample_size = 10\n",
    "fibs = [x for x in adata.obs_names if 'fib' in x]\n",
    "sample_cells = np.random.choice(fibs, sample_size, replace=False)\n",
    "\n",
    "sdata = adata[sample_cells, :].copy()\n",
    "sdata.X = sdata.X.todense()\n",
    "\n",
    "pred = model.predict(\n",
    "    sdata,\n",
    "    soft=True,\n",
    ")\n",
    "\n",
    "pred[['Fib', 'HSC']].mean()"
   ]
  },
  {
   "cell_type": "code",
   "execution_count": null,
   "id": "e884db08-03ca-480a-8388-cc371e9c937a",
   "metadata": {},
   "outputs": [],
   "source": []
  },
  {
   "cell_type": "code",
   "execution_count": null,
   "id": "ede3638a-b6b4-4175-bbaa-17ece2ef18e0",
   "metadata": {},
   "outputs": [],
   "source": []
  },
  {
   "cell_type": "markdown",
   "id": "f6f65796-4a0f-4cc8-9840-af2604eb3aab",
   "metadata": {},
   "source": [
    "# perturb each gene"
   ]
  },
  {
   "cell_type": "code",
   "execution_count": null,
   "id": "c8ec3e57-10b4-4f9a-81cb-a91f1d30bf9f",
   "metadata": {},
   "outputs": [],
   "source": [
    "scvi.settings.verbosity = 30\n",
    "\n",
    "result = []\n",
    "\n",
    "up_by = 100\n",
    "\n",
    "for gene in sdata.var.index:\n",
    "\n",
    "    pert = sdata.copy()\n",
    "    pert[:, gene].X = pert[:, gene].X + up_by\n",
    "\n",
    "    pred = model.predict(\n",
    "        pert,\n",
    "        soft=True,\n",
    "    )\n",
    "\n",
    "    row = pred[['Fib', 'HSC']].mean().to_dict()\n",
    "    row['gene_name'] = gene\n",
    "    result.append(row)\n",
    "    break\n",
    "\n",
    "\n",
    "result = pd.DataFrame(result)\n",
    "result.head()"
   ]
  },
  {
   "cell_type": "code",
   "execution_count": null,
   "id": "8f5f139b-b97f-4ae7-ae5f-4f3b08bfe329",
   "metadata": {},
   "outputs": [],
   "source": []
  },
  {
   "cell_type": "code",
   "execution_count": null,
   "id": "51a0f4f9-2463-4e42-b55a-335bbcf389f1",
   "metadata": {},
   "outputs": [],
   "source": []
  },
  {
   "cell_type": "code",
   "execution_count": null,
   "id": "d64aec61-ecf3-4345-9d23-05e79f0f246b",
   "metadata": {},
   "outputs": [],
   "source": []
  },
  {
   "cell_type": "code",
   "execution_count": null,
   "id": "3f91b664-74ce-4c43-a70b-246b3dbdeb11",
   "metadata": {},
   "outputs": [],
   "source": [
    "def generate_sparse_normal_matrix(n, m, density, mean=0, std=1):\n",
    "  \"\"\"\n",
    "  Generates a random sparse matrix with normally distributed integer values.\n",
    "\n",
    "  Args:\n",
    "    n: Number of rows.\n",
    "    m: Number of columns.\n",
    "    density: The desired density of the matrix (proportion of non-zero elements).\n",
    "    mean: Mean of the normal distribution.\n",
    "    std: Standard deviation of the normal distribution.\n",
    "\n",
    "  Returns:\n",
    "    A sparse matrix in CSR format.\n",
    "  \"\"\"\n",
    "\n",
    "  # Generate random indices for non-zero elements\n",
    "  row_ind = np.random.randint(0, n, int(n * m * density))\n",
    "  col_ind = np.random.randint(0, m, int(n * m * density))\n",
    "\n",
    "  # Generate normally distributed values, then round to integers\n",
    "  data = np.random.normal(loc=mean, scale=std, size=len(row_ind)).astype(int)\n",
    "\n",
    "  # Create the sparse matrix in CSR format\n",
    "  return sp.csr_matrix((data, (row_ind, col_ind)), shape=(n, m))\n",
    "\n",
    "n = len(sdata.obs)\n",
    "m = len(sdata.var)\n",
    "density = 0.10\n",
    "\n",
    "noise = generate_sparse_normal_matrix(n, m, density)\n",
    "print(f\"{noise.shape=}\")\n",
    "sdata.X = sdata.X + noise\n",
    "\n",
    "pred = model.predict(\n",
    "    sdata,\n",
    "    soft=True,\n",
    ")\n",
    "\n",
    "pred[['Fib', 'HSC']]"
   ]
  },
  {
   "cell_type": "code",
   "execution_count": null,
   "id": "232dd2ae-3cee-4933-a02d-6a0fc5881390",
   "metadata": {},
   "outputs": [],
   "source": []
  },
  {
   "cell_type": "code",
   "execution_count": null,
   "id": "b27b289d-91e2-4744-b8e9-ac78cb5bbec3",
   "metadata": {},
   "outputs": [],
   "source": []
  },
  {
   "cell_type": "code",
   "execution_count": null,
   "id": "8b25e7e7-b4d8-4e87-b5fd-07de9b435712",
   "metadata": {},
   "outputs": [],
   "source": [
    "?model.predict"
   ]
  },
  {
   "cell_type": "code",
   "execution_count": null,
   "id": "01e843db-ee60-4bc8-ba08-c75cc6a3d906",
   "metadata": {},
   "outputs": [],
   "source": [
    "break"
   ]
  },
  {
   "cell_type": "code",
   "execution_count": null,
   "id": "72547106-3c5b-4d87-92db-8820df3dffb3",
   "metadata": {},
   "outputs": [],
   "source": []
  },
  {
   "cell_type": "code",
   "execution_count": null,
   "id": "2a235825-fe28-4c05-95d2-9aceb160480f",
   "metadata": {},
   "outputs": [],
   "source": []
  },
  {
   "cell_type": "code",
   "execution_count": null,
   "id": "72231866-11ca-4e01-8249-260566fcc8cf",
   "metadata": {},
   "outputs": [],
   "source": []
  },
  {
   "cell_type": "code",
   "execution_count": null,
   "id": "3244fae2-d81c-411d-b36e-2991bb2fa2ac",
   "metadata": {},
   "outputs": [],
   "source": []
  },
  {
   "cell_type": "markdown",
   "id": "dbeed7ba-d393-4d22-9f50-a060f9d8d6a9",
   "metadata": {},
   "source": [
    "# Load data"
   ]
  },
  {
   "cell_type": "code",
   "execution_count": null,
   "id": "cccd8876-e903-48ff-9835-5acca3d50cae",
   "metadata": {},
   "outputs": [],
   "source": [
    "\"\"\"\n",
    "DATA\n",
    "\"\"\"\n",
    "fpath = \"/scratch/indikar_root/indikar1/shared_data/sc_HSC/SCANVI/raw_data.h5ad\"\n",
    "adata = sc.read_h5ad(fpath)\n",
    "adata.X = adata.layers['counts'].copy()\n",
    "sc.logging.print_memory_usage()\n",
    "print(adata)"
   ]
  },
  {
   "cell_type": "code",
   "execution_count": null,
   "id": "1262d537-4cf5-4ba3-90a2-60f5e9489c7d",
   "metadata": {},
   "outputs": [],
   "source": []
  },
  {
   "cell_type": "code",
   "execution_count": null,
   "id": "0ce0d1da-ed30-4704-8b68-617444328739",
   "metadata": {},
   "outputs": [],
   "source": []
  }
 ],
 "metadata": {
  "kernelspec": {
   "display_name": "scanpy",
   "language": "python",
   "name": "scanpy"
  },
  "language_info": {
   "codemirror_mode": {
    "name": "ipython",
    "version": 3
   },
   "file_extension": ".py",
   "mimetype": "text/x-python",
   "name": "python",
   "nbconvert_exporter": "python",
   "pygments_lexer": "ipython3",
   "version": "3.12.5"
  }
 },
 "nbformat": 4,
 "nbformat_minor": 5
}
