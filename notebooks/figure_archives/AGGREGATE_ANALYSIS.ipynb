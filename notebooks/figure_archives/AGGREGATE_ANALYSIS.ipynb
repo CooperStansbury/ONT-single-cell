{
 "cells": [
  {
   "cell_type": "code",
   "execution_count": 1,
   "id": "2587dcf1-3c97-47d6-9a16-93704df4b09a",
   "metadata": {},
   "outputs": [],
   "source": [
    "import os\n",
    "import sys\n",
    "import glob\n",
    "import pandas as pd\n",
    "import numpy as np\n",
    "import matplotlib.pyplot as plt\n",
    "import seaborn as sns\n",
    "import scanpy as sc\n",
    "import scanpy.external as sce\n",
    "import scipy\n",
    "import time\n",
    "import sklearn\n",
    "from importlib import reload\n",
    "from scipy.spatial.distance import cdist\n",
    "\n",
    "# local imports\n",
    "import utils as ut\n",
    "import plotting as plt2\n",
    "\n",
    "sc.settings.verbosity = 3 "
   ]
  },
  {
   "cell_type": "markdown",
   "id": "2a58a84e-3e75-4922-ad28-dda58dc87319",
   "metadata": {},
   "source": [
    "# Load the data"
   ]
  },
  {
   "cell_type": "code",
   "execution_count": 2,
   "id": "cfe5a32d-ed6f-4a69-9aef-321171999b20",
   "metadata": {},
   "outputs": [
    {
     "name": "stdout",
     "output_type": "stream",
     "text": [
      "Memory usage: current 12.25 GB, difference +12.25 GB\n",
      "filtered out 2342 cells that have less than 1000 genes expressed\n",
      "filtered out 1141 genes that are detected in less than 100 cells\n",
      "Memory usage: current 14.03 GB, difference +1.78 GB\n"
     ]
    },
    {
     "data": {
      "text/plain": [
       "AnnData object with n_obs × n_vars = 61115 × 17726\n",
       "    obs: 'n_genes', 'dataset', 'n_genes_by_counts', 'total_counts', 'obs_index', 'cell_type', 'standard_cell_type'\n",
       "    var: 'n_cells_by_counts', 'mean_counts', 'pct_dropout_by_counts', 'total_counts', 'gene_id', 'token_id', 'gene_biotype', 'Chromosome', 'Start', 'End', 'n_cells'\n",
       "    layers: 'counts'"
      ]
     },
     "execution_count": 2,
     "metadata": {},
     "output_type": "execute_result"
    }
   ],
   "source": [
    "fpath = \"/scratch/indikar_root/indikar1/shared_data/scanvi_models/raw_anndata/adata.h5ad\"\n",
    "\n",
    "adata = sc.read_h5ad(fpath)\n",
    "adata.X = adata.layers['counts'].copy()\n",
    "\n",
    "keep_types = [\n",
    "    'Fib',\n",
    "    'iHSC',\n",
    "    'HSC',\n",
    "]\n",
    "\n",
    "adata = adata[adata.obs['standard_cell_type'].isin(keep_types), :].copy()\n",
    "sc.logging.print_memory_usage()\n",
    "\n",
    "MIN_GENES = 1000\n",
    "MIN_CELLS = 100\n",
    "\n",
    "sc.pp.filter_cells(adata, min_genes=MIN_GENES)\n",
    "sc.pp.filter_genes(adata, min_cells=MIN_CELLS)\n",
    "\n",
    "sc.logging.print_memory_usage()\n",
    "adata"
   ]
  },
  {
   "cell_type": "code",
   "execution_count": 3,
   "id": "f5abf3cb-0854-40b7-88bd-9a3a4956c4c4",
   "metadata": {},
   "outputs": [
    {
     "data": {
      "text/plain": [
       "standard_cell_type\n",
       "Fib     33710\n",
       "HSC     19274\n",
       "iHSC     8131\n",
       "Name: count, dtype: int64"
      ]
     },
     "execution_count": 3,
     "metadata": {},
     "output_type": "execute_result"
    }
   ],
   "source": [
    "adata.obs['standard_cell_type'].value_counts()"
   ]
  },
  {
   "cell_type": "markdown",
   "id": "6c043be9-1a37-40d5-9a91-4c4f928a5db2",
   "metadata": {},
   "source": [
    "# Pseudo Bulk"
   ]
  },
  {
   "cell_type": "code",
   "execution_count": 4,
   "id": "86f27c31-c96b-4595-bd18-d63676cbacbf",
   "metadata": {},
   "outputs": [
    {
     "name": "stdout",
     "output_type": "stream",
     "text": [
      "normalizing counts per cell\n",
      "    finished (0:00:00)\n"
     ]
    },
    {
     "data": {
      "text/plain": [
       "AnnData object with n_obs × n_vars = 3 × 17726\n",
       "    obs: 'standard_cell_type'\n",
       "    var: 'n_cells_by_counts', 'mean_counts', 'pct_dropout_by_counts', 'total_counts', 'gene_id', 'token_id', 'gene_biotype', 'Chromosome', 'Start', 'End', 'n_cells'\n",
       "    uns: 'log1p'\n",
       "    layers: 'mean'"
      ]
     },
     "execution_count": 4,
     "metadata": {},
     "output_type": "execute_result"
    }
   ],
   "source": [
    "aggdata = sc.get.aggregate(\n",
    "    adata,\n",
    "    by='standard_cell_type',\n",
    "    func='mean',\n",
    "    layer='counts',\n",
    "    axis='obs',\n",
    ")\n",
    "\n",
    "aggdata.X = aggdata.layers['mean'].copy()\n",
    "\n",
    "sc.pp.normalize_total(\n",
    "    aggdata, \n",
    "    target_sum=1e6,\n",
    ")\n",
    "\n",
    "sc.pp.log1p(\n",
    "    aggdata\n",
    ")\n",
    "\n",
    "aggdata"
   ]
  },
  {
   "cell_type": "code",
   "execution_count": 15,
   "id": "ea80ddbf-49b6-4523-96ac-d0bc20defca2",
   "metadata": {},
   "outputs": [
    {
     "data": {
      "text/html": [
       "<div>\n",
       "<style scoped>\n",
       "    .dataframe tbody tr th:only-of-type {\n",
       "        vertical-align: middle;\n",
       "    }\n",
       "\n",
       "    .dataframe tbody tr th {\n",
       "        vertical-align: top;\n",
       "    }\n",
       "\n",
       "    .dataframe thead th {\n",
       "        text-align: right;\n",
       "    }\n",
       "</style>\n",
       "<table border=\"1\" class=\"dataframe\">\n",
       "  <thead>\n",
       "    <tr style=\"text-align: right;\">\n",
       "      <th></th>\n",
       "      <th>Fib</th>\n",
       "      <th>HSC</th>\n",
       "      <th>iHSC</th>\n",
       "      <th>fib_vs_hsc</th>\n",
       "    </tr>\n",
       "    <tr>\n",
       "      <th>gene_name</th>\n",
       "      <th></th>\n",
       "      <th></th>\n",
       "      <th></th>\n",
       "      <th></th>\n",
       "    </tr>\n",
       "  </thead>\n",
       "  <tbody>\n",
       "    <tr>\n",
       "      <th>DCN</th>\n",
       "      <td>9.607837</td>\n",
       "      <td>0.022212</td>\n",
       "      <td>2.471106</td>\n",
       "      <td>2.339624</td>\n",
       "    </tr>\n",
       "    <tr>\n",
       "      <th>PLA2G2A</th>\n",
       "      <td>9.249505</td>\n",
       "      <td>0.000000</td>\n",
       "      <td>2.311118</td>\n",
       "      <td>2.327229</td>\n",
       "    </tr>\n",
       "    <tr>\n",
       "      <th>APOD</th>\n",
       "      <td>8.919829</td>\n",
       "      <td>0.006397</td>\n",
       "      <td>3.464443</td>\n",
       "      <td>2.288159</td>\n",
       "    </tr>\n",
       "    <tr>\n",
       "      <th>MGP</th>\n",
       "      <td>8.914555</td>\n",
       "      <td>0.034687</td>\n",
       "      <td>3.790796</td>\n",
       "      <td>2.259905</td>\n",
       "    </tr>\n",
       "    <tr>\n",
       "      <th>GPX3</th>\n",
       "      <td>9.248089</td>\n",
       "      <td>0.080128</td>\n",
       "      <td>2.339083</td>\n",
       "      <td>2.250011</td>\n",
       "    </tr>\n",
       "    <tr>\n",
       "      <th>ADH1B</th>\n",
       "      <td>8.069215</td>\n",
       "      <td>0.006397</td>\n",
       "      <td>2.673731</td>\n",
       "      <td>2.198509</td>\n",
       "    </tr>\n",
       "    <tr>\n",
       "      <th>LUM</th>\n",
       "      <td>7.669123</td>\n",
       "      <td>0.003204</td>\n",
       "      <td>0.351103</td>\n",
       "      <td>2.156569</td>\n",
       "    </tr>\n",
       "    <tr>\n",
       "      <th>C3</th>\n",
       "      <td>8.314963</td>\n",
       "      <td>0.080128</td>\n",
       "      <td>4.206537</td>\n",
       "      <td>2.154542</td>\n",
       "    </tr>\n",
       "    <tr>\n",
       "      <th>EFEMP1</th>\n",
       "      <td>7.386736</td>\n",
       "      <td>0.000000</td>\n",
       "      <td>0.169809</td>\n",
       "      <td>2.126651</td>\n",
       "    </tr>\n",
       "    <tr>\n",
       "      <th>COL1A2</th>\n",
       "      <td>7.394848</td>\n",
       "      <td>0.019069</td>\n",
       "      <td>0.000000</td>\n",
       "      <td>2.108728</td>\n",
       "    </tr>\n",
       "    <tr>\n",
       "      <th>FBLN1</th>\n",
       "      <td>8.022500</td>\n",
       "      <td>0.109315</td>\n",
       "      <td>0.000000</td>\n",
       "      <td>2.095979</td>\n",
       "    </tr>\n",
       "    <tr>\n",
       "      <th>IGFBP5</th>\n",
       "      <td>7.139820</td>\n",
       "      <td>0.012753</td>\n",
       "      <td>3.160383</td>\n",
       "      <td>2.084096</td>\n",
       "    </tr>\n",
       "    <tr>\n",
       "      <th>CEACAM3</th>\n",
       "      <td>7.010510</td>\n",
       "      <td>0.025346</td>\n",
       "      <td>10.589761</td>\n",
       "      <td>2.055725</td>\n",
       "    </tr>\n",
       "    <tr>\n",
       "      <th>COL3A1</th>\n",
       "      <td>6.927780</td>\n",
       "      <td>0.015916</td>\n",
       "      <td>1.350748</td>\n",
       "      <td>2.054582</td>\n",
       "    </tr>\n",
       "    <tr>\n",
       "      <th>C7</th>\n",
       "      <td>7.049041</td>\n",
       "      <td>0.031583</td>\n",
       "      <td>0.000000</td>\n",
       "      <td>2.054458</td>\n",
       "    </tr>\n",
       "    <tr>\n",
       "      <th>CXCL14</th>\n",
       "      <td>6.787693</td>\n",
       "      <td>0.003204</td>\n",
       "      <td>0.592010</td>\n",
       "      <td>2.049346</td>\n",
       "    </tr>\n",
       "    <tr>\n",
       "      <th>CCL2</th>\n",
       "      <td>6.720190</td>\n",
       "      <td>0.000000</td>\n",
       "      <td>5.134574</td>\n",
       "      <td>2.043839</td>\n",
       "    </tr>\n",
       "    <tr>\n",
       "      <th>SFRP2</th>\n",
       "      <td>6.632714</td>\n",
       "      <td>0.000000</td>\n",
       "      <td>3.040764</td>\n",
       "      <td>2.032443</td>\n",
       "    </tr>\n",
       "    <tr>\n",
       "      <th>PRELP</th>\n",
       "      <td>6.601613</td>\n",
       "      <td>0.015916</td>\n",
       "      <td>1.005404</td>\n",
       "      <td>2.012570</td>\n",
       "    </tr>\n",
       "    <tr>\n",
       "      <th>FOXL2NB</th>\n",
       "      <td>6.489161</td>\n",
       "      <td>0.006397</td>\n",
       "      <td>8.716569</td>\n",
       "      <td>2.007080</td>\n",
       "    </tr>\n",
       "    <tr>\n",
       "      <th>SCARA5</th>\n",
       "      <td>6.494304</td>\n",
       "      <td>0.009580</td>\n",
       "      <td>3.228642</td>\n",
       "      <td>2.004609</td>\n",
       "    </tr>\n",
       "    <tr>\n",
       "      <th>BPNT2</th>\n",
       "      <td>6.404185</td>\n",
       "      <td>0.000000</td>\n",
       "      <td>8.892450</td>\n",
       "      <td>2.002045</td>\n",
       "    </tr>\n",
       "    <tr>\n",
       "      <th>KIR2DL3</th>\n",
       "      <td>6.278593</td>\n",
       "      <td>0.000000</td>\n",
       "      <td>8.551656</td>\n",
       "      <td>1.984938</td>\n",
       "    </tr>\n",
       "    <tr>\n",
       "      <th>PODN</th>\n",
       "      <td>6.232324</td>\n",
       "      <td>0.003204</td>\n",
       "      <td>3.249092</td>\n",
       "      <td>1.975362</td>\n",
       "    </tr>\n",
       "    <tr>\n",
       "      <th>CXCL12</th>\n",
       "      <td>6.499337</td>\n",
       "      <td>0.043942</td>\n",
       "      <td>2.871138</td>\n",
       "      <td>1.971811</td>\n",
       "    </tr>\n",
       "  </tbody>\n",
       "</table>\n",
       "</div>"
      ],
      "text/plain": [
       "                Fib       HSC       iHSC  fib_vs_hsc\n",
       "gene_name                                           \n",
       "DCN        9.607837  0.022212   2.471106    2.339624\n",
       "PLA2G2A    9.249505  0.000000   2.311118    2.327229\n",
       "APOD       8.919829  0.006397   3.464443    2.288159\n",
       "MGP        8.914555  0.034687   3.790796    2.259905\n",
       "GPX3       9.248089  0.080128   2.339083    2.250011\n",
       "ADH1B      8.069215  0.006397   2.673731    2.198509\n",
       "LUM        7.669123  0.003204   0.351103    2.156569\n",
       "C3         8.314963  0.080128   4.206537    2.154542\n",
       "EFEMP1     7.386736  0.000000   0.169809    2.126651\n",
       "COL1A2     7.394848  0.019069   0.000000    2.108728\n",
       "FBLN1      8.022500  0.109315   0.000000    2.095979\n",
       "IGFBP5     7.139820  0.012753   3.160383    2.084096\n",
       "CEACAM3    7.010510  0.025346  10.589761    2.055725\n",
       "COL3A1     6.927780  0.015916   1.350748    2.054582\n",
       "C7         7.049041  0.031583   0.000000    2.054458\n",
       "CXCL14     6.787693  0.003204   0.592010    2.049346\n",
       "CCL2       6.720190  0.000000   5.134574    2.043839\n",
       "SFRP2      6.632714  0.000000   3.040764    2.032443\n",
       "PRELP      6.601613  0.015916   1.005404    2.012570\n",
       "FOXL2NB    6.489161  0.006397   8.716569    2.007080\n",
       "SCARA5     6.494304  0.009580   3.228642    2.004609\n",
       "BPNT2      6.404185  0.000000   8.892450    2.002045\n",
       "KIR2DL3    6.278593  0.000000   8.551656    1.984938\n",
       "PODN       6.232324  0.003204   3.249092    1.975362\n",
       "CXCL12     6.499337  0.043942   2.871138    1.971811"
      ]
     },
     "execution_count": 15,
     "metadata": {},
     "output_type": "execute_result"
    }
   ],
   "source": [
    "df = aggdata.to_df().T\n",
    "\n",
    "df['fib_vs_hsc'] = np.log1p(df['Fib']) - np.log1p(df['HSC'])\n",
    "df = df.sort_values(by='fib_vs_hsc', ascending=False)\n",
    "\n",
    "df.head(25)"
   ]
  },
  {
   "cell_type": "markdown",
   "id": "c51636d2-b0b6-4d75-98d9-6192d37480c0",
   "metadata": {},
   "source": [
    "### df.tail(25)"
   ]
  },
  {
   "cell_type": "code",
   "execution_count": null,
   "id": "7f00db20-f0b6-41bc-b9b8-ff832027a0fc",
   "metadata": {},
   "outputs": [],
   "source": []
  },
  {
   "cell_type": "code",
   "execution_count": null,
   "id": "15bc9256-5bb3-4624-b9bf-4b0d3ada4ed5",
   "metadata": {},
   "outputs": [],
   "source": []
  },
  {
   "cell_type": "code",
   "execution_count": 6,
   "id": "61d32fc6-bc38-4f8b-b0a3-90ef922f6af5",
   "metadata": {},
   "outputs": [
    {
     "ename": "SyntaxError",
     "evalue": "'break' outside loop (668683560.py, line 1)",
     "output_type": "error",
     "traceback": [
      "\u001b[0;36m  Cell \u001b[0;32mIn[6], line 1\u001b[0;36m\u001b[0m\n\u001b[0;31m    break\u001b[0m\n\u001b[0m    ^\u001b[0m\n\u001b[0;31mSyntaxError\u001b[0m\u001b[0;31m:\u001b[0m 'break' outside loop\n"
     ]
    }
   ],
   "source": [
    "break"
   ]
  },
  {
   "cell_type": "code",
   "execution_count": null,
   "id": "805e0005-d1a3-40ab-b471-3a761a46a387",
   "metadata": {},
   "outputs": [],
   "source": [
    "aggdata.to_df().T\n"
   ]
  },
  {
   "cell_type": "code",
   "execution_count": null,
   "id": "4cffc658-5eaf-45b1-afa6-f4662f5569ef",
   "metadata": {},
   "outputs": [],
   "source": []
  },
  {
   "cell_type": "code",
   "execution_count": null,
   "id": "bdfdc420-fd75-4bcf-be4d-9021276ea866",
   "metadata": {},
   "outputs": [],
   "source": [
    "break"
   ]
  },
  {
   "cell_type": "code",
   "execution_count": null,
   "id": "91a4bc83-b46c-4e31-bcd5-e75501bf9788",
   "metadata": {},
   "outputs": [],
   "source": []
  },
  {
   "cell_type": "code",
   "execution_count": null,
   "id": "a0fd5270-b3dc-4aee-98f1-8259b113a0ab",
   "metadata": {},
   "outputs": [],
   "source": []
  },
  {
   "cell_type": "markdown",
   "id": "ee90e7e9-a176-45e5-adbf-d418eff8186e",
   "metadata": {},
   "source": [
    "# Load SCENIC"
   ]
  },
  {
   "cell_type": "code",
   "execution_count": null,
   "id": "9fe8efdc-cd5d-4cbe-98cf-87b055a6c76d",
   "metadata": {},
   "outputs": [],
   "source": [
    "fpath = \"../resources/scenic.500b_up_100bp_down.csv\"\n",
    "df = pd.read_csv(fpath)\n",
    "df = df.rename(columns={'Unnamed: 0' : 'gene_name'})\n",
    "df = df.set_index('gene_name')\n",
    "print(f\"{df.shape=}\")\n",
    "\n",
    "# filter for var\n",
    "df = df[df.index.isin(adata.var_names)]\n",
    "tf_list = [x for x in df.columns if x in adata.var_names]\n",
    "df = df[tf_list]\n",
    "\n",
    "print(f\"{df.shape=}\")\n",
    "\n",
    "df.head()"
   ]
  },
  {
   "cell_type": "markdown",
   "id": "56f36d9a-cdde-41e2-916e-084e65fc8683",
   "metadata": {},
   "source": [
    "# aggregate by cell type"
   ]
  },
  {
   "cell_type": "code",
   "execution_count": null,
   "id": "72af0e07-dd48-4e08-85a7-eec410f29ea0",
   "metadata": {},
   "outputs": [],
   "source": [
    "aggdata = sc.get.aggregate(\n",
    "    adata,\n",
    "    by='standard_cell_type',\n",
    "    func='sum',\n",
    "    layer='counts',\n",
    "    axis='obs',\n",
    ")\n",
    "\n",
    "aggdata"
   ]
  },
  {
   "cell_type": "code",
   "execution_count": null,
   "id": "74418584-723f-4257-93b1-79dce5fe0499",
   "metadata": {},
   "outputs": [],
   "source": []
  }
 ],
 "metadata": {
  "kernelspec": {
   "display_name": "scanpy",
   "language": "python",
   "name": "scanpy"
  },
  "language_info": {
   "codemirror_mode": {
    "name": "ipython",
    "version": 3
   },
   "file_extension": ".py",
   "mimetype": "text/x-python",
   "name": "python",
   "nbconvert_exporter": "python",
   "pygments_lexer": "ipython3",
   "version": "3.12.5"
  }
 },
 "nbformat": 4,
 "nbformat_minor": 5
}
