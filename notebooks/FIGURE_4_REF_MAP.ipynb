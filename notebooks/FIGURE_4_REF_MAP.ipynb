{
 "cells": [
  {
   "cell_type": "code",
   "execution_count": 1,
   "id": "054b73f3-f0d4-4a13-a0ea-d4a2e8273fab",
   "metadata": {},
   "outputs": [],
   "source": [
    "import sys\n",
    "import pandas as pd\n",
    "import numpy as np\n",
    "import matplotlib.pyplot as plt\n",
    "from mpl_toolkits.axes_grid1 import make_axes_locatable, axes_size\n",
    "import matplotlib.colors as mcolors\n",
    "from matplotlib.transforms import Bbox\n",
    "from matplotlib.colors import to_rgba\n",
    "from matplotlib.colors import LinearSegmentedColormap\n",
    "import seaborn as sns\n",
    "import scvi\n",
    "import scanpy as sc\n",
    "import anndata as an\n",
    "import scanpy.external as sce\n",
    "import scipy\n",
    "import scipy.sparse as sp\n",
    "import time\n",
    "import sklearn\n",
    "import torch\n",
    "from scipy.sparse import csr_matrix\n",
    "\n",
    "from importlib import reload\n",
    "\n",
    "# local imports\n",
    "import utils as ut\n",
    "import plotting as plt2\n",
    "\n",
    "sc.settings.verbosity = 3 "
   ]
  },
  {
   "cell_type": "code",
   "execution_count": 2,
   "id": "8decb9e0-64ed-4049-bd3a-aec9d0c62752",
   "metadata": {},
   "outputs": [
    {
     "name": "stdout",
     "output_type": "stream",
     "text": [
      "12.0\n"
     ]
    }
   ],
   "source": [
    "print(torch.version.cuda) "
   ]
  },
  {
   "cell_type": "code",
   "execution_count": 3,
   "id": "49903962-e639-459b-a83b-aca2eeec4aaa",
   "metadata": {},
   "outputs": [
    {
     "name": "stdout",
     "output_type": "stream",
     "text": [
      "CUDA available: True\n",
      "Number of GPUs: 1\n",
      "GPU 0: NVIDIA A100 80GB PCIe MIG 3g.40gb\n",
      "  Compute Capability: 8.0\n",
      "  Total Memory: 39.25 GB\n"
     ]
    }
   ],
   "source": [
    "# Check CUDA availability\n",
    "cuda_available = torch.cuda.is_available()\n",
    "print(f\"CUDA available: {cuda_available}\")\n",
    "\n",
    "if cuda_available:\n",
    "    num_gpus = torch.cuda.device_count()\n",
    "    print(f\"Number of GPUs: {num_gpus}\")\n",
    "\n",
    "    for i in range(num_gpus):\n",
    "        gpu_name = torch.cuda.get_device_name(i)\n",
    "        print(f\"GPU {i}: {gpu_name}\")\n",
    "\n",
    "        # Additional information (compute capability, memory)\n",
    "        gpu_props = torch.cuda.get_device_properties(i)\n",
    "        print(f\"  Compute Capability: {gpu_props.major}.{gpu_props.minor}\")\n",
    "        print(f\"  Total Memory: {gpu_props.total_memory / 1024**3:.2f} GB\")\n",
    "else:\n",
    "    print(\"CUDA not available. Running on CPU.\")"
   ]
  },
  {
   "cell_type": "code",
   "execution_count": 4,
   "id": "d16312cf-89a1-4bb8-9ec5-d311a5af965b",
   "metadata": {},
   "outputs": [],
   "source": [
    "def load_annotations(fpath):\n",
    "    \"\"\"\n",
    "    Loads annotations data from a CSV file, processes it, and returns the resulting DataFrame.\n",
    "\n",
    "    Args:\n",
    "        fpath (str): The file path to the CSV file containing annotations data.\n",
    "\n",
    "    Returns:\n",
    "        pd.DataFrame: The processed DataFrame with 'cell_id' as the index.\n",
    "    \"\"\"\n",
    "    df = pd.read_csv(fpath)\n",
    "    df['cell_id'] = df['obs_index'].astype(str) + \"_\" + df[\"dataset\"]\n",
    "    df = df.drop(columns='dataset')\n",
    "    df = df.set_index('cell_id')\n",
    "    return df"
   ]
  },
  {
   "cell_type": "code",
   "execution_count": 5,
   "id": "cccd8876-e903-48ff-9835-5acca3d50cae",
   "metadata": {},
   "outputs": [
    {
     "name": "stdout",
     "output_type": "stream",
     "text": [
      "Memory usage: current 8.70 GB, difference +8.70 GB\n",
      "AnnData object with n_obs × n_vars = 171498 × 18867\n",
      "    obs: 'n_genes', 'dataset', 'n_genes_by_counts', 'total_counts'\n",
      "    var: 'n_cells_by_counts', 'mean_counts', 'pct_dropout_by_counts', 'total_counts', 'gene_id', 'token_id', 'gene_biotype', 'Chromosome', 'Start', 'End'\n",
      "    layers: 'counts'\n",
      "df.shape=(171498, 3)\n"
     ]
    },
    {
     "data": {
      "text/plain": [
       "AnnData object with n_obs × n_vars = 171498 × 18867\n",
       "    obs: 'n_genes', 'dataset', 'n_genes_by_counts', 'total_counts', 'obs_index', 'cell_type', 'standard_cell_type'\n",
       "    var: 'n_cells_by_counts', 'mean_counts', 'pct_dropout_by_counts', 'total_counts', 'gene_id', 'token_id', 'gene_biotype', 'Chromosome', 'Start', 'End'\n",
       "    layers: 'counts'"
      ]
     },
     "execution_count": 5,
     "metadata": {},
     "output_type": "execute_result"
    }
   ],
   "source": [
    "\"\"\"\n",
    "DATA\n",
    "\"\"\"\n",
    "fpath = \"/scratch/indikar_root/indikar1/shared_data/hematokytos/merged_anndata/merged_adata.h5ad\"\n",
    "adata = sc.read_h5ad(fpath)\n",
    "sc.logging.print_memory_usage()\n",
    "print(adata)\n",
    "\n",
    "\"\"\"\n",
    "ANNOTATIONS\n",
    "\"\"\"\n",
    "fpath = \"/scratch/indikar_root/indikar1/shared_data/hematokytos/annotation/cell_types.csv\"\n",
    "df = load_annotations(fpath)\n",
    "df = df[df.index.isin(adata.obs_names)]\n",
    "print(f\"{df.shape=}\")\n",
    "\n",
    "adata.obs = pd.concat([adata.obs, df], ignore_index=False, axis=1)\n",
    "adata"
   ]
  },
  {
   "cell_type": "code",
   "execution_count": 6,
   "id": "8b31714c-7395-498f-876e-11dde9138195",
   "metadata": {},
   "outputs": [
    {
     "data": {
      "text/html": [
       "<div>\n",
       "<style scoped>\n",
       "    .dataframe tbody tr th:only-of-type {\n",
       "        vertical-align: middle;\n",
       "    }\n",
       "\n",
       "    .dataframe tbody tr th {\n",
       "        vertical-align: top;\n",
       "    }\n",
       "\n",
       "    .dataframe thead th {\n",
       "        text-align: right;\n",
       "    }\n",
       "</style>\n",
       "<table border=\"1\" class=\"dataframe\">\n",
       "  <thead>\n",
       "    <tr style=\"text-align: right;\">\n",
       "      <th></th>\n",
       "      <th>obs_index</th>\n",
       "      <th>cell_type</th>\n",
       "      <th>standard_cell_type</th>\n",
       "    </tr>\n",
       "    <tr>\n",
       "      <th>cell_id</th>\n",
       "      <th></th>\n",
       "      <th></th>\n",
       "      <th></th>\n",
       "    </tr>\n",
       "  </thead>\n",
       "  <tbody>\n",
       "    <tr>\n",
       "      <th>TSP2_BM_vertebralbody_SS2_B113699_B133090_LinNegMarrow_D15_S87_tabula_sapiens</th>\n",
       "      <td>TSP2_BM_vertebralbody_SS2_B113699_B133090_LinN...</td>\n",
       "      <td>HSC</td>\n",
       "      <td>HSC</td>\n",
       "    </tr>\n",
       "    <tr>\n",
       "      <th>TSP2_BM_vertebralbody_SS2_B113699_B133090_LinNegMarrow_E14_S110_tabula_sapiens</th>\n",
       "      <td>TSP2_BM_vertebralbody_SS2_B113699_B133090_LinN...</td>\n",
       "      <td>HSC</td>\n",
       "      <td>HSC</td>\n",
       "    </tr>\n",
       "    <tr>\n",
       "      <th>TSP2_BM_vertebralbody_SS2_B113699_B133090_LinNegMarrow_E23_S119_tabula_sapiens</th>\n",
       "      <td>TSP2_BM_vertebralbody_SS2_B113699_B133090_LinN...</td>\n",
       "      <td>HSC</td>\n",
       "      <td>HSC</td>\n",
       "    </tr>\n",
       "    <tr>\n",
       "      <th>TSP2_BM_vertebralbody_SS2_B113699_B133090_LinNegMarrow_G22_S166_tabula_sapiens</th>\n",
       "      <td>TSP2_BM_vertebralbody_SS2_B113699_B133090_LinN...</td>\n",
       "      <td>HSC</td>\n",
       "      <td>HSC</td>\n",
       "    </tr>\n",
       "    <tr>\n",
       "      <th>TSP2_BM_vertebralbody_SS2_B113699_B133090_LinNegMarrow_H17_S185_tabula_sapiens</th>\n",
       "      <td>TSP2_BM_vertebralbody_SS2_B113699_B133090_LinN...</td>\n",
       "      <td>HSC</td>\n",
       "      <td>HSC</td>\n",
       "    </tr>\n",
       "  </tbody>\n",
       "</table>\n",
       "</div>"
      ],
      "text/plain": [
       "                                                                                            obs_index  \\\n",
       "cell_id                                                                                                 \n",
       "TSP2_BM_vertebralbody_SS2_B113699_B133090_LinNe...  TSP2_BM_vertebralbody_SS2_B113699_B133090_LinN...   \n",
       "TSP2_BM_vertebralbody_SS2_B113699_B133090_LinNe...  TSP2_BM_vertebralbody_SS2_B113699_B133090_LinN...   \n",
       "TSP2_BM_vertebralbody_SS2_B113699_B133090_LinNe...  TSP2_BM_vertebralbody_SS2_B113699_B133090_LinN...   \n",
       "TSP2_BM_vertebralbody_SS2_B113699_B133090_LinNe...  TSP2_BM_vertebralbody_SS2_B113699_B133090_LinN...   \n",
       "TSP2_BM_vertebralbody_SS2_B113699_B133090_LinNe...  TSP2_BM_vertebralbody_SS2_B113699_B133090_LinN...   \n",
       "\n",
       "                                                   cell_type  \\\n",
       "cell_id                                                        \n",
       "TSP2_BM_vertebralbody_SS2_B113699_B133090_LinNe...       HSC   \n",
       "TSP2_BM_vertebralbody_SS2_B113699_B133090_LinNe...       HSC   \n",
       "TSP2_BM_vertebralbody_SS2_B113699_B133090_LinNe...       HSC   \n",
       "TSP2_BM_vertebralbody_SS2_B113699_B133090_LinNe...       HSC   \n",
       "TSP2_BM_vertebralbody_SS2_B113699_B133090_LinNe...       HSC   \n",
       "\n",
       "                                                   standard_cell_type  \n",
       "cell_id                                                                \n",
       "TSP2_BM_vertebralbody_SS2_B113699_B133090_LinNe...                HSC  \n",
       "TSP2_BM_vertebralbody_SS2_B113699_B133090_LinNe...                HSC  \n",
       "TSP2_BM_vertebralbody_SS2_B113699_B133090_LinNe...                HSC  \n",
       "TSP2_BM_vertebralbody_SS2_B113699_B133090_LinNe...                HSC  \n",
       "TSP2_BM_vertebralbody_SS2_B113699_B133090_LinNe...                HSC  "
      ]
     },
     "execution_count": 6,
     "metadata": {},
     "output_type": "execute_result"
    }
   ],
   "source": [
    "df[df['standard_cell_type'] == 'HSC'].tail()"
   ]
  },
  {
   "cell_type": "code",
   "execution_count": 7,
   "id": "cdcb7df4-6f4d-45fa-a13a-7da11c8d5dd7",
   "metadata": {},
   "outputs": [
    {
     "name": "stdout",
     "output_type": "stream",
     "text": [
      "Fibroblasts 232\n",
      "Hematopoietic Stem Cells 178\n",
      "Large Intestine-fibroblast 100\n",
      "Vasculature-fibroblast 100\n",
      "Lung-alveolar Fibroblast 100\n",
      "Lymph Node-hematopoietic Stem Cell 100\n",
      "Prostate-fibroblast 100\n",
      "Uterus-fibroblast 100\n",
      "Liver-fibroblast 100\n",
      "Lung-fibroblast 100\n",
      "Tongue-fibroblast 100\n",
      "Bladder-fibroblast 100\n",
      "Pancreas-fibroblast 100\n",
      "Spleen-hematopoietic Stem Cell 100\n",
      "Heart-fibroblast Of Cardiac Tissue 100\n",
      "Fat-fibroblast 100\n",
      "Small Intestine-fibroblast 100\n",
      "Trachea-fibroblast 100\n",
      "Eye-fibroblast 100\n",
      "Blood-hematopoietic Stem Cell 100\n",
      "Mammary-fibroblast Of Breast 100\n",
      "Bone Marrow-hematopoietic Stem Cell 100\n",
      "Salivary Gland-fibroblast 100\n",
      "Thymus-fibroblast 100\n",
      "\n"
     ]
    },
    {
     "data": {
      "text/plain": [
       "AnnData object with n_obs × n_vars = 171498 × 18867\n",
       "    obs: 'n_genes', 'dataset', 'n_genes_by_counts', 'total_counts', 'obs_index', 'cell_type', 'standard_cell_type'\n",
       "    var: 'n_cells_by_counts', 'mean_counts', 'pct_dropout_by_counts', 'total_counts', 'gene_id', 'token_id', 'gene_biotype', 'Chromosome', 'Start', 'End', 'fibroblasts_marker', 'hematopoietic_stem_cells_marker', 'large_intestine_fibroblast_marker', 'vasculature_fibroblast_marker', 'lung_alveolar_fibroblast_marker', 'lymph_node_hematopoietic_stem_cell_marker', 'prostate_fibroblast_marker', 'uterus_fibroblast_marker', 'liver_fibroblast_marker', 'lung_fibroblast_marker', 'tongue_fibroblast_marker', 'bladder_fibroblast_marker', 'pancreas_fibroblast_marker', 'spleen_hematopoietic_stem_cell_marker', 'heart_fibroblast_of_cardiac_tissue_marker', 'fat_fibroblast_marker', 'small_intestine_fibroblast_marker', 'trachea_fibroblast_marker', 'eye_fibroblast_marker', 'blood_hematopoietic_stem_cell_marker', 'mammary_fibroblast_of_breast_marker', 'bone_marrow_hematopoietic_stem_cell_marker', 'salivary_gland_fibroblast_marker', 'thymus_fibroblast_marker', 'is_marker'\n",
       "    layers: 'counts'"
      ]
     },
     "execution_count": 7,
     "metadata": {},
     "output_type": "execute_result"
    }
   ],
   "source": [
    "fpaths = [\n",
    "    \"../resources/PanglaoDB_Augmented_2021.txt\",\n",
    "    \"../resources/Tabula_Sapiens.txt\",\n",
    "]\n",
    "\n",
    "marker_columns = []\n",
    "\n",
    "for fpath in fpaths:    \n",
    "    features = ut.load_pathway(fpath)\n",
    "\n",
    "    # extract columns\n",
    "    hsc_columns = [x for x in features.columns if \"hemato\" in x.lower()]\n",
    "    fib_columns = [x for x in features.columns if \"fibroblast\" in x.lower()]\n",
    "    fib_columns = [x for x in fib_columns if not \"myofibr\" in x.lower()]\n",
    "    \n",
    "    columns = list(set(hsc_columns + fib_columns))\n",
    "\n",
    "    for col in columns:\n",
    "        gene_list = list(features[features[col].astype(bool)].index)\n",
    "        print(col, len(gene_list))\n",
    "        col_name = col.lower().replace(\"-\", \" \")\n",
    "        col_name = col_name.replace(\" \", \"_\") + \"_marker\"\n",
    "        marker_columns.append(col_name)\n",
    "        adata.var[col_name] = adata.var.index.isin(gene_list)\n",
    "    \n",
    "adata.var['is_marker'] = adata.var[marker_columns].any(axis=1)\n",
    "print()\n",
    "adata"
   ]
  },
  {
   "cell_type": "code",
   "execution_count": 8,
   "id": "7f233087-a205-4064-a10a-a635b34f03e6",
   "metadata": {},
   "outputs": [
    {
     "data": {
      "text/plain": [
       "['PreBNK',\n",
       " 'LinNeg',\n",
       " 'HSC',\n",
       " 'CMP',\n",
       " 'MEP',\n",
       " 'MPP',\n",
       " 'GMP',\n",
       " 'MLP',\n",
       " 'EryP',\n",
       " 'MDP',\n",
       " 'MKP',\n",
       " 'Mono',\n",
       " 'CLP',\n",
       " 'T_cell',\n",
       " 'B_cell',\n",
       " 'NK',\n",
       " nan,\n",
       " 'LMPP',\n",
       " 'Dendritic_cell',\n",
       " 'Fib',\n",
       " 'iHSC']"
      ]
     },
     "execution_count": 8,
     "metadata": {},
     "output_type": "execute_result"
    }
   ],
   "source": [
    "list(adata.obs['standard_cell_type'].unique())"
   ]
  },
  {
   "cell_type": "markdown",
   "id": "34470e27-fc09-40d1-9de5-c98deb85d158",
   "metadata": {},
   "source": [
    "# Filtering"
   ]
  },
  {
   "cell_type": "code",
   "execution_count": 9,
   "id": "78984583-0c34-4600-a5d4-59af0222f04b",
   "metadata": {},
   "outputs": [],
   "source": [
    "# def filter_genes_by_group_min_count(adata, group_key, min_count):\n",
    "#     \"\"\"Filters genes in an AnnData object based on minimum count within all groups.\n",
    "\n",
    "#     Args:\n",
    "#         adata: The AnnData object.\n",
    "#         group_key: The key in `adata.obs` that defines the groups.\n",
    "#         min_count: The minimum count required for a gene within each group.\n",
    "\n",
    "#     Returns:\n",
    "#         AnnData: A new AnnData object with the filtered genes.\n",
    "#     \"\"\"\n",
    "\n",
    "#     gene_mask = None\n",
    "#     for group_name in adata.obs[group_key].unique():\n",
    "#         group_adata = adata[adata.obs[group_key] == group_name, :]\n",
    "#         gene_counts = group_adata.X.sum(axis=0)\n",
    "#         group_mask = gene_counts >= min_count\n",
    "#         print(f\"{group_key}: {group_name} - {group_mask.sum()} genes pass filter\")\n",
    "\n",
    "#         if gene_mask is None:\n",
    "#             gene_mask = group_mask\n",
    "#         else:\n",
    "#             gene_mask = gene_mask & group_mask\n",
    "\n",
    "#     filtered_adata = adata[:, gene_mask].copy()\n",
    "#     return filtered_adata\n",
    "    \n",
    "# adata = filter_genes_by_group_min_count(\n",
    "#     adata, \n",
    "#     group_key='dataset',\n",
    "#     min_count=1,\n",
    "# )\n",
    "\n",
    "# adata"
   ]
  },
  {
   "cell_type": "code",
   "execution_count": 10,
   "id": "be183a53-651d-4329-9d04-9d21ba563fdc",
   "metadata": {},
   "outputs": [
    {
     "data": {
      "text/plain": [
       "AnnData object with n_obs × n_vars = 171498 × 18867\n",
       "    obs: 'n_genes', 'dataset', 'n_genes_by_counts', 'total_counts', 'obs_index', 'cell_type', 'standard_cell_type'\n",
       "    var: 'n_cells_by_counts', 'mean_counts', 'pct_dropout_by_counts', 'total_counts', 'gene_id', 'token_id', 'gene_biotype', 'Chromosome', 'Start', 'End', 'fibroblasts_marker', 'hematopoietic_stem_cells_marker', 'large_intestine_fibroblast_marker', 'vasculature_fibroblast_marker', 'lung_alveolar_fibroblast_marker', 'lymph_node_hematopoietic_stem_cell_marker', 'prostate_fibroblast_marker', 'uterus_fibroblast_marker', 'liver_fibroblast_marker', 'lung_fibroblast_marker', 'tongue_fibroblast_marker', 'bladder_fibroblast_marker', 'pancreas_fibroblast_marker', 'spleen_hematopoietic_stem_cell_marker', 'heart_fibroblast_of_cardiac_tissue_marker', 'fat_fibroblast_marker', 'small_intestine_fibroblast_marker', 'trachea_fibroblast_marker', 'eye_fibroblast_marker', 'blood_hematopoietic_stem_cell_marker', 'mammary_fibroblast_of_breast_marker', 'bone_marrow_hematopoietic_stem_cell_marker', 'salivary_gland_fibroblast_marker', 'thymus_fibroblast_marker', 'is_marker', 'n_cells'\n",
       "    layers: 'counts'"
      ]
     },
     "execution_count": 10,
     "metadata": {},
     "output_type": "execute_result"
    }
   ],
   "source": [
    "sc.pp.filter_cells(adata, min_genes=200)\n",
    "sc.pp.filter_genes(adata, min_cells=5)\n",
    "\n",
    "adata"
   ]
  },
  {
   "cell_type": "code",
   "execution_count": 11,
   "id": "d590e66b-275b-476c-8339-9de150574f5f",
   "metadata": {},
   "outputs": [
    {
     "data": {
      "text/plain": [
       "['B_cell',\n",
       " 'CLP',\n",
       " 'CMP',\n",
       " 'Dendritic_cell',\n",
       " 'EryP',\n",
       " 'Fib',\n",
       " 'GMP',\n",
       " 'HSC',\n",
       " 'LMPP',\n",
       " 'LinNeg',\n",
       " 'MDP',\n",
       " 'MEP',\n",
       " 'MKP',\n",
       " 'MLP',\n",
       " 'MPP',\n",
       " 'Mono',\n",
       " 'NK',\n",
       " 'PreBNK',\n",
       " 'T_cell',\n",
       " 'iHSC']"
      ]
     },
     "execution_count": 11,
     "metadata": {},
     "output_type": "execute_result"
    }
   ],
   "source": [
    "cell_types = [\n",
    "    'PreBNK',\n",
    "    'LinNeg',\n",
    "    'HSC',\n",
    "    'CMP',\n",
    "    'MEP',\n",
    "    'MPP',\n",
    "    'GMP',\n",
    "    'MLP',\n",
    "    'EryP',\n",
    "    'MDP',\n",
    "    'MKP',\n",
    "    'Mono',\n",
    "    'CLP',\n",
    "    'T_cell',\n",
    "    'B_cell',\n",
    "    'NK',\n",
    "    'LMPP',\n",
    "    'Dendritic_cell',\n",
    "    'Fib',\n",
    "    'iHSC',\n",
    "]\n",
    "\n",
    "adata = adata[adata.obs['standard_cell_type'].notna(), :].copy()\n",
    "adata = adata[adata.obs['standard_cell_type'].isin(cell_types), :].copy()\n",
    "\n",
    "sorted(adata.obs['standard_cell_type'].unique())"
   ]
  },
  {
   "cell_type": "markdown",
   "id": "27bebe69-8873-41e2-bd12-6d8aed5335c4",
   "metadata": {},
   "source": [
    "# Randomly subsample the tabula sapiens fibroblast data"
   ]
  },
  {
   "cell_type": "code",
   "execution_count": 12,
   "id": "386b12cb-abdd-4ebe-9253-944dbb6b6293",
   "metadata": {},
   "outputs": [
    {
     "name": "stdout",
     "output_type": "stream",
     "text": [
      "Filtering for Fibroblasts from tabula_sapiens dataset...\n",
      "Found 26553 fibroblasts.\n",
      "Sampling 10000.0 fibroblasts...\n",
      "Sampling complete.\n",
      "Total fibroblasts: 168264\n",
      "Fibroblasts to keep: 10000\n",
      "Fibroblasts to drop: 16553\n"
     ]
    },
    {
     "data": {
      "text/plain": [
       "AnnData object with n_obs × n_vars = 151711 × 18867\n",
       "    obs: 'n_genes', 'dataset', 'n_genes_by_counts', 'total_counts', 'obs_index', 'cell_type', 'standard_cell_type'\n",
       "    var: 'n_cells_by_counts', 'mean_counts', 'pct_dropout_by_counts', 'total_counts', 'gene_id', 'token_id', 'gene_biotype', 'Chromosome', 'Start', 'End', 'fibroblasts_marker', 'hematopoietic_stem_cells_marker', 'large_intestine_fibroblast_marker', 'vasculature_fibroblast_marker', 'lung_alveolar_fibroblast_marker', 'lymph_node_hematopoietic_stem_cell_marker', 'prostate_fibroblast_marker', 'uterus_fibroblast_marker', 'liver_fibroblast_marker', 'lung_fibroblast_marker', 'tongue_fibroblast_marker', 'bladder_fibroblast_marker', 'pancreas_fibroblast_marker', 'spleen_hematopoietic_stem_cell_marker', 'heart_fibroblast_of_cardiac_tissue_marker', 'fat_fibroblast_marker', 'small_intestine_fibroblast_marker', 'trachea_fibroblast_marker', 'eye_fibroblast_marker', 'blood_hematopoietic_stem_cell_marker', 'mammary_fibroblast_of_breast_marker', 'bone_marrow_hematopoietic_stem_cell_marker', 'salivary_gland_fibroblast_marker', 'thymus_fibroblast_marker', 'is_marker', 'n_cells'\n",
       "    layers: 'counts'"
      ]
     },
     "execution_count": 12,
     "metadata": {},
     "output_type": "execute_result"
    }
   ],
   "source": [
    "sample_size = 1e4 # the numbner of fibroblast signatures to keep\n",
    "\n",
    "mask = (adata.obs['dataset'] == 'tabula_sapiens') & (adata.obs['standard_cell_type'] == 'Fib')\n",
    "\n",
    "print(f\"Filtering for Fibroblasts from tabula_sapiens dataset...\")\n",
    "fibdf = adata.obs[mask].copy()\n",
    "print(f\"Found {len(fibdf)} fibroblasts.\")\n",
    "\n",
    "print(f\"Sampling {sample_size} fibroblasts...\")\n",
    "keep = fibdf.sample(int(sample_size))\n",
    "keep = keep.index\n",
    "print(\"Sampling complete.\")\n",
    "\n",
    "fib_to_drop = fibdf[~fibdf.index.isin(keep)].index\n",
    "all_keep = ~adata.obs.index.isin(fib_to_drop)\n",
    "\n",
    "# Print the lengths\n",
    "print(f\"Total fibroblasts: {len(adata.obs.index)}\")\n",
    "print(f\"Fibroblasts to keep: {len(keep)}\")\n",
    "print(f\"Fibroblasts to drop: {len(fib_to_drop)}\") \n",
    "\n",
    "adata = adata[all_keep, :].copy()  \n",
    "adata"
   ]
  },
  {
   "cell_type": "markdown",
   "id": "b30c8a98-115f-43ad-b3b4-d6c2f873b2e4",
   "metadata": {},
   "source": [
    "# Preprocessing"
   ]
  },
  {
   "cell_type": "code",
   "execution_count": 13,
   "id": "5fbbea43-1083-45d0-ab7b-2163e6823a31",
   "metadata": {},
   "outputs": [
    {
     "name": "stdout",
     "output_type": "stream",
     "text": [
      "normalizing counts per cell\n",
      "    finished (0:00:01)\n"
     ]
    },
    {
     "data": {
      "text/plain": [
       "AnnData object with n_obs × n_vars = 151711 × 18867\n",
       "    obs: 'n_genes', 'dataset', 'n_genes_by_counts', 'total_counts', 'obs_index', 'cell_type', 'standard_cell_type'\n",
       "    var: 'n_cells_by_counts', 'mean_counts', 'pct_dropout_by_counts', 'total_counts', 'gene_id', 'token_id', 'gene_biotype', 'Chromosome', 'Start', 'End', 'fibroblasts_marker', 'hematopoietic_stem_cells_marker', 'large_intestine_fibroblast_marker', 'vasculature_fibroblast_marker', 'lung_alveolar_fibroblast_marker', 'lymph_node_hematopoietic_stem_cell_marker', 'prostate_fibroblast_marker', 'uterus_fibroblast_marker', 'liver_fibroblast_marker', 'lung_fibroblast_marker', 'tongue_fibroblast_marker', 'bladder_fibroblast_marker', 'pancreas_fibroblast_marker', 'spleen_hematopoietic_stem_cell_marker', 'heart_fibroblast_of_cardiac_tissue_marker', 'fat_fibroblast_marker', 'small_intestine_fibroblast_marker', 'trachea_fibroblast_marker', 'eye_fibroblast_marker', 'blood_hematopoietic_stem_cell_marker', 'mammary_fibroblast_of_breast_marker', 'bone_marrow_hematopoietic_stem_cell_marker', 'salivary_gland_fibroblast_marker', 'thymus_fibroblast_marker', 'is_marker', 'n_cells'\n",
       "    uns: 'log1p'\n",
       "    layers: 'counts', 'log_norm'"
      ]
     },
     "execution_count": 13,
     "metadata": {},
     "output_type": "execute_result"
    }
   ],
   "source": [
    "# Normalizing to median total counts\n",
    "sc.pp.normalize_total(adata, target_sum=1e4)\n",
    "sc.pp.log1p(adata)\n",
    "adata.layers[\"log_norm\"] = csr_matrix(adata.X.astype('float32').copy())\n",
    "\n",
    "adata"
   ]
  },
  {
   "cell_type": "markdown",
   "id": "815e7ecf-7f6e-4f9d-9a11-ad12a505b5e2",
   "metadata": {},
   "source": [
    "# Make reference and query data"
   ]
  },
  {
   "cell_type": "code",
   "execution_count": 14,
   "id": "54a867ba-45eb-417d-a302-8a12386b0a1c",
   "metadata": {},
   "outputs": [
    {
     "name": "stdout",
     "output_type": "stream",
     "text": [
      "AnnData object with n_obs × n_vars = 66500 × 18867\n",
      "    obs: 'n_genes', 'dataset', 'n_genes_by_counts', 'total_counts', 'obs_index', 'cell_type', 'standard_cell_type'\n",
      "    var: 'n_cells_by_counts', 'mean_counts', 'pct_dropout_by_counts', 'total_counts', 'gene_id', 'token_id', 'gene_biotype', 'Chromosome', 'Start', 'End', 'fibroblasts_marker', 'hematopoietic_stem_cells_marker', 'large_intestine_fibroblast_marker', 'vasculature_fibroblast_marker', 'lung_alveolar_fibroblast_marker', 'lymph_node_hematopoietic_stem_cell_marker', 'prostate_fibroblast_marker', 'uterus_fibroblast_marker', 'liver_fibroblast_marker', 'lung_fibroblast_marker', 'tongue_fibroblast_marker', 'bladder_fibroblast_marker', 'pancreas_fibroblast_marker', 'spleen_hematopoietic_stem_cell_marker', 'heart_fibroblast_of_cardiac_tissue_marker', 'fat_fibroblast_marker', 'small_intestine_fibroblast_marker', 'trachea_fibroblast_marker', 'eye_fibroblast_marker', 'blood_hematopoietic_stem_cell_marker', 'mammary_fibroblast_of_breast_marker', 'bone_marrow_hematopoietic_stem_cell_marker', 'salivary_gland_fibroblast_marker', 'thymus_fibroblast_marker', 'is_marker', 'n_cells'\n",
      "    uns: 'log1p'\n",
      "    layers: 'counts', 'log_norm'\n",
      "AnnData object with n_obs × n_vars = 8379 × 18867\n",
      "    obs: 'n_genes', 'dataset', 'n_genes_by_counts', 'total_counts', 'obs_index', 'cell_type', 'standard_cell_type'\n",
      "    var: 'n_cells_by_counts', 'mean_counts', 'pct_dropout_by_counts', 'total_counts', 'gene_id', 'token_id', 'gene_biotype', 'Chromosome', 'Start', 'End', 'fibroblasts_marker', 'hematopoietic_stem_cells_marker', 'large_intestine_fibroblast_marker', 'vasculature_fibroblast_marker', 'lung_alveolar_fibroblast_marker', 'lymph_node_hematopoietic_stem_cell_marker', 'prostate_fibroblast_marker', 'uterus_fibroblast_marker', 'liver_fibroblast_marker', 'lung_fibroblast_marker', 'tongue_fibroblast_marker', 'bladder_fibroblast_marker', 'pancreas_fibroblast_marker', 'spleen_hematopoietic_stem_cell_marker', 'heart_fibroblast_of_cardiac_tissue_marker', 'fat_fibroblast_marker', 'small_intestine_fibroblast_marker', 'trachea_fibroblast_marker', 'eye_fibroblast_marker', 'blood_hematopoietic_stem_cell_marker', 'mammary_fibroblast_of_breast_marker', 'bone_marrow_hematopoietic_stem_cell_marker', 'salivary_gland_fibroblast_marker', 'thymus_fibroblast_marker', 'is_marker', 'n_cells'\n",
      "    uns: 'log1p'\n",
      "    layers: 'counts', 'log_norm'\n"
     ]
    }
   ],
   "source": [
    "reference_data = [\n",
    "    'tabula_sapiens',\n",
    "    'weng_young2_all',\n",
    "    'sc_fib',\n",
    "    'pellin',\n",
    "    # 'weng_young2_HSC',\n",
    "    # 'weng_young1_all_t2',\n",
    "    # 'weng_young1_all_t1',\n",
    "]\n",
    "\n",
    "query_data = [\n",
    "    'iHSC',\n",
    "]\n",
    "\n",
    "# define data sets\n",
    "rdata = adata[adata.obs['dataset'].isin(reference_data), :].copy()\n",
    "print(rdata)\n",
    "qdata = adata[adata.obs['dataset'].isin(query_data), :].copy()\n",
    "print(qdata)"
   ]
  },
  {
   "cell_type": "code",
   "execution_count": 15,
   "id": "8bf0213c-9945-4705-b05a-9f2841e52c51",
   "metadata": {},
   "outputs": [
    {
     "data": {
      "text/plain": [
       "cell_label\n",
       "Fib               17736\n",
       "LinNeg            13396\n",
       "HSC                6978\n",
       "MEP                4817\n",
       "T_cell             4507\n",
       "B_cell             2915\n",
       "MPP                2515\n",
       "EryP               2127\n",
       "GMP                1934\n",
       "MKP                1932\n",
       "CMP                1889\n",
       "Mono               1434\n",
       "MDP                1138\n",
       "NK                 1017\n",
       "CLP                 947\n",
       "PreBNK              554\n",
       "LMPP                459\n",
       "MLP                 123\n",
       "Dendritic_cell       82\n",
       "Name: count, dtype: int64"
      ]
     },
     "execution_count": 15,
     "metadata": {},
     "output_type": "execute_result"
    }
   ],
   "source": [
    "rdata.obs['cell_label'] = rdata.obs['standard_cell_type'].apply(lambda x: str(x).strip())\n",
    "rdata.obs['cell_label'].value_counts()"
   ]
  },
  {
   "cell_type": "code",
   "execution_count": 16,
   "id": "4d05783d-40ef-4987-86f2-6a2e8038016f",
   "metadata": {},
   "outputs": [
    {
     "data": {
      "text/plain": [
       "cell_label\n",
       "Unknown    8379\n",
       "Name: count, dtype: int64"
      ]
     },
     "execution_count": 16,
     "metadata": {},
     "output_type": "execute_result"
    }
   ],
   "source": [
    "qdata.obs['cell_label'] = 'Unknown'\n",
    "qdata.obs['cell_label'].value_counts()"
   ]
  },
  {
   "cell_type": "markdown",
   "id": "14a31321-5f4e-4c9d-95ff-b2e2236aba5f",
   "metadata": {},
   "source": [
    "# Reference Mapping (scANVI)"
   ]
  },
  {
   "cell_type": "code",
   "execution_count": 17,
   "id": "1134b15a-8999-4917-858d-f03a63e4b018",
   "metadata": {},
   "outputs": [
    {
     "name": "stdout",
     "output_type": "stream",
     "text": [
      "extracting highly variable genes\n",
      "    finished (0:00:05)\n",
      "--> added\n",
      "    'highly_variable', boolean vector (adata.var)\n",
      "    'means', float vector (adata.var)\n",
      "    'dispersions', float vector (adata.var)\n",
      "    'dispersions_norm', float vector (adata.var)\n"
     ]
    }
   ],
   "source": [
    "sc.pp.highly_variable_genes(\n",
    "    rdata, \n",
    "    n_top_genes=1000,\n",
    "    batch_key=\"dataset\", \n",
    "    subset=True,\n",
    "    layer='log_norm',\n",
    ")"
   ]
  },
  {
   "cell_type": "code",
   "execution_count": 18,
   "id": "abbbdba3-27b1-4a97-8ea4-9a08de4f41d1",
   "metadata": {},
   "outputs": [],
   "source": [
    "scvi.model.SCVI.setup_anndata(\n",
    "    rdata, \n",
    "    batch_key=\"dataset\",\n",
    "    layer=\"counts\",\n",
    "    labels_key='cell_label',\n",
    ")"
   ]
  },
  {
   "cell_type": "code",
   "execution_count": 19,
   "id": "8ec6c474-56fb-4c3c-b802-6bcf23269eea",
   "metadata": {},
   "outputs": [
    {
     "name": "stderr",
     "output_type": "stream",
     "text": [
      "/home/cstansbu/miniconda3/envs/scanpy/lib/python3.12/site-packages/lightning/fabric/plugins/environments/slurm.py:204: The `srun` command is available on your system but is not used. HINT: If your intention is to run Lightning on SLURM, prepend your python command with `srun` like so: srun python /home/cstansbu/miniconda3/envs/scanpy/lib/python3.12 ...\n",
      "GPU available: True (cuda), used: True\n",
      "TPU available: False, using: 0 TPU cores\n",
      "HPU available: False, using: 0 HPUs\n",
      "/home/cstansbu/miniconda3/envs/scanpy/lib/python3.12/site-packages/lightning/fabric/plugins/environments/slurm.py:204: The `srun` command is available on your system but is not used. HINT: If your intention is to run Lightning on SLURM, prepend your python command with `srun` like so: srun python /home/cstansbu/miniconda3/envs/scanpy/lib/python3.12 ...\n",
      "You are using a CUDA device ('NVIDIA A100 80GB PCIe MIG 3g.40gb') that has Tensor Cores. To properly utilize them, you should set `torch.set_float32_matmul_precision('medium' | 'high')` which will trade-off precision for performance. For more details, read https://pytorch.org/docs/stable/generated/torch.set_float32_matmul_precision.html#torch.set_float32_matmul_precision\n",
      "LOCAL_RANK: 0 - CUDA_VISIBLE_DEVICES: [MIG-cfb2a8ae-864b-50df-94a5-98983023f29d]\n",
      "/home/cstansbu/miniconda3/envs/scanpy/lib/python3.12/site-packages/lightning/pytorch/trainer/connectors/data_connector.py:424: The 'train_dataloader' does not have many workers which may be a bottleneck. Consider increasing the value of the `num_workers` argument` to `num_workers=15` in the `DataLoader` to improve performance.\n"
     ]
    },
    {
     "data": {
      "application/vnd.jupyter.widget-view+json": {
       "model_id": "5194b2e8bda44a479674625e16d2cf32",
       "version_major": 2,
       "version_minor": 0
      },
      "text/plain": [
       "Training:   0%|          | 0/25 [00:00<?, ?it/s]"
      ]
     },
     "metadata": {},
     "output_type": "display_data"
    },
    {
     "name": "stderr",
     "output_type": "stream",
     "text": [
      "`Trainer.fit` stopped: `max_epochs=25` reached.\n"
     ]
    },
    {
     "name": "stdout",
     "output_type": "stream",
     "text": [
      "Training completed in 91.09 seconds\n",
      "Training time: 1 minutes 31 seconds\n"
     ]
    }
   ],
   "source": [
    "torch.cuda.empty_cache()\n",
    "\n",
    "model = scvi.model.SCVI(\n",
    "    rdata,\n",
    "    use_layer_norm=\"both\",\n",
    "    use_batch_norm=\"none\",\n",
    "    encode_covariates=True,\n",
    "    dropout_rate=0.2,\n",
    "    n_layers=4,\n",
    ")\n",
    "\n",
    "start_time = time.time()  # Record the start time\n",
    "\n",
    "model.train(\n",
    "    max_epochs=25,\n",
    "    accelerator='gpu',\n",
    "    train_size=0.8,\n",
    "    validation_size=0.2,\n",
    "    plan_kwargs={\"weight_decay\": 0.1},\n",
    ")\n",
    "\n",
    "end_time = time.time()  # Record the end time\n",
    "total_time = end_time - start_time  # Calculate total execution time\n",
    "\n",
    "print(f\"Training completed in {total_time:.2f} seconds\")\n",
    "\n",
    "# Optional: More detailed timing information\n",
    "minutes = int(total_time // 60)\n",
    "seconds = int(total_time % 60)\n",
    "print(f\"Training time: {minutes} minutes {seconds} seconds\")"
   ]
  },
  {
   "cell_type": "code",
   "execution_count": 20,
   "id": "f9d51fb7-083d-4a19-98a0-a12c02d124eb",
   "metadata": {},
   "outputs": [
    {
     "data": {
      "image/png": "[encoded data removed]",
      "text/plain": [
       "<Figure size 700x700 with 1 Axes>"
      ]
     },
     "metadata": {},
     "output_type": "display_data"
    }
   ],
   "source": [
    "metrics = pd.concat(\n",
    "    model.history.values(), \n",
    "    ignore_index=False,\n",
    "    axis=1\n",
    ")\n",
    "\n",
    "metrics = metrics.reset_index()\n",
    "\n",
    "plt.rcParams['figure.dpi'] = 200\n",
    "plt.rcParams['figure.figsize'] = 3.5, 3.5\n",
    "\n",
    "sns.lineplot(\n",
    "    data=metrics,\n",
    "    x='epoch',\n",
    "    y='train_loss_epoch',\n",
    "    linewidth=1.5,               \n",
    "    marker='o',          \n",
    "    markersize=5\n",
    ")\n",
    "\n",
    "plt.xlabel('Epoch')\n",
    "plt.ylabel('Training Loss')\n",
    "plt.xticks()\n",
    "plt.yticks()\n",
    "plt.grid(True, linestyle='--', alpha=0.5)  # Add a subtle grid\n",
    "\n",
    "sns.despine()\n",
    "\n",
    "plt.tight_layout()  # Adjust layout to prevent clipping\n",
    "plt.show()"
   ]
  },
  {
   "cell_type": "markdown",
   "id": "e4b999d7-16c3-46ac-9eb0-df60c8465e44",
   "metadata": {},
   "source": [
    "# SCANVI Model"
   ]
  },
  {
   "cell_type": "code",
   "execution_count": 21,
   "id": "4e2c910b-ffb6-482f-b0cb-4ce3cdcefd1b",
   "metadata": {},
   "outputs": [
    {
     "name": "stdout",
     "output_type": "stream",
     "text": [
      "\u001b[34mINFO    \u001b[0m Training for \u001b[1;36m25\u001b[0m epochs.                                                                                   \n"
     ]
    },
    {
     "name": "stderr",
     "output_type": "stream",
     "text": [
      "/home/cstansbu/miniconda3/envs/scanpy/lib/python3.12/site-packages/lightning/fabric/plugins/environments/slurm.py:204: The `srun` command is available on your system but is not used. HINT: If your intention is to run Lightning on SLURM, prepend your python command with `srun` like so: srun python /home/cstansbu/miniconda3/envs/scanpy/lib/python3.12 ...\n",
      "GPU available: True (cuda), used: True\n",
      "TPU available: False, using: 0 TPU cores\n",
      "HPU available: False, using: 0 HPUs\n",
      "/home/cstansbu/miniconda3/envs/scanpy/lib/python3.12/site-packages/lightning/fabric/plugins/environments/slurm.py:204: The `srun` command is available on your system but is not used. HINT: If your intention is to run Lightning on SLURM, prepend your python command with `srun` like so: srun python /home/cstansbu/miniconda3/envs/scanpy/lib/python3.12 ...\n",
      "LOCAL_RANK: 0 - CUDA_VISIBLE_DEVICES: [MIG-cfb2a8ae-864b-50df-94a5-98983023f29d]\n",
      "/home/cstansbu/miniconda3/envs/scanpy/lib/python3.12/site-packages/lightning/pytorch/trainer/connectors/data_connector.py:424: The 'train_dataloader' does not have many workers which may be a bottleneck. Consider increasing the value of the `num_workers` argument` to `num_workers=15` in the `DataLoader` to improve performance.\n"
     ]
    },
    {
     "data": {
      "application/vnd.jupyter.widget-view+json": {
       "model_id": "359289fcd6f549a6ab5518cde1b22d6e",
       "version_major": 2,
       "version_minor": 0
      },
      "text/plain": [
       "Training:   0%|          | 0/25 [00:00<?, ?it/s]"
      ]
     },
     "metadata": {},
     "output_type": "display_data"
    },
    {
     "name": "stderr",
     "output_type": "stream",
     "text": [
      "`Trainer.fit` stopped: `max_epochs=25` reached.\n"
     ]
    }
   ],
   "source": [
    "torch.cuda.empty_cache()\n",
    "\n",
    "# train the scanvi model\n",
    "scanvi_model = scvi.model.SCANVI.from_scvi_model(\n",
    "    model, \n",
    "    unlabeled_category=\"Unknown\",\n",
    ")\n",
    "\n",
    "scanvi_model.train(\n",
    "    max_epochs=25,\n",
    "    accelerator='gpu',\n",
    "    train_size=0.8,\n",
    "    validation_size=0.2,\n",
    "    plan_kwargs={\"weight_decay\": 0.1},\n",
    ")"
   ]
  },
  {
   "cell_type": "code",
   "execution_count": 22,
   "id": "52912331-8549-4e89-98aa-11dd6b3072ae",
   "metadata": {},
   "outputs": [
    {
     "data": {
      "image/png": "[encoded data removed]",
      "text/plain": [
       "<Figure size 700x700 with 1 Axes>"
      ]
     },
     "metadata": {},
     "output_type": "display_data"
    }
   ],
   "source": [
    "metrics = pd.concat(\n",
    "    scanvi_model.history.values(), \n",
    "    ignore_index=False,\n",
    "    axis=1\n",
    ")\n",
    "metrics = metrics.reset_index()\n",
    "\n",
    "plt.rcParams['figure.dpi'] = 200\n",
    "plt.rcParams['figure.figsize'] = 3.5, 3.5\n",
    "\n",
    "sns.lineplot(\n",
    "    data=metrics,\n",
    "    x='epoch',\n",
    "    y='train_loss_epoch',\n",
    "    linewidth=1.5,               \n",
    "    marker='o',          \n",
    "    markersize=5\n",
    ")\n",
    "\n",
    "plt.xlabel('Epoch')\n",
    "plt.ylabel('Training Loss')\n",
    "plt.xticks()\n",
    "plt.yticks()\n",
    "plt.grid(True, linestyle='--', alpha=0.5)  # Add a subtle grid\n",
    "\n",
    "sns.despine()\n",
    "\n",
    "plt.tight_layout()  # Adjust layout to prevent clipping\n",
    "plt.show()"
   ]
  },
  {
   "cell_type": "markdown",
   "id": "67906ed3-36b9-48b2-827a-7c31bcdc2634",
   "metadata": {},
   "source": [
    "# Latent Representations (SCVI)"
   ]
  },
  {
   "cell_type": "code",
   "execution_count": null,
   "id": "bdb40434-66c5-47a6-a9ff-6a15ee3b6166",
   "metadata": {},
   "outputs": [
    {
     "name": "stdout",
     "output_type": "stream",
     "text": [
      "computing neighbors\n",
      "    finished: added to `.uns['neighbors']`\n",
      "    `.obsp['distances']`, distances for each pair of neighbors\n",
      "    `.obsp['connectivities']`, weighted adjacency matrix (0:00:37)\n",
      "running Leiden clustering\n"
     ]
    },
    {
     "name": "stderr",
     "output_type": "stream",
     "text": [
      "/tmp/ipykernel_2652757/2167781162.py:13: FutureWarning: In the future, the default backend for leiden will be igraph instead of leidenalg.\n",
      "\n",
      " To achieve the future defaults please pass: flavor=\"igraph\" and n_iterations=2.  directed must also be False to work with igraph's implementation.\n",
      "  sc.tl.leiden(\n"
     ]
    },
    {
     "name": "stdout",
     "output_type": "stream",
     "text": [
      "    finished: found 40 clusters and added\n",
      "    'scanvi_clusters', the cluster labels (adata.obs, categorical) (0:00:16)\n",
      "computing UMAP\n"
     ]
    }
   ],
   "source": [
    "SCVI_LATENT_KEY = \"X_scVI\"\n",
    "SCANVI_LATENT_KEY = \"X_scANVI\"\n",
    "\n",
    "rdata.obsm[SCVI_LATENT_KEY] = model.get_latent_representation()\n",
    "rdata.obsm[SCANVI_LATENT_KEY] = scanvi_model.get_latent_representation()\n",
    "\n",
    "sc.pp.neighbors(\n",
    "    rdata, \n",
    "    n_neighbors=45,\n",
    "    use_rep=SCANVI_LATENT_KEY,\n",
    ")\n",
    "\n",
    "sc.tl.leiden(\n",
    "    rdata, \n",
    "    key_added='scanvi_clusters',\n",
    ")\n",
    "sc.tl.umap(\n",
    "    rdata,\n",
    ")\n",
    "sc.pl.umap(\n",
    "    rdata, \n",
    "    color=[\n",
    "        'dataset',\n",
    "        'standard_cell_type',\n",
    "        'scanvi_clusters',\n",
    "    ],\n",
    "    ncols=1,\n",
    ")"
   ]
  },
  {
   "cell_type": "code",
   "execution_count": null,
   "id": "1f8a9f34-e408-4afc-92e6-9bf1afc18ed4",
   "metadata": {},
   "outputs": [],
   "source": [
    "break"
   ]
  },
  {
   "cell_type": "markdown",
   "id": "dabda7ca-6302-4a0f-98e0-95a09a5c2b07",
   "metadata": {},
   "source": [
    "# Query mapping (SCANVI)"
   ]
  },
  {
   "cell_type": "code",
   "execution_count": null,
   "id": "a448982f-baa8-4653-84c4-9a6d8f7aa0dd",
   "metadata": {},
   "outputs": [],
   "source": [
    "scvi.model.SCANVI.prepare_query_anndata(\n",
    "    qdata, \n",
    "    scanvi_model,\n",
    ")\n",
    "\n",
    "scanvi_query = scvi.model.SCANVI.load_query_data(\n",
    "    qdata, \n",
    "    scanvi_model,\n",
    ")\n",
    "\n",
    "# ## IF USING SCVI\n",
    "# scvi.model.SCVI.prepare_query_anndata(\n",
    "#     qdata, \n",
    "#     model,\n",
    "# )\n",
    "\n",
    "# scvi_query = scvi.model.SCVI.load_query_data(\n",
    "#     qdata,\n",
    "#     model,\n",
    "# )\n",
    "\n",
    "print('Done!')"
   ]
  },
  {
   "cell_type": "code",
   "execution_count": null,
   "id": "f021c3d1-af59-4b43-8fb7-fde2477bb057",
   "metadata": {},
   "outputs": [],
   "source": [
    "torch.cuda.empty_cache()\n",
    "\n",
    "SCANVI_PREDICTIONS_KEY = \"predictions_scanvi\"\n",
    "\n",
    "scanvi_query.train(\n",
    "    max_epochs=5, \n",
    "    plan_kwargs={\"weight_decay\": 0.0},\n",
    ")\n",
    "\n",
    "qdata.obsm[SCANVI_LATENT_KEY] = scanvi_query.get_latent_representation()\n",
    "qdata.obs[SCANVI_PREDICTIONS_KEY] = scanvi_query.predict()\n",
    "\n",
    "qdata"
   ]
  },
  {
   "cell_type": "code",
   "execution_count": null,
   "id": "db56d432-d3c4-4bc6-974d-4d65b26614f7",
   "metadata": {},
   "outputs": [],
   "source": [
    "SCANVI_PREDICTIONS_KEY = \"predictions_scanvi\"\n",
    "\n",
    "qdata.obsm[SCANVI_LATENT_KEY] = scanvi_query.get_latent_representation()\n",
    "qdata.obs[SCANVI_PREDICTIONS_KEY] = scanvi_query.predict()\n",
    "qdata.obs[SCANVI_PREDICTIONS_KEY].value_counts()"
   ]
  },
  {
   "cell_type": "markdown",
   "id": "2eda1708-4e2d-4af7-82b2-6765e241648d",
   "metadata": {},
   "source": [
    "# Predicted Probability"
   ]
  },
  {
   "cell_type": "code",
   "execution_count": null,
   "id": "10d57c56-fab0-4971-ab59-afe68bd4db00",
   "metadata": {},
   "outputs": [],
   "source": [
    "pred_proba = scanvi_query.predict(soft=True)\n",
    "pred_proba.head()"
   ]
  },
  {
   "cell_type": "code",
   "execution_count": null,
   "id": "ce1cda28-5b92-4f91-95c0-3526fd948f16",
   "metadata": {},
   "outputs": [],
   "source": [
    "sns.histplot(\n",
    "    data=pred_proba,\n",
    "    x='HSC',\n",
    "    log_scale=True,\n",
    "    bins=31,\n",
    ")"
   ]
  },
  {
   "cell_type": "markdown",
   "id": "cc285e00-e7c5-48e7-b57c-e5b1e593ef8a",
   "metadata": {},
   "source": [
    "# Integrate"
   ]
  },
  {
   "cell_type": "code",
   "execution_count": null,
   "id": "035061a2-da2d-48b7-8335-80dead235d0f",
   "metadata": {},
   "outputs": [],
   "source": [
    "fdata = an.concat([rdata, qdata], label=\"batch\")\n",
    "fdata"
   ]
  },
  {
   "cell_type": "code",
   "execution_count": null,
   "id": "1544e2b5-5709-42cc-8793-0055980f9d0c",
   "metadata": {},
   "outputs": [],
   "source": [
    "sc.pp.neighbors(\n",
    "    fdata, \n",
    "    use_rep=SCANVI_LATENT_KEY,\n",
    ")\n",
    "\n",
    "sc.tl.umap(\n",
    "    fdata,\n",
    "    min_dist=0.15,\n",
    ")\n",
    "sc.pl.umap(\n",
    "    fdata, \n",
    "    color=[\n",
    "        'dataset',\n",
    "        'standard_cell_type',\n",
    "        'batch',\n",
    "    ],\n",
    "    ncols=1,\n",
    ")"
   ]
  },
  {
   "cell_type": "code",
   "execution_count": null,
   "id": "4c0070ca-476d-4a37-a4ac-13d8f0fc5c65",
   "metadata": {},
   "outputs": [],
   "source": [
    "cell_types = [\n",
    "    'iHSC',\n",
    "    'Fib',\n",
    "    'HSC',\n",
    "]\n",
    "\n",
    "datasets = [\n",
    "    'sc_fib',\n",
    "    'iHSC',\n",
    "    'weng_young2_all',\n",
    "]\n",
    "\n",
    "mask = fdata.obs['dataset'].isin(datasets) & fdata.obs['standard_cell_type'].isin(cell_types)\n",
    "\n",
    "sc.pl.umap(\n",
    "    fdata[mask, :],\n",
    "    color=[\n",
    "        'standard_cell_type',\n",
    "    ],\n",
    "    ncols=1,\n",
    ")"
   ]
  },
  {
   "cell_type": "markdown",
   "id": "c662fa26-8829-42d6-83e8-1f737939b32e",
   "metadata": {},
   "source": [
    "# Filtering"
   ]
  },
  {
   "cell_type": "code",
   "execution_count": null,
   "id": "a93e6444-3e9d-420a-9230-49853df2eac4",
   "metadata": {},
   "outputs": [],
   "source": [
    "# cell_types = [\n",
    "#     'iHSC',\n",
    "#     'Fib',\n",
    "#     'HSC',\n",
    "# ]\n",
    "\n",
    "# datasets = [\n",
    "#     'sc_fib',\n",
    "#     'iHSC',\n",
    "#     'weng_young2_all',\n",
    "# ]\n",
    "\n",
    "# bdata = fdata[fdata.obs['standard_cell_type'].isin(cell_types), :].copy()\n",
    "# bdata = bdata[bdata.obs['dataset'].isin(datasets), :].copy()\n",
    "# bdata"
   ]
  }
 ],
 "metadata": {
  "kernelspec": {
   "display_name": "scanpy",
   "language": "python",
   "name": "scanpy"
  },
  "language_info": {
   "codemirror_mode": {
    "name": "ipython",
    "version": 3
   },
   "file_extension": ".py",
   "mimetype": "text/x-python",
   "name": "python",
   "nbconvert_exporter": "python",
   "pygments_lexer": "ipython3",
   "version": "3.12.5"
  }
 },
 "nbformat": 4,
 "nbformat_minor": 5
}
