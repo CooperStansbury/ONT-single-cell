{
 "cells": [
  {
   "cell_type": "code",
   "execution_count": 1,
   "id": "054b73f3-f0d4-4a13-a0ea-d4a2e8273fab",
   "metadata": {},
   "outputs": [],
   "source": [
    "import sys\n",
    "import pandas as pd\n",
    "import numpy as np\n",
    "import matplotlib.pyplot as plt\n",
    "from mpl_toolkits.axes_grid1 import make_axes_locatable, axes_size\n",
    "import matplotlib.colors as mcolors\n",
    "from matplotlib.transforms import Bbox\n",
    "from matplotlib.colors import to_rgba\n",
    "from matplotlib.colors import LinearSegmentedColormap\n",
    "import seaborn as sns\n",
    "import scvi\n",
    "import scanpy as sc\n",
    "import anndata as an\n",
    "import scanpy.external as sce\n",
    "import scipy\n",
    "import scipy.sparse as sp\n",
    "import time\n",
    "import sklearn\n",
    "import torch\n",
    "from scipy.sparse import csr_matrix\n",
    "\n",
    "from importlib import reload\n",
    "\n",
    "# local imports\n",
    "import utils as ut\n",
    "import plotting as plt2\n",
    "\n",
    "sc.settings.verbosity = 3 "
   ]
  },
  {
   "cell_type": "code",
   "execution_count": 2,
   "id": "8decb9e0-64ed-4049-bd3a-aec9d0c62752",
   "metadata": {},
   "outputs": [
    {
     "name": "stdout",
     "output_type": "stream",
     "text": [
      "12.0\n"
     ]
    }
   ],
   "source": [
    "print(torch.version.cuda) "
   ]
  },
  {
   "cell_type": "code",
   "execution_count": 3,
   "id": "49903962-e639-459b-a83b-aca2eeec4aaa",
   "metadata": {},
   "outputs": [
    {
     "name": "stdout",
     "output_type": "stream",
     "text": [
      "CUDA available: True\n",
      "Number of GPUs: 1\n",
      "GPU 0: NVIDIA A100 80GB PCIe MIG 3g.40gb\n",
      "  Compute Capability: 8.0\n",
      "  Total Memory: 39.25 GB\n"
     ]
    }
   ],
   "source": [
    "# Check CUDA availability\n",
    "cuda_available = torch.cuda.is_available()\n",
    "print(f\"CUDA available: {cuda_available}\")\n",
    "\n",
    "if cuda_available:\n",
    "    num_gpus = torch.cuda.device_count()\n",
    "    print(f\"Number of GPUs: {num_gpus}\")\n",
    "\n",
    "    for i in range(num_gpus):\n",
    "        gpu_name = torch.cuda.get_device_name(i)\n",
    "        print(f\"GPU {i}: {gpu_name}\")\n",
    "\n",
    "        # Additional information (compute capability, memory)\n",
    "        gpu_props = torch.cuda.get_device_properties(i)\n",
    "        print(f\"  Compute Capability: {gpu_props.major}.{gpu_props.minor}\")\n",
    "        print(f\"  Total Memory: {gpu_props.total_memory / 1024**3:.2f} GB\")\n",
    "else:\n",
    "    print(\"CUDA not available. Running on CPU.\")"
   ]
  },
  {
   "cell_type": "code",
   "execution_count": 4,
   "id": "d16312cf-89a1-4bb8-9ec5-d311a5af965b",
   "metadata": {},
   "outputs": [],
   "source": [
    "def load_annotations(fpath):\n",
    "    \"\"\"\n",
    "    Loads annotations data from a CSV file, processes it, and returns the resulting DataFrame.\n",
    "\n",
    "    Args:\n",
    "        fpath (str): The file path to the CSV file containing annotations data.\n",
    "\n",
    "    Returns:\n",
    "        pd.DataFrame: The processed DataFrame with 'cell_id' as the index.\n",
    "    \"\"\"\n",
    "    df = pd.read_csv(fpath)\n",
    "    df['cell_id'] = df['obs_index'].astype(str) + \"_\" + df[\"dataset\"]\n",
    "    df = df.drop(columns='dataset')\n",
    "    df = df.set_index('cell_id')\n",
    "    return df"
   ]
  },
  {
   "cell_type": "code",
   "execution_count": 5,
   "id": "cccd8876-e903-48ff-9835-5acca3d50cae",
   "metadata": {},
   "outputs": [
    {
     "name": "stdout",
     "output_type": "stream",
     "text": [
      "Memory usage: current 8.69 GB, difference +8.69 GB\n",
      "AnnData object with n_obs × n_vars = 171498 × 18867\n",
      "    obs: 'n_genes', 'dataset', 'n_genes_by_counts', 'total_counts'\n",
      "    var: 'n_cells_by_counts', 'mean_counts', 'pct_dropout_by_counts', 'total_counts', 'gene_id', 'token_id', 'gene_biotype', 'Chromosome', 'Start', 'End'\n",
      "    layers: 'counts'\n",
      "df.shape=(171498, 3)\n"
     ]
    },
    {
     "data": {
      "text/plain": [
       "AnnData object with n_obs × n_vars = 171498 × 18867\n",
       "    obs: 'n_genes', 'dataset', 'n_genes_by_counts', 'total_counts', 'obs_index', 'cell_type', 'standard_cell_type'\n",
       "    var: 'n_cells_by_counts', 'mean_counts', 'pct_dropout_by_counts', 'total_counts', 'gene_id', 'token_id', 'gene_biotype', 'Chromosome', 'Start', 'End'\n",
       "    layers: 'counts'"
      ]
     },
     "execution_count": 5,
     "metadata": {},
     "output_type": "execute_result"
    }
   ],
   "source": [
    "\"\"\"\n",
    "DATA\n",
    "\"\"\"\n",
    "fpath = \"/scratch/indikar_root/indikar1/shared_data/hematokytos/merged_anndata/merged_adata.h5ad\"\n",
    "adata = sc.read_h5ad(fpath)\n",
    "sc.logging.print_memory_usage()\n",
    "print(adata)\n",
    "\n",
    "\"\"\"\n",
    "ANNOTATIONS\n",
    "\"\"\"\n",
    "fpath = \"/scratch/indikar_root/indikar1/shared_data/hematokytos/annotation/cell_types.csv\"\n",
    "df = load_annotations(fpath)\n",
    "df = df[df.index.isin(adata.obs_names)]\n",
    "print(f\"{df.shape=}\")\n",
    "\n",
    "adata.obs = pd.concat([adata.obs, df], ignore_index=False, axis=1)\n",
    "adata"
   ]
  },
  {
   "cell_type": "code",
   "execution_count": 6,
   "id": "cdcb7df4-6f4d-45fa-a13a-7da11c8d5dd7",
   "metadata": {},
   "outputs": [
    {
     "name": "stdout",
     "output_type": "stream",
     "text": [
      "Fibroblasts 232\n",
      "Hematopoietic Stem Cells 178\n",
      "Lung-alveolar Fibroblast 100\n",
      "Tongue-fibroblast 100\n",
      "Spleen-hematopoietic Stem Cell 100\n",
      "Eye-fibroblast 100\n",
      "Pancreas-fibroblast 100\n",
      "Large Intestine-fibroblast 100\n",
      "Liver-fibroblast 100\n",
      "Mammary-fibroblast Of Breast 100\n",
      "Small Intestine-fibroblast 100\n",
      "Trachea-fibroblast 100\n",
      "Lymph Node-hematopoietic Stem Cell 100\n",
      "Thymus-fibroblast 100\n",
      "Blood-hematopoietic Stem Cell 100\n",
      "Heart-fibroblast Of Cardiac Tissue 100\n",
      "Fat-fibroblast 100\n",
      "Bone Marrow-hematopoietic Stem Cell 100\n",
      "Vasculature-fibroblast 100\n",
      "Bladder-fibroblast 100\n",
      "Salivary Gland-fibroblast 100\n",
      "Prostate-fibroblast 100\n",
      "Lung-fibroblast 100\n",
      "Uterus-fibroblast 100\n",
      "\n"
     ]
    },
    {
     "data": {
      "text/plain": [
       "AnnData object with n_obs × n_vars = 171498 × 18867\n",
       "    obs: 'n_genes', 'dataset', 'n_genes_by_counts', 'total_counts', 'obs_index', 'cell_type', 'standard_cell_type'\n",
       "    var: 'n_cells_by_counts', 'mean_counts', 'pct_dropout_by_counts', 'total_counts', 'gene_id', 'token_id', 'gene_biotype', 'Chromosome', 'Start', 'End', 'fibroblasts_marker', 'hematopoietic_stem_cells_marker', 'lung_alveolar_fibroblast_marker', 'tongue_fibroblast_marker', 'spleen_hematopoietic_stem_cell_marker', 'eye_fibroblast_marker', 'pancreas_fibroblast_marker', 'large_intestine_fibroblast_marker', 'liver_fibroblast_marker', 'mammary_fibroblast_of_breast_marker', 'small_intestine_fibroblast_marker', 'trachea_fibroblast_marker', 'lymph_node_hematopoietic_stem_cell_marker', 'thymus_fibroblast_marker', 'blood_hematopoietic_stem_cell_marker', 'heart_fibroblast_of_cardiac_tissue_marker', 'fat_fibroblast_marker', 'bone_marrow_hematopoietic_stem_cell_marker', 'vasculature_fibroblast_marker', 'bladder_fibroblast_marker', 'salivary_gland_fibroblast_marker', 'prostate_fibroblast_marker', 'lung_fibroblast_marker', 'uterus_fibroblast_marker', 'is_marker'\n",
       "    layers: 'counts'"
      ]
     },
     "execution_count": 6,
     "metadata": {},
     "output_type": "execute_result"
    }
   ],
   "source": [
    "fpaths = [\n",
    "    \"../resources/PanglaoDB_Augmented_2021.txt\",\n",
    "    \"../resources/Tabula_Sapiens.txt\",\n",
    "]\n",
    "\n",
    "marker_columns = []\n",
    "\n",
    "for fpath in fpaths:    \n",
    "    features = ut.load_pathway(fpath)\n",
    "\n",
    "    # extract columns\n",
    "    hsc_columns = [x for x in features.columns if \"hemato\" in x.lower()]\n",
    "    fib_columns = [x for x in features.columns if \"fibroblast\" in x.lower()]\n",
    "    fib_columns = [x for x in fib_columns if not \"myofibr\" in x.lower()]\n",
    "    \n",
    "    columns = list(set(hsc_columns + fib_columns))\n",
    "\n",
    "    for col in columns:\n",
    "        gene_list = list(features[features[col].astype(bool)].index)\n",
    "        print(col, len(gene_list))\n",
    "        col_name = col.lower().replace(\"-\", \" \")\n",
    "        col_name = col_name.replace(\" \", \"_\") + \"_marker\"\n",
    "        marker_columns.append(col_name)\n",
    "        adata.var[col_name] = adata.var.index.isin(gene_list)\n",
    "    \n",
    "adata.var['is_marker'] = adata.var[marker_columns].any(axis=1)\n",
    "print()\n",
    "adata"
   ]
  },
  {
   "cell_type": "markdown",
   "id": "b30c8a98-115f-43ad-b3b4-d6c2f873b2e4",
   "metadata": {},
   "source": [
    "# Preprocessing"
   ]
  },
  {
   "cell_type": "code",
   "execution_count": 7,
   "id": "5fbbea43-1083-45d0-ab7b-2163e6823a31",
   "metadata": {},
   "outputs": [
    {
     "name": "stdout",
     "output_type": "stream",
     "text": [
      "normalizing counts per cell\n",
      "    finished (0:00:02)\n"
     ]
    },
    {
     "data": {
      "text/plain": [
       "AnnData object with n_obs × n_vars = 171498 × 18867\n",
       "    obs: 'n_genes', 'dataset', 'n_genes_by_counts', 'total_counts', 'obs_index', 'cell_type', 'standard_cell_type'\n",
       "    var: 'n_cells_by_counts', 'mean_counts', 'pct_dropout_by_counts', 'total_counts', 'gene_id', 'token_id', 'gene_biotype', 'Chromosome', 'Start', 'End', 'fibroblasts_marker', 'hematopoietic_stem_cells_marker', 'lung_alveolar_fibroblast_marker', 'tongue_fibroblast_marker', 'spleen_hematopoietic_stem_cell_marker', 'eye_fibroblast_marker', 'pancreas_fibroblast_marker', 'large_intestine_fibroblast_marker', 'liver_fibroblast_marker', 'mammary_fibroblast_of_breast_marker', 'small_intestine_fibroblast_marker', 'trachea_fibroblast_marker', 'lymph_node_hematopoietic_stem_cell_marker', 'thymus_fibroblast_marker', 'blood_hematopoietic_stem_cell_marker', 'heart_fibroblast_of_cardiac_tissue_marker', 'fat_fibroblast_marker', 'bone_marrow_hematopoietic_stem_cell_marker', 'vasculature_fibroblast_marker', 'bladder_fibroblast_marker', 'salivary_gland_fibroblast_marker', 'prostate_fibroblast_marker', 'lung_fibroblast_marker', 'uterus_fibroblast_marker', 'is_marker'\n",
       "    uns: 'log1p'\n",
       "    layers: 'counts', 'log_norm'"
      ]
     },
     "execution_count": 7,
     "metadata": {},
     "output_type": "execute_result"
    }
   ],
   "source": [
    "# Normalizing to median total counts\n",
    "sc.pp.normalize_total(adata, target_sum=1e4)\n",
    "sc.pp.log1p(adata)\n",
    "adata.layers[\"log_norm\"] = csr_matrix(adata.X.astype('float32').copy())\n",
    "\n",
    "adata"
   ]
  },
  {
   "cell_type": "markdown",
   "id": "07267c07-2579-48bb-ba30-ba5f5fcf82db",
   "metadata": {},
   "source": [
    "# Filtering"
   ]
  },
  {
   "cell_type": "code",
   "execution_count": 8,
   "id": "4f4542fa-1ea9-41da-9d98-38bc92d2a2eb",
   "metadata": {},
   "outputs": [
    {
     "data": {
      "text/plain": [
       "AnnData object with n_obs × n_vars = 168264 × 18867\n",
       "    obs: 'n_genes', 'dataset', 'n_genes_by_counts', 'total_counts', 'obs_index', 'cell_type', 'standard_cell_type'\n",
       "    var: 'n_cells_by_counts', 'mean_counts', 'pct_dropout_by_counts', 'total_counts', 'gene_id', 'token_id', 'gene_biotype', 'Chromosome', 'Start', 'End', 'fibroblasts_marker', 'hematopoietic_stem_cells_marker', 'lung_alveolar_fibroblast_marker', 'tongue_fibroblast_marker', 'spleen_hematopoietic_stem_cell_marker', 'eye_fibroblast_marker', 'pancreas_fibroblast_marker', 'large_intestine_fibroblast_marker', 'liver_fibroblast_marker', 'mammary_fibroblast_of_breast_marker', 'small_intestine_fibroblast_marker', 'trachea_fibroblast_marker', 'lymph_node_hematopoietic_stem_cell_marker', 'thymus_fibroblast_marker', 'blood_hematopoietic_stem_cell_marker', 'heart_fibroblast_of_cardiac_tissue_marker', 'fat_fibroblast_marker', 'bone_marrow_hematopoietic_stem_cell_marker', 'vasculature_fibroblast_marker', 'bladder_fibroblast_marker', 'salivary_gland_fibroblast_marker', 'prostate_fibroblast_marker', 'lung_fibroblast_marker', 'uterus_fibroblast_marker', 'is_marker'\n",
       "    uns: 'log1p'\n",
       "    layers: 'counts', 'log_norm'"
      ]
     },
     "execution_count": 8,
     "metadata": {},
     "output_type": "execute_result"
    }
   ],
   "source": [
    "adata = adata[adata.obs['standard_cell_type'].notna(), :].copy()\n",
    "adata = adata[adata.obs['standard_cell_type'] != 'NA', :].copy()\n",
    "adata"
   ]
  },
  {
   "cell_type": "code",
   "execution_count": 9,
   "id": "54a867ba-45eb-417d-a302-8a12386b0a1c",
   "metadata": {},
   "outputs": [
    {
     "name": "stdout",
     "output_type": "stream",
     "text": [
      "AnnData object with n_obs × n_vars = 126515 × 18867\n",
      "    obs: 'n_genes', 'dataset', 'n_genes_by_counts', 'total_counts', 'obs_index', 'cell_type', 'standard_cell_type'\n",
      "    var: 'n_cells_by_counts', 'mean_counts', 'pct_dropout_by_counts', 'total_counts', 'gene_id', 'token_id', 'gene_biotype', 'Chromosome', 'Start', 'End', 'fibroblasts_marker', 'hematopoietic_stem_cells_marker', 'lung_alveolar_fibroblast_marker', 'tongue_fibroblast_marker', 'spleen_hematopoietic_stem_cell_marker', 'eye_fibroblast_marker', 'pancreas_fibroblast_marker', 'large_intestine_fibroblast_marker', 'liver_fibroblast_marker', 'mammary_fibroblast_of_breast_marker', 'small_intestine_fibroblast_marker', 'trachea_fibroblast_marker', 'lymph_node_hematopoietic_stem_cell_marker', 'thymus_fibroblast_marker', 'blood_hematopoietic_stem_cell_marker', 'heart_fibroblast_of_cardiac_tissue_marker', 'fat_fibroblast_marker', 'bone_marrow_hematopoietic_stem_cell_marker', 'vasculature_fibroblast_marker', 'bladder_fibroblast_marker', 'salivary_gland_fibroblast_marker', 'prostate_fibroblast_marker', 'lung_fibroblast_marker', 'uterus_fibroblast_marker', 'is_marker'\n",
      "    uns: 'log1p'\n",
      "    layers: 'counts', 'log_norm'\n",
      "AnnData object with n_obs × n_vars = 8379 × 18867\n",
      "    obs: 'n_genes', 'dataset', 'n_genes_by_counts', 'total_counts', 'obs_index', 'cell_type', 'standard_cell_type'\n",
      "    var: 'n_cells_by_counts', 'mean_counts', 'pct_dropout_by_counts', 'total_counts', 'gene_id', 'token_id', 'gene_biotype', 'Chromosome', 'Start', 'End', 'fibroblasts_marker', 'hematopoietic_stem_cells_marker', 'lung_alveolar_fibroblast_marker', 'tongue_fibroblast_marker', 'spleen_hematopoietic_stem_cell_marker', 'eye_fibroblast_marker', 'pancreas_fibroblast_marker', 'large_intestine_fibroblast_marker', 'liver_fibroblast_marker', 'mammary_fibroblast_of_breast_marker', 'small_intestine_fibroblast_marker', 'trachea_fibroblast_marker', 'lymph_node_hematopoietic_stem_cell_marker', 'thymus_fibroblast_marker', 'blood_hematopoietic_stem_cell_marker', 'heart_fibroblast_of_cardiac_tissue_marker', 'fat_fibroblast_marker', 'bone_marrow_hematopoietic_stem_cell_marker', 'vasculature_fibroblast_marker', 'bladder_fibroblast_marker', 'salivary_gland_fibroblast_marker', 'prostate_fibroblast_marker', 'lung_fibroblast_marker', 'uterus_fibroblast_marker', 'is_marker'\n",
      "    uns: 'log1p'\n",
      "    layers: 'counts', 'log_norm'\n"
     ]
    }
   ],
   "source": [
    "reference_data = [\n",
    "    'tabula_sapiens',\n",
    "    'pellin',\n",
    "    'weng_young2_all',\n",
    "    'weng_young1_all_t2',\n",
    "    'weng_young1_all_t1',\n",
    "    'sc_fib',\n",
    "]\n",
    "\n",
    "query_data = [\n",
    "    'iHSC',\n",
    "]\n",
    "\n",
    "# define data sets\n",
    "rdata = adata[adata.obs['dataset'].isin(reference_data), :].copy()\n",
    "print(rdata)\n",
    "qdata = adata[adata.obs['dataset'].isin(query_data), :].copy()\n",
    "print(qdata)"
   ]
  },
  {
   "cell_type": "code",
   "execution_count": 10,
   "id": "8bf0213c-9945-4705-b05a-9f2841e52c51",
   "metadata": {},
   "outputs": [
    {
     "data": {
      "text/plain": [
       "cell_label\n",
       "Fib               34289\n",
       "HSC               16332\n",
       "LinNeg            13396\n",
       "T_cell            12091\n",
       "MPP                7898\n",
       "B_cell             6638\n",
       "MEP                6430\n",
       "EryP               5889\n",
       "NK                 3954\n",
       "GMP                3657\n",
       "CLP                3345\n",
       "MKP                3147\n",
       "Mono               2728\n",
       "CMP                2666\n",
       "MDP                2091\n",
       "LMPP                805\n",
       "PreBNK              554\n",
       "Dendritic_cell      482\n",
       "MLP                 123\n",
       "Name: count, dtype: int64"
      ]
     },
     "execution_count": 10,
     "metadata": {},
     "output_type": "execute_result"
    }
   ],
   "source": [
    "rdata.obs['cell_label'] = rdata.obs['standard_cell_type'].apply(lambda x: str(x).strip())\n",
    "rdata.obs['cell_label'].value_counts()"
   ]
  },
  {
   "cell_type": "code",
   "execution_count": 11,
   "id": "4d05783d-40ef-4987-86f2-6a2e8038016f",
   "metadata": {},
   "outputs": [
    {
     "data": {
      "text/plain": [
       "cell_label\n",
       "Unknown    8379\n",
       "Name: count, dtype: int64"
      ]
     },
     "execution_count": 11,
     "metadata": {},
     "output_type": "execute_result"
    }
   ],
   "source": [
    "qdata.obs['cell_label'] = 'Unknown'\n",
    "qdata.obs['cell_label'].value_counts()"
   ]
  },
  {
   "cell_type": "code",
   "execution_count": 12,
   "id": "df53e17a-66b2-41cc-aa3b-20929712b9f5",
   "metadata": {},
   "outputs": [],
   "source": [
    "# break"
   ]
  },
  {
   "cell_type": "markdown",
   "id": "14a31321-5f4e-4c9d-95ff-b2e2236aba5f",
   "metadata": {},
   "source": [
    "# Reference Mapping (scANVI)"
   ]
  },
  {
   "cell_type": "code",
   "execution_count": 13,
   "id": "1134b15a-8999-4917-858d-f03a63e4b018",
   "metadata": {},
   "outputs": [
    {
     "name": "stdout",
     "output_type": "stream",
     "text": [
      "extracting highly variable genes\n",
      "    finished (0:00:12)\n",
      "--> added\n",
      "    'highly_variable', boolean vector (adata.var)\n",
      "    'means', float vector (adata.var)\n",
      "    'dispersions', float vector (adata.var)\n",
      "    'dispersions_norm', float vector (adata.var)\n"
     ]
    }
   ],
   "source": [
    "sc.pp.highly_variable_genes(\n",
    "    rdata, \n",
    "    n_top_genes=2000,\n",
    "    batch_key=\"dataset\", \n",
    "    subset=True,\n",
    "    layer='log_norm',\n",
    ")"
   ]
  },
  {
   "cell_type": "code",
   "execution_count": 14,
   "id": "abbbdba3-27b1-4a97-8ea4-9a08de4f41d1",
   "metadata": {},
   "outputs": [],
   "source": [
    "scvi.model.SCVI.setup_anndata(\n",
    "    rdata, \n",
    "    batch_key=\"dataset\",\n",
    "    layer=\"counts\",\n",
    "    labels_key='cell_label',\n",
    ")"
   ]
  },
  {
   "cell_type": "code",
   "execution_count": 15,
   "id": "8ec6c474-56fb-4c3c-b802-6bcf23269eea",
   "metadata": {},
   "outputs": [
    {
     "name": "stderr",
     "output_type": "stream",
     "text": [
      "/home/cstansbu/miniconda3/envs/scanpy/lib/python3.12/site-packages/lightning/fabric/plugins/environments/slurm.py:204: The `srun` command is available on your system but is not used. HINT: If your intention is to run Lightning on SLURM, prepend your python command with `srun` like so: srun python /home/cstansbu/miniconda3/envs/scanpy/lib/python3.12 ...\n",
      "GPU available: True (cuda), used: True\n",
      "TPU available: False, using: 0 TPU cores\n",
      "HPU available: False, using: 0 HPUs\n",
      "/home/cstansbu/miniconda3/envs/scanpy/lib/python3.12/site-packages/lightning/fabric/plugins/environments/slurm.py:204: The `srun` command is available on your system but is not used. HINT: If your intention is to run Lightning on SLURM, prepend your python command with `srun` like so: srun python /home/cstansbu/miniconda3/envs/scanpy/lib/python3.12 ...\n",
      "You are using a CUDA device ('NVIDIA A100 80GB PCIe MIG 3g.40gb') that has Tensor Cores. To properly utilize them, you should set `torch.set_float32_matmul_precision('medium' | 'high')` which will trade-off precision for performance. For more details, read https://pytorch.org/docs/stable/generated/torch.set_float32_matmul_precision.html#torch.set_float32_matmul_precision\n",
      "LOCAL_RANK: 0 - CUDA_VISIBLE_DEVICES: [MIG-cfb2a8ae-864b-50df-94a5-98983023f29d]\n",
      "/home/cstansbu/miniconda3/envs/scanpy/lib/python3.12/site-packages/lightning/pytorch/trainer/connectors/data_connector.py:424: The 'train_dataloader' does not have many workers which may be a bottleneck. Consider increasing the value of the `num_workers` argument` to `num_workers=15` in the `DataLoader` to improve performance.\n"
     ]
    },
    {
     "data": {
      "application/vnd.jupyter.widget-view+json": {
       "model_id": "e99c3ba66dfa415b989b0fde882399eb",
       "version_major": 2,
       "version_minor": 0
      },
      "text/plain": [
       "Training:   0%|          | 0/10 [00:00<?, ?it/s]"
      ]
     },
     "metadata": {},
     "output_type": "display_data"
    },
    {
     "name": "stderr",
     "output_type": "stream",
     "text": [
      "`Trainer.fit` stopped: `max_epochs=10` reached.\n"
     ]
    },
    {
     "name": "stdout",
     "output_type": "stream",
     "text": [
      "Training completed in 69.43 seconds\n",
      "Training time: 1 minutes 9 seconds\n"
     ]
    }
   ],
   "source": [
    "torch.cuda.empty_cache()\n",
    "\n",
    "model = scvi.model.SCVI(\n",
    "    rdata,\n",
    "    use_layer_norm=\"both\",\n",
    "    use_batch_norm=\"none\",\n",
    "    encode_covariates=True,\n",
    "    dropout_rate=0.2,\n",
    "    n_layers=2,\n",
    ")\n",
    "\n",
    "start_time = time.time()  # Record the start time\n",
    "\n",
    "model.train(\n",
    "    max_epochs=10,\n",
    "    accelerator='gpu',\n",
    "    train_size=0.8,\n",
    "    validation_size=0.2,\n",
    "    plan_kwargs={\"weight_decay\": 0.1},\n",
    ")\n",
    "\n",
    "end_time = time.time()  # Record the end time\n",
    "total_time = end_time - start_time  # Calculate total execution time\n",
    "\n",
    "print(f\"Training completed in {total_time:.2f} seconds\")\n",
    "\n",
    "# Optional: More detailed timing information\n",
    "minutes = int(total_time // 60)\n",
    "seconds = int(total_time % 60)\n",
    "print(f\"Training time: {minutes} minutes {seconds} seconds\")"
   ]
  },
  {
   "cell_type": "code",
   "execution_count": 16,
   "id": "f9d51fb7-083d-4a19-98a0-a12c02d124eb",
   "metadata": {},
   "outputs": [
    {
     "data": {
      "image/png": "[encoded data removed]",
      "text/plain": [
       "<Figure size 700x700 with 1 Axes>"
      ]
     },
     "metadata": {},
     "output_type": "display_data"
    }
   ],
   "source": [
    "metrics = pd.concat(\n",
    "    model.history.values(), \n",
    "    ignore_index=False,\n",
    "    axis=1\n",
    ")\n",
    "\n",
    "metrics = metrics.reset_index()\n",
    "\n",
    "plt.rcParams['figure.dpi'] = 200\n",
    "plt.rcParams['figure.figsize'] = 3.5, 3.5\n",
    "\n",
    "sns.lineplot(\n",
    "    data=metrics,\n",
    "    x='epoch',\n",
    "    y='train_loss_epoch',\n",
    "    linewidth=1.5,               \n",
    "    marker='o',          \n",
    "    markersize=5\n",
    ")\n",
    "\n",
    "plt.xlabel('Epoch')\n",
    "plt.ylabel('Training Loss')\n",
    "plt.xticks()\n",
    "plt.yticks()\n",
    "plt.grid(True, linestyle='--', alpha=0.5)  # Add a subtle grid\n",
    "\n",
    "sns.despine()\n",
    "\n",
    "plt.tight_layout()  # Adjust layout to prevent clipping\n",
    "plt.show()"
   ]
  },
  {
   "cell_type": "markdown",
   "id": "e4b999d7-16c3-46ac-9eb0-df60c8465e44",
   "metadata": {},
   "source": [
    "# SCANVI Model"
   ]
  },
  {
   "cell_type": "code",
   "execution_count": 17,
   "id": "4e2c910b-ffb6-482f-b0cb-4ce3cdcefd1b",
   "metadata": {},
   "outputs": [
    {
     "name": "stdout",
     "output_type": "stream",
     "text": [
      "\u001b[34mINFO    \u001b[0m Training for \u001b[1;36m10\u001b[0m epochs.                                                                                   \n"
     ]
    },
    {
     "name": "stderr",
     "output_type": "stream",
     "text": [
      "/home/cstansbu/miniconda3/envs/scanpy/lib/python3.12/site-packages/lightning/fabric/plugins/environments/slurm.py:204: The `srun` command is available on your system but is not used. HINT: If your intention is to run Lightning on SLURM, prepend your python command with `srun` like so: srun python /home/cstansbu/miniconda3/envs/scanpy/lib/python3.12 ...\n",
      "GPU available: True (cuda), used: True\n",
      "TPU available: False, using: 0 TPU cores\n",
      "HPU available: False, using: 0 HPUs\n",
      "/home/cstansbu/miniconda3/envs/scanpy/lib/python3.12/site-packages/lightning/fabric/plugins/environments/slurm.py:204: The `srun` command is available on your system but is not used. HINT: If your intention is to run Lightning on SLURM, prepend your python command with `srun` like so: srun python /home/cstansbu/miniconda3/envs/scanpy/lib/python3.12 ...\n",
      "LOCAL_RANK: 0 - CUDA_VISIBLE_DEVICES: [MIG-cfb2a8ae-864b-50df-94a5-98983023f29d]\n",
      "/home/cstansbu/miniconda3/envs/scanpy/lib/python3.12/site-packages/lightning/pytorch/trainer/connectors/data_connector.py:424: The 'train_dataloader' does not have many workers which may be a bottleneck. Consider increasing the value of the `num_workers` argument` to `num_workers=15` in the `DataLoader` to improve performance.\n"
     ]
    },
    {
     "data": {
      "application/vnd.jupyter.widget-view+json": {
       "model_id": "1be238a36e4948aa995d87762d374385",
       "version_major": 2,
       "version_minor": 0
      },
      "text/plain": [
       "Training:   0%|          | 0/10 [00:00<?, ?it/s]"
      ]
     },
     "metadata": {},
     "output_type": "display_data"
    },
    {
     "name": "stderr",
     "output_type": "stream",
     "text": [
      "`Trainer.fit` stopped: `max_epochs=10` reached.\n"
     ]
    }
   ],
   "source": [
    "torch.cuda.empty_cache()\n",
    "\n",
    "# train the scanvi model\n",
    "scanvi_model = scvi.model.SCANVI.from_scvi_model(\n",
    "    model, \n",
    "    unlabeled_category=\"Unknown\",\n",
    ")\n",
    "\n",
    "scanvi_model.train(\n",
    "    max_epochs=10,\n",
    "    accelerator='gpu',\n",
    "    train_size=0.8,\n",
    "    validation_size=0.2,\n",
    "    plan_kwargs={\"weight_decay\": 0.1},\n",
    ")"
   ]
  },
  {
   "cell_type": "code",
   "execution_count": 18,
   "id": "52912331-8549-4e89-98aa-11dd6b3072ae",
   "metadata": {},
   "outputs": [
    {
     "data": {
      "image/png": "[encoded data removed]",
      "text/plain": [
       "<Figure size 700x700 with 1 Axes>"
      ]
     },
     "metadata": {},
     "output_type": "display_data"
    }
   ],
   "source": [
    "metrics = pd.concat(\n",
    "    scanvi_model.history.values(), \n",
    "    ignore_index=False,\n",
    "    axis=1\n",
    ")\n",
    "\n",
    "metrics = metrics.reset_index()\n",
    "\n",
    "plt.rcParams['figure.dpi'] = 200\n",
    "plt.rcParams['figure.figsize'] = 3.5, 3.5\n",
    "\n",
    "sns.lineplot(\n",
    "    data=metrics,\n",
    "    x='epoch',\n",
    "    y='train_loss_epoch',\n",
    "    linewidth=1.5,               \n",
    "    marker='o',          \n",
    "    markersize=5\n",
    ")\n",
    "\n",
    "plt.xlabel('Epoch')\n",
    "plt.ylabel('Training Loss')\n",
    "plt.xticks()\n",
    "plt.yticks()\n",
    "plt.grid(True, linestyle='--', alpha=0.5)  # Add a subtle grid\n",
    "\n",
    "sns.despine()\n",
    "\n",
    "plt.tight_layout()  # Adjust layout to prevent clipping\n",
    "plt.show()"
   ]
  },
  {
   "cell_type": "markdown",
   "id": "67906ed3-36b9-48b2-827a-7c31bcdc2634",
   "metadata": {},
   "source": [
    "# Latent Representations (SCVI)"
   ]
  },
  {
   "cell_type": "code",
   "execution_count": null,
   "id": "bdb40434-66c5-47a6-a9ff-6a15ee3b6166",
   "metadata": {},
   "outputs": [
    {
     "name": "stdout",
     "output_type": "stream",
     "text": [
      "computing batch balanced neighbors\n",
      "WARNING: consider updating your call to make use of `computation`\n",
      "\tfinished: added to `.uns['neighbors']`\n",
      "    `.obsp['distances']`, distances for each pair of neighbors\n",
      "    `.obsp['connectivities']`, weighted adjacency matrix (0:00:14)\n",
      "running Leiden clustering\n"
     ]
    }
   ],
   "source": [
    "SCVI_LATENT_KEY = \"X_scVI\"\n",
    "SCANVI_LATENT_KEY = \"X_scANVI\"\n",
    "\n",
    "rdata.obsm[SCVI_LATENT_KEY] = model.get_latent_representation()\n",
    "rdata.obsm[SCANVI_LATENT_KEY] = scanvi_model.get_latent_representation()\n",
    "\n",
    "sce.pp.bbknn(\n",
    "    rdata, \n",
    "    batch_key='dataset',\n",
    "    use_rep=SCVI_LATENT_KEY,\n",
    ")\n",
    "\n",
    "sc.tl.leiden(\n",
    "    rdata, \n",
    "    key_added='scvi_clusters',\n",
    ")\n",
    "sc.tl.umap(rdata)\n",
    "sc.pl.umap(\n",
    "    rdata, \n",
    "    color=[\n",
    "        'dataset',\n",
    "        'standard_cell_type',\n",
    "        'scvi_clusters',\n",
    "    ],\n",
    "    ncols=1,\n",
    ")"
   ]
  },
  {
   "cell_type": "code",
   "execution_count": 20,
   "id": "1f8a9f34-e408-4afc-92e6-9bf1afc18ed4",
   "metadata": {},
   "outputs": [
    {
     "ename": "SyntaxError",
     "evalue": "'break' outside loop (668683560.py, line 1)",
     "output_type": "error",
     "traceback": [
      "\u001b[0;36m  Cell \u001b[0;32mIn[20], line 1\u001b[0;36m\u001b[0m\n\u001b[0;31m    break\u001b[0m\n\u001b[0m    ^\u001b[0m\n\u001b[0;31mSyntaxError\u001b[0m\u001b[0;31m:\u001b[0m 'break' outside loop\n"
     ]
    }
   ],
   "source": [
    "break"
   ]
  },
  {
   "cell_type": "markdown",
   "id": "dabda7ca-6302-4a0f-98e0-95a09a5c2b07",
   "metadata": {},
   "source": [
    "# Query mapping (SCVI)"
   ]
  },
  {
   "cell_type": "code",
   "execution_count": null,
   "id": "a448982f-baa8-4653-84c4-9a6d8f7aa0dd",
   "metadata": {},
   "outputs": [],
   "source": [
    "scvi.model.SCVI.prepare_query_anndata(qdata, model)\n",
    "scvi_query = scvi.model.SCVI.load_query_data(\n",
    "    qdata,\n",
    "    model,\n",
    ")"
   ]
  },
  {
   "cell_type": "code",
   "execution_count": null,
   "id": "f021c3d1-af59-4b43-8fb7-fde2477bb057",
   "metadata": {},
   "outputs": [],
   "source": [
    "torch.cuda.empty_cache()\n",
    "\n",
    "scvi_query.train(\n",
    "    max_epochs=5, \n",
    "    plan_kwargs={\"weight_decay\": 0.0},\n",
    ")\n",
    "\n",
    "qdata.obsm[SCVI_LATENT_KEY] = scvi_query.get_latent_representation()\n",
    "qdata"
   ]
  },
  {
   "cell_type": "code",
   "execution_count": null,
   "id": "db56d432-d3c4-4bc6-974d-4d65b26614f7",
   "metadata": {},
   "outputs": [],
   "source": [
    "SCANVI_PREDICTIONS_KEY = \"predictions_scanvi\"\n",
    "\n",
    "pancreas_query.obsm[SCANVI_LATENT_KEY] = scanvi_query.get_latent_representation()\n",
    "pancreas_query.obs[SCANVI_PREDICTIONS_KEY] = scanvi_query.predict()"
   ]
  },
  {
   "cell_type": "code",
   "execution_count": null,
   "id": "af98ab17-dae5-4554-9db8-25421d13a2f8",
   "metadata": {},
   "outputs": [],
   "source": [
    "sc.pp.neighbors(qdata, use_rep=SCVI_LATENT_KEY)\n",
    "sc.tl.leiden(qdata, key_added='scVI_cluster_iHSC')\n",
    "sc.tl.umap(qdata)\n",
    "\n",
    "sc.pl.umap(\n",
    "    qdata, \n",
    "    color=['dataset', 'standard_cell_type'],\n",
    "    ncols=1,\n",
    ")"
   ]
  },
  {
   "cell_type": "markdown",
   "id": "cc285e00-e7c5-48e7-b57c-e5b1e593ef8a",
   "metadata": {},
   "source": [
    "# Integrate"
   ]
  },
  {
   "cell_type": "code",
   "execution_count": null,
   "id": "035061a2-da2d-48b7-8335-80dead235d0f",
   "metadata": {},
   "outputs": [],
   "source": [
    "fdata = an.concat([rdata, qdata], label=\"batch\")\n",
    "fdata"
   ]
  },
  {
   "cell_type": "markdown",
   "id": "90835108-96ce-47c7-91b4-cf896cc5bfc0",
   "metadata": {},
   "source": [
    "# filter"
   ]
  },
  {
   "cell_type": "code",
   "execution_count": null,
   "id": "8dae4c27-08fd-44fe-a117-46a2ea5f6744",
   "metadata": {},
   "outputs": [],
   "source": [
    "cell_types = [\n",
    "    'iHSC',\n",
    "    'Fib',\n",
    "    'HSC',\n",
    "]\n",
    "\n",
    "datasets = [\n",
    "    'sc_fib',\n",
    "    'iHSC',\n",
    "    'weng_young2_all',\n",
    "]\n",
    "\n",
    "bdata = fdata[fdata.obs['standard_cell_type'].isin(cell_types), :].copy()\n",
    "bdata = bdata[bdata.obs['dataset'].isin(datasets), :].copy()\n",
    "bdata"
   ]
  },
  {
   "cell_type": "code",
   "execution_count": null,
   "id": "1544e2b5-5709-42cc-8793-0055980f9d0c",
   "metadata": {},
   "outputs": [],
   "source": [
    "sce.pp.bbknn(\n",
    "    rdata, \n",
    "    batch_key='dataset',\n",
    "    use_rep=SCANVI_LATENT_KEY,\n",
    ")\n",
    "\n",
    "sc.tl.umap(\n",
    "    bdata,\n",
    "    min_dist=0.25,\n",
    ")\n",
    "sc.pl.umap(\n",
    "    bdata, \n",
    "    color=[\n",
    "        'dataset',\n",
    "        'standard_cell_type',\n",
    "        'batch',\n",
    "    ],\n",
    "    ncols=1,\n",
    ")"
   ]
  },
  {
   "cell_type": "code",
   "execution_count": null,
   "id": "a93e6444-3e9d-420a-9230-49853df2eac4",
   "metadata": {},
   "outputs": [],
   "source": []
  }
 ],
 "metadata": {
  "kernelspec": {
   "display_name": "scanpy",
   "language": "python",
   "name": "scanpy"
  },
  "language_info": {
   "codemirror_mode": {
    "name": "ipython",
    "version": 3
   },
   "file_extension": ".py",
   "mimetype": "text/x-python",
   "name": "python",
   "nbconvert_exporter": "python",
   "pygments_lexer": "ipython3",
   "version": "3.12.5"
  }
 },
 "nbformat": 4,
 "nbformat_minor": 5
}
