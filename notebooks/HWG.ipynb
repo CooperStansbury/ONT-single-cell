{
 "cells": [
  {
   "cell_type": "code",
   "execution_count": 1,
   "id": "e41177e8-89f3-42f8-b59b-7490b528c231",
   "metadata": {},
   "outputs": [],
   "source": [
    "import sys\n",
    "import pandas as pd\n",
    "import numpy as np\n",
    "import matplotlib.pyplot as plt\n",
    "import seaborn as sns \n",
    "import scanpy as sc\n",
    "import networkx as nx\n",
    "from collections import Counter\n",
    "import scipy\n",
    "from anytree import Node, RenderTree, LevelOrderGroupIter\n",
    "\n",
    "from importlib import reload"
   ]
  },
  {
   "cell_type": "code",
   "execution_count": 31,
   "id": "3e9b29a7-760f-478e-9584-050b91a291b6",
   "metadata": {},
   "outputs": [
    {
     "data": {
      "text/plain": [
       "AnnData object with n_obs × n_vars = 19198 × 19198\n",
       "    obs: 'gene_name', 'transcription_factor', 'self_loop', 'master_regulator', 'MR', 'TF'\n",
       "    var: 'gene_name', 'transcription_factor', 'self_loop', 'master_regulator', 'MR', 'TF'"
      ]
     },
     "execution_count": 31,
     "metadata": {},
     "output_type": "execute_result"
    }
   ],
   "source": [
    "# load the HWG\n",
    "fpath = \"/nfs/turbo/umms-indikar/shared/projects/HSC/data/HWG/HWG.scanpy.h5ad\"\n",
    "hwg = sc.read_h5ad(fpath)\n",
    "hwg"
   ]
  },
  {
   "cell_type": "code",
   "execution_count": 32,
   "id": "f6a4d4cc-5cdf-4709-a4d5-d3d3f93a4f26",
   "metadata": {},
   "outputs": [
    {
     "name": "stdout",
     "output_type": "stream",
     "text": [
      "total_vals=11705431\n",
      "sparsity=96.824\n"
     ]
    }
   ],
   "source": [
    "# compute quick summary stats\n",
    "total_vals = hwg.X.sum()\n",
    "sparsity = 100 - (hwg.X.sum() / hwg.X.todense().size) * 100\n",
    "print(f\"{total_vals=}\")\n",
    "print(f\"{sparsity=:.3f}\")"
   ]
  },
  {
   "cell_type": "code",
   "execution_count": 34,
   "id": "d7ebc002-131b-4ef6-acc8-a3fd54e0d492",
   "metadata": {},
   "outputs": [
    {
     "data": {
      "text/plain": [
       "TF\n",
       "False    17579\n",
       "True      1619\n",
       "Name: count, dtype: int64"
      ]
     },
     "execution_count": 34,
     "metadata": {},
     "output_type": "execute_result"
    }
   ],
   "source": [
    "# how many TFs?\n",
    "hwg.obs['TF'].value_counts()"
   ]
  },
  {
   "cell_type": "code",
   "execution_count": 37,
   "id": "44841dce-538a-4dea-bee2-a3c442b9a828",
   "metadata": {},
   "outputs": [
    {
     "data": {
      "text/plain": [
       "<networkx.classes.graph.Graph at 0x1454e2969d60>"
      ]
     },
     "execution_count": 37,
     "metadata": {},
     "output_type": "execute_result"
    }
   ],
   "source": [
    "def hwg_as_network(hwg):\n",
    "    \"\"\"Converts a hard-wired genome (`hwg`) into a NetworkX graph.\n",
    "\n",
    "    Args:\n",
    "        hwg: The hard-wired genome object.\n",
    "\n",
    "    Returns:\n",
    "        nx.Graph: The NetworkX graph representing the genome structure.\n",
    "    \"\"\"\n",
    "    # 1. Direct Adjacency Conversion\n",
    "    G = nx.from_pandas_adjacency(hwg.to_df())\n",
    "\n",
    "    # 2. Simplified Attribute Update\n",
    "    nx.set_node_attributes(G, hwg.obs.to_dict('index'))\n",
    "    \n",
    "    return G\n",
    "\n",
    "G = hwg_as_network(hwg)\n",
    "G\n",
    "    "
   ]
  },
  {
   "cell_type": "code",
   "execution_count": 101,
   "id": "11dd59f8-1dd5-4d07-b2ae-764570e6bf0e",
   "metadata": {},
   "outputs": [
    {
     "name": "stdout",
     "output_type": "stream",
     "text": [
      "paths.shape=(19198, 4) (1.0000)\n"
     ]
    },
    {
     "data": {
      "text/html": [
       "<div>\n",
       "<style scoped>\n",
       "    .dataframe tbody tr th:only-of-type {\n",
       "        vertical-align: middle;\n",
       "    }\n",
       "\n",
       "    .dataframe tbody tr th {\n",
       "        vertical-align: top;\n",
       "    }\n",
       "\n",
       "    .dataframe thead th {\n",
       "        text-align: right;\n",
       "    }\n",
       "</style>\n",
       "<table border=\"1\" class=\"dataframe\">\n",
       "  <thead>\n",
       "    <tr style=\"text-align: right;\">\n",
       "      <th></th>\n",
       "      <th>step_0</th>\n",
       "      <th>step_1</th>\n",
       "      <th>step_2</th>\n",
       "      <th>step_3</th>\n",
       "    </tr>\n",
       "  </thead>\n",
       "  <tbody>\n",
       "    <tr>\n",
       "      <th>0</th>\n",
       "      <td>GATA2</td>\n",
       "      <td>None</td>\n",
       "      <td>None</td>\n",
       "      <td>None</td>\n",
       "    </tr>\n",
       "    <tr>\n",
       "      <th>1</th>\n",
       "      <td>GATA2</td>\n",
       "      <td>FGR</td>\n",
       "      <td>None</td>\n",
       "      <td>None</td>\n",
       "    </tr>\n",
       "    <tr>\n",
       "      <th>2</th>\n",
       "      <td>GATA2</td>\n",
       "      <td>NFYA</td>\n",
       "      <td>None</td>\n",
       "      <td>None</td>\n",
       "    </tr>\n",
       "    <tr>\n",
       "      <th>3</th>\n",
       "      <td>GATA2</td>\n",
       "      <td>WNT16</td>\n",
       "      <td>None</td>\n",
       "      <td>None</td>\n",
       "    </tr>\n",
       "    <tr>\n",
       "      <th>4</th>\n",
       "      <td>GATA2</td>\n",
       "      <td>PLXND1</td>\n",
       "      <td>None</td>\n",
       "      <td>None</td>\n",
       "    </tr>\n",
       "  </tbody>\n",
       "</table>\n",
       "</div>"
      ],
      "text/plain": [
       "  step_0  step_1 step_2 step_3\n",
       "0  GATA2    None   None   None\n",
       "1  GATA2     FGR   None   None\n",
       "2  GATA2    NFYA   None   None\n",
       "3  GATA2   WNT16   None   None\n",
       "4  GATA2  PLXND1   None   None"
      ]
     },
     "execution_count": 101,
     "metadata": {},
     "output_type": "execute_result"
    }
   ],
   "source": [
    "def get_interaction_tree(G, source, max_order):\n",
    "    \"\"\"Retrieves interactions from a source node within a specified maximum order.\n",
    "\n",
    "    Args:\n",
    "        G (nx.Graph): The NetworkX graph.\n",
    "        source: The source node.\n",
    "        max_order (int, optional): The maximum order (distance) from the source. Defaults to 1.\n",
    "\n",
    "    Returns:\n",
    "        pd.DataFrame: A DataFrame with columns 'step_0', 'step_1', ..., up to 'step_{max_order}',\n",
    "                      containing nodes reached at each order.\n",
    "    \"\"\"\n",
    "    paths = nx.single_source_shortest_path(G, source, cutoff=max_order).values()\n",
    "    \n",
    "    # Construct DataFrame with NaN Filling\n",
    "    df = pd.DataFrame(paths).fillna(\"None\")\n",
    "    df.columns = [f\"step_{i}\" for i in range(len(df.columns))]\n",
    "    return df\n",
    "    \n",
    "paths = get_interaction_tree(G, \n",
    "                             source='GATA2', \n",
    "                             max_order=3) \n",
    "\n",
    "print(f\"{paths.shape=} ({paths.shape[0] / hwg.X.shape[0]:.4f})\")\n",
    "paths.head()"
   ]
  },
  {
   "cell_type": "code",
   "execution_count": 105,
   "id": "dc19f9e6-c749-451c-91fc-f8a30fcf3624",
   "metadata": {},
   "outputs": [
    {
     "data": {
      "text/html": [
       "<div>\n",
       "<style scoped>\n",
       "    .dataframe tbody tr th:only-of-type {\n",
       "        vertical-align: middle;\n",
       "    }\n",
       "\n",
       "    .dataframe tbody tr th {\n",
       "        vertical-align: top;\n",
       "    }\n",
       "\n",
       "    .dataframe thead th {\n",
       "        text-align: right;\n",
       "    }\n",
       "</style>\n",
       "<table border=\"1\" class=\"dataframe\">\n",
       "  <thead>\n",
       "    <tr style=\"text-align: right;\">\n",
       "      <th></th>\n",
       "      <th>Gene</th>\n",
       "      <th>Count</th>\n",
       "      <th>Percentage</th>\n",
       "    </tr>\n",
       "  </thead>\n",
       "  <tbody>\n",
       "    <tr>\n",
       "      <th>1</th>\n",
       "      <td>None</td>\n",
       "      <td>20955</td>\n",
       "      <td>27.287999</td>\n",
       "    </tr>\n",
       "    <tr>\n",
       "      <th>0</th>\n",
       "      <td>GATA2</td>\n",
       "      <td>19198</td>\n",
       "      <td>25.000000</td>\n",
       "    </tr>\n",
       "    <tr>\n",
       "      <th>2</th>\n",
       "      <td>FGR</td>\n",
       "      <td>1031</td>\n",
       "      <td>1.342588</td>\n",
       "    </tr>\n",
       "    <tr>\n",
       "      <th>11</th>\n",
       "      <td>CREBBP</td>\n",
       "      <td>896</td>\n",
       "      <td>1.166788</td>\n",
       "    </tr>\n",
       "    <tr>\n",
       "      <th>7</th>\n",
       "      <td>KDM1A</td>\n",
       "      <td>863</td>\n",
       "      <td>1.123815</td>\n",
       "    </tr>\n",
       "  </tbody>\n",
       "</table>\n",
       "</div>"
      ],
      "text/plain": [
       "      Gene  Count  Percentage\n",
       "1     None  20955   27.287999\n",
       "0    GATA2  19198   25.000000\n",
       "2      FGR   1031    1.342588\n",
       "11  CREBBP    896    1.166788\n",
       "7    KDM1A    863    1.123815"
      ]
     },
     "execution_count": 105,
     "metadata": {},
     "output_type": "execute_result"
    }
   ],
   "source": [
    "def get_path_counts(paths):\n",
    "    \"\"\"Analyzes path counts in a given data structure.\n",
    "\n",
    "    Args:\n",
    "        paths: The data structure containing paths (e.g., DataFrame, Series, list of lists).\n",
    "\n",
    "    Returns:\n",
    "        pd.DataFrame: A DataFrame containing genes sorted by count (descending),\n",
    "                      with columns 'Gene', 'Count', and 'Percentage'.\n",
    "    \"\"\"\n",
    "    # Flatten the paths into a single list and count occurrences\n",
    "    counts = Counter(paths.values.ravel())\n",
    "    total_count = sum(counts.values())\n",
    "\n",
    "    # Create DataFrame\n",
    "    pdf = pd.DataFrame.from_dict(counts, orient='index', columns=['Count'])\n",
    "    pdf.index.name = 'Gene'  # Name the index column 'Gene'\n",
    "    pdf = pdf.reset_index()  # Move 'Gene' to a regular column\n",
    "    \n",
    "    # Calculate percentage\n",
    "    pdf['Percentage'] = (pdf['Count'] / total_count) * 100\n",
    "    \n",
    "    # Sort by count (descending)\n",
    "    pdf = pdf.sort_values(by='Count', ascending=False)\n",
    "    \n",
    "    return pdf\n",
    "\n",
    "counts = get_path_counts(paths)\n",
    "counts.head()"
   ]
  },
  {
   "cell_type": "code",
   "execution_count": null,
   "id": "055dcc18-bbdd-49e0-81c9-50248a29384b",
   "metadata": {},
   "outputs": [],
   "source": [
    "break"
   ]
  },
  {
   "cell_type": "markdown",
   "id": "128cb4e0-2962-4fa8-832b-cc0959c73318",
   "metadata": {},
   "source": [
    "# Cell type specific data"
   ]
  },
  {
   "cell_type": "code",
   "execution_count": 106,
   "id": "228019ae-b343-42d4-a4ac-77bb9b6141f2",
   "metadata": {},
   "outputs": [
    {
     "name": "stdout",
     "output_type": "stream",
     "text": [
      "df.shape=(18988, 4)\n"
     ]
    },
    {
     "data": {
      "text/html": [
       "<div>\n",
       "<style scoped>\n",
       "    .dataframe tbody tr th:only-of-type {\n",
       "        vertical-align: middle;\n",
       "    }\n",
       "\n",
       "    .dataframe tbody tr th {\n",
       "        vertical-align: top;\n",
       "    }\n",
       "\n",
       "    .dataframe thead th {\n",
       "        text-align: right;\n",
       "    }\n",
       "</style>\n",
       "<table border=\"1\" class=\"dataframe\">\n",
       "  <thead>\n",
       "    <tr style=\"text-align: right;\">\n",
       "      <th></th>\n",
       "      <th>gene_name</th>\n",
       "      <th>chen_fibroblast_2015</th>\n",
       "      <th>liu_fibroblast_2018</th>\n",
       "      <th>ac_bj_fibroblast</th>\n",
       "    </tr>\n",
       "  </thead>\n",
       "  <tbody>\n",
       "    <tr>\n",
       "      <th>0</th>\n",
       "      <td>A1BG</td>\n",
       "      <td>0.070114</td>\n",
       "      <td>0.134265</td>\n",
       "      <td>4.414373</td>\n",
       "    </tr>\n",
       "    <tr>\n",
       "      <th>1</th>\n",
       "      <td>A1CF</td>\n",
       "      <td>0.000482</td>\n",
       "      <td>0.000000</td>\n",
       "      <td>0.000000</td>\n",
       "    </tr>\n",
       "    <tr>\n",
       "      <th>2</th>\n",
       "      <td>A2M</td>\n",
       "      <td>0.000773</td>\n",
       "      <td>0.000000</td>\n",
       "      <td>2.748552</td>\n",
       "    </tr>\n",
       "    <tr>\n",
       "      <th>3</th>\n",
       "      <td>A2ML1</td>\n",
       "      <td>0.000232</td>\n",
       "      <td>0.000000</td>\n",
       "      <td>0.076961</td>\n",
       "    </tr>\n",
       "    <tr>\n",
       "      <th>4</th>\n",
       "      <td>A3GALT2</td>\n",
       "      <td>0.000000</td>\n",
       "      <td>0.000000</td>\n",
       "      <td>0.000000</td>\n",
       "    </tr>\n",
       "  </tbody>\n",
       "</table>\n",
       "</div>"
      ],
      "text/plain": [
       "  gene_name  chen_fibroblast_2015  liu_fibroblast_2018  ac_bj_fibroblast\n",
       "0      A1BG              0.070114             0.134265          4.414373\n",
       "1      A1CF              0.000482             0.000000          0.000000\n",
       "2       A2M              0.000773             0.000000          2.748552\n",
       "3     A2ML1              0.000232             0.000000          0.076961\n",
       "4   A3GALT2              0.000000             0.000000          0.000000"
      ]
     },
     "execution_count": 106,
     "metadata": {},
     "output_type": "execute_result"
    }
   ],
   "source": [
    "# load BJ data\n",
    "df = pd.read_csv(\"/nfs/turbo/umms-indikar/shared/projects/R01/merged_fib_data.csv\")\n",
    "print(f\"{df.shape=}\")\n",
    "\n",
    "df.head()"
   ]
  },
  {
   "cell_type": "code",
   "execution_count": 108,
   "id": "392e9d84-f760-4f9f-a7a5-f5f060e79339",
   "metadata": {},
   "outputs": [
    {
     "name": "stdout",
     "output_type": "stream",
     "text": [
      "2000\n"
     ]
    }
   ],
   "source": [
    "n = 2000\n",
    "col = 'chen_fibroblast_2015'\n",
    "\n",
    "pdf = df.copy()\n",
    "pdf = pdf[pdf['gene_name'].isin(hwg.var_names)]\n",
    "pdf = pdf.set_index('gene_name')\n",
    "\n",
    "pdf = pdf.sort_values(by=col, ascending=False)\n",
    "\n",
    "genes = pdf.head(n).index\n",
    "print(len(genes))"
   ]
  },
  {
   "cell_type": "code",
   "execution_count": null,
   "id": "5216f21c-326b-4a3e-8d26-4fa47a3e4092",
   "metadata": {},
   "outputs": [],
   "source": []
  },
  {
   "cell_type": "code",
   "execution_count": null,
   "id": "1105f199-b7ba-4fad-9af5-66c6ccc9c117",
   "metadata": {},
   "outputs": [],
   "source": []
  },
  {
   "cell_type": "code",
   "execution_count": null,
   "id": "f5057775-8c0f-431d-aca1-1770556eefcf",
   "metadata": {},
   "outputs": [],
   "source": []
  },
  {
   "cell_type": "code",
   "execution_count": null,
   "id": "74768556-db91-4060-b54f-3ad1f30a13cd",
   "metadata": {},
   "outputs": [],
   "source": []
  },
  {
   "cell_type": "code",
   "execution_count": null,
   "id": "a5937e2c-83b9-4814-af41-127cc5651eff",
   "metadata": {},
   "outputs": [],
   "source": []
  },
  {
   "cell_type": "code",
   "execution_count": null,
   "id": "3dd224e9-8123-4428-ad4f-7ec56d74483f",
   "metadata": {},
   "outputs": [],
   "source": []
  },
  {
   "cell_type": "code",
   "execution_count": null,
   "id": "dfaee6c7-786f-47f3-bf96-b9eeaf1a2411",
   "metadata": {},
   "outputs": [
    {
     "data": {
      "text/plain": [
       "<Axes: xlabel='value', ylabel='Count'>"
      ]
     },
     "execution_count": 107,
     "metadata": {},
     "output_type": "execute_result"
    },
    {
     "data": {
      "image/png": "[encoded data removed]",
      "text/plain": [
       "<Figure size 640x480 with 1 Axes>"
      ]
     },
     "metadata": {},
     "output_type": "display_data"
    }
   ],
   "source": [
    "pdf = df.copy()\n",
    "pdf = pd.melt(pdf, id_vars='gene_name')\n",
    "\n",
    "sns.histplot(data=pdf, \n",
    "             x='value',\n",
    "             hue='variable',\n",
    "             kde=True,\n",
    "             bins=30)"
   ]
  },
  {
   "cell_type": "code",
   "execution_count": null,
   "id": "7c26735e-9333-4862-96df-8481fd857c99",
   "metadata": {},
   "outputs": [],
   "source": [
    "# different thresholds\n",
    "\n",
    "pdf = df.copy()\n",
    "pdf = pd.melt(pdf, id_vars='gene_name')\n",
    "\n",
    "res = []\n",
    "\n",
    "\n",
    "for t in np.linspace(0.001, 10, 100):\n",
    "    \n",
    "    tdf = pdf[pdf['value'] > t]\n",
    "    tdf = tdf.groupby('variable')['gene_name'].count().to_dict()\n",
    "    tdf['threshold'] = t\n",
    "    res.append(tdf)\n",
    "    \n",
    "res = pd.DataFrame(res)\n",
    "res = pd.melt(res, id_vars='threshold')\n",
    "\n",
    "sns.lineplot(data=res, \n",
    "             x='threshold',\n",
    "             y='value',\n",
    "             hue='variable')"
   ]
  },
  {
   "cell_type": "markdown",
   "id": "2b86b5c1-154c-4e70-afef-2799f85b0a6c",
   "metadata": {},
   "source": [
    "# generate a mask"
   ]
  },
  {
   "cell_type": "code",
   "execution_count": null,
   "id": "e11330c9-3fea-4fff-8219-2a39d3a74cb1",
   "metadata": {},
   "outputs": [],
   "source": [
    "n = 2000\n",
    "col = 'chen_fibroblast_2015'\n",
    "\n",
    "pdf = df.copy()\n",
    "pdf = pdf[pdf['gene_name'].isin(hwg.var_names)]\n",
    "pdf = pdf.set_index('gene_name')\n",
    "\n",
    "pdf = pdf.sort_values(by=col, ascending=False)\n",
    "\n",
    "genes = pdf.head(n).index\n",
    "print(len(genes))"
   ]
  },
  {
   "cell_type": "markdown",
   "id": "8ef07599-8d3c-4a73-8562-8a3ec9d99e87",
   "metadata": {},
   "source": [
    "# Get FOI"
   ]
  },
  {
   "cell_type": "code",
   "execution_count": null,
   "id": "7533c9a6-dbd9-418b-8d1d-8f3bdfd1997a",
   "metadata": {},
   "outputs": [],
   "source": [
    "tfs = hwg.var[hwg.var['is_TF'] == \"1\"]['gene_name'].values\n",
    "print(len(tfs))"
   ]
  },
  {
   "cell_type": "code",
   "execution_count": null,
   "id": "81b31aa3-c2cf-4381-ae99-f62ef7dc4d4f",
   "metadata": {},
   "outputs": [],
   "source": [
    "TFS = [\n",
    "    'GATA2', \n",
    "    \"GFI1B\",\n",
    "    \"REL\", \n",
    "    \"STAT5A\",\n",
    "    \"FOS\",\n",
    "]\n",
    "\n",
    "foi = hwg[:, TFS].to_df()\n",
    "foi = foi.loc[genes]\n",
    "\n",
    "foi['row_sums'] = foi.sum(axis=1)\n",
    "foi = foi.sort_values(by='row_sums', ascending=False)\n",
    "\n",
    "outpath = \"/home/cstansbu/temp/reprogramming_foi.csv\"\n",
    "foi = foi.reset_index()\n",
    "foi['is_TF'] = foi['gene_name'].isin(tfs)\n",
    "foi = foi[foi['row_sums'] > 0]\n",
    "foi.to_csv(outpath, index=False)\n",
    "print(f\"{foi.shape=}\")\n",
    "foi"
   ]
  },
  {
   "cell_type": "code",
   "execution_count": null,
   "id": "ca4f6c9c-bef2-4c37-b250-617874bfa326",
   "metadata": {},
   "outputs": [],
   "source": []
  },
  {
   "cell_type": "code",
   "execution_count": null,
   "id": "0a09b7eb-558f-483e-be42-2ae88c616b10",
   "metadata": {},
   "outputs": [],
   "source": [
    "# break"
   ]
  },
  {
   "cell_type": "code",
   "execution_count": null,
   "id": "c0ea1f4e-2de4-4965-848a-e40697a790ce",
   "metadata": {},
   "outputs": [],
   "source": [
    "top = 20\n",
    "print(foi.head(top).to_latex(index=False))"
   ]
  },
  {
   "cell_type": "markdown",
   "id": "917ccc46-0d52-4a35-ba76-b8bbd5621474",
   "metadata": {},
   "source": [
    "# generate a walker"
   ]
  },
  {
   "cell_type": "code",
   "execution_count": null,
   "id": "bbfa261a-f6f7-4e71-b852-411213e50401",
   "metadata": {},
   "outputs": [],
   "source": [
    "tfs = hwg.var[hwg.var['is_TF'] == \"1\"]['gene_name'].values\n",
    "print(len(tfs))"
   ]
  },
  {
   "cell_type": "code",
   "execution_count": null,
   "id": "99c3843f-a070-4872-8321-15005872f580",
   "metadata": {},
   "outputs": [],
   "source": [
    "def get_first_order_interactions(hwg, gene, tf_only=True):\n",
    "    \"\"\"Retrieves first-order interactions for a given gene from a hard-wired genome.\n",
    "\n",
    "    Args:\n",
    "        hwg: The hard-wired genome data structure (assumes it has a `to_df()` method and obs['is_TF'] if applicable).\n",
    "        gene: The name of the gene to find interactions for.\n",
    "        tf_only: If True, filter interactions to only include transcription factors.\n",
    "\n",
    "    Returns:\n",
    "        A pandas Index containing the names of the interacting genes.\n",
    "    \"\"\"\n",
    "    if tf_only:\n",
    "        X = hwg[hwg.obs['is_TF'] == \"1\", gene].to_df()\n",
    "    else:\n",
    "        X = hwg[:, gene].to_df()\n",
    "        \n",
    "    return list(X[X[gene] > 0].index)\n",
    "\n",
    "i = get_first_order_interactions(hwg, 'GATA2', tf_only=True)\n",
    "len(i)"
   ]
  },
  {
   "cell_type": "code",
   "execution_count": null,
   "id": "c51210ff-e2c7-4a74-9f89-8ae213f9c933",
   "metadata": {},
   "outputs": [],
   "source": [
    "def add_children(children, parent, nodes):\n",
    "    \"\"\"Adds child nodes to a parent node in a tree structure.\n",
    "\n",
    "    This function takes a list of child gene names, a parent gene name, and a dictionary of existing nodes. \n",
    "    It creates new child nodes for each gene in the `children` list, assigning the `parent` as their parent node, \n",
    "    and adds them to the `nodes` dictionary.\n",
    "\n",
    "    Args:\n",
    "        children: A list of gene names representing the child nodes to add.\n",
    "        parent: The gene name representing the parent node to which the children should be added.\n",
    "        nodes: A dictionary mapping gene names to their corresponding Node objects in the tree structure.\n",
    "\n",
    "    Returns:\n",
    "        The updated `nodes` dictionary with the new child nodes added.\n",
    "    \"\"\"\n",
    "\n",
    "    if parent not in nodes:\n",
    "        for gene in children:\n",
    "            nodes[gene] = Node(gene, parent=parent)\n",
    "    return nodes\n",
    "\n",
    "def get_k_order_interactions(hwg, root_gene, k, tf_only=True):\n",
    "    \"\"\"\n",
    "    Retrieves k-order interactions for a gene from a hard-wired genome as a tree.\n",
    "\n",
    "    Args:\n",
    "        hwg: The hard-wired genome data structure.\n",
    "        root_gene: The gene name to start the interaction search from.\n",
    "        k: The maximum order of interactions to explore.\n",
    "        tf_only: If True, filter interactions to only include transcription factors.\n",
    "        current_depth: Current depth of recursion (starts at 0).\n",
    "        parent: The parent node (used for recursion).\n",
    "\n",
    "    Returns:\n",
    "        The root node of the interaction tree.\n",
    "    \"\"\"\n",
    "\n",
    "    # init first order interactions\n",
    "    root = Node(root_gene) # Create the root node if it's the first call\n",
    "    children = get_first_order_interactions(hwg, root_gene, tf_only)\n",
    "    \n",
    "    nodes = {\n",
    "        root_gene : root\n",
    "    }\n",
    "    nodes = add_children(children, root, nodes)\n",
    "    \n",
    "    for i in range(2, k):\n",
    "        child_nodes = [node for node in LevelOrderGroupIter(root, maxlevel=i)][i-1]\n",
    "        for child in child_nodes:\n",
    "            gene = nodes[child.name]\n",
    "            children = get_first_order_interactions(hwg, child.name, tf_only)\n",
    "            nodes = add_children(children, gene, nodes)\n",
    "    return root, nodes\n",
    "        \n",
    "k = 3\n",
    "show = 2\n",
    "root, nodes = get_k_order_interactions(hwg, 'STAT5A', k=k)\n",
    "print(f\"{len(nodes)}\")"
   ]
  },
  {
   "cell_type": "code",
   "execution_count": null,
   "id": "11a60c55-cf76-415b-ab10-8a648465d3a9",
   "metadata": {},
   "outputs": [],
   "source": [
    "def output_tree(root, level=4):\n",
    "    \"\"\"A function to store the tree as a tabular structure\"\"\"\n",
    "    res = []\n",
    "    \n",
    "    for layer in list(LevelOrderGroupIter(root, maxlevel=level)):\n",
    "        for entry in layer:\n",
    "\n",
    "            path = entry.path[-1].__str__()\n",
    "            path = path.replace(\"Node('\", \"\").replace(\"')\", \"\").strip()\n",
    "            row = {}\n",
    "            for i, node in enumerate(path.split(\"/\")[1:]):\n",
    "                row[f\"order_{i}\"] = node\n",
    "            res.append(row)\n",
    "\n",
    "    res = pd.DataFrame(res)\n",
    "    res = res.fillna(\"None\")\n",
    "    return res\n",
    "    \n",
    "    \n",
    "df = output_tree(root)\n",
    "print(f\"{df.shape=}\")\n",
    "df.head()"
   ]
  },
  {
   "cell_type": "code",
   "execution_count": null,
   "id": "ec0243eb-3654-4066-a83c-7dc4e582f109",
   "metadata": {},
   "outputs": [],
   "source": [
    "df['order_1'].value_counts()"
   ]
  },
  {
   "cell_type": "markdown",
   "id": "0e50cb19-0a5d-4d65-91e3-8a68c0c70da9",
   "metadata": {},
   "source": [
    "# do a few genes"
   ]
  },
  {
   "cell_type": "code",
   "execution_count": null,
   "id": "a6dd22fd-24a0-47c3-b532-065bb3267d53",
   "metadata": {},
   "outputs": [],
   "source": [
    "TFS = [\n",
    "    'GATA2', \n",
    "    \"GFI1B\",\n",
    "    \"REL\", \n",
    "    \"STAT5A\",\n",
    "    \"FOS\",\n",
    "]\n",
    "\n",
    "k = 4\n",
    "\n",
    "outdir = \"/nfs/turbo/umms-indikar/shared/projects/HSC/data/HWG/\"\n",
    "\n",
    "df = []\n",
    "\n",
    "for tf in TFS:\n",
    "    root, _ = get_k_order_interactions(hwg, tf, k=k)\n",
    "    tmp = output_tree(root)\n",
    "    outpath = f\"{outdir}{tf}_k{k}.csv\"\n",
    "    tmp.to_csv(outpath, index=False)\n",
    "    print(f\"{tf} {tmp.shape=}\")    \n",
    "    \n",
    "    df.append(tmp)\n",
    "    \n",
    "df = pd.concat(df)\n",
    "print(df.head())"
   ]
  },
  {
   "cell_type": "code",
   "execution_count": null,
   "id": "15f7b85b-860f-40ee-9702-5c440bef6d68",
   "metadata": {},
   "outputs": [],
   "source": [
    "df.sample(10)"
   ]
  },
  {
   "cell_type": "code",
   "execution_count": null,
   "id": "a4a6f53d-6ac1-4af0-86ef-06f56a914609",
   "metadata": {},
   "outputs": [],
   "source": [
    "top = 20\n",
    "print(df.sample(top).to_latex(index=False))"
   ]
  },
  {
   "cell_type": "markdown",
   "id": "1566f2fa-2bd4-41d9-95a5-eeac0ad833d4",
   "metadata": {},
   "source": [
    "# Score the interactions"
   ]
  },
  {
   "cell_type": "code",
   "execution_count": null,
   "id": "3af9b116-7e85-40de-8eab-644d17d66363",
   "metadata": {},
   "outputs": [],
   "source": [
    "pdf = Counter(df.values.ravel())\n",
    "pdf = pd.DataFrame.from_dict(pdf, \n",
    "                             orient='index', \n",
    "                             columns=['Count']) \n",
    "pdf = pdf.reset_index()\n",
    "pdf.columns = ['Gene', 'Count']\n",
    "pdf = pdf.sort_values(by='Count', ascending=False)\n",
    "pdf.head(15)"
   ]
  },
  {
   "cell_type": "markdown",
   "id": "b859e68a-6b93-4ae9-8c9c-b1c8a07c67aa",
   "metadata": {},
   "source": [
    "# A global analysis"
   ]
  },
  {
   "cell_type": "code",
   "execution_count": null,
   "id": "6a5021d2-a753-4317-b744-9a033272b28f",
   "metadata": {},
   "outputs": [],
   "source": [
    "TFS = [\n",
    "    'GATA2', \n",
    "    \"GFI1B\",\n",
    "    \"REL\", \n",
    "    \"STAT5A\",\n",
    "    \"FOS\",\n",
    "]\n",
    "\n",
    "k = 3\n",
    "\n",
    "df = []\n",
    "\n",
    "for tf in TFS:\n",
    "    root, _ = get_k_order_interactions(hwg, tf, k=k, tf_only=False)\n",
    "    tmp = output_tree(root)\n",
    "    outpath = f\"{outdir}{tf}_k{k}.csv\"\n",
    "    print(f\"{tf} {tmp.shape=}\")    \n",
    "    df.append(tmp)\n",
    "    \n",
    "df = pd.concat(df)\n",
    "print(df.head())"
   ]
  },
  {
   "cell_type": "code",
   "execution_count": null,
   "id": "b880435b-a3a6-45f7-9596-5b75d53cbb8b",
   "metadata": {},
   "outputs": [],
   "source": [
    "df['order_3'].value_counts()"
   ]
  },
  {
   "cell_type": "code",
   "execution_count": null,
   "id": "7e953351-c2bf-48e2-8eca-20e4d8f4ba34",
   "metadata": {},
   "outputs": [],
   "source": []
  }
 ],
 "metadata": {
  "kernelspec": {
   "display_name": "scanpy",
   "language": "python",
   "name": "scanpy"
  },
  "language_info": {
   "codemirror_mode": {
    "name": "ipython",
    "version": 3
   },
   "file_extension": ".py",
   "mimetype": "text/x-python",
   "name": "python",
   "nbconvert_exporter": "python",
   "pygments_lexer": "ipython3",
   "version": "3.12.3"
  }
 },
 "nbformat": 4,
 "nbformat_minor": 5
}
