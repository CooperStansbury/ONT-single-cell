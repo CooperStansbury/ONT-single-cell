{
 "cells": [
  {
   "cell_type": "code",
   "execution_count": 1,
   "id": "45cdbc1a-5aa6-4c3a-8beb-c4acab294138",
   "metadata": {},
   "outputs": [],
   "source": [
    "import sys\n",
    "import pandas as pd\n",
    "import numpy as np\n",
    "import matplotlib.pyplot as plt\n",
    "from mpl_toolkits.axes_grid1 import make_axes_locatable, axes_size\n",
    "from matplotlib.transforms import Bbox\n",
    "import seaborn as sns\n",
    "import scanpy as sc\n",
    "import scipy\n",
    "import sklearn\n",
    "\n",
    "from importlib import reload\n",
    "\n",
    "import plotting as plt2"
   ]
  },
  {
   "cell_type": "code",
   "execution_count": 2,
   "id": "ecb3efa9-17f1-45d6-aa5a-ab2d154a5c98",
   "metadata": {},
   "outputs": [
    {
     "data": {
      "text/plain": [
       "AnnData object with n_obs × n_vars = 54347 × 19070\n",
       "    obs: 'n_counts', 'cell_type', 'dataset', 'organ_tissue'\n",
       "    var: 'gene_name', 'ensemble_id', 'n_counts'\n",
       "    uns: 'go_annotations', 'log1p', 'panglaodb'\n",
       "    layers: 'log_norm', 'raw_counts'"
      ]
     },
     "execution_count": 2,
     "metadata": {},
     "output_type": "execute_result"
    }
   ],
   "source": [
    "fpath = \"/scratch/indikar_root/indikar1/cstansbu/HSC/geneformer_adata/processed.anndata.lt.h5ad\"\n",
    "\n",
    "adata = sc.read_h5ad(fpath)\n",
    "adata"
   ]
  },
  {
   "cell_type": "code",
   "execution_count": 24,
   "id": "7888402f-4f3b-4db4-83a6-00940bfdb7b6",
   "metadata": {},
   "outputs": [
    {
     "name": "stdout",
     "output_type": "stream",
     "text": [
      "View of AnnData object with n_obs × n_vars = 3243 × 19070\n",
      "    obs: 'n_counts', 'cell_type', 'dataset', 'organ_tissue'\n",
      "    var: 'gene_name', 'ensemble_id', 'n_counts'\n",
      "    uns: 'go_annotations', 'log1p', 'panglaodb'\n",
      "    layers: 'log_norm', 'raw_counts'\n"
     ]
    },
    {
     "data": {
      "text/html": [
       "<div>\n",
       "<style scoped>\n",
       "    .dataframe tbody tr th:only-of-type {\n",
       "        vertical-align: middle;\n",
       "    }\n",
       "\n",
       "    .dataframe tbody tr th {\n",
       "        vertical-align: top;\n",
       "    }\n",
       "\n",
       "    .dataframe thead th {\n",
       "        text-align: right;\n",
       "    }\n",
       "</style>\n",
       "<table border=\"1\" class=\"dataframe\">\n",
       "  <thead>\n",
       "    <tr style=\"text-align: right;\">\n",
       "      <th></th>\n",
       "      <th>gene_name</th>\n",
       "      <th>sum_count</th>\n",
       "      <th>mean_log_TPM</th>\n",
       "      <th>ensemble_id</th>\n",
       "    </tr>\n",
       "  </thead>\n",
       "  <tbody>\n",
       "    <tr>\n",
       "      <th>0</th>\n",
       "      <td>A1BG</td>\n",
       "      <td>194.0</td>\n",
       "      <td>0.030028</td>\n",
       "      <td>ENSG00000121410</td>\n",
       "    </tr>\n",
       "    <tr>\n",
       "      <th>1</th>\n",
       "      <td>A1CF</td>\n",
       "      <td>1.0</td>\n",
       "      <td>0.000736</td>\n",
       "      <td>ENSG00000148584</td>\n",
       "    </tr>\n",
       "    <tr>\n",
       "      <th>2</th>\n",
       "      <td>A2M</td>\n",
       "      <td>131.0</td>\n",
       "      <td>0.162159</td>\n",
       "      <td>ENSG00000175899</td>\n",
       "    </tr>\n",
       "    <tr>\n",
       "      <th>3</th>\n",
       "      <td>A2ML1</td>\n",
       "      <td>4.0</td>\n",
       "      <td>0.053027</td>\n",
       "      <td>ENSG00000166535</td>\n",
       "    </tr>\n",
       "    <tr>\n",
       "      <th>4</th>\n",
       "      <td>A3GALT2</td>\n",
       "      <td>4.0</td>\n",
       "      <td>0.011742</td>\n",
       "      <td>ENSG00000184389</td>\n",
       "    </tr>\n",
       "  </tbody>\n",
       "</table>\n",
       "</div>"
      ],
      "text/plain": [
       "  gene_name  sum_count  mean_log_TPM      ensemble_id\n",
       "0      A1BG      194.0      0.030028  ENSG00000121410\n",
       "1      A1CF        1.0      0.000736  ENSG00000148584\n",
       "2       A2M      131.0      0.162159  ENSG00000175899\n",
       "3     A2ML1        4.0      0.053027  ENSG00000166535\n",
       "4   A3GALT2        4.0      0.011742  ENSG00000184389"
      ]
     },
     "execution_count": 24,
     "metadata": {},
     "output_type": "execute_result"
    }
   ],
   "source": [
    "mask = (adata.obs['cell_type'] == 'HSC') & (adata.obs['dataset'] == 'young2_HSC')\n",
    "weng_HSC = adata[mask, :]\n",
    "print(weng_HSC)\n",
    "\n",
    "# get raw counts\n",
    "expression_df = weng_HSC.to_df(layer='raw_counts')\n",
    "signature = expression_df.sum(axis=0)\n",
    "signature = signature.reset_index()\n",
    "signature.columns = ['gene_name', 'sum_count']\n",
    "\n",
    "# mean log TPM\n",
    "mean_log_tpm = weng_HSC.to_df().mean(axis=0)\n",
    "signature['mean_log_TPM'] = mean_log_tpm.values\n",
    "\n",
    "name2id = dict(zip(weng_HSC.var['gene_name'].values, weng_HSC.var['ensemble_id'].values))\n",
    "signature['ensemble_id'] = signature['gene_name'].map(name2id)\n",
    "\n",
    "outpath = \"/home/cstansbu/temp/weeng_2024_HSC_raw_counts.csv\"\n",
    "\n",
    "signature.to_csv(outpath, index=False)\n",
    "\n",
    "signature.head()"
   ]
  },
  {
   "cell_type": "code",
   "execution_count": null,
   "id": "21b71638-60ae-4ef6-bdc0-24b3686a7db6",
   "metadata": {},
   "outputs": [],
   "source": [
    "break"
   ]
  },
  {
   "cell_type": "code",
   "execution_count": null,
   "id": "803a6776-7334-4ad6-9432-90d3cc4c3fa3",
   "metadata": {},
   "outputs": [],
   "source": []
  },
  {
   "cell_type": "code",
   "execution_count": 19,
   "id": "73ba3757-70b3-450d-a818-698451a75e10",
   "metadata": {},
   "outputs": [
    {
     "data": {
      "text/html": [
       "<div>\n",
       "<style scoped>\n",
       "    .dataframe tbody tr th:only-of-type {\n",
       "        vertical-align: middle;\n",
       "    }\n",
       "\n",
       "    .dataframe tbody tr th {\n",
       "        vertical-align: top;\n",
       "    }\n",
       "\n",
       "    .dataframe thead th {\n",
       "        text-align: right;\n",
       "    }\n",
       "</style>\n",
       "<table border=\"1\" class=\"dataframe\">\n",
       "  <thead>\n",
       "    <tr style=\"text-align: right;\">\n",
       "      <th></th>\n",
       "      <th>gene_name</th>\n",
       "      <th>ensemble_id</th>\n",
       "      <th>n_counts</th>\n",
       "    </tr>\n",
       "    <tr>\n",
       "      <th>gene_name</th>\n",
       "      <th></th>\n",
       "      <th></th>\n",
       "      <th></th>\n",
       "    </tr>\n",
       "  </thead>\n",
       "  <tbody>\n",
       "    <tr>\n",
       "      <th>A1BG</th>\n",
       "      <td>A1BG</td>\n",
       "      <td>ENSG00000121410</td>\n",
       "      <td>1653.0</td>\n",
       "    </tr>\n",
       "    <tr>\n",
       "      <th>A1CF</th>\n",
       "      <td>A1CF</td>\n",
       "      <td>ENSG00000148584</td>\n",
       "      <td>53.0</td>\n",
       "    </tr>\n",
       "    <tr>\n",
       "      <th>A2M</th>\n",
       "      <td>A2M</td>\n",
       "      <td>ENSG00000175899</td>\n",
       "      <td>471452.0</td>\n",
       "    </tr>\n",
       "    <tr>\n",
       "      <th>A2ML1</th>\n",
       "      <td>A2ML1</td>\n",
       "      <td>ENSG00000166535</td>\n",
       "      <td>6200.0</td>\n",
       "    </tr>\n",
       "    <tr>\n",
       "      <th>A3GALT2</th>\n",
       "      <td>A3GALT2</td>\n",
       "      <td>ENSG00000184389</td>\n",
       "      <td>1324.0</td>\n",
       "    </tr>\n",
       "  </tbody>\n",
       "</table>\n",
       "</div>"
      ],
      "text/plain": [
       "          gene_name      ensemble_id  n_counts\n",
       "gene_name                                     \n",
       "A1BG           A1BG  ENSG00000121410    1653.0\n",
       "A1CF           A1CF  ENSG00000148584      53.0\n",
       "A2M             A2M  ENSG00000175899  471452.0\n",
       "A2ML1         A2ML1  ENSG00000166535    6200.0\n",
       "A3GALT2     A3GALT2  ENSG00000184389    1324.0"
      ]
     },
     "execution_count": 19,
     "metadata": {},
     "output_type": "execute_result"
    }
   ],
   "source": [
    "dict(zip(weng_HSC.var['gene_name'].values, weng_HSC.var['ensemble_id'].values))"
   ]
  },
  {
   "cell_type": "code",
   "execution_count": null,
   "id": "5506109b-fba5-4471-8ee9-7c8ca6740938",
   "metadata": {},
   "outputs": [],
   "source": []
  },
  {
   "cell_type": "code",
   "execution_count": 13,
   "id": "eaec4816-a18e-486e-a70e-1ddce0bc8587",
   "metadata": {},
   "outputs": [],
   "source": [
    "signature = weng_HSC.to_df(layer='raw_counts').sum(axis=0)"
   ]
  },
  {
   "cell_type": "code",
   "execution_count": null,
   "id": "03b36665-f8f6-49b3-9131-f5af59925f47",
   "metadata": {},
   "outputs": [],
   "source": []
  },
  {
   "cell_type": "code",
   "execution_count": 5,
   "id": "4a762a81-1d5e-49a3-8d35-4d5630a88d34",
   "metadata": {},
   "outputs": [
    {
     "data": {
      "text/plain": [
       "cell_type\n",
       "FB                        26586\n",
       "iHSC                       8574\n",
       "LinNegCD34PosCD164Pos      6343\n",
       "HSC                        5798\n",
       "LinNegCD34lowCD164high     4265\n",
       "MPP                        1795\n",
       "MKP                         863\n",
       "MLP                         123\n",
       "Name: count, dtype: int64"
      ]
     },
     "execution_count": 5,
     "metadata": {},
     "output_type": "execute_result"
    }
   ],
   "source": [
    "adata.obs['cell_type'].value_counts()"
   ]
  },
  {
   "cell_type": "code",
   "execution_count": null,
   "id": "1b6db51c-1fbc-422b-a93f-f84e809d6df3",
   "metadata": {},
   "outputs": [],
   "source": []
  },
  {
   "cell_type": "code",
   "execution_count": null,
   "id": "8ae23027-47f5-485e-ba3a-6befa73a4ce5",
   "metadata": {},
   "outputs": [],
   "source": []
  },
  {
   "cell_type": "code",
   "execution_count": null,
   "id": "101e351c-2d97-409c-8709-dc0b2ff52685",
   "metadata": {},
   "outputs": [],
   "source": []
  },
  {
   "cell_type": "code",
   "execution_count": 3,
   "id": "1a6fbccc-e403-4d49-bf89-c196126c8f52",
   "metadata": {},
   "outputs": [
    {
     "ename": "SyntaxError",
     "evalue": "'break' outside loop (668683560.py, line 1)",
     "output_type": "error",
     "traceback": [
      "\u001b[0;36m  Cell \u001b[0;32mIn[3], line 1\u001b[0;36m\u001b[0m\n\u001b[0;31m    break\u001b[0m\n\u001b[0m    ^\u001b[0m\n\u001b[0;31mSyntaxError\u001b[0m\u001b[0;31m:\u001b[0m 'break' outside loop\n"
     ]
    }
   ],
   "source": [
    "break"
   ]
  },
  {
   "cell_type": "code",
   "execution_count": 6,
   "id": "fee273a8-2130-469f-a684-433ad489868f",
   "metadata": {},
   "outputs": [
    {
     "data": {
      "text/plain": [
       "dataset\n",
       "tabula_sapiens    26586\n",
       "pellin            12228\n",
       "iHSC               8574\n",
       "young2_HSC         3703\n",
       "old2_BMMC_HSPC     2365\n",
       "old1_BMMC_HSPC      891\n",
       "Name: count, dtype: int64"
      ]
     },
     "execution_count": 6,
     "metadata": {},
     "output_type": "execute_result"
    }
   ],
   "source": [
    "adata.obs['dataset'].value_counts()"
   ]
  },
  {
   "cell_type": "code",
   "execution_count": 4,
   "id": "241d87ae-85f5-48b3-9cf9-c2f9f18c63dc",
   "metadata": {},
   "outputs": [
    {
     "data": {
      "text/plain": [
       "cell_type\n",
       "FB                        26586\n",
       "iHSC                       8574\n",
       "LinNegCD34PosCD164Pos      6343\n",
       "HSC                        5798\n",
       "LinNegCD34lowCD164high     4265\n",
       "MPP                        1795\n",
       "MKP                         863\n",
       "MLP                         123\n",
       "Name: count, dtype: int64"
      ]
     },
     "execution_count": 4,
     "metadata": {},
     "output_type": "execute_result"
    }
   ],
   "source": [
    "adata.obs['cell_type'].value_counts()"
   ]
  },
  {
   "cell_type": "code",
   "execution_count": null,
   "id": "573e810a-4e62-4d84-bd31-c5ad02bcf659",
   "metadata": {},
   "outputs": [],
   "source": [
    "# break"
   ]
  },
  {
   "cell_type": "raw",
   "id": "4819fc56-6cbd-4940-969f-4470b2b5eaf6",
   "metadata": {},
   "source": []
  }
 ],
 "metadata": {
  "kernelspec": {
   "display_name": "scanpy",
   "language": "python",
   "name": "scanpy"
  },
  "language_info": {
   "codemirror_mode": {
    "name": "ipython",
    "version": 3
   },
   "file_extension": ".py",
   "mimetype": "text/x-python",
   "name": "python",
   "nbconvert_exporter": "python",
   "pygments_lexer": "ipython3",
   "version": "3.12.3"
  }
 },
 "nbformat": 4,
 "nbformat_minor": 5
}
