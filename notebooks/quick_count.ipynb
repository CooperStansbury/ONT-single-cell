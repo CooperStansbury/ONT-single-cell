{
 "cells": [
  {
   "cell_type": "code",
   "execution_count": 1,
   "id": "a328232b-783c-42c9-89fd-d2ec272ca52f",
   "metadata": {},
   "outputs": [],
   "source": [
    "import sys\n",
    "import pandas as pd\n",
    "import numpy as np\n",
    "import scanpy as sc\n",
    "import anndata as an"
   ]
  },
  {
   "cell_type": "code",
   "execution_count": 2,
   "id": "28195f97-617d-4719-bb68-9f7c5c061438",
   "metadata": {},
   "outputs": [
    {
     "name": "stdout",
     "output_type": "stream",
     "text": [
      "Memory usage: current 2.66 GB, difference +2.66 GB\n"
     ]
    },
    {
     "data": {
      "text/plain": [
       "AnnData object with n_obs × n_vars = 14251 × 19393\n",
       "    obs: 'n_genes'\n",
       "    var: 'gene_name', 'Chromosome', 'Start', 'End', 'Strand'"
      ]
     },
     "execution_count": 2,
     "metadata": {},
     "output_type": "execute_result"
    }
   ],
   "source": [
    "\"\"\"RAW iHSC\"\"\"\n",
    "fpath = \"/scratch/indikar_root/indikar1/cstansbu/HSC/scanpy/raw.anndata.h5ad\"\n",
    "adata = sc.read_h5ad(fpath)\n",
    "sc.logging.print_memory_usage()\n",
    "adata"
   ]
  },
  {
   "cell_type": "code",
   "execution_count": 3,
   "id": "1c082a77-de14-4e6d-9180-fdc7fd0d3faf",
   "metadata": {},
   "outputs": [
    {
     "name": "stdout",
     "output_type": "stream",
     "text": [
      "Memory usage: current 4.23 GB, difference +1.58 GB\n"
     ]
    },
    {
     "data": {
      "text/plain": [
       "AnnData object with n_obs × n_vars = 10883 × 19393\n",
       "    obs: 'n_genes'\n",
       "    var: 'gene_name', 'Chromosome', 'Start', 'End', 'Strand'"
      ]
     },
     "execution_count": 3,
     "metadata": {},
     "output_type": "execute_result"
    }
   ],
   "source": [
    "\"\"\"RAW BJ Fibroblast\"\"\"\n",
    "fpath = \"/scratch/indikar_root/indikar1/shared_data/single_cell_fibroblast/scanpy/raw.anndata.h5ad\"\n",
    "adata = sc.read_h5ad(fpath)\n",
    "sc.logging.print_memory_usage()\n",
    "adata"
   ]
  },
  {
   "cell_type": "code",
   "execution_count": 4,
   "id": "5865cbb8-1cd9-4c53-aa3b-f16306107dd8",
   "metadata": {},
   "outputs": [
    {
     "name": "stdout",
     "output_type": "stream",
     "text": [
      "Memory usage: current 11.74 GB, difference +7.51 GB\n"
     ]
    },
    {
     "data": {
      "text/plain": [
       "AnnData object with n_obs × n_vars = 16130 × 13579\n",
       "    obs: 'cluster_str', 'dataset', 'pred_phase', 'leiden', 'n_genes', 'n_genes_by_counts', 'total_counts', 'pct_counts_in_top_50_genes', 'pct_counts_in_top_100_genes', 'pct_counts_in_top_200_genes', 'pct_counts_in_top_500_genes', 'total_counts_mt', 'pct_counts_mt', 'total_counts_ribo', 'pct_counts_ribo', 'total_counts_hb', 'pct_counts_hb', 'new_cluster'\n",
       "    var: 'n_cells', 'mt', 'ribo', 'hb', 'n_cells_by_counts', 'mean_counts', 'pct_dropout_by_counts', 'total_counts', 'highly_variable', 'means', 'dispersions', 'dispersions_norm', 'highly_variable_nbatches', 'highly_variable_intersection'\n",
       "    uns: 'cluster_str_colors', 'dataset_colors', 'hvg', 'log1p', 'neighbors', 'new_cluster', 'new_cluster_colors', 'pca', 'pred_phase_colors', 'umap'\n",
       "    obsm: 'X_pca', 'X_scanorama', 'X_umap'\n",
       "    varm: 'PCs'\n",
       "    layers: 'combat', 'counts', 'log_norm', 'magic', 'norm'\n",
       "    obsp: 'connectivities', 'distances'"
      ]
     },
     "execution_count": 4,
     "metadata": {},
     "output_type": "execute_result"
    }
   ],
   "source": [
    "fpath = \"/scratch/indikar_root/indikar1/cstansbu/HSC/scanpy/merged_scfib.h5ad\"\n",
    "adata = sc.read_h5ad(fpath)\n",
    "sc.logging.print_memory_usage()\n",
    "adata"
   ]
  },
  {
   "cell_type": "code",
   "execution_count": 5,
   "id": "8ee6c681-70a5-44c8-bd49-efb48f85dc40",
   "metadata": {},
   "outputs": [
    {
     "data": {
      "text/plain": [
       "dataset\n",
       "iHSC     8382\n",
       "scFib    7748\n",
       "Name: count, dtype: int64"
      ]
     },
     "execution_count": 5,
     "metadata": {},
     "output_type": "execute_result"
    }
   ],
   "source": [
    "adata.obs['dataset'].value_counts()"
   ]
  },
  {
   "cell_type": "code",
   "execution_count": 6,
   "id": "ece456b7-a992-4041-81db-a853e800512e",
   "metadata": {},
   "outputs": [
    {
     "data": {
      "text/plain": [
       "cluster_str\n",
       "C1    3919\n",
       "C2    1749\n",
       "C3    1606\n",
       "C4     602\n",
       "C5     447\n",
       "C6      59\n",
       "Name: count, dtype: int64"
      ]
     },
     "execution_count": 6,
     "metadata": {},
     "output_type": "execute_result"
    }
   ],
   "source": [
    "adata.obs['cluster_str'].value_counts()"
   ]
  },
  {
   "cell_type": "code",
   "execution_count": null,
   "id": "60dd7208-db12-40d5-b2fe-e914b874f977",
   "metadata": {},
   "outputs": [],
   "source": []
  }
 ],
 "metadata": {
  "kernelspec": {
   "display_name": "scanpy",
   "language": "python",
   "name": "scanpy"
  },
  "language_info": {
   "codemirror_mode": {
    "name": "ipython",
    "version": 3
   },
   "file_extension": ".py",
   "mimetype": "text/x-python",
   "name": "python",
   "nbconvert_exporter": "python",
   "pygments_lexer": "ipython3",
   "version": "3.12.5"
  }
 },
 "nbformat": 4,
 "nbformat_minor": 5
}
