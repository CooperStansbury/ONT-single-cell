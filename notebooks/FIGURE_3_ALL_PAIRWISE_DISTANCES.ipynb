{
 "cells": [
  {
   "cell_type": "code",
   "execution_count": 1,
   "id": "45cdbc1a-5aa6-4c3a-8beb-c4acab294138",
   "metadata": {},
   "outputs": [],
   "source": [
    "import sys\n",
    "import pandas as pd\n",
    "import numpy as np\n",
    "import matplotlib.pyplot as plt\n",
    "import seaborn as sns\n",
    "import scanpy as sc\n",
    "import time\n",
    "from itertools import combinations, chain\n",
    "\n",
    "from scipy.sparse import csr_matrix\n",
    "from scipy.spatial.distance import cdist\n",
    "from sklearn.metrics import pairwise_distances\n"
   ]
  },
  {
   "cell_type": "code",
   "execution_count": null,
   "id": "ecb3efa9-17f1-45d6-aa5a-ab2d154a5c98",
   "metadata": {},
   "outputs": [],
   "source": [
    "fpath = \"/scratch/indikar_root/indikar1/cstansbu/HSC/geneformer_adata/merged.anndata.h5ad\"\n",
    "\n",
    "adata = sc.read_h5ad(fpath)\n",
    "sc.logging.print_memory_usage()\n",
    "adata.X = csr_matrix(adata.X) \n",
    "sc.logging.print_memory_usage()\n",
    "adata"
   ]
  },
  {
   "cell_type": "code",
   "execution_count": null,
   "id": "e6868226-40ca-4f63-9068-5ba0a560a320",
   "metadata": {},
   "outputs": [],
   "source": [
    "adata.obs['cell_type'].value_counts().sort_index()"
   ]
  },
  {
   "cell_type": "markdown",
   "id": "c4d5d3ee-a75a-44df-b9db-143b47e9a759",
   "metadata": {},
   "source": [
    "# Clean up cell types"
   ]
  },
  {
   "cell_type": "code",
   "execution_count": null,
   "id": "c7511a8c-64ba-4dca-bf9e-c939b582df5a",
   "metadata": {},
   "outputs": [],
   "source": [
    "cell_type_map = {\n",
    "    'B': 'B_cell',\n",
    "    'CD4': 'T_cell',\n",
    "    'CD8': 'T_cell',\n",
    "    'CLP': 'CLP',\n",
    "    'CMP': 'CMP',\n",
    "    'EryP': 'EryP',\n",
    "    'FB': 'Fib',\n",
    "    'GMP': 'GMP',\n",
    "    'HSC': 'HSC',\n",
    "    'LMPP': 'LMPP',\n",
    "    'LinNegCD34NegCD164high': 'LinNeg',\n",
    "    'LinNegCD34NegCD164low': 'LinNeg',\n",
    "    'LinNegCD34PosCD164Pos': 'LinNeg',\n",
    "    'LinNegCD34lowCD164high': 'LinNeg',\n",
    "    'MDP': 'MDP',\n",
    "    'MEP': 'MEP',\n",
    "    'MKP': 'MKP',\n",
    "    'MLP': 'MLP',\n",
    "    'MPP': 'MPP',\n",
    "    'Mono': 'Mono',\n",
    "    'NK': 'NK',\n",
    "    'Plasma': 'B_cell',\n",
    "    'PreBNK': 'PreBNK',\n",
    "    'ProB': 'B_cell',\n",
    "    'Refined.HSC': 'HSC',\n",
    "    'cDC': 'Dendritic_cell',\n",
    "    'iHSC': 'iHSC',\n",
    "    'pDC': 'Dendritic_cell',\n",
    "}\n",
    "\n",
    "adata.obs['cell_type_standard'] = adata.obs['cell_type'].map(cell_type_map)\n",
    "adata.obs['cell_type_standard'].value_counts().sort_index()"
   ]
  },
  {
   "cell_type": "markdown",
   "id": "07074180-affe-49fd-a6ee-46614ff851bd",
   "metadata": {},
   "source": [
    "# Gene set selection"
   ]
  },
  {
   "cell_type": "code",
   "execution_count": null,
   "id": "2e1b3074-97ce-4a22-b2a5-cae4d6fbbdc9",
   "metadata": {},
   "outputs": [],
   "source": [
    "gene_mask, counts = sc.pp.filter_genes(\n",
    "    adata, \n",
    "    min_cells=10, \n",
    "    inplace=False,\n",
    ")\n",
    "\n",
    "sc.pp.highly_variable_genes(\n",
    "    adata,\n",
    "    n_top_genes=1000,\n",
    "    batch_key='dataset',\n",
    "    flavor='seurat_v3',\n",
    ")\n",
    "\n",
    "selected_genes = adata.var[gene_mask]\n",
    "print(f\"{selected_genes.shape=}\")\n",
    "\n",
    "print(f\"Number highly variable genes: {adata.var['highly_variable'].sum()}\")\n",
    "\n",
    "selected_genes.head()"
   ]
  },
  {
   "cell_type": "markdown",
   "id": "45ff4eb8-14e6-4a1c-9616-83b87067f160",
   "metadata": {},
   "source": [
    "# Reprocessing and PCA"
   ]
  },
  {
   "cell_type": "code",
   "execution_count": null,
   "id": "2054149a-8916-4164-b0d3-82c82a0b869d",
   "metadata": {},
   "outputs": [],
   "source": [
    "break"
   ]
  },
  {
   "cell_type": "markdown",
   "id": "6648eed5-aa03-4526-8914-1ac9fa5c5fd7",
   "metadata": {},
   "source": [
    "# Preprocessing"
   ]
  },
  {
   "cell_type": "code",
   "execution_count": null,
   "id": "5fe49a07-3436-4f07-b57d-cc58c2953b39",
   "metadata": {},
   "outputs": [],
   "source": [
    "def process_anndata(adata, gene_list=None):\n",
    "    \"\"\"\n",
    "    Processes an AnnData object by normalizing and converting its data to a sparse DataFrame.\n",
    "\n",
    "    Args:\n",
    "        adata: The AnnData object to process.\n",
    "\n",
    "    Returns:\n",
    "        A sparse DataFrame containing the processed data.\n",
    "    \"\"\"\n",
    "    if not gene_list is None:\n",
    "        adata = adata[:, gene_list].copy()\n",
    "    else:\n",
    "        adata = adata.copy()\n",
    "\n",
    "    # Normalize the AnnData object (creates a copy internally)\n",
    "    sc.pp.normalize_total(adata, target_sum=1e3)\n",
    "\n",
    "    # Convert the data to a sparse CSR matrix\n",
    "    sparse_matrix = csr_matrix(adata.X)\n",
    "\n",
    "    # Create a sparse DataFrame from the sparse matrix\n",
    "    sparse_df = pd.DataFrame.sparse.from_spmatrix(\n",
    "        sparse_matrix,\n",
    "        index=adata.obs_names,\n",
    "        columns=adata.var_names\n",
    "    )\n",
    "\n",
    "    return sparse_df\n",
    "\n",
    "\n",
    "gene_list = adata.var[gene_mask & adata.var['highly_variable']]['gene_name'].to_list()\n",
    "total_mem = 0\n",
    "matrix = {} # for the results\n",
    "for cell_type, group in adata.obs.groupby('cell_type_standard', observed=True):\n",
    "    \n",
    "    group_idx = group.index\n",
    "    X = process_anndata(adata[group_idx, :], gene_list=gene_list)\n",
    "    \n",
    "    memory_usage = X.memory_usage(deep=True).sum() / 1024**3\n",
    "    total_mem += memory_usage\n",
    "    \n",
    "    print(f\"{cell_type=} {X.shape=} ({memory_usage:.2f} Gb)\")\n",
    "    matrix[cell_type] = X\n",
    "    \n",
    "print('done.')\n",
    "print(f'Total Mem: {total_mem:.2f} Gb')"
   ]
  },
  {
   "cell_type": "code",
   "execution_count": null,
   "id": "4616b336-fdd9-4a6b-93e5-ffd94c1fff2d",
   "metadata": {},
   "outputs": [],
   "source": [
    "# break"
   ]
  },
  {
   "cell_type": "markdown",
   "id": "d9012911-fcea-4cb2-b78c-b79c410dea07",
   "metadata": {},
   "source": [
    "# Distances"
   ]
  },
  {
   "cell_type": "code",
   "execution_count": null,
   "id": "80c8ec10-3eb5-4c86-a76e-22c43babbc27",
   "metadata": {},
   "outputs": [],
   "source": [
    "# metric = 'cosine'\n",
    "metric = 'euclidean'\n",
    "results = []\n",
    "\n",
    "start_time = time.time()  # Start timing the entire process\n",
    "\n",
    "def get_pairs(items):\n",
    "    pairs = combinations(items, 2)\n",
    "    self_loops = [(x, x) for x in items]\n",
    "    return list(chain(pairs, self_loops))\n",
    "\n",
    "cell_types = [\n",
    "    'iHSC',\n",
    "    'HSC',\n",
    "    'MEP',\n",
    "    'MKP',\n",
    "    'MPP',\n",
    "    'MLP',\n",
    "    'Fib',\n",
    "    'CMP',\n",
    "    'CLP',\n",
    "    'GMP',\n",
    "]\n",
    "\n",
    "# cell_types = list(matrix.keys())\n",
    "key_pairs = get_pairs(cell_types)\n",
    "print(f\"Considered comparisons: {len(key_pairs)}\")\n",
    "\n",
    "\n",
    "distances = {}\n",
    "\n",
    "for i, j in key_pairs:\n",
    "    Xi = matrix[i]\n",
    "    Xj = matrix[j]\n",
    "    \n",
    "    iter_start_time = time.time()  # Start timing this iteration\n",
    "\n",
    "    D = pairwise_distances(Xi, Xj, metric=metric)\n",
    "    # D = pd.DataFrame(D, index=Xi.index, columns=Xj.index)\n",
    "\n",
    "    iter_end_time = time.time()  # End timing this iteration\n",
    "    print(f\"Iteration ({i}, {j}) took {iter_end_time - iter_start_time:.2f} seconds\")\n",
    "\n",
    "    row = {\n",
    "        'cell_i': i,\n",
    "        'cell_j': j,\n",
    "        'N_i': Xi.shape[0],\n",
    "        'N_j': Xj.shape[0],\n",
    "        'mean_distance': np.mean(D),\n",
    "        'std_distance': np.std(D),\n",
    "        'median_distance': np.median(D),\n",
    "        'min_distance': np.min(D),\n",
    "        'max_distance': np.max(D),\n",
    "        'seconds' : iter_end_time - iter_start_time,\n",
    "    }\n",
    "    results.append(row)\n",
    "    # break  # Remove this break if you want to process all pairs\n",
    "\n",
    "results = pd.DataFrame(results)\n",
    "\n",
    "end_time = time.time()  # End timing the entire process\n",
    "print(f\"Total processing time: {end_time - start_time:.2f} seconds\")\n",
    "\n",
    "results.head()"
   ]
  },
  {
   "cell_type": "code",
   "execution_count": null,
   "id": "0b1c9a26-32e1-498d-8128-3acbdf62d23b",
   "metadata": {},
   "outputs": [],
   "source": [
    "# break"
   ]
  },
  {
   "cell_type": "markdown",
   "id": "960834d5-a543-40f1-9b2f-b6bb4878b494",
   "metadata": {},
   "source": [
    "# visualization"
   ]
  },
  {
   "cell_type": "code",
   "execution_count": null,
   "id": "6cf728fd-aed7-4a1f-8c41-54a2a9a0f48c",
   "metadata": {},
   "outputs": [],
   "source": [
    "A = pd.pivot_table(\n",
    "    results, \n",
    "    index='cell_i',\n",
    "    columns='cell_j',\n",
    "    values='median_distance',\n",
    "    fill_value=0,\n",
    ")\n",
    "\n",
    "A = (A.T + A) / 2\n",
    "\n",
    "print(f\"{A.shape=}\")\n",
    "\n",
    "plt.rcParams['figure.dpi'] = 300\n",
    "plt.rcParams['figure.figsize'] = 10, 10\n",
    "\n",
    "ax = sns.heatmap(\n",
    "    A,\n",
    "    square=True,\n",
    "    linecolor='k',\n",
    "    lw=1,\n",
    "    fmt=\".3f\",\n",
    "    annot=True,\n",
    "    # center=True,\n",
    "    cmap='plasma',\n",
    "    cbar_kws={'shrink': 0.25, 'label' : f'{metric.title()} Distance'}\n",
    ")\n",
    "\n",
    "plt.ylabel(\"\")\n",
    "plt.xlabel(\"\")\n",
    "\n",
    "ax.tick_params(axis='y', rotation=0)\n",
    "    \n",
    "plt.show()"
   ]
  },
  {
   "cell_type": "code",
   "execution_count": null,
   "id": "01c3c840-9f93-4337-9ffa-10c5bc8a0b0b",
   "metadata": {},
   "outputs": [],
   "source": [
    "5 ** 5"
   ]
  },
  {
   "cell_type": "code",
   "execution_count": null,
   "id": "f399c496-e0fc-4c73-8339-1302850fe5de",
   "metadata": {},
   "outputs": [],
   "source": [
    "break"
   ]
  },
  {
   "cell_type": "code",
   "execution_count": null,
   "id": "306528c2-1ee4-4a99-8fd9-1b174cb70518",
   "metadata": {},
   "outputs": [],
   "source": [
    "break"
   ]
  }
 ],
 "metadata": {
  "kernelspec": {
   "display_name": "scanpy",
   "language": "python",
   "name": "scanpy"
  },
  "language_info": {
   "codemirror_mode": {
    "name": "ipython",
    "version": 3
   },
   "file_extension": ".py",
   "mimetype": "text/x-python",
   "name": "python",
   "nbconvert_exporter": "python",
   "pygments_lexer": "ipython3",
   "version": "3.12.3"
  }
 },
 "nbformat": 4,
 "nbformat_minor": 5
}
