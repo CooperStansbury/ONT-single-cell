{
 "cells": [
  {
   "cell_type": "code",
   "execution_count": null,
   "id": "f9462f6f-4e06-4f4a-b88e-4542358b1839",
   "metadata": {},
   "outputs": [],
   "source": [
    "import pandas as pd\n",
    "import numpy as np\n",
    "import anndata as ad\n",
    "import os\n",
    "import sys\n",
    "from collections import Counter\n",
    "import gget\n",
    "import scipy\n",
    "from sklearn import preprocessing\n",
    "\n",
    "import scanpy as sc\n",
    "import scanpy.external as sce\n",
    "import matplotlib.pyplot as plt\n",
    "from mpl_toolkits.axes_grid1 import make_axes_locatable\n",
    "import seaborn as sns"
   ]
  },
  {
   "cell_type": "markdown",
   "id": "2ad55641-07ad-4f7e-a01b-bc8bc47a0225",
   "metadata": {},
   "source": [
    "# Load our data"
   ]
  },
  {
   "cell_type": "code",
   "execution_count": null,
   "id": "95fef0ea-25a7-455f-9b89-de314e3219f8",
   "metadata": {},
   "outputs": [],
   "source": [
    "# fpath = \"/scratch/indikar_root/indikar1/cstansbu/all_scHSC_run3/scanpy/anndata_distance.h5ad\"\n",
    "# fpath = \"/scratch/indikar_root/indikar1/cstansbu/all_scHSC_run4/scanpy/anndata_distance.h5ad\"\n",
    "# fpath = \"/scratch/indikar_root/indikar1/cstansbu/all_HSC/scanpy/anndata_distance.h5ad\"\n",
    "fpath = \"/scratch/indikar_root/indikar1/cstansbu/all_HSC/scanpy/anndata_tabula_merged.h5ad\"\n",
    "\n",
    "adata = sc.read_h5ad(fpath)\n",
    "adata"
   ]
  },
  {
   "cell_type": "code",
   "execution_count": null,
   "id": "24ce395b-30d0-4c63-ab43-2eaefb9f4cc7",
   "metadata": {},
   "outputs": [],
   "source": [
    "# sample \n",
    "fraction = 0.75\n",
    "data = sc.pp.subsample(adata, \n",
    "                       fraction=fraction, \n",
    "                       copy=True)\n",
    "data"
   ]
  },
  {
   "cell_type": "markdown",
   "id": "1027d9bb-d44d-4301-bb55-161241ef6265",
   "metadata": {},
   "source": [
    "# Joint embedding "
   ]
  },
  {
   "cell_type": "code",
   "execution_count": null,
   "id": "fa1d657d-6750-4007-9491-982fb793c7a2",
   "metadata": {},
   "outputs": [],
   "source": [
    "NPCA = 15\n",
    "use_highly_variable=True\n",
    "n_genes = 1500\n",
    "knn = 31\n",
    "impute = True\n",
    "diffision = 2\n",
    "magic_knn = 31\n",
    "magic_solver = \"approximate\"\n",
    "resolution = 0.1\n",
    "min_distance = 1.0\n",
    "spread = 1.0\n",
    "\n",
    "# simple preprocessing\n",
    "sc.pp.highly_variable_genes(data, n_top_genes=n_genes)\n",
    "\n",
    "# imputation\n",
    "if impute:\n",
    "    sce.pp.magic(data, \n",
    "                 t=diffision, \n",
    "                 knn=magic_knn,\n",
    "                 solver=magic_solver,\n",
    "                 name_list='all_genes')\n",
    "\n",
    "# PCA\n",
    "sc.tl.pca(data, n_comps=NPCA, use_highly_variable=use_highly_variable)\n",
    "sc.pl.pca_variance_ratio(data, n_pcs=30)\n",
    "\n",
    "sc.pp.neighbors(data, n_neighbors=knn, n_pcs=NPCA)\n",
    "\n",
    "# clustering\n",
    "print(\"Clustering\")\n",
    "sc.tl.leiden(data, resolution=resolution,)\n",
    "sc.tl.paga(data)\n",
    "sc.pl.paga(data, plot=False)\n",
    "\n",
    "sc.tl.umap(data, \n",
    "           min_dist=min_distance, \n",
    "           spread=spread, \n",
    "           init_pos='paga',)\n",
    "\n",
    "# save the coordinates\n",
    "data.obs['UMAP1'] = data.obsm['X_umap'][:, 0]\n",
    "data.obs['UMAP2'] = data.obsm['X_umap'][:, 0]\n",
    "\n",
    "sc.pl.umap(data, \n",
    "           color=['leiden', \n",
    "                  'set', \n",
    "                  'celltype', \n",
    "                  'cluster_name'], \n",
    "           ncols=2)"
   ]
  },
  {
   "cell_type": "code",
   "execution_count": null,
   "id": "df6fed2d-9111-4ad9-a0b5-368d9c3ca8ad",
   "metadata": {},
   "outputs": [],
   "source": [
    "sc.pl.umap(data, \n",
    "           color=['leiden', \n",
    "                  'organ_tissue'], \n",
    "           ncols=2)"
   ]
  },
  {
   "cell_type": "code",
   "execution_count": null,
   "id": "c775139a-2338-4a00-bcdc-f703b129b8f3",
   "metadata": {},
   "outputs": [],
   "source": [
    "break"
   ]
  },
  {
   "cell_type": "code",
   "execution_count": null,
   "id": "2eb2f9d2-7783-42da-8c72-3757be2f9d5f",
   "metadata": {},
   "outputs": [],
   "source": []
  }
 ],
 "metadata": {
  "kernelspec": {
   "display_name": "Python 3 (ipykernel)",
   "language": "python",
   "name": "python3"
  },
  "language_info": {
   "codemirror_mode": {
    "name": "ipython",
    "version": 3
   },
   "file_extension": ".py",
   "mimetype": "text/x-python",
   "name": "python",
   "nbconvert_exporter": "python",
   "pygments_lexer": "ipython3",
   "version": "3.9.7"
  }
 },
 "nbformat": 4,
 "nbformat_minor": 5
}
