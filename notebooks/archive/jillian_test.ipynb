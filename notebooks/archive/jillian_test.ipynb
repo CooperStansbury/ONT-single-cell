{
 "cells": [
  {
   "cell_type": "code",
   "execution_count": 11,
   "id": "91d865d0-cb8d-4833-844a-c83fae8c973b",
   "metadata": {},
   "outputs": [],
   "source": [
    "import pandas as pd\n",
    "import pysam"
   ]
  },
  {
   "cell_type": "code",
   "execution_count": 24,
   "id": "d32f34b1-b6c6-4f52-a50f-757e8ed8e625",
   "metadata": {},
   "outputs": [
    {
     "name": "stderr",
     "output_type": "stream",
     "text": [
      "[E::idx_find_and_load] Could not retrieve index file for '/nfs/turbo/umms-indikar/shared/projects/RECODE/2024-02-29-YvsO-cDNAPCR/test/alignments.bam'\n"
     ]
    },
    {
     "data": {
      "text/html": [
       "<div>\n",
       "<style scoped>\n",
       "    .dataframe tbody tr th:only-of-type {\n",
       "        vertical-align: middle;\n",
       "    }\n",
       "\n",
       "    .dataframe tbody tr th {\n",
       "        vertical-align: top;\n",
       "    }\n",
       "\n",
       "    .dataframe thead th {\n",
       "        text-align: right;\n",
       "    }\n",
       "</style>\n",
       "<table border=\"1\" class=\"dataframe\">\n",
       "  <thead>\n",
       "    <tr style=\"text-align: right;\">\n",
       "      <th></th>\n",
       "      <th>read_name</th>\n",
       "      <th>mapping_quality</th>\n",
       "      <th>transcript</th>\n",
       "      <th>align_length</th>\n",
       "    </tr>\n",
       "  </thead>\n",
       "  <tbody>\n",
       "    <tr>\n",
       "      <th>0</th>\n",
       "      <td>26e5cf54-454f-4554-9374-3ce8298fe562</td>\n",
       "      <td>18</td>\n",
       "      <td>ENST00000361390.2</td>\n",
       "      <td>298</td>\n",
       "    </tr>\n",
       "    <tr>\n",
       "      <th>1</th>\n",
       "      <td>e1329c3d-2c9a-4d90-ac75-7f70aa084cc6</td>\n",
       "      <td>60</td>\n",
       "      <td>ENST00000361453.3</td>\n",
       "      <td>699</td>\n",
       "    </tr>\n",
       "    <tr>\n",
       "      <th>2</th>\n",
       "      <td>d3d26b57-c8bd-43b5-9146-7cb937741e34</td>\n",
       "      <td>60</td>\n",
       "      <td>ENST00000361453.3</td>\n",
       "      <td>625</td>\n",
       "    </tr>\n",
       "    <tr>\n",
       "      <th>3</th>\n",
       "      <td>0dcbad36-8961-441d-b886-d7e36a2fcf50</td>\n",
       "      <td>60</td>\n",
       "      <td>ENST00000361453.3</td>\n",
       "      <td>534</td>\n",
       "    </tr>\n",
       "    <tr>\n",
       "      <th>4</th>\n",
       "      <td>39dcd108-a1d8-41c9-81f2-58e865e0496e</td>\n",
       "      <td>60</td>\n",
       "      <td>ENST00000361624.2</td>\n",
       "      <td>1516</td>\n",
       "    </tr>\n",
       "  </tbody>\n",
       "</table>\n",
       "</div>"
      ],
      "text/plain": [
       "                              read_name  mapping_quality         transcript  \\\n",
       "0  26e5cf54-454f-4554-9374-3ce8298fe562               18  ENST00000361390.2   \n",
       "1  e1329c3d-2c9a-4d90-ac75-7f70aa084cc6               60  ENST00000361453.3   \n",
       "2  d3d26b57-c8bd-43b5-9146-7cb937741e34               60  ENST00000361453.3   \n",
       "3  0dcbad36-8961-441d-b886-d7e36a2fcf50               60  ENST00000361453.3   \n",
       "4  39dcd108-a1d8-41c9-81f2-58e865e0496e               60  ENST00000361624.2   \n",
       "\n",
       "   align_length  \n",
       "0           298  \n",
       "1           699  \n",
       "2           625  \n",
       "3           534  \n",
       "4          1516  "
      ]
     },
     "execution_count": 24,
     "metadata": {},
     "output_type": "execute_result"
    }
   ],
   "source": [
    "import pandas as pd\n",
    "import pysam\n",
    "\n",
    "bam_path = \"/nfs/turbo/umms-indikar/shared/projects/RECODE/2024-02-29-YvsO-cDNAPCR/test/alignments.bam\"\n",
    "\n",
    "bamfile = pysam.AlignmentFile(bam_path)\n",
    "\n",
    "stop = 10\n",
    "count = -1\n",
    "\n",
    "res = []\n",
    "\n",
    "for read in bamfile:\n",
    "    count += 1\n",
    "    if count == stop:\n",
    "        break\n",
    "\n",
    "    row = {\n",
    "            'read_name' : read.qname,\n",
    "            'mapping_quality' : read.mapping_quality,\n",
    "            'transcript' : read.reference_name,\n",
    "            'align_length' : read.query_alignment_length,\n",
    "        }\n",
    "\n",
    "    res.append(row)\n",
    "\n",
    "res = pd.DataFrame(res)\n",
    "res.head()"
   ]
  },
  {
   "cell_type": "code",
   "execution_count": null,
   "id": "018fee20-cf06-4495-8845-f3c6badab000",
   "metadata": {},
   "outputs": [],
   "source": []
  },
  {
   "cell_type": "code",
   "execution_count": null,
   "id": "7c309952-e4f8-4704-a8c4-e9cbe27e6933",
   "metadata": {},
   "outputs": [],
   "source": []
  },
  {
   "cell_type": "code",
   "execution_count": 20,
   "id": "b7813936-069d-4e8d-85bb-175adef86f46",
   "metadata": {},
   "outputs": [
    {
     "data": {
      "text/html": [
       "<div>\n",
       "<style scoped>\n",
       "    .dataframe tbody tr th:only-of-type {\n",
       "        vertical-align: middle;\n",
       "    }\n",
       "\n",
       "    .dataframe tbody tr th {\n",
       "        vertical-align: top;\n",
       "    }\n",
       "\n",
       "    .dataframe thead th {\n",
       "        text-align: right;\n",
       "    }\n",
       "</style>\n",
       "<table border=\"1\" class=\"dataframe\">\n",
       "  <thead>\n",
       "    <tr style=\"text-align: right;\">\n",
       "      <th></th>\n",
       "      <th>0</th>\n",
       "      <th>1</th>\n",
       "    </tr>\n",
       "  </thead>\n",
       "  <tbody>\n",
       "    <tr>\n",
       "      <th>0</th>\n",
       "      <td>ENSG00000000003.15</td>\n",
       "      <td>0</td>\n",
       "    </tr>\n",
       "    <tr>\n",
       "      <th>1</th>\n",
       "      <td>ENSG00000000005.6</td>\n",
       "      <td>0</td>\n",
       "    </tr>\n",
       "    <tr>\n",
       "      <th>2</th>\n",
       "      <td>ENSG00000000419.14</td>\n",
       "      <td>0</td>\n",
       "    </tr>\n",
       "    <tr>\n",
       "      <th>3</th>\n",
       "      <td>ENSG00000000457.14</td>\n",
       "      <td>0</td>\n",
       "    </tr>\n",
       "    <tr>\n",
       "      <th>4</th>\n",
       "      <td>ENSG00000000460.17</td>\n",
       "      <td>0</td>\n",
       "    </tr>\n",
       "  </tbody>\n",
       "</table>\n",
       "</div>"
      ],
      "text/plain": [
       "                    0  1\n",
       "0  ENSG00000000003.15  0\n",
       "1   ENSG00000000005.6  0\n",
       "2  ENSG00000000419.14  0\n",
       "3  ENSG00000000457.14  0\n",
       "4  ENSG00000000460.17  0"
      ]
     },
     "execution_count": 20,
     "metadata": {},
     "output_type": "execute_result"
    }
   ],
   "source": [
    "fpath = \"/nfs/turbo/umms-indikar/shared/projects/RECODE/2024-02-29-YvsO-cDNAPCR/test/counts_gencode.txt\"\n",
    "\n",
    "df = pd.read_csv(fpath, sep='\\t', header=None)\n",
    "# df.tail()\n",
    "# df.columns = ['gene_id', 'count']\n",
    "df.head()"
   ]
  },
  {
   "cell_type": "code",
   "execution_count": 23,
   "id": "c1de55b9-c7ab-43f3-99f3-1ae7bf9405df",
   "metadata": {},
   "outputs": [
    {
     "data": {
      "text/plain": [
       "1\n",
       "0       60651\n",
       "1702        1\n",
       "2023        1\n",
       "275         1\n",
       "Name: count, dtype: int64"
      ]
     },
     "execution_count": 23,
     "metadata": {},
     "output_type": "execute_result"
    }
   ],
   "source": [
    "df[1].value_counts()"
   ]
  },
  {
   "cell_type": "code",
   "execution_count": null,
   "id": "69892246-1885-4c71-843c-81225dc8c120",
   "metadata": {},
   "outputs": [],
   "source": []
  },
  {
   "cell_type": "code",
   "execution_count": null,
   "id": "8cd3c4ca-708c-4363-a181-3cc32c38c389",
   "metadata": {},
   "outputs": [],
   "source": []
  }
 ],
 "metadata": {
  "kernelspec": {
   "display_name": "Python 3 (ipykernel)",
   "language": "python",
   "name": "python3"
  },
  "language_info": {
   "codemirror_mode": {
    "name": "ipython",
    "version": 3
   },
   "file_extension": ".py",
   "mimetype": "text/x-python",
   "name": "python",
   "nbconvert_exporter": "python",
   "pygments_lexer": "ipython3",
   "version": "3.9.7"
  }
 },
 "nbformat": 4,
 "nbformat_minor": 5
}
