{
 "cells": [
  {
   "cell_type": "code",
   "execution_count": 1,
   "id": "f9462f6f-4e06-4f4a-b88e-4542358b1839",
   "metadata": {},
   "outputs": [],
   "source": [
    "import pandas as pd\n",
    "import numpy as np\n",
    "import os\n",
    "import sys\n",
    "from collections import Counter\n",
    "import gget\n",
    "import rapidfuzz\n",
    "from rapidfuzz.distance.DamerauLevenshtein import distance as rpd\n",
    "import itertools\n",
    "import scipy \n",
    "from scipy.spatial.distance import pdist\n",
    "from scipy.spatial.distance import cdist\n",
    "from sklearn.metrics import pairwise_distances\n",
    "\n",
    "import scanpy as sc\n",
    "import matplotlib.pyplot as plt\n",
    "import seaborn as sns"
   ]
  },
  {
   "cell_type": "code",
   "execution_count": 2,
   "id": "95fef0ea-25a7-455f-9b89-de314e3219f8",
   "metadata": {},
   "outputs": [
    {
     "data": {
      "text/plain": [
       "AnnData object with n_obs × n_vars = 8524 × 19393\n",
       "    obs: 'n_genes'\n",
       "    var: 'gene_name', 'Chromosome', 'Start', 'End', 'Strand'"
      ]
     },
     "execution_count": 2,
     "metadata": {},
     "output_type": "execute_result"
    }
   ],
   "source": [
    "fpath = \"/scratch/indikar_root/indikar1/cstansbu/sc-iHSC/scanpy/anndata.h5ad\"\n",
    "\n",
    "adata = sc.read(fpath, cache=False)\n",
    "adata"
   ]
  },
  {
   "cell_type": "code",
   "execution_count": 3,
   "id": "2f909e98-b203-4d7d-8062-acab5fe496c3",
   "metadata": {},
   "outputs": [
    {
     "name": "stdout",
     "output_type": "stream",
     "text": [
      "A.shape=(8524, 8524)\n",
      "done\n"
     ]
    }
   ],
   "source": [
    "barcodes = adata.obs_names\n",
    "code_dict = {c: i for i, c in enumerate(barcodes)}\n",
    "n = len(barcodes)\n",
    "A = np.zeros((n , n))\n",
    "\n",
    "dists = []\n",
    "\n",
    "for bc1, bc2 in itertools.combinations(barcodes, 2):\n",
    "\n",
    "    d = rpd(bc1, bc2)\n",
    "\n",
    "    i = code_dict[bc1]\n",
    "    j = code_dict[bc2]\n",
    "\n",
    "    A[i, j] = d\n",
    "    A[j, i] = d\n",
    "\n",
    "    row = {\n",
    "        'code1' : bc1,\n",
    "        'code2' : bc2,\n",
    "        'distance' : d,\n",
    "    }\n",
    "    dists.append(row)\n",
    "\n",
    "A = pd.DataFrame(A, \n",
    "                 index=barcodes, \n",
    "                 columns=barcodes)\n",
    "\n",
    "print(f\"{A.shape=}\")\n",
    "print('done')"
   ]
  },
  {
   "cell_type": "code",
   "execution_count": 4,
   "id": "de40e16c-816d-422a-8c87-6438a7af7a27",
   "metadata": {},
   "outputs": [
    {
     "data": {
      "text/html": [
       "<div>\n",
       "<style scoped>\n",
       "    .dataframe tbody tr th:only-of-type {\n",
       "        vertical-align: middle;\n",
       "    }\n",
       "\n",
       "    .dataframe tbody tr th {\n",
       "        vertical-align: top;\n",
       "    }\n",
       "\n",
       "    .dataframe thead th {\n",
       "        text-align: right;\n",
       "    }\n",
       "</style>\n",
       "<table border=\"1\" class=\"dataframe\">\n",
       "  <thead>\n",
       "    <tr style=\"text-align: right;\">\n",
       "      <th>cell_id</th>\n",
       "      <th>AAACCCAAGGTTACCT</th>\n",
       "      <th>AAACCCAAGTTGAAGT</th>\n",
       "      <th>AAACCCAAGTTGTCGT</th>\n",
       "      <th>AAACCCACAGAAGCGT</th>\n",
       "      <th>AAACCCACAGGAGGTT</th>\n",
       "      <th>AAACCCAGTACCTAAC</th>\n",
       "      <th>AAACCCATCAGGACGA</th>\n",
       "      <th>AAACCCATCTTACGGA</th>\n",
       "      <th>AAACGAAAGATACAGT</th>\n",
       "      <th>AAACGAACAGCGAACA</th>\n",
       "      <th>...</th>\n",
       "      <th>TTTGGTTTCGAACCTA</th>\n",
       "      <th>TTTGGTTTCGAGCTGC</th>\n",
       "      <th>TTTGGTTTCTGCTAGA</th>\n",
       "      <th>TTTGTTGAGTGCTCAT</th>\n",
       "      <th>TTTGTTGAGTGTAGTA</th>\n",
       "      <th>TTTGTTGCAAGAGGTC</th>\n",
       "      <th>TTTGTTGCATGTGGTT</th>\n",
       "      <th>TTTGTTGGTATACCCA</th>\n",
       "      <th>TTTGTTGTCACGTAGT</th>\n",
       "      <th>TTTGTTGTCGATGCTA</th>\n",
       "    </tr>\n",
       "    <tr>\n",
       "      <th>cell_id</th>\n",
       "      <th></th>\n",
       "      <th></th>\n",
       "      <th></th>\n",
       "      <th></th>\n",
       "      <th></th>\n",
       "      <th></th>\n",
       "      <th></th>\n",
       "      <th></th>\n",
       "      <th></th>\n",
       "      <th></th>\n",
       "      <th></th>\n",
       "      <th></th>\n",
       "      <th></th>\n",
       "      <th></th>\n",
       "      <th></th>\n",
       "      <th></th>\n",
       "      <th></th>\n",
       "      <th></th>\n",
       "      <th></th>\n",
       "      <th></th>\n",
       "      <th></th>\n",
       "    </tr>\n",
       "  </thead>\n",
       "  <tbody>\n",
       "    <tr>\n",
       "      <th>AAACCCAAGGTTACCT</th>\n",
       "      <td>0.0</td>\n",
       "      <td>4.0</td>\n",
       "      <td>4.0</td>\n",
       "      <td>6.0</td>\n",
       "      <td>6.0</td>\n",
       "      <td>6.0</td>\n",
       "      <td>6.0</td>\n",
       "      <td>6.0</td>\n",
       "      <td>6.0</td>\n",
       "      <td>8.0</td>\n",
       "      <td>...</td>\n",
       "      <td>12.0</td>\n",
       "      <td>14.0</td>\n",
       "      <td>14.0</td>\n",
       "      <td>11.0</td>\n",
       "      <td>11.0</td>\n",
       "      <td>12.0</td>\n",
       "      <td>13.0</td>\n",
       "      <td>11.0</td>\n",
       "      <td>13.0</td>\n",
       "      <td>13.0</td>\n",
       "    </tr>\n",
       "    <tr>\n",
       "      <th>AAACCCAAGTTGAAGT</th>\n",
       "      <td>4.0</td>\n",
       "      <td>0.0</td>\n",
       "      <td>2.0</td>\n",
       "      <td>5.0</td>\n",
       "      <td>5.0</td>\n",
       "      <td>7.0</td>\n",
       "      <td>6.0</td>\n",
       "      <td>6.0</td>\n",
       "      <td>5.0</td>\n",
       "      <td>7.0</td>\n",
       "      <td>...</td>\n",
       "      <td>13.0</td>\n",
       "      <td>14.0</td>\n",
       "      <td>13.0</td>\n",
       "      <td>11.0</td>\n",
       "      <td>10.0</td>\n",
       "      <td>12.0</td>\n",
       "      <td>12.0</td>\n",
       "      <td>14.0</td>\n",
       "      <td>12.0</td>\n",
       "      <td>12.0</td>\n",
       "    </tr>\n",
       "    <tr>\n",
       "      <th>AAACCCAAGTTGTCGT</th>\n",
       "      <td>4.0</td>\n",
       "      <td>2.0</td>\n",
       "      <td>0.0</td>\n",
       "      <td>4.0</td>\n",
       "      <td>5.0</td>\n",
       "      <td>7.0</td>\n",
       "      <td>6.0</td>\n",
       "      <td>6.0</td>\n",
       "      <td>6.0</td>\n",
       "      <td>9.0</td>\n",
       "      <td>...</td>\n",
       "      <td>14.0</td>\n",
       "      <td>13.0</td>\n",
       "      <td>13.0</td>\n",
       "      <td>10.0</td>\n",
       "      <td>10.0</td>\n",
       "      <td>11.0</td>\n",
       "      <td>11.0</td>\n",
       "      <td>13.0</td>\n",
       "      <td>12.0</td>\n",
       "      <td>12.0</td>\n",
       "    </tr>\n",
       "    <tr>\n",
       "      <th>AAACCCACAGAAGCGT</th>\n",
       "      <td>6.0</td>\n",
       "      <td>5.0</td>\n",
       "      <td>4.0</td>\n",
       "      <td>0.0</td>\n",
       "      <td>3.0</td>\n",
       "      <td>8.0</td>\n",
       "      <td>4.0</td>\n",
       "      <td>6.0</td>\n",
       "      <td>6.0</td>\n",
       "      <td>7.0</td>\n",
       "      <td>...</td>\n",
       "      <td>12.0</td>\n",
       "      <td>12.0</td>\n",
       "      <td>14.0</td>\n",
       "      <td>13.0</td>\n",
       "      <td>13.0</td>\n",
       "      <td>10.0</td>\n",
       "      <td>12.0</td>\n",
       "      <td>14.0</td>\n",
       "      <td>12.0</td>\n",
       "      <td>12.0</td>\n",
       "    </tr>\n",
       "    <tr>\n",
       "      <th>AAACCCACAGGAGGTT</th>\n",
       "      <td>6.0</td>\n",
       "      <td>5.0</td>\n",
       "      <td>5.0</td>\n",
       "      <td>3.0</td>\n",
       "      <td>0.0</td>\n",
       "      <td>8.0</td>\n",
       "      <td>4.0</td>\n",
       "      <td>7.0</td>\n",
       "      <td>8.0</td>\n",
       "      <td>7.0</td>\n",
       "      <td>...</td>\n",
       "      <td>13.0</td>\n",
       "      <td>13.0</td>\n",
       "      <td>14.0</td>\n",
       "      <td>13.0</td>\n",
       "      <td>12.0</td>\n",
       "      <td>9.0</td>\n",
       "      <td>9.0</td>\n",
       "      <td>15.0</td>\n",
       "      <td>12.0</td>\n",
       "      <td>13.0</td>\n",
       "    </tr>\n",
       "  </tbody>\n",
       "</table>\n",
       "<p>5 rows × 8524 columns</p>\n",
       "</div>"
      ],
      "text/plain": [
       "cell_id           AAACCCAAGGTTACCT  AAACCCAAGTTGAAGT  AAACCCAAGTTGTCGT  \\\n",
       "cell_id                                                                  \n",
       "AAACCCAAGGTTACCT               0.0               4.0               4.0   \n",
       "AAACCCAAGTTGAAGT               4.0               0.0               2.0   \n",
       "AAACCCAAGTTGTCGT               4.0               2.0               0.0   \n",
       "AAACCCACAGAAGCGT               6.0               5.0               4.0   \n",
       "AAACCCACAGGAGGTT               6.0               5.0               5.0   \n",
       "\n",
       "cell_id           AAACCCACAGAAGCGT  AAACCCACAGGAGGTT  AAACCCAGTACCTAAC  \\\n",
       "cell_id                                                                  \n",
       "AAACCCAAGGTTACCT               6.0               6.0               6.0   \n",
       "AAACCCAAGTTGAAGT               5.0               5.0               7.0   \n",
       "AAACCCAAGTTGTCGT               4.0               5.0               7.0   \n",
       "AAACCCACAGAAGCGT               0.0               3.0               8.0   \n",
       "AAACCCACAGGAGGTT               3.0               0.0               8.0   \n",
       "\n",
       "cell_id           AAACCCATCAGGACGA  AAACCCATCTTACGGA  AAACGAAAGATACAGT  \\\n",
       "cell_id                                                                  \n",
       "AAACCCAAGGTTACCT               6.0               6.0               6.0   \n",
       "AAACCCAAGTTGAAGT               6.0               6.0               5.0   \n",
       "AAACCCAAGTTGTCGT               6.0               6.0               6.0   \n",
       "AAACCCACAGAAGCGT               4.0               6.0               6.0   \n",
       "AAACCCACAGGAGGTT               4.0               7.0               8.0   \n",
       "\n",
       "cell_id           AAACGAACAGCGAACA  ...  TTTGGTTTCGAACCTA  TTTGGTTTCGAGCTGC  \\\n",
       "cell_id                             ...                                       \n",
       "AAACCCAAGGTTACCT               8.0  ...              12.0              14.0   \n",
       "AAACCCAAGTTGAAGT               7.0  ...              13.0              14.0   \n",
       "AAACCCAAGTTGTCGT               9.0  ...              14.0              13.0   \n",
       "AAACCCACAGAAGCGT               7.0  ...              12.0              12.0   \n",
       "AAACCCACAGGAGGTT               7.0  ...              13.0              13.0   \n",
       "\n",
       "cell_id           TTTGGTTTCTGCTAGA  TTTGTTGAGTGCTCAT  TTTGTTGAGTGTAGTA  \\\n",
       "cell_id                                                                  \n",
       "AAACCCAAGGTTACCT              14.0              11.0              11.0   \n",
       "AAACCCAAGTTGAAGT              13.0              11.0              10.0   \n",
       "AAACCCAAGTTGTCGT              13.0              10.0              10.0   \n",
       "AAACCCACAGAAGCGT              14.0              13.0              13.0   \n",
       "AAACCCACAGGAGGTT              14.0              13.0              12.0   \n",
       "\n",
       "cell_id           TTTGTTGCAAGAGGTC  TTTGTTGCATGTGGTT  TTTGTTGGTATACCCA  \\\n",
       "cell_id                                                                  \n",
       "AAACCCAAGGTTACCT              12.0              13.0              11.0   \n",
       "AAACCCAAGTTGAAGT              12.0              12.0              14.0   \n",
       "AAACCCAAGTTGTCGT              11.0              11.0              13.0   \n",
       "AAACCCACAGAAGCGT              10.0              12.0              14.0   \n",
       "AAACCCACAGGAGGTT               9.0               9.0              15.0   \n",
       "\n",
       "cell_id           TTTGTTGTCACGTAGT  TTTGTTGTCGATGCTA  \n",
       "cell_id                                               \n",
       "AAACCCAAGGTTACCT              13.0              13.0  \n",
       "AAACCCAAGTTGAAGT              12.0              12.0  \n",
       "AAACCCAAGTTGTCGT              12.0              12.0  \n",
       "AAACCCACAGAAGCGT              12.0              12.0  \n",
       "AAACCCACAGGAGGTT              12.0              13.0  \n",
       "\n",
       "[5 rows x 8524 columns]"
      ]
     },
     "execution_count": 4,
     "metadata": {},
     "output_type": "execute_result"
    }
   ],
   "source": [
    "A.head()"
   ]
  },
  {
   "cell_type": "code",
   "execution_count": 6,
   "id": "917e39a3-83a6-47ef-b594-4c059f5a2e02",
   "metadata": {},
   "outputs": [
    {
     "data": {
      "text/plain": [
       "(36325026, 3)"
      ]
     },
     "execution_count": 6,
     "metadata": {},
     "output_type": "execute_result"
    }
   ],
   "source": [
    "dist = pd.DataFrame(dists)\n",
    "dist.shape"
   ]
  },
  {
   "cell_type": "code",
   "execution_count": 11,
   "id": "940b006d-a98d-4d9c-9c27-9408a348308c",
   "metadata": {},
   "outputs": [
    {
     "data": {
      "text/plain": [
       "<AxesSubplot: xlabel='distance', ylabel='Count'>"
      ]
     },
     "execution_count": 11,
     "metadata": {},
     "output_type": "execute_result"
    },
    {
     "data": {
      "image/png": "[encoded data removed]",
      "text/plain": [
       "<Figure size 640x480 with 1 Axes>"
      ]
     },
     "metadata": {},
     "output_type": "display_data"
    }
   ],
   "source": [
    "sns.histplot(data=dist,\n",
    "             x='distance',\n",
    "             discrete=True)"
   ]
  },
  {
   "cell_type": "code",
   "execution_count": 13,
   "id": "b5d01b9a-a894-407c-ab28-9d7b2991e53f",
   "metadata": {},
   "outputs": [
    {
     "data": {
      "text/plain": [
       "(28, 3)"
      ]
     },
     "execution_count": 13,
     "metadata": {},
     "output_type": "execute_result"
    }
   ],
   "source": [
    "dist[dist['distance'] < 2].shape"
   ]
  },
  {
   "cell_type": "code",
   "execution_count": 5,
   "id": "25064410-05a8-4610-b29d-14c93a703595",
   "metadata": {},
   "outputs": [
    {
     "ename": "SyntaxError",
     "evalue": "'break' outside loop (668683560.py, line 1)",
     "output_type": "error",
     "traceback": [
      "\u001b[0;36m  Cell \u001b[0;32mIn[5], line 1\u001b[0;36m\u001b[0m\n\u001b[0;31m    break\u001b[0m\n\u001b[0m    ^\u001b[0m\n\u001b[0;31mSyntaxError\u001b[0m\u001b[0;31m:\u001b[0m 'break' outside loop\n"
     ]
    }
   ],
   "source": [
    "break"
   ]
  }
 ],
 "metadata": {
  "kernelspec": {
   "display_name": "Python 3 (ipykernel)",
   "language": "python",
   "name": "python3"
  },
  "language_info": {
   "codemirror_mode": {
    "name": "ipython",
    "version": 3
   },
   "file_extension": ".py",
   "mimetype": "text/x-python",
   "name": "python",
   "nbconvert_exporter": "python",
   "pygments_lexer": "ipython3",
   "version": "3.9.7"
  }
 },
 "nbformat": 4,
 "nbformat_minor": 5
}
