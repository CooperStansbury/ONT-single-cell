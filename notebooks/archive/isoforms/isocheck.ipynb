{
 "cells": [
  {
   "cell_type": "code",
   "execution_count": 1,
   "id": "ed595293-eaaa-4c8b-9d66-35343a284d6e",
   "metadata": {},
   "outputs": [],
   "source": [
    "import pandas as pd"
   ]
  },
  {
   "cell_type": "code",
   "execution_count": 2,
   "id": "0b057973-8d8a-42b3-9ede-8cbfd79e7825",
   "metadata": {},
   "outputs": [
    {
     "data": {
      "text/html": [
       "<div>\n",
       "<style scoped>\n",
       "    .dataframe tbody tr th:only-of-type {\n",
       "        vertical-align: middle;\n",
       "    }\n",
       "\n",
       "    .dataframe tbody tr th {\n",
       "        vertical-align: top;\n",
       "    }\n",
       "\n",
       "    .dataframe thead th {\n",
       "        text-align: right;\n",
       "    }\n",
       "</style>\n",
       "<table border=\"1\" class=\"dataframe\">\n",
       "  <thead>\n",
       "    <tr style=\"text-align: right;\">\n",
       "      <th></th>\n",
       "      <th>isoform_id</th>\n",
       "      <th>gene_id</th>\n",
       "      <th>run_id</th>\n",
       "      <th>cell_id</th>\n",
       "      <th>UMI</th>\n",
       "      <th>read_name</th>\n",
       "      <th>gene_name</th>\n",
       "      <th>transcript_name</th>\n",
       "    </tr>\n",
       "  </thead>\n",
       "  <tbody>\n",
       "    <tr>\n",
       "      <th>0</th>\n",
       "      <td>ENST00000483767</td>\n",
       "      <td>ENSG00000188976</td>\n",
       "      <td>Run3x0418</td>\n",
       "      <td>TGTGGCGGTAACGGTG</td>\n",
       "      <td>AAGTTTACCGGG</td>\n",
       "      <td>b43c7b93-2130-42e0-a51d-2819bedeb593</td>\n",
       "      <td>NOC2L</td>\n",
       "      <td>NOC2L-204</td>\n",
       "    </tr>\n",
       "    <tr>\n",
       "      <th>1</th>\n",
       "      <td>ENST00000483767</td>\n",
       "      <td>ENSG00000188976</td>\n",
       "      <td>Run3x0418</td>\n",
       "      <td>CTAACTTGTCGTCATA</td>\n",
       "      <td>TTTTGGATCTTT</td>\n",
       "      <td>5887c2fa-b3bd-4a22-b3f8-4ce31b4e9d0d</td>\n",
       "      <td>NOC2L</td>\n",
       "      <td>NOC2L-204</td>\n",
       "    </tr>\n",
       "    <tr>\n",
       "      <th>2</th>\n",
       "      <td>ENST00000483767</td>\n",
       "      <td>ENSG00000188976</td>\n",
       "      <td>Run3x0418</td>\n",
       "      <td>AAGATAGAGTTGGGAC</td>\n",
       "      <td>AACGGGTCCTCT</td>\n",
       "      <td>050743c4-d895-45d6-b59a-c5232b6ac1b1</td>\n",
       "      <td>NOC2L</td>\n",
       "      <td>NOC2L-204</td>\n",
       "    </tr>\n",
       "    <tr>\n",
       "      <th>3</th>\n",
       "      <td>ENST00000469563</td>\n",
       "      <td>ENSG00000188976</td>\n",
       "      <td>Run3x0418</td>\n",
       "      <td>TATACCTAGTCGGCCT</td>\n",
       "      <td>AACGGTTAGCCG</td>\n",
       "      <td>f24c150f-2a5a-4581-96a7-081d004d28c6</td>\n",
       "      <td>NOC2L</td>\n",
       "      <td>NOC2L-202</td>\n",
       "    </tr>\n",
       "    <tr>\n",
       "      <th>4</th>\n",
       "      <td>ENST00000469563</td>\n",
       "      <td>ENSG00000188976</td>\n",
       "      <td>Run3x0418</td>\n",
       "      <td>TGTAAGCGTGTCATTG</td>\n",
       "      <td>AAACTCTAACTT</td>\n",
       "      <td>166e19dc-cd7c-4ee2-b35e-eb3ceb455285</td>\n",
       "      <td>NOC2L</td>\n",
       "      <td>NOC2L-202</td>\n",
       "    </tr>\n",
       "  </tbody>\n",
       "</table>\n",
       "</div>"
      ],
      "text/plain": [
       "        isoform_id          gene_id     run_id           cell_id  \\\n",
       "0  ENST00000483767  ENSG00000188976  Run3x0418  TGTGGCGGTAACGGTG   \n",
       "1  ENST00000483767  ENSG00000188976  Run3x0418  CTAACTTGTCGTCATA   \n",
       "2  ENST00000483767  ENSG00000188976  Run3x0418  AAGATAGAGTTGGGAC   \n",
       "3  ENST00000469563  ENSG00000188976  Run3x0418  TATACCTAGTCGGCCT   \n",
       "4  ENST00000469563  ENSG00000188976  Run3x0418  TGTAAGCGTGTCATTG   \n",
       "\n",
       "            UMI                             read_name gene_name  \\\n",
       "0  AAGTTTACCGGG  b43c7b93-2130-42e0-a51d-2819bedeb593     NOC2L   \n",
       "1  TTTTGGATCTTT  5887c2fa-b3bd-4a22-b3f8-4ce31b4e9d0d     NOC2L   \n",
       "2  AACGGGTCCTCT  050743c4-d895-45d6-b59a-c5232b6ac1b1     NOC2L   \n",
       "3  AACGGTTAGCCG  f24c150f-2a5a-4581-96a7-081d004d28c6     NOC2L   \n",
       "4  AAACTCTAACTT  166e19dc-cd7c-4ee2-b35e-eb3ceb455285     NOC2L   \n",
       "\n",
       "  transcript_name  \n",
       "0       NOC2L-204  \n",
       "1       NOC2L-204  \n",
       "2       NOC2L-204  \n",
       "3       NOC2L-202  \n",
       "4       NOC2L-202  "
      ]
     },
     "execution_count": 2,
     "metadata": {},
     "output_type": "execute_result"
    }
   ],
   "source": [
    "fpath = \"/scratch/indikar_root/indikar1/cstansbu/HSC/isoforms/isoform_data.parquet\"\n",
    "\n",
    "df = pd.read_parquet(fpath)\n",
    "df.head()"
   ]
  },
  {
   "cell_type": "code",
   "execution_count": 3,
   "id": "55a5d70b-027b-46c9-a461-7d8e9de028ad",
   "metadata": {},
   "outputs": [
    {
     "name": "stdout",
     "output_type": "stream",
     "text": [
      "df.shape=(47827803, 8)\n"
     ]
    }
   ],
   "source": [
    "print(f\"{df.shape=}\")"
   ]
  },
  {
   "cell_type": "code",
   "execution_count": 8,
   "id": "e2ad4adb-f8a6-44e0-8024-89e4e7ee985e",
   "metadata": {},
   "outputs": [
    {
     "data": {
      "text/plain": [
       "1837"
      ]
     },
     "execution_count": 8,
     "metadata": {},
     "output_type": "execute_result"
    }
   ],
   "source": [
    "counts = df.groupby(['transcript_name', 'cell_id'])['UMI'].nunique()\n",
    "\n",
    "counts.max()"
   ]
  },
  {
   "cell_type": "code",
   "execution_count": 12,
   "id": "a34b31ff-f019-4402-80aa-f2d6d74b4b0a",
   "metadata": {},
   "outputs": [
    {
     "data": {
      "text/plain": [
       "transcript_name  cell_id         \n",
       "ZZZ3-210         TGTTCATCATGTTACG    1\n",
       "                 TTATTGCTCTTTGCTA    1\n",
       "A1BG-203         TCAGGTACACTTGACA    1\n",
       "                 AAAGTGAGTAACATCC    1\n",
       "                 AACACACGTACAGTAA    1\n",
       "                 ACGTAGTCACGCTTAA    1\n",
       "                 ACTTATCGTGTCCGGT    1\n",
       "                 ACTTTGTAGAAATTGC    1\n",
       "ZZZ3-210         TGTGCGGGTACGATCT    1\n",
       "A1BG-203         AGACTCACACTTGTCC    1\n",
       "                 AGCCACGAGCGTTCAT    1\n",
       "ZZZ3-210         TGGGCGTTCCATTCGC    1\n",
       "ZZZ3-211         AGTCATGAGATGGGCT    1\n",
       "                 CAGTTCCGTGGTTTGT    1\n",
       "                 CCACACTCATCCAATG    1\n",
       "                 CCGTGAGAGTGATTCC    1\n",
       "A1BG-203         AGAACCTCATCAGCTA    1\n",
       "A1BG-202         GCTTGGGGTGCGCTCA    1\n",
       "                 GTAGAGGTCCTCATAT    1\n",
       "ZZZ3-210         TGCATCCGTAACGTTC    1\n",
       "                 TGCATCCTCCACAGGC    1\n",
       "                 TGCATGACAAGGGTCA    1\n",
       "                 TGCATGACACAGCTGC    1\n",
       "                 TGCTCGTAGTCGGGAT    1\n",
       "                 TGCTCGTGTCTGCAAT    1\n",
       "                 TGGATCAGTATGCTTG    1\n",
       "                 TGGGATTTCGAGAGCA    1\n",
       "                 TGAGGGATCCTTCTGG    1\n",
       "                 TGAGGTTAGCGAGTCA    1\n",
       "                 TGATGCAAGTAACGTA    1\n",
       "                 TGATGCACATTGACAC    1\n",
       "                 TGATGGTGTAGTGGCA    1\n",
       "                 TGCAGATCATGAAGCG    1\n",
       "                 TGCAGATGTCTCCTGT    1\n",
       "                 TGCAGTACACTCTCGT    1\n",
       "Name: UMI, dtype: int64"
      ]
     },
     "execution_count": 12,
     "metadata": {},
     "output_type": "execute_result"
    }
   ],
   "source": [
    "counts.sort_values(ascending=False).tail(35)"
   ]
  },
  {
   "cell_type": "code",
   "execution_count": null,
   "id": "42dac2e8-6290-40cf-9da5-da105ed9bab5",
   "metadata": {},
   "outputs": [],
   "source": []
  }
 ],
 "metadata": {
  "kernelspec": {
   "display_name": "bioinf",
   "language": "python",
   "name": "bioinf"
  },
  "language_info": {
   "codemirror_mode": {
    "name": "ipython",
    "version": 3
   },
   "file_extension": ".py",
   "mimetype": "text/x-python",
   "name": "python",
   "nbconvert_exporter": "python",
   "pygments_lexer": "ipython3",
   "version": "3.10.14"
  }
 },
 "nbformat": 4,
 "nbformat_minor": 5
}
