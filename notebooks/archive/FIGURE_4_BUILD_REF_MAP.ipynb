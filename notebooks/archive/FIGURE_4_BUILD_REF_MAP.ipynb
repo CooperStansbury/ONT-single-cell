{
 "cells": [
  {
   "cell_type": "code",
   "execution_count": 1,
   "id": "054b73f3-f0d4-4a13-a0ea-d4a2e8273fab",
   "metadata": {},
   "outputs": [],
   "source": [
    "import os\n",
    "import sys\n",
    "import pandas as pd\n",
    "import numpy as np\n",
    "import matplotlib.pyplot as plt\n",
    "from mpl_toolkits.axes_grid1 import make_axes_locatable, axes_size\n",
    "import matplotlib.colors as mcolors\n",
    "from matplotlib.transforms import Bbox\n",
    "from matplotlib.colors import to_rgba\n",
    "from matplotlib.colors import LinearSegmentedColormap\n",
    "import seaborn as sns\n",
    "import scvi\n",
    "import scanpy as sc\n",
    "import anndata as an\n",
    "import scanpy.external as sce\n",
    "import scipy\n",
    "import scipy.sparse as sp\n",
    "import time\n",
    "import sklearn\n",
    "import torch\n",
    "from scipy.sparse import csr_matrix\n",
    "\n",
    "from importlib import reload\n",
    "\n",
    "# local imports\n",
    "import utils as ut\n",
    "import plotting as plt2\n",
    "\n",
    "sc.settings.verbosity = 3 \n",
    "torch.set_float32_matmul_precision(\"high\")"
   ]
  },
  {
   "cell_type": "code",
   "execution_count": 2,
   "id": "8decb9e0-64ed-4049-bd3a-aec9d0c62752",
   "metadata": {},
   "outputs": [
    {
     "name": "stdout",
     "output_type": "stream",
     "text": [
      "12.0\n"
     ]
    }
   ],
   "source": [
    "print(torch.version.cuda) "
   ]
  },
  {
   "cell_type": "code",
   "execution_count": 3,
   "id": "e6f53ef7-6851-4e39-a486-27a5108b24e6",
   "metadata": {},
   "outputs": [
    {
     "name": "stdout",
     "output_type": "stream",
     "text": [
      "Number of processors: 64\n"
     ]
    }
   ],
   "source": [
    "num_processors = os.cpu_count()\n",
    "print(f\"Number of processors: {num_processors}\") "
   ]
  },
  {
   "cell_type": "code",
   "execution_count": 4,
   "id": "49903962-e639-459b-a83b-aca2eeec4aaa",
   "metadata": {},
   "outputs": [
    {
     "name": "stdout",
     "output_type": "stream",
     "text": [
      "CUDA available: True\n",
      "Number of GPUs: 1\n",
      "GPU 0: NVIDIA A100 80GB PCIe MIG 3g.40gb\n",
      "  Compute Capability: 8.0\n",
      "  Total Memory: 39.25 GB\n"
     ]
    }
   ],
   "source": [
    "# Check CUDA availability\n",
    "cuda_available = torch.cuda.is_available()\n",
    "print(f\"CUDA available: {cuda_available}\")\n",
    "\n",
    "if cuda_available:\n",
    "    num_gpus = torch.cuda.device_count()\n",
    "    print(f\"Number of GPUs: {num_gpus}\")\n",
    "\n",
    "    for i in range(num_gpus):\n",
    "        gpu_name = torch.cuda.get_device_name(i)\n",
    "        print(f\"GPU {i}: {gpu_name}\")\n",
    "\n",
    "        # Additional information (compute capability, memory)\n",
    "        gpu_props = torch.cuda.get_device_properties(i)\n",
    "        print(f\"  Compute Capability: {gpu_props.major}.{gpu_props.minor}\")\n",
    "        print(f\"  Total Memory: {gpu_props.total_memory / 1024**3:.2f} GB\")\n",
    "else:\n",
    "    print(\"CUDA not available. Running on CPU.\")"
   ]
  },
  {
   "cell_type": "code",
   "execution_count": 5,
   "id": "6072eb5c-8344-4807-a49c-d1652672a626",
   "metadata": {},
   "outputs": [
    {
     "name": "stderr",
     "output_type": "stream",
     "text": [
      "An NVIDIA GPU may be present on this machine, but a CUDA-enabled jaxlib is not installed. Falling back to cpu.\n"
     ]
    },
    {
     "name": "stdout",
     "output_type": "stream",
     "text": [
      "[CpuDevice(id=0)]\n"
     ]
    }
   ],
   "source": [
    "# Check JAX\n",
    "import jax\n",
    "print(jax.devices())"
   ]
  },
  {
   "cell_type": "markdown",
   "id": "dbeed7ba-d393-4d22-9f50-a060f9d8d6a9",
   "metadata": {},
   "source": [
    "# Load data"
   ]
  },
  {
   "cell_type": "code",
   "execution_count": 6,
   "id": "cccd8876-e903-48ff-9835-5acca3d50cae",
   "metadata": {},
   "outputs": [
    {
     "name": "stdout",
     "output_type": "stream",
     "text": [
      "Memory usage: current 8.75 GB, difference +8.75 GB\n",
      "AnnData object with n_obs × n_vars = 171498 × 18867\n",
      "    obs: 'n_genes', 'dataset', 'n_genes_by_counts', 'total_counts', 'obs_index', 'cell_type', 'standard_cell_type'\n",
      "    var: 'n_cells_by_counts', 'mean_counts', 'pct_dropout_by_counts', 'total_counts', 'gene_id', 'token_id', 'gene_biotype', 'Chromosome', 'Start', 'End'\n",
      "    layers: 'counts'\n"
     ]
    }
   ],
   "source": [
    "\"\"\"\n",
    "DATA\n",
    "\"\"\"\n",
    "fpath = \"/scratch/indikar_root/indikar1/shared_data/sc_HSC/SCANVI/raw_data.h5ad\"\n",
    "adata = sc.read_h5ad(fpath)\n",
    "adata.X = adata.layers['counts'].copy()\n",
    "sc.logging.print_memory_usage()\n",
    "print(adata)"
   ]
  },
  {
   "cell_type": "code",
   "execution_count": 7,
   "id": "dee34ba5-b204-4a71-90c9-0a45b244c339",
   "metadata": {},
   "outputs": [
    {
     "data": {
      "text/plain": [
       "standard_cell_type\n",
       "Fib               34289\n",
       "HSC               20789\n",
       "T_cell            19303\n",
       "LinNeg            13396\n",
       "B_cell            10734\n",
       "EryP               9902\n",
       "MPP                9391\n",
       "iHSC               8379\n",
       "MEP                7433\n",
       "Mono               6988\n",
       "GMP                4882\n",
       "NK                 4189\n",
       "MDP                3989\n",
       "MKP                3980\n",
       "CLP                3640\n",
       "CMP                2804\n",
       "Dendritic_cell     2694\n",
       "LMPP                805\n",
       "PreBNK              554\n",
       "MLP                 123\n",
       "Name: count, dtype: int64"
      ]
     },
     "execution_count": 7,
     "metadata": {},
     "output_type": "execute_result"
    }
   ],
   "source": [
    "adata.obs['standard_cell_type'].value_counts()"
   ]
  },
  {
   "cell_type": "code",
   "execution_count": 8,
   "id": "c4be31a6-6d94-4f06-8d6a-7f1e1a1fa80b",
   "metadata": {},
   "outputs": [
    {
     "data": {
      "text/plain": [
       "['PreBNK', 'LinNeg', 'HSC', 'CMP', 'MEP', ..., NaN, 'LMPP', 'Dendritic_cell', 'Fib', 'iHSC']\n",
       "Length: 21\n",
       "Categories (20, object): ['B_cell', 'CLP', 'CMP', 'Dendritic_cell', ..., 'NK', 'PreBNK', 'T_cell', 'iHSC']"
      ]
     },
     "execution_count": 8,
     "metadata": {},
     "output_type": "execute_result"
    }
   ],
   "source": [
    "adata.obs['standard_cell_type'].unique()"
   ]
  },
  {
   "cell_type": "markdown",
   "id": "f439fb6c-26e9-4bea-aec7-8da1faa33015",
   "metadata": {},
   "source": [
    "# Cell type filtering"
   ]
  },
  {
   "cell_type": "code",
   "execution_count": 9,
   "id": "9eca0aea-c8fe-4135-8d46-465746dd215d",
   "metadata": {},
   "outputs": [
    {
     "data": {
      "text/plain": [
       "standard_cell_type\n",
       "Fib     34289\n",
       "HSC     20789\n",
       "EryP     9902\n",
       "MPP      9391\n",
       "iHSC     8379\n",
       "MEP      7433\n",
       "GMP      4882\n",
       "MDP      3989\n",
       "MKP      3980\n",
       "CLP      3640\n",
       "CMP      2804\n",
       "LMPP      805\n",
       "Name: count, dtype: int64"
      ]
     },
     "execution_count": 9,
     "metadata": {},
     "output_type": "execute_result"
    }
   ],
   "source": [
    "cell_types = [\n",
    "    'HSC',\n",
    "    'CMP',\n",
    "    'MEP',\n",
    "    'MPP',\n",
    "    'GMP',\n",
    "    'EryP',\n",
    "    'MDP',\n",
    "    'MKP',\n",
    "    'CLP',\n",
    "    'LMPP',\n",
    "    'Fib',\n",
    "    'iHSC',\n",
    "]\n",
    "\n",
    "adata = adata[adata.obs['standard_cell_type'].notna(), :].copy()\n",
    "adata = adata[adata.obs['standard_cell_type'].isin(cell_types), :].copy()\n",
    "\n",
    "adata.obs['standard_cell_type'].value_counts()"
   ]
  },
  {
   "cell_type": "markdown",
   "id": "b30c8a98-115f-43ad-b3b4-d6c2f873b2e4",
   "metadata": {},
   "source": [
    "# Preprocessing"
   ]
  },
  {
   "cell_type": "code",
   "execution_count": 10,
   "id": "a0f301f8-9773-477d-9c34-82aa21e756b6",
   "metadata": {},
   "outputs": [
    {
     "name": "stdout",
     "output_type": "stream",
     "text": [
      "filtered out 1470 genes that are detected in less than 250 cells\n"
     ]
    },
    {
     "data": {
      "text/plain": [
       "AnnData object with n_obs × n_vars = 110283 × 17397\n",
       "    obs: 'n_genes', 'dataset', 'n_genes_by_counts', 'total_counts', 'obs_index', 'cell_type', 'standard_cell_type'\n",
       "    var: 'n_cells_by_counts', 'mean_counts', 'pct_dropout_by_counts', 'total_counts', 'gene_id', 'token_id', 'gene_biotype', 'Chromosome', 'Start', 'End', 'n_cells'\n",
       "    layers: 'counts'"
      ]
     },
     "execution_count": 10,
     "metadata": {},
     "output_type": "execute_result"
    }
   ],
   "source": [
    "sc.pp.filter_cells(adata, min_genes=500)\n",
    "sc.pp.filter_genes(adata, min_cells=250)\n",
    "\n",
    "adata"
   ]
  },
  {
   "cell_type": "markdown",
   "id": "815e7ecf-7f6e-4f9d-9a11-ad12a505b5e2",
   "metadata": {},
   "source": [
    "# Make reference and query data"
   ]
  },
  {
   "cell_type": "code",
   "execution_count": 11,
   "id": "54a867ba-45eb-417d-a302-8a12386b0a1c",
   "metadata": {},
   "outputs": [
    {
     "name": "stdout",
     "output_type": "stream",
     "text": [
      "AnnData object with n_obs × n_vars = 81442 × 17397\n",
      "    obs: 'n_genes', 'dataset', 'n_genes_by_counts', 'total_counts', 'obs_index', 'cell_type', 'standard_cell_type'\n",
      "    var: 'n_cells_by_counts', 'mean_counts', 'pct_dropout_by_counts', 'total_counts', 'gene_id', 'token_id', 'gene_biotype', 'Chromosome', 'Start', 'End', 'n_cells'\n",
      "    layers: 'counts'\n",
      "\n",
      "AnnData object with n_obs × n_vars = 8379 × 17397\n",
      "    obs: 'n_genes', 'dataset', 'n_genes_by_counts', 'total_counts', 'obs_index', 'cell_type', 'standard_cell_type'\n",
      "    var: 'n_cells_by_counts', 'mean_counts', 'pct_dropout_by_counts', 'total_counts', 'gene_id', 'token_id', 'gene_biotype', 'Chromosome', 'Start', 'End', 'n_cells'\n",
      "    layers: 'counts'\n"
     ]
    }
   ],
   "source": [
    "reference_data = [\n",
    "    'tabula_sapiens',\n",
    "    'weng_young2_all',\n",
    "    'sc_fib',\n",
    "    'weng_young1_all_t2',\n",
    "    'weng_young1_all_t1',\n",
    "]\n",
    "\n",
    "query_data = [\n",
    "    'iHSC',\n",
    "]\n",
    "\n",
    "# define data sets\n",
    "rdata = adata[adata.obs['dataset'].isin(reference_data), :].copy()\n",
    "print(rdata)\n",
    "print()\n",
    "qdata = adata[adata.obs['dataset'].isin(query_data), :].copy()\n",
    "print(qdata)"
   ]
  },
  {
   "cell_type": "code",
   "execution_count": 12,
   "id": "8bf0213c-9945-4705-b05a-9f2841e52c51",
   "metadata": {},
   "outputs": [
    {
     "data": {
      "text/plain": [
       "cell_label\n",
       "Fib     34289\n",
       "HSC     15110\n",
       "MPP      7683\n",
       "EryP     5889\n",
       "MEP      5234\n",
       "CLP      3345\n",
       "MKP      3147\n",
       "GMP      2656\n",
       "MDP      2091\n",
       "CMP      1193\n",
       "LMPP      805\n",
       "Name: count, dtype: int64"
      ]
     },
     "execution_count": 12,
     "metadata": {},
     "output_type": "execute_result"
    }
   ],
   "source": [
    "rdata.obs['cell_label'] = rdata.obs['standard_cell_type'].apply(lambda x: str(x).strip())\n",
    "rdata.obs['cell_label'].value_counts()"
   ]
  },
  {
   "cell_type": "code",
   "execution_count": 13,
   "id": "4d05783d-40ef-4987-86f2-6a2e8038016f",
   "metadata": {},
   "outputs": [
    {
     "data": {
      "text/plain": [
       "cell_label\n",
       "Unknown    8379\n",
       "Name: count, dtype: int64"
      ]
     },
     "execution_count": 13,
     "metadata": {},
     "output_type": "execute_result"
    }
   ],
   "source": [
    "qdata.obs['cell_label'] = 'Unknown'\n",
    "qdata.obs['cell_label'].value_counts()"
   ]
  },
  {
   "cell_type": "markdown",
   "id": "ac64519d-b814-4be4-b3ab-4e05aa065c8f",
   "metadata": {},
   "source": [
    "# Store the Data"
   ]
  },
  {
   "cell_type": "code",
   "execution_count": 14,
   "id": "7c25223e-ca72-4918-bbae-9374e606ba42",
   "metadata": {},
   "outputs": [
    {
     "data": {
      "text/plain": [
       "AnnData object with n_obs × n_vars = 89821 × 17397\n",
       "    obs: 'n_genes', 'dataset', 'n_genes_by_counts', 'total_counts', 'obs_index', 'cell_type', 'standard_cell_type', 'cell_label', 'batch'\n",
       "    layers: 'counts'"
      ]
     },
     "execution_count": 14,
     "metadata": {},
     "output_type": "execute_result"
    }
   ],
   "source": [
    "fpath = \"/scratch/indikar_root/indikar1/shared_data/sc_HSC/SCANVI/full_data.h5ad\"\n",
    "fdata = an.concat([rdata, qdata], label=\"batch\")\n",
    "fdata.write(fpath)\n",
    "fdata"
   ]
  },
  {
   "cell_type": "markdown",
   "id": "7d20529d-73d4-413f-b246-f7fe226632b6",
   "metadata": {},
   "source": [
    "# Feature Selection"
   ]
  },
  {
   "cell_type": "code",
   "execution_count": 15,
   "id": "f83cec0d-e1a6-407f-b083-f28a7f728b87",
   "metadata": {},
   "outputs": [
    {
     "name": "stdout",
     "output_type": "stream",
     "text": [
      "extracting highly variable genes\n",
      "--> added\n",
      "    'highly_variable', boolean vector (adata.var)\n",
      "    'highly_variable_rank', float vector (adata.var)\n",
      "    'means', float vector (adata.var)\n",
      "    'variances', float vector (adata.var)\n",
      "    'variances_norm', float vector (adata.var)\n"
     ]
    },
    {
     "data": {
      "text/plain": [
       "AnnData object with n_obs × n_vars = 81442 × 5000\n",
       "    obs: 'n_genes', 'dataset', 'n_genes_by_counts', 'total_counts', 'obs_index', 'cell_type', 'standard_cell_type', 'cell_label'\n",
       "    var: 'n_cells_by_counts', 'mean_counts', 'pct_dropout_by_counts', 'total_counts', 'gene_id', 'token_id', 'gene_biotype', 'Chromosome', 'Start', 'End', 'n_cells', 'highly_variable', 'highly_variable_rank', 'means', 'variances', 'variances_norm'\n",
       "    uns: 'hvg'\n",
       "    layers: 'counts'"
      ]
     },
     "execution_count": 15,
     "metadata": {},
     "output_type": "execute_result"
    }
   ],
   "source": [
    "n_genes = 5000\n",
    "\n",
    "sc.pp.highly_variable_genes(\n",
    "    rdata, \n",
    "    n_top_genes=n_genes,\n",
    "    flavor=\"seurat_v3\",\n",
    "    subset=True,\n",
    ")\n",
    "\n",
    "\n",
    "rdata"
   ]
  },
  {
   "cell_type": "code",
   "execution_count": 16,
   "id": "21b5fed6-e563-4dcd-a190-2a6728e8d70a",
   "metadata": {},
   "outputs": [],
   "source": [
    "# n_genes = 3000\n",
    "\n",
    "# rdata.raw = rdata\n",
    "# sc.pp.highly_variable_genes(\n",
    "#     rdata, \n",
    "#     n_top_genes=n_genes,\n",
    "#     batch_key=\"dataset\", \n",
    "# )\n",
    "\n",
    "# # actually subset the data\n",
    "# rdata = rdata[:, rdata.var['highly_variable']].copy()\n",
    "\n",
    "# rdata"
   ]
  },
  {
   "cell_type": "markdown",
   "id": "14a31321-5f4e-4c9d-95ff-b2e2236aba5f",
   "metadata": {},
   "source": [
    "# Batch Correction (scVI)"
   ]
  },
  {
   "cell_type": "code",
   "execution_count": 17,
   "id": "abbbdba3-27b1-4a97-8ea4-9a08de4f41d1",
   "metadata": {},
   "outputs": [],
   "source": [
    "scvi.model.SCVI.setup_anndata(\n",
    "    rdata, \n",
    "    batch_key=\"dataset\",\n",
    "    layer=\"counts\",\n",
    "    labels_key='cell_label',\n",
    ")"
   ]
  },
  {
   "cell_type": "code",
   "execution_count": 18,
   "id": "8ec6c474-56fb-4c3c-b802-6bcf23269eea",
   "metadata": {},
   "outputs": [
    {
     "name": "stderr",
     "output_type": "stream",
     "text": [
      "/home/cstansbu/miniconda3/envs/scanpy/lib/python3.12/site-packages/lightning/fabric/plugins/environments/slurm.py:204: The `srun` command is available on your system but is not used. HINT: If your intention is to run Lightning on SLURM, prepend your python command with `srun` like so: srun python /home/cstansbu/miniconda3/envs/scanpy/lib/python3.12 ...\n",
      "GPU available: True (cuda), used: True\n",
      "TPU available: False, using: 0 TPU cores\n",
      "HPU available: False, using: 0 HPUs\n",
      "/home/cstansbu/miniconda3/envs/scanpy/lib/python3.12/site-packages/lightning/fabric/plugins/environments/slurm.py:204: The `srun` command is available on your system but is not used. HINT: If your intention is to run Lightning on SLURM, prepend your python command with `srun` like so: srun python /home/cstansbu/miniconda3/envs/scanpy/lib/python3.12 ...\n",
      "LOCAL_RANK: 0 - CUDA_VISIBLE_DEVICES: [MIG-cfb2a8ae-864b-50df-94a5-98983023f29d]\n",
      "/home/cstansbu/miniconda3/envs/scanpy/lib/python3.12/site-packages/torch/optim/lr_scheduler.py:60: UserWarning: The verbose parameter is deprecated. Please use get_last_lr() to access the learning rate.\n",
      "  warnings.warn(\n",
      "\n",
      "  | Name            | Type                | Params | Mode \n",
      "----------------------------------------------------------------\n",
      "0 | module          | VAE                 | 3.3 M  | train\n",
      "1 | elbo_train      | CompositionalMetric | 0      | train\n",
      "2 | rec_loss_train  | ElboMetric          | 0      | train\n",
      "3 | kl_local_train  | ElboMetric          | 0      | train\n",
      "4 | kl_global_train | ElboMetric          | 0      | train\n",
      "5 | elbo_val        | CompositionalMetric | 0      | train\n",
      "6 | rec_loss_val    | ElboMetric          | 0      | train\n",
      "7 | kl_local_val    | ElboMetric          | 0      | train\n",
      "8 | kl_global_val   | ElboMetric          | 0      | train\n",
      "----------------------------------------------------------------\n",
      "3.3 M     Trainable params\n",
      "0         Non-trainable params\n",
      "3.3 M     Total params\n",
      "13.065    Total estimated model params size (MB)\n",
      "54        Modules in train mode\n",
      "0         Modules in eval mode\n",
      "/home/cstansbu/miniconda3/envs/scanpy/lib/python3.12/site-packages/lightning/pytorch/trainer/connectors/data_connector.py:424: The 'train_dataloader' does not have many workers which may be a bottleneck. Consider increasing the value of the `num_workers` argument` to `num_workers=35` in the `DataLoader` to improve performance.\n",
      "/home/cstansbu/miniconda3/envs/scanpy/lib/python3.12/site-packages/lightning/pytorch/trainer/connectors/data_connector.py:424: The 'val_dataloader' does not have many workers which may be a bottleneck. Consider increasing the value of the `num_workers` argument` to `num_workers=35` in the `DataLoader` to improve performance.\n"
     ]
    },
    {
     "data": {
      "application/vnd.jupyter.widget-view+json": {
       "model_id": "67bd8ca77e2f4f18b9308f122afa6e16",
       "version_major": 2,
       "version_minor": 0
      },
      "text/plain": [
       "Training:   0%|          | 0/400 [00:00<?, ?it/s]"
      ]
     },
     "metadata": {},
     "output_type": "display_data"
    },
    {
     "name": "stderr",
     "output_type": "stream",
     "text": [
      "/home/cstansbu/miniconda3/envs/scanpy/lib/python3.12/site-packages/scvi/data/_utils.py:80: UserWarning: Sparse CSR tensor support is in beta state. If you miss a functionality in the sparse tensor support, please submit a feature request to https://github.com/pytorch/pytorch/issues. (Triggered internally at /home/conda/feedstock_root/build_artifacts/libtorch_1728241823685/work/aten/src/ATen/SparseCsrTensorImpl.cpp:53.)\n",
      "  return sparse_csr_tensor(\n",
      "\n",
      "Detected KeyboardInterrupt, attempting graceful shutdown ...\n",
      "\n",
      "KeyboardInterrupt\n",
      "\n"
     ]
    }
   ],
   "source": [
    "torch.cuda.empty_cache()\n",
    "\n",
    "epochs = 400\n",
    "\n",
    "model = scvi.model.SCVI(\n",
    "    rdata,\n",
    "    use_layer_norm=\"both\",\n",
    "    use_batch_norm=\"none\",\n",
    "    n_latent=24,\n",
    "    encode_covariates=True,\n",
    "    dropout_rate=0.3,\n",
    "    n_layers=2,\n",
    ")\n",
    "\n",
    "start_time = time.time()  # Record the start time\n",
    "\n",
    "plan_kwargs = {\n",
    "    'lr': 0.001, \n",
    "    'n_epochs_kl_warmup': 10, \n",
    "    'reduce_lr_on_plateau': True,\n",
    "    'lr_patience': 8, \n",
    "    'lr_factor': 0.1   \n",
    "}\n",
    "\n",
    "model.train(\n",
    "    max_epochs=epochs,\n",
    "    accelerator='gpu',\n",
    "    devices='auto',\n",
    "    enable_model_summary=True,\n",
    "    early_stopping=True,\n",
    "    batch_size=5000,\n",
    "    load_sparse_tensor=True,\n",
    "    plan_kwargs=plan_kwargs,\n",
    "    early_stopping_patience=5,\n",
    ")\n",
    "\n",
    "end_time = time.time()  # Record the end time\n",
    "total_time = end_time - start_time  # Calculate total execution time\n",
    "\n",
    "print(f\"Training completed in {total_time:.2f} seconds\")\n",
    "\n",
    "# Optional: More detailed timing information\n",
    "minutes = int(total_time // 60)\n",
    "seconds = int(total_time % 60)\n",
    "print(f\"Training time: {minutes} minutes {seconds} seconds\")"
   ]
  },
  {
   "cell_type": "code",
   "execution_count": null,
   "id": "f9d51fb7-083d-4a19-98a0-a12c02d124eb",
   "metadata": {},
   "outputs": [],
   "source": [
    "metrics = pd.concat(\n",
    "    model.history.values(), \n",
    "    ignore_index=False,\n",
    "    axis=1,\n",
    ")\n",
    "\n",
    "metrics = metrics[metrics['validation_loss'].notna()]\n",
    "metrics = metrics.reset_index(drop=False, names='epoch')\n",
    "\n",
    "metrics = pd.melt(\n",
    "    metrics,\n",
    "    id_vars='epoch',\n",
    "    value_vars=['train_loss_epoch', 'validation_loss'],\n",
    ")\n",
    "\n",
    "plt.rcParams['figure.dpi'] = 200\n",
    "plt.rcParams['figure.figsize'] = 4, 3\n",
    "\n",
    "sns.lineplot(\n",
    "    data=metrics,\n",
    "    x='epoch',\n",
    "    y='value',\n",
    "    hue='variable',\n",
    "    style='variable',\n",
    "    linewidth=1.5,                        \n",
    "    markersize=5\n",
    ")\n",
    "\n",
    "plt.xlabel('Epoch')\n",
    "plt.ylabel('Loss')\n",
    "plt.xticks()\n",
    "plt.yticks()\n",
    "plt.grid(True, linestyle='--', alpha=0.5)  \n",
    "sns.move_legend(\n",
    "    plt.gca(), \n",
    "    title=\"\",\n",
    "    loc='best',\n",
    ")\n",
    "\n",
    "sns.despine()"
   ]
  },
  {
   "cell_type": "markdown",
   "id": "3cdcdedd-1579-41e2-9e87-62eb0ba37343",
   "metadata": {},
   "source": [
    "# SCVI Latent Space"
   ]
  },
  {
   "cell_type": "code",
   "execution_count": null,
   "id": "a52c0e49-a5ec-477a-af1a-2ef5f2ede003",
   "metadata": {},
   "outputs": [],
   "source": [
    "SCVI_LATENT_KEY = \"X_scVI\"\n",
    "rdata.obsm[SCVI_LATENT_KEY] = model.get_latent_representation()\n",
    "\n",
    "sc.pp.neighbors(\n",
    "    rdata, \n",
    "    use_rep=SCVI_LATENT_KEY,\n",
    ")\n",
    "\n",
    "sc.tl.leiden(\n",
    "    rdata, \n",
    "    resolution=0.3,\n",
    "    key_added='scvi_clusters',\n",
    ")\n",
    "\n",
    "sc.tl.umap(\n",
    "    rdata,\n",
    "    min_dist=0.25,\n",
    "    method='rapids',\n",
    ")\n",
    "\n",
    "plt.rcParams['figure.dpi'] = 200\n",
    "plt.rcParams['figure.figsize'] = 5, 5\n",
    "\n",
    "sc.pl.umap(\n",
    "    rdata, \n",
    "    color=[\n",
    "        'dataset',\n",
    "        'standard_cell_type',\n",
    "        'scvi_clusters',\n",
    "    ],\n",
    "    ncols=1,\n",
    ")"
   ]
  },
  {
   "cell_type": "markdown",
   "id": "e4b999d7-16c3-46ac-9eb0-df60c8465e44",
   "metadata": {},
   "source": [
    "# SCANVI Model"
   ]
  },
  {
   "cell_type": "code",
   "execution_count": null,
   "id": "4e2c910b-ffb6-482f-b0cb-4ce3cdcefd1b",
   "metadata": {},
   "outputs": [],
   "source": [
    "torch.cuda.empty_cache()\n",
    "\n",
    "# train the scanvi model\n",
    "scanvi_model = scvi.model.SCANVI.from_scvi_model(\n",
    "    model, \n",
    "    unlabeled_category=\"Unknown\",\n",
    ")\n",
    "\n",
    "start_time = time.time()  # Record the start time\n",
    "\n",
    "scanvi_model.train(\n",
    "    max_epochs=epochs,\n",
    "    accelerator='gpu',\n",
    "    devices='auto',\n",
    "    enable_model_summary=True,\n",
    "    early_stopping=True,\n",
    "    batch_size=5000,\n",
    "    plan_kwargs=plan_kwargs,\n",
    "    early_stopping_patience=5,\n",
    ")\n",
    "\n",
    "end_time = time.time()  # Record the end time\n",
    "total_time = end_time - start_time  # Calculate total execution time\n",
    "\n",
    "print(f\"Training completed in {total_time:.2f} seconds\")\n",
    "\n",
    "# Optional: More detailed timing information\n",
    "minutes = int(total_time // 60)\n",
    "seconds = int(total_time % 60)\n",
    "print(f\"Training time: {minutes} minutes {seconds} seconds\")"
   ]
  },
  {
   "cell_type": "code",
   "execution_count": null,
   "id": "52912331-8549-4e89-98aa-11dd6b3072ae",
   "metadata": {},
   "outputs": [],
   "source": [
    "metrics = pd.concat(\n",
    "    scanvi_model.history.values(), \n",
    "    ignore_index=False,\n",
    "    axis=1,\n",
    ")\n",
    "\n",
    "metrics = metrics[metrics['validation_loss'].notna()]\n",
    "metrics = metrics.reset_index(drop=False, names='epoch')\n",
    "\n",
    "metrics = pd.melt(\n",
    "    metrics,\n",
    "    id_vars='epoch',\n",
    "    value_vars=['train_loss_epoch', 'validation_loss'],\n",
    ")\n",
    "\n",
    "plt.rcParams['figure.dpi'] = 200\n",
    "plt.rcParams['figure.figsize'] = 4, 3\n",
    "\n",
    "sns.lineplot(\n",
    "    data=metrics,\n",
    "    x='epoch',\n",
    "    y='value',\n",
    "    hue='variable',\n",
    "    style='variable',\n",
    "    linewidth=1.5,                      \n",
    "    markersize=5\n",
    ")\n",
    "\n",
    "plt.xlabel('Epoch')\n",
    "plt.ylabel('Loss')\n",
    "plt.xticks()\n",
    "plt.yticks()\n",
    "plt.grid(True, linestyle='--', alpha=0.5)  \n",
    "sns.move_legend(\n",
    "    plt.gca(), \n",
    "    title=\"\",\n",
    "    loc='best',\n",
    ")\n",
    "\n",
    "sns.despine()"
   ]
  },
  {
   "cell_type": "markdown",
   "id": "67906ed3-36b9-48b2-827a-7c31bcdc2634",
   "metadata": {},
   "source": [
    "# Latent Representations (SCANVI)"
   ]
  },
  {
   "cell_type": "code",
   "execution_count": null,
   "id": "bdb40434-66c5-47a6-a9ff-6a15ee3b6166",
   "metadata": {},
   "outputs": [],
   "source": [
    "SCANVI_LATENT_KEY = \"X_scANVI\"\n",
    "\n",
    "rdata.obsm[SCANVI_LATENT_KEY] = scanvi_model.get_latent_representation()\n",
    "\n",
    "sc.pp.neighbors(\n",
    "    rdata, \n",
    "    use_rep=SCANVI_LATENT_KEY,\n",
    ")\n",
    "\n",
    "sc.tl.leiden(\n",
    "    rdata, \n",
    "    resolution=0.3,\n",
    "    key_added='scanvi_clusters',\n",
    ")\n",
    "\n",
    "sc.tl.umap(\n",
    "    rdata,\n",
    "    min_dist=0.25,\n",
    "    method='rapids',\n",
    ")\n",
    "\n",
    "plt.rcParams['figure.dpi'] = 200\n",
    "plt.rcParams['figure.figsize'] = 5, 5\n",
    "\n",
    "sc.pl.umap(\n",
    "    rdata, \n",
    "    color=[\n",
    "        'dataset',\n",
    "        'standard_cell_type',\n",
    "        'scanvi_clusters',\n",
    "    ],\n",
    "    ncols=1,\n",
    ")"
   ]
  },
  {
   "cell_type": "code",
   "execution_count": null,
   "id": "33e09b38-45c2-4bce-bac9-90014de38e1d",
   "metadata": {},
   "outputs": [],
   "source": [
    "rdata.layers['SCANVI_counts'] = scanvi_model.get_normalized_expression(return_mean=False)\n",
    "rdata"
   ]
  },
  {
   "cell_type": "markdown",
   "id": "5141dde5-12e1-4ee6-a95f-1a5703ee82f4",
   "metadata": {},
   "source": [
    "# Differential Expression"
   ]
  },
  {
   "cell_type": "code",
   "execution_count": null,
   "id": "6294d308-60f0-4f3f-8327-4d79fe4588ee",
   "metadata": {},
   "outputs": [],
   "source": [
    "torch.cuda.empty_cache()\n",
    "outpath = f\"/scratch/indikar_root/indikar1/shared_data/sc_HSC/SCANVI/scANVI_deg_{n_genes}.csv\"\n",
    "deg = scanvi_model.differential_expression(\n",
    "    rdata,\n",
    "    groupby='cell_label',\n",
    "    batch_correction=True,\n",
    "    filter_outlier_cells=True,\n",
    ")\n",
    "\n",
    "print(f\"{deg.shape=}\")\n",
    "deg = deg.reset_index()\n",
    "deg.to_csv(outpath, index=False,)\n",
    "deg.head()"
   ]
  },
  {
   "cell_type": "markdown",
   "id": "550cab72-6499-4251-a33a-afb0e28fe04e",
   "metadata": {},
   "source": [
    "# Save the model (SCANVI only)"
   ]
  },
  {
   "cell_type": "code",
   "execution_count": null,
   "id": "4341beca-5954-42f4-820c-f860f107c2cc",
   "metadata": {},
   "outputs": [],
   "source": [
    "fpath = \"/scratch/indikar_root/indikar1/shared_data/sc_HSC/SCANVI/model/\"\n",
    "scanvi_model.save(\n",
    "    fpath, \n",
    "    overwrite=True, \n",
    "    save_anndata=True,\n",
    "    prefix='reference_'\n",
    ") \n",
    "print('done')"
   ]
  },
  {
   "cell_type": "markdown",
   "id": "99bd1d1a-dcc5-45aa-b594-95c27137eae6",
   "metadata": {},
   "source": [
    "# Benchmarking"
   ]
  },
  {
   "cell_type": "code",
   "execution_count": null,
   "id": "e5fa318f-62d6-4a27-96aa-47b49503a869",
   "metadata": {},
   "outputs": [],
   "source": [
    "from scib_metrics.benchmark import Benchmarker\n",
    "\n",
    "torch.cuda.empty_cache()\n",
    "\n",
    "bm = Benchmarker(\n",
    "    rdata,\n",
    "    batch_key=\"dataset\",\n",
    "    label_key=\"cell_label\",\n",
    "    embedding_obsm_keys=['X_pca', SCVI_LATENT_KEY, SCANVI_LATENT_KEY],\n",
    ")\n",
    "\n",
    "bm.benchmark()\n",
    "\n",
    "bm.plot_results_table(min_max_scale=False)"
   ]
  },
  {
   "cell_type": "code",
   "execution_count": null,
   "id": "bb29a893-5bd4-4b26-a66a-b9811ccc421b",
   "metadata": {},
   "outputs": [],
   "source": [
    "fpath = f\"/scratch/indikar_root/indikar1/shared_data/sc_HSC/SCANVI/benchmarks_{n_genes}.csv\"\n",
    "bmdf = bm.get_results(min_max_scale=False)\n",
    "bmdf = bmdf.reset_index(drop=False,)\n",
    "bmdf.to_csv(fpath, index=False,)\n",
    "bmdf.head()"
   ]
  },
  {
   "cell_type": "markdown",
   "id": "dabda7ca-6302-4a0f-98e0-95a09a5c2b07",
   "metadata": {},
   "source": [
    "# Query mapping (SCANVI)"
   ]
  },
  {
   "cell_type": "code",
   "execution_count": null,
   "id": "f021c3d1-af59-4b43-8fb7-fde2477bb057",
   "metadata": {},
   "outputs": [],
   "source": [
    "scvi.model.SCANVI.prepare_query_anndata(\n",
    "    qdata, \n",
    "    scanvi_model,\n",
    ")\n",
    "\n",
    "scanvi_query = scvi.model.SCANVI.load_query_data(\n",
    "    qdata, \n",
    "    scanvi_model,\n",
    ")\n",
    "\n",
    "print('Done!')\n",
    "\n",
    "torch.cuda.empty_cache()\n",
    "\n",
    "epochs = 15\n",
    "\n",
    "SCANVI_PREDICTIONS_KEY = \"predictions_scanvi\"\n",
    "\n",
    "scanvi_query.train(\n",
    "    max_epochs=epochs, \n",
    "    plan_kwargs={\"weight_decay\": 0.01},\n",
    "    \n",
    ")\n",
    "\n",
    "qdata.obsm[SCANVI_LATENT_KEY] = scanvi_query.get_latent_representation()\n",
    "qdata.layers['SCANVI_counts'] = scanvi_query.get_normalized_expression(return_mean=False)\n",
    "qdata.obs[SCANVI_PREDICTIONS_KEY] = scanvi_query.predict()\n",
    "\n",
    "qdata"
   ]
  },
  {
   "cell_type": "code",
   "execution_count": null,
   "id": "b09d0357-f274-4405-b5b3-5d32bb6f91f4",
   "metadata": {},
   "outputs": [],
   "source": [
    "\"\"\"ADD SCVI LATENT SPACE AS WELL\"\"\"\n",
    "\n",
    "scvi.model.SCVI.prepare_query_anndata(\n",
    "    qdata, \n",
    "    model,\n",
    ")\n",
    "\n",
    "scvi_query = scvi.model.SCVI.load_query_data(\n",
    "    qdata, \n",
    "    model,\n",
    ")\n",
    "\n",
    "epochs = 100\n",
    "\n",
    "scvi_query.train(\n",
    "    max_epochs=epochs, \n",
    "    plan_kwargs=plan_kwargs,\n",
    "    early_stopping_patience=5,\n",
    ")\n",
    "\n",
    "qdata.obsm[SCVI_LATENT_KEY] = scvi_query.get_latent_representation()\n",
    "qdata"
   ]
  },
  {
   "cell_type": "markdown",
   "id": "c5a33f63-1a8c-4fac-b762-e956cc670a05",
   "metadata": {},
   "source": [
    "# Store Query Model (SCANVI only)"
   ]
  },
  {
   "cell_type": "code",
   "execution_count": null,
   "id": "70e12a80-c1de-419c-9a70-039e7d3c8347",
   "metadata": {},
   "outputs": [],
   "source": [
    "fpath = \"/scratch/indikar_root/indikar1/shared_data/sc_HSC/SCANVI/model/\"\n",
    "scanvi_query.save(\n",
    "    fpath, \n",
    "    overwrite=True, \n",
    "    save_anndata=True,\n",
    "    prefix='query_'\n",
    ") \n",
    "print('done')"
   ]
  },
  {
   "cell_type": "markdown",
   "id": "2eda1708-4e2d-4af7-82b2-6765e241648d",
   "metadata": {},
   "source": [
    "# Predicted Probability"
   ]
  },
  {
   "cell_type": "code",
   "execution_count": null,
   "id": "10d57c56-fab0-4971-ab59-afe68bd4db00",
   "metadata": {},
   "outputs": [],
   "source": [
    "pred_proba = scanvi_query.predict(soft=True)\n",
    "pred_proba.head()"
   ]
  },
  {
   "cell_type": "code",
   "execution_count": null,
   "id": "ce1cda28-5b92-4f91-95c0-3526fd948f16",
   "metadata": {},
   "outputs": [],
   "source": [
    "sns.histplot(\n",
    "    data=pred_proba,\n",
    "    x='HSC',\n",
    "    log_scale=True,\n",
    "    bins=31,\n",
    ")"
   ]
  },
  {
   "cell_type": "code",
   "execution_count": null,
   "id": "0e7c722b-6087-46ef-a501-4039e4cd5b27",
   "metadata": {},
   "outputs": [],
   "source": [
    "preds = scanvi_query.predict()\n",
    "pd.value_counts(preds)"
   ]
  },
  {
   "cell_type": "markdown",
   "id": "ee5d16e9-9a0c-456d-93e7-ae529f55ba3f",
   "metadata": {},
   "source": [
    "# Store predictions"
   ]
  },
  {
   "cell_type": "code",
   "execution_count": null,
   "id": "5f4c90e0-6d93-44ec-99cf-3f815d9a4552",
   "metadata": {},
   "outputs": [],
   "source": [
    "fpath = f\"/scratch/indikar_root/indikar1/shared_data/sc_HSC/SCANVI/ihsc_predictions_{n_genes}.csv\"\n",
    "df = pred_proba.copy()\n",
    "df = df.astype(float)\n",
    "df['prediction'] = df.idxmax(axis=1)\n",
    "df = df.reset_index(drop=False, names='cell_id')\n",
    "\n",
    "df.to_csv(fpath, index=False,)\n",
    "\n",
    "df.head()"
   ]
  },
  {
   "cell_type": "markdown",
   "id": "cc285e00-e7c5-48e7-b57c-e5b1e593ef8a",
   "metadata": {},
   "source": [
    "# Integrate"
   ]
  },
  {
   "cell_type": "code",
   "execution_count": null,
   "id": "035061a2-da2d-48b7-8335-80dead235d0f",
   "metadata": {},
   "outputs": [],
   "source": [
    "fdata = an.concat([rdata, qdata], label=\"batch\")\n",
    "fdata"
   ]
  },
  {
   "cell_type": "code",
   "execution_count": null,
   "id": "1544e2b5-5709-42cc-8793-0055980f9d0c",
   "metadata": {},
   "outputs": [],
   "source": [
    "sc.pp.neighbors(\n",
    "    fdata, \n",
    "    use_rep=SCANVI_LATENT_KEY,\n",
    ")\n",
    "\n",
    "sc.tl.umap(\n",
    "    fdata,\n",
    "    min_dist=0.25,\n",
    "    method='rapids',\n",
    ")\n",
    "\n",
    "plt.rcParams['figure.dpi'] = 200\n",
    "plt.rcParams['figure.figsize'] = 5, 5\n",
    "\n",
    "sc.pl.umap(\n",
    "    fdata, \n",
    "    color=[\n",
    "        'dataset',\n",
    "        'standard_cell_type',\n",
    "        'batch',\n",
    "    ],\n",
    "    ncols=1,\n",
    ")"
   ]
  },
  {
   "cell_type": "markdown",
   "id": "d5548567-e017-4973-846a-3dacc0bf50cb",
   "metadata": {},
   "source": [
    "# Store ADATA"
   ]
  },
  {
   "cell_type": "code",
   "execution_count": null,
   "id": "d45b7be1-a1fd-4401-b09d-0603a6b1a748",
   "metadata": {},
   "outputs": [],
   "source": [
    "fpath = f\"/scratch/indikar_root/indikar1/shared_data/sc_HSC/SCANVI/imputed_data_{n_genes}.h5ad\"\n",
    "fdata.write(fpath)\n",
    "fdata"
   ]
  },
  {
   "cell_type": "code",
   "execution_count": null,
   "id": "1262d537-4cf5-4ba3-90a2-60f5e9489c7d",
   "metadata": {},
   "outputs": [],
   "source": []
  },
  {
   "cell_type": "code",
   "execution_count": null,
   "id": "0ce0d1da-ed30-4704-8b68-617444328739",
   "metadata": {},
   "outputs": [],
   "source": []
  }
 ],
 "metadata": {
  "kernelspec": {
   "display_name": "scanpy",
   "language": "python",
   "name": "scanpy"
  },
  "language_info": {
   "codemirror_mode": {
    "name": "ipython",
    "version": 3
   },
   "file_extension": ".py",
   "mimetype": "text/x-python",
   "name": "python",
   "nbconvert_exporter": "python",
   "pygments_lexer": "ipython3",
   "version": "3.12.5"
  }
 },
 "nbformat": 4,
 "nbformat_minor": 5
}
