{
 "cells": [
  {
   "cell_type": "code",
   "execution_count": 1,
   "id": "3d90caf2-e7d6-4da4-9c2a-63d170ab3b13",
   "metadata": {},
   "outputs": [],
   "source": [
    "import pandas as pd\n",
    "import numpy as np\n",
    "import scanpy as sc\n",
    "import sys\n",
    "import os\n",
    "import pysam\n",
    "from Bio.Seq import Seq\n",
    "import pyranges as pr\n",
    "import rapidfuzz\n",
    "import mappy as mp\n",
    "\n",
    "import matplotlib.pyplot as plt\n",
    "import seaborn as sns\n",
    "from mpl_toolkits.axes_grid1 import make_axes_locatable\n",
    "from matplotlib.colors import LogNorm, Normalize\n",
    "\n",
    "sys.path.append(\"../\")\n",
    "import utils as ut"
   ]
  },
  {
   "cell_type": "code",
   "execution_count": 2,
   "id": "369fd8e7-1eec-4bf6-bd10-126d90bc4551",
   "metadata": {},
   "outputs": [
    {
     "data": {
      "text/html": [
       "<div>\n",
       "<style scoped>\n",
       "    .dataframe tbody tr th:only-of-type {\n",
       "        vertical-align: middle;\n",
       "    }\n",
       "\n",
       "    .dataframe tbody tr th {\n",
       "        vertical-align: top;\n",
       "    }\n",
       "\n",
       "    .dataframe thead th {\n",
       "        text-align: right;\n",
       "    }\n",
       "</style>\n",
       "<table border=\"1\" class=\"dataframe\">\n",
       "  <thead>\n",
       "    <tr style=\"text-align: right;\">\n",
       "      <th></th>\n",
       "      <th>read_id</th>\n",
       "      <th>putative_bc</th>\n",
       "      <th>putative_bc_min_q</th>\n",
       "      <th>putative_umi</th>\n",
       "      <th>umi_end</th>\n",
       "      <th>pre_bc_flanking</th>\n",
       "      <th>post_umi_flanking</th>\n",
       "    </tr>\n",
       "  </thead>\n",
       "  <tbody>\n",
       "    <tr>\n",
       "      <th>0</th>\n",
       "      <td>7ca01f6b-1455-4f05-ba7a-4b983ad8f534</td>\n",
       "      <td>NaN</td>\n",
       "      <td>NaN</td>\n",
       "      <td>NaN</td>\n",
       "      <td>NaN</td>\n",
       "      <td>NaN</td>\n",
       "      <td>NaN</td>\n",
       "    </tr>\n",
       "    <tr>\n",
       "      <th>1</th>\n",
       "      <td>ffa5cb0c-acb8-49b3-b0cb-9c757ec92615</td>\n",
       "      <td>GATAGAAGTACCAGAG</td>\n",
       "      <td>4.0</td>\n",
       "      <td>GCTAATGAGTAG</td>\n",
       "      <td>-104.0</td>\n",
       "      <td>GATCT</td>\n",
       "      <td>TTTTT</td>\n",
       "    </tr>\n",
       "    <tr>\n",
       "      <th>2</th>\n",
       "      <td>d49d4023-4d20-4e40-afdf-c691ac7e47e8</td>\n",
       "      <td>NaN</td>\n",
       "      <td>NaN</td>\n",
       "      <td>NaN</td>\n",
       "      <td>NaN</td>\n",
       "      <td>NaN</td>\n",
       "      <td>NaN</td>\n",
       "    </tr>\n",
       "    <tr>\n",
       "      <th>3</th>\n",
       "      <td>0f84e905-dfbf-4343-ac98-5a9a4d1c22ea</td>\n",
       "      <td>CCGCGAGTCATGAGTC</td>\n",
       "      <td>6.0</td>\n",
       "      <td>GGGACAGGTTAA</td>\n",
       "      <td>150.0</td>\n",
       "      <td>GATCT</td>\n",
       "      <td>TTTTT</td>\n",
       "    </tr>\n",
       "    <tr>\n",
       "      <th>4</th>\n",
       "      <td>13d4e220-ff2c-4c0e-aa40-afb93c5fa937</td>\n",
       "      <td>CGATGCGTCATGAGTC</td>\n",
       "      <td>17.0</td>\n",
       "      <td>CATGCTATGCGT</td>\n",
       "      <td>-98.0</td>\n",
       "      <td>GATCT</td>\n",
       "      <td>TTTTT</td>\n",
       "    </tr>\n",
       "  </tbody>\n",
       "</table>\n",
       "</div>"
      ],
      "text/plain": [
       "                                read_id       putative_bc  putative_bc_min_q  \\\n",
       "0  7ca01f6b-1455-4f05-ba7a-4b983ad8f534               NaN                NaN   \n",
       "1  ffa5cb0c-acb8-49b3-b0cb-9c757ec92615  GATAGAAGTACCAGAG                4.0   \n",
       "2  d49d4023-4d20-4e40-afdf-c691ac7e47e8               NaN                NaN   \n",
       "3  0f84e905-dfbf-4343-ac98-5a9a4d1c22ea  CCGCGAGTCATGAGTC                6.0   \n",
       "4  13d4e220-ff2c-4c0e-aa40-afb93c5fa937  CGATGCGTCATGAGTC               17.0   \n",
       "\n",
       "   putative_umi  umi_end pre_bc_flanking post_umi_flanking  \n",
       "0           NaN      NaN             NaN               NaN  \n",
       "1  GCTAATGAGTAG   -104.0           GATCT             TTTTT  \n",
       "2           NaN      NaN             NaN               NaN  \n",
       "3  GGGACAGGTTAA    150.0           GATCT             TTTTT  \n",
       "4  CATGCTATGCGT    -98.0           GATCT             TTTTT  "
      ]
     },
     "execution_count": 2,
     "metadata": {},
     "output_type": "execute_result"
    }
   ],
   "source": [
    "fpath = \"/scratch/indikar_root/indikar1/cstansbu/HSC/demultiplex/Gridr1.putative_bc.csv\"\n",
    "\n",
    "df = pd.read_csv(fpath)\n",
    "codes = dict(zip(df.read_id, df.putative_bc))\n",
    "df.head()"
   ]
  },
  {
   "cell_type": "code",
   "execution_count": 3,
   "id": "2fe3bb1e-6fac-431f-be93-b32e1438b5a9",
   "metadata": {},
   "outputs": [
    {
     "name": "stdout",
     "output_type": "stream",
     "text": [
      "7ca01f6b-1455-4f05-ba7a-4b983ad8f534\n",
      "TTAACTGATTTCAATGGAGTGGGTGTTTTATGCAGTTCCATCATCTACCGTGACAAGAAAGTTGTCAGTGTCTTTGTGTTTCTGTTGGTGCTGATATTGCAAGCAGTGGTATCAACGCAGAGACATGGGGAAAATTTCATTTCAAATGCCAAAACCATCCTATAAAGAAAAACTTACCTTCTTAGGTCAAATCTCTAATATTTGACTAGATTCAAAAAGTTTATTTCTGGCCAGGCACAGTAGCTTACTCCTGAAATCCCAGCACTTTGGGAGACCAAGGTGGGAGGATCACTTGAGGCCAGGAATTCAAGACCAGCTTGAGCGACATAGCAAGACCCCATTTCTACAAAAAAAAAAAAAAAAAAAAAAAAAAAATTAGCCTGGGGAGCTGCTCTCATCACAAGATCGGAAGAGCGTCGTGTAGGAAAGATAGAGCGACAGACGGAGTCTAAAGACACCGACAACTTTCTTGTCAT\n",
      "\n",
      "ffa5cb0c-acb8-49b3-b0cb-9c757ec92615\n",
      "AACATTGCTTCGTTCCGGTGCACTATGGTGATGGGTGTTTATGGATATCCTTCTGTGACAAGAAAGTTGTCGGTGTCTTTGTGTTTCTGTTGGTGCTGTCATTGCAAGCAGTGGTATCAACGCAGAGTACATGGGTAAATGAAAGATACAGCCAGGCGCTGGGCTCATGCTTGTAATCCCAGCACTTTGCGGGGCCAAGGCGGGCGGATCACGAGGTCAGGAGTTCAAGACCAGCCTGGCCAACATGGTGAAACCCCGTCTCTACTAAAAATACAAAAGTTAGCTGGGTGTGGTGATGGGCACCAGCTACTCAGGAGGCTGAGGCAGGAGAATTGTTTGAACCCGGGAAGCGGAGGTTGCAGTGAGCCGAGATTACACCATTGCACTCCAGCCTGGGCGACAGAGCAAGACTTACTTAAAGTAAGTAAGTAAGTCAGTCTCAAAAAAAAAAAAAAAAAAAAAAAAAACTACTCATTAGCCTCTGGTACTTCTATCAGATCGGAAGAGCGTCGTGTAGGAAGATAGGGAGCGACAGGCAAGTCACAAAGACACCGACAACTTTCTTGTCACA\n",
      "\n",
      "d49d4023-4d20-4e40-afdf-c691ac7e47e8\n",
      "ATGGCCTTCGTTCAATTAGGTAGGTGTTTGCTCGGACCGTAAACCTACCGTGACAAGAAAGTTGTCGGTGTCTTTGTGTTTCTGTTGGTGCTGATATTGCAAGCAGTGGTATCAACGCAGAGTACATGGGCTTGTCAACTAATTATTGACCTGCACGAAGGCGCAATGATCTCCCTACTGTCTCAACATTGGACTCGGTGAAATTATGGTACCAGTGAAAACGCTGGTTACCCGCATCAAGACAGAAAAGACCCCGTGGGGCTTTACTACTCTTCTATTAAGTGGTTTTAGCATGTGTAGGATAGGTGGGAGACTTTGGCTGGGACGCTAGTTCTGGTGGAGTCAACCTTGAAATACCACCCTTGCTAAATTGATTTTATAACCCGTTCCCCTTATCTGGGAAGGAGACAGTGTGTGGTGGGTAGTTTGACTGGGGCGGTCGCCTCTAAAGAGTAACGGAGGCGTTCAAAGCTACACTTTCAATATGGTCAGAAACCATATGCAGAGCACAAAGGTAAGTGTGGTTGACTGCAAGACTTACAAGTCGAGCAGGTGCGAAAGCAGGACTTAGTGATCCGGCGGTACACTGTGGAATGGCCGTCGCTCAACGGATAAAAGCTACCCCGGGGATAACAGGCTAATCTTCCCCAAGAGATCACATCGACAGGAAGGTTTGGCACCTCGATGTCGGCTCATCGCATCCTGGAGCTGGAGTCGGTTCAAGGGTTTGGCTGTTCGCCAATTAAAGCAGTACGTGAGCTGGGTTCAGAACGTCGTGAGACAGTTCGGTCCCTATCTGATGTGGGCGTTGGAATAAGATCGGAAGAGCGTCGTGTAGGGAAGATGAGCGACAACA\n",
      "\n",
      "0f84e905-dfbf-4343-ac98-5a9a4d1c22ea\n",
      "TGTACTTCGTTCAATTGTGTTAGGTGTTTAGCATGATTGTCGCCTACCGTGACAAGAAAGTTGTCGGTGTCTTTGTGACTTGCCTGTCGCTCTATCTTCCTACACGACGCTCTTCCAGATCTCCGCGAGTCATGAGTCGGGACAGGTTAATTTTTTTTTTTTTTTTTTTTTCACTACTCATAACAGTTTATTTTTTACTTTGTACAAAATACAAAAATGCAAATCCAAGGAGTACAGACCAGTAGTGACAGGCACACTGCACAACAGCAACCTTGTCTAGCAAGACAGGAGTTTTTAAATTTTATTTTAGTGAATACATGCATTATATGAAACAACGACAACAACAACAACAAAAACACAAAGAGGCTAGAGATTTCACCGTTTCTACCCCCAAAATAACGCTTGCTATCAAGACTTTGGAGGGGGATGGGGGAAAAGAATTTAAAAGGCAAATAATTTTTCATAAAAAGTAAAAGCTACCATAAAACATTTTTTCCCATGTACTCTGCGTTGATACCACTGCTTGCAATATCAGCACCAACAGAAAGACAAAGACACCGACAACTTTCTTGTCAC\n",
      "\n",
      "13d4e220-ff2c-4c0e-aa40-afb93c5fa937\n",
      "ATCTTGTACTTCGTTCAATTTGGTAGGTGTTTATGAATAGCCATACCGTGACAAGAAAGTTGTCGGTGTCTTTGTGTTTCTGTTGGTGCTGATGTTGCAAGCAGTGGTATCAACGCAGAGTACATGGGGGCTTTGGAAAAAAAAAAAAAAAAAAAAAAAAAAAAAAAAAAAAAAAAAAAAAAAAAAAAAAAAAAAAAAAAAAAAAAAAAAAAAAAAAAAAAAAAAAAAAAAAAAAAAAAAAAAAAAAGAAAAAAACGCATAGCATGGACTCATGACGCATCGAGATCGGAAGAGCGTCGTGTAGGAAGATAGAGCGACAGGCAAGTCACAAAGACACCGACAACTTTCTTGT\n",
      "\n",
      "d15f9cc4-6df7-4f79-a749-341256f06bac\n",
      "GTAACCCGTTTATTGCCTGTTGGGTGTTTATGGTCGCCATACCGTGACAGAAAGTTGCTCGTGTCTTTGTGTTTCTGTTGGTGCTGATATTGCAAGCAGTGGTATCAACGCAGTACATGGGGACCACGCCTCCTCCAAGTCCCAGCGAACCCGCGTGCAACCTGTCCCACGAGCTCAACCGCCTCTTCAGCTCGCCATGGATCCCAACTGCTCCTGCGCCGCCGGTGACTCCTGCACCTGCGCCGGCTCCTGCAAATGCAAGAAGTGCAAATGCACCTCCTGCAAGAAAAGCTGCTGCTCCTGCTGCCCTGTGGGCTGTGCCGTGTGCCCAGGGCTGCATCAAAGGGGCGTCGGACAAGTGCAGCTGCTGCGCCTTTGATCGCCGGGACCTTCCCGCTCCAGATGTAAAGAACGCGACTTCCCTGAGCTACCTGGATTTTTTATGTACAACCTGACCGTGACCGTTTGCTATATTCCTTTTCTGTAAAATAATGTGAATGATAATAAAACAGCTTTGACTTGAAAAAAAAAAAAAAAAATACATCCTCGTTATCTGTTGTGAGGGTAGATCGGAAGAGCGTCGTATAGGAAGATAGAGCGAT\n",
      "\n",
      "a96ffa76-ee03-47d0-a17f-87bba378e16c\n",
      "TGCTTGTACTTCCGTTCCATGGAAAGTGGGTGTTTATGGTTCATCAATACCGTGACAAGAAAGTTGTCGGTGTTTTGTTTCTGTTGGTGCTGATATTGCAAGCAGTGGTATCAACGCAGAGTACATGGGGCCGCTAGATTGCTCGCTCGCTCCCGCTCTGGAGTCTGCCATCATGGATGTTCTCGCAGAAGCAAATGGCACCTTTGCCTTAAACCTTTTGAAAAACGCTGGAGTAGAACAACTCGAAGAATGTGTTTTTCTCTGGAAACATCATCCTGTGCCCTGGCCATGGTCTACATGGGGCAAAGGCTGCCGCTACGATATTTAGATACTTTCTTTCAATAAAAGTGTGAATTTGGTGGAGACATCCACCAGGAGCTTCAGTCTCTTCTCACCGAAGTGAACAAGACTGGCACGCAGTACTTGCTTAGGGTGGCCAACAGGCTCTTTGAGAAAAGTCTTGTGATTTCCTCTCATCTTTTAGAGATTCCTGCCAAAAATTCTACCAAGCAGAGATGGAGGAGCTTGACTTTATCAGCGCCGTAGAAGTCCAAAAAAAAAAAAAAAAAAAAAAAAATGACCAAGCCGGTGTGCTGTGGCGCTAGATCGGAAAGAGCGTGTTATAGGAAGATAGGGCGACAGGCAGTGCAAAACTACCAAACAACTTTCTTGTCTG\n",
      "\n",
      "8b787e74-a262-43c3-8554-6eec06f5d89d\n",
      "ATAACGCGTTCAGTTATGGAATGCGGGTGTTTAGCAGATACTTCGCCTACCGTGACAAGAAAGTTGTCGGTGTCTTTGTGTTTCTGTTGGTACTGATATTGCAAGCAGTGTATCCAACATGAAGTACATGAGGCATTTCAACTGCAAAAGACCACTGAACTGGACACTGTCGGCGTGACAGTATCAAGTAACCATTAGGCAGAGCAAAACGTAAATAAAAGTGTCTGTGATGGGGTAGTCAGTCAGATGGGGTGGGGTCGGCTGAGGGCAGTGAGGTCAACTAGATGCCGGCGAGGTAGACAGACCAAGACCAGCTTTCTGTGTAATGCAAAGTCAAATTAAATAGACGTGAGTGGATGGAAAGACGTACCTTATTCTTGCATAAGAAGACAACGGCATAGACATCTGGGGAAGGTTAAGGTAAACATGCAGCCTGGAATAGCCAGGAGAATTCTGGAAAAAGTAGAATAATGAGGTAGAACTCCCTTCCGCTATTTTGAAGTGCAGATTACACTGTAAAACCATTAGGAACTGGCACGTGGAATAGACAGATCAATAGTTAATAGCTGTATTAGCCAGAAAATGGTGTAAGGACAACAGGCTAATAACCCTGTCACTTGGTATACACAAAATTAGAGTATTCAGAGTCTCAGAAAAAAAAAAAAAAAAAAAGCGGGTGGCCTACAGTGGAGATTCCCACAGATCGGAAGGGCGTCGTGTAGGAAGATAGAGCGACAGGCAAGTCACAAAAGACACCGACAACTTTCTTGTCAT\n",
      "\n",
      "17901c5d-ff78-4b66-a5d8-1db377570f76\n",
      "AACCCGCCTTGCTTCGTTCAGTTACCTTGTTGTTGGGTGTTGCTCAAATAAGCCATCTACAACGACAGAAAGTTGTCGGTGCTCTTTGTGACTTGCCTGTCGCTCTATCTTCCTACACGACGCTCTTCCGATCTACCGTTCTCCGTGGTACGTCGGAGCCGCTTTTTTTTTTTTTTAGTAATCACTACTATATCATGTCTTTACTCTGTTTATAATATCAAGTATTTTTCTTAAAGATATAGATATTAAACCTTGTGCTCGTGCAACTTAGAGTAACATATACAGACAAATGATTGCATGAGGCCATGTTTACATATGTGTGACTAATAAAGACTTGTCATGATTAACATAATCCAGGTATGTCATTTCTGAAGAGAATAGTCATCAAATTTATATCTCAATTTTAATTAAGGAATTGCTTATTGTTGAGCTTAGCAAATTAATAACACTATTTCTGTCACTATTCTTTGAGGCCTTTTAGTACTAAAATTTGTATGTACTCTGCGTTGATACCACC\n",
      "\n",
      "5ceb9c14-7a0b-424b-9a5f-7ef3b653d5fe\n",
      "CAAACGCCTTGTACTTCGTTCAGTTGCAGAAGGTACGGGTGTTTGTACTTGGATCGCCATGTACCGTGACCAAGAAAGTTGTCGATTGTCTTTGTGACTTACCTGTCGCTTATCTTCCTACGGCCGCTCTTCCGATCTTGGTACAGTCGATTACAAGATCTTTCATTTTTTTTTTTTTTTTTTTTCGACATCTAAAGTCTTTATTAAGGTGAGTTTTTACAAACAAGCATCTATCCCAGTGTGGGGGATGAGGATGGGAGAGGAAAGCGGGGCAGGAAGATGAGGATTCTCGTCTATTAAATAATAAAGCTCCAGGTTCATCCATCGTGGATTTCATAGTCCCCAGAGACACGTGGTCCTTAAAAATCGTGTACCACTTCTTCAGGACAATCTTGTTCCAACGGAGTACCAGTTTGGGCTGCAATCAGCTTCTTAAGGTCCCCGATGGTATCATCCGTGTTGCATTTAACGCGGACCTTCTTCCCCAGACGGTCGTTGCAAACAACCTCGATCATCCTAGCTGGAGCTCGAATCGCCTCGAACCTGCCGACGCCACCAGCTCTTCACCCGAGCGCTGAACCCCGGTCGCAGTTAACCCCCATGTACTCTGCGTTGATACCACTGCTTGCAATATCAGCACCAACAGAAACACAAAAGCACCGACAACTTTCTTGTCGACAGCAGCCAACTGGTTCGGTG\n",
      "\n"
     ]
    }
   ],
   "source": [
    "fpath = \"/scratch/indikar_root/indikar1/cstansbu/HSC/fastq/Gridr1.raw.fastq.gz\"\n",
    "fastq = pysam.FastxFile(fpath)\n",
    "\n",
    "stop = 10\n",
    "count = -1\n",
    "for read in fastq:\n",
    "    count += 1\n",
    "    if count == stop:\n",
    "        break\n",
    "        \n",
    "    print(read.name)\n",
    "    print(read.sequence)\n",
    "    print()\n"
   ]
  },
  {
   "cell_type": "code",
   "execution_count": 4,
   "id": "6b8c4374-b6d4-4ea4-9e85-1dbbe77f352b",
   "metadata": {},
   "outputs": [
    {
     "name": "stdout",
     "output_type": "stream",
     "text": [
      "True\n",
      "False\n"
     ]
    }
   ],
   "source": [
    "test_bc = \"CCGCGAGTCATGAGTC\"\n",
    "test_bc_rev = str(Seq(test_bc).reverse_complement())\n",
    "test_seq = \"TGTACTTCGTTCAATTGTGTTAGGTGTTTAGCATGATTGTCGCCTACCGTGACAAGAAAGTTGTCGGTGTCTTTGTGACTTGCCTGTCGCTCTATCTTCCTACACGACGCTCTTCCAGATCTCCGCGAGTCATGAGTCGGGACAGGTTAATTTTTTTTTTTTTTTTTTTTTCACTACTCATAACAGTTTATTTTTTACTTTGTACAAAATACAAAAATGCAAATCCAAGGAGTACAGACCAGTAGTGACAGGCACACTGCACAACAGCAACCTTGTCTAGCAAGACAGGAGTTTTTAAATTTTATTTTAGTGAATACATGCATTATATGAAACAACGACAACAACAACAACAAAAACACAAAGAGGCTAGAGATTTCACCGTTTCTACCCCCAAAATAACGCTTGCTATCAAGACTTTGGAGGGGGATGGGGGAAAAGAATTTAAAAGGCAAATAATTTTTCATAAAAAGTAAAAGCTACCATAAAACATTTTTTCCCATGTACTCTGCGTTGATACCACTGCTTGCAATATCAGCACCAACAGAAAGACAAAGACACCGACAACTTTCTTGTCAC\"\n",
    "\n",
    "print(test_bc in test_seq)\n",
    "print(test_bc_rev in test_seq)"
   ]
  },
  {
   "cell_type": "markdown",
   "id": "8e90f0af-6f0a-4800-ad98-f272731b63d5",
   "metadata": {},
   "source": [
    "# Count some bvarcodes"
   ]
  },
  {
   "cell_type": "code",
   "execution_count": 5,
   "id": "44741e6a-605e-4635-a370-26bf577a1a08",
   "metadata": {},
   "outputs": [
    {
     "data": {
      "text/html": [
       "<div>\n",
       "<style scoped>\n",
       "    .dataframe tbody tr th:only-of-type {\n",
       "        vertical-align: middle;\n",
       "    }\n",
       "\n",
       "    .dataframe tbody tr th {\n",
       "        vertical-align: top;\n",
       "    }\n",
       "\n",
       "    .dataframe thead th {\n",
       "        text-align: right;\n",
       "    }\n",
       "</style>\n",
       "<table border=\"1\" class=\"dataframe\">\n",
       "  <thead>\n",
       "    <tr style=\"text-align: right;\">\n",
       "      <th></th>\n",
       "      <th>read_name</th>\n",
       "      <th>barcode</th>\n",
       "      <th>barcode_rc</th>\n",
       "      <th>detect</th>\n",
       "      <th>detect_rc</th>\n",
       "      <th>position</th>\n",
       "      <th>position_rc</th>\n",
       "      <th>seq_length</th>\n",
       "      <th>seq</th>\n",
       "    </tr>\n",
       "  </thead>\n",
       "  <tbody>\n",
       "    <tr>\n",
       "      <th>0</th>\n",
       "      <td>7ca01f6b-1455-4f05-ba7a-4b983ad8f534</td>\n",
       "      <td>NaN</td>\n",
       "      <td>NaN</td>\n",
       "      <td>False</td>\n",
       "      <td>False</td>\n",
       "      <td>-1</td>\n",
       "      <td>-1</td>\n",
       "      <td>476</td>\n",
       "      <td>TTAACTGATTTCAATGGAGTGGGTGTTTTATGCAGTTCCATCATCT...</td>\n",
       "    </tr>\n",
       "    <tr>\n",
       "      <th>1</th>\n",
       "      <td>ffa5cb0c-acb8-49b3-b0cb-9c757ec92615</td>\n",
       "      <td>GATAGAAGTACCAGAG</td>\n",
       "      <td>CTCTGGTACTTCTATC</td>\n",
       "      <td>False</td>\n",
       "      <td>True</td>\n",
       "      <td>-1</td>\n",
       "      <td>479</td>\n",
       "      <td>571</td>\n",
       "      <td>AACATTGCTTCGTTCCGGTGCACTATGGTGATGGGTGTTTATGGAT...</td>\n",
       "    </tr>\n",
       "    <tr>\n",
       "      <th>2</th>\n",
       "      <td>d49d4023-4d20-4e40-afdf-c691ac7e47e8</td>\n",
       "      <td>NaN</td>\n",
       "      <td>NaN</td>\n",
       "      <td>False</td>\n",
       "      <td>False</td>\n",
       "      <td>-1</td>\n",
       "      <td>-1</td>\n",
       "      <td>856</td>\n",
       "      <td>ATGGCCTTCGTTCAATTAGGTAGGTGTTTGCTCGGACCGTAAACCT...</td>\n",
       "    </tr>\n",
       "    <tr>\n",
       "      <th>3</th>\n",
       "      <td>0f84e905-dfbf-4343-ac98-5a9a4d1c22ea</td>\n",
       "      <td>CCGCGAGTCATGAGTC</td>\n",
       "      <td>GACTCATGACTCGCGG</td>\n",
       "      <td>True</td>\n",
       "      <td>False</td>\n",
       "      <td>122</td>\n",
       "      <td>-1</td>\n",
       "      <td>576</td>\n",
       "      <td>TGTACTTCGTTCAATTGTGTTAGGTGTTTAGCATGATTGTCGCCTA...</td>\n",
       "    </tr>\n",
       "    <tr>\n",
       "      <th>4</th>\n",
       "      <td>13d4e220-ff2c-4c0e-aa40-afb93c5fa937</td>\n",
       "      <td>CGATGCGTCATGAGTC</td>\n",
       "      <td>GACTCATGACGCATCG</td>\n",
       "      <td>False</td>\n",
       "      <td>True</td>\n",
       "      <td>-1</td>\n",
       "      <td>266</td>\n",
       "      <td>352</td>\n",
       "      <td>ATCTTGTACTTCGTTCAATTTGGTAGGTGTTTATGAATAGCCATAC...</td>\n",
       "    </tr>\n",
       "  </tbody>\n",
       "</table>\n",
       "</div>"
      ],
      "text/plain": [
       "                              read_name           barcode        barcode_rc  \\\n",
       "0  7ca01f6b-1455-4f05-ba7a-4b983ad8f534               NaN               NaN   \n",
       "1  ffa5cb0c-acb8-49b3-b0cb-9c757ec92615  GATAGAAGTACCAGAG  CTCTGGTACTTCTATC   \n",
       "2  d49d4023-4d20-4e40-afdf-c691ac7e47e8               NaN               NaN   \n",
       "3  0f84e905-dfbf-4343-ac98-5a9a4d1c22ea  CCGCGAGTCATGAGTC  GACTCATGACTCGCGG   \n",
       "4  13d4e220-ff2c-4c0e-aa40-afb93c5fa937  CGATGCGTCATGAGTC  GACTCATGACGCATCG   \n",
       "\n",
       "   detect  detect_rc  position  position_rc  seq_length  \\\n",
       "0   False      False        -1           -1         476   \n",
       "1   False       True        -1          479         571   \n",
       "2   False      False        -1           -1         856   \n",
       "3    True      False       122           -1         576   \n",
       "4   False       True        -1          266         352   \n",
       "\n",
       "                                                 seq  \n",
       "0  TTAACTGATTTCAATGGAGTGGGTGTTTTATGCAGTTCCATCATCT...  \n",
       "1  AACATTGCTTCGTTCCGGTGCACTATGGTGATGGGTGTTTATGGAT...  \n",
       "2  ATGGCCTTCGTTCAATTAGGTAGGTGTTTGCTCGGACCGTAAACCT...  \n",
       "3  TGTACTTCGTTCAATTGTGTTAGGTGTTTAGCATGATTGTCGCCTA...  \n",
       "4  ATCTTGTACTTCGTTCAATTTGGTAGGTGTTTATGAATAGCCATAC...  "
      ]
     },
     "execution_count": 5,
     "metadata": {},
     "output_type": "execute_result"
    }
   ],
   "source": [
    "fpath = \"/scratch/indikar_root/indikar1/cstansbu/HSC/fastq/Gridr1.raw.fastq.gz\"\n",
    "fastq = pysam.FastxFile(fpath)\n",
    "\n",
    "\n",
    "res = []\n",
    "\n",
    "stop = 1000\n",
    "count = -1\n",
    "for read in fastq:\n",
    "    count += 1\n",
    "    if count == stop:\n",
    "        break\n",
    "\n",
    "    read_name = read.name\n",
    "    seq = read.sequence\n",
    "\n",
    "    barcode = codes[read_name]\n",
    "    detect = str(barcode) in seq\n",
    "\n",
    "    position = -1\n",
    "    if detect:\n",
    "        position = seq.find(str(barcode))\n",
    "\n",
    "    # reverse complement\n",
    "    if not barcode is np.nan:\n",
    "        barcode_rc = str(Seq(barcode).reverse_complement())\n",
    "        detect_rc = str(barcode_rc) in seq\n",
    "    else:\n",
    "        barcode_rc = np.nan\n",
    "        detect_rc = False\n",
    "    \n",
    "    position_rc = -1\n",
    "    if detect_rc:\n",
    "        position_rc = seq.find(str(barcode_rc))\n",
    "        \n",
    "\n",
    "    row = {\n",
    "        'read_name' : read_name,\n",
    "        'barcode' : barcode,\n",
    "        'barcode_rc' : barcode_rc,\n",
    "        'detect' : detect,\n",
    "        'detect_rc' : detect_rc,\n",
    "        'position' : position,\n",
    "        'position_rc' : position_rc,\n",
    "        'seq_length' : len(seq),\n",
    "        'seq' : seq,\n",
    "    }\n",
    "\n",
    "    res.append(row)\n",
    "\n",
    "res = pd.DataFrame(res)\n",
    "res.head()"
   ]
  },
  {
   "cell_type": "code",
   "execution_count": 6,
   "id": "38b33896-9dd1-470a-9347-3d1b0fe5a27b",
   "metadata": {},
   "outputs": [
    {
     "name": "stdout",
     "output_type": "stream",
     "text": [
      "detect\n",
      "True     0.518\n",
      "False    0.482\n",
      "Name: proportion, dtype: float64\n",
      "\n",
      "detect_rc\n",
      "False    0.636\n",
      "True     0.364\n",
      "Name: proportion, dtype: float64\n"
     ]
    }
   ],
   "source": [
    "print(res['detect'].value_counts(normalize=True))\n",
    "print()\n",
    "print(res['detect_rc'].value_counts(normalize=True))"
   ]
  },
  {
   "cell_type": "code",
   "execution_count": 7,
   "id": "2fd97db8-8384-4279-92fb-947baf730779",
   "metadata": {},
   "outputs": [
    {
     "data": {
      "text/plain": [
       "<AxesSubplot: xlabel='position', ylabel='Count'>"
      ]
     },
     "execution_count": 7,
     "metadata": {},
     "output_type": "execute_result"
    },
    {
     "data": {
      "image/png": "[encoded data removed]",
      "text/plain": [
       "<Figure size 640x480 with 1 Axes>"
      ]
     },
     "metadata": {},
     "output_type": "display_data"
    }
   ],
   "source": [
    "pdf = res[res['detect']]\n",
    "\n",
    "sns.histplot(pdf['position'])"
   ]
  },
  {
   "cell_type": "code",
   "execution_count": 8,
   "id": "0ad9b2f2-5b82-40ca-beec-7fce4b855366",
   "metadata": {},
   "outputs": [
    {
     "data": {
      "text/plain": [
       "<AxesSubplot: xlabel='position_rc', ylabel='Count'>"
      ]
     },
     "execution_count": 8,
     "metadata": {},
     "output_type": "execute_result"
    },
    {
     "data": {
      "image/png": "[encoded data removed]",
      "text/plain": [
       "<Figure size 640x480 with 1 Axes>"
      ]
     },
     "metadata": {},
     "output_type": "display_data"
    }
   ],
   "source": [
    "pdf = res[res['detect_rc']]\n",
    "sns.histplot(pdf['position_rc'])"
   ]
  },
  {
   "cell_type": "code",
   "execution_count": 11,
   "id": "656e61ab-843b-4df8-97e1-9007026bcac9",
   "metadata": {},
   "outputs": [
    {
     "data": {
      "text/plain": [
       "putative_bc\n",
       "GACAAGAAAGTTGTCG    3631\n",
       "AGGTTACCAGTGTGGA    3374\n",
       "GCCGTGAGTCTGGTTA    3246\n",
       "CCCAACTGTAACATCC    3236\n",
       "ATCGATGGTGGCATCC    3229\n",
       "                    ... \n",
       "ACGCAATGAGAGTATC       1\n",
       "GTGTTAGGGAGTATGG       1\n",
       "CGAGGCTTGACTCAAT       1\n",
       "TATTTTGTAGCAGCGG       1\n",
       "TTTCAACGTCATTCCT       1\n",
       "Name: count, Length: 3040399, dtype: int64"
      ]
     },
     "execution_count": 11,
     "metadata": {},
     "output_type": "execute_result"
    }
   ],
   "source": [
    "# write some test files\n",
    "df['putative_bc'].value_counts()\n"
   ]
  },
  {
   "cell_type": "code",
   "execution_count": 10,
   "id": "afdd1162-99b2-4d32-a7c0-7317a3706306",
   "metadata": {},
   "outputs": [
    {
     "ename": "SyntaxError",
     "evalue": "'break' outside loop (668683560.py, line 1)",
     "output_type": "error",
     "traceback": [
      "\u001b[0;36m  Cell \u001b[0;32mIn[10], line 1\u001b[0;36m\u001b[0m\n\u001b[0;31m    break\u001b[0m\n\u001b[0m    ^\u001b[0m\n\u001b[0;31mSyntaxError\u001b[0m\u001b[0;31m:\u001b[0m 'break' outside loop\n"
     ]
    }
   ],
   "source": [
    "break"
   ]
  },
  {
   "cell_type": "code",
   "execution_count": null,
   "id": "c92ce081-a65a-47d4-afe3-de46b355f74f",
   "metadata": {},
   "outputs": [],
   "source": []
  },
  {
   "cell_type": "code",
   "execution_count": null,
   "id": "2bb76275-8531-4c76-9f1e-a693a6fbd9d0",
   "metadata": {},
   "outputs": [],
   "source": []
  },
  {
   "cell_type": "markdown",
   "id": "1e1f9003-67d0-49e4-a255-0a13d540761b",
   "metadata": {},
   "source": [
    "# Minimap 2 test"
   ]
  },
  {
   "cell_type": "code",
   "execution_count": null,
   "id": "c9d7016a-8ba7-405c-ad08-661b21cce55d",
   "metadata": {},
   "outputs": [],
   "source": [
    "# first, we need to build the reference fasta\n",
    "fpath = open(\"barcodes.fasta\", \"w\")\n",
    "\n",
    "for i, barcode in enumerate(df['putative_bc'].unique()):\n",
    "    if not barcode is np.nan:\n",
    "        print(f\">BC{i}\", file=fpath)\n",
    "        print(f\"{barcode}\", file=fpath)\n",
    "\n",
    "print('done')"
   ]
  },
  {
   "cell_type": "code",
   "execution_count": null,
   "id": "79194890-8089-4b41-ad74-39333f330216",
   "metadata": {},
   "outputs": [],
   "source": [
    "import subprocess\n",
    "\n",
    "def run_minimap2(sequence1_file, sequence2_file):\n",
    "    # Command to run minimap2\n",
    "    minimap2_command = f\"minimap2 -x asm5 {sequence1_file} {sequence2_file}\"\n",
    "    \n",
    "    # Execute the minimap2 command\n",
    "    try:\n",
    "        result = subprocess.run(minimap2_command, shell=True, check=True, capture_output=True, text=True)\n",
    "        alignment_output = result.stdout\n",
    "        return alignment_output\n",
    "    except subprocess.CalledProcessError as e:\n",
    "        print(\"Error running minimap2:\", e)\n",
    "        return None"
   ]
  },
  {
   "cell_type": "code",
   "execution_count": null,
   "id": "336c231b-1bed-4e80-a2f5-26bda29f2b9d",
   "metadata": {},
   "outputs": [],
   "source": [
    "mdf = []\n",
    "for idx, record in res.iterrows():\n",
    "    seq = record['seq']\n",
    "    for hit in a.map(seq):\n",
    "        row = {\n",
    "            'blen' : hit.blen,\n",
    "            'cigar' : hit.cigar,\n",
    "            'cigar_str' : hit.cigar_str,\n",
    "            'cs' : hit.cs,\n",
    "            'ctg' : hit.ctg,\n",
    "            'ctg_len' : hit.ctg_len,\n",
    "            'is_primary' : hit.is_primary,\n",
    "            'mapq' : hit.mapq,\n",
    "            'mlen' : hit.mlen,\n",
    "            'q_en' : hit.q_en,\n",
    "            'q_st' : hit.q_st,\n",
    "            'r_en' : hit.r_en,\n",
    "            'r_st' : hit.r_st,\n",
    "            'read_num' : hit.read_num,\n",
    "            'strand' : hit.strand,\n",
    "            'trans_strand' : hit.trans_strand,   \n",
    "        }\n",
    "\n",
    "        mdf.append(row)\n",
    "\n",
    "mdf = pd.DataFrame(mdf)\n",
    "mdf.head()"
   ]
  },
  {
   "cell_type": "code",
   "execution_count": null,
   "id": "a09f858c-97a2-493e-bacc-6affffe6d66b",
   "metadata": {},
   "outputs": [],
   "source": []
  },
  {
   "cell_type": "code",
   "execution_count": null,
   "id": "5447cf56-bb25-4083-825d-f986b1910c0a",
   "metadata": {},
   "outputs": [],
   "source": []
  },
  {
   "cell_type": "markdown",
   "id": "a815cc14-567e-49ae-b508-9476ed8e0ac2",
   "metadata": {},
   "source": [
    "# quick minimap2 test"
   ]
  },
  {
   "cell_type": "code",
   "execution_count": null,
   "id": "01421d5c-9585-4972-ac3a-cbbbb9f52bee",
   "metadata": {},
   "outputs": [],
   "source": [
    "fpath = \"../test.fa\"\n",
    "a = mp.Aligner(fpath, preset='map-ont', k=2)\n",
    "\n",
    "for hit in a.map(test_bc):\n",
    "    print(hit)"
   ]
  },
  {
   "cell_type": "code",
   "execution_count": null,
   "id": "be0353bf-ef83-4a09-aa2e-50b13bb6ff05",
   "metadata": {},
   "outputs": [],
   "source": []
  },
  {
   "cell_type": "code",
   "execution_count": null,
   "id": "f2dddebc-2c19-4b5e-aa1b-cca19e9f4788",
   "metadata": {},
   "outputs": [],
   "source": []
  }
 ],
 "metadata": {
  "kernelspec": {
   "display_name": "Python 3 (ipykernel)",
   "language": "python",
   "name": "python3"
  },
  "language_info": {
   "codemirror_mode": {
    "name": "ipython",
    "version": 3
   },
   "file_extension": ".py",
   "mimetype": "text/x-python",
   "name": "python",
   "nbconvert_exporter": "python",
   "pygments_lexer": "ipython3",
   "version": "3.9.7"
  }
 },
 "nbformat": 4,
 "nbformat_minor": 5
}
