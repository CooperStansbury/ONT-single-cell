{
 "cells": [
  {
   "cell_type": "code",
   "execution_count": 7,
   "id": "340e16bc-fe54-4389-99aa-0e7d9d69605d",
   "metadata": {},
   "outputs": [],
   "source": [
    "import pandas as pd\n",
    "import os\n",
    "import pysam\n",
    "import re\n"
   ]
  },
  {
   "cell_type": "code",
   "execution_count": 3,
   "id": "a51bce83-f10e-4d37-bd0c-462a2cfad720",
   "metadata": {},
   "outputs": [
    {
     "name": "stdout",
     "output_type": "stream",
     "text": [
      "@46a5d7cc-7c5f-4246-82b2-826a0b8303af runid=6b4d756869f81e015d18f9c855dae30aadfb6b5f read=16 ch=1643 start_time=2024-02-29T16:12:26.130845-05:00 flow_cell_id=PAU77412 protocol_group_id=2024-02-29-YvsO-cDNAPCR sample_id=YoungRNA_D28_2 barcode=barcode01 barcode_alias=barcode01 parent_read_id=46a5d7cc-7c5f-4246-82b2-826a0b8303af basecall_model_version_id=dna_r10.4.1_e8.2_400bps_hac@v4.2.0\n",
      "ATGTTACTGTAGCCCCTTGGTTCGGTTTTGCAGCCCCCGATATTCATGGCCTGTTAGTGACACAAGTTCTCGGTGTCTTTGTGACTTGCCTGTCGCTCTATCTTAGAGAGGAGAGTCCGCCGCCCGCAAGTTTTTTTTTTTTTTTTTTTTTGAAAGCAATATCAGCACCAACAGAAACACAAAGACACCGACAACTTTCTTGCC\n",
      "+\n",
      "$'((*'&%%&$##$$$%)%$$%%%$%(&&&&'%%%)*,+*))-.(&$\"\"$$&&''$$$$()))'(),1./&%%)=DBAADHB@?@BGCBEEBCE@@?=<,+)*,'(++.366::99;<8@==>DDACBAB@<9./1246789;>BGG=>@A==?>CGGDDAA?@AGEEDFEGFDIEFBCCCEGD>;6676<BBEGFGD@?;3&&\n"
     ]
    }
   ],
   "source": [
    "fpath = \"/nfs/turbo/umms-indikar/shared/projects/RECODE/2024-02-29-YvsO-cDNAPCR/merged_fastq/barcode01.fastq.gz\"\n",
    "\n",
    "fastq = pysam.FastqFile(fpath)\n",
    "\n",
    "for read in fastq:\n",
    "    print(read)\n",
    "    break"
   ]
  },
  {
   "cell_type": "code",
   "execution_count": 16,
   "id": "95f313b4-464d-4f48-93ad-54717236c3ca",
   "metadata": {},
   "outputs": [
    {
     "name": "stdout",
     "output_type": "stream",
     "text": [
      "(?:.{0,2TCGATTCCGTTTGTAGTCGTCTGTTTTCTGTTGGTGCTGATATTGC.{0,2})\n"
     ]
    },
    {
     "data": {
      "text/plain": [
       "False"
      ]
     },
     "execution_count": 16,
     "metadata": {},
     "output_type": "execute_result"
    }
   ],
   "source": [
    "read = 'ATGTGTGCCTGGTTCAGTTGCACAAGCCGATATTGGCAAAGCGTCTCCGTGACTCGATTCCGTTTGTAGTCGTCTGTTTTCTGTTGGTGCTGATATTGCTTTGAAATTAAGGTTGGGCTTAGACTTTGGGGAGTTGACGGAGTGAAGGCGGCTAGGAGTGGTTGTGTGGTCGCGTCTCGGAAACCGGTAGCGCTTGCCAGCATGGCTGACCAACTGACTGAAGAGCAGATTGCAGAATTCAAAGAAGCTTTTTCACTATTTGACAAAGATGGTGATGGAATTATAACAACAAAGGGATTGGGAACTGTAATGAGATCTCTTGGGCAGAATCCACAGAAGCAGAGTTACAGGACATGATTAATGAAGTAGATGCTGATGGTAATGGCACAATTGACTTCCTGAATTTCTGACAATGATGGCAAGAAAAATGAAAGACACAGACAGTGAAGAGAAATTAGAGAAGCATTCCGTGTGTTTGATAAGGATGGCAATGGCTATAT'\n",
    "\n",
    "barcode = \"TCGATTCCGTTTGTAGTCGTCTGT\"\n",
    "flank = \"TTTCTGTTGGTGCTGATATTGC\"\n",
    "search = f\"{barcode}{flank}\"\n",
    "\n",
    "\n",
    "find_with_mismatches(search.split(), read)"
   ]
  },
  {
   "cell_type": "code",
   "execution_count": 13,
   "id": "f287f98f-2d75-4752-a84c-1b207544d43b",
   "metadata": {},
   "outputs": [],
   "source": [
    "def find_with_mismatches(search_string, larger_string, max_mismatches=2):\n",
    "    # Constructing regex pattern allowing for up to max_mismatches character mismatches\n",
    "    regex_pattern = \"(?:.{0,\" + str(max_mismatches) + \"}\".join(search_string) + \".{0,\" + str(max_mismatches) + \"}\" + \")\"\n",
    "    print(regex_pattern)\n",
    "    \n",
    "    # Searching for the pattern in the larger string\n",
    "    match = re.search(regex_pattern, larger_string)\n",
    "    \n",
    "    return match is not None"
   ]
  },
  {
   "cell_type": "code",
   "execution_count": 12,
   "id": "881dea14-169b-47c1-82cc-58d4fe20a5f2",
   "metadata": {},
   "outputs": [
    {
     "data": {
      "text/plain": [
       "True"
      ]
     },
     "execution_count": 12,
     "metadata": {},
     "output_type": "execute_result"
    }
   ],
   "source": [
    "barcode in read"
   ]
  },
  {
   "cell_type": "code",
   "execution_count": null,
   "id": "bbc2bc6c-7ee2-4d47-9a91-17e263dcf570",
   "metadata": {},
   "outputs": [],
   "source": []
  }
 ],
 "metadata": {
  "kernelspec": {
   "display_name": "Python 3 (ipykernel)",
   "language": "python",
   "name": "python3"
  },
  "language_info": {
   "codemirror_mode": {
    "name": "ipython",
    "version": 3
   },
   "file_extension": ".py",
   "mimetype": "text/x-python",
   "name": "python",
   "nbconvert_exporter": "python",
   "pygments_lexer": "ipython3",
   "version": "3.9.7"
  }
 },
 "nbformat": 4,
 "nbformat_minor": 5
}
