{
 "cells": [
  {
   "cell_type": "code",
   "execution_count": 2,
   "id": "24caa62a-edc2-44fb-9973-d47dfa4675d8",
   "metadata": {},
   "outputs": [],
   "source": [
    "import pandas as pd\n",
    "import numpy as np\n",
    "import os\n",
    "import sys\n",
    "\n",
    "import pysam\n"
   ]
  },
  {
   "cell_type": "code",
   "execution_count": 54,
   "id": "32dbb89b-e927-4318-a553-4a590d3bfc1f",
   "metadata": {},
   "outputs": [
    {
     "name": "stdout",
     "output_type": "stream",
     "text": [
      "(61865, 12)\n"
     ]
    },
    {
     "data": {
      "text/html": [
       "<div>\n",
       "<style scoped>\n",
       "    .dataframe tbody tr th:only-of-type {\n",
       "        vertical-align: middle;\n",
       "    }\n",
       "\n",
       "    .dataframe tbody tr th {\n",
       "        vertical-align: top;\n",
       "    }\n",
       "\n",
       "    .dataframe thead th {\n",
       "        text-align: right;\n",
       "    }\n",
       "</style>\n",
       "<table border=\"1\" class=\"dataframe\">\n",
       "  <thead>\n",
       "    <tr style=\"text-align: right;\">\n",
       "      <th></th>\n",
       "      <th>Unnamed: 0</th>\n",
       "      <th>AATGGCTTCTATTTCG</th>\n",
       "      <th>ACTATTCCAATCGCCG</th>\n",
       "      <th>ATTCCCGAGTCACGCC</th>\n",
       "      <th>CCAATTTGTCGGATTT</th>\n",
       "      <th>CTAAGTGCAGAATGTA</th>\n",
       "      <th>GGTTCTCCAAGACCGA</th>\n",
       "      <th>TAAGCGTCAGAGTAAT</th>\n",
       "      <th>TAGGGTTGTCCACTCT</th>\n",
       "      <th>TCGAAGTGTATGCTTG</th>\n",
       "      <th>TGTTCATTCCACCTCA</th>\n",
       "      <th>TTACGCCAGTATGACA</th>\n",
       "    </tr>\n",
       "  </thead>\n",
       "  <tbody>\n",
       "    <tr>\n",
       "      <th>0</th>\n",
       "      <td>ENSG00000000003</td>\n",
       "      <td>0</td>\n",
       "      <td>0</td>\n",
       "      <td>0</td>\n",
       "      <td>0</td>\n",
       "      <td>0</td>\n",
       "      <td>0</td>\n",
       "      <td>0</td>\n",
       "      <td>0</td>\n",
       "      <td>0</td>\n",
       "      <td>0</td>\n",
       "      <td>0</td>\n",
       "    </tr>\n",
       "    <tr>\n",
       "      <th>1</th>\n",
       "      <td>ENSG00000000005</td>\n",
       "      <td>0</td>\n",
       "      <td>0</td>\n",
       "      <td>0</td>\n",
       "      <td>0</td>\n",
       "      <td>0</td>\n",
       "      <td>0</td>\n",
       "      <td>0</td>\n",
       "      <td>0</td>\n",
       "      <td>0</td>\n",
       "      <td>0</td>\n",
       "      <td>0</td>\n",
       "    </tr>\n",
       "    <tr>\n",
       "      <th>2</th>\n",
       "      <td>ENSG00000000419</td>\n",
       "      <td>0</td>\n",
       "      <td>0</td>\n",
       "      <td>0</td>\n",
       "      <td>0</td>\n",
       "      <td>0</td>\n",
       "      <td>0</td>\n",
       "      <td>0</td>\n",
       "      <td>0</td>\n",
       "      <td>0</td>\n",
       "      <td>0</td>\n",
       "      <td>0</td>\n",
       "    </tr>\n",
       "    <tr>\n",
       "      <th>3</th>\n",
       "      <td>ENSG00000000457</td>\n",
       "      <td>0</td>\n",
       "      <td>0</td>\n",
       "      <td>0</td>\n",
       "      <td>0</td>\n",
       "      <td>0</td>\n",
       "      <td>0</td>\n",
       "      <td>0</td>\n",
       "      <td>0</td>\n",
       "      <td>0</td>\n",
       "      <td>0</td>\n",
       "      <td>0</td>\n",
       "    </tr>\n",
       "    <tr>\n",
       "      <th>4</th>\n",
       "      <td>ENSG00000000460</td>\n",
       "      <td>0</td>\n",
       "      <td>0</td>\n",
       "      <td>0</td>\n",
       "      <td>0</td>\n",
       "      <td>0</td>\n",
       "      <td>0</td>\n",
       "      <td>0</td>\n",
       "      <td>0</td>\n",
       "      <td>0</td>\n",
       "      <td>0</td>\n",
       "      <td>0</td>\n",
       "    </tr>\n",
       "  </tbody>\n",
       "</table>\n",
       "</div>"
      ],
      "text/plain": [
       "        Unnamed: 0  AATGGCTTCTATTTCG  ACTATTCCAATCGCCG  ATTCCCGAGTCACGCC  \\\n",
       "0  ENSG00000000003                 0                 0                 0   \n",
       "1  ENSG00000000005                 0                 0                 0   \n",
       "2  ENSG00000000419                 0                 0                 0   \n",
       "3  ENSG00000000457                 0                 0                 0   \n",
       "4  ENSG00000000460                 0                 0                 0   \n",
       "\n",
       "   CCAATTTGTCGGATTT  CTAAGTGCAGAATGTA  GGTTCTCCAAGACCGA  TAAGCGTCAGAGTAAT  \\\n",
       "0                 0                 0                 0                 0   \n",
       "1                 0                 0                 0                 0   \n",
       "2                 0                 0                 0                 0   \n",
       "3                 0                 0                 0                 0   \n",
       "4                 0                 0                 0                 0   \n",
       "\n",
       "   TAGGGTTGTCCACTCT  TCGAAGTGTATGCTTG  TGTTCATTCCACCTCA  TTACGCCAGTATGACA  \n",
       "0                 0                 0                 0                 0  \n",
       "1                 0                 0                 0                 0  \n",
       "2                 0                 0                 0                 0  \n",
       "3                 0                 0                 0                 0  \n",
       "4                 0                 0                 0                 0  "
      ]
     },
     "execution_count": 54,
     "metadata": {},
     "output_type": "execute_result"
    }
   ],
   "source": [
    "fpath = 'test.counts'\n",
    "\n",
    "df = pd.read_csv(fpath, sep='\\t')\n",
    "print(df.shape)\n",
    "df.head()"
   ]
  },
  {
   "cell_type": "code",
   "execution_count": 50,
   "id": "00680de9-2228-478f-a36e-d7876b296c50",
   "metadata": {},
   "outputs": [
    {
     "name": "stdout",
     "output_type": "stream",
     "text": [
      "2047b776-aeeb-4c04-8903-a695f59ef57a GGTTCTCCAAGACCGA CAAATTACACTG\n",
      "8d965058-38a9-41ef-beb0-84e087b80d4a TAGGGTTGTCCACTCT ACACTTTAGTAA\n",
      "2eb1f1c0-af58-44dc-873d-2f24f13b8517 TTACGCCAGTATGACA TGGCAGCGAAAC\n",
      "ae85c9e5-2899-4cd8-b53a-878e8698083e TCGAAGTGTATGCTTG CTGGCTAAATTG\n",
      "a30097bb-093c-4242-820d-ae6b5aad07b0 AATGGCTTCTATTTCG GGTAGCTTTGCC\n",
      "a5f7f595-7333-4752-ae9e-2f13f8824b2d ACTATTCCAATCGCCG CTGTGCGCCAGT\n",
      "6c8f9c48-af1a-49bb-93bd-b56714c4a947 CCAATTTGTCGGATTT GAAATAGGGATT\n",
      "74e927c5-81fa-46c6-9899-4c94c45563ef TAAGCGTCAGAGTAAT TTACATGTAATC\n",
      "84966d27-47a7-4d7c-ab3c-78a3cdfc5df7 ATTCCCGAGTCACGCC CGATCGAAAAAG\n",
      "dd000236-a152-4995-aa1a-5d4f787d576f TGTTCATTCCACCTCA GAAGCATTATTT\n",
      "25aa4bc2-b12d-4caf-859c-f918daf9b341 CTAAGTGCAGAATGTA TATAGGTTTTTT\n"
     ]
    }
   ],
   "source": [
    "in_bam = \"/scratch/indikar_root/indikar1/cstansbu/sc-iHSC/alignments/alignments.sorted.bam\"\n",
    "out_bam = \"test.sorted.bam\"\n",
    "\n",
    "\n",
    "count = 0\n",
    "with pysam.AlignmentFile(in_bam, \"rb\") as bam_in:\n",
    "    with pysam.AlignmentFile(out_bam, \"wb\", template=bam_in) as bam_out:\n",
    "        for align in bam_in:\n",
    "\n",
    "            barcode = align.query_name.split('_')[0]\n",
    "            umi = align.query_name.split('_')[1].split(\"#\")[0]\n",
    "            read_name = align.query_name.split(\"#\")[1][:-2]\n",
    "\n",
    "            print(read_name, barcode, umi)\n",
    "            align.set_tag('CB', barcode, value_type=\"Z\")\n",
    "            align.set_tag('UB', umi, value_type=\"Z\")\n",
    "            align.set_tag('RD', read_name, value_type=\"Z\")\n",
    "\n",
    "\n",
    "            bam_out.write(align)\n",
    "\n",
    "            \n",
    "            count += 1\n",
    "            if count > 10:\n",
    "                break\n",
    "                \n",
    "            \n",
    "\n",
    "\n",
    "# # in_bam = pysam.AlignmentFile(inpath, \"rb\")\n",
    "\n",
    "# count = 0\n",
    "# for align in bam:\n",
    "#     count =+ 1\n",
    "#     break\n",
    "\n",
    "    # if count > 10:\n",
    "    #     break\n",
    "\n",
    "\n",
    "        \n",
    "    # break"
   ]
  },
  {
   "cell_type": "code",
   "execution_count": 17,
   "id": "58e64799-693b-4a5b-b4ad-a214e1cb176e",
   "metadata": {},
   "outputs": [
    {
     "name": "stdout",
     "output_type": "stream",
     "text": [
      "['__class__', '__copy__', '__deepcopy__', '__delattr__', '__dir__', '__doc__', '__eq__', '__format__', '__ge__', '__getattribute__', '__gt__', '__hash__', '__init__', '__init_subclass__', '__le__', '__lt__', '__ne__', '__new__', '__pyx_vtable__', '__reduce__', '__reduce_ex__', '__repr__', '__setattr__', '__setstate__', '__sizeof__', '__str__', '__subclasshook__', 'aend', 'alen', 'aligned_pairs', 'bin', 'blocks', 'cigar', 'cigarstring', 'cigartuples', 'compare', 'flag', 'from_dict', 'fromstring', 'get_aligned_pairs', 'get_blocks', 'get_cigar_stats', 'get_forward_qualities', 'get_forward_sequence', 'get_overlap', 'get_reference_positions', 'get_reference_sequence', 'get_tag', 'get_tags', 'has_tag', 'header', 'infer_query_length', 'infer_read_length', 'inferred_length', 'is_duplicate', 'is_forward', 'is_mapped', 'is_paired', 'is_proper_pair', 'is_qcfail', 'is_read1', 'is_read2', 'is_reverse', 'is_secondary', 'is_supplementary', 'is_unmapped', 'isize', 'mapping_quality', 'mapq', 'mate_is_forward', 'mate_is_mapped', 'mate_is_reverse', 'mate_is_unmapped', 'modified_bases', 'modified_bases_forward', 'mpos', 'mrnm', 'next_reference_id', 'next_reference_name', 'next_reference_start', 'opt', 'overlap', 'pnext', 'pos', 'positions', 'qend', 'qlen', 'qname', 'qqual', 'qstart', 'qual', 'query', 'query_alignment_end', 'query_alignment_length', 'query_alignment_qualities', 'query_alignment_sequence', 'query_alignment_start', 'query_length', 'query_name', 'query_qualities', 'query_sequence', 'reference_end', 'reference_id', 'reference_length', 'reference_name', 'reference_start', 'rlen', 'rname', 'rnext', 'seq', 'setTag', 'set_tag', 'set_tags', 'tags', 'template_length', 'tid', 'tlen', 'to_dict', 'to_string', 'tostring']\n"
     ]
    }
   ],
   "source": [
    "print(list(dir(align)))"
   ]
  },
  {
   "cell_type": "code",
   "execution_count": 42,
   "id": "00b21194-c5d1-4d65-8f86-d316843417c9",
   "metadata": {},
   "outputs": [],
   "source": [
    "align.setTag(\"CB\", align.query_name.split('_')[0])\n",
    "align.setTag(\"UB\", align.query_name.split('_')[1].split(\"#\")[0])\n",
    "align.setTag(\"RD\", align.query_name.split(\"#\")[1].replace(\"_\", \"\")[:-1])"
   ]
  },
  {
   "cell_type": "code",
   "execution_count": 43,
   "id": "ee622f0d-00d2-43ef-b5ae-a81274328147",
   "metadata": {},
   "outputs": [
    {
     "data": {
      "text/plain": [
       "[('NM', 4),\n",
       " ('ms', 317),\n",
       " ('AS', 317),\n",
       " ('nn', 0),\n",
       " ('ts', '+'),\n",
       " ('tp', 'P'),\n",
       " ('cm', 31),\n",
       " ('s1', 155),\n",
       " ('s2', 0),\n",
       " ('de', 0.01209999993443489),\n",
       " ('MD', '5^A53G7G262'),\n",
       " ('rl', 268),\n",
       " ('CB', 'GATAGAAGTACCAGAG'),\n",
       " ('UB', 'GCTAATGAGTAG'),\n",
       " ('RD', 'ffa5cb0c-acb8-49b3-b0cb-9c757ec92615')]"
      ]
     },
     "execution_count": 43,
     "metadata": {},
     "output_type": "execute_result"
    }
   ],
   "source": [
    "align.tags"
   ]
  },
  {
   "cell_type": "code",
   "execution_count": null,
   "id": "e55209c8-ccd9-4409-a08b-22730dd2e7f5",
   "metadata": {},
   "outputs": [],
   "source": []
  }
 ],
 "metadata": {
  "kernelspec": {
   "display_name": "Python 3 (ipykernel)",
   "language": "python",
   "name": "python3"
  },
  "language_info": {
   "codemirror_mode": {
    "name": "ipython",
    "version": 3
   },
   "file_extension": ".py",
   "mimetype": "text/x-python",
   "name": "python",
   "nbconvert_exporter": "python",
   "pygments_lexer": "ipython3",
   "version": "3.9.7"
  }
 },
 "nbformat": 4,
 "nbformat_minor": 5
}
