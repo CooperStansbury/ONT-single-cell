{
 "cells": [
  {
   "cell_type": "code",
   "execution_count": 1,
   "id": "510e5ab5-4f42-44cb-942b-73250d084cd0",
   "metadata": {},
   "outputs": [],
   "source": [
    "import pandas as pd\n",
    "import os\n",
    "import sys\n",
    "import numpy as np"
   ]
  },
  {
   "cell_type": "code",
   "execution_count": 2,
   "id": "f719eedb-72d2-411d-85ff-4aa96d9b88ac",
   "metadata": {},
   "outputs": [
    {
     "name": "stdout",
     "output_type": "stream",
     "text": [
      "df.shape=(6794880, 1)\n"
     ]
    },
    {
     "data": {
      "text/html": [
       "<div>\n",
       "<style scoped>\n",
       "    .dataframe tbody tr th:only-of-type {\n",
       "        vertical-align: middle;\n",
       "    }\n",
       "\n",
       "    .dataframe tbody tr th {\n",
       "        vertical-align: top;\n",
       "    }\n",
       "\n",
       "    .dataframe thead th {\n",
       "        text-align: right;\n",
       "    }\n",
       "</style>\n",
       "<table border=\"1\" class=\"dataframe\">\n",
       "  <thead>\n",
       "    <tr style=\"text-align: right;\">\n",
       "      <th></th>\n",
       "      <th>cell_id</th>\n",
       "      <th>barcode</th>\n",
       "    </tr>\n",
       "  </thead>\n",
       "  <tbody>\n",
       "    <tr>\n",
       "      <th>0</th>\n",
       "      <td>cell_1</td>\n",
       "      <td>AAACCCAAGAAACACT</td>\n",
       "    </tr>\n",
       "    <tr>\n",
       "      <th>1</th>\n",
       "      <td>cell_2</td>\n",
       "      <td>AAACCCAAGAAACCAT</td>\n",
       "    </tr>\n",
       "    <tr>\n",
       "      <th>2</th>\n",
       "      <td>cell_3</td>\n",
       "      <td>AAACCCAAGAAACCCA</td>\n",
       "    </tr>\n",
       "    <tr>\n",
       "      <th>3</th>\n",
       "      <td>cell_4</td>\n",
       "      <td>AAACCCAAGAAACCCG</td>\n",
       "    </tr>\n",
       "    <tr>\n",
       "      <th>4</th>\n",
       "      <td>cell_5</td>\n",
       "      <td>AAACCCAAGAAACCTG</td>\n",
       "    </tr>\n",
       "  </tbody>\n",
       "</table>\n",
       "</div>"
      ],
      "text/plain": [
       "  cell_id           barcode\n",
       "0  cell_1  AAACCCAAGAAACACT\n",
       "1  cell_2  AAACCCAAGAAACCAT\n",
       "2  cell_3  AAACCCAAGAAACCCA\n",
       "3  cell_4  AAACCCAAGAAACCCG\n",
       "4  cell_5  AAACCCAAGAAACCTG"
      ]
     },
     "execution_count": 2,
     "metadata": {},
     "output_type": "execute_result"
    }
   ],
   "source": [
    "fpath = \"/nfs/turbo/umms-indikar/shared/projects/HSC/data/10xBarcoded_SingleCell/demulti/3M-february-2018.txt.gz\"\n",
    "outpath = \"/nfs/turbo/umms-indikar/shared/projects/HSC/data/10xBarcoded_SingleCell/demulti/barcodes.csv\"\n",
    "\n",
    "df = pd.read_csv(fpath, header=None)\n",
    "print(f\"{df.shape=}\")\n",
    "\n",
    "df.columns = ['barcode']\n",
    "\n",
    "df = df.reset_index()\n",
    "df = df.rename(columns={\"index\":\"cell_id\"})\n",
    "df['cell_id'] = df['cell_id'] + 1\n",
    "df['cell_id'] = \"cell_\" + df['cell_id'].astype(str) \n",
    "\n",
    "# write the barcodes as csv\n",
    "df.to_csv(outpath, index=False)\n",
    "\n",
    "df.head()"
   ]
  },
  {
   "cell_type": "code",
   "execution_count": 3,
   "id": "df043bba-014e-4eda-bf00-ad0541975a9f",
   "metadata": {},
   "outputs": [
    {
     "name": "stdout",
     "output_type": "stream",
     "text": [
      "0...\n",
      "250000...\n",
      "500000...\n",
      "750000...\n",
      "1000000...\n",
      "1250000...\n",
      "1500000...\n",
      "1750000...\n",
      "2000000...\n",
      "2250000...\n",
      "2500000...\n",
      "2750000...\n",
      "3000000...\n",
      "3250000...\n",
      "3500000...\n",
      "3750000...\n",
      "4000000...\n",
      "4250000...\n",
      "4500000...\n",
      "4750000...\n",
      "5000000...\n",
      "5250000...\n",
      "5500000...\n",
      "5750000...\n",
      "6000000...\n",
      "6250000...\n",
      "6500000...\n",
      "6750000...\n",
      "done\n"
     ]
    }
   ],
   "source": [
    "fasta_path = \"/nfs/turbo/umms-indikar/shared/projects/HSC/data/10xBarcoded_SingleCell/demulti/barcodes.fa\"\n",
    "\n",
    "# write barcodes as fasta\n",
    "try:\n",
    "    os.remove(fasta_path)\n",
    "except OSError:\n",
    "    pass\n",
    "\n",
    "myfile = open(fasta_path, 'w')\n",
    "    \n",
    "for idx, row in df.iterrows():\n",
    "    if idx % 250000 == 0:\n",
    "        print(f\"{idx}...\")\n",
    "    header = f\">{row['cell_id']}\\n\"\n",
    "    footer = f\"{row['barcode']}\\n\"\n",
    "\n",
    "    myfile.write(header)\n",
    "    myfile.write(footer)\n",
    "    \n",
    "myfile.close()\n",
    "print('done')"
   ]
  },
  {
   "cell_type": "code",
   "execution_count": null,
   "id": "f17711b7-4cb5-43d6-b7af-44a3ba8c4695",
   "metadata": {},
   "outputs": [],
   "source": []
  }
 ],
 "metadata": {
  "kernelspec": {
   "display_name": "Python 3 (ipykernel)",
   "language": "python",
   "name": "python3"
  },
  "language_info": {
   "codemirror_mode": {
    "name": "ipython",
    "version": 3
   },
   "file_extension": ".py",
   "mimetype": "text/x-python",
   "name": "python",
   "nbconvert_exporter": "python",
   "pygments_lexer": "ipython3",
   "version": "3.9.7"
  }
 },
 "nbformat": 4,
 "nbformat_minor": 5
}
