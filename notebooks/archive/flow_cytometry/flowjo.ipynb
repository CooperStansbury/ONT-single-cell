{
 "cells": [
  {
   "cell_type": "code",
   "execution_count": 1,
   "id": "0310e6a1-6cfa-4e85-85b6-d3f09569d930",
   "metadata": {},
   "outputs": [],
   "source": [
    "import pandas as pd\n",
    "import numpy as np\n",
    "import os\n",
    "import matplotlib.pyplot as plt\n",
    "import seaborn as sns\n",
    "from mpl_toolkits.axes_grid1.axes_divider import make_axes_locatable\n",
    "\n",
    "import flowkit as fk\n"
   ]
  },
  {
   "cell_type": "code",
   "execution_count": 3,
   "id": "06c74199-8afe-427e-8b5e-f310928b2f97",
   "metadata": {},
   "outputs": [
    {
     "name": "stderr",
     "output_type": "stream",
     "text": [
      "/home/cstansbu/miniconda3/envs/flowcytometry/lib/python3.12/site-packages/flowkit/_models/workspace.py:117: UserWarning: WSP references [ D2 eGFP 1.fcs ], but sample was not loaded.\n",
      "  warnings.warn(msg)\n",
      "/home/cstansbu/miniconda3/envs/flowcytometry/lib/python3.12/site-packages/flowkit/_models/workspace.py:117: UserWarning: WSP references [ D3 eGFP 0.1.fcs ], but sample was not loaded.\n",
      "  warnings.warn(msg)\n",
      "/home/cstansbu/miniconda3/envs/flowcytometry/lib/python3.12/site-packages/flowkit/_models/workspace.py:117: UserWarning: WSP references [ D4 eGFP 0.01.fcs ], but sample was not loaded.\n",
      "  warnings.warn(msg)\n",
      "/home/cstansbu/miniconda3/envs/flowcytometry/lib/python3.12/site-packages/flowkit/_models/workspace.py:117: UserWarning: WSP references [ A1 SS L-D Yellow.fcs ], but sample was not loaded.\n",
      "  warnings.warn(msg)\n",
      "/home/cstansbu/miniconda3/envs/flowcytometry/lib/python3.12/site-packages/flowkit/_models/workspace.py:117: UserWarning: WSP references [ A2 SS CD34 A488.fcs ], but sample was not loaded.\n",
      "  warnings.warn(msg)\n",
      "/home/cstansbu/miniconda3/envs/flowcytometry/lib/python3.12/site-packages/flowkit/_models/workspace.py:117: UserWarning: WSP references [ A3  SS CD90 PE.fcs ], but sample was not loaded.\n",
      "  warnings.warn(msg)\n",
      "/home/cstansbu/miniconda3/envs/flowcytometry/lib/python3.12/site-packages/flowkit/_models/workspace.py:117: UserWarning: WSP references [ A4 SS CD143 PE-Cy7.fcs ], but sample was not loaded.\n",
      "  warnings.warn(msg)\n",
      "/home/cstansbu/miniconda3/envs/flowcytometry/lib/python3.12/site-packages/flowkit/_models/workspace.py:117: UserWarning: WSP references [ B6 FH3 Inactive.fcs ], but sample was not loaded.\n",
      "  warnings.warn(msg)\n",
      "/home/cstansbu/miniconda3/envs/flowcytometry/lib/python3.12/site-packages/flowkit/_models/workspace.py:117: UserWarning: WSP references [ B7 FH3.fcs ], but sample was not loaded.\n",
      "  warnings.warn(msg)\n",
      "/home/cstansbu/miniconda3/envs/flowcytometry/lib/python3.12/site-packages/flowkit/_models/workspace.py:117: UserWarning: WSP references [ B8 FH3 lo.fcs ], but sample was not loaded.\n",
      "  warnings.warn(msg)\n",
      "/home/cstansbu/miniconda3/envs/flowcytometry/lib/python3.12/site-packages/flowkit/_models/workspace.py:117: UserWarning: WSP references [ C1 FH6 Inactive.fcs ], but sample was not loaded.\n",
      "  warnings.warn(msg)\n",
      "/home/cstansbu/miniconda3/envs/flowcytometry/lib/python3.12/site-packages/flowkit/_models/workspace.py:117: UserWarning: WSP references [ C2 FH6.fcs ], but sample was not loaded.\n",
      "  warnings.warn(msg)\n",
      "/home/cstansbu/miniconda3/envs/flowcytometry/lib/python3.12/site-packages/flowkit/_models/workspace.py:117: UserWarning: WSP references [ C3 FH6 lo.fcs ], but sample was not loaded.\n",
      "  warnings.warn(msg)\n",
      "/home/cstansbu/miniconda3/envs/flowcytometry/lib/python3.12/site-packages/flowkit/_models/workspace.py:117: UserWarning: WSP references [ C4 FH7.fcs ], but sample was not loaded.\n",
      "  warnings.warn(msg)\n",
      "/home/cstansbu/miniconda3/envs/flowcytometry/lib/python3.12/site-packages/flowkit/_models/workspace.py:117: UserWarning: WSP references [ C5 FH7 lo.fcs ], but sample was not loaded.\n",
      "  warnings.warn(msg)\n",
      "/home/cstansbu/miniconda3/envs/flowcytometry/lib/python3.12/site-packages/flowkit/_models/workspace.py:117: UserWarning: WSP references [ C6 FH8.fcs ], but sample was not loaded.\n",
      "  warnings.warn(msg)\n",
      "/home/cstansbu/miniconda3/envs/flowcytometry/lib/python3.12/site-packages/flowkit/_models/workspace.py:117: UserWarning: WSP references [ C7 FH8 lo.fcs ], but sample was not loaded.\n",
      "  warnings.warn(msg)\n",
      "/home/cstansbu/miniconda3/envs/flowcytometry/lib/python3.12/site-packages/flowkit/_models/workspace.py:117: UserWarning: WSP references [ A5 SS CD49f APC.fcs ], but sample was not loaded.\n",
      "  warnings.warn(msg)\n",
      "/home/cstansbu/miniconda3/envs/flowcytometry/lib/python3.12/site-packages/flowkit/_models/workspace.py:117: UserWarning: WSP references [ A6 SS CD9 APC-f750.fcs ], but sample was not loaded.\n",
      "  warnings.warn(msg)\n",
      "/home/cstansbu/miniconda3/envs/flowcytometry/lib/python3.12/site-packages/flowkit/_models/workspace.py:117: UserWarning: WSP references [ A7 Negative FMO A488 CD34.fcs ], but sample was not loaded.\n",
      "  warnings.warn(msg)\n",
      "/home/cstansbu/miniconda3/envs/flowcytometry/lib/python3.12/site-packages/flowkit/_models/workspace.py:117: UserWarning: WSP references [ A8 Negative FMO PE CD90.fcs ], but sample was not loaded.\n",
      "  warnings.warn(msg)\n",
      "/home/cstansbu/miniconda3/envs/flowcytometry/lib/python3.12/site-packages/flowkit/_models/workspace.py:117: UserWarning: WSP references [ B1 Negative FMO PE-Cy7 CD143.fcs ], but sample was not loaded.\n",
      "  warnings.warn(msg)\n",
      "/home/cstansbu/miniconda3/envs/flowcytometry/lib/python3.12/site-packages/flowkit/_models/workspace.py:117: UserWarning: WSP references [ B2 Negative FMO APC CD49f.fcs ], but sample was not loaded.\n",
      "  warnings.warn(msg)\n",
      "/home/cstansbu/miniconda3/envs/flowcytometry/lib/python3.12/site-packages/flowkit/_models/workspace.py:117: UserWarning: WSP references [ B3 Negative FMO APC-f750 CD9.fcs ], but sample was not loaded.\n",
      "  warnings.warn(msg)\n",
      "/home/cstansbu/miniconda3/envs/flowcytometry/lib/python3.12/site-packages/flowkit/_models/workspace.py:117: UserWarning: WSP references [ B4 Negative Unstained.fcs ], but sample was not loaded.\n",
      "  warnings.warn(msg)\n",
      "/home/cstansbu/miniconda3/envs/flowcytometry/lib/python3.12/site-packages/flowkit/_models/workspace.py:117: UserWarning: WSP references [ B5 Negative HSC Stain.fcs ], but sample was not loaded.\n",
      "  warnings.warn(msg)\n",
      "/home/cstansbu/miniconda3/envs/flowcytometry/lib/python3.12/site-packages/flowkit/_models/workspace.py:117: UserWarning: WSP references [ C8 BM 2 ul.fcs ], but sample was not loaded.\n",
      "  warnings.warn(msg)\n",
      "/home/cstansbu/miniconda3/envs/flowcytometry/lib/python3.12/site-packages/flowkit/_models/workspace.py:117: UserWarning: WSP references [ D1 BM 5 ul.fcs ], but sample was not loaded.\n",
      "  warnings.warn(msg)\n"
     ]
    }
   ],
   "source": [
    "sample_path = \"/nfs/turbo/umms-lindmuir/hsc_fcs/F2HS_7/20240621_F2HS7_new/facs/\"\n",
    "wsp_path = \"/nfs/turbo/umms-lindmuir/hsc_fcs/F2HS_7/20240621_F2HS7_new/workspace/14 Aug 2023 F2HS#7.wsp\"\n",
    "\n",
    "workspace = fk.Workspace(wsp_path, fcs_samples=sample_path)"
   ]
  },
  {
   "cell_type": "code",
   "execution_count": 5,
   "id": "0e441b90-e56d-44fc-864b-10092b86c126",
   "metadata": {},
   "outputs": [
    {
     "data": {
      "text/plain": [
       "[]"
      ]
     },
     "execution_count": 5,
     "metadata": {},
     "output_type": "execute_result"
    }
   ],
   "source": [
    "workspace.get_sample_ids()"
   ]
  },
  {
   "cell_type": "code",
   "execution_count": null,
   "id": "4e2a267c-e6ea-4ddc-9c87-dd32ff6b7580",
   "metadata": {},
   "outputs": [],
   "source": []
  }
 ],
 "metadata": {
  "kernelspec": {
   "display_name": "flowcytometry",
   "language": "python",
   "name": "flowcytometry"
  },
  "language_info": {
   "codemirror_mode": {
    "name": "ipython",
    "version": 3
   },
   "file_extension": ".py",
   "mimetype": "text/x-python",
   "name": "python",
   "nbconvert_exporter": "python",
   "pygments_lexer": "ipython3",
   "version": "3.12.4"
  }
 },
 "nbformat": 4,
 "nbformat_minor": 5
}
